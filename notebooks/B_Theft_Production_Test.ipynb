{
 "cells": [
  {
   "cell_type": "code",
   "execution_count": 8,
   "id": "85f3a124",
   "metadata": {},
   "outputs": [],
   "source": [
    "# URL Download\n",
    "import csv\n",
    "import io\n",
    "import urllib.request\n",
    "import requests\n",
    "\n",
    "import pandas as pd\n",
    "import numpy as np"
   ]
  },
  {
   "cell_type": "code",
   "execution_count": 1,
   "id": "d4f1df01",
   "metadata": {},
   "outputs": [],
   "source": [
    "# Read in data from the Berlin Polizei URL\n",
    "def load_data():\n",
    "    url = \"https://www.internetwache-polizei-berlin.de/vdb/Fahrraddiebstahl.csv\"\n",
    "    download = requests.get(url)\n",
    "    decoded_content = download.content.decode('ISO-8859-1')\n",
    "    file = decoded_content.splitlines()\n",
    "\n",
    "    cr = csv.DictReader(file, delimiter=',')\n",
    "    my_list = list(cr)\n",
    "    df  = pd.DataFrame(my_list)\n",
    "    return df"
   ]
  },
  {
   "cell_type": "code",
   "execution_count": 2,
   "id": "bf024f3f",
   "metadata": {},
   "outputs": [],
   "source": [
    "###################################\n",
    "###  Clean data ######\n",
    "\n",
    "#dict to translate from German to English\n",
    "eng_col_names = {\n",
    "    \"ANGELEGT_AM\": \"date_reported\",\n",
    "    \"TATZEIT_ANFANG_DATUM\": \"date_theft_start\",\n",
    "    \"TATZEIT_ANFANG_STUNDE\": \"hour_theft_start\",\n",
    "    \"TATZEIT_ENDE_DATUM\": \"date_theft_end\",\n",
    "    \"TATZEIT_ENDE_STUNDE\": \"hour_theft_end\",\n",
    "    \"LOR\": \"LOR\",\n",
    "    \"SCHADENSHOEHE\": \"estimated_value\",\n",
    "    \"VERSUCH\": \"attempt\",\n",
    "    \"ART_DES_FAHRRADS\": \"type_bike\", \n",
    "    \"DELIKT\": \"theft_type\",\n",
    "    \"ERFASSUNGSGRUND\": \"theft_type_detail\"    \n",
    "}\n",
    "\n",
    "# define function for renaming the categories\n",
    "def rename_type_bike(x): \n",
    "    if x == \"Herrenfahrrad\": \n",
    "        return \"man's bike\"\n",
    "    if x == \"Damenfahrrad\":\n",
    "        return \"woman's bike\"\n",
    "    if x == \"Fahrrad\":\n",
    "        return \"bike\"\n",
    "    if x == \"Kinderfahrrad\":\n",
    "        return \"child's bike\"\n",
    "    else: \n",
    "        return \"other bike\"\n",
    "\n",
    "# dictionary for \"attempt\"\n",
    "attempt_dict = {\n",
    "    \"Ja\": \"Yes\", \n",
    "    \"Nein\": \"No\", \n",
    "    \"Unbekannt\": \"Unknown\"\n",
    "}"
   ]
  },
  {
   "cell_type": "code",
   "execution_count": 3,
   "id": "77ff6580",
   "metadata": {},
   "outputs": [],
   "source": [
    "# Concatenates translation of column and category names, \n",
    "#  conversion of dtypes, drop duplicates and create \n",
    "#  higher regional levels from LOR\n",
    "def clean_theft_data(d):\n",
    "    \"\"\"returns a clean dataframe\"\"\"\n",
    "    #translate columns to English\n",
    "    d.rename(columns= eng_col_names, inplace=True)\n",
    "    \n",
    "    #translate bike type to English\n",
    "    d[\"type_bike\"] = d[\"type_bike\"].apply(rename_type_bike)\n",
    "    \n",
    "    #translate attempt type to English\n",
    "    d[\"attempt\"] = d[\"attempt\"].map(attempt_dict)\n",
    "    \n",
    "    # convert the date columns to format='%d.%m.%Y\n",
    "    d[\"date_reported\"] = pd.to_datetime(d[\"date_reported\"], format='%d.%m.%Y')\n",
    "    d[\"date_theft_start\"] = pd.to_datetime(d[\"date_theft_start\"], format='%d.%m.%Y')\n",
    "    d[\"date_theft_end\"] = pd.to_datetime(d[\"date_theft_end\"], format='%d.%m.%Y')\n",
    "    \n",
    "    # convert the time columns to int\n",
    "    d[\"hour_theft_start\"] = d[\"hour_theft_start\"].astype(int)\n",
    "    d[\"hour_theft_end\"] = d[\"hour_theft_end\"].astype(int)\n",
    "    \n",
    "    #convert value column to float\n",
    "    d[\"estimated_value\"] = d[\"estimated_value\"].astype(float)\n",
    "    \n",
    "    #drop duplicates\n",
    "    d = d.drop_duplicates()\n",
    "    \n",
    "    # BZR (first six numbers)\n",
    "    d[\"BZR\"] = d[\"LOR\"].str[:6]\n",
    "    \n",
    "    # PGR (first four numbers)\n",
    "    d[\"PGR\"] = d[\"LOR\"].str[:4]\n",
    "    \n",
    "    # Bezirk (first four numbers)\n",
    "    d[\"Bezirk\"] = d[\"LOR\"].str[:2]\n",
    "    \n",
    "    return d"
   ]
  },
  {
   "cell_type": "code",
   "execution_count": 4,
   "id": "351eeeb9",
   "metadata": {},
   "outputs": [],
   "source": [
    "# Group by bezirk and sum up\n",
    "def pivot_theft_data(d):\n",
    "    d = d.pivot_table(index = \"date_theft_start\", columns = \"Bezirk\", values = \"type_bike\", aggfunc= \"count\")\n",
    "    d.fillna(value = 0, inplace=True)\n",
    "    return d"
   ]
  },
  {
   "cell_type": "code",
   "execution_count": 5,
   "id": "b64d50e9",
   "metadata": {},
   "outputs": [],
   "source": [
    "# Calculate percentage theft by Bezirk\n",
    "def perc_split_bezirk(d):\n",
    "    \"\"\"returns df showing % split of bikes stolen over the last 2 weeks per Bezirk in Berlin\"\"\"\n",
    "    d = d[-15:]\n",
    "    d.loc['perc_split']= d.sum()\n",
    "    d = d.div(d.sum(axis=1), axis=0)\n",
    "    d = d.iloc[-1]\n",
    "    return pd.DataFrame(d)"
   ]
  },
  {
   "cell_type": "code",
   "execution_count": 35,
   "id": "f32dad9d",
   "metadata": {},
   "outputs": [],
   "source": [
    "def calculate_rolling_average(df, window_size):\n",
    "    fill_value = df[\"total\"][-window_size:].mean()\n",
    "    df[\"total_moving_average\"] = df[\"total\"].rolling(window = window_size, center = True).mean().fillna(fill_value)"
   ]
  },
  {
   "cell_type": "code",
   "execution_count": 114,
   "id": "0dc84d60",
   "metadata": {},
   "outputs": [],
   "source": [
    "# Create the dataframe for the modelling\n",
    "def create_modelling_dataframe():\n",
    "    df = load_data()\n",
    "    df = clean_theft_data(df)\n",
    "    df = pivot_theft_data(df)\n",
    "\n",
    "    # add \"total column\"\n",
    "    df[\"total\"] = df.sum(axis = 1)\n",
    "\n",
    "    # cut-off the last three days\n",
    "    df.drop(df.tail(3).index,inplace=True)\n",
    "\n",
    "    # calculate rolling average\n",
    "    calculate_rolling_average(df, window_size = 3)\n",
    "    \n",
    "    # select relevant columns for modelling\n",
    "    cols_list =  [\"total\", \"total_moving_average\"]\n",
    "    df = df[cols_list]\n",
    "    \n",
    "    return df"
   ]
  },
  {
   "cell_type": "code",
   "execution_count": 102,
   "id": "b1183055",
   "metadata": {},
   "outputs": [],
   "source": [
    "df = load_data()"
   ]
  },
  {
   "cell_type": "code",
   "execution_count": 103,
   "id": "54434501",
   "metadata": {
    "collapsed": true
   },
   "outputs": [
    {
     "name": "stderr",
     "output_type": "stream",
     "text": [
      "/tmp/ipykernel_5659/2814565939.py:31: SettingWithCopyWarning: \n",
      "A value is trying to be set on a copy of a slice from a DataFrame.\n",
      "Try using .loc[row_indexer,col_indexer] = value instead\n",
      "\n",
      "See the caveats in the documentation: https://pandas.pydata.org/pandas-docs/stable/user_guide/indexing.html#returning-a-view-versus-a-copy\n",
      "  d[\"BZR\"] = d[\"LOR\"].str[:6]\n",
      "/tmp/ipykernel_5659/2814565939.py:34: SettingWithCopyWarning: \n",
      "A value is trying to be set on a copy of a slice from a DataFrame.\n",
      "Try using .loc[row_indexer,col_indexer] = value instead\n",
      "\n",
      "See the caveats in the documentation: https://pandas.pydata.org/pandas-docs/stable/user_guide/indexing.html#returning-a-view-versus-a-copy\n",
      "  d[\"PGR\"] = d[\"LOR\"].str[:4]\n",
      "/tmp/ipykernel_5659/2814565939.py:37: SettingWithCopyWarning: \n",
      "A value is trying to be set on a copy of a slice from a DataFrame.\n",
      "Try using .loc[row_indexer,col_indexer] = value instead\n",
      "\n",
      "See the caveats in the documentation: https://pandas.pydata.org/pandas-docs/stable/user_guide/indexing.html#returning-a-view-versus-a-copy\n",
      "  d[\"Bezirk\"] = d[\"LOR\"].str[:2]\n"
     ]
    }
   ],
   "source": [
    "df = clean_theft_data(df)"
   ]
  },
  {
   "cell_type": "code",
   "execution_count": 104,
   "id": "39ed436d",
   "metadata": {},
   "outputs": [],
   "source": [
    "df= pivot_theft_data(df)"
   ]
  },
  {
   "cell_type": "code",
   "execution_count": 105,
   "id": "c701d037",
   "metadata": {},
   "outputs": [
    {
     "data": {
      "text/html": [
       "<div>\n",
       "<style scoped>\n",
       "    .dataframe tbody tr th:only-of-type {\n",
       "        vertical-align: middle;\n",
       "    }\n",
       "\n",
       "    .dataframe tbody tr th {\n",
       "        vertical-align: top;\n",
       "    }\n",
       "\n",
       "    .dataframe thead th {\n",
       "        text-align: right;\n",
       "    }\n",
       "</style>\n",
       "<table border=\"1\" class=\"dataframe\">\n",
       "  <thead>\n",
       "    <tr style=\"text-align: right;\">\n",
       "      <th>Bezirk</th>\n",
       "      <th>01</th>\n",
       "      <th>02</th>\n",
       "      <th>03</th>\n",
       "      <th>04</th>\n",
       "      <th>05</th>\n",
       "      <th>06</th>\n",
       "      <th>07</th>\n",
       "      <th>08</th>\n",
       "      <th>09</th>\n",
       "      <th>10</th>\n",
       "      <th>11</th>\n",
       "      <th>12</th>\n",
       "      <th>total</th>\n",
       "    </tr>\n",
       "    <tr>\n",
       "      <th>date_theft_start</th>\n",
       "      <th></th>\n",
       "      <th></th>\n",
       "      <th></th>\n",
       "      <th></th>\n",
       "      <th></th>\n",
       "      <th></th>\n",
       "      <th></th>\n",
       "      <th></th>\n",
       "      <th></th>\n",
       "      <th></th>\n",
       "      <th></th>\n",
       "      <th></th>\n",
       "      <th></th>\n",
       "    </tr>\n",
       "  </thead>\n",
       "  <tbody>\n",
       "    <tr>\n",
       "      <th>2021-01-01</th>\n",
       "      <td>1.0</td>\n",
       "      <td>4.0</td>\n",
       "      <td>1.0</td>\n",
       "      <td>4.0</td>\n",
       "      <td>1.0</td>\n",
       "      <td>0.0</td>\n",
       "      <td>0.0</td>\n",
       "      <td>1.0</td>\n",
       "      <td>1.0</td>\n",
       "      <td>2.0</td>\n",
       "      <td>1.0</td>\n",
       "      <td>0.0</td>\n",
       "      <td>16.0</td>\n",
       "    </tr>\n",
       "    <tr>\n",
       "      <th>2021-01-02</th>\n",
       "      <td>0.0</td>\n",
       "      <td>0.0</td>\n",
       "      <td>5.0</td>\n",
       "      <td>3.0</td>\n",
       "      <td>0.0</td>\n",
       "      <td>1.0</td>\n",
       "      <td>1.0</td>\n",
       "      <td>2.0</td>\n",
       "      <td>2.0</td>\n",
       "      <td>0.0</td>\n",
       "      <td>1.0</td>\n",
       "      <td>1.0</td>\n",
       "      <td>16.0</td>\n",
       "    </tr>\n",
       "    <tr>\n",
       "      <th>2021-01-03</th>\n",
       "      <td>1.0</td>\n",
       "      <td>1.0</td>\n",
       "      <td>3.0</td>\n",
       "      <td>2.0</td>\n",
       "      <td>0.0</td>\n",
       "      <td>2.0</td>\n",
       "      <td>3.0</td>\n",
       "      <td>0.0</td>\n",
       "      <td>2.0</td>\n",
       "      <td>3.0</td>\n",
       "      <td>0.0</td>\n",
       "      <td>0.0</td>\n",
       "      <td>17.0</td>\n",
       "    </tr>\n",
       "    <tr>\n",
       "      <th>2021-01-04</th>\n",
       "      <td>6.0</td>\n",
       "      <td>7.0</td>\n",
       "      <td>3.0</td>\n",
       "      <td>4.0</td>\n",
       "      <td>0.0</td>\n",
       "      <td>2.0</td>\n",
       "      <td>4.0</td>\n",
       "      <td>3.0</td>\n",
       "      <td>1.0</td>\n",
       "      <td>0.0</td>\n",
       "      <td>1.0</td>\n",
       "      <td>2.0</td>\n",
       "      <td>33.0</td>\n",
       "    </tr>\n",
       "    <tr>\n",
       "      <th>2021-01-05</th>\n",
       "      <td>7.0</td>\n",
       "      <td>2.0</td>\n",
       "      <td>2.0</td>\n",
       "      <td>5.0</td>\n",
       "      <td>2.0</td>\n",
       "      <td>1.0</td>\n",
       "      <td>5.0</td>\n",
       "      <td>0.0</td>\n",
       "      <td>4.0</td>\n",
       "      <td>0.0</td>\n",
       "      <td>0.0</td>\n",
       "      <td>1.0</td>\n",
       "      <td>29.0</td>\n",
       "    </tr>\n",
       "  </tbody>\n",
       "</table>\n",
       "</div>"
      ],
      "text/plain": [
       "Bezirk             01   02   03   04   05   06   07   08   09   10   11   12  \\\n",
       "date_theft_start                                                               \n",
       "2021-01-01        1.0  4.0  1.0  4.0  1.0  0.0  0.0  1.0  1.0  2.0  1.0  0.0   \n",
       "2021-01-02        0.0  0.0  5.0  3.0  0.0  1.0  1.0  2.0  2.0  0.0  1.0  1.0   \n",
       "2021-01-03        1.0  1.0  3.0  2.0  0.0  2.0  3.0  0.0  2.0  3.0  0.0  0.0   \n",
       "2021-01-04        6.0  7.0  3.0  4.0  0.0  2.0  4.0  3.0  1.0  0.0  1.0  2.0   \n",
       "2021-01-05        7.0  2.0  2.0  5.0  2.0  1.0  5.0  0.0  4.0  0.0  0.0  1.0   \n",
       "\n",
       "Bezirk            total  \n",
       "date_theft_start         \n",
       "2021-01-01         16.0  \n",
       "2021-01-02         16.0  \n",
       "2021-01-03         17.0  \n",
       "2021-01-04         33.0  \n",
       "2021-01-05         29.0  "
      ]
     },
     "execution_count": 105,
     "metadata": {},
     "output_type": "execute_result"
    }
   ],
   "source": [
    "df[\"total\"] = df.sum(axis = 1)\n",
    "df.head()"
   ]
  },
  {
   "cell_type": "code",
   "execution_count": 106,
   "id": "cbadf69e",
   "metadata": {},
   "outputs": [
    {
     "data": {
      "text/plain": [
       "(430, 13)"
      ]
     },
     "execution_count": 106,
     "metadata": {},
     "output_type": "execute_result"
    }
   ],
   "source": [
    "df.shape"
   ]
  },
  {
   "cell_type": "code",
   "execution_count": 107,
   "id": "f72154fb",
   "metadata": {},
   "outputs": [],
   "source": [
    "df.drop(df.tail(3).index,inplace=True)"
   ]
  },
  {
   "cell_type": "code",
   "execution_count": 108,
   "id": "b7688dd0",
   "metadata": {},
   "outputs": [
    {
     "data": {
      "text/plain": [
       "(427, 13)"
      ]
     },
     "execution_count": 108,
     "metadata": {},
     "output_type": "execute_result"
    }
   ],
   "source": [
    "df.shape"
   ]
  },
  {
   "cell_type": "code",
   "execution_count": 109,
   "id": "9b3e6187",
   "metadata": {},
   "outputs": [],
   "source": [
    "calculate_rolling_average(df, window_size=3)"
   ]
  },
  {
   "cell_type": "code",
   "execution_count": 110,
   "id": "e73bbe38",
   "metadata": {},
   "outputs": [
    {
     "data": {
      "text/html": [
       "<div>\n",
       "<style scoped>\n",
       "    .dataframe tbody tr th:only-of-type {\n",
       "        vertical-align: middle;\n",
       "    }\n",
       "\n",
       "    .dataframe tbody tr th {\n",
       "        vertical-align: top;\n",
       "    }\n",
       "\n",
       "    .dataframe thead th {\n",
       "        text-align: right;\n",
       "    }\n",
       "</style>\n",
       "<table border=\"1\" class=\"dataframe\">\n",
       "  <thead>\n",
       "    <tr style=\"text-align: right;\">\n",
       "      <th>Bezirk</th>\n",
       "      <th>01</th>\n",
       "      <th>02</th>\n",
       "      <th>03</th>\n",
       "      <th>04</th>\n",
       "      <th>05</th>\n",
       "      <th>06</th>\n",
       "      <th>07</th>\n",
       "      <th>08</th>\n",
       "      <th>09</th>\n",
       "      <th>10</th>\n",
       "      <th>11</th>\n",
       "      <th>12</th>\n",
       "      <th>total</th>\n",
       "      <th>total_moving_average</th>\n",
       "    </tr>\n",
       "    <tr>\n",
       "      <th>date_theft_start</th>\n",
       "      <th></th>\n",
       "      <th></th>\n",
       "      <th></th>\n",
       "      <th></th>\n",
       "      <th></th>\n",
       "      <th></th>\n",
       "      <th></th>\n",
       "      <th></th>\n",
       "      <th></th>\n",
       "      <th></th>\n",
       "      <th></th>\n",
       "      <th></th>\n",
       "      <th></th>\n",
       "      <th></th>\n",
       "    </tr>\n",
       "  </thead>\n",
       "  <tbody>\n",
       "    <tr>\n",
       "      <th>2021-01-01</th>\n",
       "      <td>1.0</td>\n",
       "      <td>4.0</td>\n",
       "      <td>1.0</td>\n",
       "      <td>4.0</td>\n",
       "      <td>1.0</td>\n",
       "      <td>0.0</td>\n",
       "      <td>0.0</td>\n",
       "      <td>1.0</td>\n",
       "      <td>1.0</td>\n",
       "      <td>2.0</td>\n",
       "      <td>1.0</td>\n",
       "      <td>0.0</td>\n",
       "      <td>16.0</td>\n",
       "      <td>33.000000</td>\n",
       "    </tr>\n",
       "    <tr>\n",
       "      <th>2021-01-02</th>\n",
       "      <td>0.0</td>\n",
       "      <td>0.0</td>\n",
       "      <td>5.0</td>\n",
       "      <td>3.0</td>\n",
       "      <td>0.0</td>\n",
       "      <td>1.0</td>\n",
       "      <td>1.0</td>\n",
       "      <td>2.0</td>\n",
       "      <td>2.0</td>\n",
       "      <td>0.0</td>\n",
       "      <td>1.0</td>\n",
       "      <td>1.0</td>\n",
       "      <td>16.0</td>\n",
       "      <td>16.333333</td>\n",
       "    </tr>\n",
       "    <tr>\n",
       "      <th>2021-01-03</th>\n",
       "      <td>1.0</td>\n",
       "      <td>1.0</td>\n",
       "      <td>3.0</td>\n",
       "      <td>2.0</td>\n",
       "      <td>0.0</td>\n",
       "      <td>2.0</td>\n",
       "      <td>3.0</td>\n",
       "      <td>0.0</td>\n",
       "      <td>2.0</td>\n",
       "      <td>3.0</td>\n",
       "      <td>0.0</td>\n",
       "      <td>0.0</td>\n",
       "      <td>17.0</td>\n",
       "      <td>22.000000</td>\n",
       "    </tr>\n",
       "    <tr>\n",
       "      <th>2021-01-04</th>\n",
       "      <td>6.0</td>\n",
       "      <td>7.0</td>\n",
       "      <td>3.0</td>\n",
       "      <td>4.0</td>\n",
       "      <td>0.0</td>\n",
       "      <td>2.0</td>\n",
       "      <td>4.0</td>\n",
       "      <td>3.0</td>\n",
       "      <td>1.0</td>\n",
       "      <td>0.0</td>\n",
       "      <td>1.0</td>\n",
       "      <td>2.0</td>\n",
       "      <td>33.0</td>\n",
       "      <td>26.333333</td>\n",
       "    </tr>\n",
       "    <tr>\n",
       "      <th>2021-01-05</th>\n",
       "      <td>7.0</td>\n",
       "      <td>2.0</td>\n",
       "      <td>2.0</td>\n",
       "      <td>5.0</td>\n",
       "      <td>2.0</td>\n",
       "      <td>1.0</td>\n",
       "      <td>5.0</td>\n",
       "      <td>0.0</td>\n",
       "      <td>4.0</td>\n",
       "      <td>0.0</td>\n",
       "      <td>0.0</td>\n",
       "      <td>1.0</td>\n",
       "      <td>29.0</td>\n",
       "      <td>33.000000</td>\n",
       "    </tr>\n",
       "  </tbody>\n",
       "</table>\n",
       "</div>"
      ],
      "text/plain": [
       "Bezirk             01   02   03   04   05   06   07   08   09   10   11   12  \\\n",
       "date_theft_start                                                               \n",
       "2021-01-01        1.0  4.0  1.0  4.0  1.0  0.0  0.0  1.0  1.0  2.0  1.0  0.0   \n",
       "2021-01-02        0.0  0.0  5.0  3.0  0.0  1.0  1.0  2.0  2.0  0.0  1.0  1.0   \n",
       "2021-01-03        1.0  1.0  3.0  2.0  0.0  2.0  3.0  0.0  2.0  3.0  0.0  0.0   \n",
       "2021-01-04        6.0  7.0  3.0  4.0  0.0  2.0  4.0  3.0  1.0  0.0  1.0  2.0   \n",
       "2021-01-05        7.0  2.0  2.0  5.0  2.0  1.0  5.0  0.0  4.0  0.0  0.0  1.0   \n",
       "\n",
       "Bezirk            total  total_moving_average  \n",
       "date_theft_start                               \n",
       "2021-01-01         16.0             33.000000  \n",
       "2021-01-02         16.0             16.333333  \n",
       "2021-01-03         17.0             22.000000  \n",
       "2021-01-04         33.0             26.333333  \n",
       "2021-01-05         29.0             33.000000  "
      ]
     },
     "execution_count": 110,
     "metadata": {},
     "output_type": "execute_result"
    }
   ],
   "source": [
    "df.head()"
   ]
  },
  {
   "cell_type": "code",
   "execution_count": 111,
   "id": "db97c363",
   "metadata": {},
   "outputs": [],
   "source": [
    "cols_list = [\"total\", \"total_moving_average\"]"
   ]
  },
  {
   "cell_type": "code",
   "execution_count": 112,
   "id": "09c3e568",
   "metadata": {},
   "outputs": [],
   "source": [
    "df = df[cols_list]"
   ]
  },
  {
   "cell_type": "code",
   "execution_count": 113,
   "id": "53f0a803",
   "metadata": {},
   "outputs": [
    {
     "data": {
      "text/html": [
       "<div>\n",
       "<style scoped>\n",
       "    .dataframe tbody tr th:only-of-type {\n",
       "        vertical-align: middle;\n",
       "    }\n",
       "\n",
       "    .dataframe tbody tr th {\n",
       "        vertical-align: top;\n",
       "    }\n",
       "\n",
       "    .dataframe thead th {\n",
       "        text-align: right;\n",
       "    }\n",
       "</style>\n",
       "<table border=\"1\" class=\"dataframe\">\n",
       "  <thead>\n",
       "    <tr style=\"text-align: right;\">\n",
       "      <th>Bezirk</th>\n",
       "      <th>total</th>\n",
       "      <th>total_moving_average</th>\n",
       "    </tr>\n",
       "    <tr>\n",
       "      <th>date_theft_start</th>\n",
       "      <th></th>\n",
       "      <th></th>\n",
       "    </tr>\n",
       "  </thead>\n",
       "  <tbody>\n",
       "    <tr>\n",
       "      <th>2021-01-01</th>\n",
       "      <td>16.0</td>\n",
       "      <td>33.000000</td>\n",
       "    </tr>\n",
       "    <tr>\n",
       "      <th>2021-01-02</th>\n",
       "      <td>16.0</td>\n",
       "      <td>16.333333</td>\n",
       "    </tr>\n",
       "    <tr>\n",
       "      <th>2021-01-03</th>\n",
       "      <td>17.0</td>\n",
       "      <td>22.000000</td>\n",
       "    </tr>\n",
       "    <tr>\n",
       "      <th>2021-01-04</th>\n",
       "      <td>33.0</td>\n",
       "      <td>26.333333</td>\n",
       "    </tr>\n",
       "    <tr>\n",
       "      <th>2021-01-05</th>\n",
       "      <td>29.0</td>\n",
       "      <td>33.000000</td>\n",
       "    </tr>\n",
       "  </tbody>\n",
       "</table>\n",
       "</div>"
      ],
      "text/plain": [
       "Bezirk            total  total_moving_average\n",
       "date_theft_start                             \n",
       "2021-01-01         16.0             33.000000\n",
       "2021-01-02         16.0             16.333333\n",
       "2021-01-03         17.0             22.000000\n",
       "2021-01-04         33.0             26.333333\n",
       "2021-01-05         29.0             33.000000"
      ]
     },
     "execution_count": 113,
     "metadata": {},
     "output_type": "execute_result"
    }
   ],
   "source": [
    "df.head()"
   ]
  },
  {
   "cell_type": "code",
   "execution_count": null,
   "id": "632b628f",
   "metadata": {},
   "outputs": [],
   "source": []
  },
  {
   "cell_type": "code",
   "execution_count": 115,
   "id": "fd1ab59d",
   "metadata": {
    "scrolled": false
   },
   "outputs": [
    {
     "name": "stderr",
     "output_type": "stream",
     "text": [
      "/tmp/ipykernel_5659/2814565939.py:31: SettingWithCopyWarning: \n",
      "A value is trying to be set on a copy of a slice from a DataFrame.\n",
      "Try using .loc[row_indexer,col_indexer] = value instead\n",
      "\n",
      "See the caveats in the documentation: https://pandas.pydata.org/pandas-docs/stable/user_guide/indexing.html#returning-a-view-versus-a-copy\n",
      "  d[\"BZR\"] = d[\"LOR\"].str[:6]\n",
      "/tmp/ipykernel_5659/2814565939.py:34: SettingWithCopyWarning: \n",
      "A value is trying to be set on a copy of a slice from a DataFrame.\n",
      "Try using .loc[row_indexer,col_indexer] = value instead\n",
      "\n",
      "See the caveats in the documentation: https://pandas.pydata.org/pandas-docs/stable/user_guide/indexing.html#returning-a-view-versus-a-copy\n",
      "  d[\"PGR\"] = d[\"LOR\"].str[:4]\n",
      "/tmp/ipykernel_5659/2814565939.py:37: SettingWithCopyWarning: \n",
      "A value is trying to be set on a copy of a slice from a DataFrame.\n",
      "Try using .loc[row_indexer,col_indexer] = value instead\n",
      "\n",
      "See the caveats in the documentation: https://pandas.pydata.org/pandas-docs/stable/user_guide/indexing.html#returning-a-view-versus-a-copy\n",
      "  d[\"Bezirk\"] = d[\"LOR\"].str[:2]\n"
     ]
    }
   ],
   "source": [
    "test = create_modelling_dataframe()"
   ]
  },
  {
   "cell_type": "code",
   "execution_count": 117,
   "id": "b780b578",
   "metadata": {},
   "outputs": [
    {
     "data": {
      "text/html": [
       "<div>\n",
       "<style scoped>\n",
       "    .dataframe tbody tr th:only-of-type {\n",
       "        vertical-align: middle;\n",
       "    }\n",
       "\n",
       "    .dataframe tbody tr th {\n",
       "        vertical-align: top;\n",
       "    }\n",
       "\n",
       "    .dataframe thead th {\n",
       "        text-align: right;\n",
       "    }\n",
       "</style>\n",
       "<table border=\"1\" class=\"dataframe\">\n",
       "  <thead>\n",
       "    <tr style=\"text-align: right;\">\n",
       "      <th>Bezirk</th>\n",
       "      <th>total</th>\n",
       "      <th>total_moving_average</th>\n",
       "    </tr>\n",
       "    <tr>\n",
       "      <th>date_theft_start</th>\n",
       "      <th></th>\n",
       "      <th></th>\n",
       "    </tr>\n",
       "  </thead>\n",
       "  <tbody>\n",
       "    <tr>\n",
       "      <th>2021-01-01</th>\n",
       "      <td>16.0</td>\n",
       "      <td>33.000000</td>\n",
       "    </tr>\n",
       "    <tr>\n",
       "      <th>2021-01-02</th>\n",
       "      <td>16.0</td>\n",
       "      <td>16.333333</td>\n",
       "    </tr>\n",
       "    <tr>\n",
       "      <th>2021-01-03</th>\n",
       "      <td>17.0</td>\n",
       "      <td>22.000000</td>\n",
       "    </tr>\n",
       "    <tr>\n",
       "      <th>2021-01-04</th>\n",
       "      <td>33.0</td>\n",
       "      <td>26.333333</td>\n",
       "    </tr>\n",
       "    <tr>\n",
       "      <th>2021-01-05</th>\n",
       "      <td>29.0</td>\n",
       "      <td>33.000000</td>\n",
       "    </tr>\n",
       "  </tbody>\n",
       "</table>\n",
       "</div>"
      ],
      "text/plain": [
       "Bezirk            total  total_moving_average\n",
       "date_theft_start                             \n",
       "2021-01-01         16.0             33.000000\n",
       "2021-01-02         16.0             16.333333\n",
       "2021-01-03         17.0             22.000000\n",
       "2021-01-04         33.0             26.333333\n",
       "2021-01-05         29.0             33.000000"
      ]
     },
     "execution_count": 117,
     "metadata": {},
     "output_type": "execute_result"
    }
   ],
   "source": [
    "test.head()"
   ]
  },
  {
   "cell_type": "code",
   "execution_count": null,
   "id": "cbb7c580",
   "metadata": {},
   "outputs": [],
   "source": []
  },
  {
   "cell_type": "code",
   "execution_count": null,
   "id": "9b9e3f9a",
   "metadata": {},
   "outputs": [],
   "source": []
  },
  {
   "cell_type": "code",
   "execution_count": null,
   "id": "bade9e65",
   "metadata": {},
   "outputs": [],
   "source": []
  },
  {
   "cell_type": "code",
   "execution_count": 120,
   "id": "3608dd2c",
   "metadata": {},
   "outputs": [
    {
     "name": "stdout",
     "output_type": "stream",
     "text": [
      "/home/jakob/code/hmichinaka/berlin-bike-theft-forecasting\r\n"
     ]
    }
   ],
   "source": [
    "!pwd"
   ]
  },
  {
   "cell_type": "code",
   "execution_count": 122,
   "id": "ac2f7bf8",
   "metadata": {},
   "outputs": [
    {
     "name": "stdout",
     "output_type": "stream",
     "text": [
      "berlin-bike-theft-forecasting  MANIFEST.in  README.md\t      setup.py\r\n",
      "bike_theft_total_daily.csv     notebooks    requirements.txt  tests\r\n",
      "Makefile\t\t       raw_data     scripts\r\n"
     ]
    }
   ],
   "source": [
    "!ls"
   ]
  },
  {
   "cell_type": "code",
   "execution_count": 124,
   "id": "ee9ac826",
   "metadata": {},
   "outputs": [
    {
     "ename": "SyntaxError",
     "evalue": "invalid syntax (4249665749.py, line 1)",
     "output_type": "error",
     "traceback": [
      "\u001b[0;36m  Input \u001b[0;32mIn [124]\u001b[0;36m\u001b[0m\n\u001b[0;31m    from berlin-bike-theft-forecasting.theft_data import *\u001b[0m\n\u001b[0m               ^\u001b[0m\n\u001b[0;31mSyntaxError\u001b[0m\u001b[0;31m:\u001b[0m invalid syntax\n"
     ]
    }
   ],
   "source": [
    "from berlin-bike-theft-forecasting.theft_data import *"
   ]
  },
  {
   "cell_type": "code",
   "execution_count": null,
   "id": "807b9941",
   "metadata": {},
   "outputs": [],
   "source": []
  },
  {
   "cell_type": "code",
   "execution_count": null,
   "id": "2586e31e",
   "metadata": {},
   "outputs": [],
   "source": []
  },
  {
   "cell_type": "code",
   "execution_count": null,
   "id": "a274447d",
   "metadata": {},
   "outputs": [],
   "source": [
    "def create_opt_model(): \n",
    "    \"\"\"\n",
    "    Creates the finetuned model selected in B_Theft_Modelling\n",
    "    Outputs models, that needs to be compiled and fit\"\"\"\n",
    "    model = Sequential()\n",
    "    # first LSTM layer\n",
    "    model.add(LSTM(units = 70, activation = \"tanh\", return_sequences = True))\n",
    "    model.add(Dropout(0.2))\n",
    "    # second LSTM layer\n",
    "    model.add(LSTM(units= 30, activation= \"tanh\", return_sequences= False))\n",
    "    model.add(Dropout(0.2))\n",
    "\n",
    "    # output layer to predict one value\n",
    "    model.add(Dense(1, activation= \"linear\"))\n",
    "    return model"
   ]
  },
  {
   "cell_type": "code",
   "execution_count": null,
   "id": "6256e2ed",
   "metadata": {},
   "outputs": [],
   "source": [
    "def get_X_y(window_size, future_horizon, dataset):\n",
    "\n",
    "  X = []\n",
    "  y = []\n",
    "\n",
    "  for i in range(0, dataset.shape[0] - window_size - future_horizon):\n",
    "    X.append(dataset[i: i + window_size])\n",
    "    y.append(dataset[i + window_size: i + window_size + future_horizon])\n",
    "\n",
    "  return np.array(X), np.array(y)"
   ]
  },
  {
   "cell_type": "code",
   "execution_count": null,
   "id": "b10b1261",
   "metadata": {},
   "outputs": [],
   "source": [
    "window_size = 31\n",
    "future_horizon = 1\n",
    "\n",
    "X_train, y_train = get_X_y(window_size,future_horizon, df_train)\n",
    "X_test, y_test = get_X_y(window_size, future_horizon, df_test)\n",
    "\n",
    "X_test = np.expand_dims(X_test, 2)\n",
    "X_train = np.expand_dims(X_train, 2)"
   ]
  },
  {
   "cell_type": "code",
   "execution_count": null,
   "id": "e8865a57",
   "metadata": {},
   "outputs": [],
   "source": [
    "es = callbacks.EarlyStopping(patience = 5, restore_best_weights=True)"
   ]
  }
 ],
 "metadata": {
  "kernelspec": {
   "display_name": "Python 3 (ipykernel)",
   "language": "python",
   "name": "python3"
  },
  "language_info": {
   "codemirror_mode": {
    "name": "ipython",
    "version": 3
   },
   "file_extension": ".py",
   "mimetype": "text/x-python",
   "name": "python",
   "nbconvert_exporter": "python",
   "pygments_lexer": "ipython3",
   "version": "3.8.12"
  },
  "toc": {
   "base_numbering": 1,
   "nav_menu": {},
   "number_sections": true,
   "sideBar": true,
   "skip_h1_title": false,
   "title_cell": "Table of Contents",
   "title_sidebar": "Contents",
   "toc_cell": false,
   "toc_position": {},
   "toc_section_display": true,
   "toc_window_display": false
  }
 },
 "nbformat": 4,
 "nbformat_minor": 5
}
