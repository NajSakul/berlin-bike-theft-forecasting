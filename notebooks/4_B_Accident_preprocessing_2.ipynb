{
 "cells": [
  {
   "cell_type": "markdown",
   "id": "8af3407e",
   "metadata": {},
   "source": [
    "# LOR Mapping for Bike Accidents"
   ]
  },
  {
   "cell_type": "code",
   "execution_count": 1,
   "id": "aea2a6be",
   "metadata": {},
   "outputs": [],
   "source": [
    "!pip install -q geopandas"
   ]
  },
  {
   "cell_type": "code",
   "execution_count": 2,
   "id": "72d43c58",
   "metadata": {},
   "outputs": [],
   "source": [
    "#Imports\n",
    "\n",
    "import pandas as pd\n",
    "import numpy as np\n",
    "import requests\n",
    "\n",
    "#mapping\n",
    "import folium\n",
    "import geopandas\n",
    "from shapely.geometry import Point, Polygon\n",
    "\n",
    "from math import isnan\n"
   ]
  },
  {
   "cell_type": "code",
   "execution_count": 3,
   "id": "edcd4690",
   "metadata": {},
   "outputs": [],
   "source": [
    "data2020 = pd.read_csv('../raw_data/accident/AfSBBB_BE_LOR_Strasse_Strassenverkehrsunfaelle_2020_Datensatz.csv', sep=';')\n",
    "data2019 = pd.read_csv('../raw_data/accident/AfSBBB_BE_LOR_Strasse_Strassenverkehrsunfaelle_2019_Datensatz.csv', sep=';')\n",
    "data2018 = pd.read_csv('../raw_data/accident/AfSBBB_BE_LOR_Strasse_Strassenverkehrsunfaelle_2018_Datensatz.csv', sep=';')\n"
   ]
  },
  {
   "cell_type": "code",
   "execution_count": 4,
   "id": "c9cb7af1",
   "metadata": {},
   "outputs": [
    {
     "data": {
      "text/html": [
       "<div>\n",
       "<style scoped>\n",
       "    .dataframe tbody tr th:only-of-type {\n",
       "        vertical-align: middle;\n",
       "    }\n",
       "\n",
       "    .dataframe tbody tr th {\n",
       "        vertical-align: top;\n",
       "    }\n",
       "\n",
       "    .dataframe thead th {\n",
       "        text-align: right;\n",
       "    }\n",
       "</style>\n",
       "<table border=\"1\" class=\"dataframe\">\n",
       "  <thead>\n",
       "    <tr style=\"text-align: right;\">\n",
       "      <th></th>\n",
       "      <th>OBJECTID</th>\n",
       "      <th>LAND</th>\n",
       "      <th>BEZ</th>\n",
       "      <th>LOR</th>\n",
       "      <th>LOR_ab_2021</th>\n",
       "      <th>UJAHR</th>\n",
       "      <th>UMONAT</th>\n",
       "      <th>USTUNDE</th>\n",
       "      <th>UWOCHENTAG</th>\n",
       "      <th>UKATEGORIE</th>\n",
       "      <th>...</th>\n",
       "      <th>IstPKW</th>\n",
       "      <th>IstFuss</th>\n",
       "      <th>IstKrad</th>\n",
       "      <th>IstGkfz</th>\n",
       "      <th>IstSonstige</th>\n",
       "      <th>USTRZUSTAND</th>\n",
       "      <th>LINREFX</th>\n",
       "      <th>LINREFY</th>\n",
       "      <th>XGCSWGS84</th>\n",
       "      <th>YGCSWGS84</th>\n",
       "    </tr>\n",
       "  </thead>\n",
       "  <tbody>\n",
       "    <tr>\n",
       "      <th>0</th>\n",
       "      <td>3187</td>\n",
       "      <td>11</td>\n",
       "      <td>8</td>\n",
       "      <td>8010510.0</td>\n",
       "      <td>8100521.0</td>\n",
       "      <td>2020</td>\n",
       "      <td>1</td>\n",
       "      <td>11</td>\n",
       "      <td>4</td>\n",
       "      <td>2</td>\n",
       "      <td>...</td>\n",
       "      <td>1</td>\n",
       "      <td>0</td>\n",
       "      <td>0</td>\n",
       "      <td>1</td>\n",
       "      <td>0</td>\n",
       "      <td>1</td>\n",
       "      <td>802599,5332</td>\n",
       "      <td>5821795,373</td>\n",
       "      <td>13,45500598</td>\n",
       "      <td>52,4623009</td>\n",
       "    </tr>\n",
       "    <tr>\n",
       "      <th>1</th>\n",
       "      <td>3198</td>\n",
       "      <td>11</td>\n",
       "      <td>4</td>\n",
       "      <td>4041137.0</td>\n",
       "      <td>4400727.0</td>\n",
       "      <td>2020</td>\n",
       "      <td>1</td>\n",
       "      <td>2</td>\n",
       "      <td>3</td>\n",
       "      <td>2</td>\n",
       "      <td>...</td>\n",
       "      <td>0</td>\n",
       "      <td>0</td>\n",
       "      <td>0</td>\n",
       "      <td>1</td>\n",
       "      <td>0</td>\n",
       "      <td>1</td>\n",
       "      <td>791264,2064</td>\n",
       "      <td>5824629,955</td>\n",
       "      <td>13,29111618</td>\n",
       "      <td>52,49387309</td>\n",
       "    </tr>\n",
       "    <tr>\n",
       "      <th>2</th>\n",
       "      <td>3215</td>\n",
       "      <td>11</td>\n",
       "      <td>4</td>\n",
       "      <td>4041239.0</td>\n",
       "      <td>4400830.0</td>\n",
       "      <td>2020</td>\n",
       "      <td>1</td>\n",
       "      <td>7</td>\n",
       "      <td>1</td>\n",
       "      <td>3</td>\n",
       "      <td>...</td>\n",
       "      <td>0</td>\n",
       "      <td>0</td>\n",
       "      <td>0</td>\n",
       "      <td>0</td>\n",
       "      <td>1</td>\n",
       "      <td>1</td>\n",
       "      <td>792294,8083</td>\n",
       "      <td>5823598,115</td>\n",
       "      <td>13,30534822</td>\n",
       "      <td>52,48407191</td>\n",
       "    </tr>\n",
       "    <tr>\n",
       "      <th>3</th>\n",
       "      <td>3224</td>\n",
       "      <td>11</td>\n",
       "      <td>2</td>\n",
       "      <td>2040502.0</td>\n",
       "      <td>2400521.0</td>\n",
       "      <td>2020</td>\n",
       "      <td>1</td>\n",
       "      <td>22</td>\n",
       "      <td>6</td>\n",
       "      <td>2</td>\n",
       "      <td>...</td>\n",
       "      <td>1</td>\n",
       "      <td>0</td>\n",
       "      <td>0</td>\n",
       "      <td>0</td>\n",
       "      <td>0</td>\n",
       "      <td>0</td>\n",
       "      <td>801024,2746</td>\n",
       "      <td>5827862,923</td>\n",
       "      <td>13,43737099</td>\n",
       "      <td>52,517556</td>\n",
       "    </tr>\n",
       "    <tr>\n",
       "      <th>4</th>\n",
       "      <td>3241</td>\n",
       "      <td>11</td>\n",
       "      <td>4</td>\n",
       "      <td>4041137.0</td>\n",
       "      <td>4400727.0</td>\n",
       "      <td>2020</td>\n",
       "      <td>1</td>\n",
       "      <td>17</td>\n",
       "      <td>1</td>\n",
       "      <td>3</td>\n",
       "      <td>...</td>\n",
       "      <td>0</td>\n",
       "      <td>0</td>\n",
       "      <td>1</td>\n",
       "      <td>0</td>\n",
       "      <td>0</td>\n",
       "      <td>1</td>\n",
       "      <td>791889,2861</td>\n",
       "      <td>5824003,006</td>\n",
       "      <td>13,29974796</td>\n",
       "      <td>52,48791866</td>\n",
       "    </tr>\n",
       "  </tbody>\n",
       "</table>\n",
       "<p>5 rows × 24 columns</p>\n",
       "</div>"
      ],
      "text/plain": [
       "   OBJECTID  LAND  BEZ        LOR  LOR_ab_2021  UJAHR  UMONAT  USTUNDE  \\\n",
       "0      3187    11    8  8010510.0    8100521.0   2020       1       11   \n",
       "1      3198    11    4  4041137.0    4400727.0   2020       1        2   \n",
       "2      3215    11    4  4041239.0    4400830.0   2020       1        7   \n",
       "3      3224    11    2  2040502.0    2400521.0   2020       1       22   \n",
       "4      3241    11    4  4041137.0    4400727.0   2020       1       17   \n",
       "\n",
       "   UWOCHENTAG  UKATEGORIE  ...  IstPKW  IstFuss  IstKrad  IstGkfz  \\\n",
       "0           4           2  ...       1        0        0        1   \n",
       "1           3           2  ...       0        0        0        1   \n",
       "2           1           3  ...       0        0        0        0   \n",
       "3           6           2  ...       1        0        0        0   \n",
       "4           1           3  ...       0        0        1        0   \n",
       "\n",
       "   IstSonstige  USTRZUSTAND      LINREFX      LINREFY    XGCSWGS84  \\\n",
       "0            0            1  802599,5332  5821795,373  13,45500598   \n",
       "1            0            1  791264,2064  5824629,955  13,29111618   \n",
       "2            1            1  792294,8083  5823598,115  13,30534822   \n",
       "3            0            0  801024,2746  5827862,923  13,43737099   \n",
       "4            0            1  791889,2861  5824003,006  13,29974796   \n",
       "\n",
       "     YGCSWGS84  \n",
       "0   52,4623009  \n",
       "1  52,49387309  \n",
       "2  52,48407191  \n",
       "3    52,517556  \n",
       "4  52,48791866  \n",
       "\n",
       "[5 rows x 24 columns]"
      ]
     },
     "execution_count": 4,
     "metadata": {},
     "output_type": "execute_result"
    }
   ],
   "source": [
    "data2020.head()"
   ]
  },
  {
   "cell_type": "code",
   "execution_count": 5,
   "id": "4b0f438d",
   "metadata": {},
   "outputs": [
    {
     "data": {
      "text/plain": [
       "OBJECTID       13390\n",
       "LAND               1\n",
       "BEZ               12\n",
       "LOR              442\n",
       "STRASSE          441\n",
       "UJAHR              1\n",
       "UMONAT            12\n",
       "USTUNDE           24\n",
       "UWOCHENTAG         7\n",
       "UKATEGORIE         3\n",
       "UART              10\n",
       "UTYP1              7\n",
       "ULICHTVERH         3\n",
       "IstRad             2\n",
       "IstPKW             2\n",
       "IstFuss            2\n",
       "IstKrad            2\n",
       "IstGkfz            2\n",
       "IstSonstige        3\n",
       "USTRZUSTAND        4\n",
       "LINREFX        13256\n",
       "LINREFY        13248\n",
       "XGCSWGS84      10492\n",
       "YGCSWGS84       8813\n",
       "dtype: int64"
      ]
     },
     "execution_count": 5,
     "metadata": {},
     "output_type": "execute_result"
    }
   ],
   "source": [
    "data2019.nunique()"
   ]
  },
  {
   "cell_type": "code",
   "execution_count": null,
   "id": "b43ff132",
   "metadata": {},
   "outputs": [],
   "source": []
  },
  {
   "cell_type": "code",
   "execution_count": null,
   "id": "35ec98c6",
   "metadata": {},
   "outputs": [],
   "source": []
  },
  {
   "cell_type": "code",
   "execution_count": null,
   "id": "5721ce5e",
   "metadata": {},
   "outputs": [],
   "source": []
  },
  {
   "cell_type": "code",
   "execution_count": 6,
   "id": "b107f247",
   "metadata": {},
   "outputs": [],
   "source": [
    "#import of preprocessed csv\n",
    "\n",
    "df = pd.read_csv('../raw_data/df_0103.csv')"
   ]
  },
  {
   "cell_type": "code",
   "execution_count": 7,
   "id": "65af4d1b",
   "metadata": {},
   "outputs": [],
   "source": [
    "#get rid of unwanted and strange index column\n",
    "df = df.drop(columns='Unnamed: 0')"
   ]
  },
  {
   "cell_type": "code",
   "execution_count": 8,
   "id": "aa44579d",
   "metadata": {},
   "outputs": [
    {
     "data": {
      "text/html": [
       "<div>\n",
       "<style scoped>\n",
       "    .dataframe tbody tr th:only-of-type {\n",
       "        vertical-align: middle;\n",
       "    }\n",
       "\n",
       "    .dataframe tbody tr th {\n",
       "        vertical-align: top;\n",
       "    }\n",
       "\n",
       "    .dataframe thead th {\n",
       "        text-align: right;\n",
       "    }\n",
       "</style>\n",
       "<table border=\"1\" class=\"dataframe\">\n",
       "  <thead>\n",
       "    <tr style=\"text-align: right;\">\n",
       "      <th></th>\n",
       "      <th>district</th>\n",
       "      <th>LOR</th>\n",
       "      <th>street</th>\n",
       "      <th>LOR_2021</th>\n",
       "      <th>year</th>\n",
       "      <th>month</th>\n",
       "      <th>hour</th>\n",
       "      <th>weekday</th>\n",
       "      <th>category</th>\n",
       "      <th>accident_kind</th>\n",
       "      <th>...</th>\n",
       "      <th>car</th>\n",
       "      <th>pedestrian</th>\n",
       "      <th>motorcycle</th>\n",
       "      <th>goods_vehicle</th>\n",
       "      <th>others</th>\n",
       "      <th>road_condition</th>\n",
       "      <th>LINREFX</th>\n",
       "      <th>LINREFY</th>\n",
       "      <th>XGCSWGS84</th>\n",
       "      <th>YGCSWGS84</th>\n",
       "    </tr>\n",
       "  </thead>\n",
       "  <tbody>\n",
       "    <tr>\n",
       "      <th>0</th>\n",
       "      <td>3</td>\n",
       "      <td>3020209.0</td>\n",
       "      <td>Niederschönhausen</td>\n",
       "      <td>3200206.0</td>\n",
       "      <td>2018</td>\n",
       "      <td>1</td>\n",
       "      <td>15</td>\n",
       "      <td>4</td>\n",
       "      <td>3</td>\n",
       "      <td>6</td>\n",
       "      <td>...</td>\n",
       "      <td>0</td>\n",
       "      <td>1</td>\n",
       "      <td>0</td>\n",
       "      <td>0</td>\n",
       "      <td>0</td>\n",
       "      <td>1</td>\n",
       "      <td>798261.3849</td>\n",
       "      <td>5835047.260</td>\n",
       "      <td>13.403228</td>\n",
       "      <td>52.583472</td>\n",
       "    </tr>\n",
       "    <tr>\n",
       "      <th>1</th>\n",
       "      <td>3</td>\n",
       "      <td>3071639.0</td>\n",
       "      <td>Bötzowstraße</td>\n",
       "      <td>3701660.0</td>\n",
       "      <td>2018</td>\n",
       "      <td>1</td>\n",
       "      <td>11</td>\n",
       "      <td>5</td>\n",
       "      <td>3</td>\n",
       "      <td>5</td>\n",
       "      <td>...</td>\n",
       "      <td>1</td>\n",
       "      <td>0</td>\n",
       "      <td>0</td>\n",
       "      <td>0</td>\n",
       "      <td>0</td>\n",
       "      <td>1</td>\n",
       "      <td>800551.7210</td>\n",
       "      <td>5829808.492</td>\n",
       "      <td>13.432186</td>\n",
       "      <td>52.535255</td>\n",
       "    </tr>\n",
       "    <tr>\n",
       "      <th>2</th>\n",
       "      <td>2</td>\n",
       "      <td>2050602.0</td>\n",
       "      <td>Samariterviertel</td>\n",
       "      <td>2500729.0</td>\n",
       "      <td>2018</td>\n",
       "      <td>1</td>\n",
       "      <td>8</td>\n",
       "      <td>2</td>\n",
       "      <td>3</td>\n",
       "      <td>5</td>\n",
       "      <td>...</td>\n",
       "      <td>1</td>\n",
       "      <td>0</td>\n",
       "      <td>0</td>\n",
       "      <td>0</td>\n",
       "      <td>0</td>\n",
       "      <td>0</td>\n",
       "      <td>803320.7292</td>\n",
       "      <td>5827627.446</td>\n",
       "      <td>13.470897</td>\n",
       "      <td>52.514173</td>\n",
       "    </tr>\n",
       "    <tr>\n",
       "      <th>3</th>\n",
       "      <td>1</td>\n",
       "      <td>1011204.0</td>\n",
       "      <td>Leipziger Straße                              ...</td>\n",
       "      <td>1100207.0</td>\n",
       "      <td>2018</td>\n",
       "      <td>1</td>\n",
       "      <td>19</td>\n",
       "      <td>4</td>\n",
       "      <td>3</td>\n",
       "      <td>5</td>\n",
       "      <td>...</td>\n",
       "      <td>1</td>\n",
       "      <td>0</td>\n",
       "      <td>0</td>\n",
       "      <td>0</td>\n",
       "      <td>0</td>\n",
       "      <td>1</td>\n",
       "      <td>798174.6913</td>\n",
       "      <td>5826939.978</td>\n",
       "      <td>13.394673</td>\n",
       "      <td>52.510848</td>\n",
       "    </tr>\n",
       "    <tr>\n",
       "      <th>4</th>\n",
       "      <td>9</td>\n",
       "      <td>9020601.0</td>\n",
       "      <td>Schnellerstraße                               ...</td>\n",
       "      <td>9200613.0</td>\n",
       "      <td>2018</td>\n",
       "      <td>1</td>\n",
       "      <td>18</td>\n",
       "      <td>4</td>\n",
       "      <td>2</td>\n",
       "      <td>5</td>\n",
       "      <td>...</td>\n",
       "      <td>1</td>\n",
       "      <td>0</td>\n",
       "      <td>0</td>\n",
       "      <td>0</td>\n",
       "      <td>0</td>\n",
       "      <td>1</td>\n",
       "      <td>806109.6297</td>\n",
       "      <td>5821644.404</td>\n",
       "      <td>13.506372</td>\n",
       "      <td>52.458993</td>\n",
       "    </tr>\n",
       "  </tbody>\n",
       "</table>\n",
       "<p>5 rows × 22 columns</p>\n",
       "</div>"
      ],
      "text/plain": [
       "   district        LOR                                             street  \\\n",
       "0         3  3020209.0                                  Niederschönhausen   \n",
       "1         3  3071639.0                                       Bötzowstraße   \n",
       "2         2  2050602.0                                   Samariterviertel   \n",
       "3         1  1011204.0  Leipziger Straße                              ...   \n",
       "4         9  9020601.0  Schnellerstraße                               ...   \n",
       "\n",
       "    LOR_2021  year  month  hour  weekday  category  accident_kind  ...  car  \\\n",
       "0  3200206.0  2018      1    15        4         3              6  ...    0   \n",
       "1  3701660.0  2018      1    11        5         3              5  ...    1   \n",
       "2  2500729.0  2018      1     8        2         3              5  ...    1   \n",
       "3  1100207.0  2018      1    19        4         3              5  ...    1   \n",
       "4  9200613.0  2018      1    18        4         2              5  ...    1   \n",
       "\n",
       "   pedestrian  motorcycle  goods_vehicle  others  road_condition      LINREFX  \\\n",
       "0           1           0              0       0               1  798261.3849   \n",
       "1           0           0              0       0               1  800551.7210   \n",
       "2           0           0              0       0               0  803320.7292   \n",
       "3           0           0              0       0               1  798174.6913   \n",
       "4           0           0              0       0               1  806109.6297   \n",
       "\n",
       "       LINREFY  XGCSWGS84  YGCSWGS84  \n",
       "0  5835047.260  13.403228  52.583472  \n",
       "1  5829808.492  13.432186  52.535255  \n",
       "2  5827627.446  13.470897  52.514173  \n",
       "3  5826939.978  13.394673  52.510848  \n",
       "4  5821644.404  13.506372  52.458993  \n",
       "\n",
       "[5 rows x 22 columns]"
      ]
     },
     "execution_count": 8,
     "metadata": {},
     "output_type": "execute_result"
    }
   ],
   "source": [
    "df.head()"
   ]
  },
  {
   "cell_type": "code",
   "execution_count": 9,
   "id": "5e440003",
   "metadata": {},
   "outputs": [],
   "source": [
    "#convert LOR to LOR_2021 by creating a dictionary out of existing rows that contain both values\n",
    "\n",
    "#function to create the dictionary\n",
    "lor_dict = {}\n",
    "def create_lor_dict(df):\n",
    "    for idx, accident in df.iterrows():\n",
    "            lor_dict.update({df['LOR'][idx]: df['LOR_2021'][idx]})\n",
    "    return lor_dict\n",
    "\n"
   ]
  },
  {
   "cell_type": "code",
   "execution_count": 10,
   "id": "8f5ee9ea",
   "metadata": {},
   "outputs": [],
   "source": [
    "#calling function on our df to create the dict\n",
    "create_lor_dict(df[df['year'] != 2019]);"
   ]
  },
  {
   "cell_type": "code",
   "execution_count": 11,
   "id": "4f7bbe3b",
   "metadata": {},
   "outputs": [],
   "source": [
    "# functional removal of nan keys from dict\n",
    "clean_dict = filter(lambda k: not isnan(k), lor_dict)"
   ]
  },
  {
   "cell_type": "code",
   "execution_count": 12,
   "id": "f96cd5ab",
   "metadata": {},
   "outputs": [],
   "source": [
    "clean_dict = {k: lor_dict[k] for k in lor_dict if not isnan(k)}"
   ]
  },
  {
   "cell_type": "code",
   "execution_count": 13,
   "id": "eb4a04e6",
   "metadata": {},
   "outputs": [
    {
     "data": {
      "text/plain": [
       "442"
      ]
     },
     "execution_count": 13,
     "metadata": {},
     "output_type": "execute_result"
    }
   ],
   "source": [
    "len(clean_dict.keys())"
   ]
  },
  {
   "cell_type": "code",
   "execution_count": 14,
   "id": "9b2a1d19",
   "metadata": {},
   "outputs": [
    {
     "data": {
      "text/plain": [
       "444"
      ]
     },
     "execution_count": 14,
     "metadata": {},
     "output_type": "execute_result"
    }
   ],
   "source": [
    "len(lor_dict)"
   ]
  },
  {
   "cell_type": "code",
   "execution_count": 15,
   "id": "49b76c1a",
   "metadata": {},
   "outputs": [],
   "source": [
    "#using map to create missing LOR_2021 values with the dict\n",
    "df['LOR_2021'] = df['LOR_2021'].fillna(df['LOR'].map(clean_dict))"
   ]
  },
  {
   "cell_type": "code",
   "execution_count": 16,
   "id": "43334aa1",
   "metadata": {},
   "outputs": [
    {
     "data": {
      "text/plain": [
       "3"
      ]
     },
     "execution_count": 16,
     "metadata": {},
     "output_type": "execute_result"
    }
   ],
   "source": [
    "df['LOR_2021'].isnull().sum()"
   ]
  },
  {
   "cell_type": "code",
   "execution_count": 17,
   "id": "4004e0b7",
   "metadata": {},
   "outputs": [],
   "source": [
    "df = df[df['LOR_2021'].notna()]"
   ]
  },
  {
   "cell_type": "code",
   "execution_count": 18,
   "id": "ead3cf34",
   "metadata": {},
   "outputs": [
    {
     "data": {
      "text/plain": [
       "0"
      ]
     },
     "execution_count": 18,
     "metadata": {},
     "output_type": "execute_result"
    }
   ],
   "source": [
    "df['LOR_2021'].isnull().sum()"
   ]
  },
  {
   "cell_type": "code",
   "execution_count": 21,
   "id": "bd7f4169",
   "metadata": {},
   "outputs": [],
   "source": [
    "from pathlib import Path\n",
    "\n",
    "df.to_csv(Path('../raw_data/df_LOR_2021.csv'), index=False)"
   ]
  }
 ],
 "metadata": {
  "kernelspec": {
   "display_name": "Python 3 (ipykernel)",
   "language": "python",
   "name": "python3"
  },
  "language_info": {
   "codemirror_mode": {
    "name": "ipython",
    "version": 3
   },
   "file_extension": ".py",
   "mimetype": "text/x-python",
   "name": "python",
   "nbconvert_exporter": "python",
   "pygments_lexer": "ipython3",
   "version": "3.8.12"
  },
  "toc": {
   "base_numbering": 1,
   "nav_menu": {},
   "number_sections": true,
   "sideBar": true,
   "skip_h1_title": false,
   "title_cell": "Table of Contents",
   "title_sidebar": "Contents",
   "toc_cell": false,
   "toc_position": {},
   "toc_section_display": true,
   "toc_window_display": false
  }
 },
 "nbformat": 4,
 "nbformat_minor": 5
}
