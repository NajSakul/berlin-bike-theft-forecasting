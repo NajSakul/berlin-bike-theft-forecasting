{
 "cells": [
  {
   "cell_type": "markdown",
   "id": "a63072f3",
   "metadata": {
    "id": "a63072f3"
   },
   "source": [
    "# Importing Library"
   ]
  },
  {
   "cell_type": "code",
   "execution_count": null,
   "id": "qU6cTEYtc5gs",
   "metadata": {
    "colab": {
     "base_uri": "https://localhost:8080/"
    },
    "executionInfo": {
     "elapsed": 5026,
     "status": "ok",
     "timestamp": 1645634378714,
     "user": {
      "displayName": "Toshi",
      "photoUrl": "https://lh3.googleusercontent.com/a/default-user=s64",
      "userId": "04468841333465606849"
     },
     "user_tz": -60
    },
    "id": "qU6cTEYtc5gs",
    "outputId": "e75694e0-8cdd-41a0-e0bc-fdf89d10930e"
   },
   "outputs": [],
   "source": [
    "! pip install config"
   ]
  },
  {
   "cell_type": "code",
   "execution_count": null,
   "id": "cb4b58ae",
   "metadata": {},
   "outputs": [],
   "source": [
    "! pip install folium"
   ]
  },
  {
   "cell_type": "code",
   "execution_count": 1,
   "id": "9e64bc6e",
   "metadata": {
    "executionInfo": {
     "elapsed": 337,
     "status": "ok",
     "timestamp": 1645634383678,
     "user": {
      "displayName": "Toshi",
      "photoUrl": "https://lh3.googleusercontent.com/a/default-user=s64",
      "userId": "04468841333465606849"
     },
     "user_tz": -60
    },
    "id": "9e64bc6e"
   },
   "outputs": [],
   "source": [
    "import pandas as pd\n",
    "import numpy as np\n",
    "import requests\n",
    "import folium\n",
    "import config\n",
    "from math import radians, cos, sin, asin, sqrt\n",
    "\n",
    "# DATA VISUALISATION\n",
    "import matplotlib.pyplot as plt\n",
    "import seaborn as sns\n"
   ]
  },
  {
   "cell_type": "markdown",
   "id": "8a0d3ae9",
   "metadata": {
    "id": "8a0d3ae9"
   },
   "source": [
    "# Data Sourcing"
   ]
  },
  {
   "cell_type": "markdown",
   "id": "60207051",
   "metadata": {
    "id": "60207051"
   },
   "source": [
    "## Accidents Data Loading and necessary PrePreprocessing"
   ]
  },
  {
   "cell_type": "code",
   "execution_count": 2,
   "id": "d11921d7",
   "metadata": {
    "colab": {
     "base_uri": "https://localhost:8080/",
     "height": 392
    },
    "executionInfo": {
     "elapsed": 259,
     "status": "error",
     "timestamp": 1645634388116,
     "user": {
      "displayName": "Toshi",
      "photoUrl": "https://lh3.googleusercontent.com/a/default-user=s64",
      "userId": "04468841333465606849"
     },
     "user_tz": -60
    },
    "id": "d11921d7",
    "outputId": "d83fe987-1c9a-48db-9213-1bfacc4a08d1",
    "scrolled": false
   },
   "outputs": [],
   "source": [
    "data2020 = pd.read_csv('../raw_data/B_Accident_data/AfSBBB_BE_LOR_Strasse_Strassenverkehrsunfaelle_2020_Datensatz.csv', sep=';')\n",
    "data2019 = pd.read_csv('../raw_data/B_Accident_data/AfSBBB_BE_LOR_Strasse_Strassenverkehrsunfaelle_2019_Datensatz.csv', sep=';')\n",
    "data2018 = pd.read_csv('../raw_data/B_Accident_data/AfSBBB_BE_LOR_Strasse_Strassenverkehrsunfaelle_2018_Datensatz.csv', sep=';')\n"
   ]
  },
  {
   "cell_type": "code",
   "execution_count": 3,
   "id": "f75af507",
   "metadata": {},
   "outputs": [
    {
     "data": {
      "text/plain": [
       "Index(['OBJECTID', 'LAND', 'BEZ', 'LOR', 'STRASSE', 'LOR_ab_2021', 'UJAHR',\n",
       "       'UMONAT', 'USTUNDE', 'UWOCHENTAG', 'UKATEGORIE', 'UART', 'UTYP1',\n",
       "       'ULICHTVERH', 'IstRad', 'IstPKW', 'IstFuss', 'IstKrad', 'IstGkfz',\n",
       "       'IstSonstig', 'STRZUSTAND', 'LINREFX', 'LINREFY', 'XGCSWGS84',\n",
       "       'YGCSWGS84'],\n",
       "      dtype='object')"
      ]
     },
     "execution_count": 3,
     "metadata": {},
     "output_type": "execute_result"
    }
   ],
   "source": [
    "data2018.keys()\n",
    "#data2018 contains an additional column 'STRASSE'"
   ]
  },
  {
   "cell_type": "code",
   "execution_count": 4,
   "id": "f9196a20",
   "metadata": {},
   "outputs": [],
   "source": [
    "#renaming column 'IstSonstig' so its equal to data 2019 and 2020\n",
    "data2018 = data2018.rename(columns={'IstSonstig': 'IstSonstige'});"
   ]
  },
  {
   "cell_type": "code",
   "execution_count": 5,
   "id": "787dcc0a",
   "metadata": {},
   "outputs": [],
   "source": [
    "#renaming column 'STRZUSTAND' so its equal to data 2019 and 2020\n",
    "data2018 = data2018.rename(columns={'STRZUSTAND': 'USTRZUSTAND'});"
   ]
  },
  {
   "cell_type": "code",
   "execution_count": 6,
   "id": "44a75876",
   "metadata": {},
   "outputs": [],
   "source": [
    "df = pd.concat([data2018, data2019, data2020])"
   ]
  },
  {
   "cell_type": "code",
   "execution_count": 7,
   "id": "f1fb01ad",
   "metadata": {},
   "outputs": [],
   "source": [
    "df = df.rename(columns={'OBJECTID': 'objectID', 'LAND': 'state', 'BEZ': 'district', 'LOR': 'LOR', 'STRASSE': 'street', 'LOR_ab_2021' : 'LOR_2021', 'UJAHR':'year', 'UMONAT': 'month', 'USTUNDE': 'hour', 'UWOCHENTAG':'weekday', 'UKATEGORIE':'category', 'UART' : 'accident_kind', 'UTYP1': 'accident_type','ULICHTVERH' : 'light_condition', 'IstRad': 'bicycle', 'IstPKW' : 'car', 'IstFuss' : 'pedestrian', 'IstKrad': 'motorcycle', 'IstGkfz': 'goods_vehicle','IstSonstige': 'others', 'USTRZUSTAND': 'road_condition', 'LINREFX' : 'LINREFX', 'LINREFY': 'LINREFY', 'XGCSWGS84': 'XGCSWGS84','YGCSWGS84': 'YGCSWGS84'})"
   ]
  },
  {
   "cell_type": "code",
   "execution_count": 8,
   "id": "48267035",
   "metadata": {},
   "outputs": [
    {
     "data": {
      "text/plain": [
       "Index(['objectID', 'state', 'district', 'LOR', 'street', 'LOR_2021', 'year',\n",
       "       'month', 'hour', 'weekday', 'category', 'accident_kind',\n",
       "       'accident_type', 'light_condition', 'bicycle', 'car', 'pedestrian',\n",
       "       'motorcycle', 'goods_vehicle', 'others', 'road_condition', 'LINREFX',\n",
       "       'LINREFY', 'XGCSWGS84', 'YGCSWGS84'],\n",
       "      dtype='object')"
      ]
     },
     "execution_count": 8,
     "metadata": {},
     "output_type": "execute_result"
    }
   ],
   "source": [
    "df.keys()"
   ]
  },
  {
   "cell_type": "code",
   "execution_count": 9,
   "id": "410aac42",
   "metadata": {
    "id": "410aac42"
   },
   "outputs": [],
   "source": [
    "#PrePreprocessing\n",
    "df['XGCSWGS84'] = df['XGCSWGS84'].map(lambda x: x.replace(',','.')).astype(float)\n",
    "df['YGCSWGS84'] = df['YGCSWGS84'].map(lambda x: x.replace(',','.')).astype(float)\n",
    "df['LINREFX'] = df['LINREFX'].map(lambda x: x.replace(',','.')).astype(float)\n",
    "df['LINREFY'] = df['LINREFY'].map(lambda x: x.replace(',','.')).astype(float)"
   ]
  },
  {
   "cell_type": "code",
   "execution_count": 14,
   "id": "978a6975",
   "metadata": {},
   "outputs": [],
   "source": [
    "df = df.set_index('objectID')"
   ]
  },
  {
   "cell_type": "code",
   "execution_count": 15,
   "id": "dbeb8470",
   "metadata": {},
   "outputs": [],
   "source": [
    "#droppping faulty row\n",
    "df = df.drop(index=201196)"
   ]
  },
  {
   "cell_type": "code",
   "execution_count": 16,
   "id": "67cb14f3",
   "metadata": {},
   "outputs": [],
   "source": [
    "#changing string objects to integers\n",
    "df['others'] = df['others'].astype(int)\n",
    "df['road_condition'] = df['road_condition'].astype(int)"
   ]
  },
  {
   "cell_type": "code",
   "execution_count": 18,
   "id": "799e9777",
   "metadata": {
    "id": "799e9777",
    "outputId": "67f4d3ab-d0d9-4ddc-90c9-9ee1ea3e34a4",
    "scrolled": true
   },
   "outputs": [
    {
     "data": {
      "text/plain": [
       "0    23544\n",
       "1    15306\n",
       "Name: bicycle, dtype: int64"
      ]
     },
     "execution_count": 18,
     "metadata": {},
     "output_type": "execute_result"
    }
   ],
   "source": [
    "#1 == Accidents with bicycles involved\n",
    "df.bicycle.value_counts()"
   ]
  },
  {
   "cell_type": "code",
   "execution_count": 20,
   "id": "3edbaa14",
   "metadata": {
    "id": "3edbaa14",
    "outputId": "da08277a-9225-4128-8bcc-9ac596e3094b"
   },
   "outputs": [
    {
     "data": {
      "text/html": [
       "<div>\n",
       "<style scoped>\n",
       "    .dataframe tbody tr th:only-of-type {\n",
       "        vertical-align: middle;\n",
       "    }\n",
       "\n",
       "    .dataframe tbody tr th {\n",
       "        vertical-align: top;\n",
       "    }\n",
       "\n",
       "    .dataframe thead th {\n",
       "        text-align: right;\n",
       "    }\n",
       "</style>\n",
       "<table border=\"1\" class=\"dataframe\">\n",
       "  <thead>\n",
       "    <tr style=\"text-align: right;\">\n",
       "      <th></th>\n",
       "      <th></th>\n",
       "      <th>bicycle</th>\n",
       "    </tr>\n",
       "    <tr>\n",
       "      <th>year</th>\n",
       "      <th>bicycle</th>\n",
       "      <th></th>\n",
       "    </tr>\n",
       "  </thead>\n",
       "  <tbody>\n",
       "    <tr>\n",
       "      <th rowspan=\"2\" valign=\"top\">2018</th>\n",
       "      <th>0</th>\n",
       "      <td>8459</td>\n",
       "    </tr>\n",
       "    <tr>\n",
       "      <th>1</th>\n",
       "      <td>5192</td>\n",
       "    </tr>\n",
       "    <tr>\n",
       "      <th rowspan=\"2\" valign=\"top\">2019</th>\n",
       "      <th>0</th>\n",
       "      <td>8384</td>\n",
       "    </tr>\n",
       "    <tr>\n",
       "      <th>1</th>\n",
       "      <td>5005</td>\n",
       "    </tr>\n",
       "    <tr>\n",
       "      <th rowspan=\"2\" valign=\"top\">2020</th>\n",
       "      <th>0</th>\n",
       "      <td>6701</td>\n",
       "    </tr>\n",
       "    <tr>\n",
       "      <th>1</th>\n",
       "      <td>5109</td>\n",
       "    </tr>\n",
       "  </tbody>\n",
       "</table>\n",
       "</div>"
      ],
      "text/plain": [
       "              bicycle\n",
       "year bicycle         \n",
       "2018 0           8459\n",
       "     1           5192\n",
       "2019 0           8384\n",
       "     1           5005\n",
       "2020 0           6701\n",
       "     1           5109"
      ]
     },
     "execution_count": 20,
     "metadata": {},
     "output_type": "execute_result"
    }
   ],
   "source": [
    "bike_accidents = pd.DataFrame(df.groupby('year').bicycle.value_counts())\n",
    "bike_accidents"
   ]
  },
  {
   "cell_type": "code",
   "execution_count": 21,
   "id": "42cbbe65",
   "metadata": {},
   "outputs": [],
   "source": [
    "#IMPORTANT: Filtering out all accidents not related to bikes\n",
    "df = df[df.bicycle == 1]"
   ]
  },
  {
   "cell_type": "code",
   "execution_count": 23,
   "id": "4ec9245d",
   "metadata": {},
   "outputs": [],
   "source": [
    "#dropping 100% unnecessary columns\n",
    "df = df.drop(columns=['bicycle', 'state'])"
   ]
  },
  {
   "cell_type": "code",
   "execution_count": null,
   "id": "940ee7b3",
   "metadata": {
    "id": "940ee7b3"
   },
   "outputs": [],
   "source": [
    "#Optional for look at individual years\n",
    "\n",
    "#accidents = {\n",
    "#    'w/ bicycle': [\n",
    "#    data2018.IstRad.value_counts()[1],\n",
    "#    data2019.IstRad.value_counts()[1],\n",
    "#    data2020.IstRad.value_counts()[1]\n",
    "#    ],\n",
    "#    'w/o bicycle': [\n",
    "#    data2018.IstRad.value_counts()[0], \n",
    "#    data2019.IstRad.value_counts()[0], \n",
    "#    data2020.IstRad.value_counts()[0]\n",
    "#    ],\n",
    "#    'involvement (%)': [\n",
    "#    round(data2018.IstRad.value_counts()[1]/len(data2018)*100, 2),\n",
    "#    round(data2019.IstRad.value_counts()[1]/len(data2019)*100, 2),\n",
    "#    round(data2020.IstRad.value_counts()[1]/len(data2020)*100, 2)   \n",
    "#    ],\n",
    "#}\n",
    "#\n",
    "#df = pd.DataFrame(accidents, index = [2018, 2019, 2020])\n",
    "#df"
   ]
  },
  {
   "cell_type": "markdown",
   "id": "e497562e",
   "metadata": {},
   "source": [
    "## EDA"
   ]
  },
  {
   "cell_type": "code",
   "execution_count": 24,
   "id": "85a306aa",
   "metadata": {},
   "outputs": [
    {
     "data": {
      "text/html": [
       "<div>\n",
       "<style scoped>\n",
       "    .dataframe tbody tr th:only-of-type {\n",
       "        vertical-align: middle;\n",
       "    }\n",
       "\n",
       "    .dataframe tbody tr th {\n",
       "        vertical-align: top;\n",
       "    }\n",
       "\n",
       "    .dataframe thead th {\n",
       "        text-align: right;\n",
       "    }\n",
       "</style>\n",
       "<table border=\"1\" class=\"dataframe\">\n",
       "  <thead>\n",
       "    <tr style=\"text-align: right;\">\n",
       "      <th></th>\n",
       "      <th>district</th>\n",
       "      <th>LOR</th>\n",
       "      <th>street</th>\n",
       "      <th>LOR_2021</th>\n",
       "      <th>year</th>\n",
       "      <th>month</th>\n",
       "      <th>hour</th>\n",
       "      <th>weekday</th>\n",
       "      <th>category</th>\n",
       "      <th>accident_kind</th>\n",
       "      <th>...</th>\n",
       "      <th>car</th>\n",
       "      <th>pedestrian</th>\n",
       "      <th>motorcycle</th>\n",
       "      <th>goods_vehicle</th>\n",
       "      <th>others</th>\n",
       "      <th>road_condition</th>\n",
       "      <th>LINREFX</th>\n",
       "      <th>LINREFY</th>\n",
       "      <th>XGCSWGS84</th>\n",
       "      <th>YGCSWGS84</th>\n",
       "    </tr>\n",
       "    <tr>\n",
       "      <th>objectID</th>\n",
       "      <th></th>\n",
       "      <th></th>\n",
       "      <th></th>\n",
       "      <th></th>\n",
       "      <th></th>\n",
       "      <th></th>\n",
       "      <th></th>\n",
       "      <th></th>\n",
       "      <th></th>\n",
       "      <th></th>\n",
       "      <th></th>\n",
       "      <th></th>\n",
       "      <th></th>\n",
       "      <th></th>\n",
       "      <th></th>\n",
       "      <th></th>\n",
       "      <th></th>\n",
       "      <th></th>\n",
       "      <th></th>\n",
       "      <th></th>\n",
       "      <th></th>\n",
       "    </tr>\n",
       "  </thead>\n",
       "  <tbody>\n",
       "    <tr>\n",
       "      <th>112747</th>\n",
       "      <td>3</td>\n",
       "      <td>3020209.0</td>\n",
       "      <td>Niederschönhausen</td>\n",
       "      <td>3200206.0</td>\n",
       "      <td>2018</td>\n",
       "      <td>1</td>\n",
       "      <td>15</td>\n",
       "      <td>4</td>\n",
       "      <td>3</td>\n",
       "      <td>6</td>\n",
       "      <td>...</td>\n",
       "      <td>0</td>\n",
       "      <td>1</td>\n",
       "      <td>0</td>\n",
       "      <td>0</td>\n",
       "      <td>0</td>\n",
       "      <td>1</td>\n",
       "      <td>798261.3849</td>\n",
       "      <td>5835047.260</td>\n",
       "      <td>13.403228</td>\n",
       "      <td>52.583472</td>\n",
       "    </tr>\n",
       "    <tr>\n",
       "      <th>112892</th>\n",
       "      <td>3</td>\n",
       "      <td>3071639.0</td>\n",
       "      <td>Bötzowstraße</td>\n",
       "      <td>3701660.0</td>\n",
       "      <td>2018</td>\n",
       "      <td>1</td>\n",
       "      <td>11</td>\n",
       "      <td>5</td>\n",
       "      <td>3</td>\n",
       "      <td>5</td>\n",
       "      <td>...</td>\n",
       "      <td>1</td>\n",
       "      <td>0</td>\n",
       "      <td>0</td>\n",
       "      <td>0</td>\n",
       "      <td>0</td>\n",
       "      <td>1</td>\n",
       "      <td>800551.7210</td>\n",
       "      <td>5829808.492</td>\n",
       "      <td>13.432186</td>\n",
       "      <td>52.535255</td>\n",
       "    </tr>\n",
       "    <tr>\n",
       "      <th>112902</th>\n",
       "      <td>2</td>\n",
       "      <td>2050602.0</td>\n",
       "      <td>Samariterviertel</td>\n",
       "      <td>2500729.0</td>\n",
       "      <td>2018</td>\n",
       "      <td>1</td>\n",
       "      <td>8</td>\n",
       "      <td>2</td>\n",
       "      <td>3</td>\n",
       "      <td>5</td>\n",
       "      <td>...</td>\n",
       "      <td>1</td>\n",
       "      <td>0</td>\n",
       "      <td>0</td>\n",
       "      <td>0</td>\n",
       "      <td>0</td>\n",
       "      <td>0</td>\n",
       "      <td>803320.7292</td>\n",
       "      <td>5827627.446</td>\n",
       "      <td>13.470897</td>\n",
       "      <td>52.514173</td>\n",
       "    </tr>\n",
       "    <tr>\n",
       "      <th>112921</th>\n",
       "      <td>1</td>\n",
       "      <td>1011204.0</td>\n",
       "      <td>Leipziger Straße                              ...</td>\n",
       "      <td>1100207.0</td>\n",
       "      <td>2018</td>\n",
       "      <td>1</td>\n",
       "      <td>19</td>\n",
       "      <td>4</td>\n",
       "      <td>3</td>\n",
       "      <td>5</td>\n",
       "      <td>...</td>\n",
       "      <td>1</td>\n",
       "      <td>0</td>\n",
       "      <td>0</td>\n",
       "      <td>0</td>\n",
       "      <td>0</td>\n",
       "      <td>1</td>\n",
       "      <td>798174.6913</td>\n",
       "      <td>5826939.978</td>\n",
       "      <td>13.394673</td>\n",
       "      <td>52.510848</td>\n",
       "    </tr>\n",
       "    <tr>\n",
       "      <th>112947</th>\n",
       "      <td>9</td>\n",
       "      <td>9020601.0</td>\n",
       "      <td>Schnellerstraße                               ...</td>\n",
       "      <td>9200613.0</td>\n",
       "      <td>2018</td>\n",
       "      <td>1</td>\n",
       "      <td>18</td>\n",
       "      <td>4</td>\n",
       "      <td>2</td>\n",
       "      <td>5</td>\n",
       "      <td>...</td>\n",
       "      <td>1</td>\n",
       "      <td>0</td>\n",
       "      <td>0</td>\n",
       "      <td>0</td>\n",
       "      <td>0</td>\n",
       "      <td>1</td>\n",
       "      <td>806109.6297</td>\n",
       "      <td>5821644.404</td>\n",
       "      <td>13.506372</td>\n",
       "      <td>52.458993</td>\n",
       "    </tr>\n",
       "  </tbody>\n",
       "</table>\n",
       "<p>5 rows × 22 columns</p>\n",
       "</div>"
      ],
      "text/plain": [
       "          district        LOR  \\\n",
       "objectID                        \n",
       "112747           3  3020209.0   \n",
       "112892           3  3071639.0   \n",
       "112902           2  2050602.0   \n",
       "112921           1  1011204.0   \n",
       "112947           9  9020601.0   \n",
       "\n",
       "                                                     street   LOR_2021  year  \\\n",
       "objectID                                                                       \n",
       "112747                                    Niederschönhausen  3200206.0  2018   \n",
       "112892                                         Bötzowstraße  3701660.0  2018   \n",
       "112902                                     Samariterviertel  2500729.0  2018   \n",
       "112921    Leipziger Straße                              ...  1100207.0  2018   \n",
       "112947    Schnellerstraße                               ...  9200613.0  2018   \n",
       "\n",
       "          month  hour  weekday  category  accident_kind  ...  car  pedestrian  \\\n",
       "objectID                                                 ...                    \n",
       "112747        1    15        4         3              6  ...    0           1   \n",
       "112892        1    11        5         3              5  ...    1           0   \n",
       "112902        1     8        2         3              5  ...    1           0   \n",
       "112921        1    19        4         3              5  ...    1           0   \n",
       "112947        1    18        4         2              5  ...    1           0   \n",
       "\n",
       "          motorcycle  goods_vehicle  others  road_condition      LINREFX  \\\n",
       "objectID                                                                   \n",
       "112747             0              0       0               1  798261.3849   \n",
       "112892             0              0       0               1  800551.7210   \n",
       "112902             0              0       0               0  803320.7292   \n",
       "112921             0              0       0               1  798174.6913   \n",
       "112947             0              0       0               1  806109.6297   \n",
       "\n",
       "              LINREFY  XGCSWGS84  YGCSWGS84  \n",
       "objectID                                     \n",
       "112747    5835047.260  13.403228  52.583472  \n",
       "112892    5829808.492  13.432186  52.535255  \n",
       "112902    5827627.446  13.470897  52.514173  \n",
       "112921    5826939.978  13.394673  52.510848  \n",
       "112947    5821644.404  13.506372  52.458993  \n",
       "\n",
       "[5 rows x 22 columns]"
      ]
     },
     "execution_count": 24,
     "metadata": {},
     "output_type": "execute_result"
    }
   ],
   "source": [
    "df.head()"
   ]
  },
  {
   "cell_type": "code",
   "execution_count": 25,
   "id": "bf09aebb",
   "metadata": {},
   "outputs": [
    {
     "data": {
      "text/plain": [
       "Index(['district', 'LOR', 'street', 'LOR_2021', 'year', 'month', 'hour',\n",
       "       'weekday', 'category', 'accident_kind', 'accident_type',\n",
       "       'light_condition', 'car', 'pedestrian', 'motorcycle', 'goods_vehicle',\n",
       "       'others', 'road_condition', 'LINREFX', 'LINREFY', 'XGCSWGS84',\n",
       "       'YGCSWGS84'],\n",
       "      dtype='object')"
      ]
     },
     "execution_count": 25,
     "metadata": {},
     "output_type": "execute_result"
    }
   ],
   "source": [
    "df.keys()"
   ]
  },
  {
   "cell_type": "code",
   "execution_count": 26,
   "id": "06a0ea03",
   "metadata": {},
   "outputs": [
    {
     "data": {
      "image/png": "[encoded data removed]",
      "text/plain": [
       "<Figure size 432x288 with 1 Axes>"
      ]
     },
     "metadata": {
      "needs_background": "light"
     },
     "output_type": "display_data"
    }
   ],
   "source": [
    "#countplot for accident category\n",
    "sns.countplot(data= df, x ='category');"
   ]
  },
  {
   "cell_type": "code",
   "execution_count": 27,
   "id": "c23494ee",
   "metadata": {},
   "outputs": [
    {
     "data": {
      "text/plain": [
       "33"
      ]
     },
     "execution_count": 27,
     "metadata": {},
     "output_type": "execute_result"
    }
   ],
   "source": [
    "#number of fatal accidents\n",
    "len(df[df.category == 1])"
   ]
  },
  {
   "cell_type": "code",
   "execution_count": 28,
   "id": "d00a4d55",
   "metadata": {},
   "outputs": [
    {
     "data": {
      "image/png": "[encoded data removed]",
      "text/plain": [
       "<Figure size 432x288 with 1 Axes>"
      ]
     },
     "metadata": {
      "needs_background": "light"
     },
     "output_type": "display_data"
    }
   ],
   "source": [
    "#countplot for accidents involving cars and not\n",
    "sns.countplot(data= df, x ='car');"
   ]
  },
  {
   "cell_type": "code",
   "execution_count": 29,
   "id": "2fa5ea4e",
   "metadata": {},
   "outputs": [
    {
     "data": {
      "image/png": "[encoded data removed]",
      "text/plain": [
       "<Figure size 432x288 with 1 Axes>"
      ]
     },
     "metadata": {
      "needs_background": "light"
     },
     "output_type": "display_data"
    }
   ],
   "source": [
    "#countplot for accidents involving pedestrians\n",
    "sns.countplot(data= df, x ='pedestrian');"
   ]
  },
  {
   "cell_type": "code",
   "execution_count": 30,
   "id": "2c295e8b",
   "metadata": {},
   "outputs": [
    {
     "data": {
      "image/png": "[encoded data removed]",
      "text/plain": [
       "<Figure size 432x288 with 1 Axes>"
      ]
     },
     "metadata": {
      "needs_background": "light"
     },
     "output_type": "display_data"
    }
   ],
   "source": [
    "#countplot for accidents involving motorcycles\n",
    "sns.countplot(data= df, x ='motorcycle');"
   ]
  },
  {
   "cell_type": "code",
   "execution_count": 31,
   "id": "f4647340",
   "metadata": {},
   "outputs": [
    {
     "data": {
      "image/png": "[encoded data removed]",
      "text/plain": [
       "<Figure size 432x288 with 1 Axes>"
      ]
     },
     "metadata": {
      "needs_background": "light"
     },
     "output_type": "display_data"
    }
   ],
   "source": [
    "#countplot for accidents involving goods vehicles\n",
    "sns.countplot(data= df, x ='goods_vehicle');"
   ]
  },
  {
   "cell_type": "code",
   "execution_count": 32,
   "id": "4e4f6f12",
   "metadata": {},
   "outputs": [
    {
     "data": {
      "image/png": "[encoded data removed]",
      "text/plain": [
       "<Figure size 432x288 with 1 Axes>"
      ]
     },
     "metadata": {
      "needs_background": "light"
     },
     "output_type": "display_data"
    }
   ],
   "source": [
    "#countplot for accidents involving goods vehicles\n",
    "sns.countplot(data= df, x ='others');"
   ]
  },
  {
   "cell_type": "code",
   "execution_count": 33,
   "id": "c288b06e",
   "metadata": {},
   "outputs": [
    {
     "data": {
      "image/png": "[encoded data removed]",
      "text/plain": [
       "<Figure size 432x288 with 1 Axes>"
      ]
     },
     "metadata": {
      "needs_background": "light"
     },
     "output_type": "display_data"
    }
   ],
   "source": [
    "#countplot for weekday of accident\n",
    "sns.countplot(data= df, x ='weekday');"
   ]
  },
  {
   "cell_type": "code",
   "execution_count": 34,
   "id": "607bdac8",
   "metadata": {},
   "outputs": [
    {
     "data": {
      "image/png": "[encoded data removed]",
      "text/plain": [
       "<Figure size 432x288 with 1 Axes>"
      ]
     },
     "metadata": {
      "needs_background": "light"
     },
     "output_type": "display_data"
    }
   ],
   "source": [
    "#countplot for hour of accident\n",
    "sns.countplot(data= df, x ='hour');"
   ]
  },
  {
   "cell_type": "code",
   "execution_count": 35,
   "id": "71abaefb",
   "metadata": {},
   "outputs": [
    {
     "data": {
      "image/png": "[encoded data removed]",
      "text/plain": [
       "<Figure size 432x288 with 1 Axes>"
      ]
     },
     "metadata": {
      "needs_background": "light"
     },
     "output_type": "display_data"
    }
   ],
   "source": [
    "#countplot for accident month\n",
    "sns.countplot(data= df, x ='month');"
   ]
  },
  {
   "cell_type": "code",
   "execution_count": 36,
   "id": "f37d8e4d",
   "metadata": {},
   "outputs": [
    {
     "data": {
      "image/png": "[encoded data removed]",
      "text/plain": [
       "<Figure size 432x288 with 1 Axes>"
      ]
     },
     "metadata": {
      "needs_background": "light"
     },
     "output_type": "display_data"
    }
   ],
   "source": [
    "#countplot for kind of accident\n",
    "sns.countplot(data= df, x ='accident_kind');"
   ]
  },
  {
   "cell_type": "code",
   "execution_count": 37,
   "id": "8aee66cb",
   "metadata": {},
   "outputs": [
    {
     "data": {
      "image/png": "[encoded data removed]",
      "text/plain": [
       "<Figure size 432x288 with 1 Axes>"
      ]
     },
     "metadata": {
      "needs_background": "light"
     },
     "output_type": "display_data"
    }
   ],
   "source": [
    "#countplot for type of accident\n",
    "sns.countplot(data= df, x ='accident_type');"
   ]
  },
  {
   "cell_type": "code",
   "execution_count": 38,
   "id": "48bd3258",
   "metadata": {},
   "outputs": [
    {
     "data": {
      "image/png": "[encoded data removed]",
      "text/plain": [
       "<Figure size 432x288 with 1 Axes>"
      ]
     },
     "metadata": {
      "needs_background": "light"
     },
     "output_type": "display_data"
    }
   ],
   "source": [
    "#countplot for accidents depending on light conditions\n",
    "sns.countplot(data= df, x ='light_condition');"
   ]
  },
  {
   "cell_type": "code",
   "execution_count": 39,
   "id": "85e8efa2",
   "metadata": {},
   "outputs": [
    {
     "data": {
      "image/png": "[encoded data removed]",
      "text/plain": [
       "<Figure size 432x288 with 1 Axes>"
      ]
     },
     "metadata": {
      "needs_background": "light"
     },
     "output_type": "display_data"
    }
   ],
   "source": [
    "#countplot for accidents depending on road condition\n",
    "sns.countplot(data= df, x ='road_condition');"
   ]
  },
  {
   "cell_type": "code",
   "execution_count": 59,
   "id": "dc10e1d1",
   "metadata": {},
   "outputs": [
    {
     "data": {
      "image/png": "[encoded data removed]",
      "text/plain": [
       "<Figure size 432x288 with 1 Axes>"
      ]
     },
     "metadata": {
      "needs_background": "light"
     },
     "output_type": "display_data"
    }
   ],
   "source": [
    "#countplot for accidents per district\n",
    "sns.countplot(data= df, x ='district');"
   ]
  },
  {
   "cell_type": "code",
   "execution_count": 74,
   "id": "85987ae4",
   "metadata": {},
   "outputs": [
    {
     "data": {
      "image/png": "[encoded data removed]",
      "text/plain": [
       "<Figure size 864x576 with 1 Axes>"
      ]
     },
     "metadata": {
      "needs_background": "light"
     },
     "output_type": "display_data"
    }
   ],
   "source": [
    "#countplot for accidents per LOR\n",
    "plt.figure(figsize=(12,8))\n",
    "sns.countplot(data= df, x = df[df'LOR' );"
   ]
  },
  {
   "cell_type": "code",
   "execution_count": 76,
   "id": "af256c96",
   "metadata": {},
   "outputs": [
    {
     "data": {
      "text/plain": [
       "14602"
      ]
     },
     "execution_count": 76,
     "metadata": {},
     "output_type": "execute_result"
    }
   ],
   "source": [
    "df['XGCSWGS84'].nunique()"
   ]
  },
  {
   "cell_type": "code",
   "execution_count": 40,
   "id": "cbadfe58",
   "metadata": {},
   "outputs": [
    {
     "data": {
      "text/plain": [
       "False"
      ]
     },
     "execution_count": 40,
     "metadata": {},
     "output_type": "execute_result"
    }
   ],
   "source": [
    "#checking for duplicates in index\n",
    "df.index.is_unique"
   ]
  },
  {
   "cell_type": "code",
   "execution_count": 43,
   "id": "5789e0b0",
   "metadata": {},
   "outputs": [
    {
     "data": {
      "text/plain": [
       "array([False, False, False, ..., False, False, False])"
      ]
     },
     "execution_count": 43,
     "metadata": {},
     "output_type": "execute_result"
    }
   ],
   "source": [
    "df.index.duplicated()"
   ]
  },
  {
   "cell_type": "code",
   "execution_count": 44,
   "id": "d2b0a1bc",
   "metadata": {},
   "outputs": [],
   "source": [
    "#resetting index to avoid inidex duplicates\n",
    "df = df.reset_index(drop=True)"
   ]
  },
  {
   "cell_type": "code",
   "execution_count": 45,
   "id": "5bcb1de7",
   "metadata": {},
   "outputs": [
    {
     "data": {
      "text/plain": [
       "True"
      ]
     },
     "execution_count": 45,
     "metadata": {},
     "output_type": "execute_result"
    }
   ],
   "source": [
    "#confirming it worked\n",
    "df.index.is_unique"
   ]
  },
  {
   "cell_type": "code",
   "execution_count": 58,
   "id": "2e4d8a94",
   "metadata": {},
   "outputs": [
    {
     "data": {
      "image/png": "[encoded data removed]",
      "text/plain": [
       "<Figure size 432x288 with 1 Axes>"
      ]
     },
     "metadata": {
      "needs_background": "light"
     },
     "output_type": "display_data"
    }
   ],
   "source": [
    "#histplot for accident category/weekday\n",
    "sns.histplot(x='weekday', hue='category', data=df, stat= 'count', multiple= 'stack', palette='pastel');"
   ]
  },
  {
   "cell_type": "code",
   "execution_count": 66,
   "id": "1d0d8baf",
   "metadata": {},
   "outputs": [
    {
     "data": {
      "text/html": [
       "<div>\n",
       "<style scoped>\n",
       "    .dataframe tbody tr th:only-of-type {\n",
       "        vertical-align: middle;\n",
       "    }\n",
       "\n",
       "    .dataframe tbody tr th {\n",
       "        vertical-align: top;\n",
       "    }\n",
       "\n",
       "    .dataframe thead th {\n",
       "        text-align: right;\n",
       "    }\n",
       "</style>\n",
       "<table border=\"1\" class=\"dataframe\">\n",
       "  <thead>\n",
       "    <tr style=\"text-align: right;\">\n",
       "      <th></th>\n",
       "      <th>district</th>\n",
       "      <th>LOR</th>\n",
       "      <th>LOR_2021</th>\n",
       "      <th>year</th>\n",
       "      <th>month</th>\n",
       "      <th>hour</th>\n",
       "      <th>weekday</th>\n",
       "      <th>category</th>\n",
       "      <th>accident_kind</th>\n",
       "      <th>accident_type</th>\n",
       "      <th>...</th>\n",
       "      <th>car</th>\n",
       "      <th>pedestrian</th>\n",
       "      <th>motorcycle</th>\n",
       "      <th>goods_vehicle</th>\n",
       "      <th>others</th>\n",
       "      <th>road_condition</th>\n",
       "      <th>LINREFX</th>\n",
       "      <th>LINREFY</th>\n",
       "      <th>XGCSWGS84</th>\n",
       "      <th>YGCSWGS84</th>\n",
       "    </tr>\n",
       "  </thead>\n",
       "  <tbody>\n",
       "    <tr>\n",
       "      <th>district</th>\n",
       "      <td>1.000000</td>\n",
       "      <td>0.997623</td>\n",
       "      <td>0.996532</td>\n",
       "      <td>0.034138</td>\n",
       "      <td>0.003766</td>\n",
       "      <td>-0.025135</td>\n",
       "      <td>0.002937</td>\n",
       "      <td>-0.054854</td>\n",
       "      <td>0.036678</td>\n",
       "      <td>-0.043917</td>\n",
       "      <td>...</td>\n",
       "      <td>0.049694</td>\n",
       "      <td>-0.042468</td>\n",
       "      <td>-0.035320</td>\n",
       "      <td>0.005218</td>\n",
       "      <td>-0.018653</td>\n",
       "      <td>-0.013076</td>\n",
       "      <td>0.276512</td>\n",
       "      <td>-0.165740</td>\n",
       "      <td>0.268818</td>\n",
       "      <td>-0.186165</td>\n",
       "    </tr>\n",
       "    <tr>\n",
       "      <th>LOR</th>\n",
       "      <td>0.997623</td>\n",
       "      <td>1.000000</td>\n",
       "      <td>0.999020</td>\n",
       "      <td>0.033230</td>\n",
       "      <td>0.003891</td>\n",
       "      <td>-0.025513</td>\n",
       "      <td>0.003218</td>\n",
       "      <td>-0.055374</td>\n",
       "      <td>0.037043</td>\n",
       "      <td>-0.044574</td>\n",
       "      <td>...</td>\n",
       "      <td>0.050794</td>\n",
       "      <td>-0.041916</td>\n",
       "      <td>-0.037529</td>\n",
       "      <td>0.005117</td>\n",
       "      <td>-0.019677</td>\n",
       "      <td>-0.012054</td>\n",
       "      <td>0.273273</td>\n",
       "      <td>-0.160675</td>\n",
       "      <td>0.265821</td>\n",
       "      <td>-0.180885</td>\n",
       "    </tr>\n",
       "    <tr>\n",
       "      <th>LOR_2021</th>\n",
       "      <td>0.996532</td>\n",
       "      <td>0.999020</td>\n",
       "      <td>1.000000</td>\n",
       "      <td>0.040677</td>\n",
       "      <td>-0.007759</td>\n",
       "      <td>-0.020272</td>\n",
       "      <td>0.006086</td>\n",
       "      <td>-0.054684</td>\n",
       "      <td>0.036163</td>\n",
       "      <td>-0.033635</td>\n",
       "      <td>...</td>\n",
       "      <td>0.055132</td>\n",
       "      <td>-0.035269</td>\n",
       "      <td>-0.033339</td>\n",
       "      <td>0.009619</td>\n",
       "      <td>-0.019576</td>\n",
       "      <td>-0.012234</td>\n",
       "      <td>0.277025</td>\n",
       "      <td>-0.154692</td>\n",
       "      <td>0.269787</td>\n",
       "      <td>-0.175268</td>\n",
       "    </tr>\n",
       "    <tr>\n",
       "      <th>year</th>\n",
       "      <td>0.034138</td>\n",
       "      <td>0.033230</td>\n",
       "      <td>0.040677</td>\n",
       "      <td>1.000000</td>\n",
       "      <td>0.012463</td>\n",
       "      <td>0.025733</td>\n",
       "      <td>-0.001170</td>\n",
       "      <td>0.010832</td>\n",
       "      <td>-0.030467</td>\n",
       "      <td>-0.009587</td>\n",
       "      <td>...</td>\n",
       "      <td>-0.008088</td>\n",
       "      <td>-0.020079</td>\n",
       "      <td>0.005018</td>\n",
       "      <td>-0.010406</td>\n",
       "      <td>-0.036515</td>\n",
       "      <td>0.051709</td>\n",
       "      <td>0.010306</td>\n",
       "      <td>-0.018219</td>\n",
       "      <td>0.009433</td>\n",
       "      <td>-0.018889</td>\n",
       "    </tr>\n",
       "    <tr>\n",
       "      <th>month</th>\n",
       "      <td>0.003766</td>\n",
       "      <td>0.003891</td>\n",
       "      <td>-0.007759</td>\n",
       "      <td>0.012463</td>\n",
       "      <td>1.000000</td>\n",
       "      <td>-0.024436</td>\n",
       "      <td>0.005066</td>\n",
       "      <td>0.010947</td>\n",
       "      <td>-0.024246</td>\n",
       "      <td>-0.004513</td>\n",
       "      <td>...</td>\n",
       "      <td>-0.013839</td>\n",
       "      <td>-0.003937</td>\n",
       "      <td>0.019278</td>\n",
       "      <td>-0.009950</td>\n",
       "      <td>-0.000120</td>\n",
       "      <td>0.021056</td>\n",
       "      <td>-0.007417</td>\n",
       "      <td>0.005489</td>\n",
       "      <td>-0.007162</td>\n",
       "      <td>0.006018</td>\n",
       "    </tr>\n",
       "    <tr>\n",
       "      <th>hour</th>\n",
       "      <td>-0.025135</td>\n",
       "      <td>-0.025513</td>\n",
       "      <td>-0.020272</td>\n",
       "      <td>0.025733</td>\n",
       "      <td>-0.024436</td>\n",
       "      <td>1.000000</td>\n",
       "      <td>0.003638</td>\n",
       "      <td>-0.002614</td>\n",
       "      <td>-0.018719</td>\n",
       "      <td>0.042093</td>\n",
       "      <td>...</td>\n",
       "      <td>0.017773</td>\n",
       "      <td>0.039635</td>\n",
       "      <td>0.018386</td>\n",
       "      <td>-0.075014</td>\n",
       "      <td>-0.015918</td>\n",
       "      <td>-0.023059</td>\n",
       "      <td>-0.013051</td>\n",
       "      <td>-0.009194</td>\n",
       "      <td>-0.013508</td>\n",
       "      <td>-0.008093</td>\n",
       "    </tr>\n",
       "    <tr>\n",
       "      <th>weekday</th>\n",
       "      <td>0.002937</td>\n",
       "      <td>0.003218</td>\n",
       "      <td>0.006086</td>\n",
       "      <td>-0.001170</td>\n",
       "      <td>0.005066</td>\n",
       "      <td>0.003638</td>\n",
       "      <td>1.000000</td>\n",
       "      <td>-0.007070</td>\n",
       "      <td>0.003427</td>\n",
       "      <td>-0.000661</td>\n",
       "      <td>...</td>\n",
       "      <td>0.013773</td>\n",
       "      <td>-0.001653</td>\n",
       "      <td>-0.001535</td>\n",
       "      <td>-0.008558</td>\n",
       "      <td>-0.006034</td>\n",
       "      <td>0.002510</td>\n",
       "      <td>-0.001361</td>\n",
       "      <td>0.015314</td>\n",
       "      <td>-0.000615</td>\n",
       "      <td>0.015309</td>\n",
       "    </tr>\n",
       "    <tr>\n",
       "      <th>category</th>\n",
       "      <td>-0.054854</td>\n",
       "      <td>-0.055374</td>\n",
       "      <td>-0.054684</td>\n",
       "      <td>0.010832</td>\n",
       "      <td>0.010947</td>\n",
       "      <td>-0.002614</td>\n",
       "      <td>-0.007070</td>\n",
       "      <td>1.000000</td>\n",
       "      <td>0.006237</td>\n",
       "      <td>0.048337</td>\n",
       "      <td>...</td>\n",
       "      <td>0.107121</td>\n",
       "      <td>-0.005141</td>\n",
       "      <td>-0.002093</td>\n",
       "      <td>-0.088768</td>\n",
       "      <td>0.023408</td>\n",
       "      <td>0.008394</td>\n",
       "      <td>-0.002004</td>\n",
       "      <td>0.019666</td>\n",
       "      <td>-0.001065</td>\n",
       "      <td>0.019768</td>\n",
       "    </tr>\n",
       "    <tr>\n",
       "      <th>accident_kind</th>\n",
       "      <td>0.036678</td>\n",
       "      <td>0.037043</td>\n",
       "      <td>0.036163</td>\n",
       "      <td>-0.030467</td>\n",
       "      <td>-0.024246</td>\n",
       "      <td>-0.018719</td>\n",
       "      <td>0.003427</td>\n",
       "      <td>0.006237</td>\n",
       "      <td>1.000000</td>\n",
       "      <td>-0.217822</td>\n",
       "      <td>...</td>\n",
       "      <td>0.139833</td>\n",
       "      <td>0.243751</td>\n",
       "      <td>0.001224</td>\n",
       "      <td>0.003261</td>\n",
       "      <td>-0.071792</td>\n",
       "      <td>-0.041969</td>\n",
       "      <td>0.018241</td>\n",
       "      <td>0.025163</td>\n",
       "      <td>0.019485</td>\n",
       "      <td>0.023544</td>\n",
       "    </tr>\n",
       "    <tr>\n",
       "      <th>accident_type</th>\n",
       "      <td>-0.043917</td>\n",
       "      <td>-0.044574</td>\n",
       "      <td>-0.033635</td>\n",
       "      <td>-0.009587</td>\n",
       "      <td>-0.004513</td>\n",
       "      <td>0.042093</td>\n",
       "      <td>-0.000661</td>\n",
       "      <td>0.048337</td>\n",
       "      <td>-0.217822</td>\n",
       "      <td>1.000000</td>\n",
       "      <td>...</td>\n",
       "      <td>-0.078966</td>\n",
       "      <td>0.203063</td>\n",
       "      <td>-0.026507</td>\n",
       "      <td>-0.008721</td>\n",
       "      <td>0.065540</td>\n",
       "      <td>-0.047716</td>\n",
       "      <td>-0.026210</td>\n",
       "      <td>-0.017806</td>\n",
       "      <td>-0.027114</td>\n",
       "      <td>-0.015604</td>\n",
       "    </tr>\n",
       "    <tr>\n",
       "      <th>light_condition</th>\n",
       "      <td>-0.044105</td>\n",
       "      <td>-0.042736</td>\n",
       "      <td>-0.046242</td>\n",
       "      <td>-0.004701</td>\n",
       "      <td>0.056366</td>\n",
       "      <td>0.253323</td>\n",
       "      <td>0.029711</td>\n",
       "      <td>-0.023468</td>\n",
       "      <td>-0.049539</td>\n",
       "      <td>-0.000831</td>\n",
       "      <td>...</td>\n",
       "      <td>-0.015176</td>\n",
       "      <td>0.024324</td>\n",
       "      <td>-0.011623</td>\n",
       "      <td>-0.049163</td>\n",
       "      <td>-0.020957</td>\n",
       "      <td>0.206283</td>\n",
       "      <td>0.019985</td>\n",
       "      <td>0.021856</td>\n",
       "      <td>0.021096</td>\n",
       "      <td>0.020227</td>\n",
       "    </tr>\n",
       "    <tr>\n",
       "      <th>car</th>\n",
       "      <td>0.049694</td>\n",
       "      <td>0.050794</td>\n",
       "      <td>0.055132</td>\n",
       "      <td>-0.008088</td>\n",
       "      <td>-0.013839</td>\n",
       "      <td>0.017773</td>\n",
       "      <td>0.013773</td>\n",
       "      <td>0.107121</td>\n",
       "      <td>0.139833</td>\n",
       "      <td>-0.078966</td>\n",
       "      <td>...</td>\n",
       "      <td>1.000000</td>\n",
       "      <td>-0.370574</td>\n",
       "      <td>-0.178050</td>\n",
       "      <td>-0.204656</td>\n",
       "      <td>-0.377189</td>\n",
       "      <td>0.006494</td>\n",
       "      <td>-0.015864</td>\n",
       "      <td>-0.005956</td>\n",
       "      <td>-0.016181</td>\n",
       "      <td>-0.004717</td>\n",
       "    </tr>\n",
       "    <tr>\n",
       "      <th>pedestrian</th>\n",
       "      <td>-0.042468</td>\n",
       "      <td>-0.041916</td>\n",
       "      <td>-0.035269</td>\n",
       "      <td>-0.020079</td>\n",
       "      <td>-0.003937</td>\n",
       "      <td>0.039635</td>\n",
       "      <td>-0.001653</td>\n",
       "      <td>-0.005141</td>\n",
       "      <td>0.243751</td>\n",
       "      <td>0.203063</td>\n",
       "      <td>...</td>\n",
       "      <td>-0.370574</td>\n",
       "      <td>1.000000</td>\n",
       "      <td>-0.032892</td>\n",
       "      <td>-0.039839</td>\n",
       "      <td>-0.082387</td>\n",
       "      <td>-0.010849</td>\n",
       "      <td>-0.021628</td>\n",
       "      <td>0.008483</td>\n",
       "      <td>-0.021242</td>\n",
       "      <td>0.010126</td>\n",
       "    </tr>\n",
       "    <tr>\n",
       "      <th>motorcycle</th>\n",
       "      <td>-0.035320</td>\n",
       "      <td>-0.037529</td>\n",
       "      <td>-0.033339</td>\n",
       "      <td>0.005018</td>\n",
       "      <td>0.019278</td>\n",
       "      <td>0.018386</td>\n",
       "      <td>-0.001535</td>\n",
       "      <td>-0.002093</td>\n",
       "      <td>0.001224</td>\n",
       "      <td>-0.026507</td>\n",
       "      <td>...</td>\n",
       "      <td>-0.178050</td>\n",
       "      <td>-0.032892</td>\n",
       "      <td>1.000000</td>\n",
       "      <td>-0.017501</td>\n",
       "      <td>-0.042733</td>\n",
       "      <td>-0.012855</td>\n",
       "      <td>-0.002780</td>\n",
       "      <td>0.008703</td>\n",
       "      <td>-0.002363</td>\n",
       "      <td>0.008892</td>\n",
       "    </tr>\n",
       "    <tr>\n",
       "      <th>goods_vehicle</th>\n",
       "      <td>0.005218</td>\n",
       "      <td>0.005117</td>\n",
       "      <td>0.009619</td>\n",
       "      <td>-0.010406</td>\n",
       "      <td>-0.009950</td>\n",
       "      <td>-0.075014</td>\n",
       "      <td>-0.008558</td>\n",
       "      <td>-0.088768</td>\n",
       "      <td>0.003261</td>\n",
       "      <td>-0.008721</td>\n",
       "      <td>...</td>\n",
       "      <td>-0.204656</td>\n",
       "      <td>-0.039839</td>\n",
       "      <td>-0.017501</td>\n",
       "      <td>1.000000</td>\n",
       "      <td>-0.038903</td>\n",
       "      <td>-0.008640</td>\n",
       "      <td>-0.008516</td>\n",
       "      <td>-0.013574</td>\n",
       "      <td>-0.009191</td>\n",
       "      <td>-0.012793</td>\n",
       "    </tr>\n",
       "    <tr>\n",
       "      <th>others</th>\n",
       "      <td>-0.018653</td>\n",
       "      <td>-0.019677</td>\n",
       "      <td>-0.019576</td>\n",
       "      <td>-0.036515</td>\n",
       "      <td>-0.000120</td>\n",
       "      <td>-0.015918</td>\n",
       "      <td>-0.006034</td>\n",
       "      <td>0.023408</td>\n",
       "      <td>-0.071792</td>\n",
       "      <td>0.065540</td>\n",
       "      <td>...</td>\n",
       "      <td>-0.377189</td>\n",
       "      <td>-0.082387</td>\n",
       "      <td>-0.042733</td>\n",
       "      <td>-0.038903</td>\n",
       "      <td>1.000000</td>\n",
       "      <td>-0.015125</td>\n",
       "      <td>0.014909</td>\n",
       "      <td>0.004536</td>\n",
       "      <td>0.015157</td>\n",
       "      <td>0.003388</td>\n",
       "    </tr>\n",
       "    <tr>\n",
       "      <th>road_condition</th>\n",
       "      <td>-0.013076</td>\n",
       "      <td>-0.012054</td>\n",
       "      <td>-0.012234</td>\n",
       "      <td>0.051709</td>\n",
       "      <td>0.021056</td>\n",
       "      <td>-0.023059</td>\n",
       "      <td>0.002510</td>\n",
       "      <td>0.008394</td>\n",
       "      <td>-0.041969</td>\n",
       "      <td>-0.047716</td>\n",
       "      <td>...</td>\n",
       "      <td>0.006494</td>\n",
       "      <td>-0.010849</td>\n",
       "      <td>-0.012855</td>\n",
       "      <td>-0.008640</td>\n",
       "      <td>-0.015125</td>\n",
       "      <td>1.000000</td>\n",
       "      <td>0.005515</td>\n",
       "      <td>0.001724</td>\n",
       "      <td>0.005617</td>\n",
       "      <td>0.001302</td>\n",
       "    </tr>\n",
       "    <tr>\n",
       "      <th>LINREFX</th>\n",
       "      <td>0.276512</td>\n",
       "      <td>0.273273</td>\n",
       "      <td>0.277025</td>\n",
       "      <td>0.010306</td>\n",
       "      <td>-0.007417</td>\n",
       "      <td>-0.013051</td>\n",
       "      <td>-0.001361</td>\n",
       "      <td>-0.002004</td>\n",
       "      <td>0.018241</td>\n",
       "      <td>-0.026210</td>\n",
       "      <td>...</td>\n",
       "      <td>-0.015864</td>\n",
       "      <td>-0.021628</td>\n",
       "      <td>-0.002780</td>\n",
       "      <td>-0.008516</td>\n",
       "      <td>0.014909</td>\n",
       "      <td>0.005515</td>\n",
       "      <td>1.000000</td>\n",
       "      <td>-0.061114</td>\n",
       "      <td>0.998843</td>\n",
       "      <td>-0.137461</td>\n",
       "    </tr>\n",
       "    <tr>\n",
       "      <th>LINREFY</th>\n",
       "      <td>-0.165740</td>\n",
       "      <td>-0.160675</td>\n",
       "      <td>-0.154692</td>\n",
       "      <td>-0.018219</td>\n",
       "      <td>0.005489</td>\n",
       "      <td>-0.009194</td>\n",
       "      <td>0.015314</td>\n",
       "      <td>0.019666</td>\n",
       "      <td>0.025163</td>\n",
       "      <td>-0.017806</td>\n",
       "      <td>...</td>\n",
       "      <td>-0.005956</td>\n",
       "      <td>0.008483</td>\n",
       "      <td>0.008703</td>\n",
       "      <td>-0.013574</td>\n",
       "      <td>0.004536</td>\n",
       "      <td>0.001724</td>\n",
       "      <td>-0.061114</td>\n",
       "      <td>1.000000</td>\n",
       "      <td>-0.013061</td>\n",
       "      <td>0.997056</td>\n",
       "    </tr>\n",
       "    <tr>\n",
       "      <th>XGCSWGS84</th>\n",
       "      <td>0.268818</td>\n",
       "      <td>0.265821</td>\n",
       "      <td>0.269787</td>\n",
       "      <td>0.009433</td>\n",
       "      <td>-0.007162</td>\n",
       "      <td>-0.013508</td>\n",
       "      <td>-0.000615</td>\n",
       "      <td>-0.001065</td>\n",
       "      <td>0.019485</td>\n",
       "      <td>-0.027114</td>\n",
       "      <td>...</td>\n",
       "      <td>-0.016181</td>\n",
       "      <td>-0.021242</td>\n",
       "      <td>-0.002363</td>\n",
       "      <td>-0.009191</td>\n",
       "      <td>0.015157</td>\n",
       "      <td>0.005617</td>\n",
       "      <td>0.998843</td>\n",
       "      <td>-0.013061</td>\n",
       "      <td>1.000000</td>\n",
       "      <td>-0.089687</td>\n",
       "    </tr>\n",
       "    <tr>\n",
       "      <th>YGCSWGS84</th>\n",
       "      <td>-0.186165</td>\n",
       "      <td>-0.180885</td>\n",
       "      <td>-0.175268</td>\n",
       "      <td>-0.018889</td>\n",
       "      <td>0.006018</td>\n",
       "      <td>-0.008093</td>\n",
       "      <td>0.015309</td>\n",
       "      <td>0.019768</td>\n",
       "      <td>0.023544</td>\n",
       "      <td>-0.015604</td>\n",
       "      <td>...</td>\n",
       "      <td>-0.004717</td>\n",
       "      <td>0.010126</td>\n",
       "      <td>0.008892</td>\n",
       "      <td>-0.012793</td>\n",
       "      <td>0.003388</td>\n",
       "      <td>0.001302</td>\n",
       "      <td>-0.137461</td>\n",
       "      <td>0.997056</td>\n",
       "      <td>-0.089687</td>\n",
       "      <td>1.000000</td>\n",
       "    </tr>\n",
       "  </tbody>\n",
       "</table>\n",
       "<p>21 rows × 21 columns</p>\n",
       "</div>"
      ],
      "text/plain": [
       "                 district       LOR  LOR_2021      year     month      hour  \\\n",
       "district         1.000000  0.997623  0.996532  0.034138  0.003766 -0.025135   \n",
       "LOR              0.997623  1.000000  0.999020  0.033230  0.003891 -0.025513   \n",
       "LOR_2021         0.996532  0.999020  1.000000  0.040677 -0.007759 -0.020272   \n",
       "year             0.034138  0.033230  0.040677  1.000000  0.012463  0.025733   \n",
       "month            0.003766  0.003891 -0.007759  0.012463  1.000000 -0.024436   \n",
       "hour            -0.025135 -0.025513 -0.020272  0.025733 -0.024436  1.000000   \n",
       "weekday          0.002937  0.003218  0.006086 -0.001170  0.005066  0.003638   \n",
       "category        -0.054854 -0.055374 -0.054684  0.010832  0.010947 -0.002614   \n",
       "accident_kind    0.036678  0.037043  0.036163 -0.030467 -0.024246 -0.018719   \n",
       "accident_type   -0.043917 -0.044574 -0.033635 -0.009587 -0.004513  0.042093   \n",
       "light_condition -0.044105 -0.042736 -0.046242 -0.004701  0.056366  0.253323   \n",
       "car              0.049694  0.050794  0.055132 -0.008088 -0.013839  0.017773   \n",
       "pedestrian      -0.042468 -0.041916 -0.035269 -0.020079 -0.003937  0.039635   \n",
       "motorcycle      -0.035320 -0.037529 -0.033339  0.005018  0.019278  0.018386   \n",
       "goods_vehicle    0.005218  0.005117  0.009619 -0.010406 -0.009950 -0.075014   \n",
       "others          -0.018653 -0.019677 -0.019576 -0.036515 -0.000120 -0.015918   \n",
       "road_condition  -0.013076 -0.012054 -0.012234  0.051709  0.021056 -0.023059   \n",
       "LINREFX          0.276512  0.273273  0.277025  0.010306 -0.007417 -0.013051   \n",
       "LINREFY         -0.165740 -0.160675 -0.154692 -0.018219  0.005489 -0.009194   \n",
       "XGCSWGS84        0.268818  0.265821  0.269787  0.009433 -0.007162 -0.013508   \n",
       "YGCSWGS84       -0.186165 -0.180885 -0.175268 -0.018889  0.006018 -0.008093   \n",
       "\n",
       "                  weekday  category  accident_kind  accident_type  ...  \\\n",
       "district         0.002937 -0.054854       0.036678      -0.043917  ...   \n",
       "LOR              0.003218 -0.055374       0.037043      -0.044574  ...   \n",
       "LOR_2021         0.006086 -0.054684       0.036163      -0.033635  ...   \n",
       "year            -0.001170  0.010832      -0.030467      -0.009587  ...   \n",
       "month            0.005066  0.010947      -0.024246      -0.004513  ...   \n",
       "hour             0.003638 -0.002614      -0.018719       0.042093  ...   \n",
       "weekday          1.000000 -0.007070       0.003427      -0.000661  ...   \n",
       "category        -0.007070  1.000000       0.006237       0.048337  ...   \n",
       "accident_kind    0.003427  0.006237       1.000000      -0.217822  ...   \n",
       "accident_type   -0.000661  0.048337      -0.217822       1.000000  ...   \n",
       "light_condition  0.029711 -0.023468      -0.049539      -0.000831  ...   \n",
       "car              0.013773  0.107121       0.139833      -0.078966  ...   \n",
       "pedestrian      -0.001653 -0.005141       0.243751       0.203063  ...   \n",
       "motorcycle      -0.001535 -0.002093       0.001224      -0.026507  ...   \n",
       "goods_vehicle   -0.008558 -0.088768       0.003261      -0.008721  ...   \n",
       "others          -0.006034  0.023408      -0.071792       0.065540  ...   \n",
       "road_condition   0.002510  0.008394      -0.041969      -0.047716  ...   \n",
       "LINREFX         -0.001361 -0.002004       0.018241      -0.026210  ...   \n",
       "LINREFY          0.015314  0.019666       0.025163      -0.017806  ...   \n",
       "XGCSWGS84       -0.000615 -0.001065       0.019485      -0.027114  ...   \n",
       "YGCSWGS84        0.015309  0.019768       0.023544      -0.015604  ...   \n",
       "\n",
       "                      car  pedestrian  motorcycle  goods_vehicle    others  \\\n",
       "district         0.049694   -0.042468   -0.035320       0.005218 -0.018653   \n",
       "LOR              0.050794   -0.041916   -0.037529       0.005117 -0.019677   \n",
       "LOR_2021         0.055132   -0.035269   -0.033339       0.009619 -0.019576   \n",
       "year            -0.008088   -0.020079    0.005018      -0.010406 -0.036515   \n",
       "month           -0.013839   -0.003937    0.019278      -0.009950 -0.000120   \n",
       "hour             0.017773    0.039635    0.018386      -0.075014 -0.015918   \n",
       "weekday          0.013773   -0.001653   -0.001535      -0.008558 -0.006034   \n",
       "category         0.107121   -0.005141   -0.002093      -0.088768  0.023408   \n",
       "accident_kind    0.139833    0.243751    0.001224       0.003261 -0.071792   \n",
       "accident_type   -0.078966    0.203063   -0.026507      -0.008721  0.065540   \n",
       "light_condition -0.015176    0.024324   -0.011623      -0.049163 -0.020957   \n",
       "car              1.000000   -0.370574   -0.178050      -0.204656 -0.377189   \n",
       "pedestrian      -0.370574    1.000000   -0.032892      -0.039839 -0.082387   \n",
       "motorcycle      -0.178050   -0.032892    1.000000      -0.017501 -0.042733   \n",
       "goods_vehicle   -0.204656   -0.039839   -0.017501       1.000000 -0.038903   \n",
       "others          -0.377189   -0.082387   -0.042733      -0.038903  1.000000   \n",
       "road_condition   0.006494   -0.010849   -0.012855      -0.008640 -0.015125   \n",
       "LINREFX         -0.015864   -0.021628   -0.002780      -0.008516  0.014909   \n",
       "LINREFY         -0.005956    0.008483    0.008703      -0.013574  0.004536   \n",
       "XGCSWGS84       -0.016181   -0.021242   -0.002363      -0.009191  0.015157   \n",
       "YGCSWGS84       -0.004717    0.010126    0.008892      -0.012793  0.003388   \n",
       "\n",
       "                 road_condition   LINREFX   LINREFY  XGCSWGS84  YGCSWGS84  \n",
       "district              -0.013076  0.276512 -0.165740   0.268818  -0.186165  \n",
       "LOR                   -0.012054  0.273273 -0.160675   0.265821  -0.180885  \n",
       "LOR_2021              -0.012234  0.277025 -0.154692   0.269787  -0.175268  \n",
       "year                   0.051709  0.010306 -0.018219   0.009433  -0.018889  \n",
       "month                  0.021056 -0.007417  0.005489  -0.007162   0.006018  \n",
       "hour                  -0.023059 -0.013051 -0.009194  -0.013508  -0.008093  \n",
       "weekday                0.002510 -0.001361  0.015314  -0.000615   0.015309  \n",
       "category               0.008394 -0.002004  0.019666  -0.001065   0.019768  \n",
       "accident_kind         -0.041969  0.018241  0.025163   0.019485   0.023544  \n",
       "accident_type         -0.047716 -0.026210 -0.017806  -0.027114  -0.015604  \n",
       "light_condition        0.206283  0.019985  0.021856   0.021096   0.020227  \n",
       "car                    0.006494 -0.015864 -0.005956  -0.016181  -0.004717  \n",
       "pedestrian            -0.010849 -0.021628  0.008483  -0.021242   0.010126  \n",
       "motorcycle            -0.012855 -0.002780  0.008703  -0.002363   0.008892  \n",
       "goods_vehicle         -0.008640 -0.008516 -0.013574  -0.009191  -0.012793  \n",
       "others                -0.015125  0.014909  0.004536   0.015157   0.003388  \n",
       "road_condition         1.000000  0.005515  0.001724   0.005617   0.001302  \n",
       "LINREFX                0.005515  1.000000 -0.061114   0.998843  -0.137461  \n",
       "LINREFY                0.001724 -0.061114  1.000000  -0.013061   0.997056  \n",
       "XGCSWGS84              0.005617  0.998843 -0.013061   1.000000  -0.089687  \n",
       "YGCSWGS84              0.001302 -0.137461  0.997056  -0.089687   1.000000  \n",
       "\n",
       "[21 rows x 21 columns]"
      ]
     },
     "execution_count": 66,
     "metadata": {},
     "output_type": "execute_result"
    }
   ],
   "source": [
    "df.corr()"
   ]
  },
  {
   "cell_type": "code",
   "execution_count": 68,
   "id": "9e488d5e",
   "metadata": {},
   "outputs": [
    {
     "data": {
      "text/plain": [
       "<AxesSubplot:>"
      ]
     },
     "execution_count": 68,
     "metadata": {},
     "output_type": "execute_result"
    },
    {
     "data": {
      "image/png": "[encoded data removed]",
      "text/plain": [
       "<Figure size 864x576 with 2 Axes>"
      ]
     },
     "metadata": {
      "needs_background": "light"
     },
     "output_type": "display_data"
    }
   ],
   "source": [
    "#correlation table\n",
    "plt.figure(figsize=(12,8))\n",
    "sns.heatmap(df.corr(), cmap=\"YlGnBu\")"
   ]
  },
  {
   "cell_type": "code",
   "execution_count": 70,
   "id": "6d083316",
   "metadata": {},
   "outputs": [
    {
     "data": {
      "text/plain": [
       "443"
      ]
     },
     "execution_count": 70,
     "metadata": {},
     "output_type": "execute_result"
    }
   ],
   "source": [
    "df['LOR'].nunique()"
   ]
  },
  {
   "cell_type": "markdown",
   "id": "5b20e596",
   "metadata": {
    "heading_collapsed": true,
    "id": "5b20e596"
   },
   "source": [
    "## infraVelo API"
   ]
  },
  {
   "cell_type": "code",
   "execution_count": null,
   "id": "3df9f3e0",
   "metadata": {
    "hidden": true,
    "id": "3df9f3e0",
    "outputId": "86af989c-94e8-4c19-9f92-a51f5164df76",
    "scrolled": true
   },
   "outputs": [],
   "source": [
    "url = 'https://www.infravelo.de/api/v1/projects/'\n",
    "url2 = 'https://www.infravelo.de/api/v1/projects/50/50/'\n",
    "url3 = 'https://www.infravelo.de/api/v1/projects/100/50/'\n",
    "url4 = 'https://www.infravelo.de/api/v1/projects/150/50/'\n",
    "response = requests.get(url3).json()\n",
    "response"
   ]
  },
  {
   "cell_type": "code",
   "execution_count": null,
   "id": "0f0b81b7",
   "metadata": {
    "hidden": true,
    "id": "0f0b81b7",
    "outputId": "f6214a94-2688-4569-bf71-aa888d345595",
    "scrolled": true
   },
   "outputs": [],
   "source": [
    "names=[]\n",
    "for i in range(len(response['results'])):\n",
    "    names.append(response['results'][i]['title'])\n",
    "pd.DataFrame(names)"
   ]
  },
  {
   "cell_type": "code",
   "execution_count": null,
   "id": "10ad0f36",
   "metadata": {
    "hidden": true,
    "id": "10ad0f36"
   },
   "outputs": [],
   "source": [
    "#Reading APIs\n",
    "\n",
    "#for i in range(1,50):\n",
    "#    print(i, response['results'][i]['title'])"
   ]
  },
  {
   "cell_type": "code",
   "execution_count": null,
   "id": "0af2f50d",
   "metadata": {
    "hidden": true,
    "id": "0af2f50d",
    "outputId": "04e03720-63af-4824-dccd-014021b45b02",
    "scrolled": true
   },
   "outputs": [],
   "source": [
    "#KML data stlip / Wisbyer Strasse\n",
    "kml_str = response['results'][41]['kml'].split()\n",
    "kml_str"
   ]
  },
  {
   "cell_type": "code",
   "execution_count": null,
   "id": "e3bc4a42",
   "metadata": {
    "hidden": true,
    "id": "e3bc4a42",
    "outputId": "ccac0405-8a28-4a32-b385-6be74c793dd8"
   },
   "outputs": [],
   "source": [
    "kml_str[44]"
   ]
  },
  {
   "cell_type": "code",
   "execution_count": null,
   "id": "b905557b",
   "metadata": {
    "hidden": true,
    "id": "b905557b",
    "outputId": "437969d2-4e55-4245-b920-20f419e1bb86"
   },
   "outputs": [],
   "source": [
    "#Organize KML data per block (only the first one)\n",
    "coordinate1, coordinate2, coordinate3, coordinate4, coordinate5 = [],[],[],[],[]\n",
    "for i in range(len(kml_str)):\n",
    "    if kml_str[i] == '<coordinates>':\n",
    "        coordinate1.append(kml_str[i+1])\n",
    "#    if kml_str[i] != '</coordinates>':\n",
    "\n",
    "print(coordinate1)"
   ]
  },
  {
   "cell_type": "code",
   "execution_count": null,
   "id": "74ab2121",
   "metadata": {
    "hidden": true,
    "id": "74ab2121"
   },
   "outputs": [],
   "source": []
  },
  {
   "cell_type": "code",
   "execution_count": null,
   "id": "140f441a",
   "metadata": {
    "hidden": true,
    "id": "140f441a"
   },
   "outputs": [],
   "source": [
    "#Manually took the coordinates for test\n",
    "test_location = [13.4405757994,52.4737692995,\n",
    " 13.4405113004,52.4738815993,\n",
    " 13.4404971005,52.4739062994,\n",
    " 13.4404219001,52.474037199,\n",
    " 13.4403887007,52.4740936991,\n",
    " 13.4403685999,52.4741284993,\n",
    " 13.4403181006,52.4742146991,\n",
    " 13.4402538,52.4743250988,\n",
    " 13.4400138998,52.4747357993,\n",
    " 13.4399429006,52.4748919993,\n",
    " 13.4398426995,52.4751500993,\n",
    " 13.4398239993,52.4751980988,\n",
    " 13.4397882993,52.475289899]\n",
    "test_tup = tuple(test_location)\n",
    "test_location = np.array(test_location).reshape(13,2)\n",
    "test_location[:,0], test_location[:,1] = test_location[:,1], test_location[:,0].copy()"
   ]
  },
  {
   "cell_type": "code",
   "execution_count": null,
   "id": "99d3af20",
   "metadata": {
    "hidden": true,
    "id": "99d3af20",
    "outputId": "18827468-9629-45a1-a40a-d61cf247413c"
   },
   "outputs": [],
   "source": [
    "points = tuple(test_location)\n",
    "points"
   ]
  },
  {
   "cell_type": "code",
   "execution_count": null,
   "id": "a9527559",
   "metadata": {
    "hidden": true,
    "id": "a9527559"
   },
   "outputs": [],
   "source": [
    "test_location2 = [13.4495974004,52.537157899,\n",
    " 13.4496928005,52.5370618994,\n",
    " 13.4497330002,52.537021499,\n",
    " 13.4500717999,52.536680499,\n",
    " 13.4501126004,52.5366449993,\n",
    " 13.4502748004,52.5364561987,\n",
    " 13.4506326007,52.5361042989,\n",
    " 13.4509465006,52.5358140995,\n",
    " 13.4510125007,52.535746399,\n",
    " 13.4514056996,52.5353429994,\n",
    " 13.4515473999,52.5351961991,\n",
    " 13.4517637993,52.5349717992,\n",
    " 13.4517834005,52.5349520992,\n",
    " 13.4518773006,52.5348575987,\n",
    " 13.4520993995,52.5346339991,\n",
    " 13.4524955995,52.5342245987,\n",
    " 13.4529111006,52.5337948994,\n",
    " 13.4532731002,52.5334266992,\n",
    " 13.4533520007,52.533346299,\n",
    " 13.4533856006,52.5333112992,\n",
    " 13.4536300996,52.5330603989,\n",
    " 13.4537551993,52.5329256994,\n",
    " 13.4538386007,52.5328358991,\n",
    " 13.4542387,52.532435899,\n",
    "13.4552262993,52.5314222992,\n",
    "13.4556814993,52.5309736987,\n",
    "13.4557106998,52.5309448995,\n",
    "13.4558564007,52.5308011988,\n",
    "13.4559387993,52.5307130994,\n",
    "13.4559658004,52.5306841995,\n",
    "13.4562414006,52.530389499,\n",
    "13.4564922995,52.5301492992,\n",
    "13.4566411002,52.5300068994,\n",
    "13.4567235004,52.5299279991,\n",
    "13.4567877996,52.5298664994,\n",
    "13.4571880004,52.5294601988,\n",
    "13.4574770006,52.5291722992,\n",
    "13.4575215004,52.5291279989,\n",
    "13.4576247996,52.5290250992]\n",
    "test_tup2 = tuple(test_location2)\n",
    "test_location2 = np.array(test_location2).reshape(39,2)\n",
    "test_location2[:,0], test_location2[:,1] = test_location2[:,1], test_location2[:,0].copy()\n",
    "points2 = tuple(test_location2)"
   ]
  },
  {
   "cell_type": "code",
   "execution_count": null,
   "id": "d82329e4",
   "metadata": {
    "hidden": true,
    "id": "d82329e4"
   },
   "outputs": [],
   "source": [
    "test_location3 = [13.4301194998,52.5513524989,\n",
    " 13.4299060004,52.5514397991,\n",
    " 13.4288630002,52.5518523995,\n",
    " 13.4280413005,52.5521647987,\n",
    " 13.4274770995,52.5523852991,\n",
    " 13.4274448004,52.5523978988,\n",
    " 13.4273235004,52.5524273988,\n",
    " 13.4271935996,52.552457099,\n",
    " 13.4269072006,52.5525224995,\n",
    " 13.4265339005,52.5525745992,\n",
    " 13.4256882003,52.552666899,\n",
    " 13.4255319997,52.5526838994,\n",
    " 13.4253715994,52.5527013993,\n",
    " 13.4253189993,52.5527070994,\n",
    " 13.4245639994,52.5527907994,\n",
    " 13.4240729997,52.5528430995,\n",
    " 13.4238913993,52.5528651991,\n",
    " 13.4233038,52.5529282991,\n",
    " 13.4224540995,52.5530204992,\n",
    " 13.4220908999,52.5530595989,\n",
    " 13.4208025006,52.5532058993,\n",
    " 13.4199398998,52.5533038991,\n",
    " 13.4196113997,52.5533412993,\n",
    " 13.4184403998,52.5534555987,\n",
    " 13.4159971003,52.5537321993,\n",
    " 13.4157511004,52.5537588993,\n",
    " 13.4154117007,52.5537956987,\n",
    " 13.4149393995,52.5538518994,\n",
    " 13.4148765001,52.5538578993,\n",
    " 13.4147283003,52.5538674995]\n",
    "test_tup3 = tuple(test_location3)\n",
    "test_location3 = np.array(test_location3).reshape(30,2)\n",
    "test_location3[:,0], test_location3[:,1] = test_location3[:,1], test_location3[:,0].copy()\n",
    "points3 = tuple(test_location2)"
   ]
  },
  {
   "cell_type": "markdown",
   "id": "b2494835",
   "metadata": {
    "id": "b2494835"
   },
   "source": [
    "## Map"
   ]
  },
  {
   "cell_type": "code",
   "execution_count": 77,
   "id": "4018450f",
   "metadata": {
    "id": "4018450f"
   },
   "outputs": [],
   "source": [
    "#Cutting df only for the test area. \n",
    "df1 = df[df.XGCSWGS84 >= 13.43]\n",
    "df2 = df1[df1.XGCSWGS84 <= 13.45]\n",
    "df3 = df2[df2.YGCSWGS84 >= 52.47]\n",
    "df4 = df3[df3.YGCSWGS84 <= 52.48]\n",
    "test_accidents = tuple(np.array([df4.YGCSWGS84, df4.XGCSWGS84]).T.tolist())"
   ]
  },
  {
   "cell_type": "code",
   "execution_count": 79,
   "id": "58858233",
   "metadata": {
    "id": "58858233"
   },
   "outputs": [],
   "source": [
    "#General accidents data per year\n",
    "accidents_2018 = tuple(np.array([df[df.year == 2018].YGCSWGS84, df[df.year == 2018].XGCSWGS84]).T.tolist())\n",
    "accidents_2019 = tuple(np.array([df[df.year == 2019].YGCSWGS84, df[df.year == 2019].XGCSWGS84]).T.tolist())\n",
    "accidents_2020 = tuple(np.array([df[df.year == 2020].YGCSWGS84, df[df.year == 2020].XGCSWGS84]).T.tolist())"
   ]
  },
  {
   "cell_type": "code",
   "execution_count": null,
   "id": "eec35741",
   "metadata": {
    "id": "eec35741",
    "outputId": "7d952698-7554-45bd-c1e8-2ef0acaae310",
    "scrolled": false
   },
   "outputs": [],
   "source": [
    "#Plotting\n",
    "\n",
    "#accidents = test_accidents\n",
    "\n",
    "m = folium.Map(location=[52.52000, 13.4050],tiles='Stamen Toner', zoom_start=15)\n",
    "#folium.PolyLine(locations=, color='green', weight=10, opacity=1).add_to(m)\n",
    "#markers=[(52.475,13.438),(52.476, 13.441),(52.473,13.439),(52.473,13.442)]\n",
    "for each in accidents_2018: # 11 accidents\n",
    "    folium.CircleMarker(each, radius=2, color='blue').add_to(m)\n",
    "#for each in accidents_2019: # 9 accidents\n",
    "    #folium.CircleMarker(each, radius=2, color='yellow').add_to(m)\n",
    "#for each in accidents_2020: # 6 accidents\n",
    "   # folium.CircleMarker(each, radius=2,color='red').add_to(m)\n",
    "#    folium.Marker(each).add_to(m) # Very Heavy!!\n",
    "m"
   ]
  },
  {
   "cell_type": "code",
   "execution_count": null,
   "id": "6d4834eb",
   "metadata": {
    "id": "6d4834eb"
   },
   "outputs": [],
   "source": [
    "#coordinates = [48.8649224, 2.3800903] # 16 Villa Gaudelet, Paris\n",
    "\n",
    "#m = folium.Map(location=coordinates, zoom_start=8)\n",
    "#folium.Marker(coordinates, tooltip='Le Wagon Paris').add_to(m)\n",
    "#folium.Circle(coordinates, radius=100 * 1000).add_to(m)\n",
    "#m"
   ]
  },
  {
   "cell_type": "code",
   "execution_count": null,
   "id": "7c03f67a",
   "metadata": {
    "id": "7c03f67a"
   },
   "outputs": [],
   "source": [
    "#def geocode(address):\n",
    "#    params = { \"q\": address, 'format': 'json' }\n",
    "#    places = requests.get(f\"https://nominatim.openstreetmap.org/search\", params=params).json()\n",
    "#    return [places[0]['lat'], places[0]['lon']]\n",
    "#    \n",
    "#def draw_100km_map(address):\n",
    "#    coordinates = geocode(address)\n",
    "#    m = folium.Map(location=coordinates, zoom_start=8)\n",
    "#    folium.Marker(coordinates, tooltip='Le Wagon Paris').add_to(m)\n",
    "#    folium.Circle(coordinates, radius=100 * 1000).add_to(m)\n",
    "#    return m"
   ]
  },
  {
   "cell_type": "code",
   "execution_count": null,
   "id": "2e2b7935",
   "metadata": {
    "id": "2e2b7935"
   },
   "outputs": [],
   "source": [
    "#address = input()\n",
    "#draw_100km_map(address)"
   ]
  },
  {
   "cell_type": "code",
   "execution_count": null,
   "id": "88b1da14",
   "metadata": {
    "id": "88b1da14"
   },
   "outputs": [],
   "source": [
    "#EXAMPLE OF A HEATMAP\n",
    "#from folium.plugins import HeatMap\n",
    "\n",
    "### Create a Map instance\n",
    "#mp = folium.Map(location=[52.5, 13.5], tiles = 'stamentoner', zoom_start=9, control_scale=True)\n",
    "\n",
    "### Add heatmap to map instance\n",
    "#### Available parameters: HeatMap(data, name=None, min_opacity=0.5, max_zoom=18, max_val=1.0, radius=25, blur=15, gradient=None, overlay=True, control=True, show=True)\n",
    "#HeatMap(points3).add_to(mp)\n",
    "\n",
    "### Alternative syntax:\n",
    "###m.add_child(HeatMap(points_array, radius=15))\n",
    "\n",
    "#### Show map\n",
    "#mp"
   ]
  },
  {
   "cell_type": "markdown",
   "id": "c3ea3780",
   "metadata": {
    "id": "c3ea3780"
   },
   "source": [
    "## Calculate Distance from coordinates"
   ]
  },
  {
   "cell_type": "code",
   "execution_count": null,
   "id": "da8eb50a",
   "metadata": {
    "id": "da8eb50a"
   },
   "outputs": [],
   "source": [
    "def haversine(lon1, lat1, lon2, lat2):\n",
    "    \"\"\"\n",
    "    Calculate the great circle distance between two points\n",
    "    on the earth (specified in decimal degrees)\n",
    "    \"\"\"\n",
    "    # convert decimal degrees to radians\n",
    "    lon1, lat1, lon2, lat2 = map(radians, [lon1, lat1, lon2, lat2])\n",
    "\n",
    "    # haversine formula\n",
    "    dlon = lon2 - lon1\n",
    "    dlat = lat2 - lat1\n",
    "    a = sin(dlat / 2) ** 2 + cos(lat1) * cos(lat2) * sin(dlon / 2) ** 2\n",
    "    c = 2 * asin(sqrt(a))\n",
    "    r = 6371  # Radius of earth in kilometers. Use 3956 for miles\n",
    "    return c * r"
   ]
  },
  {
   "cell_type": "markdown",
   "id": "27bc7c13",
   "metadata": {
    "heading_collapsed": true,
    "id": "23b1ba93"
   },
   "source": [
    "## EDA"
   ]
  },
  {
   "cell_type": "code",
   "execution_count": null,
   "id": "98542371",
   "metadata": {
    "hidden": true
   },
   "outputs": [],
   "source": [
    "df.keys()"
   ]
  },
  {
   "cell_type": "code",
   "execution_count": null,
   "id": "bd5123e0",
   "metadata": {
    "hidden": true
   },
   "outputs": [],
   "source": [
    "#dropping unnecessary columns\n",
    "df = df.drop(columns=['IstRad', 'LAND'])"
   ]
  },
  {
   "cell_type": "code",
   "execution_count": null,
   "id": "41619d03",
   "metadata": {
    "hidden": true
   },
   "outputs": [],
   "source": [
    "df"
   ]
  },
  {
   "cell_type": "code",
   "execution_count": null,
   "id": "32fe36c3",
   "metadata": {
    "hidden": true
   },
   "outputs": [],
   "source": [
    "df.info()"
   ]
  },
  {
   "cell_type": "code",
   "execution_count": null,
   "id": "2f8a0eb2",
   "metadata": {
    "hidden": true
   },
   "outputs": [],
   "source": []
  },
  {
   "cell_type": "code",
   "execution_count": null,
   "id": "241e1b51",
   "metadata": {
    "hidden": true
   },
   "outputs": [],
   "source": [
    "#Missing values\n",
    "df.isnull().sum()"
   ]
  },
  {
   "cell_type": "code",
   "execution_count": null,
   "id": "638b4ec2",
   "metadata": {
    "hidden": true
   },
   "outputs": [],
   "source": [
    "#NaN percentage for each column\n",
    "df.isnull().sum().sort_values(ascending=False)/len(df) "
   ]
  },
  {
   "cell_type": "code",
   "execution_count": null,
   "id": "31ad1603",
   "metadata": {
    "hidden": true
   },
   "outputs": [],
   "source": [
    "#counting duplicates\n",
    "df.duplicated().sum()"
   ]
  },
  {
   "cell_type": "code",
   "execution_count": null,
   "id": "9131306d",
   "metadata": {
    "hidden": true
   },
   "outputs": [],
   "source": []
  },
  {
   "cell_type": "code",
   "execution_count": null,
   "id": "f265aa99",
   "metadata": {
    "hidden": true
   },
   "outputs": [],
   "source": []
  },
  {
   "cell_type": "code",
   "execution_count": null,
   "id": "939d2848",
   "metadata": {
    "hidden": true
   },
   "outputs": [],
   "source": [
    "#df['USTRZUSTAND'] = cars['USTRZUSTAND'].map({\"USTRZUSTAND\":4,\n",
    "                                                    \"six\":6,\n",
    "                                                    \"five\":5,\n",
    "                                                    \"eight\":8,\n",
    "                                                    \"two\":2,\n",
    "                                                    \"three\":3,\n",
    "                                                    \"twelve\":12})"
   ]
  }
 ],
 "metadata": {
  "colab": {
   "collapsed_sections": [],
   "name": "4 Bicycle Accident.ipynb",
   "provenance": []
  },
  "kernelspec": {
   "display_name": "Python 3 (ipykernel)",
   "language": "python",
   "name": "python3"
  },
  "language_info": {
   "codemirror_mode": {
    "name": "ipython",
    "version": 3
   },
   "file_extension": ".py",
   "mimetype": "text/x-python",
   "name": "python",
   "nbconvert_exporter": "python",
   "pygments_lexer": "ipython3",
   "version": "3.8.12"
  },
  "toc": {
   "base_numbering": 1,
   "nav_menu": {},
   "number_sections": true,
   "sideBar": true,
   "skip_h1_title": false,
   "title_cell": "Table of Contents",
   "title_sidebar": "Contents",
   "toc_cell": false,
   "toc_position": {},
   "toc_section_display": true,
   "toc_window_display": false
  }
 },
 "nbformat": 4,
 "nbformat_minor": 5
}
