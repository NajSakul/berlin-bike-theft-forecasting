{
 "cells": [
  {
   "cell_type": "markdown",
   "id": "a63072f3",
   "metadata": {
    "id": "a63072f3"
   },
   "source": [
    "# Importing Library"
   ]
  },
  {
   "cell_type": "code",
   "execution_count": null,
   "id": "qU6cTEYtc5gs",
   "metadata": {
    "colab": {
     "base_uri": "https://localhost:8080/"
    },
    "executionInfo": {
     "elapsed": 5026,
     "status": "ok",
     "timestamp": 1645634378714,
     "user": {
      "displayName": "Toshi",
      "photoUrl": "https://lh3.googleusercontent.com/a/default-user=s64",
      "userId": "04468841333465606849"
     },
     "user_tz": -60
    },
    "id": "qU6cTEYtc5gs",
    "outputId": "e75694e0-8cdd-41a0-e0bc-fdf89d10930e"
   },
   "outputs": [],
   "source": [
    "! pip install config"
   ]
  },
  {
   "cell_type": "code",
   "execution_count": null,
   "id": "29f5ab91",
   "metadata": {},
   "outputs": [],
   "source": [
    "! pip install folium"
   ]
  },
  {
   "cell_type": "code",
   "execution_count": 1,
   "id": "9e64bc6e",
   "metadata": {
    "executionInfo": {
     "elapsed": 337,
     "status": "ok",
     "timestamp": 1645634383678,
     "user": {
      "displayName": "Toshi",
      "photoUrl": "https://lh3.googleusercontent.com/a/default-user=s64",
      "userId": "04468841333465606849"
     },
     "user_tz": -60
    },
    "id": "9e64bc6e"
   },
   "outputs": [],
   "source": [
    "import pandas as pd\n",
    "import numpy as np\n",
    "import requests\n",
    "import folium\n",
    "import config\n",
    "from math import radians, cos, sin, asin, sqrt"
   ]
  },
  {
   "cell_type": "markdown",
   "id": "8a0d3ae9",
   "metadata": {
    "id": "8a0d3ae9"
   },
   "source": [
    "# Data Sourcing"
   ]
  },
  {
   "cell_type": "markdown",
   "id": "60207051",
   "metadata": {
    "id": "60207051"
   },
   "source": [
    "## Accidents Data Loading and Preprocessing"
   ]
  },
  {
   "cell_type": "code",
   "execution_count": 2,
   "id": "d11921d7",
   "metadata": {
    "colab": {
     "base_uri": "https://localhost:8080/",
     "height": 392
    },
    "executionInfo": {
     "elapsed": 259,
     "status": "error",
     "timestamp": 1645634388116,
     "user": {
      "displayName": "Toshi",
      "photoUrl": "https://lh3.googleusercontent.com/a/default-user=s64",
      "userId": "04468841333465606849"
     },
     "user_tz": -60
    },
    "id": "d11921d7",
    "outputId": "d83fe987-1c9a-48db-9213-1bfacc4a08d1",
    "scrolled": false
   },
   "outputs": [
    {
     "data": {
      "text/html": [
       "<div>\n",
       "<style scoped>\n",
       "    .dataframe tbody tr th:only-of-type {\n",
       "        vertical-align: middle;\n",
       "    }\n",
       "\n",
       "    .dataframe tbody tr th {\n",
       "        vertical-align: top;\n",
       "    }\n",
       "\n",
       "    .dataframe thead th {\n",
       "        text-align: right;\n",
       "    }\n",
       "</style>\n",
       "<table border=\"1\" class=\"dataframe\">\n",
       "  <thead>\n",
       "    <tr style=\"text-align: right;\">\n",
       "      <th></th>\n",
       "      <th>OBJECTID</th>\n",
       "      <th>LAND</th>\n",
       "      <th>BEZ</th>\n",
       "      <th>LOR</th>\n",
       "      <th>STRASSE</th>\n",
       "      <th>LOR_ab_2021</th>\n",
       "      <th>UJAHR</th>\n",
       "      <th>UMONAT</th>\n",
       "      <th>USTUNDE</th>\n",
       "      <th>UWOCHENTAG</th>\n",
       "      <th>...</th>\n",
       "      <th>IstKrad</th>\n",
       "      <th>IstGkfz</th>\n",
       "      <th>IstSonstig</th>\n",
       "      <th>STRZUSTAND</th>\n",
       "      <th>LINREFX</th>\n",
       "      <th>LINREFY</th>\n",
       "      <th>XGCSWGS84</th>\n",
       "      <th>YGCSWGS84</th>\n",
       "      <th>USTRZUSTAND</th>\n",
       "      <th>YGCSWGS84,,,,</th>\n",
       "    </tr>\n",
       "  </thead>\n",
       "  <tbody>\n",
       "    <tr>\n",
       "      <th>0</th>\n",
       "      <td>112695</td>\n",
       "      <td>11</td>\n",
       "      <td>2</td>\n",
       "      <td>2050602.0</td>\n",
       "      <td>Samariterviertel</td>\n",
       "      <td>2500729.0</td>\n",
       "      <td>2018</td>\n",
       "      <td>1</td>\n",
       "      <td>15</td>\n",
       "      <td>4</td>\n",
       "      <td>...</td>\n",
       "      <td>0</td>\n",
       "      <td>0</td>\n",
       "      <td>0</td>\n",
       "      <td>1.0</td>\n",
       "      <td>803604,1562</td>\n",
       "      <td>5827580,738</td>\n",
       "      <td>13,4750178</td>\n",
       "      <td>52,51359681</td>\n",
       "      <td>NaN</td>\n",
       "      <td>NaN</td>\n",
       "    </tr>\n",
       "    <tr>\n",
       "      <th>1</th>\n",
       "      <td>112705</td>\n",
       "      <td>11</td>\n",
       "      <td>12</td>\n",
       "      <td>12304314.0</td>\n",
       "      <td>Ziekowstraße/Freie Scholle</td>\n",
       "      <td>12500824.0</td>\n",
       "      <td>2018</td>\n",
       "      <td>1</td>\n",
       "      <td>11</td>\n",
       "      <td>2</td>\n",
       "      <td>...</td>\n",
       "      <td>0</td>\n",
       "      <td>0</td>\n",
       "      <td>0</td>\n",
       "      <td>0.0</td>\n",
       "      <td>790639,5854</td>\n",
       "      <td>5835009,589</td>\n",
       "      <td>13,29102205</td>\n",
       "      <td>52,58725906</td>\n",
       "      <td>NaN</td>\n",
       "      <td>NaN</td>\n",
       "    </tr>\n",
       "    <tr>\n",
       "      <th>2</th>\n",
       "      <td>112726</td>\n",
       "      <td>11</td>\n",
       "      <td>2</td>\n",
       "      <td>2040501.0</td>\n",
       "      <td>Barnimkiez</td>\n",
       "      <td>2400520.0</td>\n",
       "      <td>2018</td>\n",
       "      <td>1</td>\n",
       "      <td>9</td>\n",
       "      <td>3</td>\n",
       "      <td>...</td>\n",
       "      <td>0</td>\n",
       "      <td>0</td>\n",
       "      <td>0</td>\n",
       "      <td>0.0</td>\n",
       "      <td>799827,9618</td>\n",
       "      <td>5828733,523</td>\n",
       "      <td>13,42057818</td>\n",
       "      <td>52,52601854</td>\n",
       "      <td>NaN</td>\n",
       "      <td>NaN</td>\n",
       "    </tr>\n",
       "    <tr>\n",
       "      <th>3</th>\n",
       "      <td>112737</td>\n",
       "      <td>11</td>\n",
       "      <td>7</td>\n",
       "      <td>7020202.0</td>\n",
       "      <td>Volkspark (Rudolf-Wilde-Park)</td>\n",
       "      <td>7200308.0</td>\n",
       "      <td>2018</td>\n",
       "      <td>1</td>\n",
       "      <td>17</td>\n",
       "      <td>2</td>\n",
       "      <td>...</td>\n",
       "      <td>0</td>\n",
       "      <td>0</td>\n",
       "      <td>0</td>\n",
       "      <td>0.0</td>\n",
       "      <td>795223,509</td>\n",
       "      <td>5823525,402</td>\n",
       "      <td>13,34828776</td>\n",
       "      <td>52,48184447</td>\n",
       "      <td>NaN</td>\n",
       "      <td>NaN</td>\n",
       "    </tr>\n",
       "    <tr>\n",
       "      <th>4</th>\n",
       "      <td>112747</td>\n",
       "      <td>11</td>\n",
       "      <td>3</td>\n",
       "      <td>3020209.0</td>\n",
       "      <td>Niederschönhausen</td>\n",
       "      <td>3200206.0</td>\n",
       "      <td>2018</td>\n",
       "      <td>1</td>\n",
       "      <td>15</td>\n",
       "      <td>4</td>\n",
       "      <td>...</td>\n",
       "      <td>0</td>\n",
       "      <td>0</td>\n",
       "      <td>0</td>\n",
       "      <td>1.0</td>\n",
       "      <td>798261,3849</td>\n",
       "      <td>5835047,26</td>\n",
       "      <td>13,40322797</td>\n",
       "      <td>52,58347154</td>\n",
       "      <td>NaN</td>\n",
       "      <td>NaN</td>\n",
       "    </tr>\n",
       "    <tr>\n",
       "      <th>...</th>\n",
       "      <td>...</td>\n",
       "      <td>...</td>\n",
       "      <td>...</td>\n",
       "      <td>...</td>\n",
       "      <td>...</td>\n",
       "      <td>...</td>\n",
       "      <td>...</td>\n",
       "      <td>...</td>\n",
       "      <td>...</td>\n",
       "      <td>...</td>\n",
       "      <td>...</td>\n",
       "      <td>...</td>\n",
       "      <td>...</td>\n",
       "      <td>...</td>\n",
       "      <td>...</td>\n",
       "      <td>...</td>\n",
       "      <td>...</td>\n",
       "      <td>...</td>\n",
       "      <td>...</td>\n",
       "      <td>...</td>\n",
       "      <td>...</td>\n",
       "    </tr>\n",
       "    <tr>\n",
       "      <th>11805</th>\n",
       "      <td>146061</td>\n",
       "      <td>11</td>\n",
       "      <td>7</td>\n",
       "      <td>7040403.0</td>\n",
       "      <td>NaN</td>\n",
       "      <td>7400823.0</td>\n",
       "      <td>2020</td>\n",
       "      <td>12</td>\n",
       "      <td>7</td>\n",
       "      <td>4</td>\n",
       "      <td>...</td>\n",
       "      <td>0</td>\n",
       "      <td>0</td>\n",
       "      <td>0</td>\n",
       "      <td>NaN</td>\n",
       "      <td>797339,7447</td>\n",
       "      <td>5821935,194</td>\n",
       "      <td>13,37794126</td>\n",
       "      <td>NaN</td>\n",
       "      <td>1</td>\n",
       "      <td>52,46644169</td>\n",
       "    </tr>\n",
       "    <tr>\n",
       "      <th>11806</th>\n",
       "      <td>146062</td>\n",
       "      <td>11</td>\n",
       "      <td>12</td>\n",
       "      <td>12231101.0</td>\n",
       "      <td>NaN</td>\n",
       "      <td>12400722.0</td>\n",
       "      <td>2020</td>\n",
       "      <td>12</td>\n",
       "      <td>17</td>\n",
       "      <td>3</td>\n",
       "      <td>...</td>\n",
       "      <td>0</td>\n",
       "      <td>0</td>\n",
       "      <td>0</td>\n",
       "      <td>NaN</td>\n",
       "      <td>791814,8333</td>\n",
       "      <td>5837953,171</td>\n",
       "      <td>13,31091476</td>\n",
       "      <td>NaN</td>\n",
       "      <td>1</td>\n",
       "      <td>52,61301792</td>\n",
       "    </tr>\n",
       "    <tr>\n",
       "      <th>11807</th>\n",
       "      <td>146065</td>\n",
       "      <td>11</td>\n",
       "      <td>1</td>\n",
       "      <td>1011306.0</td>\n",
       "      <td>NaN</td>\n",
       "      <td>1100313.0</td>\n",
       "      <td>2020</td>\n",
       "      <td>12</td>\n",
       "      <td>14</td>\n",
       "      <td>3</td>\n",
       "      <td>...</td>\n",
       "      <td>0</td>\n",
       "      <td>0</td>\n",
       "      <td>1</td>\n",
       "      <td>NaN</td>\n",
       "      <td>799900,8048</td>\n",
       "      <td>5826514,725</td>\n",
       "      <td>13,41964879</td>\n",
       "      <td>NaN</td>\n",
       "      <td>0</td>\n",
       "      <td>52,50609051</td>\n",
       "    </tr>\n",
       "    <tr>\n",
       "      <th>11808</th>\n",
       "      <td>146068</td>\n",
       "      <td>11</td>\n",
       "      <td>1</td>\n",
       "      <td>1011204.0</td>\n",
       "      <td>NaN</td>\n",
       "      <td>1100207.0</td>\n",
       "      <td>2020</td>\n",
       "      <td>12</td>\n",
       "      <td>16</td>\n",
       "      <td>3</td>\n",
       "      <td>...</td>\n",
       "      <td>0</td>\n",
       "      <td>0</td>\n",
       "      <td>0</td>\n",
       "      <td>NaN</td>\n",
       "      <td>797982,8966</td>\n",
       "      <td>5826897,222</td>\n",
       "      <td>13,39181741</td>\n",
       "      <td>NaN</td>\n",
       "      <td>1</td>\n",
       "      <td>52,51057</td>\n",
       "    </tr>\n",
       "    <tr>\n",
       "      <th>11809</th>\n",
       "      <td>146070</td>\n",
       "      <td>11</td>\n",
       "      <td>1</td>\n",
       "      <td>1033101.0</td>\n",
       "      <td>NaN</td>\n",
       "      <td>1300732.0</td>\n",
       "      <td>2020</td>\n",
       "      <td>12</td>\n",
       "      <td>14</td>\n",
       "      <td>4</td>\n",
       "      <td>...</td>\n",
       "      <td>0</td>\n",
       "      <td>1</td>\n",
       "      <td>0</td>\n",
       "      <td>NaN</td>\n",
       "      <td>797307,1285</td>\n",
       "      <td>5832290,574</td>\n",
       "      <td>13,38671399</td>\n",
       "      <td>NaN</td>\n",
       "      <td>0</td>\n",
       "      <td>52,5592837</td>\n",
       "    </tr>\n",
       "  </tbody>\n",
       "</table>\n",
       "<p>38852 rows × 27 columns</p>\n",
       "</div>"
      ],
      "text/plain": [
       "       OBJECTID  LAND  BEZ         LOR                        STRASSE  \\\n",
       "0        112695    11    2   2050602.0               Samariterviertel   \n",
       "1        112705    11   12  12304314.0     Ziekowstraße/Freie Scholle   \n",
       "2        112726    11    2   2040501.0                     Barnimkiez   \n",
       "3        112737    11    7   7020202.0  Volkspark (Rudolf-Wilde-Park)   \n",
       "4        112747    11    3   3020209.0              Niederschönhausen   \n",
       "...         ...   ...  ...         ...                            ...   \n",
       "11805    146061    11    7   7040403.0                            NaN   \n",
       "11806    146062    11   12  12231101.0                            NaN   \n",
       "11807    146065    11    1   1011306.0                            NaN   \n",
       "11808    146068    11    1   1011204.0                            NaN   \n",
       "11809    146070    11    1   1033101.0                            NaN   \n",
       "\n",
       "       LOR_ab_2021  UJAHR  UMONAT  USTUNDE  UWOCHENTAG  ...  IstKrad  IstGkfz  \\\n",
       "0        2500729.0   2018       1       15           4  ...        0        0   \n",
       "1       12500824.0   2018       1       11           2  ...        0        0   \n",
       "2        2400520.0   2018       1        9           3  ...        0        0   \n",
       "3        7200308.0   2018       1       17           2  ...        0        0   \n",
       "4        3200206.0   2018       1       15           4  ...        0        0   \n",
       "...            ...    ...     ...      ...         ...  ...      ...      ...   \n",
       "11805    7400823.0   2020      12        7           4  ...        0        0   \n",
       "11806   12400722.0   2020      12       17           3  ...        0        0   \n",
       "11807    1100313.0   2020      12       14           3  ...        0        0   \n",
       "11808    1100207.0   2020      12       16           3  ...        0        0   \n",
       "11809    1300732.0   2020      12       14           4  ...        0        1   \n",
       "\n",
       "       IstSonstig  STRZUSTAND      LINREFX      LINREFY    XGCSWGS84  \\\n",
       "0               0         1.0  803604,1562  5827580,738   13,4750178   \n",
       "1               0         0.0  790639,5854  5835009,589  13,29102205   \n",
       "2               0         0.0  799827,9618  5828733,523  13,42057818   \n",
       "3               0         0.0   795223,509  5823525,402  13,34828776   \n",
       "4               0         1.0  798261,3849   5835047,26  13,40322797   \n",
       "...           ...         ...          ...          ...          ...   \n",
       "11805           0         NaN  797339,7447  5821935,194  13,37794126   \n",
       "11806           0         NaN  791814,8333  5837953,171  13,31091476   \n",
       "11807           1         NaN  799900,8048  5826514,725  13,41964879   \n",
       "11808           0         NaN  797982,8966  5826897,222  13,39181741   \n",
       "11809           0         NaN  797307,1285  5832290,574  13,38671399   \n",
       "\n",
       "         YGCSWGS84  USTRZUSTAND YGCSWGS84,,,,  \n",
       "0      52,51359681          NaN           NaN  \n",
       "1      52,58725906          NaN           NaN  \n",
       "2      52,52601854          NaN           NaN  \n",
       "3      52,48184447          NaN           NaN  \n",
       "4      52,58347154          NaN           NaN  \n",
       "...            ...          ...           ...  \n",
       "11805          NaN            1   52,46644169  \n",
       "11806          NaN            1   52,61301792  \n",
       "11807          NaN            0   52,50609051  \n",
       "11808          NaN            1      52,51057  \n",
       "11809          NaN            0    52,5592837  \n",
       "\n",
       "[38852 rows x 27 columns]"
      ]
     },
     "execution_count": 2,
     "metadata": {},
     "output_type": "execute_result"
    }
   ],
   "source": [
    "data2020 = pd.read_csv('../raw_data/B_Accident_data/AfSBBB_BE_LOR_Strasse_Strassenverkehrsunfaelle_2020_Datensatz.csv', sep=';')\n",
    "data2019 = pd.read_csv('../raw_data/B_Accident_data/AfSBBB_BE_LOR_Strasse_Strassenverkehrsunfaelle_2019_Datensatz.csv', sep=';')\n",
    "data2018 = pd.read_csv('../raw_data/B_Accident_data/AfSBBB_BE_LOR_Strasse_Strassenverkehrsunfaelle_2018_Datensatz.csv', sep=';')\n",
    "df = pd.concat([data2018, data2019, data2020])\n",
    "df"
   ]
  },
  {
   "cell_type": "code",
   "execution_count": 3,
   "id": "48267035",
   "metadata": {},
   "outputs": [
    {
     "data": {
      "text/plain": [
       "Index(['OBJECTID', 'LAND', 'BEZ', 'LOR', 'STRASSE', 'LOR_ab_2021', 'UJAHR',\n",
       "       'UMONAT', 'USTUNDE', 'UWOCHENTAG', 'UKATEGORIE', 'UART', 'UTYP1',\n",
       "       'ULICHTVERH', 'IstRad', 'IstPKW', 'IstFuss', 'IstKrad', 'IstGkfz',\n",
       "       'IstSonstig', 'STRZUSTAND', 'LINREFX', 'LINREFY', 'XGCSWGS84',\n",
       "       'YGCSWGS84', 'USTRZUSTAND', 'YGCSWGS84,,,,'],\n",
       "      dtype='object')"
      ]
     },
     "execution_count": 3,
     "metadata": {},
     "output_type": "execute_result"
    }
   ],
   "source": [
    "df.keys()"
   ]
  },
  {
   "cell_type": "code",
   "execution_count": null,
   "id": "410aac42",
   "metadata": {
    "id": "410aac42"
   },
   "outputs": [],
   "source": [
    "#Preprocessing\n",
    "df['XGCSWGS84'] = df['XGCSWGS84'].map(lambda x: x.replace(',','.')).astype(float)\n",
    "df['YGCSWGS84'] = df['YGCSWGS84'].map(lambda x: x.replace(',','.')).astype(float)"
   ]
  },
  {
   "cell_type": "code",
   "execution_count": null,
   "id": "799e9777",
   "metadata": {
    "id": "799e9777",
    "outputId": "67f4d3ab-d0d9-4ddc-90c9-9ee1ea3e34a4",
    "scrolled": true
   },
   "outputs": [],
   "source": [
    "#1 == Unfall mit Fahrradbeteiligung\n",
    "df.IstRad.value_counts()"
   ]
  },
  {
   "cell_type": "code",
   "execution_count": null,
   "id": "3edbaa14",
   "metadata": {
    "id": "3edbaa14",
    "outputId": "da08277a-9225-4128-8bcc-9ac596e3094b"
   },
   "outputs": [],
   "source": [
    "bike_accidents = pd.DataFrame(df.groupby('UJAHR').IstRad.value_counts())\n",
    "bike_accidents"
   ]
  },
  {
   "cell_type": "code",
   "execution_count": null,
   "id": "940ee7b3",
   "metadata": {
    "id": "940ee7b3"
   },
   "outputs": [],
   "source": [
    "#Optional for look at individual years\n",
    "\n",
    "#accidents = {\n",
    "#    'w/ bicycle': [\n",
    "#    data2018.IstRad.value_counts()[1],\n",
    "#    data2019.IstRad.value_counts()[1],\n",
    "#    data2020.IstRad.value_counts()[1]\n",
    "#    ],\n",
    "#    'w/o bicycle': [\n",
    "#    data2018.IstRad.value_counts()[0], \n",
    "#    data2019.IstRad.value_counts()[0], \n",
    "#    data2020.IstRad.value_counts()[0]\n",
    "#    ],\n",
    "#    'involvement (%)': [\n",
    "#    round(data2018.IstRad.value_counts()[1]/len(data2018)*100, 2),\n",
    "#    round(data2019.IstRad.value_counts()[1]/len(data2019)*100, 2),\n",
    "#    round(data2020.IstRad.value_counts()[1]/len(data2020)*100, 2)   \n",
    "#    ],\n",
    "#}\n",
    "#\n",
    "#df = pd.DataFrame(accidents, index = [2018, 2019, 2020])\n",
    "#df"
   ]
  },
  {
   "cell_type": "markdown",
   "id": "5b20e596",
   "metadata": {
    "heading_collapsed": true,
    "id": "5b20e596"
   },
   "source": [
    "## infraVelo API"
   ]
  },
  {
   "cell_type": "code",
   "execution_count": null,
   "id": "3df9f3e0",
   "metadata": {
    "hidden": true,
    "id": "3df9f3e0",
    "outputId": "86af989c-94e8-4c19-9f92-a51f5164df76",
    "scrolled": true
   },
   "outputs": [],
   "source": [
    "url = 'https://www.infravelo.de/api/v1/projects/'\n",
    "url2 = 'https://www.infravelo.de/api/v1/projects/50/50/'\n",
    "url3 = 'https://www.infravelo.de/api/v1/projects/100/50/'\n",
    "url4 = 'https://www.infravelo.de/api/v1/projects/150/50/'\n",
    "response = requests.get(url3).json()\n",
    "response"
   ]
  },
  {
   "cell_type": "code",
   "execution_count": null,
   "id": "0f0b81b7",
   "metadata": {
    "hidden": true,
    "id": "0f0b81b7",
    "outputId": "f6214a94-2688-4569-bf71-aa888d345595",
    "scrolled": true
   },
   "outputs": [],
   "source": [
    "names=[]\n",
    "for i in range(len(response['results'])):\n",
    "    names.append(response['results'][i]['title'])\n",
    "pd.DataFrame(names)"
   ]
  },
  {
   "cell_type": "code",
   "execution_count": null,
   "id": "10ad0f36",
   "metadata": {
    "hidden": true,
    "id": "10ad0f36"
   },
   "outputs": [],
   "source": [
    "#Reading APIs\n",
    "\n",
    "#for i in range(1,50):\n",
    "#    print(i, response['results'][i]['title'])"
   ]
  },
  {
   "cell_type": "code",
   "execution_count": null,
   "id": "0af2f50d",
   "metadata": {
    "hidden": true,
    "id": "0af2f50d",
    "outputId": "04e03720-63af-4824-dccd-014021b45b02",
    "scrolled": true
   },
   "outputs": [],
   "source": [
    "#KML data stlip / Wisbyer Strasse\n",
    "kml_str = response['results'][41]['kml'].split()\n",
    "kml_str"
   ]
  },
  {
   "cell_type": "code",
   "execution_count": null,
   "id": "e3bc4a42",
   "metadata": {
    "hidden": true,
    "id": "e3bc4a42",
    "outputId": "ccac0405-8a28-4a32-b385-6be74c793dd8"
   },
   "outputs": [],
   "source": [
    "kml_str[44]"
   ]
  },
  {
   "cell_type": "code",
   "execution_count": null,
   "id": "b905557b",
   "metadata": {
    "hidden": true,
    "id": "b905557b",
    "outputId": "437969d2-4e55-4245-b920-20f419e1bb86"
   },
   "outputs": [],
   "source": [
    "#Organize KML data per block (only the first one)\n",
    "coordinate1, coordinate2, coordinate3, coordinate4, coordinate5 = [],[],[],[],[]\n",
    "for i in range(len(kml_str)):\n",
    "    if kml_str[i] == '<coordinates>':\n",
    "        coordinate1.append(kml_str[i+1])\n",
    "#    if kml_str[i] != '</coordinates>':\n",
    "\n",
    "print(coordinate1)"
   ]
  },
  {
   "cell_type": "code",
   "execution_count": null,
   "id": "74ab2121",
   "metadata": {
    "hidden": true,
    "id": "74ab2121"
   },
   "outputs": [],
   "source": []
  },
  {
   "cell_type": "code",
   "execution_count": null,
   "id": "140f441a",
   "metadata": {
    "hidden": true,
    "id": "140f441a"
   },
   "outputs": [],
   "source": [
    "#Manually took the coordinates for test\n",
    "test_location = [13.4405757994,52.4737692995,\n",
    " 13.4405113004,52.4738815993,\n",
    " 13.4404971005,52.4739062994,\n",
    " 13.4404219001,52.474037199,\n",
    " 13.4403887007,52.4740936991,\n",
    " 13.4403685999,52.4741284993,\n",
    " 13.4403181006,52.4742146991,\n",
    " 13.4402538,52.4743250988,\n",
    " 13.4400138998,52.4747357993,\n",
    " 13.4399429006,52.4748919993,\n",
    " 13.4398426995,52.4751500993,\n",
    " 13.4398239993,52.4751980988,\n",
    " 13.4397882993,52.475289899]\n",
    "test_tup = tuple(test_location)\n",
    "test_location = np.array(test_location).reshape(13,2)\n",
    "test_location[:,0], test_location[:,1] = test_location[:,1], test_location[:,0].copy()"
   ]
  },
  {
   "cell_type": "code",
   "execution_count": null,
   "id": "99d3af20",
   "metadata": {
    "hidden": true,
    "id": "99d3af20",
    "outputId": "18827468-9629-45a1-a40a-d61cf247413c"
   },
   "outputs": [],
   "source": [
    "points = tuple(test_location)\n",
    "points"
   ]
  },
  {
   "cell_type": "code",
   "execution_count": null,
   "id": "a9527559",
   "metadata": {
    "hidden": true,
    "id": "a9527559"
   },
   "outputs": [],
   "source": [
    "test_location2 = [13.4495974004,52.537157899,\n",
    " 13.4496928005,52.5370618994,\n",
    " 13.4497330002,52.537021499,\n",
    " 13.4500717999,52.536680499,\n",
    " 13.4501126004,52.5366449993,\n",
    " 13.4502748004,52.5364561987,\n",
    " 13.4506326007,52.5361042989,\n",
    " 13.4509465006,52.5358140995,\n",
    " 13.4510125007,52.535746399,\n",
    " 13.4514056996,52.5353429994,\n",
    " 13.4515473999,52.5351961991,\n",
    " 13.4517637993,52.5349717992,\n",
    " 13.4517834005,52.5349520992,\n",
    " 13.4518773006,52.5348575987,\n",
    " 13.4520993995,52.5346339991,\n",
    " 13.4524955995,52.5342245987,\n",
    " 13.4529111006,52.5337948994,\n",
    " 13.4532731002,52.5334266992,\n",
    " 13.4533520007,52.533346299,\n",
    " 13.4533856006,52.5333112992,\n",
    " 13.4536300996,52.5330603989,\n",
    " 13.4537551993,52.5329256994,\n",
    " 13.4538386007,52.5328358991,\n",
    " 13.4542387,52.532435899,\n",
    "13.4552262993,52.5314222992,\n",
    "13.4556814993,52.5309736987,\n",
    "13.4557106998,52.5309448995,\n",
    "13.4558564007,52.5308011988,\n",
    "13.4559387993,52.5307130994,\n",
    "13.4559658004,52.5306841995,\n",
    "13.4562414006,52.530389499,\n",
    "13.4564922995,52.5301492992,\n",
    "13.4566411002,52.5300068994,\n",
    "13.4567235004,52.5299279991,\n",
    "13.4567877996,52.5298664994,\n",
    "13.4571880004,52.5294601988,\n",
    "13.4574770006,52.5291722992,\n",
    "13.4575215004,52.5291279989,\n",
    "13.4576247996,52.5290250992]\n",
    "test_tup2 = tuple(test_location2)\n",
    "test_location2 = np.array(test_location2).reshape(39,2)\n",
    "test_location2[:,0], test_location2[:,1] = test_location2[:,1], test_location2[:,0].copy()\n",
    "points2 = tuple(test_location2)"
   ]
  },
  {
   "cell_type": "code",
   "execution_count": null,
   "id": "d82329e4",
   "metadata": {
    "hidden": true,
    "id": "d82329e4"
   },
   "outputs": [],
   "source": [
    "test_location3 = [13.4301194998,52.5513524989,\n",
    " 13.4299060004,52.5514397991,\n",
    " 13.4288630002,52.5518523995,\n",
    " 13.4280413005,52.5521647987,\n",
    " 13.4274770995,52.5523852991,\n",
    " 13.4274448004,52.5523978988,\n",
    " 13.4273235004,52.5524273988,\n",
    " 13.4271935996,52.552457099,\n",
    " 13.4269072006,52.5525224995,\n",
    " 13.4265339005,52.5525745992,\n",
    " 13.4256882003,52.552666899,\n",
    " 13.4255319997,52.5526838994,\n",
    " 13.4253715994,52.5527013993,\n",
    " 13.4253189993,52.5527070994,\n",
    " 13.4245639994,52.5527907994,\n",
    " 13.4240729997,52.5528430995,\n",
    " 13.4238913993,52.5528651991,\n",
    " 13.4233038,52.5529282991,\n",
    " 13.4224540995,52.5530204992,\n",
    " 13.4220908999,52.5530595989,\n",
    " 13.4208025006,52.5532058993,\n",
    " 13.4199398998,52.5533038991,\n",
    " 13.4196113997,52.5533412993,\n",
    " 13.4184403998,52.5534555987,\n",
    " 13.4159971003,52.5537321993,\n",
    " 13.4157511004,52.5537588993,\n",
    " 13.4154117007,52.5537956987,\n",
    " 13.4149393995,52.5538518994,\n",
    " 13.4148765001,52.5538578993,\n",
    " 13.4147283003,52.5538674995]\n",
    "test_tup3 = tuple(test_location3)\n",
    "test_location3 = np.array(test_location3).reshape(30,2)\n",
    "test_location3[:,0], test_location3[:,1] = test_location3[:,1], test_location3[:,0].copy()\n",
    "points3 = tuple(test_location2)"
   ]
  },
  {
   "cell_type": "markdown",
   "id": "b2494835",
   "metadata": {
    "heading_collapsed": true,
    "id": "b2494835"
   },
   "source": [
    "## Map"
   ]
  },
  {
   "cell_type": "code",
   "execution_count": null,
   "id": "fdf214c5",
   "metadata": {
    "hidden": true,
    "id": "fdf214c5",
    "outputId": "07308948-ff39-4092-83be-957e581cb0b9"
   },
   "outputs": [],
   "source": [
    "#Prepare accidents data around here\n",
    "df = df[df.IstRad == 1]\n",
    "df.head()"
   ]
  },
  {
   "cell_type": "code",
   "execution_count": null,
   "id": "4018450f",
   "metadata": {
    "hidden": true,
    "id": "4018450f"
   },
   "outputs": [],
   "source": [
    "#Cutting df only for the test area. \n",
    "df1 = df[df.XGCSWGS84 >= 13.43]\n",
    "df2 = df1[df1.XGCSWGS84 <= 13.45]\n",
    "df3 = df2[df2.YGCSWGS84 >= 52.47]\n",
    "df4 = df3[df3.YGCSWGS84 <= 52.48]\n",
    "test_accidents = tuple(np.array([df4.YGCSWGS84, df4.XGCSWGS84]).T.tolist())"
   ]
  },
  {
   "cell_type": "code",
   "execution_count": null,
   "id": "58858233",
   "metadata": {
    "hidden": true,
    "id": "58858233"
   },
   "outputs": [],
   "source": [
    "#General accidents data per year\n",
    "accidents_2018 = tuple(np.array([df[df.UJAHR == 2018].YGCSWGS84, df[df.UJAHR == 2018].XGCSWGS84]).T.tolist())\n",
    "accidents_2019 = tuple(np.array([df[df.UJAHR == 2019].YGCSWGS84, df[df.UJAHR == 2019].XGCSWGS84]).T.tolist())\n",
    "accidents_2020 = tuple(np.array([df[df.UJAHR == 2020].YGCSWGS84, df[df.UJAHR == 2020].XGCSWGS84]).T.tolist())"
   ]
  },
  {
   "cell_type": "code",
   "execution_count": null,
   "id": "eec35741",
   "metadata": {
    "hidden": true,
    "id": "eec35741",
    "outputId": "7d952698-7554-45bd-c1e8-2ef0acaae310",
    "scrolled": false
   },
   "outputs": [],
   "source": [
    "#Plotting\n",
    "\n",
    "#accidents = test_accidents\n",
    "\n",
    "m = folium.Map(location=[52.52000, 13.4050],tiles='Stamen Toner', zoom_start=15)\n",
    "#folium.PolyLine(locations=, color='green', weight=10, opacity=1).add_to(m)\n",
    "#markers=[(52.475,13.438),(52.476, 13.441),(52.473,13.439),(52.473,13.442)]\n",
    "for each in accidents_2018: # 11 accidents\n",
    "    folium.CircleMarker(each, radius=2, color='blue').add_to(m)\n",
    "#for each in accidents_2019: # 9 accidents\n",
    "    #folium.CircleMarker(each, radius=2, color='yellow').add_to(m)\n",
    "#for each in accidents_2020: # 6 accidents\n",
    "   # folium.CircleMarker(each, radius=2,color='red').add_to(m)\n",
    "#    folium.Marker(each).add_to(m) # Very Heavy!!\n",
    "m"
   ]
  },
  {
   "cell_type": "code",
   "execution_count": null,
   "id": "6d4834eb",
   "metadata": {
    "hidden": true,
    "id": "6d4834eb"
   },
   "outputs": [],
   "source": [
    "#coordinates = [48.8649224, 2.3800903] # 16 Villa Gaudelet, Paris\n",
    "\n",
    "#m = folium.Map(location=coordinates, zoom_start=8)\n",
    "#folium.Marker(coordinates, tooltip='Le Wagon Paris').add_to(m)\n",
    "#folium.Circle(coordinates, radius=100 * 1000).add_to(m)\n",
    "#m"
   ]
  },
  {
   "cell_type": "code",
   "execution_count": null,
   "id": "7c03f67a",
   "metadata": {
    "hidden": true,
    "id": "7c03f67a"
   },
   "outputs": [],
   "source": [
    "#def geocode(address):\n",
    "#    params = { \"q\": address, 'format': 'json' }\n",
    "#    places = requests.get(f\"https://nominatim.openstreetmap.org/search\", params=params).json()\n",
    "#    return [places[0]['lat'], places[0]['lon']]\n",
    "#    \n",
    "#def draw_100km_map(address):\n",
    "#    coordinates = geocode(address)\n",
    "#    m = folium.Map(location=coordinates, zoom_start=8)\n",
    "#    folium.Marker(coordinates, tooltip='Le Wagon Paris').add_to(m)\n",
    "#    folium.Circle(coordinates, radius=100 * 1000).add_to(m)\n",
    "#    return m"
   ]
  },
  {
   "cell_type": "code",
   "execution_count": null,
   "id": "2e2b7935",
   "metadata": {
    "hidden": true,
    "id": "2e2b7935"
   },
   "outputs": [],
   "source": [
    "#address = input()\n",
    "#draw_100km_map(address)"
   ]
  },
  {
   "cell_type": "code",
   "execution_count": null,
   "id": "88b1da14",
   "metadata": {
    "hidden": true,
    "id": "88b1da14"
   },
   "outputs": [],
   "source": [
    "#EXAMPLE OF A HEATMAP\n",
    "#from folium.plugins import HeatMap\n",
    "\n",
    "### Create a Map instance\n",
    "#mp = folium.Map(location=[52.5, 13.5], tiles = 'stamentoner', zoom_start=9, control_scale=True)\n",
    "\n",
    "### Add heatmap to map instance\n",
    "#### Available parameters: HeatMap(data, name=None, min_opacity=0.5, max_zoom=18, max_val=1.0, radius=25, blur=15, gradient=None, overlay=True, control=True, show=True)\n",
    "#HeatMap(points3).add_to(mp)\n",
    "\n",
    "### Alternative syntax:\n",
    "###m.add_child(HeatMap(points_array, radius=15))\n",
    "\n",
    "#### Show map\n",
    "#mp"
   ]
  },
  {
   "cell_type": "markdown",
   "id": "c3ea3780",
   "metadata": {
    "id": "c3ea3780"
   },
   "source": [
    "## Calculate Distance from coordinates"
   ]
  },
  {
   "cell_type": "code",
   "execution_count": null,
   "id": "da8eb50a",
   "metadata": {
    "id": "da8eb50a"
   },
   "outputs": [],
   "source": [
    "def haversine(lon1, lat1, lon2, lat2):\n",
    "    \"\"\"\n",
    "    Calculate the great circle distance between two points\n",
    "    on the earth (specified in decimal degrees)\n",
    "    \"\"\"\n",
    "    # convert decimal degrees to radians\n",
    "    lon1, lat1, lon2, lat2 = map(radians, [lon1, lat1, lon2, lat2])\n",
    "\n",
    "    # haversine formula\n",
    "    dlon = lon2 - lon1\n",
    "    dlat = lat2 - lat1\n",
    "    a = sin(dlat / 2) ** 2 + cos(lat1) * cos(lat2) * sin(dlon / 2) ** 2\n",
    "    c = 2 * asin(sqrt(a))\n",
    "    r = 6371  # Radius of earth in kilometers. Use 3956 for miles\n",
    "    return c * r"
   ]
  },
  {
   "cell_type": "markdown",
   "id": "aa076e02",
   "metadata": {
    "id": "23b1ba93"
   },
   "source": [
    "## EDA"
   ]
  },
  {
   "cell_type": "code",
   "execution_count": null,
   "id": "e8077852",
   "metadata": {},
   "outputs": [],
   "source": [
    "df.keys()"
   ]
  },
  {
   "cell_type": "code",
   "execution_count": null,
   "id": "2c1fee3b",
   "metadata": {},
   "outputs": [],
   "source": [
    "#dropping unnecessary columns\n",
    "df = df.drop(columns=['IstRad', 'LAND'])"
   ]
  },
  {
   "cell_type": "code",
   "execution_count": null,
   "id": "d1f5a370",
   "metadata": {},
   "outputs": [],
   "source": [
    "df"
   ]
  },
  {
   "cell_type": "code",
   "execution_count": null,
   "id": "b04cbf8a",
   "metadata": {},
   "outputs": [],
   "source": [
    "df.info()"
   ]
  },
  {
   "cell_type": "code",
   "execution_count": null,
   "id": "9a25c5a8",
   "metadata": {},
   "outputs": [],
   "source": []
  },
  {
   "cell_type": "code",
   "execution_count": null,
   "id": "0fd0dd1c",
   "metadata": {},
   "outputs": [],
   "source": [
    "#Missing values\n",
    "df.isnull().sum()"
   ]
  },
  {
   "cell_type": "code",
   "execution_count": null,
   "id": "259b5270",
   "metadata": {},
   "outputs": [],
   "source": [
    "#NaN percentage for each column\n",
    "df.isnull().sum().sort_values(ascending=False)/len(df) "
   ]
  },
  {
   "cell_type": "code",
   "execution_count": null,
   "id": "ce839a6c",
   "metadata": {},
   "outputs": [],
   "source": [
    "#counting duplicates\n",
    "df.duplicated().sum()"
   ]
  },
  {
   "cell_type": "code",
   "execution_count": null,
   "id": "64ea08ac",
   "metadata": {},
   "outputs": [],
   "source": []
  },
  {
   "cell_type": "code",
   "execution_count": null,
   "id": "740eaa56",
   "metadata": {},
   "outputs": [],
   "source": []
  },
  {
   "cell_type": "code",
   "execution_count": null,
   "id": "49af6049",
   "metadata": {},
   "outputs": [],
   "source": [
    "#df['USTRZUSTAND'] = cars['USTRZUSTAND'].map({\"USTRZUSTAND\":4,\n",
    "                                                    \"six\":6,\n",
    "                                                    \"five\":5,\n",
    "                                                    \"eight\":8,\n",
    "                                                    \"two\":2,\n",
    "                                                    \"three\":3,\n",
    "                                                    \"twelve\":12})"
   ]
  }
 ],
 "metadata": {
  "colab": {
   "collapsed_sections": [],
   "name": "4 Bicycle Accident.ipynb",
   "provenance": []
  },
  "kernelspec": {
   "display_name": "Python 3 (ipykernel)",
   "language": "python",
   "name": "python3"
  },
  "language_info": {
   "codemirror_mode": {
    "name": "ipython",
    "version": 3
   },
   "file_extension": ".py",
   "mimetype": "text/x-python",
   "name": "python",
   "nbconvert_exporter": "python",
   "pygments_lexer": "ipython3",
   "version": "3.8.12"
  },
  "toc": {
   "base_numbering": 1,
   "nav_menu": {},
   "number_sections": true,
   "sideBar": true,
   "skip_h1_title": false,
   "title_cell": "Table of Contents",
   "title_sidebar": "Contents",
   "toc_cell": false,
   "toc_position": {},
   "toc_section_display": true,
   "toc_window_display": false
  }
 },
 "nbformat": 4,
 "nbformat_minor": 5
}
