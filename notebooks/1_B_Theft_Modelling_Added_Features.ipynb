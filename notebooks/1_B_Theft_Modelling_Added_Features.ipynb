{
 "cells": [
  {
   "cell_type": "code",
   "execution_count": 1,
   "id": "aaa24f90",
   "metadata": {},
   "outputs": [
    {
     "name": "stderr",
     "output_type": "stream",
     "text": [
      "2022-03-03 17:06:26.025249: W tensorflow/stream_executor/platform/default/dso_loader.cc:64] Could not load dynamic library 'libcudart.so.11.0'; dlerror: libcudart.so.11.0: cannot open shared object file: No such file or directory\n",
      "2022-03-03 17:06:26.025309: I tensorflow/stream_executor/cuda/cudart_stub.cc:29] Ignore above cudart dlerror if you do not have a GPU set up on your machine.\n"
     ]
    }
   ],
   "source": [
    "import pandas as pd\n",
    "import numpy as np\n",
    "import matplotlib.pyplot as plt\n",
    "import seaborn as sns\n",
    "\n",
    "# metrics\n",
    "from sklearn.metrics import mean_squared_error\n",
    "from sklearn.metrics import mean_absolute_percentage_error\n",
    "\n",
    "# model building\n",
    "from tensorflow.keras import Sequential\n",
    "from tensorflow.keras import layers\n",
    "from tensorflow.keras.layers import Masking\n",
    "from tensorflow.keras.metrics import RootMeanSquaredError\n",
    "from keras.models import Sequential\n",
    "from keras.layers import Dense, SimpleRNN, Flatten\n",
    "from tensorflow.keras.layers import SimpleRNN, LSTM, GRU, Dropout\n",
    "from keras import layers\n",
    "from tensorflow.keras import callbacks"
   ]
  },
  {
   "cell_type": "markdown",
   "id": "c783adfe",
   "metadata": {},
   "source": [
    "# Read in data"
   ]
  },
  {
   "cell_type": "code",
   "execution_count": 2,
   "id": "950a28af",
   "metadata": {},
   "outputs": [
    {
     "name": "stdout",
     "output_type": "stream",
     "text": [
      "/home/jakob/code/hmichinaka/berlin-bike-theft-forecasting/notebooks\r\n"
     ]
    }
   ],
   "source": [
    "!pwd"
   ]
  },
  {
   "cell_type": "code",
   "execution_count": 4,
   "id": "d1a11c3f",
   "metadata": {},
   "outputs": [],
   "source": [
    "df_feat = pd.read_csv(\"../raw_data/daily_features_theft.csv\")"
   ]
  },
  {
   "cell_type": "code",
   "execution_count": 7,
   "id": "e39db876",
   "metadata": {},
   "outputs": [
    {
     "data": {
      "text/plain": [
       "Index(['Unnamed: 0', 'date', 'min_temp', 'max_temp', 'the_temp',\n",
       "       'weather_state_name', 'weather_state_abbr', 'wind_speed',\n",
       "       'wind_direction', 'air_pressure', 'humidity', 'visibility',\n",
       "       'daylight_hours', 'isholidays', 'weekday', 'weeknum'],\n",
       "      dtype='object')"
      ]
     },
     "execution_count": 7,
     "metadata": {},
     "output_type": "execute_result"
    }
   ],
   "source": [
    "df_feat.columns"
   ]
  },
  {
   "cell_type": "code",
   "execution_count": 8,
   "id": "4d1d1e97",
   "metadata": {},
   "outputs": [],
   "source": [
    "df_feat.drop(columns = 'Unnamed: 0', inplace=True )"
   ]
  },
  {
   "cell_type": "code",
   "execution_count": 9,
   "id": "cf34c051",
   "metadata": {},
   "outputs": [
    {
     "data": {
      "text/html": [
       "<div>\n",
       "<style scoped>\n",
       "    .dataframe tbody tr th:only-of-type {\n",
       "        vertical-align: middle;\n",
       "    }\n",
       "\n",
       "    .dataframe tbody tr th {\n",
       "        vertical-align: top;\n",
       "    }\n",
       "\n",
       "    .dataframe thead th {\n",
       "        text-align: right;\n",
       "    }\n",
       "</style>\n",
       "<table border=\"1\" class=\"dataframe\">\n",
       "  <thead>\n",
       "    <tr style=\"text-align: right;\">\n",
       "      <th></th>\n",
       "      <th>date</th>\n",
       "      <th>min_temp</th>\n",
       "      <th>max_temp</th>\n",
       "      <th>the_temp</th>\n",
       "      <th>weather_state_name</th>\n",
       "      <th>weather_state_abbr</th>\n",
       "      <th>wind_speed</th>\n",
       "      <th>wind_direction</th>\n",
       "      <th>air_pressure</th>\n",
       "      <th>humidity</th>\n",
       "      <th>visibility</th>\n",
       "      <th>daylight_hours</th>\n",
       "      <th>isholidays</th>\n",
       "      <th>weekday</th>\n",
       "      <th>weeknum</th>\n",
       "    </tr>\n",
       "  </thead>\n",
       "  <tbody>\n",
       "    <tr>\n",
       "      <th>0</th>\n",
       "      <td>2021-01-01</td>\n",
       "      <td>0.005</td>\n",
       "      <td>2.395</td>\n",
       "      <td>2.070</td>\n",
       "      <td>Sleet</td>\n",
       "      <td>sl</td>\n",
       "      <td>3.020726</td>\n",
       "      <td>227.616640</td>\n",
       "      <td>1007.0</td>\n",
       "      <td>93</td>\n",
       "      <td>6.031650</td>\n",
       "      <td>07:50:24</td>\n",
       "      <td>1</td>\n",
       "      <td>4</td>\n",
       "      <td>53</td>\n",
       "    </tr>\n",
       "    <tr>\n",
       "      <th>1</th>\n",
       "      <td>2021-01-02</td>\n",
       "      <td>-1.135</td>\n",
       "      <td>3.045</td>\n",
       "      <td>2.465</td>\n",
       "      <td>Heavy Cloud</td>\n",
       "      <td>hc</td>\n",
       "      <td>2.666541</td>\n",
       "      <td>193.699868</td>\n",
       "      <td>1015.0</td>\n",
       "      <td>89</td>\n",
       "      <td>12.863316</td>\n",
       "      <td>07:51:41</td>\n",
       "      <td>0</td>\n",
       "      <td>5</td>\n",
       "      <td>53</td>\n",
       "    </tr>\n",
       "    <tr>\n",
       "      <th>2</th>\n",
       "      <td>2021-01-03</td>\n",
       "      <td>-1.315</td>\n",
       "      <td>1.955</td>\n",
       "      <td>0.985</td>\n",
       "      <td>Snow</td>\n",
       "      <td>sn</td>\n",
       "      <td>9.161659</td>\n",
       "      <td>55.677273</td>\n",
       "      <td>1015.0</td>\n",
       "      <td>96</td>\n",
       "      <td>2.144352</td>\n",
       "      <td>07:53:05</td>\n",
       "      <td>0</td>\n",
       "      <td>6</td>\n",
       "      <td>53</td>\n",
       "    </tr>\n",
       "    <tr>\n",
       "      <th>3</th>\n",
       "      <td>2021-01-04</td>\n",
       "      <td>0.030</td>\n",
       "      <td>1.780</td>\n",
       "      <td>1.355</td>\n",
       "      <td>Sleet</td>\n",
       "      <td>sl</td>\n",
       "      <td>6.271227</td>\n",
       "      <td>54.331796</td>\n",
       "      <td>1017.0</td>\n",
       "      <td>96</td>\n",
       "      <td>2.927901</td>\n",
       "      <td>07:54:33</td>\n",
       "      <td>0</td>\n",
       "      <td>0</td>\n",
       "      <td>1</td>\n",
       "    </tr>\n",
       "    <tr>\n",
       "      <th>4</th>\n",
       "      <td>2021-01-05</td>\n",
       "      <td>-0.030</td>\n",
       "      <td>2.730</td>\n",
       "      <td>1.270</td>\n",
       "      <td>Light Rain</td>\n",
       "      <td>lr</td>\n",
       "      <td>6.009528</td>\n",
       "      <td>26.500356</td>\n",
       "      <td>1017.0</td>\n",
       "      <td>94</td>\n",
       "      <td>7.021805</td>\n",
       "      <td>07:56:08</td>\n",
       "      <td>0</td>\n",
       "      <td>1</td>\n",
       "      <td>1</td>\n",
       "    </tr>\n",
       "  </tbody>\n",
       "</table>\n",
       "</div>"
      ],
      "text/plain": [
       "         date  min_temp  max_temp  the_temp weather_state_name  \\\n",
       "0  2021-01-01     0.005     2.395     2.070              Sleet   \n",
       "1  2021-01-02    -1.135     3.045     2.465        Heavy Cloud   \n",
       "2  2021-01-03    -1.315     1.955     0.985               Snow   \n",
       "3  2021-01-04     0.030     1.780     1.355              Sleet   \n",
       "4  2021-01-05    -0.030     2.730     1.270         Light Rain   \n",
       "\n",
       "  weather_state_abbr  wind_speed  wind_direction  air_pressure  humidity  \\\n",
       "0                 sl    3.020726      227.616640        1007.0        93   \n",
       "1                 hc    2.666541      193.699868        1015.0        89   \n",
       "2                 sn    9.161659       55.677273        1015.0        96   \n",
       "3                 sl    6.271227       54.331796        1017.0        96   \n",
       "4                 lr    6.009528       26.500356        1017.0        94   \n",
       "\n",
       "   visibility daylight_hours  isholidays  weekday  weeknum  \n",
       "0    6.031650       07:50:24           1        4       53  \n",
       "1   12.863316       07:51:41           0        5       53  \n",
       "2    2.144352       07:53:05           0        6       53  \n",
       "3    2.927901       07:54:33           0        0        1  \n",
       "4    7.021805       07:56:08           0        1        1  "
      ]
     },
     "execution_count": 9,
     "metadata": {},
     "output_type": "execute_result"
    }
   ],
   "source": [
    "df_feat.head()"
   ]
  },
  {
   "cell_type": "code",
   "execution_count": 48,
   "id": "44eb87bc",
   "metadata": {},
   "outputs": [],
   "source": [
    "df_theft = pd.read_csv(\"../raw_data/bike_theft_cleaned.csv\")"
   ]
  },
  {
   "cell_type": "code",
   "execution_count": 49,
   "id": "3fd1fcf8",
   "metadata": {},
   "outputs": [
    {
     "data": {
      "text/html": [
       "<div>\n",
       "<style scoped>\n",
       "    .dataframe tbody tr th:only-of-type {\n",
       "        vertical-align: middle;\n",
       "    }\n",
       "\n",
       "    .dataframe tbody tr th {\n",
       "        vertical-align: top;\n",
       "    }\n",
       "\n",
       "    .dataframe thead th {\n",
       "        text-align: right;\n",
       "    }\n",
       "</style>\n",
       "<table border=\"1\" class=\"dataframe\">\n",
       "  <thead>\n",
       "    <tr style=\"text-align: right;\">\n",
       "      <th></th>\n",
       "      <th>Unnamed: 0</th>\n",
       "      <th>date_reported</th>\n",
       "      <th>date_theft_start</th>\n",
       "      <th>hour_theft_start</th>\n",
       "      <th>date_theft_end</th>\n",
       "      <th>hour_theft_end</th>\n",
       "      <th>LOR</th>\n",
       "      <th>estimated_value</th>\n",
       "      <th>attempt</th>\n",
       "      <th>type_bike</th>\n",
       "      <th>theft_type</th>\n",
       "      <th>theft_type_detail</th>\n",
       "      <th>datetime_theft_start</th>\n",
       "      <th>datetime_theft_end</th>\n",
       "      <th>Timedelta_theft_end_start</th>\n",
       "      <th>datetime_theft_mean</th>\n",
       "      <th>BZR</th>\n",
       "      <th>PGR</th>\n",
       "      <th>Bezirk</th>\n",
       "    </tr>\n",
       "  </thead>\n",
       "  <tbody>\n",
       "    <tr>\n",
       "      <th>0</th>\n",
       "      <td>0</td>\n",
       "      <td>2022-02-28</td>\n",
       "      <td>2022-02-26</td>\n",
       "      <td>14:00:00</td>\n",
       "      <td>2022-02-26</td>\n",
       "      <td>14:00:00</td>\n",
       "      <td>7100103</td>\n",
       "      <td>580.0</td>\n",
       "      <td>No</td>\n",
       "      <td>bike</td>\n",
       "      <td>Fahrraddiebstahl</td>\n",
       "      <td>Sonstiger schwerer Diebstahl von Fahrrädern</td>\n",
       "      <td>2022-02-26 14:00:00</td>\n",
       "      <td>2022-02-26 14:00:00</td>\n",
       "      <td>0.0</td>\n",
       "      <td>2022-02-26 14:00:00</td>\n",
       "      <td>71001</td>\n",
       "      <td>710</td>\n",
       "      <td>7</td>\n",
       "    </tr>\n",
       "    <tr>\n",
       "      <th>1</th>\n",
       "      <td>1</td>\n",
       "      <td>2022-02-28</td>\n",
       "      <td>2022-02-28</td>\n",
       "      <td>16:00:00</td>\n",
       "      <td>2022-02-28</td>\n",
       "      <td>16:00:00</td>\n",
       "      <td>2100106</td>\n",
       "      <td>0.0</td>\n",
       "      <td>No</td>\n",
       "      <td>man's bike</td>\n",
       "      <td>Fahrraddiebstahl</td>\n",
       "      <td>Sonstiger schwerer Diebstahl von Fahrrädern</td>\n",
       "      <td>2022-02-28 16:00:00</td>\n",
       "      <td>2022-02-28 16:00:00</td>\n",
       "      <td>0.0</td>\n",
       "      <td>2022-02-28 16:00:00</td>\n",
       "      <td>21001</td>\n",
       "      <td>210</td>\n",
       "      <td>2</td>\n",
       "    </tr>\n",
       "    <tr>\n",
       "      <th>2</th>\n",
       "      <td>2</td>\n",
       "      <td>2022-02-28</td>\n",
       "      <td>2022-02-28</td>\n",
       "      <td>20:00:00</td>\n",
       "      <td>2022-02-28</td>\n",
       "      <td>20:00:00</td>\n",
       "      <td>8300935</td>\n",
       "      <td>0.0</td>\n",
       "      <td>No</td>\n",
       "      <td>other bike</td>\n",
       "      <td>Fahrraddiebstahl</td>\n",
       "      <td>Einfacher Diebstahl von Fahrrädern</td>\n",
       "      <td>2022-02-28 20:00:00</td>\n",
       "      <td>2022-02-28 20:00:00</td>\n",
       "      <td>0.0</td>\n",
       "      <td>2022-02-28 20:00:00</td>\n",
       "      <td>83009</td>\n",
       "      <td>830</td>\n",
       "      <td>8</td>\n",
       "    </tr>\n",
       "    <tr>\n",
       "      <th>3</th>\n",
       "      <td>3</td>\n",
       "      <td>2022-02-28</td>\n",
       "      <td>2022-02-28</td>\n",
       "      <td>8:00:00</td>\n",
       "      <td>2022-02-28</td>\n",
       "      <td>8:00:00</td>\n",
       "      <td>4400727</td>\n",
       "      <td>1000.0</td>\n",
       "      <td>No</td>\n",
       "      <td>other bike</td>\n",
       "      <td>Fahrraddiebstahl</td>\n",
       "      <td>Sonstiger schwerer Diebstahl von Fahrrädern</td>\n",
       "      <td>2022-02-28 08:00:00</td>\n",
       "      <td>2022-02-28 08:00:00</td>\n",
       "      <td>0.0</td>\n",
       "      <td>2022-02-28 08:00:00</td>\n",
       "      <td>44007</td>\n",
       "      <td>440</td>\n",
       "      <td>4</td>\n",
       "    </tr>\n",
       "    <tr>\n",
       "      <th>4</th>\n",
       "      <td>4</td>\n",
       "      <td>2022-02-28</td>\n",
       "      <td>2022-02-25</td>\n",
       "      <td>5:00:00</td>\n",
       "      <td>2022-02-25</td>\n",
       "      <td>17:00:00</td>\n",
       "      <td>9100305</td>\n",
       "      <td>499.0</td>\n",
       "      <td>No</td>\n",
       "      <td>man's bike</td>\n",
       "      <td>Fahrraddiebstahl</td>\n",
       "      <td>Sonstiger schwerer Diebstahl von Fahrrädern</td>\n",
       "      <td>2022-02-25 05:00:00</td>\n",
       "      <td>2022-02-25 17:00:00</td>\n",
       "      <td>12.0</td>\n",
       "      <td>2022-02-25 11:00:00</td>\n",
       "      <td>91003</td>\n",
       "      <td>910</td>\n",
       "      <td>9</td>\n",
       "    </tr>\n",
       "  </tbody>\n",
       "</table>\n",
       "</div>"
      ],
      "text/plain": [
       "   Unnamed: 0 date_reported date_theft_start hour_theft_start date_theft_end  \\\n",
       "0           0    2022-02-28       2022-02-26         14:00:00     2022-02-26   \n",
       "1           1    2022-02-28       2022-02-28         16:00:00     2022-02-28   \n",
       "2           2    2022-02-28       2022-02-28         20:00:00     2022-02-28   \n",
       "3           3    2022-02-28       2022-02-28          8:00:00     2022-02-28   \n",
       "4           4    2022-02-28       2022-02-25          5:00:00     2022-02-25   \n",
       "\n",
       "  hour_theft_end      LOR  estimated_value attempt   type_bike  \\\n",
       "0       14:00:00  7100103            580.0      No        bike   \n",
       "1       16:00:00  2100106              0.0      No  man's bike   \n",
       "2       20:00:00  8300935              0.0      No  other bike   \n",
       "3        8:00:00  4400727           1000.0      No  other bike   \n",
       "4       17:00:00  9100305            499.0      No  man's bike   \n",
       "\n",
       "         theft_type                            theft_type_detail  \\\n",
       "0  Fahrraddiebstahl  Sonstiger schwerer Diebstahl von Fahrrädern   \n",
       "1  Fahrraddiebstahl  Sonstiger schwerer Diebstahl von Fahrrädern   \n",
       "2  Fahrraddiebstahl           Einfacher Diebstahl von Fahrrädern   \n",
       "3  Fahrraddiebstahl  Sonstiger schwerer Diebstahl von Fahrrädern   \n",
       "4  Fahrraddiebstahl  Sonstiger schwerer Diebstahl von Fahrrädern   \n",
       "\n",
       "  datetime_theft_start   datetime_theft_end  Timedelta_theft_end_start  \\\n",
       "0  2022-02-26 14:00:00  2022-02-26 14:00:00                        0.0   \n",
       "1  2022-02-28 16:00:00  2022-02-28 16:00:00                        0.0   \n",
       "2  2022-02-28 20:00:00  2022-02-28 20:00:00                        0.0   \n",
       "3  2022-02-28 08:00:00  2022-02-28 08:00:00                        0.0   \n",
       "4  2022-02-25 05:00:00  2022-02-25 17:00:00                       12.0   \n",
       "\n",
       "   datetime_theft_mean    BZR  PGR  Bezirk  \n",
       "0  2022-02-26 14:00:00  71001  710       7  \n",
       "1  2022-02-28 16:00:00  21001  210       2  \n",
       "2  2022-02-28 20:00:00  83009  830       8  \n",
       "3  2022-02-28 08:00:00  44007  440       4  \n",
       "4  2022-02-25 11:00:00  91003  910       9  "
      ]
     },
     "execution_count": 49,
     "metadata": {},
     "output_type": "execute_result"
    }
   ],
   "source": [
    "df_theft.head()"
   ]
  },
  {
   "cell_type": "markdown",
   "id": "df04242b",
   "metadata": {},
   "source": [
    "# Combine datasets"
   ]
  },
  {
   "cell_type": "markdown",
   "id": "59bc9433",
   "metadata": {},
   "source": [
    "## Group theft data by Bezirk and date"
   ]
  },
  {
   "cell_type": "code",
   "execution_count": 50,
   "id": "a6cbe254",
   "metadata": {},
   "outputs": [],
   "source": [
    "# Group dataframe by date and LOR\n",
    "df_theft = df_theft.pivot_table(index = \"date_theft_start\", columns = \"Bezirk\", values = \"type_bike\", aggfunc= \"count\")\n",
    "\n",
    "df_theft.fillna(value = 0, inplace=True)"
   ]
  },
  {
   "cell_type": "code",
   "execution_count": 51,
   "id": "6f7c7239",
   "metadata": {},
   "outputs": [
    {
     "data": {
      "text/plain": [
       "(424, 13)"
      ]
     },
     "execution_count": 51,
     "metadata": {},
     "output_type": "execute_result"
    }
   ],
   "source": [
    "# create \"total\" column which sums up data for each day\n",
    "df_theft[\"total\"] = df_theft.sum(axis=1)\n",
    "\n",
    "\n",
    "df_theft.shape"
   ]
  },
  {
   "cell_type": "code",
   "execution_count": 52,
   "id": "d1684cc3",
   "metadata": {},
   "outputs": [
    {
     "data": {
      "text/plain": [
       "Index(['date', 'min_temp', 'max_temp', 'the_temp', 'weather_state_name',\n",
       "       'weather_state_abbr', 'wind_speed', 'wind_direction', 'air_pressure',\n",
       "       'humidity', 'visibility', 'daylight_hours', 'isholidays', 'weekday',\n",
       "       'weeknum'],\n",
       "      dtype='object')"
      ]
     },
     "execution_count": 52,
     "metadata": {},
     "output_type": "execute_result"
    }
   ],
   "source": [
    "df_feat.columns"
   ]
  },
  {
   "cell_type": "code",
   "execution_count": 53,
   "id": "99752011",
   "metadata": {},
   "outputs": [
    {
     "data": {
      "text/plain": [
       "Index([1, 2, 3, 4, 5, 6, 7, 8, 9, 10, 11, 12, 'total'], dtype='object', name='Bezirk')"
      ]
     },
     "execution_count": 53,
     "metadata": {},
     "output_type": "execute_result"
    }
   ],
   "source": [
    "df_theft.columns"
   ]
  },
  {
   "cell_type": "markdown",
   "id": "24be8487",
   "metadata": {},
   "source": [
    "## Merge datasets"
   ]
  },
  {
   "cell_type": "markdown",
   "id": "858831f0",
   "metadata": {},
   "source": [
    "We merge the \"total\" column from the theft dataset with the features from the features dataset"
   ]
  },
  {
   "cell_type": "code",
   "execution_count": 54,
   "id": "27ead7bf",
   "metadata": {},
   "outputs": [],
   "source": [
    "# First we have to reset the index in the df_theft to create a column to merge on \n",
    "\n",
    "df_theft.reset_index( inplace=True)"
   ]
  },
  {
   "cell_type": "code",
   "execution_count": 55,
   "id": "4877f421",
   "metadata": {},
   "outputs": [],
   "source": [
    "# as the last step we rename the date column to match the name in df_feat\n",
    "df_theft = df_theft.rename(columns={\"date_theft_start\": \"date\"})"
   ]
  },
  {
   "cell_type": "code",
   "execution_count": 56,
   "id": "eec1996b",
   "metadata": {},
   "outputs": [
    {
     "data": {
      "text/plain": [
       "Index(['date', 'min_temp', 'max_temp', 'the_temp', 'weather_state_name',\n",
       "       'weather_state_abbr', 'wind_speed', 'wind_direction', 'air_pressure',\n",
       "       'humidity', 'visibility', 'daylight_hours', 'isholidays', 'weekday',\n",
       "       'weeknum'],\n",
       "      dtype='object')"
      ]
     },
     "execution_count": 56,
     "metadata": {},
     "output_type": "execute_result"
    }
   ],
   "source": [
    "df_feat.columns"
   ]
  },
  {
   "cell_type": "code",
   "execution_count": 57,
   "id": "c829219a",
   "metadata": {},
   "outputs": [
    {
     "data": {
      "text/plain": [
       "Index(['date', 1, 2, 3, 4, 5, 6, 7, 8, 9, 10, 11, 12, 'total'], dtype='object', name='Bezirk')"
      ]
     },
     "execution_count": 57,
     "metadata": {},
     "output_type": "execute_result"
    }
   ],
   "source": [
    "df_theft.columns"
   ]
  },
  {
   "cell_type": "code",
   "execution_count": 58,
   "id": "8f2dabe8",
   "metadata": {
    "scrolled": true
   },
   "outputs": [],
   "source": [
    "# combine the datasets\n",
    "df_combined = pd.merge(df_feat, df_theft, on = \"date\")"
   ]
  },
  {
   "cell_type": "code",
   "execution_count": 59,
   "id": "52d811be",
   "metadata": {},
   "outputs": [
    {
     "data": {
      "text/html": [
       "<div>\n",
       "<style scoped>\n",
       "    .dataframe tbody tr th:only-of-type {\n",
       "        vertical-align: middle;\n",
       "    }\n",
       "\n",
       "    .dataframe tbody tr th {\n",
       "        vertical-align: top;\n",
       "    }\n",
       "\n",
       "    .dataframe thead th {\n",
       "        text-align: right;\n",
       "    }\n",
       "</style>\n",
       "<table border=\"1\" class=\"dataframe\">\n",
       "  <thead>\n",
       "    <tr style=\"text-align: right;\">\n",
       "      <th></th>\n",
       "      <th>date</th>\n",
       "      <th>min_temp</th>\n",
       "      <th>max_temp</th>\n",
       "      <th>the_temp</th>\n",
       "      <th>weather_state_name</th>\n",
       "      <th>weather_state_abbr</th>\n",
       "      <th>wind_speed</th>\n",
       "      <th>wind_direction</th>\n",
       "      <th>air_pressure</th>\n",
       "      <th>humidity</th>\n",
       "      <th>...</th>\n",
       "      <th>4</th>\n",
       "      <th>5</th>\n",
       "      <th>6</th>\n",
       "      <th>7</th>\n",
       "      <th>8</th>\n",
       "      <th>9</th>\n",
       "      <th>10</th>\n",
       "      <th>11</th>\n",
       "      <th>12</th>\n",
       "      <th>total</th>\n",
       "    </tr>\n",
       "  </thead>\n",
       "  <tbody>\n",
       "    <tr>\n",
       "      <th>0</th>\n",
       "      <td>2021-01-01</td>\n",
       "      <td>0.005</td>\n",
       "      <td>2.395</td>\n",
       "      <td>2.070</td>\n",
       "      <td>Sleet</td>\n",
       "      <td>sl</td>\n",
       "      <td>3.020726</td>\n",
       "      <td>227.616640</td>\n",
       "      <td>1007.0</td>\n",
       "      <td>93</td>\n",
       "      <td>...</td>\n",
       "      <td>4.0</td>\n",
       "      <td>1.0</td>\n",
       "      <td>0.0</td>\n",
       "      <td>0.0</td>\n",
       "      <td>1.0</td>\n",
       "      <td>1.0</td>\n",
       "      <td>2.0</td>\n",
       "      <td>1.0</td>\n",
       "      <td>0.0</td>\n",
       "      <td>16.0</td>\n",
       "    </tr>\n",
       "    <tr>\n",
       "      <th>1</th>\n",
       "      <td>2021-01-02</td>\n",
       "      <td>-1.135</td>\n",
       "      <td>3.045</td>\n",
       "      <td>2.465</td>\n",
       "      <td>Heavy Cloud</td>\n",
       "      <td>hc</td>\n",
       "      <td>2.666541</td>\n",
       "      <td>193.699868</td>\n",
       "      <td>1015.0</td>\n",
       "      <td>89</td>\n",
       "      <td>...</td>\n",
       "      <td>3.0</td>\n",
       "      <td>0.0</td>\n",
       "      <td>1.0</td>\n",
       "      <td>1.0</td>\n",
       "      <td>2.0</td>\n",
       "      <td>2.0</td>\n",
       "      <td>0.0</td>\n",
       "      <td>1.0</td>\n",
       "      <td>1.0</td>\n",
       "      <td>16.0</td>\n",
       "    </tr>\n",
       "    <tr>\n",
       "      <th>2</th>\n",
       "      <td>2021-01-03</td>\n",
       "      <td>-1.315</td>\n",
       "      <td>1.955</td>\n",
       "      <td>0.985</td>\n",
       "      <td>Snow</td>\n",
       "      <td>sn</td>\n",
       "      <td>9.161659</td>\n",
       "      <td>55.677273</td>\n",
       "      <td>1015.0</td>\n",
       "      <td>96</td>\n",
       "      <td>...</td>\n",
       "      <td>2.0</td>\n",
       "      <td>0.0</td>\n",
       "      <td>2.0</td>\n",
       "      <td>3.0</td>\n",
       "      <td>0.0</td>\n",
       "      <td>2.0</td>\n",
       "      <td>3.0</td>\n",
       "      <td>0.0</td>\n",
       "      <td>0.0</td>\n",
       "      <td>17.0</td>\n",
       "    </tr>\n",
       "    <tr>\n",
       "      <th>3</th>\n",
       "      <td>2021-01-04</td>\n",
       "      <td>0.030</td>\n",
       "      <td>1.780</td>\n",
       "      <td>1.355</td>\n",
       "      <td>Sleet</td>\n",
       "      <td>sl</td>\n",
       "      <td>6.271227</td>\n",
       "      <td>54.331796</td>\n",
       "      <td>1017.0</td>\n",
       "      <td>96</td>\n",
       "      <td>...</td>\n",
       "      <td>4.0</td>\n",
       "      <td>0.0</td>\n",
       "      <td>2.0</td>\n",
       "      <td>4.0</td>\n",
       "      <td>3.0</td>\n",
       "      <td>1.0</td>\n",
       "      <td>0.0</td>\n",
       "      <td>1.0</td>\n",
       "      <td>2.0</td>\n",
       "      <td>33.0</td>\n",
       "    </tr>\n",
       "    <tr>\n",
       "      <th>4</th>\n",
       "      <td>2021-01-05</td>\n",
       "      <td>-0.030</td>\n",
       "      <td>2.730</td>\n",
       "      <td>1.270</td>\n",
       "      <td>Light Rain</td>\n",
       "      <td>lr</td>\n",
       "      <td>6.009528</td>\n",
       "      <td>26.500356</td>\n",
       "      <td>1017.0</td>\n",
       "      <td>94</td>\n",
       "      <td>...</td>\n",
       "      <td>5.0</td>\n",
       "      <td>2.0</td>\n",
       "      <td>1.0</td>\n",
       "      <td>5.0</td>\n",
       "      <td>0.0</td>\n",
       "      <td>4.0</td>\n",
       "      <td>0.0</td>\n",
       "      <td>0.0</td>\n",
       "      <td>1.0</td>\n",
       "      <td>29.0</td>\n",
       "    </tr>\n",
       "  </tbody>\n",
       "</table>\n",
       "<p>5 rows × 28 columns</p>\n",
       "</div>"
      ],
      "text/plain": [
       "         date  min_temp  max_temp  the_temp weather_state_name  \\\n",
       "0  2021-01-01     0.005     2.395     2.070              Sleet   \n",
       "1  2021-01-02    -1.135     3.045     2.465        Heavy Cloud   \n",
       "2  2021-01-03    -1.315     1.955     0.985               Snow   \n",
       "3  2021-01-04     0.030     1.780     1.355              Sleet   \n",
       "4  2021-01-05    -0.030     2.730     1.270         Light Rain   \n",
       "\n",
       "  weather_state_abbr  wind_speed  wind_direction  air_pressure  humidity  ...  \\\n",
       "0                 sl    3.020726      227.616640        1007.0        93  ...   \n",
       "1                 hc    2.666541      193.699868        1015.0        89  ...   \n",
       "2                 sn    9.161659       55.677273        1015.0        96  ...   \n",
       "3                 sl    6.271227       54.331796        1017.0        96  ...   \n",
       "4                 lr    6.009528       26.500356        1017.0        94  ...   \n",
       "\n",
       "     4    5    6    7    8    9   10   11   12  total  \n",
       "0  4.0  1.0  0.0  0.0  1.0  1.0  2.0  1.0  0.0   16.0  \n",
       "1  3.0  0.0  1.0  1.0  2.0  2.0  0.0  1.0  1.0   16.0  \n",
       "2  2.0  0.0  2.0  3.0  0.0  2.0  3.0  0.0  0.0   17.0  \n",
       "3  4.0  0.0  2.0  4.0  3.0  1.0  0.0  1.0  2.0   33.0  \n",
       "4  5.0  2.0  1.0  5.0  0.0  4.0  0.0  0.0  1.0   29.0  \n",
       "\n",
       "[5 rows x 28 columns]"
      ]
     },
     "execution_count": 59,
     "metadata": {},
     "output_type": "execute_result"
    }
   ],
   "source": [
    "df_combined.head()"
   ]
  },
  {
   "cell_type": "markdown",
   "id": "a900db15",
   "metadata": {},
   "source": [
    "## Select relevant features"
   ]
  },
  {
   "cell_type": "code",
   "execution_count": 60,
   "id": "db105709",
   "metadata": {
    "scrolled": true
   },
   "outputs": [
    {
     "data": {
      "text/plain": [
       "Index([              'date',           'min_temp',           'max_temp',\n",
       "                 'the_temp', 'weather_state_name', 'weather_state_abbr',\n",
       "               'wind_speed',     'wind_direction',       'air_pressure',\n",
       "                 'humidity',         'visibility',     'daylight_hours',\n",
       "               'isholidays',            'weekday',            'weeknum',\n",
       "                          1,                    2,                    3,\n",
       "                          4,                    5,                    6,\n",
       "                          7,                    8,                    9,\n",
       "                         10,                   11,                   12,\n",
       "                    'total'],\n",
       "      dtype='object')"
      ]
     },
     "execution_count": 60,
     "metadata": {},
     "output_type": "execute_result"
    }
   ],
   "source": [
    "df_combined.columns"
   ]
  },
  {
   "cell_type": "markdown",
   "id": "ff175540",
   "metadata": {},
   "source": [
    "- For now we will drop the Bezirke columns, and the weather_state_name as well as weather_state_abbr\n",
    "- We will also drop min_temp and max_temp and just keep the_temp \n",
    "- We will further drop wind_direction"
   ]
  },
  {
   "cell_type": "code",
   "execution_count": 68,
   "id": "b31f8be1",
   "metadata": {},
   "outputs": [],
   "source": [
    "cols_select = [\"date\", \"the_temp\", \"wind_speed\", \"air_pressure\", \"humidity\", \"visibility\", \n",
    "              \"daylight_hours\", \"isholidays\", \"weekday\", \"weeknum\", \n",
    "              \"total\"]"
   ]
  },
  {
   "cell_type": "code",
   "execution_count": 69,
   "id": "e202bb28",
   "metadata": {},
   "outputs": [
    {
     "ename": "KeyError",
     "evalue": "\"['date'] not in index\"",
     "output_type": "error",
     "traceback": [
      "\u001b[0;31m---------------------------------------------------------------------------\u001b[0m",
      "\u001b[0;31mKeyError\u001b[0m                                  Traceback (most recent call last)",
      "Input \u001b[0;32mIn [69]\u001b[0m, in \u001b[0;36m<cell line: 1>\u001b[0;34m()\u001b[0m\n\u001b[0;32m----> 1\u001b[0m df_combined \u001b[38;5;241m=\u001b[39m \u001b[43mdf_combined\u001b[49m\u001b[43m[\u001b[49m\u001b[43mcols_select\u001b[49m\u001b[43m]\u001b[49m\n",
      "File \u001b[0;32m~/.pyenv/versions/3.8.12/envs/berlin-bike-theft-forecasting/lib/python3.8/site-packages/pandas/core/frame.py:3511\u001b[0m, in \u001b[0;36mDataFrame.__getitem__\u001b[0;34m(self, key)\u001b[0m\n\u001b[1;32m   3509\u001b[0m     \u001b[38;5;28;01mif\u001b[39;00m is_iterator(key):\n\u001b[1;32m   3510\u001b[0m         key \u001b[38;5;241m=\u001b[39m \u001b[38;5;28mlist\u001b[39m(key)\n\u001b[0;32m-> 3511\u001b[0m     indexer \u001b[38;5;241m=\u001b[39m \u001b[38;5;28;43mself\u001b[39;49m\u001b[38;5;241;43m.\u001b[39;49m\u001b[43mcolumns\u001b[49m\u001b[38;5;241;43m.\u001b[39;49m\u001b[43m_get_indexer_strict\u001b[49m\u001b[43m(\u001b[49m\u001b[43mkey\u001b[49m\u001b[43m,\u001b[49m\u001b[43m \u001b[49m\u001b[38;5;124;43m\"\u001b[39;49m\u001b[38;5;124;43mcolumns\u001b[39;49m\u001b[38;5;124;43m\"\u001b[39;49m\u001b[43m)\u001b[49m[\u001b[38;5;241m1\u001b[39m]\n\u001b[1;32m   3513\u001b[0m \u001b[38;5;66;03m# take() does not accept boolean indexers\u001b[39;00m\n\u001b[1;32m   3514\u001b[0m \u001b[38;5;28;01mif\u001b[39;00m \u001b[38;5;28mgetattr\u001b[39m(indexer, \u001b[38;5;124m\"\u001b[39m\u001b[38;5;124mdtype\u001b[39m\u001b[38;5;124m\"\u001b[39m, \u001b[38;5;28;01mNone\u001b[39;00m) \u001b[38;5;241m==\u001b[39m \u001b[38;5;28mbool\u001b[39m:\n",
      "File \u001b[0;32m~/.pyenv/versions/3.8.12/envs/berlin-bike-theft-forecasting/lib/python3.8/site-packages/pandas/core/indexes/base.py:5782\u001b[0m, in \u001b[0;36mIndex._get_indexer_strict\u001b[0;34m(self, key, axis_name)\u001b[0m\n\u001b[1;32m   5779\u001b[0m \u001b[38;5;28;01melse\u001b[39;00m:\n\u001b[1;32m   5780\u001b[0m     keyarr, indexer, new_indexer \u001b[38;5;241m=\u001b[39m \u001b[38;5;28mself\u001b[39m\u001b[38;5;241m.\u001b[39m_reindex_non_unique(keyarr)\n\u001b[0;32m-> 5782\u001b[0m \u001b[38;5;28;43mself\u001b[39;49m\u001b[38;5;241;43m.\u001b[39;49m\u001b[43m_raise_if_missing\u001b[49m\u001b[43m(\u001b[49m\u001b[43mkeyarr\u001b[49m\u001b[43m,\u001b[49m\u001b[43m \u001b[49m\u001b[43mindexer\u001b[49m\u001b[43m,\u001b[49m\u001b[43m \u001b[49m\u001b[43maxis_name\u001b[49m\u001b[43m)\u001b[49m\n\u001b[1;32m   5784\u001b[0m keyarr \u001b[38;5;241m=\u001b[39m \u001b[38;5;28mself\u001b[39m\u001b[38;5;241m.\u001b[39mtake(indexer)\n\u001b[1;32m   5785\u001b[0m \u001b[38;5;28;01mif\u001b[39;00m \u001b[38;5;28misinstance\u001b[39m(key, Index):\n\u001b[1;32m   5786\u001b[0m     \u001b[38;5;66;03m# GH 42790 - Preserve name from an Index\u001b[39;00m\n",
      "File \u001b[0;32m~/.pyenv/versions/3.8.12/envs/berlin-bike-theft-forecasting/lib/python3.8/site-packages/pandas/core/indexes/base.py:5845\u001b[0m, in \u001b[0;36mIndex._raise_if_missing\u001b[0;34m(self, key, indexer, axis_name)\u001b[0m\n\u001b[1;32m   5842\u001b[0m     \u001b[38;5;28;01mraise\u001b[39;00m \u001b[38;5;167;01mKeyError\u001b[39;00m(\u001b[38;5;124mf\u001b[39m\u001b[38;5;124m\"\u001b[39m\u001b[38;5;124mNone of [\u001b[39m\u001b[38;5;132;01m{\u001b[39;00mkey\u001b[38;5;132;01m}\u001b[39;00m\u001b[38;5;124m] are in the [\u001b[39m\u001b[38;5;132;01m{\u001b[39;00maxis_name\u001b[38;5;132;01m}\u001b[39;00m\u001b[38;5;124m]\u001b[39m\u001b[38;5;124m\"\u001b[39m)\n\u001b[1;32m   5844\u001b[0m not_found \u001b[38;5;241m=\u001b[39m \u001b[38;5;28mlist\u001b[39m(ensure_index(key)[missing_mask\u001b[38;5;241m.\u001b[39mnonzero()[\u001b[38;5;241m0\u001b[39m]]\u001b[38;5;241m.\u001b[39munique())\n\u001b[0;32m-> 5845\u001b[0m \u001b[38;5;28;01mraise\u001b[39;00m \u001b[38;5;167;01mKeyError\u001b[39;00m(\u001b[38;5;124mf\u001b[39m\u001b[38;5;124m\"\u001b[39m\u001b[38;5;132;01m{\u001b[39;00mnot_found\u001b[38;5;132;01m}\u001b[39;00m\u001b[38;5;124m not in index\u001b[39m\u001b[38;5;124m\"\u001b[39m)\n",
      "\u001b[0;31mKeyError\u001b[0m: \"['date'] not in index\""
     ]
    }
   ],
   "source": [
    "df_combined = df_combined[cols_select]"
   ]
  },
  {
   "cell_type": "code",
   "execution_count": 64,
   "id": "8b78648a",
   "metadata": {},
   "outputs": [
    {
     "data": {
      "text/html": [
       "<div>\n",
       "<style scoped>\n",
       "    .dataframe tbody tr th:only-of-type {\n",
       "        vertical-align: middle;\n",
       "    }\n",
       "\n",
       "    .dataframe tbody tr th {\n",
       "        vertical-align: top;\n",
       "    }\n",
       "\n",
       "    .dataframe thead th {\n",
       "        text-align: right;\n",
       "    }\n",
       "</style>\n",
       "<table border=\"1\" class=\"dataframe\">\n",
       "  <thead>\n",
       "    <tr style=\"text-align: right;\">\n",
       "      <th></th>\n",
       "      <th>date</th>\n",
       "      <th>the_temp</th>\n",
       "      <th>wind_speed</th>\n",
       "      <th>air_pressure</th>\n",
       "      <th>humidity</th>\n",
       "      <th>visibility</th>\n",
       "      <th>daylight_hours</th>\n",
       "      <th>daylight_hours</th>\n",
       "      <th>isholidays</th>\n",
       "      <th>weekday</th>\n",
       "      <th>weeknum</th>\n",
       "      <th>total</th>\n",
       "    </tr>\n",
       "  </thead>\n",
       "  <tbody>\n",
       "    <tr>\n",
       "      <th>0</th>\n",
       "      <td>2021-01-01</td>\n",
       "      <td>2.070</td>\n",
       "      <td>3.020726</td>\n",
       "      <td>1007.0</td>\n",
       "      <td>93</td>\n",
       "      <td>6.031650</td>\n",
       "      <td>07:50:24</td>\n",
       "      <td>07:50:24</td>\n",
       "      <td>1</td>\n",
       "      <td>4</td>\n",
       "      <td>53</td>\n",
       "      <td>16.0</td>\n",
       "    </tr>\n",
       "    <tr>\n",
       "      <th>1</th>\n",
       "      <td>2021-01-02</td>\n",
       "      <td>2.465</td>\n",
       "      <td>2.666541</td>\n",
       "      <td>1015.0</td>\n",
       "      <td>89</td>\n",
       "      <td>12.863316</td>\n",
       "      <td>07:51:41</td>\n",
       "      <td>07:51:41</td>\n",
       "      <td>0</td>\n",
       "      <td>5</td>\n",
       "      <td>53</td>\n",
       "      <td>16.0</td>\n",
       "    </tr>\n",
       "    <tr>\n",
       "      <th>2</th>\n",
       "      <td>2021-01-03</td>\n",
       "      <td>0.985</td>\n",
       "      <td>9.161659</td>\n",
       "      <td>1015.0</td>\n",
       "      <td>96</td>\n",
       "      <td>2.144352</td>\n",
       "      <td>07:53:05</td>\n",
       "      <td>07:53:05</td>\n",
       "      <td>0</td>\n",
       "      <td>6</td>\n",
       "      <td>53</td>\n",
       "      <td>17.0</td>\n",
       "    </tr>\n",
       "    <tr>\n",
       "      <th>3</th>\n",
       "      <td>2021-01-04</td>\n",
       "      <td>1.355</td>\n",
       "      <td>6.271227</td>\n",
       "      <td>1017.0</td>\n",
       "      <td>96</td>\n",
       "      <td>2.927901</td>\n",
       "      <td>07:54:33</td>\n",
       "      <td>07:54:33</td>\n",
       "      <td>0</td>\n",
       "      <td>0</td>\n",
       "      <td>1</td>\n",
       "      <td>33.0</td>\n",
       "    </tr>\n",
       "    <tr>\n",
       "      <th>4</th>\n",
       "      <td>2021-01-05</td>\n",
       "      <td>1.270</td>\n",
       "      <td>6.009528</td>\n",
       "      <td>1017.0</td>\n",
       "      <td>94</td>\n",
       "      <td>7.021805</td>\n",
       "      <td>07:56:08</td>\n",
       "      <td>07:56:08</td>\n",
       "      <td>0</td>\n",
       "      <td>1</td>\n",
       "      <td>1</td>\n",
       "      <td>29.0</td>\n",
       "    </tr>\n",
       "  </tbody>\n",
       "</table>\n",
       "</div>"
      ],
      "text/plain": [
       "         date  the_temp  wind_speed  air_pressure  humidity  visibility  \\\n",
       "0  2021-01-01     2.070    3.020726        1007.0        93    6.031650   \n",
       "1  2021-01-02     2.465    2.666541        1015.0        89   12.863316   \n",
       "2  2021-01-03     0.985    9.161659        1015.0        96    2.144352   \n",
       "3  2021-01-04     1.355    6.271227        1017.0        96    2.927901   \n",
       "4  2021-01-05     1.270    6.009528        1017.0        94    7.021805   \n",
       "\n",
       "  daylight_hours daylight_hours  isholidays  weekday  weeknum  total  \n",
       "0       07:50:24       07:50:24           1        4       53   16.0  \n",
       "1       07:51:41       07:51:41           0        5       53   16.0  \n",
       "2       07:53:05       07:53:05           0        6       53   17.0  \n",
       "3       07:54:33       07:54:33           0        0        1   33.0  \n",
       "4       07:56:08       07:56:08           0        1        1   29.0  "
      ]
     },
     "execution_count": 64,
     "metadata": {},
     "output_type": "execute_result"
    }
   ],
   "source": [
    "df_combined.head()"
   ]
  },
  {
   "cell_type": "code",
   "execution_count": 66,
   "id": "3d3dbeab",
   "metadata": {},
   "outputs": [],
   "source": [
    "df_combined = df_combined.set_index(\"date\")"
   ]
  },
  {
   "cell_type": "markdown",
   "id": "09ac8014",
   "metadata": {},
   "source": [
    "# Train-test-split"
   ]
  },
  {
   "cell_type": "code",
   "execution_count": 67,
   "id": "9dfeef9a",
   "metadata": {},
   "outputs": [
    {
     "data": {
      "text/plain": [
       "424"
      ]
     },
     "execution_count": 67,
     "metadata": {},
     "output_type": "execute_result"
    }
   ],
   "source": [
    "len(df_combined)"
   ]
  },
  {
   "cell_type": "code",
   "execution_count": null,
   "id": "41c12196",
   "metadata": {},
   "outputs": [],
   "source": [
    "df_train = df_theft_model[\"total\"][:len_]"
   ]
  },
  {
   "cell_type": "code",
   "execution_count": null,
   "id": "6b9b710e",
   "metadata": {},
   "outputs": [],
   "source": [
    "df_test = df_theft_model[\"total\"][len_:]"
   ]
  },
  {
   "cell_type": "code",
   "execution_count": null,
   "id": "0a9feed3",
   "metadata": {},
   "outputs": [],
   "source": []
  },
  {
   "cell_type": "code",
   "execution_count": null,
   "id": "07319015",
   "metadata": {},
   "outputs": [],
   "source": []
  },
  {
   "cell_type": "code",
   "execution_count": null,
   "id": "613d6612",
   "metadata": {},
   "outputs": [],
   "source": []
  },
  {
   "cell_type": "code",
   "execution_count": null,
   "id": "5eac04b7",
   "metadata": {},
   "outputs": [],
   "source": [
    "def get_X_y(window_size, future_horizon, dataset):\n",
    "\n",
    "  X = []\n",
    "  y = []\n",
    "\n",
    "  for i in range(0, dataset.shape[0] - window_size - future_horizon):\n",
    "    X.append(dataset[i: i + window_size])\n",
    "    y.append(dataset[i + window_size: i + window_size + future_horizon])\n",
    "\n",
    "  return np.array(X), np.array(y)"
   ]
  },
  {
   "cell_type": "code",
   "execution_count": null,
   "id": "51d5bc52",
   "metadata": {},
   "outputs": [],
   "source": [
    "window_size = 31\n",
    "future_horizon = 1\n",
    "\n",
    "X_train, y_train = get_X_y(window_size,future_horizon, df_train)\n",
    "X_test, y_test = get_X_y(window_size, future_horizon, df_test)"
   ]
  },
  {
   "cell_type": "code",
   "execution_count": null,
   "id": "491dbc7a",
   "metadata": {},
   "outputs": [],
   "source": []
  },
  {
   "cell_type": "code",
   "execution_count": null,
   "id": "1d3bc530",
   "metadata": {},
   "outputs": [],
   "source": []
  },
  {
   "cell_type": "code",
   "execution_count": null,
   "id": "8df83732",
   "metadata": {},
   "outputs": [],
   "source": []
  },
  {
   "cell_type": "code",
   "execution_count": null,
   "id": "95d63d8d",
   "metadata": {},
   "outputs": [],
   "source": []
  },
  {
   "cell_type": "code",
   "execution_count": null,
   "id": "140c792d",
   "metadata": {},
   "outputs": [],
   "source": []
  }
 ],
 "metadata": {
  "kernelspec": {
   "display_name": "Python 3 (ipykernel)",
   "language": "python",
   "name": "python3"
  },
  "language_info": {
   "codemirror_mode": {
    "name": "ipython",
    "version": 3
   },
   "file_extension": ".py",
   "mimetype": "text/x-python",
   "name": "python",
   "nbconvert_exporter": "python",
   "pygments_lexer": "ipython3",
   "version": "3.8.12"
  },
  "toc": {
   "base_numbering": 1,
   "nav_menu": {},
   "number_sections": true,
   "sideBar": true,
   "skip_h1_title": false,
   "title_cell": "Table of Contents",
   "title_sidebar": "Contents",
   "toc_cell": false,
   "toc_position": {},
   "toc_section_display": true,
   "toc_window_display": false
  }
 },
 "nbformat": 4,
 "nbformat_minor": 5
}
