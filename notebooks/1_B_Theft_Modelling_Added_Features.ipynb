{
 "cells": [
  {
   "cell_type": "code",
   "execution_count": 133,
   "id": "aaa24f90",
   "metadata": {},
   "outputs": [],
   "source": [
    "import pandas as pd\n",
    "import numpy as np\n",
    "import matplotlib.pyplot as plt\n",
    "import seaborn as sns\n",
    "\n",
    "# metrics\n",
    "from sklearn.metrics import mean_squared_error\n",
    "from sklearn.metrics import mean_absolute_percentage_error\n",
    "\n",
    "# model building\n",
    "from tensorflow.keras import Sequential\n",
    "from tensorflow.keras import layers\n",
    "from tensorflow.keras.layers import Masking\n",
    "from tensorflow.keras.metrics import RootMeanSquaredError\n",
    "from keras.models import Sequential\n",
    "from keras.layers import Dense, SimpleRNN, Flatten\n",
    "from tensorflow.keras.layers import SimpleRNN, LSTM, GRU, Dropout\n",
    "from keras import layers\n",
    "from tensorflow.keras import callbacks\n",
    "from sklearn.preprocessing import MinMaxScaler\n",
    "from sklearn.model_selection import KFold\n",
    "\n",
    "# URL Download\n",
    "import csv\n",
    "import io\n",
    "import urllib.request\n",
    "import requests"
   ]
  },
  {
   "cell_type": "markdown",
   "id": "c783adfe",
   "metadata": {},
   "source": [
    "# Read in data"
   ]
  },
  {
   "cell_type": "code",
   "execution_count": 14,
   "id": "950a28af",
   "metadata": {},
   "outputs": [
    {
     "name": "stdout",
     "output_type": "stream",
     "text": [
      "/home/jakob/code/hmichinaka/berlin-bike-theft-forecasting/notebooks\r\n"
     ]
    }
   ],
   "source": [
    "!pwd"
   ]
  },
  {
   "cell_type": "code",
   "execution_count": 76,
   "id": "d1a11c3f",
   "metadata": {},
   "outputs": [],
   "source": [
    "df_feat = pd.read_csv(\"../raw_data/daily_features_theft.csv\")"
   ]
  },
  {
   "cell_type": "code",
   "execution_count": 77,
   "id": "e39db876",
   "metadata": {},
   "outputs": [
    {
     "data": {
      "text/plain": [
       "Index(['Unnamed: 0', 'date', 'min_temp', 'max_temp', 'the_temp',\n",
       "       'weather_state_name', 'weather_state_abbr', 'wind_speed',\n",
       "       'wind_direction', 'air_pressure', 'humidity', 'visibility',\n",
       "       'daylight_hours', 'isholidays', 'weekday', 'weeknum'],\n",
       "      dtype='object')"
      ]
     },
     "execution_count": 77,
     "metadata": {},
     "output_type": "execute_result"
    }
   ],
   "source": [
    "df_feat.columns"
   ]
  },
  {
   "cell_type": "code",
   "execution_count": 78,
   "id": "4d1d1e97",
   "metadata": {},
   "outputs": [],
   "source": [
    "df_feat.drop(columns = 'Unnamed: 0', inplace=True )"
   ]
  },
  {
   "cell_type": "code",
   "execution_count": 79,
   "id": "cf34c051",
   "metadata": {},
   "outputs": [
    {
     "data": {
      "text/html": [
       "<div>\n",
       "<style scoped>\n",
       "    .dataframe tbody tr th:only-of-type {\n",
       "        vertical-align: middle;\n",
       "    }\n",
       "\n",
       "    .dataframe tbody tr th {\n",
       "        vertical-align: top;\n",
       "    }\n",
       "\n",
       "    .dataframe thead th {\n",
       "        text-align: right;\n",
       "    }\n",
       "</style>\n",
       "<table border=\"1\" class=\"dataframe\">\n",
       "  <thead>\n",
       "    <tr style=\"text-align: right;\">\n",
       "      <th></th>\n",
       "      <th>date</th>\n",
       "      <th>min_temp</th>\n",
       "      <th>max_temp</th>\n",
       "      <th>the_temp</th>\n",
       "      <th>weather_state_name</th>\n",
       "      <th>weather_state_abbr</th>\n",
       "      <th>wind_speed</th>\n",
       "      <th>wind_direction</th>\n",
       "      <th>air_pressure</th>\n",
       "      <th>humidity</th>\n",
       "      <th>visibility</th>\n",
       "      <th>daylight_hours</th>\n",
       "      <th>isholidays</th>\n",
       "      <th>weekday</th>\n",
       "      <th>weeknum</th>\n",
       "    </tr>\n",
       "  </thead>\n",
       "  <tbody>\n",
       "    <tr>\n",
       "      <th>0</th>\n",
       "      <td>2021-01-01</td>\n",
       "      <td>0.005</td>\n",
       "      <td>2.395</td>\n",
       "      <td>2.070</td>\n",
       "      <td>Sleet</td>\n",
       "      <td>sl</td>\n",
       "      <td>3.020726</td>\n",
       "      <td>227.616640</td>\n",
       "      <td>1007.0</td>\n",
       "      <td>93</td>\n",
       "      <td>6.031650</td>\n",
       "      <td>07:50:24</td>\n",
       "      <td>1</td>\n",
       "      <td>4</td>\n",
       "      <td>53</td>\n",
       "    </tr>\n",
       "    <tr>\n",
       "      <th>1</th>\n",
       "      <td>2021-01-02</td>\n",
       "      <td>-1.135</td>\n",
       "      <td>3.045</td>\n",
       "      <td>2.465</td>\n",
       "      <td>Heavy Cloud</td>\n",
       "      <td>hc</td>\n",
       "      <td>2.666541</td>\n",
       "      <td>193.699868</td>\n",
       "      <td>1015.0</td>\n",
       "      <td>89</td>\n",
       "      <td>12.863316</td>\n",
       "      <td>07:51:41</td>\n",
       "      <td>0</td>\n",
       "      <td>5</td>\n",
       "      <td>53</td>\n",
       "    </tr>\n",
       "    <tr>\n",
       "      <th>2</th>\n",
       "      <td>2021-01-03</td>\n",
       "      <td>-1.315</td>\n",
       "      <td>1.955</td>\n",
       "      <td>0.985</td>\n",
       "      <td>Snow</td>\n",
       "      <td>sn</td>\n",
       "      <td>9.161659</td>\n",
       "      <td>55.677273</td>\n",
       "      <td>1015.0</td>\n",
       "      <td>96</td>\n",
       "      <td>2.144352</td>\n",
       "      <td>07:53:05</td>\n",
       "      <td>0</td>\n",
       "      <td>6</td>\n",
       "      <td>53</td>\n",
       "    </tr>\n",
       "    <tr>\n",
       "      <th>3</th>\n",
       "      <td>2021-01-04</td>\n",
       "      <td>0.030</td>\n",
       "      <td>1.780</td>\n",
       "      <td>1.355</td>\n",
       "      <td>Sleet</td>\n",
       "      <td>sl</td>\n",
       "      <td>6.271227</td>\n",
       "      <td>54.331796</td>\n",
       "      <td>1017.0</td>\n",
       "      <td>96</td>\n",
       "      <td>2.927901</td>\n",
       "      <td>07:54:33</td>\n",
       "      <td>0</td>\n",
       "      <td>0</td>\n",
       "      <td>1</td>\n",
       "    </tr>\n",
       "    <tr>\n",
       "      <th>4</th>\n",
       "      <td>2021-01-05</td>\n",
       "      <td>-0.030</td>\n",
       "      <td>2.730</td>\n",
       "      <td>1.270</td>\n",
       "      <td>Light Rain</td>\n",
       "      <td>lr</td>\n",
       "      <td>6.009528</td>\n",
       "      <td>26.500356</td>\n",
       "      <td>1017.0</td>\n",
       "      <td>94</td>\n",
       "      <td>7.021805</td>\n",
       "      <td>07:56:08</td>\n",
       "      <td>0</td>\n",
       "      <td>1</td>\n",
       "      <td>1</td>\n",
       "    </tr>\n",
       "  </tbody>\n",
       "</table>\n",
       "</div>"
      ],
      "text/plain": [
       "         date  min_temp  max_temp  the_temp weather_state_name  \\\n",
       "0  2021-01-01     0.005     2.395     2.070              Sleet   \n",
       "1  2021-01-02    -1.135     3.045     2.465        Heavy Cloud   \n",
       "2  2021-01-03    -1.315     1.955     0.985               Snow   \n",
       "3  2021-01-04     0.030     1.780     1.355              Sleet   \n",
       "4  2021-01-05    -0.030     2.730     1.270         Light Rain   \n",
       "\n",
       "  weather_state_abbr  wind_speed  wind_direction  air_pressure  humidity  \\\n",
       "0                 sl    3.020726      227.616640        1007.0        93   \n",
       "1                 hc    2.666541      193.699868        1015.0        89   \n",
       "2                 sn    9.161659       55.677273        1015.0        96   \n",
       "3                 sl    6.271227       54.331796        1017.0        96   \n",
       "4                 lr    6.009528       26.500356        1017.0        94   \n",
       "\n",
       "   visibility daylight_hours  isholidays  weekday  weeknum  \n",
       "0    6.031650       07:50:24           1        4       53  \n",
       "1   12.863316       07:51:41           0        5       53  \n",
       "2    2.144352       07:53:05           0        6       53  \n",
       "3    2.927901       07:54:33           0        0        1  \n",
       "4    7.021805       07:56:08           0        1        1  "
      ]
     },
     "execution_count": 79,
     "metadata": {},
     "output_type": "execute_result"
    }
   ],
   "source": [
    "df_feat.head()"
   ]
  },
  {
   "cell_type": "code",
   "execution_count": 134,
   "id": "44eb87bc",
   "metadata": {},
   "outputs": [],
   "source": [
    "df_theft = pd.read_csv(\"../raw_data/bike_theft_cleaned.csv\")"
   ]
  },
  {
   "cell_type": "code",
   "execution_count": 135,
   "id": "3fd1fcf8",
   "metadata": {},
   "outputs": [
    {
     "data": {
      "text/html": [
       "<div>\n",
       "<style scoped>\n",
       "    .dataframe tbody tr th:only-of-type {\n",
       "        vertical-align: middle;\n",
       "    }\n",
       "\n",
       "    .dataframe tbody tr th {\n",
       "        vertical-align: top;\n",
       "    }\n",
       "\n",
       "    .dataframe thead th {\n",
       "        text-align: right;\n",
       "    }\n",
       "</style>\n",
       "<table border=\"1\" class=\"dataframe\">\n",
       "  <thead>\n",
       "    <tr style=\"text-align: right;\">\n",
       "      <th></th>\n",
       "      <th>Unnamed: 0</th>\n",
       "      <th>date_reported</th>\n",
       "      <th>date_theft_start</th>\n",
       "      <th>hour_theft_start</th>\n",
       "      <th>date_theft_end</th>\n",
       "      <th>hour_theft_end</th>\n",
       "      <th>LOR</th>\n",
       "      <th>estimated_value</th>\n",
       "      <th>attempt</th>\n",
       "      <th>type_bike</th>\n",
       "      <th>theft_type</th>\n",
       "      <th>theft_type_detail</th>\n",
       "      <th>datetime_theft_start</th>\n",
       "      <th>datetime_theft_end</th>\n",
       "      <th>Timedelta_theft_end_start</th>\n",
       "      <th>datetime_theft_mean</th>\n",
       "      <th>BZR</th>\n",
       "      <th>PGR</th>\n",
       "      <th>Bezirk</th>\n",
       "    </tr>\n",
       "  </thead>\n",
       "  <tbody>\n",
       "    <tr>\n",
       "      <th>0</th>\n",
       "      <td>0</td>\n",
       "      <td>2022-02-28</td>\n",
       "      <td>2022-02-26</td>\n",
       "      <td>14:00:00</td>\n",
       "      <td>2022-02-26</td>\n",
       "      <td>14:00:00</td>\n",
       "      <td>7100103</td>\n",
       "      <td>580.0</td>\n",
       "      <td>No</td>\n",
       "      <td>bike</td>\n",
       "      <td>Fahrraddiebstahl</td>\n",
       "      <td>Sonstiger schwerer Diebstahl von Fahrrädern</td>\n",
       "      <td>2022-02-26 14:00:00</td>\n",
       "      <td>2022-02-26 14:00:00</td>\n",
       "      <td>0.0</td>\n",
       "      <td>2022-02-26 14:00:00</td>\n",
       "      <td>71001</td>\n",
       "      <td>710</td>\n",
       "      <td>7</td>\n",
       "    </tr>\n",
       "    <tr>\n",
       "      <th>1</th>\n",
       "      <td>1</td>\n",
       "      <td>2022-02-28</td>\n",
       "      <td>2022-02-28</td>\n",
       "      <td>16:00:00</td>\n",
       "      <td>2022-02-28</td>\n",
       "      <td>16:00:00</td>\n",
       "      <td>2100106</td>\n",
       "      <td>0.0</td>\n",
       "      <td>No</td>\n",
       "      <td>man's bike</td>\n",
       "      <td>Fahrraddiebstahl</td>\n",
       "      <td>Sonstiger schwerer Diebstahl von Fahrrädern</td>\n",
       "      <td>2022-02-28 16:00:00</td>\n",
       "      <td>2022-02-28 16:00:00</td>\n",
       "      <td>0.0</td>\n",
       "      <td>2022-02-28 16:00:00</td>\n",
       "      <td>21001</td>\n",
       "      <td>210</td>\n",
       "      <td>2</td>\n",
       "    </tr>\n",
       "    <tr>\n",
       "      <th>2</th>\n",
       "      <td>2</td>\n",
       "      <td>2022-02-28</td>\n",
       "      <td>2022-02-28</td>\n",
       "      <td>20:00:00</td>\n",
       "      <td>2022-02-28</td>\n",
       "      <td>20:00:00</td>\n",
       "      <td>8300935</td>\n",
       "      <td>0.0</td>\n",
       "      <td>No</td>\n",
       "      <td>other bike</td>\n",
       "      <td>Fahrraddiebstahl</td>\n",
       "      <td>Einfacher Diebstahl von Fahrrädern</td>\n",
       "      <td>2022-02-28 20:00:00</td>\n",
       "      <td>2022-02-28 20:00:00</td>\n",
       "      <td>0.0</td>\n",
       "      <td>2022-02-28 20:00:00</td>\n",
       "      <td>83009</td>\n",
       "      <td>830</td>\n",
       "      <td>8</td>\n",
       "    </tr>\n",
       "    <tr>\n",
       "      <th>3</th>\n",
       "      <td>3</td>\n",
       "      <td>2022-02-28</td>\n",
       "      <td>2022-02-28</td>\n",
       "      <td>8:00:00</td>\n",
       "      <td>2022-02-28</td>\n",
       "      <td>8:00:00</td>\n",
       "      <td>4400727</td>\n",
       "      <td>1000.0</td>\n",
       "      <td>No</td>\n",
       "      <td>other bike</td>\n",
       "      <td>Fahrraddiebstahl</td>\n",
       "      <td>Sonstiger schwerer Diebstahl von Fahrrädern</td>\n",
       "      <td>2022-02-28 08:00:00</td>\n",
       "      <td>2022-02-28 08:00:00</td>\n",
       "      <td>0.0</td>\n",
       "      <td>2022-02-28 08:00:00</td>\n",
       "      <td>44007</td>\n",
       "      <td>440</td>\n",
       "      <td>4</td>\n",
       "    </tr>\n",
       "    <tr>\n",
       "      <th>4</th>\n",
       "      <td>4</td>\n",
       "      <td>2022-02-28</td>\n",
       "      <td>2022-02-25</td>\n",
       "      <td>5:00:00</td>\n",
       "      <td>2022-02-25</td>\n",
       "      <td>17:00:00</td>\n",
       "      <td>9100305</td>\n",
       "      <td>499.0</td>\n",
       "      <td>No</td>\n",
       "      <td>man's bike</td>\n",
       "      <td>Fahrraddiebstahl</td>\n",
       "      <td>Sonstiger schwerer Diebstahl von Fahrrädern</td>\n",
       "      <td>2022-02-25 05:00:00</td>\n",
       "      <td>2022-02-25 17:00:00</td>\n",
       "      <td>12.0</td>\n",
       "      <td>2022-02-25 11:00:00</td>\n",
       "      <td>91003</td>\n",
       "      <td>910</td>\n",
       "      <td>9</td>\n",
       "    </tr>\n",
       "  </tbody>\n",
       "</table>\n",
       "</div>"
      ],
      "text/plain": [
       "   Unnamed: 0 date_reported date_theft_start hour_theft_start date_theft_end  \\\n",
       "0           0    2022-02-28       2022-02-26         14:00:00     2022-02-26   \n",
       "1           1    2022-02-28       2022-02-28         16:00:00     2022-02-28   \n",
       "2           2    2022-02-28       2022-02-28         20:00:00     2022-02-28   \n",
       "3           3    2022-02-28       2022-02-28          8:00:00     2022-02-28   \n",
       "4           4    2022-02-28       2022-02-25          5:00:00     2022-02-25   \n",
       "\n",
       "  hour_theft_end      LOR  estimated_value attempt   type_bike  \\\n",
       "0       14:00:00  7100103            580.0      No        bike   \n",
       "1       16:00:00  2100106              0.0      No  man's bike   \n",
       "2       20:00:00  8300935              0.0      No  other bike   \n",
       "3        8:00:00  4400727           1000.0      No  other bike   \n",
       "4       17:00:00  9100305            499.0      No  man's bike   \n",
       "\n",
       "         theft_type                            theft_type_detail  \\\n",
       "0  Fahrraddiebstahl  Sonstiger schwerer Diebstahl von Fahrrädern   \n",
       "1  Fahrraddiebstahl  Sonstiger schwerer Diebstahl von Fahrrädern   \n",
       "2  Fahrraddiebstahl           Einfacher Diebstahl von Fahrrädern   \n",
       "3  Fahrraddiebstahl  Sonstiger schwerer Diebstahl von Fahrrädern   \n",
       "4  Fahrraddiebstahl  Sonstiger schwerer Diebstahl von Fahrrädern   \n",
       "\n",
       "  datetime_theft_start   datetime_theft_end  Timedelta_theft_end_start  \\\n",
       "0  2022-02-26 14:00:00  2022-02-26 14:00:00                        0.0   \n",
       "1  2022-02-28 16:00:00  2022-02-28 16:00:00                        0.0   \n",
       "2  2022-02-28 20:00:00  2022-02-28 20:00:00                        0.0   \n",
       "3  2022-02-28 08:00:00  2022-02-28 08:00:00                        0.0   \n",
       "4  2022-02-25 05:00:00  2022-02-25 17:00:00                       12.0   \n",
       "\n",
       "   datetime_theft_mean    BZR  PGR  Bezirk  \n",
       "0  2022-02-26 14:00:00  71001  710       7  \n",
       "1  2022-02-28 16:00:00  21001  210       2  \n",
       "2  2022-02-28 20:00:00  83009  830       8  \n",
       "3  2022-02-28 08:00:00  44007  440       4  \n",
       "4  2022-02-25 11:00:00  91003  910       9  "
      ]
     },
     "execution_count": 135,
     "metadata": {},
     "output_type": "execute_result"
    }
   ],
   "source": [
    "df_theft.head()"
   ]
  },
  {
   "cell_type": "markdown",
   "id": "df04242b",
   "metadata": {},
   "source": [
    "# Combine datasets"
   ]
  },
  {
   "cell_type": "markdown",
   "id": "59bc9433",
   "metadata": {},
   "source": [
    "## Group theft data by Bezirk and date"
   ]
  },
  {
   "cell_type": "code",
   "execution_count": 82,
   "id": "a6cbe254",
   "metadata": {},
   "outputs": [],
   "source": [
    "# Group dataframe by date and LOR\n",
    "df_theft = df_theft.pivot_table(index = \"date_theft_start\", columns = \"Bezirk\", values = \"type_bike\", aggfunc= \"count\")\n",
    "\n",
    "df_theft.fillna(value = 0, inplace=True)"
   ]
  },
  {
   "cell_type": "code",
   "execution_count": 83,
   "id": "6f7c7239",
   "metadata": {},
   "outputs": [
    {
     "data": {
      "text/plain": [
       "(424, 13)"
      ]
     },
     "execution_count": 83,
     "metadata": {},
     "output_type": "execute_result"
    }
   ],
   "source": [
    "# create \"total\" column which sums up data for each day\n",
    "df_theft[\"total\"] = df_theft.sum(axis=1)\n",
    "\n",
    "\n",
    "df_theft.shape"
   ]
  },
  {
   "cell_type": "code",
   "execution_count": 84,
   "id": "d1684cc3",
   "metadata": {},
   "outputs": [
    {
     "data": {
      "text/plain": [
       "Index(['date', 'min_temp', 'max_temp', 'the_temp', 'weather_state_name',\n",
       "       'weather_state_abbr', 'wind_speed', 'wind_direction', 'air_pressure',\n",
       "       'humidity', 'visibility', 'daylight_hours', 'isholidays', 'weekday',\n",
       "       'weeknum'],\n",
       "      dtype='object')"
      ]
     },
     "execution_count": 84,
     "metadata": {},
     "output_type": "execute_result"
    }
   ],
   "source": [
    "df_feat.columns"
   ]
  },
  {
   "cell_type": "code",
   "execution_count": 85,
   "id": "99752011",
   "metadata": {},
   "outputs": [
    {
     "data": {
      "text/plain": [
       "Index([1, 2, 3, 4, 5, 6, 7, 8, 9, 10, 11, 12, 'total'], dtype='object', name='Bezirk')"
      ]
     },
     "execution_count": 85,
     "metadata": {},
     "output_type": "execute_result"
    }
   ],
   "source": [
    "df_theft.columns"
   ]
  },
  {
   "cell_type": "markdown",
   "id": "24be8487",
   "metadata": {},
   "source": [
    "## Merge datasets"
   ]
  },
  {
   "cell_type": "markdown",
   "id": "858831f0",
   "metadata": {},
   "source": [
    "We merge the \"total\" column from the theft dataset with the features from the features dataset"
   ]
  },
  {
   "cell_type": "code",
   "execution_count": 86,
   "id": "27ead7bf",
   "metadata": {},
   "outputs": [],
   "source": [
    "# First we have to reset the index in the df_theft to create a column to merge on \n",
    "\n",
    "df_theft.reset_index( inplace=True)"
   ]
  },
  {
   "cell_type": "code",
   "execution_count": 87,
   "id": "4877f421",
   "metadata": {},
   "outputs": [],
   "source": [
    "# as the last step we rename the date column to match the name in df_feat\n",
    "df_theft = df_theft.rename(columns={\"date_theft_start\": \"date\"})"
   ]
  },
  {
   "cell_type": "code",
   "execution_count": 88,
   "id": "eec1996b",
   "metadata": {},
   "outputs": [
    {
     "data": {
      "text/plain": [
       "Index(['date', 'min_temp', 'max_temp', 'the_temp', 'weather_state_name',\n",
       "       'weather_state_abbr', 'wind_speed', 'wind_direction', 'air_pressure',\n",
       "       'humidity', 'visibility', 'daylight_hours', 'isholidays', 'weekday',\n",
       "       'weeknum'],\n",
       "      dtype='object')"
      ]
     },
     "execution_count": 88,
     "metadata": {},
     "output_type": "execute_result"
    }
   ],
   "source": [
    "df_feat.columns"
   ]
  },
  {
   "cell_type": "code",
   "execution_count": 89,
   "id": "c829219a",
   "metadata": {},
   "outputs": [
    {
     "data": {
      "text/plain": [
       "Index(['date', 1, 2, 3, 4, 5, 6, 7, 8, 9, 10, 11, 12, 'total'], dtype='object', name='Bezirk')"
      ]
     },
     "execution_count": 89,
     "metadata": {},
     "output_type": "execute_result"
    }
   ],
   "source": [
    "df_theft.columns"
   ]
  },
  {
   "cell_type": "code",
   "execution_count": 90,
   "id": "bbc63093",
   "metadata": {
    "scrolled": true
   },
   "outputs": [
    {
     "name": "stdout",
     "output_type": "stream",
     "text": [
      "/home/jakob/code/hmichinaka/berlin-bike-theft-forecasting/notebooks\r\n"
     ]
    }
   ],
   "source": [
    "!pwd"
   ]
  },
  {
   "cell_type": "code",
   "execution_count": 91,
   "id": "af8527de",
   "metadata": {
    "scrolled": true
   },
   "outputs": [],
   "source": [
    "df_theft[[\"date\", \"total\"]].to_csv(\"../bike_theft_total_daily.csv\")"
   ]
  },
  {
   "cell_type": "code",
   "execution_count": 92,
   "id": "8f2dabe8",
   "metadata": {
    "scrolled": true
   },
   "outputs": [],
   "source": [
    "# combine the datasets\n",
    "df_combined = pd.merge(df_feat, df_theft, on = \"date\")"
   ]
  },
  {
   "cell_type": "code",
   "execution_count": 93,
   "id": "52d811be",
   "metadata": {},
   "outputs": [
    {
     "data": {
      "text/html": [
       "<div>\n",
       "<style scoped>\n",
       "    .dataframe tbody tr th:only-of-type {\n",
       "        vertical-align: middle;\n",
       "    }\n",
       "\n",
       "    .dataframe tbody tr th {\n",
       "        vertical-align: top;\n",
       "    }\n",
       "\n",
       "    .dataframe thead th {\n",
       "        text-align: right;\n",
       "    }\n",
       "</style>\n",
       "<table border=\"1\" class=\"dataframe\">\n",
       "  <thead>\n",
       "    <tr style=\"text-align: right;\">\n",
       "      <th></th>\n",
       "      <th>date</th>\n",
       "      <th>min_temp</th>\n",
       "      <th>max_temp</th>\n",
       "      <th>the_temp</th>\n",
       "      <th>weather_state_name</th>\n",
       "      <th>weather_state_abbr</th>\n",
       "      <th>wind_speed</th>\n",
       "      <th>wind_direction</th>\n",
       "      <th>air_pressure</th>\n",
       "      <th>humidity</th>\n",
       "      <th>...</th>\n",
       "      <th>4</th>\n",
       "      <th>5</th>\n",
       "      <th>6</th>\n",
       "      <th>7</th>\n",
       "      <th>8</th>\n",
       "      <th>9</th>\n",
       "      <th>10</th>\n",
       "      <th>11</th>\n",
       "      <th>12</th>\n",
       "      <th>total</th>\n",
       "    </tr>\n",
       "  </thead>\n",
       "  <tbody>\n",
       "    <tr>\n",
       "      <th>0</th>\n",
       "      <td>2021-01-01</td>\n",
       "      <td>0.005</td>\n",
       "      <td>2.395</td>\n",
       "      <td>2.070</td>\n",
       "      <td>Sleet</td>\n",
       "      <td>sl</td>\n",
       "      <td>3.020726</td>\n",
       "      <td>227.616640</td>\n",
       "      <td>1007.0</td>\n",
       "      <td>93</td>\n",
       "      <td>...</td>\n",
       "      <td>4.0</td>\n",
       "      <td>1.0</td>\n",
       "      <td>0.0</td>\n",
       "      <td>0.0</td>\n",
       "      <td>1.0</td>\n",
       "      <td>1.0</td>\n",
       "      <td>2.0</td>\n",
       "      <td>1.0</td>\n",
       "      <td>0.0</td>\n",
       "      <td>16.0</td>\n",
       "    </tr>\n",
       "    <tr>\n",
       "      <th>1</th>\n",
       "      <td>2021-01-02</td>\n",
       "      <td>-1.135</td>\n",
       "      <td>3.045</td>\n",
       "      <td>2.465</td>\n",
       "      <td>Heavy Cloud</td>\n",
       "      <td>hc</td>\n",
       "      <td>2.666541</td>\n",
       "      <td>193.699868</td>\n",
       "      <td>1015.0</td>\n",
       "      <td>89</td>\n",
       "      <td>...</td>\n",
       "      <td>3.0</td>\n",
       "      <td>0.0</td>\n",
       "      <td>1.0</td>\n",
       "      <td>1.0</td>\n",
       "      <td>2.0</td>\n",
       "      <td>2.0</td>\n",
       "      <td>0.0</td>\n",
       "      <td>1.0</td>\n",
       "      <td>1.0</td>\n",
       "      <td>16.0</td>\n",
       "    </tr>\n",
       "    <tr>\n",
       "      <th>2</th>\n",
       "      <td>2021-01-03</td>\n",
       "      <td>-1.315</td>\n",
       "      <td>1.955</td>\n",
       "      <td>0.985</td>\n",
       "      <td>Snow</td>\n",
       "      <td>sn</td>\n",
       "      <td>9.161659</td>\n",
       "      <td>55.677273</td>\n",
       "      <td>1015.0</td>\n",
       "      <td>96</td>\n",
       "      <td>...</td>\n",
       "      <td>2.0</td>\n",
       "      <td>0.0</td>\n",
       "      <td>2.0</td>\n",
       "      <td>3.0</td>\n",
       "      <td>0.0</td>\n",
       "      <td>2.0</td>\n",
       "      <td>3.0</td>\n",
       "      <td>0.0</td>\n",
       "      <td>0.0</td>\n",
       "      <td>17.0</td>\n",
       "    </tr>\n",
       "    <tr>\n",
       "      <th>3</th>\n",
       "      <td>2021-01-04</td>\n",
       "      <td>0.030</td>\n",
       "      <td>1.780</td>\n",
       "      <td>1.355</td>\n",
       "      <td>Sleet</td>\n",
       "      <td>sl</td>\n",
       "      <td>6.271227</td>\n",
       "      <td>54.331796</td>\n",
       "      <td>1017.0</td>\n",
       "      <td>96</td>\n",
       "      <td>...</td>\n",
       "      <td>4.0</td>\n",
       "      <td>0.0</td>\n",
       "      <td>2.0</td>\n",
       "      <td>4.0</td>\n",
       "      <td>3.0</td>\n",
       "      <td>1.0</td>\n",
       "      <td>0.0</td>\n",
       "      <td>1.0</td>\n",
       "      <td>2.0</td>\n",
       "      <td>33.0</td>\n",
       "    </tr>\n",
       "    <tr>\n",
       "      <th>4</th>\n",
       "      <td>2021-01-05</td>\n",
       "      <td>-0.030</td>\n",
       "      <td>2.730</td>\n",
       "      <td>1.270</td>\n",
       "      <td>Light Rain</td>\n",
       "      <td>lr</td>\n",
       "      <td>6.009528</td>\n",
       "      <td>26.500356</td>\n",
       "      <td>1017.0</td>\n",
       "      <td>94</td>\n",
       "      <td>...</td>\n",
       "      <td>5.0</td>\n",
       "      <td>2.0</td>\n",
       "      <td>1.0</td>\n",
       "      <td>5.0</td>\n",
       "      <td>0.0</td>\n",
       "      <td>4.0</td>\n",
       "      <td>0.0</td>\n",
       "      <td>0.0</td>\n",
       "      <td>1.0</td>\n",
       "      <td>29.0</td>\n",
       "    </tr>\n",
       "  </tbody>\n",
       "</table>\n",
       "<p>5 rows × 28 columns</p>\n",
       "</div>"
      ],
      "text/plain": [
       "         date  min_temp  max_temp  the_temp weather_state_name  \\\n",
       "0  2021-01-01     0.005     2.395     2.070              Sleet   \n",
       "1  2021-01-02    -1.135     3.045     2.465        Heavy Cloud   \n",
       "2  2021-01-03    -1.315     1.955     0.985               Snow   \n",
       "3  2021-01-04     0.030     1.780     1.355              Sleet   \n",
       "4  2021-01-05    -0.030     2.730     1.270         Light Rain   \n",
       "\n",
       "  weather_state_abbr  wind_speed  wind_direction  air_pressure  humidity  ...  \\\n",
       "0                 sl    3.020726      227.616640        1007.0        93  ...   \n",
       "1                 hc    2.666541      193.699868        1015.0        89  ...   \n",
       "2                 sn    9.161659       55.677273        1015.0        96  ...   \n",
       "3                 sl    6.271227       54.331796        1017.0        96  ...   \n",
       "4                 lr    6.009528       26.500356        1017.0        94  ...   \n",
       "\n",
       "     4    5    6    7    8    9   10   11   12  total  \n",
       "0  4.0  1.0  0.0  0.0  1.0  1.0  2.0  1.0  0.0   16.0  \n",
       "1  3.0  0.0  1.0  1.0  2.0  2.0  0.0  1.0  1.0   16.0  \n",
       "2  2.0  0.0  2.0  3.0  0.0  2.0  3.0  0.0  0.0   17.0  \n",
       "3  4.0  0.0  2.0  4.0  3.0  1.0  0.0  1.0  2.0   33.0  \n",
       "4  5.0  2.0  1.0  5.0  0.0  4.0  0.0  0.0  1.0   29.0  \n",
       "\n",
       "[5 rows x 28 columns]"
      ]
     },
     "execution_count": 93,
     "metadata": {},
     "output_type": "execute_result"
    }
   ],
   "source": [
    "df_combined.head()"
   ]
  },
  {
   "cell_type": "markdown",
   "id": "a900db15",
   "metadata": {},
   "source": [
    "## Select relevant features"
   ]
  },
  {
   "cell_type": "code",
   "execution_count": 94,
   "id": "db105709",
   "metadata": {
    "scrolled": true
   },
   "outputs": [
    {
     "data": {
      "text/plain": [
       "Index([              'date',           'min_temp',           'max_temp',\n",
       "                 'the_temp', 'weather_state_name', 'weather_state_abbr',\n",
       "               'wind_speed',     'wind_direction',       'air_pressure',\n",
       "                 'humidity',         'visibility',     'daylight_hours',\n",
       "               'isholidays',            'weekday',            'weeknum',\n",
       "                          1,                    2,                    3,\n",
       "                          4,                    5,                    6,\n",
       "                          7,                    8,                    9,\n",
       "                         10,                   11,                   12,\n",
       "                    'total'],\n",
       "      dtype='object')"
      ]
     },
     "execution_count": 94,
     "metadata": {},
     "output_type": "execute_result"
    }
   ],
   "source": [
    "df_combined.columns"
   ]
  },
  {
   "cell_type": "markdown",
   "id": "ff175540",
   "metadata": {},
   "source": [
    "- For now we will drop the Bezirke columns, and the weather_state_name as well as weather_state_abbr\n",
    "- We will also drop min_temp and max_temp and just keep the_temp \n",
    "- We will further drop wind_direction"
   ]
  },
  {
   "cell_type": "code",
   "execution_count": 95,
   "id": "b31f8be1",
   "metadata": {},
   "outputs": [],
   "source": [
    "cols_select = [\"date\", \"the_temp\", \"wind_speed\", \"air_pressure\", \"humidity\", \"visibility\", \n",
    "              \"daylight_hours\", \"isholidays\", \"weekday\", \"weeknum\", \n",
    "              \"total\"]"
   ]
  },
  {
   "cell_type": "code",
   "execution_count": 96,
   "id": "e202bb28",
   "metadata": {},
   "outputs": [],
   "source": [
    "df_combined = df_combined[cols_select]"
   ]
  },
  {
   "cell_type": "code",
   "execution_count": 97,
   "id": "8b78648a",
   "metadata": {},
   "outputs": [
    {
     "data": {
      "text/html": [
       "<div>\n",
       "<style scoped>\n",
       "    .dataframe tbody tr th:only-of-type {\n",
       "        vertical-align: middle;\n",
       "    }\n",
       "\n",
       "    .dataframe tbody tr th {\n",
       "        vertical-align: top;\n",
       "    }\n",
       "\n",
       "    .dataframe thead th {\n",
       "        text-align: right;\n",
       "    }\n",
       "</style>\n",
       "<table border=\"1\" class=\"dataframe\">\n",
       "  <thead>\n",
       "    <tr style=\"text-align: right;\">\n",
       "      <th></th>\n",
       "      <th>date</th>\n",
       "      <th>the_temp</th>\n",
       "      <th>wind_speed</th>\n",
       "      <th>air_pressure</th>\n",
       "      <th>humidity</th>\n",
       "      <th>visibility</th>\n",
       "      <th>daylight_hours</th>\n",
       "      <th>isholidays</th>\n",
       "      <th>weekday</th>\n",
       "      <th>weeknum</th>\n",
       "      <th>total</th>\n",
       "    </tr>\n",
       "  </thead>\n",
       "  <tbody>\n",
       "    <tr>\n",
       "      <th>0</th>\n",
       "      <td>2021-01-01</td>\n",
       "      <td>2.070</td>\n",
       "      <td>3.020726</td>\n",
       "      <td>1007.0</td>\n",
       "      <td>93</td>\n",
       "      <td>6.031650</td>\n",
       "      <td>07:50:24</td>\n",
       "      <td>1</td>\n",
       "      <td>4</td>\n",
       "      <td>53</td>\n",
       "      <td>16.0</td>\n",
       "    </tr>\n",
       "    <tr>\n",
       "      <th>1</th>\n",
       "      <td>2021-01-02</td>\n",
       "      <td>2.465</td>\n",
       "      <td>2.666541</td>\n",
       "      <td>1015.0</td>\n",
       "      <td>89</td>\n",
       "      <td>12.863316</td>\n",
       "      <td>07:51:41</td>\n",
       "      <td>0</td>\n",
       "      <td>5</td>\n",
       "      <td>53</td>\n",
       "      <td>16.0</td>\n",
       "    </tr>\n",
       "    <tr>\n",
       "      <th>2</th>\n",
       "      <td>2021-01-03</td>\n",
       "      <td>0.985</td>\n",
       "      <td>9.161659</td>\n",
       "      <td>1015.0</td>\n",
       "      <td>96</td>\n",
       "      <td>2.144352</td>\n",
       "      <td>07:53:05</td>\n",
       "      <td>0</td>\n",
       "      <td>6</td>\n",
       "      <td>53</td>\n",
       "      <td>17.0</td>\n",
       "    </tr>\n",
       "    <tr>\n",
       "      <th>3</th>\n",
       "      <td>2021-01-04</td>\n",
       "      <td>1.355</td>\n",
       "      <td>6.271227</td>\n",
       "      <td>1017.0</td>\n",
       "      <td>96</td>\n",
       "      <td>2.927901</td>\n",
       "      <td>07:54:33</td>\n",
       "      <td>0</td>\n",
       "      <td>0</td>\n",
       "      <td>1</td>\n",
       "      <td>33.0</td>\n",
       "    </tr>\n",
       "    <tr>\n",
       "      <th>4</th>\n",
       "      <td>2021-01-05</td>\n",
       "      <td>1.270</td>\n",
       "      <td>6.009528</td>\n",
       "      <td>1017.0</td>\n",
       "      <td>94</td>\n",
       "      <td>7.021805</td>\n",
       "      <td>07:56:08</td>\n",
       "      <td>0</td>\n",
       "      <td>1</td>\n",
       "      <td>1</td>\n",
       "      <td>29.0</td>\n",
       "    </tr>\n",
       "  </tbody>\n",
       "</table>\n",
       "</div>"
      ],
      "text/plain": [
       "         date  the_temp  wind_speed  air_pressure  humidity  visibility  \\\n",
       "0  2021-01-01     2.070    3.020726        1007.0        93    6.031650   \n",
       "1  2021-01-02     2.465    2.666541        1015.0        89   12.863316   \n",
       "2  2021-01-03     0.985    9.161659        1015.0        96    2.144352   \n",
       "3  2021-01-04     1.355    6.271227        1017.0        96    2.927901   \n",
       "4  2021-01-05     1.270    6.009528        1017.0        94    7.021805   \n",
       "\n",
       "  daylight_hours  isholidays  weekday  weeknum  total  \n",
       "0       07:50:24           1        4       53   16.0  \n",
       "1       07:51:41           0        5       53   16.0  \n",
       "2       07:53:05           0        6       53   17.0  \n",
       "3       07:54:33           0        0        1   33.0  \n",
       "4       07:56:08           0        1        1   29.0  "
      ]
     },
     "execution_count": 97,
     "metadata": {},
     "output_type": "execute_result"
    }
   ],
   "source": [
    "df_combined.head()"
   ]
  },
  {
   "cell_type": "code",
   "execution_count": 98,
   "id": "3d3dbeab",
   "metadata": {},
   "outputs": [],
   "source": [
    "df_combined = df_combined.set_index(\"date\")"
   ]
  },
  {
   "cell_type": "code",
   "execution_count": 99,
   "id": "626a2e16",
   "metadata": {},
   "outputs": [],
   "source": [
    "# Change dtype of daylight_hours from object to float\n",
    "# first calculate seconds\n",
    "df_combined[\"daylight_hours\"] = df_combined[\"daylight_hours\"].apply(lambda x: sum(int(x) * 60 ** i for i, x in enumerate(reversed(x.split(':')))))"
   ]
  },
  {
   "cell_type": "code",
   "execution_count": 100,
   "id": "1b333440",
   "metadata": {},
   "outputs": [],
   "source": [
    "# then calculate hours as float from the seconds\n",
    "df_combined[\"daylight_hours\"] = df_combined[\"daylight_hours\"]/3600"
   ]
  },
  {
   "cell_type": "code",
   "execution_count": 101,
   "id": "a20fd469",
   "metadata": {},
   "outputs": [
    {
     "data": {
      "text/plain": [
       "the_temp          float64\n",
       "wind_speed        float64\n",
       "air_pressure      float64\n",
       "humidity            int64\n",
       "visibility        float64\n",
       "daylight_hours    float64\n",
       "isholidays          int64\n",
       "weekday             int64\n",
       "weeknum             int64\n",
       "total             float64\n",
       "dtype: object"
      ]
     },
     "execution_count": 101,
     "metadata": {},
     "output_type": "execute_result"
    }
   ],
   "source": [
    "df_combined.dtypes"
   ]
  },
  {
   "cell_type": "markdown",
   "id": "09ac8014",
   "metadata": {},
   "source": [
    "# Train-test-split"
   ]
  },
  {
   "cell_type": "code",
   "execution_count": 102,
   "id": "df7dbd6e",
   "metadata": {},
   "outputs": [
    {
     "data": {
      "image/png": "[encoded data removed]",
      "text/plain": [
       "<Figure size 1080x432 with 1 Axes>"
      ]
     },
     "metadata": {
      "needs_background": "light"
     },
     "output_type": "display_data"
    }
   ],
   "source": [
    "plt.figure(figsize = (15, 6))\n",
    "plt.plot(df_combined[\"total\"]);"
   ]
  },
  {
   "cell_type": "code",
   "execution_count": 103,
   "id": "51c8f18c",
   "metadata": {
    "scrolled": true
   },
   "outputs": [
    {
     "data": {
      "text/plain": [
       "51.62971698113208"
      ]
     },
     "execution_count": 103,
     "metadata": {},
     "output_type": "execute_result"
    }
   ],
   "source": [
    "df_combined[\"total\"].mean()"
   ]
  },
  {
   "cell_type": "code",
   "execution_count": 104,
   "id": "9ddbe902",
   "metadata": {},
   "outputs": [
    {
     "data": {
      "text/plain": [
       "18.194955888318802"
      ]
     },
     "execution_count": 104,
     "metadata": {},
     "output_type": "execute_result"
    }
   ],
   "source": [
    "df_combined[\"total\"].std()"
   ]
  },
  {
   "cell_type": "code",
   "execution_count": 105,
   "id": "9dfeef9a",
   "metadata": {
    "scrolled": false
   },
   "outputs": [
    {
     "data": {
      "text/plain": [
       "339"
      ]
     },
     "execution_count": 105,
     "metadata": {},
     "output_type": "execute_result"
    }
   ],
   "source": [
    "int(len(df_combined) * 0.8)"
   ]
  },
  {
   "cell_type": "code",
   "execution_count": 106,
   "id": "5eac04b7",
   "metadata": {},
   "outputs": [],
   "source": [
    "def get_X_y(window_size, future_horizon, dataset):\n",
    "\n",
    "  X = []\n",
    "  y = []\n",
    "\n",
    "  for i in range(0, dataset.shape[0] - window_size - future_horizon):\n",
    "    X.append(dataset.iloc[i: i + window_size])\n",
    "    y.append(dataset[\"total\"][i + window_size : i + window_size  + future_horizon, ])\n",
    "\n",
    "  return np.array(X), np.array(y)"
   ]
  },
  {
   "cell_type": "code",
   "execution_count": 107,
   "id": "51d5bc52",
   "metadata": {},
   "outputs": [],
   "source": [
    "window_size = 31\n",
    "future_horizon = 3\n",
    "\n",
    "X_train, y_train = get_X_y(window_size,future_horizon, df_combined.iloc[:339, :])\n",
    "X_test, y_test = get_X_y(window_size, future_horizon, df_combined.iloc[339:, :])"
   ]
  },
  {
   "cell_type": "code",
   "execution_count": 108,
   "id": "1d3bc530",
   "metadata": {},
   "outputs": [
    {
     "data": {
      "text/plain": [
       "((305, 31, 10), (305, 3), (51, 31, 10), (51, 3))"
      ]
     },
     "execution_count": 108,
     "metadata": {},
     "output_type": "execute_result"
    }
   ],
   "source": [
    "X_train.shape, y_train.shape, X_test.shape, y_test.shape"
   ]
  },
  {
   "cell_type": "code",
   "execution_count": 109,
   "id": "849e7dfa",
   "metadata": {},
   "outputs": [
    {
     "data": {
      "text/plain": [
       "array([2.07000000e+00, 3.02072617e+00, 1.00700000e+03, 9.30000000e+01,\n",
       "       6.03165016e+00, 7.84000000e+00, 1.00000000e+00, 4.00000000e+00,\n",
       "       5.30000000e+01, 1.60000000e+01])"
      ]
     },
     "execution_count": 109,
     "metadata": {},
     "output_type": "execute_result"
    }
   ],
   "source": [
    "X_train[0][0]"
   ]
  },
  {
   "cell_type": "markdown",
   "id": "74eb5303",
   "metadata": {},
   "source": [
    "# KFold Cross validation"
   ]
  },
  {
   "cell_type": "code",
   "execution_count": 53,
   "id": "46fccc2e",
   "metadata": {},
   "outputs": [],
   "source": [
    "def model_cross_validation(model, X_train, y_train):\n",
    "    \"\"\"\n",
    "    input: model before compilation, training and test vectors\n",
    "    compiles the model, fits and evaluates on 5 folds\n",
    "    outputs: for each fold the loss and MAPE\"\"\"\n",
    "    model.compile(loss = \"mse\",\n",
    "                 optimizer = \"adam\",\n",
    "                 metrics = \"mean_absolute_percentage_error\")\n",
    "    \n",
    "    es = callbacks.EarlyStopping(patience = 5, restore_best_weights=True)\n",
    "    results = []\n",
    "    kf = KFold(n_splits = 5)\n",
    "    kf.get_n_splits(X_train)\n",
    "\n",
    "    for train_index, test_index in kf.split(X_train):\n",
    "\n",
    "        # split the data into train and test set\n",
    "        X_train_cv = X_train[train_index]\n",
    "        X_test_cv = X_train[test_index]\n",
    "        y_train_cv = y_train[train_index]\n",
    "        y_test_cv = y_train[test_index]\n",
    "\n",
    "        model = model \n",
    "        \n",
    "        # Fit the model\n",
    "        model.fit(X_train_cv, \n",
    "                  y_train_cv, \n",
    "                  batch_size = 16, \n",
    "                  epochs = 300, \n",
    "                  verbose = 0, \n",
    "                  callbacks = [es], \n",
    "                  validation_split = 0.2)\n",
    "        \n",
    "        # Evaluate the model on the test data\n",
    "        results.append(model.evaluate(X_test_cv, y_test_cv))\n",
    "        \n",
    "    return results"
   ]
  },
  {
   "cell_type": "markdown",
   "id": "cabfa0c1",
   "metadata": {},
   "source": [
    "# Modelling"
   ]
  },
  {
   "cell_type": "markdown",
   "id": "b752d982",
   "metadata": {},
   "source": [
    "## One-dense-layer model"
   ]
  },
  {
   "cell_type": "code",
   "execution_count": 465,
   "id": "b167d666",
   "metadata": {
    "scrolled": false
   },
   "outputs": [
    {
     "name": "stdout",
     "output_type": "stream",
     "text": [
      "2/2 [==============================] - 0s 2ms/step - loss: 2874.6370 - mean_absolute_percentage_error: 187.3682\n",
      "2/2 [==============================] - 0s 2ms/step - loss: 127.1846 - mean_absolute_percentage_error: 19.2225\n",
      "2/2 [==============================] - 0s 2ms/step - loss: 213.3551 - mean_absolute_percentage_error: 21.6646\n",
      "2/2 [==============================] - 0s 2ms/step - loss: 197.8031 - mean_absolute_percentage_error: 15.1391\n",
      "2/2 [==============================] - 0s 2ms/step - loss: 242.7174 - mean_absolute_percentage_error: 21.6249\n"
     ]
    }
   ],
   "source": [
    "base_model = Sequential([\n",
    "    Flatten(input_shape=X_train.shape[1:]),\n",
    "    Dense(1)\n",
    "])\n",
    "base_model_cv_results = model_cross_validation(base_model, X_train, y_train)"
   ]
  },
  {
   "cell_type": "code",
   "execution_count": 467,
   "id": "fb7f1c9d",
   "metadata": {},
   "outputs": [
    {
     "data": {
      "text/plain": [
       "53.003868865966794"
      ]
     },
     "execution_count": 467,
     "metadata": {},
     "output_type": "execute_result"
    }
   ],
   "source": [
    "np.mean(base_model_cv_results, axis = 0)[1]"
   ]
  },
  {
   "cell_type": "code",
   "execution_count": 110,
   "id": "2fe6f27f",
   "metadata": {},
   "outputs": [],
   "source": [
    "es = callbacks.EarlyStopping(patience = 5, restore_best_weights=True)"
   ]
  },
  {
   "cell_type": "code",
   "execution_count": 41,
   "id": "52d89342",
   "metadata": {},
   "outputs": [
    {
     "data": {
      "text/plain": [
       "<keras.callbacks.History at 0x7f504471cd00>"
      ]
     },
     "execution_count": 41,
     "metadata": {},
     "output_type": "execute_result"
    }
   ],
   "source": [
    "base_model = Sequential([\n",
    "    Flatten(input_shape=X_train.shape[1:]),\n",
    "    Dense(1)\n",
    "])\n",
    "\n",
    "base_model.compile(loss = \"mse\",\n",
    "                 optimizer = \"adam\",\n",
    "                 metrics = \"mean_absolute_percentage_error\")\n",
    "\n",
    "\n",
    "base_model.fit(X_train, \n",
    "                  y_train, \n",
    "                  batch_size = 16, \n",
    "                  epochs = 300, \n",
    "                  verbose = 0, \n",
    "                  callbacks = [es], \n",
    "                  validation_split = 0.2)"
   ]
  },
  {
   "cell_type": "code",
   "execution_count": 42,
   "id": "eb43e765",
   "metadata": {},
   "outputs": [
    {
     "name": "stdout",
     "output_type": "stream",
     "text": [
      "2/2 [==============================] - 0s 2ms/step - loss: 304.1122 - mean_absolute_percentage_error: 37.3524\n"
     ]
    },
    {
     "data": {
      "text/plain": [
       "[304.1121826171875, 37.352420806884766]"
      ]
     },
     "execution_count": 42,
     "metadata": {},
     "output_type": "execute_result"
    }
   ],
   "source": [
    "base_model.evaluate(X_test, y_test)"
   ]
  },
  {
   "cell_type": "markdown",
   "id": "1ca81dd3",
   "metadata": {},
   "source": [
    "## Finetuned model"
   ]
  },
  {
   "cell_type": "code",
   "execution_count": 111,
   "id": "a068d6ee",
   "metadata": {},
   "outputs": [],
   "source": [
    "def create_opt_model(): \n",
    "    \"\"\"\n",
    "    Creates the finetuned model selected in B_Theft_Modelling\n",
    "    Outputs models, that needs to be compiled and fit\"\"\"\n",
    "    model = Sequential()\n",
    "    # first LSTM layer\n",
    "    model.add(LSTM(units = 70, activation = \"tanh\", return_sequences = True))\n",
    "    model.add(Dropout(0.2))\n",
    "    # second LSTM layer\n",
    "    model.add(LSTM(units= 30, activation= \"tanh\", return_sequences= False))\n",
    "    model.add(Dropout(0.2))\n",
    "\n",
    "    # output layer to predict one value\n",
    "    model.add(Dense(1, activation= \"linear\"))\n",
    "    return model"
   ]
  },
  {
   "cell_type": "code",
   "execution_count": 44,
   "id": "076a2143",
   "metadata": {},
   "outputs": [
    {
     "name": "stdout",
     "output_type": "stream",
     "text": [
      "2/2 [==============================] - 0s 7ms/step - loss: 807.5842 - mean_absolute_percentage_error: 102.6668\n",
      "2/2 [==============================] - 0s 8ms/step - loss: 194.9365 - mean_absolute_percentage_error: 26.4116\n",
      "2/2 [==============================] - 0s 8ms/step - loss: 149.9677 - mean_absolute_percentage_error: 17.0070\n",
      "2/2 [==============================] - 0s 9ms/step - loss: 270.6876 - mean_absolute_percentage_error: 18.6509\n",
      "2/2 [==============================] - 0s 8ms/step - loss: 174.9709 - mean_absolute_percentage_error: 17.9854\n"
     ]
    }
   ],
   "source": [
    "opt_model_cv_results = model_cross_validation(create_opt_model())"
   ]
  },
  {
   "cell_type": "code",
   "execution_count": 45,
   "id": "d82b87b5",
   "metadata": {},
   "outputs": [
    {
     "data": {
      "text/plain": [
       "array([319.62936401,  36.54433212])"
      ]
     },
     "execution_count": 45,
     "metadata": {},
     "output_type": "execute_result"
    }
   ],
   "source": [
    "np.mean(opt_model_cv_results, axis = 0)"
   ]
  },
  {
   "cell_type": "code",
   "execution_count": 56,
   "id": "5201043f",
   "metadata": {},
   "outputs": [
    {
     "ename": "KeyboardInterrupt",
     "evalue": "",
     "output_type": "error",
     "traceback": [
      "\u001b[0;31m---------------------------------------------------------------------------\u001b[0m",
      "\u001b[0;31mKeyboardInterrupt\u001b[0m                         Traceback (most recent call last)",
      "Input \u001b[0;32mIn [56]\u001b[0m, in \u001b[0;36m<cell line: 3>\u001b[0;34m()\u001b[0m\n\u001b[1;32m      1\u001b[0m opt_model \u001b[38;5;241m=\u001b[39m create_opt_model()\n\u001b[1;32m      2\u001b[0m opt_model\u001b[38;5;241m.\u001b[39mcompile(optimizer\u001b[38;5;241m=\u001b[39m \u001b[38;5;124m\"\u001b[39m\u001b[38;5;124madam\u001b[39m\u001b[38;5;124m\"\u001b[39m, loss\u001b[38;5;241m=\u001b[39m \u001b[38;5;124m\"\u001b[39m\u001b[38;5;124mmse\u001b[39m\u001b[38;5;124m\"\u001b[39m, metrics \u001b[38;5;241m=\u001b[39m \u001b[38;5;124m\"\u001b[39m\u001b[38;5;124mmean_absolute_percentage_error\u001b[39m\u001b[38;5;124m\"\u001b[39m)\n\u001b[0;32m----> 3\u001b[0m \u001b[43mopt_model\u001b[49m\u001b[38;5;241;43m.\u001b[39;49m\u001b[43mfit\u001b[49m\u001b[43m(\u001b[49m\u001b[43mX_train\u001b[49m\u001b[43m,\u001b[49m\u001b[43m \u001b[49m\n\u001b[1;32m      4\u001b[0m \u001b[43m                  \u001b[49m\u001b[43my_train\u001b[49m\u001b[43m,\u001b[49m\u001b[43m \u001b[49m\n\u001b[1;32m      5\u001b[0m \u001b[43m                  \u001b[49m\u001b[43mbatch_size\u001b[49m\u001b[43m \u001b[49m\u001b[38;5;241;43m=\u001b[39;49m\u001b[43m \u001b[49m\u001b[38;5;241;43m8\u001b[39;49m\u001b[43m,\u001b[49m\u001b[43m \u001b[49m\n\u001b[1;32m      6\u001b[0m \u001b[43m                  \u001b[49m\u001b[43mepochs\u001b[49m\u001b[43m \u001b[49m\u001b[38;5;241;43m=\u001b[39;49m\u001b[43m \u001b[49m\u001b[38;5;241;43m300\u001b[39;49m\u001b[43m,\u001b[49m\u001b[43m \u001b[49m\n\u001b[1;32m      7\u001b[0m \u001b[43m                  \u001b[49m\u001b[43mverbose\u001b[49m\u001b[43m \u001b[49m\u001b[38;5;241;43m=\u001b[39;49m\u001b[43m \u001b[49m\u001b[38;5;241;43m0\u001b[39;49m\u001b[43m,\u001b[49m\u001b[43m \u001b[49m\n\u001b[1;32m      8\u001b[0m \u001b[43m                  \u001b[49m\u001b[43mcallbacks\u001b[49m\u001b[43m \u001b[49m\u001b[38;5;241;43m=\u001b[39;49m\u001b[43m \u001b[49m\u001b[43m[\u001b[49m\u001b[43mes\u001b[49m\u001b[43m]\u001b[49m\u001b[43m,\u001b[49m\u001b[43m \u001b[49m\n\u001b[1;32m      9\u001b[0m \u001b[43m                  \u001b[49m\u001b[43mvalidation_split\u001b[49m\u001b[43m \u001b[49m\u001b[38;5;241;43m=\u001b[39;49m\u001b[43m \u001b[49m\u001b[38;5;241;43m0.2\u001b[39;49m\u001b[43m)\u001b[49m\n",
      "File \u001b[0;32m~/.pyenv/versions/3.8.12/envs/berlin-bike-theft-forecasting/lib/python3.8/site-packages/keras/utils/traceback_utils.py:64\u001b[0m, in \u001b[0;36mfilter_traceback.<locals>.error_handler\u001b[0;34m(*args, **kwargs)\u001b[0m\n\u001b[1;32m     62\u001b[0m filtered_tb \u001b[38;5;241m=\u001b[39m \u001b[38;5;28;01mNone\u001b[39;00m\n\u001b[1;32m     63\u001b[0m \u001b[38;5;28;01mtry\u001b[39;00m:\n\u001b[0;32m---> 64\u001b[0m   \u001b[38;5;28;01mreturn\u001b[39;00m \u001b[43mfn\u001b[49m\u001b[43m(\u001b[49m\u001b[38;5;241;43m*\u001b[39;49m\u001b[43margs\u001b[49m\u001b[43m,\u001b[49m\u001b[43m \u001b[49m\u001b[38;5;241;43m*\u001b[39;49m\u001b[38;5;241;43m*\u001b[39;49m\u001b[43mkwargs\u001b[49m\u001b[43m)\u001b[49m\n\u001b[1;32m     65\u001b[0m \u001b[38;5;28;01mexcept\u001b[39;00m \u001b[38;5;167;01mException\u001b[39;00m \u001b[38;5;28;01mas\u001b[39;00m e:  \u001b[38;5;66;03m# pylint: disable=broad-except\u001b[39;00m\n\u001b[1;32m     66\u001b[0m   filtered_tb \u001b[38;5;241m=\u001b[39m _process_traceback_frames(e\u001b[38;5;241m.\u001b[39m__traceback__)\n",
      "File \u001b[0;32m~/.pyenv/versions/3.8.12/envs/berlin-bike-theft-forecasting/lib/python3.8/site-packages/keras/engine/training.py:1384\u001b[0m, in \u001b[0;36mModel.fit\u001b[0;34m(self, x, y, batch_size, epochs, verbose, callbacks, validation_split, validation_data, shuffle, class_weight, sample_weight, initial_epoch, steps_per_epoch, validation_steps, validation_batch_size, validation_freq, max_queue_size, workers, use_multiprocessing)\u001b[0m\n\u001b[1;32m   1377\u001b[0m \u001b[38;5;28;01mwith\u001b[39;00m tf\u001b[38;5;241m.\u001b[39mprofiler\u001b[38;5;241m.\u001b[39mexperimental\u001b[38;5;241m.\u001b[39mTrace(\n\u001b[1;32m   1378\u001b[0m     \u001b[38;5;124m'\u001b[39m\u001b[38;5;124mtrain\u001b[39m\u001b[38;5;124m'\u001b[39m,\n\u001b[1;32m   1379\u001b[0m     epoch_num\u001b[38;5;241m=\u001b[39mepoch,\n\u001b[1;32m   1380\u001b[0m     step_num\u001b[38;5;241m=\u001b[39mstep,\n\u001b[1;32m   1381\u001b[0m     batch_size\u001b[38;5;241m=\u001b[39mbatch_size,\n\u001b[1;32m   1382\u001b[0m     _r\u001b[38;5;241m=\u001b[39m\u001b[38;5;241m1\u001b[39m):\n\u001b[1;32m   1383\u001b[0m   callbacks\u001b[38;5;241m.\u001b[39mon_train_batch_begin(step)\n\u001b[0;32m-> 1384\u001b[0m   tmp_logs \u001b[38;5;241m=\u001b[39m \u001b[38;5;28;43mself\u001b[39;49m\u001b[38;5;241;43m.\u001b[39;49m\u001b[43mtrain_function\u001b[49m\u001b[43m(\u001b[49m\u001b[43miterator\u001b[49m\u001b[43m)\u001b[49m\n\u001b[1;32m   1385\u001b[0m   \u001b[38;5;28;01mif\u001b[39;00m data_handler\u001b[38;5;241m.\u001b[39mshould_sync:\n\u001b[1;32m   1386\u001b[0m     context\u001b[38;5;241m.\u001b[39masync_wait()\n",
      "File \u001b[0;32m~/.pyenv/versions/3.8.12/envs/berlin-bike-theft-forecasting/lib/python3.8/site-packages/tensorflow/python/util/traceback_utils.py:150\u001b[0m, in \u001b[0;36mfilter_traceback.<locals>.error_handler\u001b[0;34m(*args, **kwargs)\u001b[0m\n\u001b[1;32m    148\u001b[0m filtered_tb \u001b[38;5;241m=\u001b[39m \u001b[38;5;28;01mNone\u001b[39;00m\n\u001b[1;32m    149\u001b[0m \u001b[38;5;28;01mtry\u001b[39;00m:\n\u001b[0;32m--> 150\u001b[0m   \u001b[38;5;28;01mreturn\u001b[39;00m \u001b[43mfn\u001b[49m\u001b[43m(\u001b[49m\u001b[38;5;241;43m*\u001b[39;49m\u001b[43margs\u001b[49m\u001b[43m,\u001b[49m\u001b[43m \u001b[49m\u001b[38;5;241;43m*\u001b[39;49m\u001b[38;5;241;43m*\u001b[39;49m\u001b[43mkwargs\u001b[49m\u001b[43m)\u001b[49m\n\u001b[1;32m    151\u001b[0m \u001b[38;5;28;01mexcept\u001b[39;00m \u001b[38;5;167;01mException\u001b[39;00m \u001b[38;5;28;01mas\u001b[39;00m e:\n\u001b[1;32m    152\u001b[0m   filtered_tb \u001b[38;5;241m=\u001b[39m _process_traceback_frames(e\u001b[38;5;241m.\u001b[39m__traceback__)\n",
      "File \u001b[0;32m~/.pyenv/versions/3.8.12/envs/berlin-bike-theft-forecasting/lib/python3.8/site-packages/tensorflow/python/eager/def_function.py:915\u001b[0m, in \u001b[0;36mFunction.__call__\u001b[0;34m(self, *args, **kwds)\u001b[0m\n\u001b[1;32m    912\u001b[0m compiler \u001b[38;5;241m=\u001b[39m \u001b[38;5;124m\"\u001b[39m\u001b[38;5;124mxla\u001b[39m\u001b[38;5;124m\"\u001b[39m \u001b[38;5;28;01mif\u001b[39;00m \u001b[38;5;28mself\u001b[39m\u001b[38;5;241m.\u001b[39m_jit_compile \u001b[38;5;28;01melse\u001b[39;00m \u001b[38;5;124m\"\u001b[39m\u001b[38;5;124mnonXla\u001b[39m\u001b[38;5;124m\"\u001b[39m\n\u001b[1;32m    914\u001b[0m \u001b[38;5;28;01mwith\u001b[39;00m OptionalXlaContext(\u001b[38;5;28mself\u001b[39m\u001b[38;5;241m.\u001b[39m_jit_compile):\n\u001b[0;32m--> 915\u001b[0m   result \u001b[38;5;241m=\u001b[39m \u001b[38;5;28;43mself\u001b[39;49m\u001b[38;5;241;43m.\u001b[39;49m\u001b[43m_call\u001b[49m\u001b[43m(\u001b[49m\u001b[38;5;241;43m*\u001b[39;49m\u001b[43margs\u001b[49m\u001b[43m,\u001b[49m\u001b[43m \u001b[49m\u001b[38;5;241;43m*\u001b[39;49m\u001b[38;5;241;43m*\u001b[39;49m\u001b[43mkwds\u001b[49m\u001b[43m)\u001b[49m\n\u001b[1;32m    917\u001b[0m new_tracing_count \u001b[38;5;241m=\u001b[39m \u001b[38;5;28mself\u001b[39m\u001b[38;5;241m.\u001b[39mexperimental_get_tracing_count()\n\u001b[1;32m    918\u001b[0m without_tracing \u001b[38;5;241m=\u001b[39m (tracing_count \u001b[38;5;241m==\u001b[39m new_tracing_count)\n",
      "File \u001b[0;32m~/.pyenv/versions/3.8.12/envs/berlin-bike-theft-forecasting/lib/python3.8/site-packages/tensorflow/python/eager/def_function.py:947\u001b[0m, in \u001b[0;36mFunction._call\u001b[0;34m(self, *args, **kwds)\u001b[0m\n\u001b[1;32m    944\u001b[0m   \u001b[38;5;28mself\u001b[39m\u001b[38;5;241m.\u001b[39m_lock\u001b[38;5;241m.\u001b[39mrelease()\n\u001b[1;32m    945\u001b[0m   \u001b[38;5;66;03m# In this case we have created variables on the first call, so we run the\u001b[39;00m\n\u001b[1;32m    946\u001b[0m   \u001b[38;5;66;03m# defunned version which is guaranteed to never create variables.\u001b[39;00m\n\u001b[0;32m--> 947\u001b[0m   \u001b[38;5;28;01mreturn\u001b[39;00m \u001b[38;5;28;43mself\u001b[39;49m\u001b[38;5;241;43m.\u001b[39;49m\u001b[43m_stateless_fn\u001b[49m\u001b[43m(\u001b[49m\u001b[38;5;241;43m*\u001b[39;49m\u001b[43margs\u001b[49m\u001b[43m,\u001b[49m\u001b[43m \u001b[49m\u001b[38;5;241;43m*\u001b[39;49m\u001b[38;5;241;43m*\u001b[39;49m\u001b[43mkwds\u001b[49m\u001b[43m)\u001b[49m  \u001b[38;5;66;03m# pylint: disable=not-callable\u001b[39;00m\n\u001b[1;32m    948\u001b[0m \u001b[38;5;28;01melif\u001b[39;00m \u001b[38;5;28mself\u001b[39m\u001b[38;5;241m.\u001b[39m_stateful_fn \u001b[38;5;129;01mis\u001b[39;00m \u001b[38;5;129;01mnot\u001b[39;00m \u001b[38;5;28;01mNone\u001b[39;00m:\n\u001b[1;32m    949\u001b[0m   \u001b[38;5;66;03m# Release the lock early so that multiple threads can perform the call\u001b[39;00m\n\u001b[1;32m    950\u001b[0m   \u001b[38;5;66;03m# in parallel.\u001b[39;00m\n\u001b[1;32m    951\u001b[0m   \u001b[38;5;28mself\u001b[39m\u001b[38;5;241m.\u001b[39m_lock\u001b[38;5;241m.\u001b[39mrelease()\n",
      "File \u001b[0;32m~/.pyenv/versions/3.8.12/envs/berlin-bike-theft-forecasting/lib/python3.8/site-packages/tensorflow/python/eager/function.py:2956\u001b[0m, in \u001b[0;36mFunction.__call__\u001b[0;34m(self, *args, **kwargs)\u001b[0m\n\u001b[1;32m   2953\u001b[0m \u001b[38;5;28;01mwith\u001b[39;00m \u001b[38;5;28mself\u001b[39m\u001b[38;5;241m.\u001b[39m_lock:\n\u001b[1;32m   2954\u001b[0m   (graph_function,\n\u001b[1;32m   2955\u001b[0m    filtered_flat_args) \u001b[38;5;241m=\u001b[39m \u001b[38;5;28mself\u001b[39m\u001b[38;5;241m.\u001b[39m_maybe_define_function(args, kwargs)\n\u001b[0;32m-> 2956\u001b[0m \u001b[38;5;28;01mreturn\u001b[39;00m \u001b[43mgraph_function\u001b[49m\u001b[38;5;241;43m.\u001b[39;49m\u001b[43m_call_flat\u001b[49m\u001b[43m(\u001b[49m\n\u001b[1;32m   2957\u001b[0m \u001b[43m    \u001b[49m\u001b[43mfiltered_flat_args\u001b[49m\u001b[43m,\u001b[49m\u001b[43m \u001b[49m\u001b[43mcaptured_inputs\u001b[49m\u001b[38;5;241;43m=\u001b[39;49m\u001b[43mgraph_function\u001b[49m\u001b[38;5;241;43m.\u001b[39;49m\u001b[43mcaptured_inputs\u001b[49m\u001b[43m)\u001b[49m\n",
      "File \u001b[0;32m~/.pyenv/versions/3.8.12/envs/berlin-bike-theft-forecasting/lib/python3.8/site-packages/tensorflow/python/eager/function.py:1853\u001b[0m, in \u001b[0;36mConcreteFunction._call_flat\u001b[0;34m(self, args, captured_inputs, cancellation_manager)\u001b[0m\n\u001b[1;32m   1849\u001b[0m possible_gradient_type \u001b[38;5;241m=\u001b[39m gradients_util\u001b[38;5;241m.\u001b[39mPossibleTapeGradientTypes(args)\n\u001b[1;32m   1850\u001b[0m \u001b[38;5;28;01mif\u001b[39;00m (possible_gradient_type \u001b[38;5;241m==\u001b[39m gradients_util\u001b[38;5;241m.\u001b[39mPOSSIBLE_GRADIENT_TYPES_NONE\n\u001b[1;32m   1851\u001b[0m     \u001b[38;5;129;01mand\u001b[39;00m executing_eagerly):\n\u001b[1;32m   1852\u001b[0m   \u001b[38;5;66;03m# No tape is watching; skip to running the function.\u001b[39;00m\n\u001b[0;32m-> 1853\u001b[0m   \u001b[38;5;28;01mreturn\u001b[39;00m \u001b[38;5;28mself\u001b[39m\u001b[38;5;241m.\u001b[39m_build_call_outputs(\u001b[38;5;28;43mself\u001b[39;49m\u001b[38;5;241;43m.\u001b[39;49m\u001b[43m_inference_function\u001b[49m\u001b[38;5;241;43m.\u001b[39;49m\u001b[43mcall\u001b[49m\u001b[43m(\u001b[49m\n\u001b[1;32m   1854\u001b[0m \u001b[43m      \u001b[49m\u001b[43mctx\u001b[49m\u001b[43m,\u001b[49m\u001b[43m \u001b[49m\u001b[43margs\u001b[49m\u001b[43m,\u001b[49m\u001b[43m \u001b[49m\u001b[43mcancellation_manager\u001b[49m\u001b[38;5;241;43m=\u001b[39;49m\u001b[43mcancellation_manager\u001b[49m\u001b[43m)\u001b[49m)\n\u001b[1;32m   1855\u001b[0m forward_backward \u001b[38;5;241m=\u001b[39m \u001b[38;5;28mself\u001b[39m\u001b[38;5;241m.\u001b[39m_select_forward_and_backward_functions(\n\u001b[1;32m   1856\u001b[0m     args,\n\u001b[1;32m   1857\u001b[0m     possible_gradient_type,\n\u001b[1;32m   1858\u001b[0m     executing_eagerly)\n\u001b[1;32m   1859\u001b[0m forward_function, args_with_tangents \u001b[38;5;241m=\u001b[39m forward_backward\u001b[38;5;241m.\u001b[39mforward()\n",
      "File \u001b[0;32m~/.pyenv/versions/3.8.12/envs/berlin-bike-theft-forecasting/lib/python3.8/site-packages/tensorflow/python/eager/function.py:499\u001b[0m, in \u001b[0;36m_EagerDefinedFunction.call\u001b[0;34m(self, ctx, args, cancellation_manager)\u001b[0m\n\u001b[1;32m    497\u001b[0m \u001b[38;5;28;01mwith\u001b[39;00m _InterpolateFunctionError(\u001b[38;5;28mself\u001b[39m):\n\u001b[1;32m    498\u001b[0m   \u001b[38;5;28;01mif\u001b[39;00m cancellation_manager \u001b[38;5;129;01mis\u001b[39;00m \u001b[38;5;28;01mNone\u001b[39;00m:\n\u001b[0;32m--> 499\u001b[0m     outputs \u001b[38;5;241m=\u001b[39m \u001b[43mexecute\u001b[49m\u001b[38;5;241;43m.\u001b[39;49m\u001b[43mexecute\u001b[49m\u001b[43m(\u001b[49m\n\u001b[1;32m    500\u001b[0m \u001b[43m        \u001b[49m\u001b[38;5;28;43mstr\u001b[39;49m\u001b[43m(\u001b[49m\u001b[38;5;28;43mself\u001b[39;49m\u001b[38;5;241;43m.\u001b[39;49m\u001b[43msignature\u001b[49m\u001b[38;5;241;43m.\u001b[39;49m\u001b[43mname\u001b[49m\u001b[43m)\u001b[49m\u001b[43m,\u001b[49m\n\u001b[1;32m    501\u001b[0m \u001b[43m        \u001b[49m\u001b[43mnum_outputs\u001b[49m\u001b[38;5;241;43m=\u001b[39;49m\u001b[38;5;28;43mself\u001b[39;49m\u001b[38;5;241;43m.\u001b[39;49m\u001b[43m_num_outputs\u001b[49m\u001b[43m,\u001b[49m\n\u001b[1;32m    502\u001b[0m \u001b[43m        \u001b[49m\u001b[43minputs\u001b[49m\u001b[38;5;241;43m=\u001b[39;49m\u001b[43margs\u001b[49m\u001b[43m,\u001b[49m\n\u001b[1;32m    503\u001b[0m \u001b[43m        \u001b[49m\u001b[43mattrs\u001b[49m\u001b[38;5;241;43m=\u001b[39;49m\u001b[43mattrs\u001b[49m\u001b[43m,\u001b[49m\n\u001b[1;32m    504\u001b[0m \u001b[43m        \u001b[49m\u001b[43mctx\u001b[49m\u001b[38;5;241;43m=\u001b[39;49m\u001b[43mctx\u001b[49m\u001b[43m)\u001b[49m\n\u001b[1;32m    505\u001b[0m   \u001b[38;5;28;01melse\u001b[39;00m:\n\u001b[1;32m    506\u001b[0m     outputs \u001b[38;5;241m=\u001b[39m execute\u001b[38;5;241m.\u001b[39mexecute_with_cancellation(\n\u001b[1;32m    507\u001b[0m         \u001b[38;5;28mstr\u001b[39m(\u001b[38;5;28mself\u001b[39m\u001b[38;5;241m.\u001b[39msignature\u001b[38;5;241m.\u001b[39mname),\n\u001b[1;32m    508\u001b[0m         num_outputs\u001b[38;5;241m=\u001b[39m\u001b[38;5;28mself\u001b[39m\u001b[38;5;241m.\u001b[39m_num_outputs,\n\u001b[0;32m   (...)\u001b[0m\n\u001b[1;32m    511\u001b[0m         ctx\u001b[38;5;241m=\u001b[39mctx,\n\u001b[1;32m    512\u001b[0m         cancellation_manager\u001b[38;5;241m=\u001b[39mcancellation_manager)\n",
      "File \u001b[0;32m~/.pyenv/versions/3.8.12/envs/berlin-bike-theft-forecasting/lib/python3.8/site-packages/tensorflow/python/eager/execute.py:54\u001b[0m, in \u001b[0;36mquick_execute\u001b[0;34m(op_name, num_outputs, inputs, attrs, ctx, name)\u001b[0m\n\u001b[1;32m     52\u001b[0m \u001b[38;5;28;01mtry\u001b[39;00m:\n\u001b[1;32m     53\u001b[0m   ctx\u001b[38;5;241m.\u001b[39mensure_initialized()\n\u001b[0;32m---> 54\u001b[0m   tensors \u001b[38;5;241m=\u001b[39m \u001b[43mpywrap_tfe\u001b[49m\u001b[38;5;241;43m.\u001b[39;49m\u001b[43mTFE_Py_Execute\u001b[49m\u001b[43m(\u001b[49m\u001b[43mctx\u001b[49m\u001b[38;5;241;43m.\u001b[39;49m\u001b[43m_handle\u001b[49m\u001b[43m,\u001b[49m\u001b[43m \u001b[49m\u001b[43mdevice_name\u001b[49m\u001b[43m,\u001b[49m\u001b[43m \u001b[49m\u001b[43mop_name\u001b[49m\u001b[43m,\u001b[49m\n\u001b[1;32m     55\u001b[0m \u001b[43m                                      \u001b[49m\u001b[43minputs\u001b[49m\u001b[43m,\u001b[49m\u001b[43m \u001b[49m\u001b[43mattrs\u001b[49m\u001b[43m,\u001b[49m\u001b[43m \u001b[49m\u001b[43mnum_outputs\u001b[49m\u001b[43m)\u001b[49m\n\u001b[1;32m     56\u001b[0m \u001b[38;5;28;01mexcept\u001b[39;00m core\u001b[38;5;241m.\u001b[39m_NotOkStatusException \u001b[38;5;28;01mas\u001b[39;00m e:\n\u001b[1;32m     57\u001b[0m   \u001b[38;5;28;01mif\u001b[39;00m name \u001b[38;5;129;01mis\u001b[39;00m \u001b[38;5;129;01mnot\u001b[39;00m \u001b[38;5;28;01mNone\u001b[39;00m:\n",
      "\u001b[0;31mKeyboardInterrupt\u001b[0m: "
     ]
    }
   ],
   "source": [
    "opt_model = create_opt_model()\n",
    "opt_model.compile(optimizer= \"adam\", loss= \"mse\", metrics = \"mean_absolute_percentage_error\")\n",
    "opt_model.fit(X_train, \n",
    "                  y_train, \n",
    "                  batch_size = 8, \n",
    "                  epochs = 300, \n",
    "                  verbose = 0, \n",
    "                  callbacks = [es], \n",
    "                  validation_split = 0.2)"
   ]
  },
  {
   "cell_type": "code",
   "execution_count": 47,
   "id": "35f0ceda",
   "metadata": {},
   "outputs": [
    {
     "name": "stdout",
     "output_type": "stream",
     "text": [
      "2/2 [==============================] - 0s 8ms/step - loss: 355.1870 - mean_absolute_percentage_error: 48.3023\n"
     ]
    },
    {
     "data": {
      "text/plain": [
       "[355.1869812011719, 48.302330017089844]"
      ]
     },
     "execution_count": 47,
     "metadata": {},
     "output_type": "execute_result"
    }
   ],
   "source": [
    "opt_model.evaluate(X_test, y_test)"
   ]
  },
  {
   "cell_type": "markdown",
   "id": "4502242e",
   "metadata": {},
   "source": [
    "# Rolling average"
   ]
  },
  {
   "cell_type": "markdown",
   "id": "ea0cd698",
   "metadata": {},
   "source": [
    "## Calculate rolling average"
   ]
  },
  {
   "cell_type": "code",
   "execution_count": 112,
   "id": "81dc7997",
   "metadata": {},
   "outputs": [],
   "source": [
    "def calculate_rolling_average(df, window_size):\n",
    "    fill_value = df[\"total\"][-window_size:].mean()\n",
    "    df[\"total_moving_average\"] = df[\"total\"].rolling(window = window_size, center = False).mean().fillna(fill_value)\n",
    "    return df"
   ]
  },
  {
   "cell_type": "code",
   "execution_count": 113,
   "id": "4f2b0642",
   "metadata": {},
   "outputs": [],
   "source": [
    "df_combined = calculate_rolling_average(df_combined, 3)"
   ]
  },
  {
   "cell_type": "code",
   "execution_count": 114,
   "id": "dd5239fb",
   "metadata": {},
   "outputs": [
    {
     "data": {
      "text/html": [
       "<div>\n",
       "<style scoped>\n",
       "    .dataframe tbody tr th:only-of-type {\n",
       "        vertical-align: middle;\n",
       "    }\n",
       "\n",
       "    .dataframe tbody tr th {\n",
       "        vertical-align: top;\n",
       "    }\n",
       "\n",
       "    .dataframe thead th {\n",
       "        text-align: right;\n",
       "    }\n",
       "</style>\n",
       "<table border=\"1\" class=\"dataframe\">\n",
       "  <thead>\n",
       "    <tr style=\"text-align: right;\">\n",
       "      <th></th>\n",
       "      <th>the_temp</th>\n",
       "      <th>wind_speed</th>\n",
       "      <th>air_pressure</th>\n",
       "      <th>humidity</th>\n",
       "      <th>visibility</th>\n",
       "      <th>daylight_hours</th>\n",
       "      <th>isholidays</th>\n",
       "      <th>weekday</th>\n",
       "      <th>weeknum</th>\n",
       "      <th>total</th>\n",
       "      <th>total_moving_average</th>\n",
       "    </tr>\n",
       "    <tr>\n",
       "      <th>date</th>\n",
       "      <th></th>\n",
       "      <th></th>\n",
       "      <th></th>\n",
       "      <th></th>\n",
       "      <th></th>\n",
       "      <th></th>\n",
       "      <th></th>\n",
       "      <th></th>\n",
       "      <th></th>\n",
       "      <th></th>\n",
       "      <th></th>\n",
       "    </tr>\n",
       "  </thead>\n",
       "  <tbody>\n",
       "    <tr>\n",
       "      <th>2022-02-24</th>\n",
       "      <td>9.210</td>\n",
       "      <td>9.855780</td>\n",
       "      <td>1011.5</td>\n",
       "      <td>67</td>\n",
       "      <td>14.118175</td>\n",
       "      <td>10.592222</td>\n",
       "      <td>0</td>\n",
       "      <td>3</td>\n",
       "      <td>8</td>\n",
       "      <td>52.0</td>\n",
       "      <td>46.666667</td>\n",
       "    </tr>\n",
       "    <tr>\n",
       "      <th>2022-02-25</th>\n",
       "      <td>6.305</td>\n",
       "      <td>11.460817</td>\n",
       "      <td>1016.0</td>\n",
       "      <td>64</td>\n",
       "      <td>10.139846</td>\n",
       "      <td>10.659444</td>\n",
       "      <td>0</td>\n",
       "      <td>4</td>\n",
       "      <td>8</td>\n",
       "      <td>42.0</td>\n",
       "      <td>43.666667</td>\n",
       "    </tr>\n",
       "    <tr>\n",
       "      <th>2022-02-26</th>\n",
       "      <td>5.950</td>\n",
       "      <td>6.208894</td>\n",
       "      <td>1032.0</td>\n",
       "      <td>77</td>\n",
       "      <td>11.720303</td>\n",
       "      <td>10.726389</td>\n",
       "      <td>0</td>\n",
       "      <td>5</td>\n",
       "      <td>8</td>\n",
       "      <td>21.0</td>\n",
       "      <td>38.333333</td>\n",
       "    </tr>\n",
       "    <tr>\n",
       "      <th>2022-02-27</th>\n",
       "      <td>6.175</td>\n",
       "      <td>3.942383</td>\n",
       "      <td>1037.5</td>\n",
       "      <td>72</td>\n",
       "      <td>12.481172</td>\n",
       "      <td>10.793889</td>\n",
       "      <td>0</td>\n",
       "      <td>6</td>\n",
       "      <td>8</td>\n",
       "      <td>17.0</td>\n",
       "      <td>26.666667</td>\n",
       "    </tr>\n",
       "    <tr>\n",
       "      <th>2022-02-28</th>\n",
       "      <td>4.985</td>\n",
       "      <td>5.008762</td>\n",
       "      <td>1036.0</td>\n",
       "      <td>57</td>\n",
       "      <td>14.556242</td>\n",
       "      <td>10.861389</td>\n",
       "      <td>0</td>\n",
       "      <td>0</td>\n",
       "      <td>9</td>\n",
       "      <td>7.0</td>\n",
       "      <td>15.000000</td>\n",
       "    </tr>\n",
       "  </tbody>\n",
       "</table>\n",
       "</div>"
      ],
      "text/plain": [
       "            the_temp  wind_speed  air_pressure  humidity  visibility  \\\n",
       "date                                                                   \n",
       "2022-02-24     9.210    9.855780        1011.5        67   14.118175   \n",
       "2022-02-25     6.305   11.460817        1016.0        64   10.139846   \n",
       "2022-02-26     5.950    6.208894        1032.0        77   11.720303   \n",
       "2022-02-27     6.175    3.942383        1037.5        72   12.481172   \n",
       "2022-02-28     4.985    5.008762        1036.0        57   14.556242   \n",
       "\n",
       "            daylight_hours  isholidays  weekday  weeknum  total  \\\n",
       "date                                                              \n",
       "2022-02-24       10.592222           0        3        8   52.0   \n",
       "2022-02-25       10.659444           0        4        8   42.0   \n",
       "2022-02-26       10.726389           0        5        8   21.0   \n",
       "2022-02-27       10.793889           0        6        8   17.0   \n",
       "2022-02-28       10.861389           0        0        9    7.0   \n",
       "\n",
       "            total_moving_average  \n",
       "date                              \n",
       "2022-02-24             46.666667  \n",
       "2022-02-25             43.666667  \n",
       "2022-02-26             38.333333  \n",
       "2022-02-27             26.666667  \n",
       "2022-02-28             15.000000  "
      ]
     },
     "execution_count": 114,
     "metadata": {},
     "output_type": "execute_result"
    }
   ],
   "source": [
    "df_combined.tail()"
   ]
  },
  {
   "cell_type": "markdown",
   "id": "8b3f4fb0",
   "metadata": {},
   "source": [
    "## Feed into model"
   ]
  },
  {
   "cell_type": "code",
   "execution_count": 115,
   "id": "49d9d8f2",
   "metadata": {},
   "outputs": [],
   "source": [
    "# For now we only take the total and total_moving_average into account\n",
    "df_ma = df_combined[[\"total\", \"total_moving_average\"]]"
   ]
  },
  {
   "cell_type": "code",
   "execution_count": 116,
   "id": "ada8e3dc",
   "metadata": {},
   "outputs": [],
   "source": [
    "df_ma = df_combined.drop(columns = [\"the_temp\", \"wind_speed\", \"air_pressure\", \"humidity\", \"visibility\", \"daylight_hours\", \n",
    "                                   \"isholidays\", \"weekday\", \"weeknum\"])"
   ]
  },
  {
   "cell_type": "code",
   "execution_count": 117,
   "id": "cb670f9d",
   "metadata": {},
   "outputs": [
    {
     "data": {
      "text/plain": [
       "total                   float64\n",
       "total_moving_average    float64\n",
       "dtype: object"
      ]
     },
     "execution_count": 117,
     "metadata": {},
     "output_type": "execute_result"
    }
   ],
   "source": [
    "df_ma.dtypes"
   ]
  },
  {
   "cell_type": "code",
   "execution_count": 118,
   "id": "5e074bfe",
   "metadata": {},
   "outputs": [
    {
     "data": {
      "text/plain": [
       "339"
      ]
     },
     "execution_count": 118,
     "metadata": {},
     "output_type": "execute_result"
    }
   ],
   "source": [
    "# Train-test-split\n",
    "int(len(df_ma)* 0.8)"
   ]
  },
  {
   "cell_type": "code",
   "execution_count": 119,
   "id": "56235b36",
   "metadata": {},
   "outputs": [],
   "source": [
    "window_size = 31\n",
    "future_horizon = 1\n",
    "\n",
    "X_train, y_train = get_X_y(window_size,future_horizon, df_ma.iloc[:339, :])\n",
    "X_test, y_test = get_X_y(window_size, future_horizon, df_ma.iloc[339:, :])"
   ]
  },
  {
   "cell_type": "code",
   "execution_count": 120,
   "id": "5e08a791",
   "metadata": {},
   "outputs": [
    {
     "data": {
      "text/plain": [
       "((307, 31, 2), (307, 1), (53, 31, 2), (53, 1))"
      ]
     },
     "execution_count": 120,
     "metadata": {},
     "output_type": "execute_result"
    }
   ],
   "source": [
    "X_train.shape, y_train.shape, X_test.shape, y_test.shape"
   ]
  },
  {
   "cell_type": "code",
   "execution_count": 121,
   "id": "cdd82335",
   "metadata": {
    "scrolled": true
   },
   "outputs": [
    {
     "ename": "TypeError",
     "evalue": "model_cross_validation() missing 2 required positional arguments: 'X_train' and 'y_train'",
     "output_type": "error",
     "traceback": [
      "\u001b[0;31m---------------------------------------------------------------------------\u001b[0m",
      "\u001b[0;31mTypeError\u001b[0m                                 Traceback (most recent call last)",
      "Input \u001b[0;32mIn [121]\u001b[0m, in \u001b[0;36m<cell line: 1>\u001b[0;34m()\u001b[0m\n\u001b[0;32m----> 1\u001b[0m opt_model_cv_results \u001b[38;5;241m=\u001b[39m \u001b[43mmodel_cross_validation\u001b[49m\u001b[43m(\u001b[49m\u001b[43mcreate_opt_model\u001b[49m\u001b[43m(\u001b[49m\u001b[43m)\u001b[49m\u001b[43m)\u001b[49m\n",
      "\u001b[0;31mTypeError\u001b[0m: model_cross_validation() missing 2 required positional arguments: 'X_train' and 'y_train'"
     ]
    }
   ],
   "source": [
    "opt_model_cv_results = model_cross_validation(create_opt_model())"
   ]
  },
  {
   "cell_type": "code",
   "execution_count": 58,
   "id": "9cafa9d1",
   "metadata": {},
   "outputs": [
    {
     "data": {
      "text/plain": [
       "21.717522716522218"
      ]
     },
     "execution_count": 58,
     "metadata": {},
     "output_type": "execute_result"
    }
   ],
   "source": [
    "np.mean(opt_model_cv_results, axis = 0)[1]"
   ]
  },
  {
   "cell_type": "code",
   "execution_count": 122,
   "id": "6c1b5257",
   "metadata": {
    "scrolled": true
   },
   "outputs": [
    {
     "data": {
      "text/plain": [
       "(307, 31, 2)"
      ]
     },
     "execution_count": 122,
     "metadata": {},
     "output_type": "execute_result"
    }
   ],
   "source": [
    "X_train.shape"
   ]
  },
  {
   "cell_type": "code",
   "execution_count": 66,
   "id": "9dfe48a8",
   "metadata": {},
   "outputs": [
    {
     "data": {
      "text/plain": [
       "<keras.callbacks.History at 0x7f4165775f40>"
      ]
     },
     "execution_count": 66,
     "metadata": {},
     "output_type": "execute_result"
    }
   ],
   "source": [
    "opt_model = create_opt_model()\n",
    "opt_model.compile(optimizer= \"adam\", loss= \"mse\", metrics = \"mean_absolute_percentage_error\")\n",
    "opt_model.fit(X_train, \n",
    "                  y_train, \n",
    "                  batch_size = 8, \n",
    "                  epochs = 300, \n",
    "                  verbose = 0, \n",
    "                  callbacks = [es], \n",
    "                  validation_split = 0.2)"
   ]
  },
  {
   "cell_type": "code",
   "execution_count": 67,
   "id": "f7b1ed17",
   "metadata": {},
   "outputs": [
    {
     "name": "stdout",
     "output_type": "stream",
     "text": [
      "2/2 [==============================] - 0s 9ms/step - loss: 113.8446 - mean_absolute_percentage_error: 23.5822\n"
     ]
    },
    {
     "data": {
      "text/plain": [
       "[113.84458923339844, 23.58218002319336]"
      ]
     },
     "execution_count": 67,
     "metadata": {},
     "output_type": "execute_result"
    }
   ],
   "source": [
    "opt_model.evaluate(X_test, y_test)"
   ]
  },
  {
   "cell_type": "code",
   "execution_count": 62,
   "id": "9a637ab6",
   "metadata": {},
   "outputs": [],
   "source": [
    "# Moving average window size = 7\n",
    "# Result for not-centered moving average: Evaluation on the test set: mean_absolute_percentage_error: 24.9789\n",
    "#  filled NAs with mean of days 7-14\n",
    "# Result for centered moving average: Evaluation on the test set: mean_absolute_percentage_error: 17.9939\n",
    "#  filled NAs with mean of last seven observations of whole dataset\n",
    "\n",
    "# Moving average window size = 5\n",
    "# Result for centered moving average: Evaluation on the test set: mean_absolute_percentage_error: 9.5739\n",
    "# filled NAs with mean of last five observations\n",
    "\n",
    "# Moving average window size = 3\n",
    "# Result for centered moving average: Evaluation on the test set: mean_absolute_percentage_error: 4.4171\n",
    "# filled NAs with mean of last three observations\n",
    "\n",
    "# Moving average window size = 1\n",
    "# Result for centered moving average: Evaluation on the test set: mean_absolute_percentage_error: 26.0934\n",
    "# filled NAs with mean of last observation"
   ]
  },
  {
   "cell_type": "code",
   "execution_count": 63,
   "id": "342ab60d",
   "metadata": {},
   "outputs": [
    {
     "data": {
      "text/html": [
       "<div>\n",
       "<style scoped>\n",
       "    .dataframe tbody tr th:only-of-type {\n",
       "        vertical-align: middle;\n",
       "    }\n",
       "\n",
       "    .dataframe tbody tr th {\n",
       "        vertical-align: top;\n",
       "    }\n",
       "\n",
       "    .dataframe thead th {\n",
       "        text-align: right;\n",
       "    }\n",
       "</style>\n",
       "<table border=\"1\" class=\"dataframe\">\n",
       "  <thead>\n",
       "    <tr style=\"text-align: right;\">\n",
       "      <th></th>\n",
       "      <th>the_temp</th>\n",
       "      <th>wind_speed</th>\n",
       "      <th>air_pressure</th>\n",
       "      <th>humidity</th>\n",
       "      <th>visibility</th>\n",
       "      <th>daylight_hours</th>\n",
       "      <th>isholidays</th>\n",
       "      <th>weekday</th>\n",
       "      <th>weeknum</th>\n",
       "      <th>total</th>\n",
       "      <th>total_moving_average</th>\n",
       "    </tr>\n",
       "    <tr>\n",
       "      <th>date</th>\n",
       "      <th></th>\n",
       "      <th></th>\n",
       "      <th></th>\n",
       "      <th></th>\n",
       "      <th></th>\n",
       "      <th></th>\n",
       "      <th></th>\n",
       "      <th></th>\n",
       "      <th></th>\n",
       "      <th></th>\n",
       "      <th></th>\n",
       "    </tr>\n",
       "  </thead>\n",
       "  <tbody>\n",
       "    <tr>\n",
       "      <th>2022-02-24</th>\n",
       "      <td>9.210</td>\n",
       "      <td>9.855780</td>\n",
       "      <td>1011.5</td>\n",
       "      <td>67</td>\n",
       "      <td>14.118175</td>\n",
       "      <td>10.592222</td>\n",
       "      <td>0</td>\n",
       "      <td>3</td>\n",
       "      <td>8</td>\n",
       "      <td>52.0</td>\n",
       "      <td>43.666667</td>\n",
       "    </tr>\n",
       "    <tr>\n",
       "      <th>2022-02-25</th>\n",
       "      <td>6.305</td>\n",
       "      <td>11.460817</td>\n",
       "      <td>1016.0</td>\n",
       "      <td>64</td>\n",
       "      <td>10.139846</td>\n",
       "      <td>10.659444</td>\n",
       "      <td>0</td>\n",
       "      <td>4</td>\n",
       "      <td>8</td>\n",
       "      <td>42.0</td>\n",
       "      <td>38.333333</td>\n",
       "    </tr>\n",
       "    <tr>\n",
       "      <th>2022-02-26</th>\n",
       "      <td>5.950</td>\n",
       "      <td>6.208894</td>\n",
       "      <td>1032.0</td>\n",
       "      <td>77</td>\n",
       "      <td>11.720303</td>\n",
       "      <td>10.726389</td>\n",
       "      <td>0</td>\n",
       "      <td>5</td>\n",
       "      <td>8</td>\n",
       "      <td>21.0</td>\n",
       "      <td>26.666667</td>\n",
       "    </tr>\n",
       "    <tr>\n",
       "      <th>2022-02-27</th>\n",
       "      <td>6.175</td>\n",
       "      <td>3.942383</td>\n",
       "      <td>1037.5</td>\n",
       "      <td>72</td>\n",
       "      <td>12.481172</td>\n",
       "      <td>10.793889</td>\n",
       "      <td>0</td>\n",
       "      <td>6</td>\n",
       "      <td>8</td>\n",
       "      <td>17.0</td>\n",
       "      <td>15.000000</td>\n",
       "    </tr>\n",
       "    <tr>\n",
       "      <th>2022-02-28</th>\n",
       "      <td>4.985</td>\n",
       "      <td>5.008762</td>\n",
       "      <td>1036.0</td>\n",
       "      <td>57</td>\n",
       "      <td>14.556242</td>\n",
       "      <td>10.861389</td>\n",
       "      <td>0</td>\n",
       "      <td>0</td>\n",
       "      <td>9</td>\n",
       "      <td>7.0</td>\n",
       "      <td>21.000000</td>\n",
       "    </tr>\n",
       "  </tbody>\n",
       "</table>\n",
       "</div>"
      ],
      "text/plain": [
       "            the_temp  wind_speed  air_pressure  humidity  visibility  \\\n",
       "date                                                                   \n",
       "2022-02-24     9.210    9.855780        1011.5        67   14.118175   \n",
       "2022-02-25     6.305   11.460817        1016.0        64   10.139846   \n",
       "2022-02-26     5.950    6.208894        1032.0        77   11.720303   \n",
       "2022-02-27     6.175    3.942383        1037.5        72   12.481172   \n",
       "2022-02-28     4.985    5.008762        1036.0        57   14.556242   \n",
       "\n",
       "            daylight_hours  isholidays  weekday  weeknum  total  \\\n",
       "date                                                              \n",
       "2022-02-24       10.592222           0        3        8   52.0   \n",
       "2022-02-25       10.659444           0        4        8   42.0   \n",
       "2022-02-26       10.726389           0        5        8   21.0   \n",
       "2022-02-27       10.793889           0        6        8   17.0   \n",
       "2022-02-28       10.861389           0        0        9    7.0   \n",
       "\n",
       "            total_moving_average  \n",
       "date                              \n",
       "2022-02-24             43.666667  \n",
       "2022-02-25             38.333333  \n",
       "2022-02-26             26.666667  \n",
       "2022-02-27             15.000000  \n",
       "2022-02-28             21.000000  "
      ]
     },
     "execution_count": 63,
     "metadata": {},
     "output_type": "execute_result"
    }
   ],
   "source": [
    "df_combined.tail()"
   ]
  },
  {
   "cell_type": "code",
   "execution_count": 64,
   "id": "db845456",
   "metadata": {},
   "outputs": [
    {
     "data": {
      "text/html": [
       "<div>\n",
       "<style scoped>\n",
       "    .dataframe tbody tr th:only-of-type {\n",
       "        vertical-align: middle;\n",
       "    }\n",
       "\n",
       "    .dataframe tbody tr th {\n",
       "        vertical-align: top;\n",
       "    }\n",
       "\n",
       "    .dataframe thead th {\n",
       "        text-align: right;\n",
       "    }\n",
       "</style>\n",
       "<table border=\"1\" class=\"dataframe\">\n",
       "  <thead>\n",
       "    <tr style=\"text-align: right;\">\n",
       "      <th></th>\n",
       "      <th>total</th>\n",
       "      <th>total_moving_average</th>\n",
       "    </tr>\n",
       "    <tr>\n",
       "      <th>date</th>\n",
       "      <th></th>\n",
       "      <th></th>\n",
       "    </tr>\n",
       "  </thead>\n",
       "  <tbody>\n",
       "    <tr>\n",
       "      <th>2022-02-24</th>\n",
       "      <td>52.0</td>\n",
       "      <td>43.666667</td>\n",
       "    </tr>\n",
       "    <tr>\n",
       "      <th>2022-02-25</th>\n",
       "      <td>42.0</td>\n",
       "      <td>38.333333</td>\n",
       "    </tr>\n",
       "    <tr>\n",
       "      <th>2022-02-26</th>\n",
       "      <td>21.0</td>\n",
       "      <td>26.666667</td>\n",
       "    </tr>\n",
       "    <tr>\n",
       "      <th>2022-02-27</th>\n",
       "      <td>17.0</td>\n",
       "      <td>15.000000</td>\n",
       "    </tr>\n",
       "    <tr>\n",
       "      <th>2022-02-28</th>\n",
       "      <td>7.0</td>\n",
       "      <td>21.000000</td>\n",
       "    </tr>\n",
       "  </tbody>\n",
       "</table>\n",
       "</div>"
      ],
      "text/plain": [
       "            total  total_moving_average\n",
       "date                                   \n",
       "2022-02-24   52.0             43.666667\n",
       "2022-02-25   42.0             38.333333\n",
       "2022-02-26   21.0             26.666667\n",
       "2022-02-27   17.0             15.000000\n",
       "2022-02-28    7.0             21.000000"
      ]
     },
     "execution_count": 64,
     "metadata": {},
     "output_type": "execute_result"
    }
   ],
   "source": [
    "df_ma.tail()"
   ]
  },
  {
   "cell_type": "code",
   "execution_count": 65,
   "id": "12a588d0",
   "metadata": {
    "scrolled": true
   },
   "outputs": [
    {
     "data": {
      "image/png": "[encoded data removed]",
      "text/plain": [
       "<Figure size 1080x288 with 1 Axes>"
      ]
     },
     "metadata": {
      "needs_background": "light"
     },
     "output_type": "display_data"
    }
   ],
   "source": [
    "plt.figure(figsize= (15, 4))\n",
    "plt.plot(opt_model.predict(X_test), label = \"prediction\")\n",
    "plt.plot(y_test, label = \"actual\")\n",
    "plt.legend();"
   ]
  },
  {
   "cell_type": "markdown",
   "id": "da340093",
   "metadata": {},
   "source": [
    "# Cutoff the last 3 days for the prediction"
   ]
  },
  {
   "cell_type": "markdown",
   "id": "30450949",
   "metadata": {},
   "source": [
    "## Create test and train arrays"
   ]
  },
  {
   "cell_type": "markdown",
   "id": "b7583e31",
   "metadata": {},
   "source": [
    "We create the X and y vectors from the df_ma dataset but leave out the last three days. "
   ]
  },
  {
   "cell_type": "code",
   "execution_count": 123,
   "id": "37176f2c",
   "metadata": {
    "scrolled": true
   },
   "outputs": [
    {
     "data": {
      "text/plain": [
       "336"
      ]
     },
     "execution_count": 123,
     "metadata": {},
     "output_type": "execute_result"
    }
   ],
   "source": [
    "int((len(df_ma[:-3])) * 0.8)"
   ]
  },
  {
   "cell_type": "code",
   "execution_count": 124,
   "id": "97d80433",
   "metadata": {},
   "outputs": [],
   "source": [
    "window_size = 31\n",
    "future_horizon = 1\n",
    "\n",
    "X_train_cut, y_train_cut = get_X_y(window_size,future_horizon, df_ma.iloc[:336, :])\n",
    "X_test_cut, y_test_cut = get_X_y(window_size, future_horizon, df_ma.iloc[336:-3, :])"
   ]
  },
  {
   "cell_type": "code",
   "execution_count": 125,
   "id": "8c328769",
   "metadata": {},
   "outputs": [
    {
     "data": {
      "text/plain": [
       "((304, 31, 2), (304, 1), (53, 31, 2), (53, 1))"
      ]
     },
     "execution_count": 125,
     "metadata": {},
     "output_type": "execute_result"
    }
   ],
   "source": [
    "X_train_cut.shape, y_train_cut.shape, X_test_cut.shape, y_test_cut.shape"
   ]
  },
  {
   "cell_type": "markdown",
   "id": "d8a40794",
   "metadata": {},
   "source": [
    "## Re-Run model on cutoff data"
   ]
  },
  {
   "cell_type": "code",
   "execution_count": 129,
   "id": "2d84a194",
   "metadata": {},
   "outputs": [],
   "source": [
    "cut_model = create_opt_model()"
   ]
  },
  {
   "cell_type": "code",
   "execution_count": 130,
   "id": "bd0c2e95",
   "metadata": {
    "collapsed": true
   },
   "outputs": [
    {
     "name": "stdout",
     "output_type": "stream",
     "text": [
      "Epoch 1/300\n",
      "31/31 [==============================] - 3s 34ms/step - loss: 3077.3147 - mean_absolute_percentage_error: 94.9056 - val_loss: 3733.5715 - val_mean_absolute_percentage_error: 92.2415\n",
      "Epoch 2/300\n",
      "31/31 [==============================] - 1s 18ms/step - loss: 2647.8850 - mean_absolute_percentage_error: 85.5234 - val_loss: 3310.0298 - val_mean_absolute_percentage_error: 86.3539\n",
      "Epoch 3/300\n",
      "31/31 [==============================] - 1s 18ms/step - loss: 2413.1084 - mean_absolute_percentage_error: 80.5891 - val_loss: 3149.3970 - val_mean_absolute_percentage_error: 84.0190\n",
      "Epoch 4/300\n",
      "31/31 [==============================] - 1s 19ms/step - loss: 2295.1772 - mean_absolute_percentage_error: 77.9318 - val_loss: 3022.6152 - val_mean_absolute_percentage_error: 82.1311\n",
      "Epoch 5/300\n",
      "31/31 [==============================] - 1s 22ms/step - loss: 2201.2859 - mean_absolute_percentage_error: 75.7695 - val_loss: 2908.7043 - val_mean_absolute_percentage_error: 80.3981\n",
      "Epoch 6/300\n",
      "31/31 [==============================] - 1s 18ms/step - loss: 2120.3618 - mean_absolute_percentage_error: 73.7758 - val_loss: 2804.4387 - val_mean_absolute_percentage_error: 78.7803\n",
      "Epoch 7/300\n",
      "31/31 [==============================] - 1s 21ms/step - loss: 2024.8397 - mean_absolute_percentage_error: 71.4380 - val_loss: 2706.1162 - val_mean_absolute_percentage_error: 77.2254\n",
      "Epoch 8/300\n",
      "31/31 [==============================] - 1s 19ms/step - loss: 1951.6061 - mean_absolute_percentage_error: 69.7814 - val_loss: 2610.5522 - val_mean_absolute_percentage_error: 75.6851\n",
      "Epoch 9/300\n",
      "31/31 [==============================] - 1s 18ms/step - loss: 1879.1654 - mean_absolute_percentage_error: 68.2319 - val_loss: 2519.2253 - val_mean_absolute_percentage_error: 74.1848\n",
      "Epoch 10/300\n",
      "31/31 [==============================] - 1s 19ms/step - loss: 1799.8854 - mean_absolute_percentage_error: 66.1160 - val_loss: 2432.8884 - val_mean_absolute_percentage_error: 72.7397\n",
      "Epoch 11/300\n",
      "31/31 [==============================] - 1s 19ms/step - loss: 1737.8597 - mean_absolute_percentage_error: 64.5603 - val_loss: 2349.6523 - val_mean_absolute_percentage_error: 71.3204\n",
      "Epoch 12/300\n",
      "31/31 [==============================] - 1s 19ms/step - loss: 1682.2096 - mean_absolute_percentage_error: 63.5824 - val_loss: 2269.3335 - val_mean_absolute_percentage_error: 69.9251\n",
      "Epoch 13/300\n",
      "31/31 [==============================] - 1s 19ms/step - loss: 1616.7865 - mean_absolute_percentage_error: 61.6414 - val_loss: 2192.2573 - val_mean_absolute_percentage_error: 68.5610\n",
      "Epoch 14/300\n",
      "31/31 [==============================] - 1s 19ms/step - loss: 1540.5088 - mean_absolute_percentage_error: 59.7139 - val_loss: 2115.0176 - val_mean_absolute_percentage_error: 67.1679\n",
      "Epoch 15/300\n",
      "31/31 [==============================] - 1s 20ms/step - loss: 1486.1993 - mean_absolute_percentage_error: 58.6721 - val_loss: 2042.2169 - val_mean_absolute_percentage_error: 65.8297\n",
      "Epoch 16/300\n",
      "31/31 [==============================] - 1s 23ms/step - loss: 1436.4286 - mean_absolute_percentage_error: 57.2503 - val_loss: 1972.9424 - val_mean_absolute_percentage_error: 64.5320\n",
      "Epoch 17/300\n",
      "31/31 [==============================] - 1s 18ms/step - loss: 1389.6580 - mean_absolute_percentage_error: 55.8142 - val_loss: 1903.8950 - val_mean_absolute_percentage_error: 63.2139\n",
      "Epoch 18/300\n",
      "31/31 [==============================] - 1s 19ms/step - loss: 1323.8503 - mean_absolute_percentage_error: 54.5453 - val_loss: 1837.0055 - val_mean_absolute_percentage_error: 61.9119\n",
      "Epoch 19/300\n",
      "31/31 [==============================] - 1s 19ms/step - loss: 1301.9152 - mean_absolute_percentage_error: 53.6505 - val_loss: 1774.9675 - val_mean_absolute_percentage_error: 60.6811\n",
      "Epoch 20/300\n",
      "31/31 [==============================] - 1s 22ms/step - loss: 1235.0995 - mean_absolute_percentage_error: 52.2949 - val_loss: 1715.0980 - val_mean_absolute_percentage_error: 59.4708\n",
      "Epoch 21/300\n",
      "31/31 [==============================] - 1s 23ms/step - loss: 1185.2047 - mean_absolute_percentage_error: 51.2373 - val_loss: 1653.4463 - val_mean_absolute_percentage_error: 58.2000\n",
      "Epoch 22/300\n",
      "31/31 [==============================] - 1s 19ms/step - loss: 1151.3473 - mean_absolute_percentage_error: 50.3469 - val_loss: 1596.9794 - val_mean_absolute_percentage_error: 57.0130\n",
      "Epoch 23/300\n",
      "31/31 [==============================] - 1s 20ms/step - loss: 1120.8895 - mean_absolute_percentage_error: 49.1366 - val_loss: 1540.3577 - val_mean_absolute_percentage_error: 55.7992\n",
      "Epoch 24/300\n",
      "31/31 [==============================] - 1s 21ms/step - loss: 1063.9991 - mean_absolute_percentage_error: 47.9032 - val_loss: 1487.7367 - val_mean_absolute_percentage_error: 54.6488\n",
      "Epoch 25/300\n",
      "31/31 [==============================] - 1s 20ms/step - loss: 1038.5135 - mean_absolute_percentage_error: 47.3348 - val_loss: 1436.1595 - val_mean_absolute_percentage_error: 53.4990\n",
      "Epoch 26/300\n",
      "31/31 [==============================] - 1s 20ms/step - loss: 987.2198 - mean_absolute_percentage_error: 45.9693 - val_loss: 1386.1819 - val_mean_absolute_percentage_error: 52.3627\n",
      "Epoch 27/300\n",
      "31/31 [==============================] - 1s 19ms/step - loss: 962.3077 - mean_absolute_percentage_error: 46.1206 - val_loss: 1337.1455 - val_mean_absolute_percentage_error: 51.2252\n",
      "Epoch 28/300\n",
      "31/31 [==============================] - 1s 20ms/step - loss: 910.4985 - mean_absolute_percentage_error: 44.1676 - val_loss: 1292.5989 - val_mean_absolute_percentage_error: 50.1712\n",
      "Epoch 29/300\n",
      "31/31 [==============================] - 1s 19ms/step - loss: 883.3443 - mean_absolute_percentage_error: 43.1535 - val_loss: 1247.7094 - val_mean_absolute_percentage_error: 49.0882\n",
      "Epoch 30/300\n",
      "31/31 [==============================] - 1s 20ms/step - loss: 853.8719 - mean_absolute_percentage_error: 43.1239 - val_loss: 1204.3094 - val_mean_absolute_percentage_error: 48.0197\n",
      "Epoch 31/300\n",
      "31/31 [==============================] - 1s 20ms/step - loss: 835.6270 - mean_absolute_percentage_error: 42.8259 - val_loss: 1163.0176 - val_mean_absolute_percentage_error: 46.9826\n",
      "Epoch 32/300\n",
      "31/31 [==============================] - 1s 20ms/step - loss: 798.8420 - mean_absolute_percentage_error: 41.2504 - val_loss: 1122.5303 - val_mean_absolute_percentage_error: 45.9449\n",
      "Epoch 33/300\n",
      "31/31 [==============================] - 1s 19ms/step - loss: 767.9731 - mean_absolute_percentage_error: 41.2301 - val_loss: 1084.2263 - val_mean_absolute_percentage_error: 44.9430\n",
      "Epoch 34/300\n",
      "31/31 [==============================] - 1s 21ms/step - loss: 754.3766 - mean_absolute_percentage_error: 40.7939 - val_loss: 1047.2759 - val_mean_absolute_percentage_error: 43.9569\n",
      "Epoch 35/300\n",
      "31/31 [==============================] - 1s 20ms/step - loss: 702.9714 - mean_absolute_percentage_error: 38.8731 - val_loss: 1010.7220 - val_mean_absolute_percentage_error: 42.9611\n",
      "Epoch 36/300\n",
      "31/31 [==============================] - 1s 20ms/step - loss: 686.7050 - mean_absolute_percentage_error: 39.5403 - val_loss: 976.7206 - val_mean_absolute_percentage_error: 42.0157\n",
      "Epoch 37/300\n",
      "31/31 [==============================] - 1s 19ms/step - loss: 671.3326 - mean_absolute_percentage_error: 38.2097 - val_loss: 942.9592 - val_mean_absolute_percentage_error: 41.0574\n",
      "Epoch 38/300\n",
      "31/31 [==============================] - 1s 20ms/step - loss: 644.0634 - mean_absolute_percentage_error: 38.1956 - val_loss: 911.0881 - val_mean_absolute_percentage_error: 40.1339\n",
      "Epoch 39/300\n",
      "31/31 [==============================] - 1s 19ms/step - loss: 653.6090 - mean_absolute_percentage_error: 39.1126 - val_loss: 880.5285 - val_mean_absolute_percentage_error: 39.2300\n",
      "Epoch 40/300\n",
      "31/31 [==============================] - 1s 19ms/step - loss: 611.4575 - mean_absolute_percentage_error: 36.9639 - val_loss: 851.0650 - val_mean_absolute_percentage_error: 38.3755\n",
      "Epoch 41/300\n",
      "31/31 [==============================] - 1s 19ms/step - loss: 614.4753 - mean_absolute_percentage_error: 37.4134 - val_loss: 823.6341 - val_mean_absolute_percentage_error: 37.6206\n",
      "Epoch 42/300\n",
      "31/31 [==============================] - 1s 20ms/step - loss: 574.2009 - mean_absolute_percentage_error: 37.3207 - val_loss: 795.8365 - val_mean_absolute_percentage_error: 36.8624\n",
      "Epoch 43/300\n"
     ]
    },
    {
     "name": "stdout",
     "output_type": "stream",
     "text": [
      "31/31 [==============================] - 1s 19ms/step - loss: 577.7594 - mean_absolute_percentage_error: 37.1222 - val_loss: 770.8018 - val_mean_absolute_percentage_error: 36.1865\n",
      "Epoch 44/300\n",
      "31/31 [==============================] - 1s 19ms/step - loss: 557.2559 - mean_absolute_percentage_error: 36.0389 - val_loss: 746.1544 - val_mean_absolute_percentage_error: 35.5076\n",
      "Epoch 45/300\n",
      "31/31 [==============================] - 1s 21ms/step - loss: 535.4269 - mean_absolute_percentage_error: 35.9894 - val_loss: 722.3127 - val_mean_absolute_percentage_error: 34.8373\n",
      "Epoch 46/300\n",
      "31/31 [==============================] - 1s 21ms/step - loss: 516.5460 - mean_absolute_percentage_error: 35.8700 - val_loss: 699.8248 - val_mean_absolute_percentage_error: 34.2110\n",
      "Epoch 47/300\n",
      "31/31 [==============================] - 1s 19ms/step - loss: 525.9613 - mean_absolute_percentage_error: 35.5882 - val_loss: 677.8112 - val_mean_absolute_percentage_error: 33.6045\n",
      "Epoch 48/300\n",
      "31/31 [==============================] - 1s 19ms/step - loss: 509.7837 - mean_absolute_percentage_error: 35.8879 - val_loss: 656.9672 - val_mean_absolute_percentage_error: 33.0317\n",
      "Epoch 49/300\n",
      "31/31 [==============================] - 1s 19ms/step - loss: 491.2726 - mean_absolute_percentage_error: 35.8304 - val_loss: 636.4559 - val_mean_absolute_percentage_error: 32.4790\n",
      "Epoch 50/300\n",
      "31/31 [==============================] - 1s 19ms/step - loss: 467.2536 - mean_absolute_percentage_error: 34.5947 - val_loss: 616.6331 - val_mean_absolute_percentage_error: 31.9401\n",
      "Epoch 51/300\n",
      "31/31 [==============================] - 1s 19ms/step - loss: 455.9544 - mean_absolute_percentage_error: 34.9098 - val_loss: 597.6508 - val_mean_absolute_percentage_error: 31.4408\n",
      "Epoch 52/300\n",
      "31/31 [==============================] - 1s 19ms/step - loss: 455.0343 - mean_absolute_percentage_error: 34.5641 - val_loss: 580.8631 - val_mean_absolute_percentage_error: 30.9903\n",
      "Epoch 53/300\n",
      "31/31 [==============================] - 1s 18ms/step - loss: 451.8424 - mean_absolute_percentage_error: 35.1408 - val_loss: 562.5269 - val_mean_absolute_percentage_error: 30.4881\n",
      "Epoch 54/300\n",
      "31/31 [==============================] - 1s 18ms/step - loss: 467.9863 - mean_absolute_percentage_error: 35.7621 - val_loss: 547.0461 - val_mean_absolute_percentage_error: 30.0553\n",
      "Epoch 55/300\n",
      "31/31 [==============================] - 1s 18ms/step - loss: 436.9999 - mean_absolute_percentage_error: 34.7135 - val_loss: 531.7150 - val_mean_absolute_percentage_error: 29.6182\n",
      "Epoch 56/300\n",
      "31/31 [==============================] - 1s 18ms/step - loss: 413.4846 - mean_absolute_percentage_error: 34.1273 - val_loss: 518.0447 - val_mean_absolute_percentage_error: 29.2211\n",
      "Epoch 57/300\n",
      "31/31 [==============================] - 1s 20ms/step - loss: 426.4602 - mean_absolute_percentage_error: 34.9758 - val_loss: 504.2514 - val_mean_absolute_percentage_error: 28.8130\n",
      "Epoch 58/300\n",
      "31/31 [==============================] - 1s 19ms/step - loss: 406.0307 - mean_absolute_percentage_error: 33.6931 - val_loss: 490.8620 - val_mean_absolute_percentage_error: 28.4075\n",
      "Epoch 59/300\n",
      "31/31 [==============================] - 1s 19ms/step - loss: 398.8533 - mean_absolute_percentage_error: 33.2676 - val_loss: 475.3482 - val_mean_absolute_percentage_error: 27.9300\n",
      "Epoch 60/300\n",
      "31/31 [==============================] - 1s 19ms/step - loss: 372.8171 - mean_absolute_percentage_error: 31.9033 - val_loss: 462.0103 - val_mean_absolute_percentage_error: 27.5119\n",
      "Epoch 61/300\n",
      "31/31 [==============================] - 1s 19ms/step - loss: 378.1016 - mean_absolute_percentage_error: 31.7221 - val_loss: 449.0000 - val_mean_absolute_percentage_error: 27.1191\n",
      "Epoch 62/300\n",
      "31/31 [==============================] - 1s 18ms/step - loss: 355.4126 - mean_absolute_percentage_error: 30.5246 - val_loss: 435.4962 - val_mean_absolute_percentage_error: 26.7020\n",
      "Epoch 63/300\n",
      "31/31 [==============================] - 1s 19ms/step - loss: 342.6431 - mean_absolute_percentage_error: 29.9697 - val_loss: 422.4866 - val_mean_absolute_percentage_error: 26.3037\n",
      "Epoch 64/300\n",
      "31/31 [==============================] - 1s 19ms/step - loss: 342.4853 - mean_absolute_percentage_error: 30.6858 - val_loss: 411.0722 - val_mean_absolute_percentage_error: 25.9584\n",
      "Epoch 65/300\n",
      "31/31 [==============================] - 1s 19ms/step - loss: 324.4944 - mean_absolute_percentage_error: 29.4089 - val_loss: 399.0536 - val_mean_absolute_percentage_error: 25.5842\n",
      "Epoch 66/300\n",
      "31/31 [==============================] - 1s 19ms/step - loss: 332.1037 - mean_absolute_percentage_error: 28.3404 - val_loss: 388.5449 - val_mean_absolute_percentage_error: 25.2415\n",
      "Epoch 67/300\n",
      "31/31 [==============================] - 1s 19ms/step - loss: 316.1449 - mean_absolute_percentage_error: 27.1308 - val_loss: 374.0598 - val_mean_absolute_percentage_error: 24.7795\n",
      "Epoch 68/300\n",
      "31/31 [==============================] - 1s 19ms/step - loss: 292.2523 - mean_absolute_percentage_error: 25.7556 - val_loss: 361.4162 - val_mean_absolute_percentage_error: 24.3585\n",
      "Epoch 69/300\n",
      "31/31 [==============================] - 1s 19ms/step - loss: 273.3209 - mean_absolute_percentage_error: 24.9922 - val_loss: 351.2469 - val_mean_absolute_percentage_error: 24.0055\n",
      "Epoch 70/300\n",
      "31/31 [==============================] - 1s 19ms/step - loss: 277.4085 - mean_absolute_percentage_error: 25.1521 - val_loss: 341.1034 - val_mean_absolute_percentage_error: 23.6476\n",
      "Epoch 71/300\n",
      "31/31 [==============================] - 1s 19ms/step - loss: 262.0789 - mean_absolute_percentage_error: 24.1679 - val_loss: 331.0020 - val_mean_absolute_percentage_error: 23.3140\n",
      "Epoch 72/300\n",
      "31/31 [==============================] - 1s 19ms/step - loss: 277.2740 - mean_absolute_percentage_error: 23.4948 - val_loss: 320.1033 - val_mean_absolute_percentage_error: 22.9617\n",
      "Epoch 73/300\n",
      "31/31 [==============================] - 1s 19ms/step - loss: 246.5001 - mean_absolute_percentage_error: 22.3227 - val_loss: 309.7992 - val_mean_absolute_percentage_error: 22.6178\n",
      "Epoch 74/300\n",
      "31/31 [==============================] - 1s 19ms/step - loss: 240.2576 - mean_absolute_percentage_error: 22.6965 - val_loss: 299.9649 - val_mean_absolute_percentage_error: 22.2783\n",
      "Epoch 75/300\n",
      "31/31 [==============================] - 1s 19ms/step - loss: 255.6176 - mean_absolute_percentage_error: 23.3307 - val_loss: 291.1852 - val_mean_absolute_percentage_error: 21.9617\n",
      "Epoch 76/300\n",
      "31/31 [==============================] - 1s 19ms/step - loss: 242.6199 - mean_absolute_percentage_error: 23.7480 - val_loss: 283.3977 - val_mean_absolute_percentage_error: 21.6803\n",
      "Epoch 77/300\n",
      "31/31 [==============================] - 1s 19ms/step - loss: 262.3770 - mean_absolute_percentage_error: 24.2027 - val_loss: 276.7061 - val_mean_absolute_percentage_error: 21.4352\n",
      "Epoch 78/300\n",
      "31/31 [==============================] - 1s 19ms/step - loss: 232.2181 - mean_absolute_percentage_error: 22.8108 - val_loss: 268.4481 - val_mean_absolute_percentage_error: 21.1388\n",
      "Epoch 79/300\n",
      "31/31 [==============================] - 1s 20ms/step - loss: 237.2020 - mean_absolute_percentage_error: 23.1426 - val_loss: 260.9501 - val_mean_absolute_percentage_error: 20.8588\n",
      "Epoch 80/300\n",
      "31/31 [==============================] - 1s 19ms/step - loss: 218.0724 - mean_absolute_percentage_error: 21.5307 - val_loss: 254.1891 - val_mean_absolute_percentage_error: 20.6102\n",
      "Epoch 81/300\n",
      "31/31 [==============================] - 1s 19ms/step - loss: 220.8135 - mean_absolute_percentage_error: 22.7464 - val_loss: 248.0474 - val_mean_absolute_percentage_error: 20.3072\n",
      "Epoch 82/300\n",
      "31/31 [==============================] - 1s 18ms/step - loss: 220.3504 - mean_absolute_percentage_error: 22.5252 - val_loss: 241.7309 - val_mean_absolute_percentage_error: 20.0452\n",
      "Epoch 83/300\n",
      "31/31 [==============================] - 1s 19ms/step - loss: 218.0610 - mean_absolute_percentage_error: 22.0802 - val_loss: 236.5377 - val_mean_absolute_percentage_error: 19.8492\n",
      "Epoch 84/300\n",
      "31/31 [==============================] - 1s 19ms/step - loss: 209.2142 - mean_absolute_percentage_error: 22.1303 - val_loss: 229.7016 - val_mean_absolute_percentage_error: 19.6505\n",
      "Epoch 85/300\n"
     ]
    },
    {
     "name": "stdout",
     "output_type": "stream",
     "text": [
      "31/31 [==============================] - 1s 18ms/step - loss: 195.6592 - mean_absolute_percentage_error: 21.9129 - val_loss: 224.5047 - val_mean_absolute_percentage_error: 19.4771\n",
      "Epoch 86/300\n",
      "31/31 [==============================] - 1s 18ms/step - loss: 199.7461 - mean_absolute_percentage_error: 21.6683 - val_loss: 219.8279 - val_mean_absolute_percentage_error: 19.2826\n",
      "Epoch 87/300\n",
      "31/31 [==============================] - 1s 19ms/step - loss: 199.3240 - mean_absolute_percentage_error: 21.2448 - val_loss: 214.6927 - val_mean_absolute_percentage_error: 18.9868\n",
      "Epoch 88/300\n",
      "31/31 [==============================] - 1s 18ms/step - loss: 205.4191 - mean_absolute_percentage_error: 21.8223 - val_loss: 210.5818 - val_mean_absolute_percentage_error: 18.8582\n",
      "Epoch 89/300\n",
      "31/31 [==============================] - 1s 19ms/step - loss: 191.9954 - mean_absolute_percentage_error: 21.2646 - val_loss: 206.6189 - val_mean_absolute_percentage_error: 18.6331\n",
      "Epoch 90/300\n",
      "31/31 [==============================] - 1s 18ms/step - loss: 199.1918 - mean_absolute_percentage_error: 21.2779 - val_loss: 202.7172 - val_mean_absolute_percentage_error: 18.4297\n",
      "Epoch 91/300\n",
      "31/31 [==============================] - 1s 18ms/step - loss: 200.0222 - mean_absolute_percentage_error: 21.2892 - val_loss: 198.3338 - val_mean_absolute_percentage_error: 18.2008\n",
      "Epoch 92/300\n",
      "31/31 [==============================] - 1s 18ms/step - loss: 183.7101 - mean_absolute_percentage_error: 21.2638 - val_loss: 194.5453 - val_mean_absolute_percentage_error: 18.1607\n",
      "Epoch 93/300\n",
      "31/31 [==============================] - 1s 18ms/step - loss: 181.5446 - mean_absolute_percentage_error: 20.2498 - val_loss: 190.7743 - val_mean_absolute_percentage_error: 17.9639\n",
      "Epoch 94/300\n",
      "31/31 [==============================] - 1s 18ms/step - loss: 193.6329 - mean_absolute_percentage_error: 21.4906 - val_loss: 187.7710 - val_mean_absolute_percentage_error: 17.8108\n",
      "Epoch 95/300\n",
      "31/31 [==============================] - 1s 19ms/step - loss: 176.2774 - mean_absolute_percentage_error: 21.6014 - val_loss: 184.4536 - val_mean_absolute_percentage_error: 17.5097\n",
      "Epoch 96/300\n",
      "31/31 [==============================] - 1s 20ms/step - loss: 186.1564 - mean_absolute_percentage_error: 21.6330 - val_loss: 181.4143 - val_mean_absolute_percentage_error: 17.3940\n",
      "Epoch 97/300\n",
      "31/31 [==============================] - 1s 19ms/step - loss: 181.7591 - mean_absolute_percentage_error: 21.6123 - val_loss: 179.1058 - val_mean_absolute_percentage_error: 17.4135\n",
      "Epoch 98/300\n",
      "31/31 [==============================] - 1s 21ms/step - loss: 180.6669 - mean_absolute_percentage_error: 20.8454 - val_loss: 176.7974 - val_mean_absolute_percentage_error: 17.3003\n",
      "Epoch 99/300\n",
      "31/31 [==============================] - 1s 22ms/step - loss: 166.6707 - mean_absolute_percentage_error: 20.6352 - val_loss: 173.9629 - val_mean_absolute_percentage_error: 17.0313\n",
      "Epoch 100/300\n",
      "31/31 [==============================] - 1s 19ms/step - loss: 162.3643 - mean_absolute_percentage_error: 19.5546 - val_loss: 171.5809 - val_mean_absolute_percentage_error: 17.0333\n",
      "Epoch 101/300\n",
      "31/31 [==============================] - 1s 19ms/step - loss: 181.2278 - mean_absolute_percentage_error: 21.0995 - val_loss: 169.0120 - val_mean_absolute_percentage_error: 16.8826\n",
      "Epoch 102/300\n",
      "31/31 [==============================] - 1s 18ms/step - loss: 171.5579 - mean_absolute_percentage_error: 20.5869 - val_loss: 167.3740 - val_mean_absolute_percentage_error: 16.9018\n",
      "Epoch 103/300\n",
      "31/31 [==============================] - 1s 19ms/step - loss: 149.3757 - mean_absolute_percentage_error: 19.9463 - val_loss: 164.7099 - val_mean_absolute_percentage_error: 16.6671\n",
      "Epoch 104/300\n",
      "31/31 [==============================] - 1s 18ms/step - loss: 157.1947 - mean_absolute_percentage_error: 20.1947 - val_loss: 162.5293 - val_mean_absolute_percentage_error: 16.5983\n",
      "Epoch 105/300\n",
      "31/31 [==============================] - 1s 18ms/step - loss: 164.7948 - mean_absolute_percentage_error: 20.0914 - val_loss: 160.3961 - val_mean_absolute_percentage_error: 16.4675\n",
      "Epoch 106/300\n",
      "31/31 [==============================] - 1s 18ms/step - loss: 159.4988 - mean_absolute_percentage_error: 19.9018 - val_loss: 156.9884 - val_mean_absolute_percentage_error: 16.1776\n",
      "Epoch 107/300\n",
      "31/31 [==============================] - 1s 19ms/step - loss: 153.2205 - mean_absolute_percentage_error: 20.0297 - val_loss: 155.3658 - val_mean_absolute_percentage_error: 16.1188\n",
      "Epoch 108/300\n",
      "31/31 [==============================] - 1s 19ms/step - loss: 163.8822 - mean_absolute_percentage_error: 20.1299 - val_loss: 155.0958 - val_mean_absolute_percentage_error: 16.2057\n",
      "Epoch 109/300\n",
      "31/31 [==============================] - 1s 19ms/step - loss: 171.7231 - mean_absolute_percentage_error: 21.0087 - val_loss: 154.5687 - val_mean_absolute_percentage_error: 16.2007\n",
      "Epoch 110/300\n",
      "31/31 [==============================] - 1s 19ms/step - loss: 152.9681 - mean_absolute_percentage_error: 18.9964 - val_loss: 151.8723 - val_mean_absolute_percentage_error: 16.0096\n",
      "Epoch 111/300\n",
      "31/31 [==============================] - 1s 19ms/step - loss: 154.9137 - mean_absolute_percentage_error: 19.0984 - val_loss: 152.7812 - val_mean_absolute_percentage_error: 16.2499\n",
      "Epoch 112/300\n",
      "31/31 [==============================] - 1s 19ms/step - loss: 151.9948 - mean_absolute_percentage_error: 20.3186 - val_loss: 153.6417 - val_mean_absolute_percentage_error: 16.3870\n",
      "Epoch 113/300\n",
      "31/31 [==============================] - 1s 19ms/step - loss: 150.4489 - mean_absolute_percentage_error: 19.6089 - val_loss: 149.3791 - val_mean_absolute_percentage_error: 16.0421\n",
      "Epoch 114/300\n",
      "31/31 [==============================] - 1s 18ms/step - loss: 167.0913 - mean_absolute_percentage_error: 21.0626 - val_loss: 150.9844 - val_mean_absolute_percentage_error: 16.3246\n",
      "Epoch 115/300\n",
      "31/31 [==============================] - 1s 19ms/step - loss: 170.4760 - mean_absolute_percentage_error: 20.7599 - val_loss: 147.9801 - val_mean_absolute_percentage_error: 16.0777\n",
      "Epoch 116/300\n",
      "31/31 [==============================] - 1s 18ms/step - loss: 148.7143 - mean_absolute_percentage_error: 19.8714 - val_loss: 145.5242 - val_mean_absolute_percentage_error: 15.7525\n",
      "Epoch 117/300\n",
      "31/31 [==============================] - 1s 19ms/step - loss: 147.7467 - mean_absolute_percentage_error: 19.6090 - val_loss: 144.7508 - val_mean_absolute_percentage_error: 15.8316\n",
      "Epoch 118/300\n",
      "31/31 [==============================] - 1s 18ms/step - loss: 147.6866 - mean_absolute_percentage_error: 19.0163 - val_loss: 142.4977 - val_mean_absolute_percentage_error: 15.6182\n",
      "Epoch 119/300\n",
      "31/31 [==============================] - 1s 18ms/step - loss: 159.5925 - mean_absolute_percentage_error: 19.8827 - val_loss: 142.9049 - val_mean_absolute_percentage_error: 15.7593\n",
      "Epoch 120/300\n",
      "31/31 [==============================] - 1s 18ms/step - loss: 180.6175 - mean_absolute_percentage_error: 21.8340 - val_loss: 141.2699 - val_mean_absolute_percentage_error: 15.5619\n",
      "Epoch 121/300\n",
      "31/31 [==============================] - 1s 18ms/step - loss: 151.4645 - mean_absolute_percentage_error: 20.3612 - val_loss: 146.0896 - val_mean_absolute_percentage_error: 16.2033\n",
      "Epoch 122/300\n",
      "31/31 [==============================] - 1s 18ms/step - loss: 150.0773 - mean_absolute_percentage_error: 19.3184 - val_loss: 142.1939 - val_mean_absolute_percentage_error: 15.7690\n",
      "Epoch 123/300\n",
      "31/31 [==============================] - 1s 18ms/step - loss: 130.2431 - mean_absolute_percentage_error: 18.7118 - val_loss: 142.9363 - val_mean_absolute_percentage_error: 15.9557\n",
      "Epoch 124/300\n",
      "31/31 [==============================] - 1s 19ms/step - loss: 143.5818 - mean_absolute_percentage_error: 20.0922 - val_loss: 142.6109 - val_mean_absolute_percentage_error: 15.9645\n",
      "Epoch 125/300\n",
      "31/31 [==============================] - 1s 18ms/step - loss: 132.1610 - mean_absolute_percentage_error: 18.0773 - val_loss: 140.4365 - val_mean_absolute_percentage_error: 15.6903\n",
      "Epoch 126/300\n",
      "31/31 [==============================] - 1s 18ms/step - loss: 149.5788 - mean_absolute_percentage_error: 20.0523 - val_loss: 142.4088 - val_mean_absolute_percentage_error: 15.9968\n",
      "Epoch 127/300\n"
     ]
    },
    {
     "name": "stdout",
     "output_type": "stream",
     "text": [
      "31/31 [==============================] - 1s 18ms/step - loss: 148.7981 - mean_absolute_percentage_error: 19.4395 - val_loss: 142.8167 - val_mean_absolute_percentage_error: 16.0860\n",
      "Epoch 128/300\n",
      "31/31 [==============================] - 1s 18ms/step - loss: 147.4302 - mean_absolute_percentage_error: 19.6215 - val_loss: 141.6972 - val_mean_absolute_percentage_error: 15.9813\n",
      "Epoch 129/300\n",
      "31/31 [==============================] - 1s 18ms/step - loss: 137.4007 - mean_absolute_percentage_error: 19.4961 - val_loss: 134.7852 - val_mean_absolute_percentage_error: 15.1767\n",
      "Epoch 130/300\n",
      "31/31 [==============================] - 1s 18ms/step - loss: 142.5753 - mean_absolute_percentage_error: 18.4124 - val_loss: 140.1297 - val_mean_absolute_percentage_error: 15.9038\n",
      "Epoch 131/300\n",
      "31/31 [==============================] - 1s 18ms/step - loss: 149.9544 - mean_absolute_percentage_error: 20.4296 - val_loss: 135.8772 - val_mean_absolute_percentage_error: 15.1976\n",
      "Epoch 132/300\n",
      "31/31 [==============================] - 1s 18ms/step - loss: 129.6673 - mean_absolute_percentage_error: 19.2643 - val_loss: 142.8136 - val_mean_absolute_percentage_error: 16.2452\n",
      "Epoch 133/300\n",
      "31/31 [==============================] - 1s 18ms/step - loss: 139.7195 - mean_absolute_percentage_error: 19.3251 - val_loss: 139.4576 - val_mean_absolute_percentage_error: 15.9098\n",
      "Epoch 134/300\n",
      "31/31 [==============================] - 1s 18ms/step - loss: 134.8346 - mean_absolute_percentage_error: 18.5967 - val_loss: 144.1535 - val_mean_absolute_percentage_error: 16.4429\n"
     ]
    },
    {
     "data": {
      "text/plain": [
       "<keras.callbacks.History at 0x7f41646cb760>"
      ]
     },
     "execution_count": 130,
     "metadata": {},
     "output_type": "execute_result"
    }
   ],
   "source": [
    "cut_model.compile(optimizer= \"adam\", loss= \"mse\", metrics = \"mean_absolute_percentage_error\")\n",
    "cut_model.fit(X_train_cut, \n",
    "                  y_train_cut, \n",
    "                  batch_size = 8, \n",
    "                  epochs = 300, \n",
    "                  verbose = 1, \n",
    "                  callbacks = [es], \n",
    "                  validation_split = 0.2)"
   ]
  },
  {
   "cell_type": "code",
   "execution_count": 131,
   "id": "e84756d1",
   "metadata": {},
   "outputs": [
    {
     "name": "stdout",
     "output_type": "stream",
     "text": [
      "2/2 [==============================] - 0s 8ms/step - loss: 121.4209 - mean_absolute_percentage_error: 22.4770\n"
     ]
    },
    {
     "data": {
      "text/plain": [
       "22.476991653442383"
      ]
     },
     "execution_count": 131,
     "metadata": {},
     "output_type": "execute_result"
    }
   ],
   "source": [
    "cut_model.evaluate(X_test_cut, y_test_cut)[1]"
   ]
  },
  {
   "cell_type": "code",
   "execution_count": 132,
   "id": "5b191f7e",
   "metadata": {},
   "outputs": [
    {
     "data": {
      "image/png": "[encoded data removed]",
      "text/plain": [
       "<Figure size 1080x288 with 1 Axes>"
      ]
     },
     "metadata": {
      "needs_background": "light"
     },
     "output_type": "display_data"
    }
   ],
   "source": [
    "plt.figure(figsize= (15, 4))\n",
    "plt.plot(cut_model.predict(X_test_cut), label = \"prediction\")\n",
    "plt.plot(y_test_cut, label = \"actual\")\n",
    "plt.legend();"
   ]
  },
  {
   "cell_type": "markdown",
   "id": "5479e55a",
   "metadata": {},
   "source": [
    "# Predict on new data"
   ]
  },
  {
   "cell_type": "markdown",
   "id": "cafe746c",
   "metadata": {},
   "source": [
    "## Read in most recent dataset"
   ]
  },
  {
   "cell_type": "code",
   "execution_count": 3,
   "id": "7a3e04ad",
   "metadata": {},
   "outputs": [],
   "source": [
    "url = \"https://www.internetwache-polizei-berlin.de/vdb/Fahrraddiebstahl.csv\"\n",
    "download = requests.get(url)\n",
    "decoded_content = download.content.decode('ISO-8859-1')\n",
    "file = decoded_content.splitlines()\n",
    "\n",
    "# cr = csv.reader(file, delimiter=',')\n",
    "cr = csv.DictReader(file, delimiter=',')\n",
    "my_list = list(cr)\n",
    "df_new = pd.DataFrame(my_list)"
   ]
  },
  {
   "cell_type": "code",
   "execution_count": 6,
   "id": "9f76b9ad",
   "metadata": {},
   "outputs": [
    {
     "data": {
      "text/html": [
       "<div>\n",
       "<style scoped>\n",
       "    .dataframe tbody tr th:only-of-type {\n",
       "        vertical-align: middle;\n",
       "    }\n",
       "\n",
       "    .dataframe tbody tr th {\n",
       "        vertical-align: top;\n",
       "    }\n",
       "\n",
       "    .dataframe thead th {\n",
       "        text-align: right;\n",
       "    }\n",
       "</style>\n",
       "<table border=\"1\" class=\"dataframe\">\n",
       "  <thead>\n",
       "    <tr style=\"text-align: right;\">\n",
       "      <th></th>\n",
       "      <th>ANGELEGT_AM</th>\n",
       "      <th>TATZEIT_ANFANG_DATUM</th>\n",
       "      <th>TATZEIT_ANFANG_STUNDE</th>\n",
       "      <th>TATZEIT_ENDE_DATUM</th>\n",
       "      <th>TATZEIT_ENDE_STUNDE</th>\n",
       "      <th>LOR</th>\n",
       "      <th>SCHADENSHOEHE</th>\n",
       "      <th>VERSUCH</th>\n",
       "      <th>ART_DES_FAHRRADS</th>\n",
       "      <th>DELIKT</th>\n",
       "      <th>ERFASSUNGSGRUND</th>\n",
       "    </tr>\n",
       "  </thead>\n",
       "  <tbody>\n",
       "    <tr>\n",
       "      <th>0</th>\n",
       "      <td>07.03.2022</td>\n",
       "      <td>02.03.2022</td>\n",
       "      <td>15</td>\n",
       "      <td>03.03.2022</td>\n",
       "      <td>07</td>\n",
       "      <td>02100105</td>\n",
       "      <td>405</td>\n",
       "      <td>Nein</td>\n",
       "      <td>Herrenfahrrad</td>\n",
       "      <td>Fahrraddiebstahl</td>\n",
       "      <td>Sonstiger schwerer Diebstahl von Fahrrädern</td>\n",
       "    </tr>\n",
       "    <tr>\n",
       "      <th>1</th>\n",
       "      <td>07.03.2022</td>\n",
       "      <td>06.03.2022</td>\n",
       "      <td>18</td>\n",
       "      <td>07.03.2022</td>\n",
       "      <td>07</td>\n",
       "      <td>05100314</td>\n",
       "      <td>250</td>\n",
       "      <td>Nein</td>\n",
       "      <td>Damenfahrrad</td>\n",
       "      <td>Fahrraddiebstahl</td>\n",
       "      <td>Sonstiger schwerer Diebstahl von Fahrrädern</td>\n",
       "    </tr>\n",
       "    <tr>\n",
       "      <th>2</th>\n",
       "      <td>07.03.2022</td>\n",
       "      <td>06.03.2022</td>\n",
       "      <td>08</td>\n",
       "      <td>07.03.2022</td>\n",
       "      <td>06</td>\n",
       "      <td>03501038</td>\n",
       "      <td>750</td>\n",
       "      <td>Nein</td>\n",
       "      <td>Herrenfahrrad</td>\n",
       "      <td>Fahrraddiebstahl</td>\n",
       "      <td>Einfacher Diebstahl von Fahrrädern</td>\n",
       "    </tr>\n",
       "    <tr>\n",
       "      <th>3</th>\n",
       "      <td>07.03.2022</td>\n",
       "      <td>06.03.2022</td>\n",
       "      <td>23</td>\n",
       "      <td>07.03.2022</td>\n",
       "      <td>16</td>\n",
       "      <td>11300721</td>\n",
       "      <td>240</td>\n",
       "      <td>Nein</td>\n",
       "      <td>Mountainbike</td>\n",
       "      <td>Fahrraddiebstahl</td>\n",
       "      <td>Sonstiger schwerer Diebstahl von Fahrrädern</td>\n",
       "    </tr>\n",
       "    <tr>\n",
       "      <th>4</th>\n",
       "      <td>07.03.2022</td>\n",
       "      <td>06.03.2022</td>\n",
       "      <td>22</td>\n",
       "      <td>07.03.2022</td>\n",
       "      <td>10</td>\n",
       "      <td>08100103</td>\n",
       "      <td>2000</td>\n",
       "      <td>Nein</td>\n",
       "      <td>Herrenfahrrad</td>\n",
       "      <td>Fahrraddiebstahl</td>\n",
       "      <td>Sonstiger schwerer Diebstahl von Fahrrädern</td>\n",
       "    </tr>\n",
       "  </tbody>\n",
       "</table>\n",
       "</div>"
      ],
      "text/plain": [
       "  ANGELEGT_AM TATZEIT_ANFANG_DATUM TATZEIT_ANFANG_STUNDE TATZEIT_ENDE_DATUM  \\\n",
       "0  07.03.2022           02.03.2022                    15         03.03.2022   \n",
       "1  07.03.2022           06.03.2022                    18         07.03.2022   \n",
       "2  07.03.2022           06.03.2022                    08         07.03.2022   \n",
       "3  07.03.2022           06.03.2022                    23         07.03.2022   \n",
       "4  07.03.2022           06.03.2022                    22         07.03.2022   \n",
       "\n",
       "  TATZEIT_ENDE_STUNDE       LOR SCHADENSHOEHE VERSUCH ART_DES_FAHRRADS  \\\n",
       "0                  07  02100105           405    Nein    Herrenfahrrad   \n",
       "1                  07  05100314           250    Nein     Damenfahrrad   \n",
       "2                  06  03501038           750    Nein    Herrenfahrrad   \n",
       "3                  16  11300721           240    Nein     Mountainbike   \n",
       "4                  10  08100103          2000    Nein    Herrenfahrrad   \n",
       "\n",
       "             DELIKT                              ERFASSUNGSGRUND  \n",
       "0  Fahrraddiebstahl  Sonstiger schwerer Diebstahl von Fahrrädern  \n",
       "1  Fahrraddiebstahl  Sonstiger schwerer Diebstahl von Fahrrädern  \n",
       "2  Fahrraddiebstahl           Einfacher Diebstahl von Fahrrädern  \n",
       "3  Fahrraddiebstahl  Sonstiger schwerer Diebstahl von Fahrrädern  \n",
       "4  Fahrraddiebstahl  Sonstiger schwerer Diebstahl von Fahrrädern  "
      ]
     },
     "execution_count": 6,
     "metadata": {},
     "output_type": "execute_result"
    }
   ],
   "source": [
    "df_new.head()"
   ]
  },
  {
   "cell_type": "code",
   "execution_count": 7,
   "id": "80c78391",
   "metadata": {},
   "outputs": [],
   "source": [
    "eng_col_names = [\n",
    "    \"date_reported\",\n",
    "    \"date_theft_start\",\n",
    "    \"hour_theft_start\",\n",
    "    \"date_theft_end\",\n",
    "    \"hour_theft_end\",\n",
    "    \"LOR\",\n",
    "    \"estimated_value\",\n",
    "    \"attempt\",\n",
    "    \"type_bike\", \n",
    "    \"theft_type\",\n",
    "    \"theft_type_detail\"    \n",
    "]\n",
    "df_new.columns = eng_col_names"
   ]
  },
  {
   "cell_type": "code",
   "execution_count": 8,
   "id": "a7895aed",
   "metadata": {},
   "outputs": [
    {
     "data": {
      "text/plain": [
       "date_reported        object\n",
       "date_theft_start     object\n",
       "hour_theft_start     object\n",
       "date_theft_end       object\n",
       "hour_theft_end       object\n",
       "LOR                  object\n",
       "estimated_value      object\n",
       "attempt              object\n",
       "type_bike            object\n",
       "theft_type           object\n",
       "theft_type_detail    object\n",
       "dtype: object"
      ]
     },
     "execution_count": 8,
     "metadata": {},
     "output_type": "execute_result"
    }
   ],
   "source": [
    "df_new.dtypes"
   ]
  },
  {
   "cell_type": "code",
   "execution_count": 9,
   "id": "30752d34",
   "metadata": {},
   "outputs": [],
   "source": [
    "df_new[\"date_theft_start\"] =  pd.to_datetime(df_new[\"date_theft_start\"], format='%d.%m.%Y')"
   ]
  },
  {
   "cell_type": "code",
   "execution_count": 10,
   "id": "114a912c",
   "metadata": {},
   "outputs": [
    {
     "data": {
      "text/plain": [
       "date_reported                object\n",
       "date_theft_start     datetime64[ns]\n",
       "hour_theft_start             object\n",
       "date_theft_end               object\n",
       "hour_theft_end               object\n",
       "LOR                          object\n",
       "estimated_value              object\n",
       "attempt                      object\n",
       "type_bike                    object\n",
       "theft_type                   object\n",
       "theft_type_detail            object\n",
       "dtype: object"
      ]
     },
     "execution_count": 10,
     "metadata": {},
     "output_type": "execute_result"
    }
   ],
   "source": [
    "df_new.dtypes"
   ]
  },
  {
   "cell_type": "code",
   "execution_count": 11,
   "id": "43f0e07a",
   "metadata": {},
   "outputs": [],
   "source": [
    "# Group dataframe by date and LOR\n",
    "df_new = df_new.pivot_table(index = \"date_theft_start\", values = \"type_bike\", aggfunc= \"count\")\n",
    "\n",
    "df_new.fillna(value = 0, inplace=True)"
   ]
  },
  {
   "cell_type": "code",
   "execution_count": 12,
   "id": "65615b99",
   "metadata": {
    "scrolled": true
   },
   "outputs": [],
   "source": [
    "df_new = df_new.rename(columns={\"type_bike\": \"total\"})"
   ]
  },
  {
   "cell_type": "markdown",
   "id": "4bfd0994",
   "metadata": {},
   "source": [
    "## Create input array for the prediction"
   ]
  },
  {
   "cell_type": "markdown",
   "id": "3b1d36fa",
   "metadata": {},
   "source": [
    "Steps: \n",
    "- remove the last three days of df_new\n",
    "- add rolling average to df_new\n",
    "- create input array for prediction out of df_new\n",
    "- use the cut_model (that was not re-trained on the df_new) to predict on the input array"
   ]
  },
  {
   "cell_type": "code",
   "execution_count": 13,
   "id": "4223a309",
   "metadata": {},
   "outputs": [
    {
     "name": "stdout",
     "output_type": "stream",
     "text": [
      "(431, 1)\n"
     ]
    },
    {
     "data": {
      "text/plain": [
       "(428, 1)"
      ]
     },
     "execution_count": 13,
     "metadata": {},
     "output_type": "execute_result"
    }
   ],
   "source": [
    "# remove last three days of df_new\n",
    "print(df_new.shape)\n",
    "df_new = df_new[:-3]\n",
    "df_new.shape"
   ]
  },
  {
   "cell_type": "code",
   "execution_count": 329,
   "id": "07acf43f",
   "metadata": {},
   "outputs": [],
   "source": [
    "# add rolling average\n",
    "df_new = calculate_rolling_average(df_new, 3)"
   ]
  },
  {
   "cell_type": "code",
   "execution_count": 330,
   "id": "84a27d1c",
   "metadata": {},
   "outputs": [
    {
     "data": {
      "text/plain": [
       "(1, 31, 2)"
      ]
     },
     "execution_count": 330,
     "metadata": {},
     "output_type": "execute_result"
    }
   ],
   "source": [
    "# create input array\n",
    "pred_array = np.array(df_new[-31-1:-1])\n",
    "pred_array = np.expand_dims(pred_array, 0)\n",
    "pred_array.shape"
   ]
  },
  {
   "cell_type": "code",
   "execution_count": 331,
   "id": "27f22e3a",
   "metadata": {
    "scrolled": true
   },
   "outputs": [
    {
     "data": {
      "text/plain": [
       "array([[25.240082]], dtype=float32)"
      ]
     },
     "execution_count": 331,
     "metadata": {},
     "output_type": "execute_result"
    }
   ],
   "source": [
    "# predict on that array using cut_model\n",
    "cut_model.predict(pred_array)"
   ]
  },
  {
   "cell_type": "code",
   "execution_count": 332,
   "id": "936a003d",
   "metadata": {},
   "outputs": [
    {
     "data": {
      "text/plain": [
       "24"
      ]
     },
     "execution_count": 332,
     "metadata": {},
     "output_type": "execute_result"
    }
   ],
   "source": [
    "# compare with actual value\n",
    "df_new.total[-1]"
   ]
  },
  {
   "cell_type": "markdown",
   "id": "c5f7bc89",
   "metadata": {},
   "source": [
    "# Feature Selection"
   ]
  },
  {
   "cell_type": "code",
   "execution_count": 486,
   "id": "34fd1e0c",
   "metadata": {},
   "outputs": [
    {
     "data": {
      "text/html": [
       "<div>\n",
       "<style scoped>\n",
       "    .dataframe tbody tr th:only-of-type {\n",
       "        vertical-align: middle;\n",
       "    }\n",
       "\n",
       "    .dataframe tbody tr th {\n",
       "        vertical-align: top;\n",
       "    }\n",
       "\n",
       "    .dataframe thead th {\n",
       "        text-align: right;\n",
       "    }\n",
       "</style>\n",
       "<table border=\"1\" class=\"dataframe\">\n",
       "  <thead>\n",
       "    <tr style=\"text-align: right;\">\n",
       "      <th></th>\n",
       "      <th>the_temp</th>\n",
       "      <th>wind_speed</th>\n",
       "      <th>air_pressure</th>\n",
       "      <th>humidity</th>\n",
       "      <th>visibility</th>\n",
       "      <th>daylight_hours</th>\n",
       "      <th>isholidays</th>\n",
       "      <th>weekday</th>\n",
       "      <th>weeknum</th>\n",
       "      <th>total</th>\n",
       "    </tr>\n",
       "    <tr>\n",
       "      <th>date</th>\n",
       "      <th></th>\n",
       "      <th></th>\n",
       "      <th></th>\n",
       "      <th></th>\n",
       "      <th></th>\n",
       "      <th></th>\n",
       "      <th></th>\n",
       "      <th></th>\n",
       "      <th></th>\n",
       "      <th></th>\n",
       "    </tr>\n",
       "  </thead>\n",
       "  <tbody>\n",
       "    <tr>\n",
       "      <th>2021-01-01</th>\n",
       "      <td>2.070</td>\n",
       "      <td>3.020726</td>\n",
       "      <td>1007.0</td>\n",
       "      <td>93</td>\n",
       "      <td>6.031650</td>\n",
       "      <td>7.840000</td>\n",
       "      <td>1</td>\n",
       "      <td>4</td>\n",
       "      <td>53</td>\n",
       "      <td>16.0</td>\n",
       "    </tr>\n",
       "    <tr>\n",
       "      <th>2021-01-02</th>\n",
       "      <td>2.465</td>\n",
       "      <td>2.666541</td>\n",
       "      <td>1015.0</td>\n",
       "      <td>89</td>\n",
       "      <td>12.863316</td>\n",
       "      <td>7.861389</td>\n",
       "      <td>0</td>\n",
       "      <td>5</td>\n",
       "      <td>53</td>\n",
       "      <td>16.0</td>\n",
       "    </tr>\n",
       "    <tr>\n",
       "      <th>2021-01-03</th>\n",
       "      <td>0.985</td>\n",
       "      <td>9.161659</td>\n",
       "      <td>1015.0</td>\n",
       "      <td>96</td>\n",
       "      <td>2.144352</td>\n",
       "      <td>7.884722</td>\n",
       "      <td>0</td>\n",
       "      <td>6</td>\n",
       "      <td>53</td>\n",
       "      <td>17.0</td>\n",
       "    </tr>\n",
       "    <tr>\n",
       "      <th>2021-01-04</th>\n",
       "      <td>1.355</td>\n",
       "      <td>6.271227</td>\n",
       "      <td>1017.0</td>\n",
       "      <td>96</td>\n",
       "      <td>2.927901</td>\n",
       "      <td>7.909167</td>\n",
       "      <td>0</td>\n",
       "      <td>0</td>\n",
       "      <td>1</td>\n",
       "      <td>33.0</td>\n",
       "    </tr>\n",
       "    <tr>\n",
       "      <th>2021-01-05</th>\n",
       "      <td>1.270</td>\n",
       "      <td>6.009528</td>\n",
       "      <td>1017.0</td>\n",
       "      <td>94</td>\n",
       "      <td>7.021805</td>\n",
       "      <td>7.935556</td>\n",
       "      <td>0</td>\n",
       "      <td>1</td>\n",
       "      <td>1</td>\n",
       "      <td>29.0</td>\n",
       "    </tr>\n",
       "  </tbody>\n",
       "</table>\n",
       "</div>"
      ],
      "text/plain": [
       "            the_temp  wind_speed  air_pressure  humidity  visibility  \\\n",
       "date                                                                   \n",
       "2021-01-01     2.070    3.020726        1007.0        93    6.031650   \n",
       "2021-01-02     2.465    2.666541        1015.0        89   12.863316   \n",
       "2021-01-03     0.985    9.161659        1015.0        96    2.144352   \n",
       "2021-01-04     1.355    6.271227        1017.0        96    2.927901   \n",
       "2021-01-05     1.270    6.009528        1017.0        94    7.021805   \n",
       "\n",
       "            daylight_hours  isholidays  weekday  weeknum  total  \n",
       "date                                                             \n",
       "2021-01-01        7.840000           1        4       53   16.0  \n",
       "2021-01-02        7.861389           0        5       53   16.0  \n",
       "2021-01-03        7.884722           0        6       53   17.0  \n",
       "2021-01-04        7.909167           0        0        1   33.0  \n",
       "2021-01-05        7.935556           0        1        1   29.0  "
      ]
     },
     "execution_count": 486,
     "metadata": {},
     "output_type": "execute_result"
    }
   ],
   "source": [
    "df_combined.head()"
   ]
  },
  {
   "cell_type": "markdown",
   "id": "ac688561",
   "metadata": {},
   "source": [
    "## Check for correlation of added features"
   ]
  },
  {
   "cell_type": "code",
   "execution_count": 487,
   "id": "b2552bc4",
   "metadata": {},
   "outputs": [
    {
     "data": {
      "image/png": "[encoded data removed]",
      "text/plain": [
       "<Figure size 432x288 with 2 Axes>"
      ]
     },
     "metadata": {
      "needs_background": "light"
     },
     "output_type": "display_data"
    }
   ],
   "source": [
    "corr = df_combined.corr()\n",
    "sns.heatmap(corr, \n",
    "           xticklabels= corr.columns, \n",
    "           yticklabels=corr.columns, \n",
    "           cmap = \"YlGnBu\");"
   ]
  },
  {
   "cell_type": "code",
   "execution_count": 488,
   "id": "c4257e59",
   "metadata": {},
   "outputs": [
    {
     "data": {
      "text/html": [
       "<div>\n",
       "<style scoped>\n",
       "    .dataframe tbody tr th:only-of-type {\n",
       "        vertical-align: middle;\n",
       "    }\n",
       "\n",
       "    .dataframe tbody tr th {\n",
       "        vertical-align: top;\n",
       "    }\n",
       "\n",
       "    .dataframe thead th {\n",
       "        text-align: right;\n",
       "    }\n",
       "</style>\n",
       "<table border=\"1\" class=\"dataframe\">\n",
       "  <thead>\n",
       "    <tr style=\"text-align: right;\">\n",
       "      <th></th>\n",
       "      <th>feature_1</th>\n",
       "      <th>feature_2</th>\n",
       "      <th>correlation</th>\n",
       "    </tr>\n",
       "  </thead>\n",
       "  <tbody>\n",
       "    <tr>\n",
       "      <th>5</th>\n",
       "      <td>the_temp</td>\n",
       "      <td>daylight_hours</td>\n",
       "      <td>0.818590</td>\n",
       "    </tr>\n",
       "    <tr>\n",
       "      <th>50</th>\n",
       "      <td>daylight_hours</td>\n",
       "      <td>the_temp</td>\n",
       "      <td>0.818590</td>\n",
       "    </tr>\n",
       "    <tr>\n",
       "      <th>9</th>\n",
       "      <td>the_temp</td>\n",
       "      <td>total</td>\n",
       "      <td>0.662904</td>\n",
       "    </tr>\n",
       "    <tr>\n",
       "      <th>90</th>\n",
       "      <td>total</td>\n",
       "      <td>the_temp</td>\n",
       "      <td>0.662904</td>\n",
       "    </tr>\n",
       "    <tr>\n",
       "      <th>98</th>\n",
       "      <td>total</td>\n",
       "      <td>weeknum</td>\n",
       "      <td>0.454499</td>\n",
       "    </tr>\n",
       "  </tbody>\n",
       "</table>\n",
       "</div>"
      ],
      "text/plain": [
       "         feature_1       feature_2  correlation\n",
       "5         the_temp  daylight_hours     0.818590\n",
       "50  daylight_hours        the_temp     0.818590\n",
       "9         the_temp           total     0.662904\n",
       "90           total        the_temp     0.662904\n",
       "98           total         weeknum     0.454499"
      ]
     },
     "execution_count": 488,
     "metadata": {},
     "output_type": "execute_result"
    }
   ],
   "source": [
    "corr_df = corr.unstack().reset_index() # Unstack correlation matrix \n",
    "\n",
    "corr_df.columns = ['feature_1','feature_2', 'correlation'] # rename columns\n",
    "\n",
    "corr_df.sort_values(by=\"correlation\",ascending=False, inplace=True) # sort by correlation\n",
    "\n",
    "corr_df = corr_df[corr_df['feature_1'] != corr_df['feature_2']] # Remove self correlation\n",
    "\n",
    "corr_df.head()"
   ]
  },
  {
   "cell_type": "code",
   "execution_count": 489,
   "id": "32555329",
   "metadata": {},
   "outputs": [],
   "source": [
    "# drop daylight_hours as it is highly correlated with the_temp\n",
    "df_combined.drop(columns=[\"daylight_hours\"], inplace = True)"
   ]
  },
  {
   "cell_type": "code",
   "execution_count": 492,
   "id": "37895a63",
   "metadata": {},
   "outputs": [
    {
     "name": "stderr",
     "output_type": "stream",
     "text": [
      "/tmp/ipykernel_4484/4049225974.py:3: SettingWithCopyWarning: \n",
      "A value is trying to be set on a copy of a slice from a DataFrame.\n",
      "Try using .loc[row_indexer,col_indexer] = value instead\n",
      "\n",
      "See the caveats in the documentation: https://pandas.pydata.org/pandas-docs/stable/user_guide/indexing.html#returning-a-view-versus-a-copy\n",
      "  df[\"total_moving_average\"] = df[\"total\"].rolling(window = window_size, center = True).mean().fillna(fill_value)\n"
     ]
    }
   ],
   "source": [
    "# Compute rolling average\n",
    "df_combined = calculate_rolling_average(df_combined, 3)"
   ]
  },
  {
   "cell_type": "markdown",
   "id": "9f8366e9",
   "metadata": {},
   "source": [
    "## Change weekday to isweekend"
   ]
  },
  {
   "cell_type": "code",
   "execution_count": 496,
   "id": "7fdaa89b",
   "metadata": {},
   "outputs": [
    {
     "name": "stderr",
     "output_type": "stream",
     "text": [
      "/tmp/ipykernel_4484/4261972927.py:2: SettingWithCopyWarning: \n",
      "A value is trying to be set on a copy of a slice from a DataFrame.\n",
      "Try using .loc[row_indexer,col_indexer] = value instead\n",
      "\n",
      "See the caveats in the documentation: https://pandas.pydata.org/pandas-docs/stable/user_guide/indexing.html#returning-a-view-versus-a-copy\n",
      "  df_combined.weekday = df_combined.weekday.map(di)\n"
     ]
    }
   ],
   "source": [
    "di = {0: 0, 1: 0, 2: 0, 3: 0, 4: 0, 5: 1, 6: 1}\n",
    "df_combined.weekday = df_combined.weekday.map(di)"
   ]
  },
  {
   "cell_type": "code",
   "execution_count": 497,
   "id": "df18a91d",
   "metadata": {},
   "outputs": [
    {
     "name": "stderr",
     "output_type": "stream",
     "text": [
      "/tmp/ipykernel_4484/21711443.py:1: SettingWithCopyWarning: \n",
      "A value is trying to be set on a copy of a slice from a DataFrame\n",
      "\n",
      "See the caveats in the documentation: https://pandas.pydata.org/pandas-docs/stable/user_guide/indexing.html#returning-a-view-versus-a-copy\n",
      "  df_combined.rename(columns= {\"weekday\": \"isweekend\"}, inplace = True)\n"
     ]
    }
   ],
   "source": [
    "df_combined.rename(columns= {\"weekday\": \"isweekend\"}, inplace = True)"
   ]
  },
  {
   "cell_type": "code",
   "execution_count": 498,
   "id": "5c437c2b",
   "metadata": {},
   "outputs": [
    {
     "data": {
      "text/html": [
       "<div>\n",
       "<style scoped>\n",
       "    .dataframe tbody tr th:only-of-type {\n",
       "        vertical-align: middle;\n",
       "    }\n",
       "\n",
       "    .dataframe tbody tr th {\n",
       "        vertical-align: top;\n",
       "    }\n",
       "\n",
       "    .dataframe thead th {\n",
       "        text-align: right;\n",
       "    }\n",
       "</style>\n",
       "<table border=\"1\" class=\"dataframe\">\n",
       "  <thead>\n",
       "    <tr style=\"text-align: right;\">\n",
       "      <th></th>\n",
       "      <th>the_temp</th>\n",
       "      <th>wind_speed</th>\n",
       "      <th>air_pressure</th>\n",
       "      <th>humidity</th>\n",
       "      <th>visibility</th>\n",
       "      <th>isholidays</th>\n",
       "      <th>isweekend</th>\n",
       "      <th>weeknum</th>\n",
       "      <th>total</th>\n",
       "      <th>total_moving_average</th>\n",
       "    </tr>\n",
       "    <tr>\n",
       "      <th>date</th>\n",
       "      <th></th>\n",
       "      <th></th>\n",
       "      <th></th>\n",
       "      <th></th>\n",
       "      <th></th>\n",
       "      <th></th>\n",
       "      <th></th>\n",
       "      <th></th>\n",
       "      <th></th>\n",
       "      <th></th>\n",
       "    </tr>\n",
       "  </thead>\n",
       "  <tbody>\n",
       "    <tr>\n",
       "      <th>2022-02-21</th>\n",
       "      <td>6.060</td>\n",
       "      <td>16.053397</td>\n",
       "      <td>994.0</td>\n",
       "      <td>72</td>\n",
       "      <td>12.985726</td>\n",
       "      <td>0</td>\n",
       "      <td>0</td>\n",
       "      <td>8</td>\n",
       "      <td>44.0</td>\n",
       "      <td>42.000000</td>\n",
       "    </tr>\n",
       "    <tr>\n",
       "      <th>2022-02-22</th>\n",
       "      <td>6.145</td>\n",
       "      <td>11.185084</td>\n",
       "      <td>1012.5</td>\n",
       "      <td>73</td>\n",
       "      <td>12.052116</td>\n",
       "      <td>0</td>\n",
       "      <td>0</td>\n",
       "      <td>8</td>\n",
       "      <td>51.0</td>\n",
       "      <td>44.000000</td>\n",
       "    </tr>\n",
       "    <tr>\n",
       "      <th>2022-02-23</th>\n",
       "      <td>8.520</td>\n",
       "      <td>11.603206</td>\n",
       "      <td>1021.5</td>\n",
       "      <td>69</td>\n",
       "      <td>12.769178</td>\n",
       "      <td>0</td>\n",
       "      <td>0</td>\n",
       "      <td>8</td>\n",
       "      <td>37.0</td>\n",
       "      <td>46.666667</td>\n",
       "    </tr>\n",
       "    <tr>\n",
       "      <th>2022-02-24</th>\n",
       "      <td>9.210</td>\n",
       "      <td>9.855780</td>\n",
       "      <td>1011.5</td>\n",
       "      <td>67</td>\n",
       "      <td>14.118175</td>\n",
       "      <td>0</td>\n",
       "      <td>0</td>\n",
       "      <td>8</td>\n",
       "      <td>52.0</td>\n",
       "      <td>43.666667</td>\n",
       "    </tr>\n",
       "    <tr>\n",
       "      <th>2022-02-25</th>\n",
       "      <td>6.305</td>\n",
       "      <td>11.460817</td>\n",
       "      <td>1016.0</td>\n",
       "      <td>64</td>\n",
       "      <td>10.139846</td>\n",
       "      <td>0</td>\n",
       "      <td>0</td>\n",
       "      <td>8</td>\n",
       "      <td>42.0</td>\n",
       "      <td>43.666667</td>\n",
       "    </tr>\n",
       "  </tbody>\n",
       "</table>\n",
       "</div>"
      ],
      "text/plain": [
       "            the_temp  wind_speed  air_pressure  humidity  visibility  \\\n",
       "date                                                                   \n",
       "2022-02-21     6.060   16.053397         994.0        72   12.985726   \n",
       "2022-02-22     6.145   11.185084        1012.5        73   12.052116   \n",
       "2022-02-23     8.520   11.603206        1021.5        69   12.769178   \n",
       "2022-02-24     9.210    9.855780        1011.5        67   14.118175   \n",
       "2022-02-25     6.305   11.460817        1016.0        64   10.139846   \n",
       "\n",
       "            isholidays  isweekend  weeknum  total  total_moving_average  \n",
       "date                                                                     \n",
       "2022-02-21           0          0        8   44.0             42.000000  \n",
       "2022-02-22           0          0        8   51.0             44.000000  \n",
       "2022-02-23           0          0        8   37.0             46.666667  \n",
       "2022-02-24           0          0        8   52.0             43.666667  \n",
       "2022-02-25           0          0        8   42.0             43.666667  "
      ]
     },
     "execution_count": 498,
     "metadata": {},
     "output_type": "execute_result"
    }
   ],
   "source": [
    "df_combined.tail()"
   ]
  },
  {
   "cell_type": "markdown",
   "id": "46bb4fd6",
   "metadata": {},
   "source": [
    "## Comparison model with all features"
   ]
  },
  {
   "cell_type": "code",
   "execution_count": 506,
   "id": "83469b0f",
   "metadata": {},
   "outputs": [],
   "source": [
    "feat_model = create_opt_model()"
   ]
  },
  {
   "cell_type": "code",
   "execution_count": 508,
   "id": "f93c173e",
   "metadata": {},
   "outputs": [],
   "source": [
    "len_ = int((len(df_combined[:-3])) * 0.8)\n",
    "X_train_feat, y_train_feat = get_X_y(31,1, df_combined.iloc[:len_, :])\n",
    "X_test_feat, y_test_feat = get_X_y(31, 1, df_combined.iloc[len_:-3, :])"
   ]
  },
  {
   "cell_type": "code",
   "execution_count": 509,
   "id": "55971ecc",
   "metadata": {},
   "outputs": [
    {
     "name": "stdout",
     "output_type": "stream",
     "text": [
      "2/2 [==============================] - 0s 7ms/step - loss: 159.8996 - mean_absolute_percentage_error: 43.8260\n",
      "2/2 [==============================] - 0s 7ms/step - loss: 104.2672 - mean_absolute_percentage_error: 16.4440\n",
      "2/2 [==============================] - 0s 7ms/step - loss: 165.6155 - mean_absolute_percentage_error: 18.1009\n",
      "2/2 [==============================] - 0s 7ms/step - loss: 220.9571 - mean_absolute_percentage_error: 16.8865\n",
      "2/2 [==============================] - 0s 7ms/step - loss: 153.7454 - mean_absolute_percentage_error: 15.8969\n"
     ]
    }
   ],
   "source": [
    "cv_results = model_cross_validation(feat_model, X_train_feat, y_train_feat)"
   ]
  },
  {
   "cell_type": "code",
   "execution_count": 512,
   "id": "a2332dc2",
   "metadata": {},
   "outputs": [
    {
     "data": {
      "text/plain": [
       "22.23086757659912"
      ]
     },
     "execution_count": 512,
     "metadata": {},
     "output_type": "execute_result"
    }
   ],
   "source": [
    "np.mean(cv_results, axis = 0)[1]"
   ]
  },
  {
   "cell_type": "code",
   "execution_count": 510,
   "id": "e9cc1db7",
   "metadata": {},
   "outputs": [
    {
     "name": "stdout",
     "output_type": "stream",
     "text": [
      "2/2 [==============================] - 0s 8ms/step - loss: 152.4709 - mean_absolute_percentage_error: 28.8359\n"
     ]
    }
   ],
   "source": [
    "# evaluate model on test data\n",
    "test_result = feat_model.evaluate(X_test_feat, y_test_feat)[1]"
   ]
  },
  {
   "cell_type": "markdown",
   "id": "12579aab",
   "metadata": {},
   "source": [
    "## Feature permutation"
   ]
  },
  {
   "cell_type": "code",
   "execution_count": 491,
   "id": "6bc5b07a",
   "metadata": {},
   "outputs": [],
   "source": [
    "# Remove the last three observations\n",
    "df_combined = df_combined[:-3]"
   ]
  },
  {
   "cell_type": "markdown",
   "id": "c4bdfe44",
   "metadata": {},
   "source": [
    "We check the influence of \"the_temp\", \"isweekend\" and \"weeknum\" on the overall fit.\n",
    "\n",
    "Steps: \n",
    "- create empty optimal model\n",
    "- drop one of the features\n",
    "- do a 5-Fold-cross-validation on that dataframe\n",
    "- compare the results"
   ]
  },
  {
   "cell_type": "code",
   "execution_count": 499,
   "id": "8d2e3bf4",
   "metadata": {},
   "outputs": [],
   "source": [
    "# First create a dataframe that only has the necessary features\n",
    "df_combined = df_combined[[\"the_temp\", \"isweekend\", \"weeknum\", \"total\", \"total_moving_average\"]]"
   ]
  },
  {
   "cell_type": "code",
   "execution_count": 500,
   "id": "43343fe3",
   "metadata": {},
   "outputs": [
    {
     "data": {
      "text/html": [
       "<div>\n",
       "<style scoped>\n",
       "    .dataframe tbody tr th:only-of-type {\n",
       "        vertical-align: middle;\n",
       "    }\n",
       "\n",
       "    .dataframe tbody tr th {\n",
       "        vertical-align: top;\n",
       "    }\n",
       "\n",
       "    .dataframe thead th {\n",
       "        text-align: right;\n",
       "    }\n",
       "</style>\n",
       "<table border=\"1\" class=\"dataframe\">\n",
       "  <thead>\n",
       "    <tr style=\"text-align: right;\">\n",
       "      <th></th>\n",
       "      <th>the_temp</th>\n",
       "      <th>isweekend</th>\n",
       "      <th>weeknum</th>\n",
       "      <th>total</th>\n",
       "      <th>total_moving_average</th>\n",
       "    </tr>\n",
       "    <tr>\n",
       "      <th>date</th>\n",
       "      <th></th>\n",
       "      <th></th>\n",
       "      <th></th>\n",
       "      <th></th>\n",
       "      <th></th>\n",
       "    </tr>\n",
       "  </thead>\n",
       "  <tbody>\n",
       "    <tr>\n",
       "      <th>2021-01-01</th>\n",
       "      <td>2.070</td>\n",
       "      <td>0</td>\n",
       "      <td>53</td>\n",
       "      <td>16.0</td>\n",
       "      <td>43.666667</td>\n",
       "    </tr>\n",
       "    <tr>\n",
       "      <th>2021-01-02</th>\n",
       "      <td>2.465</td>\n",
       "      <td>1</td>\n",
       "      <td>53</td>\n",
       "      <td>16.0</td>\n",
       "      <td>16.333333</td>\n",
       "    </tr>\n",
       "    <tr>\n",
       "      <th>2021-01-03</th>\n",
       "      <td>0.985</td>\n",
       "      <td>1</td>\n",
       "      <td>53</td>\n",
       "      <td>17.0</td>\n",
       "      <td>22.000000</td>\n",
       "    </tr>\n",
       "    <tr>\n",
       "      <th>2021-01-04</th>\n",
       "      <td>1.355</td>\n",
       "      <td>0</td>\n",
       "      <td>1</td>\n",
       "      <td>33.0</td>\n",
       "      <td>26.333333</td>\n",
       "    </tr>\n",
       "    <tr>\n",
       "      <th>2021-01-05</th>\n",
       "      <td>1.270</td>\n",
       "      <td>0</td>\n",
       "      <td>1</td>\n",
       "      <td>29.0</td>\n",
       "      <td>33.000000</td>\n",
       "    </tr>\n",
       "  </tbody>\n",
       "</table>\n",
       "</div>"
      ],
      "text/plain": [
       "            the_temp  isweekend  weeknum  total  total_moving_average\n",
       "date                                                                 \n",
       "2021-01-01     2.070          0       53   16.0             43.666667\n",
       "2021-01-02     2.465          1       53   16.0             16.333333\n",
       "2021-01-03     0.985          1       53   17.0             22.000000\n",
       "2021-01-04     1.355          0        1   33.0             26.333333\n",
       "2021-01-05     1.270          0        1   29.0             33.000000"
      ]
     },
     "execution_count": 500,
     "metadata": {},
     "output_type": "execute_result"
    }
   ],
   "source": [
    "df_combined.head()"
   ]
  },
  {
   "cell_type": "code",
   "execution_count": 501,
   "id": "723bfcae",
   "metadata": {},
   "outputs": [
    {
     "data": {
      "text/plain": [
       "Index(['the_temp', 'isweekend', 'weeknum', 'total', 'total_moving_average'], dtype='object')"
      ]
     },
     "execution_count": 501,
     "metadata": {},
     "output_type": "execute_result"
    }
   ],
   "source": [
    "df_combined.columns"
   ]
  },
  {
   "cell_type": "code",
   "execution_count": 502,
   "id": "1bc518ab",
   "metadata": {},
   "outputs": [
    {
     "data": {
      "text/plain": [
       "['the_temp', 'isweekend', 'weeknum', 'total_moving_average']"
      ]
     },
     "execution_count": 502,
     "metadata": {},
     "output_type": "execute_result"
    }
   ],
   "source": [
    "feats = list(df_combined.columns)\n",
    "feats.remove(\"total\")\n",
    "feats"
   ]
  },
  {
   "cell_type": "code",
   "execution_count": 504,
   "id": "2a17154a",
   "metadata": {
    "collapsed": true
   },
   "outputs": [
    {
     "name": "stdout",
     "output_type": "stream",
     "text": [
      "2/2 [==============================] - 0s 7ms/step - loss: 82.7699 - mean_absolute_percentage_error: 30.1633\n",
      "2/2 [==============================] - 0s 7ms/step - loss: 22.4316 - mean_absolute_percentage_error: 7.3949\n",
      "2/2 [==============================] - 0s 7ms/step - loss: 55.6173 - mean_absolute_percentage_error: 8.5319\n",
      "2/2 [==============================] - 0s 7ms/step - loss: 133.6525 - mean_absolute_percentage_error: 11.7777\n",
      "2/2 [==============================] - 0s 8ms/step - loss: 53.2502 - mean_absolute_percentage_error: 8.7118\n",
      "2/2 [==============================] - 0s 7ms/step - loss: 11.5164 - mean_absolute_percentage_error: 6.4467\n",
      "2/2 [==============================] - 0s 8ms/step - loss: 49.3291 - mean_absolute_percentage_error: 21.9265\n",
      "2/2 [==============================] - 0s 7ms/step - loss: 12.6720 - mean_absolute_percentage_error: 5.7822\n",
      "2/2 [==============================] - 0s 7ms/step - loss: 68.9110 - mean_absolute_percentage_error: 8.5878\n",
      "2/2 [==============================] - 0s 7ms/step - loss: 173.8724 - mean_absolute_percentage_error: 14.2757\n",
      "2/2 [==============================] - 0s 7ms/step - loss: 94.6117 - mean_absolute_percentage_error: 12.6537\n",
      "2/2 [==============================] - 0s 7ms/step - loss: 38.6584 - mean_absolute_percentage_error: 13.0718\n",
      "2/2 [==============================] - 0s 7ms/step - loss: 789.0080 - mean_absolute_percentage_error: 101.6853\n",
      "2/2 [==============================] - 0s 7ms/step - loss: 204.0955 - mean_absolute_percentage_error: 27.5975\n",
      "2/2 [==============================] - 0s 7ms/step - loss: 152.6367 - mean_absolute_percentage_error: 17.0193\n",
      "2/2 [==============================] - 0s 7ms/step - loss: 269.2956 - mean_absolute_percentage_error: 18.6075\n",
      "2/2 [==============================] - 0s 7ms/step - loss: 163.6184 - mean_absolute_percentage_error: 16.3552\n",
      "2/2 [==============================] - 0s 7ms/step - loss: 470.4081 - mean_absolute_percentage_error: 56.3495\n",
      "2/2 [==============================] - 0s 7ms/step - loss: 789.5176 - mean_absolute_percentage_error: 101.7178\n",
      "2/2 [==============================] - 0s 7ms/step - loss: 125.6454 - mean_absolute_percentage_error: 19.7699\n",
      "2/2 [==============================] - 0s 7ms/step - loss: 158.0939 - mean_absolute_percentage_error: 18.4463\n",
      "2/2 [==============================] - 0s 7ms/step - loss: 196.7920 - mean_absolute_percentage_error: 15.8673\n",
      "2/2 [==============================] - 0s 8ms/step - loss: 143.7587 - mean_absolute_percentage_error: 15.7520\n",
      "2/2 [==============================] - 0s 8ms/step - loss: 259.5283 - mean_absolute_percentage_error: 33.2705\n"
     ]
    }
   ],
   "source": [
    "feat_dict = {}\n",
    "for feature in feats: \n",
    "    feat_list = []\n",
    "    # instantiate empty model\n",
    "    model = create_opt_model()\n",
    "    # drop one of the features \n",
    "    df = df_combined.drop(columns = [feature])\n",
    "    # create training and test arrays\n",
    "    len_ = int((len(df[:-3])) * 0.8)\n",
    "    X_train, y_train = get_X_y(31,1, df.iloc[:len_, :])\n",
    "    X_test, y_test = get_X_y(31, 1, df.iloc[len_:-3, :])\n",
    "    #5 Fold cross validation\n",
    "    cv_results = model_cross_validation(model, X_train, y_train)\n",
    "    \n",
    "    # evaluate model on test data\n",
    "    test_result = model.evaluate(X_test, y_test)[1]\n",
    "    # save output of cross validation\n",
    "    feat_dict[feature] = {\"CV result\": np.mean(cv_results, axis = 0)[1], \n",
    "                          \"Test result\": test_result}\n",
    "    "
   ]
  },
  {
   "cell_type": "code",
   "execution_count": 505,
   "id": "189abfe2",
   "metadata": {
    "scrolled": true
   },
   "outputs": [
    {
     "data": {
      "text/html": [
       "<div>\n",
       "<style scoped>\n",
       "    .dataframe tbody tr th:only-of-type {\n",
       "        vertical-align: middle;\n",
       "    }\n",
       "\n",
       "    .dataframe tbody tr th {\n",
       "        vertical-align: top;\n",
       "    }\n",
       "\n",
       "    .dataframe thead th {\n",
       "        text-align: right;\n",
       "    }\n",
       "</style>\n",
       "<table border=\"1\" class=\"dataframe\">\n",
       "  <thead>\n",
       "    <tr style=\"text-align: right;\">\n",
       "      <th></th>\n",
       "      <th>the_temp</th>\n",
       "      <th>isweekend</th>\n",
       "      <th>weeknum</th>\n",
       "      <th>total_moving_average</th>\n",
       "    </tr>\n",
       "  </thead>\n",
       "  <tbody>\n",
       "    <tr>\n",
       "      <th>CV result</th>\n",
       "      <td>13.315907</td>\n",
       "      <td>12.645178</td>\n",
       "      <td>36.252948</td>\n",
       "      <td>34.310630</td>\n",
       "    </tr>\n",
       "    <tr>\n",
       "      <th>Test result</th>\n",
       "      <td>6.446708</td>\n",
       "      <td>13.071792</td>\n",
       "      <td>56.349522</td>\n",
       "      <td>33.270508</td>\n",
       "    </tr>\n",
       "  </tbody>\n",
       "</table>\n",
       "</div>"
      ],
      "text/plain": [
       "              the_temp  isweekend    weeknum  total_moving_average\n",
       "CV result    13.315907  12.645178  36.252948             34.310630\n",
       "Test result   6.446708  13.071792  56.349522             33.270508"
      ]
     },
     "execution_count": 505,
     "metadata": {},
     "output_type": "execute_result"
    }
   ],
   "source": [
    "pd.DataFrame(feat_dict)"
   ]
  },
  {
   "cell_type": "markdown",
   "id": "3060e6cc",
   "metadata": {},
   "source": [
    "From the feature permutation it seems that dropping \"the_temp\" and \"isweekend\" increases MAPE. "
   ]
  },
  {
   "cell_type": "markdown",
   "id": "0b842acf",
   "metadata": {},
   "source": [
    "## Run model with features \"total_moving_average\" and \"weeknum\""
   ]
  },
  {
   "cell_type": "code",
   "execution_count": 514,
   "id": "679acefe",
   "metadata": {},
   "outputs": [],
   "source": [
    "added_feat_model = create_opt_model()"
   ]
  },
  {
   "cell_type": "code",
   "execution_count": 515,
   "id": "c1645059",
   "metadata": {},
   "outputs": [],
   "source": [
    "df_combined = df_combined[[\"total\", \"total_moving_average\", \"weeknum\"]]"
   ]
  },
  {
   "cell_type": "code",
   "execution_count": 516,
   "id": "7c4fb794",
   "metadata": {},
   "outputs": [
    {
     "data": {
      "text/html": [
       "<div>\n",
       "<style scoped>\n",
       "    .dataframe tbody tr th:only-of-type {\n",
       "        vertical-align: middle;\n",
       "    }\n",
       "\n",
       "    .dataframe tbody tr th {\n",
       "        vertical-align: top;\n",
       "    }\n",
       "\n",
       "    .dataframe thead th {\n",
       "        text-align: right;\n",
       "    }\n",
       "</style>\n",
       "<table border=\"1\" class=\"dataframe\">\n",
       "  <thead>\n",
       "    <tr style=\"text-align: right;\">\n",
       "      <th></th>\n",
       "      <th>total</th>\n",
       "      <th>total_moving_average</th>\n",
       "      <th>weeknum</th>\n",
       "    </tr>\n",
       "    <tr>\n",
       "      <th>date</th>\n",
       "      <th></th>\n",
       "      <th></th>\n",
       "      <th></th>\n",
       "    </tr>\n",
       "  </thead>\n",
       "  <tbody>\n",
       "    <tr>\n",
       "      <th>2021-01-01</th>\n",
       "      <td>16.0</td>\n",
       "      <td>43.666667</td>\n",
       "      <td>53</td>\n",
       "    </tr>\n",
       "    <tr>\n",
       "      <th>2021-01-02</th>\n",
       "      <td>16.0</td>\n",
       "      <td>16.333333</td>\n",
       "      <td>53</td>\n",
       "    </tr>\n",
       "    <tr>\n",
       "      <th>2021-01-03</th>\n",
       "      <td>17.0</td>\n",
       "      <td>22.000000</td>\n",
       "      <td>53</td>\n",
       "    </tr>\n",
       "    <tr>\n",
       "      <th>2021-01-04</th>\n",
       "      <td>33.0</td>\n",
       "      <td>26.333333</td>\n",
       "      <td>1</td>\n",
       "    </tr>\n",
       "    <tr>\n",
       "      <th>2021-01-05</th>\n",
       "      <td>29.0</td>\n",
       "      <td>33.000000</td>\n",
       "      <td>1</td>\n",
       "    </tr>\n",
       "  </tbody>\n",
       "</table>\n",
       "</div>"
      ],
      "text/plain": [
       "            total  total_moving_average  weeknum\n",
       "date                                            \n",
       "2021-01-01   16.0             43.666667       53\n",
       "2021-01-02   16.0             16.333333       53\n",
       "2021-01-03   17.0             22.000000       53\n",
       "2021-01-04   33.0             26.333333        1\n",
       "2021-01-05   29.0             33.000000        1"
      ]
     },
     "execution_count": 516,
     "metadata": {},
     "output_type": "execute_result"
    }
   ],
   "source": [
    "df_combined.head()"
   ]
  },
  {
   "cell_type": "code",
   "execution_count": 517,
   "id": "853a6524",
   "metadata": {},
   "outputs": [],
   "source": [
    "len_ = int((len(df_combined[:-3])) * 0.8)\n",
    "X_train_feat, y_train_feat = get_X_y(31,1, df_combined.iloc[:len_, :])\n",
    "X_test_feat, y_test_feat = get_X_y(31, 1, df_combined.iloc[len_:-3, :])"
   ]
  },
  {
   "cell_type": "code",
   "execution_count": 518,
   "id": "8c9a8021",
   "metadata": {},
   "outputs": [
    {
     "name": "stdout",
     "output_type": "stream",
     "text": [
      "2/2 [==============================] - 0s 7ms/step - loss: 115.1957 - mean_absolute_percentage_error: 36.8557\n",
      "2/2 [==============================] - 0s 7ms/step - loss: 23.7786 - mean_absolute_percentage_error: 7.7668\n",
      "2/2 [==============================] - 0s 7ms/step - loss: 92.6943 - mean_absolute_percentage_error: 11.8468\n",
      "2/2 [==============================] - 0s 7ms/step - loss: 180.5932 - mean_absolute_percentage_error: 14.9536\n",
      "2/2 [==============================] - 0s 8ms/step - loss: 62.2069 - mean_absolute_percentage_error: 10.3376\n"
     ]
    }
   ],
   "source": [
    "cv_results = model_cross_validation(added_feat_model, X_train_feat, y_train_feat)"
   ]
  },
  {
   "cell_type": "code",
   "execution_count": 519,
   "id": "7a92a7ab",
   "metadata": {},
   "outputs": [
    {
     "data": {
      "text/plain": [
       "16.35210256576538"
      ]
     },
     "execution_count": 519,
     "metadata": {},
     "output_type": "execute_result"
    }
   ],
   "source": [
    "np.mean(cv_results, axis = 0)[1]"
   ]
  },
  {
   "cell_type": "code",
   "execution_count": 520,
   "id": "ba5c0e1e",
   "metadata": {},
   "outputs": [
    {
     "name": "stdout",
     "output_type": "stream",
     "text": [
      "2/2 [==============================] - 0s 6ms/step - loss: 17.1255 - mean_absolute_percentage_error: 8.9108\n"
     ]
    }
   ],
   "source": [
    "# evaluate model on test data\n",
    "test_result = added_feat_model.evaluate(X_test_feat, y_test_feat)[1]"
   ]
  },
  {
   "cell_type": "code",
   "execution_count": null,
   "id": "a61a42b4",
   "metadata": {},
   "outputs": [],
   "source": []
  },
  {
   "cell_type": "code",
   "execution_count": null,
   "id": "a6f4231c",
   "metadata": {},
   "outputs": [],
   "source": []
  },
  {
   "cell_type": "code",
   "execution_count": null,
   "id": "ce62e3d4",
   "metadata": {},
   "outputs": [],
   "source": []
  },
  {
   "cell_type": "code",
   "execution_count": null,
   "id": "10597ed1",
   "metadata": {},
   "outputs": [],
   "source": []
  },
  {
   "cell_type": "code",
   "execution_count": null,
   "id": "d0b5ed6a",
   "metadata": {},
   "outputs": [],
   "source": []
  }
 ],
 "metadata": {
  "kernelspec": {
   "display_name": "Python 3 (ipykernel)",
   "language": "python",
   "name": "python3"
  },
  "language_info": {
   "codemirror_mode": {
    "name": "ipython",
    "version": 3
   },
   "file_extension": ".py",
   "mimetype": "text/x-python",
   "name": "python",
   "nbconvert_exporter": "python",
   "pygments_lexer": "ipython3",
   "version": "3.8.12"
  },
  "toc": {
   "base_numbering": 1,
   "nav_menu": {},
   "number_sections": true,
   "sideBar": true,
   "skip_h1_title": false,
   "title_cell": "Table of Contents",
   "title_sidebar": "Contents",
   "toc_cell": false,
   "toc_position": {
    "height": "calc(100% - 180px)",
    "left": "10px",
    "top": "150px",
    "width": "384px"
   },
   "toc_section_display": true,
   "toc_window_display": true
  }
 },
 "nbformat": 4,
 "nbformat_minor": 5
}
