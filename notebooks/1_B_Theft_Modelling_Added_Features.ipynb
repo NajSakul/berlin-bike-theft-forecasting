{
 "cells": [
  {
   "cell_type": "code",
   "execution_count": 320,
   "id": "aaa24f90",
   "metadata": {},
   "outputs": [],
   "source": [
    "import pandas as pd\n",
    "import numpy as np\n",
    "import matplotlib.pyplot as plt\n",
    "import seaborn as sns\n",
    "\n",
    "# metrics\n",
    "from sklearn.metrics import mean_squared_error\n",
    "from sklearn.metrics import mean_absolute_percentage_error\n",
    "\n",
    "# model building\n",
    "from tensorflow.keras import Sequential\n",
    "from tensorflow.keras import layers\n",
    "from tensorflow.keras.layers import Masking\n",
    "from tensorflow.keras.metrics import RootMeanSquaredError\n",
    "from keras.models import Sequential\n",
    "from keras.layers import Dense, SimpleRNN, Flatten\n",
    "from tensorflow.keras.layers import SimpleRNN, LSTM, GRU, Dropout\n",
    "from keras import layers\n",
    "from tensorflow.keras import callbacks\n",
    "from sklearn.preprocessing import MinMaxScaler\n",
    "\n",
    "# URL Download\n",
    "import csv\n",
    "import io\n",
    "import urllib.request\n",
    "import requests"
   ]
  },
  {
   "cell_type": "markdown",
   "id": "c783adfe",
   "metadata": {},
   "source": [
    "# Read in data"
   ]
  },
  {
   "cell_type": "code",
   "execution_count": 2,
   "id": "950a28af",
   "metadata": {},
   "outputs": [
    {
     "name": "stdout",
     "output_type": "stream",
     "text": [
      "/home/jakob/code/hmichinaka/berlin-bike-theft-forecasting/notebooks\r\n"
     ]
    }
   ],
   "source": [
    "!pwd"
   ]
  },
  {
   "cell_type": "code",
   "execution_count": 3,
   "id": "d1a11c3f",
   "metadata": {},
   "outputs": [],
   "source": [
    "df_feat = pd.read_csv(\"../raw_data/daily_features_theft.csv\")"
   ]
  },
  {
   "cell_type": "code",
   "execution_count": 4,
   "id": "e39db876",
   "metadata": {},
   "outputs": [
    {
     "data": {
      "text/plain": [
       "Index(['Unnamed: 0', 'date', 'min_temp', 'max_temp', 'the_temp',\n",
       "       'weather_state_name', 'weather_state_abbr', 'wind_speed',\n",
       "       'wind_direction', 'air_pressure', 'humidity', 'visibility',\n",
       "       'daylight_hours', 'isholidays', 'weekday', 'weeknum'],\n",
       "      dtype='object')"
      ]
     },
     "execution_count": 4,
     "metadata": {},
     "output_type": "execute_result"
    }
   ],
   "source": [
    "df_feat.columns"
   ]
  },
  {
   "cell_type": "code",
   "execution_count": 5,
   "id": "4d1d1e97",
   "metadata": {},
   "outputs": [],
   "source": [
    "df_feat.drop(columns = 'Unnamed: 0', inplace=True )"
   ]
  },
  {
   "cell_type": "code",
   "execution_count": 6,
   "id": "cf34c051",
   "metadata": {},
   "outputs": [
    {
     "data": {
      "text/html": [
       "<div>\n",
       "<style scoped>\n",
       "    .dataframe tbody tr th:only-of-type {\n",
       "        vertical-align: middle;\n",
       "    }\n",
       "\n",
       "    .dataframe tbody tr th {\n",
       "        vertical-align: top;\n",
       "    }\n",
       "\n",
       "    .dataframe thead th {\n",
       "        text-align: right;\n",
       "    }\n",
       "</style>\n",
       "<table border=\"1\" class=\"dataframe\">\n",
       "  <thead>\n",
       "    <tr style=\"text-align: right;\">\n",
       "      <th></th>\n",
       "      <th>date</th>\n",
       "      <th>min_temp</th>\n",
       "      <th>max_temp</th>\n",
       "      <th>the_temp</th>\n",
       "      <th>weather_state_name</th>\n",
       "      <th>weather_state_abbr</th>\n",
       "      <th>wind_speed</th>\n",
       "      <th>wind_direction</th>\n",
       "      <th>air_pressure</th>\n",
       "      <th>humidity</th>\n",
       "      <th>visibility</th>\n",
       "      <th>daylight_hours</th>\n",
       "      <th>isholidays</th>\n",
       "      <th>weekday</th>\n",
       "      <th>weeknum</th>\n",
       "    </tr>\n",
       "  </thead>\n",
       "  <tbody>\n",
       "    <tr>\n",
       "      <th>0</th>\n",
       "      <td>2021-01-01</td>\n",
       "      <td>0.005</td>\n",
       "      <td>2.395</td>\n",
       "      <td>2.070</td>\n",
       "      <td>Sleet</td>\n",
       "      <td>sl</td>\n",
       "      <td>3.020726</td>\n",
       "      <td>227.616640</td>\n",
       "      <td>1007.0</td>\n",
       "      <td>93</td>\n",
       "      <td>6.031650</td>\n",
       "      <td>07:50:24</td>\n",
       "      <td>1</td>\n",
       "      <td>4</td>\n",
       "      <td>53</td>\n",
       "    </tr>\n",
       "    <tr>\n",
       "      <th>1</th>\n",
       "      <td>2021-01-02</td>\n",
       "      <td>-1.135</td>\n",
       "      <td>3.045</td>\n",
       "      <td>2.465</td>\n",
       "      <td>Heavy Cloud</td>\n",
       "      <td>hc</td>\n",
       "      <td>2.666541</td>\n",
       "      <td>193.699868</td>\n",
       "      <td>1015.0</td>\n",
       "      <td>89</td>\n",
       "      <td>12.863316</td>\n",
       "      <td>07:51:41</td>\n",
       "      <td>0</td>\n",
       "      <td>5</td>\n",
       "      <td>53</td>\n",
       "    </tr>\n",
       "    <tr>\n",
       "      <th>2</th>\n",
       "      <td>2021-01-03</td>\n",
       "      <td>-1.315</td>\n",
       "      <td>1.955</td>\n",
       "      <td>0.985</td>\n",
       "      <td>Snow</td>\n",
       "      <td>sn</td>\n",
       "      <td>9.161659</td>\n",
       "      <td>55.677273</td>\n",
       "      <td>1015.0</td>\n",
       "      <td>96</td>\n",
       "      <td>2.144352</td>\n",
       "      <td>07:53:05</td>\n",
       "      <td>0</td>\n",
       "      <td>6</td>\n",
       "      <td>53</td>\n",
       "    </tr>\n",
       "    <tr>\n",
       "      <th>3</th>\n",
       "      <td>2021-01-04</td>\n",
       "      <td>0.030</td>\n",
       "      <td>1.780</td>\n",
       "      <td>1.355</td>\n",
       "      <td>Sleet</td>\n",
       "      <td>sl</td>\n",
       "      <td>6.271227</td>\n",
       "      <td>54.331796</td>\n",
       "      <td>1017.0</td>\n",
       "      <td>96</td>\n",
       "      <td>2.927901</td>\n",
       "      <td>07:54:33</td>\n",
       "      <td>0</td>\n",
       "      <td>0</td>\n",
       "      <td>1</td>\n",
       "    </tr>\n",
       "    <tr>\n",
       "      <th>4</th>\n",
       "      <td>2021-01-05</td>\n",
       "      <td>-0.030</td>\n",
       "      <td>2.730</td>\n",
       "      <td>1.270</td>\n",
       "      <td>Light Rain</td>\n",
       "      <td>lr</td>\n",
       "      <td>6.009528</td>\n",
       "      <td>26.500356</td>\n",
       "      <td>1017.0</td>\n",
       "      <td>94</td>\n",
       "      <td>7.021805</td>\n",
       "      <td>07:56:08</td>\n",
       "      <td>0</td>\n",
       "      <td>1</td>\n",
       "      <td>1</td>\n",
       "    </tr>\n",
       "  </tbody>\n",
       "</table>\n",
       "</div>"
      ],
      "text/plain": [
       "         date  min_temp  max_temp  the_temp weather_state_name  \\\n",
       "0  2021-01-01     0.005     2.395     2.070              Sleet   \n",
       "1  2021-01-02    -1.135     3.045     2.465        Heavy Cloud   \n",
       "2  2021-01-03    -1.315     1.955     0.985               Snow   \n",
       "3  2021-01-04     0.030     1.780     1.355              Sleet   \n",
       "4  2021-01-05    -0.030     2.730     1.270         Light Rain   \n",
       "\n",
       "  weather_state_abbr  wind_speed  wind_direction  air_pressure  humidity  \\\n",
       "0                 sl    3.020726      227.616640        1007.0        93   \n",
       "1                 hc    2.666541      193.699868        1015.0        89   \n",
       "2                 sn    9.161659       55.677273        1015.0        96   \n",
       "3                 sl    6.271227       54.331796        1017.0        96   \n",
       "4                 lr    6.009528       26.500356        1017.0        94   \n",
       "\n",
       "   visibility daylight_hours  isholidays  weekday  weeknum  \n",
       "0    6.031650       07:50:24           1        4       53  \n",
       "1   12.863316       07:51:41           0        5       53  \n",
       "2    2.144352       07:53:05           0        6       53  \n",
       "3    2.927901       07:54:33           0        0        1  \n",
       "4    7.021805       07:56:08           0        1        1  "
      ]
     },
     "execution_count": 6,
     "metadata": {},
     "output_type": "execute_result"
    }
   ],
   "source": [
    "df_feat.head()"
   ]
  },
  {
   "cell_type": "code",
   "execution_count": 7,
   "id": "44eb87bc",
   "metadata": {},
   "outputs": [],
   "source": [
    "df_theft = pd.read_csv(\"../raw_data/bike_theft_cleaned.csv\")"
   ]
  },
  {
   "cell_type": "code",
   "execution_count": 8,
   "id": "3fd1fcf8",
   "metadata": {},
   "outputs": [
    {
     "data": {
      "text/html": [
       "<div>\n",
       "<style scoped>\n",
       "    .dataframe tbody tr th:only-of-type {\n",
       "        vertical-align: middle;\n",
       "    }\n",
       "\n",
       "    .dataframe tbody tr th {\n",
       "        vertical-align: top;\n",
       "    }\n",
       "\n",
       "    .dataframe thead th {\n",
       "        text-align: right;\n",
       "    }\n",
       "</style>\n",
       "<table border=\"1\" class=\"dataframe\">\n",
       "  <thead>\n",
       "    <tr style=\"text-align: right;\">\n",
       "      <th></th>\n",
       "      <th>Unnamed: 0</th>\n",
       "      <th>date_reported</th>\n",
       "      <th>date_theft_start</th>\n",
       "      <th>hour_theft_start</th>\n",
       "      <th>date_theft_end</th>\n",
       "      <th>hour_theft_end</th>\n",
       "      <th>LOR</th>\n",
       "      <th>estimated_value</th>\n",
       "      <th>attempt</th>\n",
       "      <th>type_bike</th>\n",
       "      <th>theft_type</th>\n",
       "      <th>theft_type_detail</th>\n",
       "      <th>datetime_theft_start</th>\n",
       "      <th>datetime_theft_end</th>\n",
       "      <th>Timedelta_theft_end_start</th>\n",
       "      <th>datetime_theft_mean</th>\n",
       "      <th>BZR</th>\n",
       "      <th>PGR</th>\n",
       "      <th>Bezirk</th>\n",
       "    </tr>\n",
       "  </thead>\n",
       "  <tbody>\n",
       "    <tr>\n",
       "      <th>0</th>\n",
       "      <td>0</td>\n",
       "      <td>2022-02-28</td>\n",
       "      <td>2022-02-26</td>\n",
       "      <td>14:00:00</td>\n",
       "      <td>2022-02-26</td>\n",
       "      <td>14:00:00</td>\n",
       "      <td>7100103</td>\n",
       "      <td>580.0</td>\n",
       "      <td>No</td>\n",
       "      <td>bike</td>\n",
       "      <td>Fahrraddiebstahl</td>\n",
       "      <td>Sonstiger schwerer Diebstahl von Fahrrädern</td>\n",
       "      <td>2022-02-26 14:00:00</td>\n",
       "      <td>2022-02-26 14:00:00</td>\n",
       "      <td>0.0</td>\n",
       "      <td>2022-02-26 14:00:00</td>\n",
       "      <td>71001</td>\n",
       "      <td>710</td>\n",
       "      <td>7</td>\n",
       "    </tr>\n",
       "    <tr>\n",
       "      <th>1</th>\n",
       "      <td>1</td>\n",
       "      <td>2022-02-28</td>\n",
       "      <td>2022-02-28</td>\n",
       "      <td>16:00:00</td>\n",
       "      <td>2022-02-28</td>\n",
       "      <td>16:00:00</td>\n",
       "      <td>2100106</td>\n",
       "      <td>0.0</td>\n",
       "      <td>No</td>\n",
       "      <td>man's bike</td>\n",
       "      <td>Fahrraddiebstahl</td>\n",
       "      <td>Sonstiger schwerer Diebstahl von Fahrrädern</td>\n",
       "      <td>2022-02-28 16:00:00</td>\n",
       "      <td>2022-02-28 16:00:00</td>\n",
       "      <td>0.0</td>\n",
       "      <td>2022-02-28 16:00:00</td>\n",
       "      <td>21001</td>\n",
       "      <td>210</td>\n",
       "      <td>2</td>\n",
       "    </tr>\n",
       "    <tr>\n",
       "      <th>2</th>\n",
       "      <td>2</td>\n",
       "      <td>2022-02-28</td>\n",
       "      <td>2022-02-28</td>\n",
       "      <td>20:00:00</td>\n",
       "      <td>2022-02-28</td>\n",
       "      <td>20:00:00</td>\n",
       "      <td>8300935</td>\n",
       "      <td>0.0</td>\n",
       "      <td>No</td>\n",
       "      <td>other bike</td>\n",
       "      <td>Fahrraddiebstahl</td>\n",
       "      <td>Einfacher Diebstahl von Fahrrädern</td>\n",
       "      <td>2022-02-28 20:00:00</td>\n",
       "      <td>2022-02-28 20:00:00</td>\n",
       "      <td>0.0</td>\n",
       "      <td>2022-02-28 20:00:00</td>\n",
       "      <td>83009</td>\n",
       "      <td>830</td>\n",
       "      <td>8</td>\n",
       "    </tr>\n",
       "    <tr>\n",
       "      <th>3</th>\n",
       "      <td>3</td>\n",
       "      <td>2022-02-28</td>\n",
       "      <td>2022-02-28</td>\n",
       "      <td>8:00:00</td>\n",
       "      <td>2022-02-28</td>\n",
       "      <td>8:00:00</td>\n",
       "      <td>4400727</td>\n",
       "      <td>1000.0</td>\n",
       "      <td>No</td>\n",
       "      <td>other bike</td>\n",
       "      <td>Fahrraddiebstahl</td>\n",
       "      <td>Sonstiger schwerer Diebstahl von Fahrrädern</td>\n",
       "      <td>2022-02-28 08:00:00</td>\n",
       "      <td>2022-02-28 08:00:00</td>\n",
       "      <td>0.0</td>\n",
       "      <td>2022-02-28 08:00:00</td>\n",
       "      <td>44007</td>\n",
       "      <td>440</td>\n",
       "      <td>4</td>\n",
       "    </tr>\n",
       "    <tr>\n",
       "      <th>4</th>\n",
       "      <td>4</td>\n",
       "      <td>2022-02-28</td>\n",
       "      <td>2022-02-25</td>\n",
       "      <td>5:00:00</td>\n",
       "      <td>2022-02-25</td>\n",
       "      <td>17:00:00</td>\n",
       "      <td>9100305</td>\n",
       "      <td>499.0</td>\n",
       "      <td>No</td>\n",
       "      <td>man's bike</td>\n",
       "      <td>Fahrraddiebstahl</td>\n",
       "      <td>Sonstiger schwerer Diebstahl von Fahrrädern</td>\n",
       "      <td>2022-02-25 05:00:00</td>\n",
       "      <td>2022-02-25 17:00:00</td>\n",
       "      <td>12.0</td>\n",
       "      <td>2022-02-25 11:00:00</td>\n",
       "      <td>91003</td>\n",
       "      <td>910</td>\n",
       "      <td>9</td>\n",
       "    </tr>\n",
       "  </tbody>\n",
       "</table>\n",
       "</div>"
      ],
      "text/plain": [
       "   Unnamed: 0 date_reported date_theft_start hour_theft_start date_theft_end  \\\n",
       "0           0    2022-02-28       2022-02-26         14:00:00     2022-02-26   \n",
       "1           1    2022-02-28       2022-02-28         16:00:00     2022-02-28   \n",
       "2           2    2022-02-28       2022-02-28         20:00:00     2022-02-28   \n",
       "3           3    2022-02-28       2022-02-28          8:00:00     2022-02-28   \n",
       "4           4    2022-02-28       2022-02-25          5:00:00     2022-02-25   \n",
       "\n",
       "  hour_theft_end      LOR  estimated_value attempt   type_bike  \\\n",
       "0       14:00:00  7100103            580.0      No        bike   \n",
       "1       16:00:00  2100106              0.0      No  man's bike   \n",
       "2       20:00:00  8300935              0.0      No  other bike   \n",
       "3        8:00:00  4400727           1000.0      No  other bike   \n",
       "4       17:00:00  9100305            499.0      No  man's bike   \n",
       "\n",
       "         theft_type                            theft_type_detail  \\\n",
       "0  Fahrraddiebstahl  Sonstiger schwerer Diebstahl von Fahrrädern   \n",
       "1  Fahrraddiebstahl  Sonstiger schwerer Diebstahl von Fahrrädern   \n",
       "2  Fahrraddiebstahl           Einfacher Diebstahl von Fahrrädern   \n",
       "3  Fahrraddiebstahl  Sonstiger schwerer Diebstahl von Fahrrädern   \n",
       "4  Fahrraddiebstahl  Sonstiger schwerer Diebstahl von Fahrrädern   \n",
       "\n",
       "  datetime_theft_start   datetime_theft_end  Timedelta_theft_end_start  \\\n",
       "0  2022-02-26 14:00:00  2022-02-26 14:00:00                        0.0   \n",
       "1  2022-02-28 16:00:00  2022-02-28 16:00:00                        0.0   \n",
       "2  2022-02-28 20:00:00  2022-02-28 20:00:00                        0.0   \n",
       "3  2022-02-28 08:00:00  2022-02-28 08:00:00                        0.0   \n",
       "4  2022-02-25 05:00:00  2022-02-25 17:00:00                       12.0   \n",
       "\n",
       "   datetime_theft_mean    BZR  PGR  Bezirk  \n",
       "0  2022-02-26 14:00:00  71001  710       7  \n",
       "1  2022-02-28 16:00:00  21001  210       2  \n",
       "2  2022-02-28 20:00:00  83009  830       8  \n",
       "3  2022-02-28 08:00:00  44007  440       4  \n",
       "4  2022-02-25 11:00:00  91003  910       9  "
      ]
     },
     "execution_count": 8,
     "metadata": {},
     "output_type": "execute_result"
    }
   ],
   "source": [
    "df_theft.head()"
   ]
  },
  {
   "cell_type": "markdown",
   "id": "df04242b",
   "metadata": {},
   "source": [
    "# Combine datasets"
   ]
  },
  {
   "cell_type": "markdown",
   "id": "59bc9433",
   "metadata": {},
   "source": [
    "## Group theft data by Bezirk and date"
   ]
  },
  {
   "cell_type": "code",
   "execution_count": 9,
   "id": "a6cbe254",
   "metadata": {},
   "outputs": [],
   "source": [
    "# Group dataframe by date and LOR\n",
    "df_theft = df_theft.pivot_table(index = \"date_theft_start\", columns = \"Bezirk\", values = \"type_bike\", aggfunc= \"count\")\n",
    "\n",
    "df_theft.fillna(value = 0, inplace=True)"
   ]
  },
  {
   "cell_type": "code",
   "execution_count": 10,
   "id": "6f7c7239",
   "metadata": {},
   "outputs": [
    {
     "data": {
      "text/plain": [
       "(424, 13)"
      ]
     },
     "execution_count": 10,
     "metadata": {},
     "output_type": "execute_result"
    }
   ],
   "source": [
    "# create \"total\" column which sums up data for each day\n",
    "df_theft[\"total\"] = df_theft.sum(axis=1)\n",
    "\n",
    "\n",
    "df_theft.shape"
   ]
  },
  {
   "cell_type": "code",
   "execution_count": 11,
   "id": "d1684cc3",
   "metadata": {},
   "outputs": [
    {
     "data": {
      "text/plain": [
       "Index(['date', 'min_temp', 'max_temp', 'the_temp', 'weather_state_name',\n",
       "       'weather_state_abbr', 'wind_speed', 'wind_direction', 'air_pressure',\n",
       "       'humidity', 'visibility', 'daylight_hours', 'isholidays', 'weekday',\n",
       "       'weeknum'],\n",
       "      dtype='object')"
      ]
     },
     "execution_count": 11,
     "metadata": {},
     "output_type": "execute_result"
    }
   ],
   "source": [
    "df_feat.columns"
   ]
  },
  {
   "cell_type": "code",
   "execution_count": 12,
   "id": "99752011",
   "metadata": {},
   "outputs": [
    {
     "data": {
      "text/plain": [
       "Index([1, 2, 3, 4, 5, 6, 7, 8, 9, 10, 11, 12, 'total'], dtype='object', name='Bezirk')"
      ]
     },
     "execution_count": 12,
     "metadata": {},
     "output_type": "execute_result"
    }
   ],
   "source": [
    "df_theft.columns"
   ]
  },
  {
   "cell_type": "markdown",
   "id": "24be8487",
   "metadata": {},
   "source": [
    "## Merge datasets"
   ]
  },
  {
   "cell_type": "markdown",
   "id": "858831f0",
   "metadata": {},
   "source": [
    "We merge the \"total\" column from the theft dataset with the features from the features dataset"
   ]
  },
  {
   "cell_type": "code",
   "execution_count": 13,
   "id": "27ead7bf",
   "metadata": {},
   "outputs": [],
   "source": [
    "# First we have to reset the index in the df_theft to create a column to merge on \n",
    "\n",
    "df_theft.reset_index( inplace=True)"
   ]
  },
  {
   "cell_type": "code",
   "execution_count": 14,
   "id": "4877f421",
   "metadata": {},
   "outputs": [],
   "source": [
    "# as the last step we rename the date column to match the name in df_feat\n",
    "df_theft = df_theft.rename(columns={\"date_theft_start\": \"date\"})"
   ]
  },
  {
   "cell_type": "code",
   "execution_count": 15,
   "id": "eec1996b",
   "metadata": {},
   "outputs": [
    {
     "data": {
      "text/plain": [
       "Index(['date', 'min_temp', 'max_temp', 'the_temp', 'weather_state_name',\n",
       "       'weather_state_abbr', 'wind_speed', 'wind_direction', 'air_pressure',\n",
       "       'humidity', 'visibility', 'daylight_hours', 'isholidays', 'weekday',\n",
       "       'weeknum'],\n",
       "      dtype='object')"
      ]
     },
     "execution_count": 15,
     "metadata": {},
     "output_type": "execute_result"
    }
   ],
   "source": [
    "df_feat.columns"
   ]
  },
  {
   "cell_type": "code",
   "execution_count": 16,
   "id": "c829219a",
   "metadata": {},
   "outputs": [
    {
     "data": {
      "text/plain": [
       "Index(['date', 1, 2, 3, 4, 5, 6, 7, 8, 9, 10, 11, 12, 'total'], dtype='object', name='Bezirk')"
      ]
     },
     "execution_count": 16,
     "metadata": {},
     "output_type": "execute_result"
    }
   ],
   "source": [
    "df_theft.columns"
   ]
  },
  {
   "cell_type": "code",
   "execution_count": 394,
   "id": "fe083480",
   "metadata": {},
   "outputs": [
    {
     "name": "stdout",
     "output_type": "stream",
     "text": [
      "berlin-bike-theft-forecasting  MANIFEST.in  README.md\t      setup.py\r\n",
      "bike_theft_total_daily.csv     notebooks    requirements.txt  tests\r\n",
      "Makefile\t\t       raw_data     scripts\r\n"
     ]
    }
   ],
   "source": []
  },
  {
   "cell_type": "code",
   "execution_count": 392,
   "id": "15601ebd",
   "metadata": {
    "scrolled": true
   },
   "outputs": [
    {
     "name": "stdout",
     "output_type": "stream",
     "text": [
      "/home/jakob/code/hmichinaka/berlin-bike-theft-forecasting/notebooks\r\n"
     ]
    }
   ],
   "source": [
    "!pwd"
   ]
  },
  {
   "cell_type": "code",
   "execution_count": 393,
   "id": "94afdbf7",
   "metadata": {
    "scrolled": true
   },
   "outputs": [],
   "source": [
    "df_theft[[\"date\", \"total\"]].to_csv(\"../bike_theft_total_daily.csv\")"
   ]
  },
  {
   "cell_type": "code",
   "execution_count": 17,
   "id": "8f2dabe8",
   "metadata": {
    "scrolled": true
   },
   "outputs": [],
   "source": [
    "# combine the datasets\n",
    "df_combined = pd.merge(df_feat, df_theft, on = \"date\")"
   ]
  },
  {
   "cell_type": "code",
   "execution_count": 18,
   "id": "52d811be",
   "metadata": {},
   "outputs": [
    {
     "data": {
      "text/html": [
       "<div>\n",
       "<style scoped>\n",
       "    .dataframe tbody tr th:only-of-type {\n",
       "        vertical-align: middle;\n",
       "    }\n",
       "\n",
       "    .dataframe tbody tr th {\n",
       "        vertical-align: top;\n",
       "    }\n",
       "\n",
       "    .dataframe thead th {\n",
       "        text-align: right;\n",
       "    }\n",
       "</style>\n",
       "<table border=\"1\" class=\"dataframe\">\n",
       "  <thead>\n",
       "    <tr style=\"text-align: right;\">\n",
       "      <th></th>\n",
       "      <th>date</th>\n",
       "      <th>min_temp</th>\n",
       "      <th>max_temp</th>\n",
       "      <th>the_temp</th>\n",
       "      <th>weather_state_name</th>\n",
       "      <th>weather_state_abbr</th>\n",
       "      <th>wind_speed</th>\n",
       "      <th>wind_direction</th>\n",
       "      <th>air_pressure</th>\n",
       "      <th>humidity</th>\n",
       "      <th>...</th>\n",
       "      <th>4</th>\n",
       "      <th>5</th>\n",
       "      <th>6</th>\n",
       "      <th>7</th>\n",
       "      <th>8</th>\n",
       "      <th>9</th>\n",
       "      <th>10</th>\n",
       "      <th>11</th>\n",
       "      <th>12</th>\n",
       "      <th>total</th>\n",
       "    </tr>\n",
       "  </thead>\n",
       "  <tbody>\n",
       "    <tr>\n",
       "      <th>0</th>\n",
       "      <td>2021-01-01</td>\n",
       "      <td>0.005</td>\n",
       "      <td>2.395</td>\n",
       "      <td>2.070</td>\n",
       "      <td>Sleet</td>\n",
       "      <td>sl</td>\n",
       "      <td>3.020726</td>\n",
       "      <td>227.616640</td>\n",
       "      <td>1007.0</td>\n",
       "      <td>93</td>\n",
       "      <td>...</td>\n",
       "      <td>4.0</td>\n",
       "      <td>1.0</td>\n",
       "      <td>0.0</td>\n",
       "      <td>0.0</td>\n",
       "      <td>1.0</td>\n",
       "      <td>1.0</td>\n",
       "      <td>2.0</td>\n",
       "      <td>1.0</td>\n",
       "      <td>0.0</td>\n",
       "      <td>16.0</td>\n",
       "    </tr>\n",
       "    <tr>\n",
       "      <th>1</th>\n",
       "      <td>2021-01-02</td>\n",
       "      <td>-1.135</td>\n",
       "      <td>3.045</td>\n",
       "      <td>2.465</td>\n",
       "      <td>Heavy Cloud</td>\n",
       "      <td>hc</td>\n",
       "      <td>2.666541</td>\n",
       "      <td>193.699868</td>\n",
       "      <td>1015.0</td>\n",
       "      <td>89</td>\n",
       "      <td>...</td>\n",
       "      <td>3.0</td>\n",
       "      <td>0.0</td>\n",
       "      <td>1.0</td>\n",
       "      <td>1.0</td>\n",
       "      <td>2.0</td>\n",
       "      <td>2.0</td>\n",
       "      <td>0.0</td>\n",
       "      <td>1.0</td>\n",
       "      <td>1.0</td>\n",
       "      <td>16.0</td>\n",
       "    </tr>\n",
       "    <tr>\n",
       "      <th>2</th>\n",
       "      <td>2021-01-03</td>\n",
       "      <td>-1.315</td>\n",
       "      <td>1.955</td>\n",
       "      <td>0.985</td>\n",
       "      <td>Snow</td>\n",
       "      <td>sn</td>\n",
       "      <td>9.161659</td>\n",
       "      <td>55.677273</td>\n",
       "      <td>1015.0</td>\n",
       "      <td>96</td>\n",
       "      <td>...</td>\n",
       "      <td>2.0</td>\n",
       "      <td>0.0</td>\n",
       "      <td>2.0</td>\n",
       "      <td>3.0</td>\n",
       "      <td>0.0</td>\n",
       "      <td>2.0</td>\n",
       "      <td>3.0</td>\n",
       "      <td>0.0</td>\n",
       "      <td>0.0</td>\n",
       "      <td>17.0</td>\n",
       "    </tr>\n",
       "    <tr>\n",
       "      <th>3</th>\n",
       "      <td>2021-01-04</td>\n",
       "      <td>0.030</td>\n",
       "      <td>1.780</td>\n",
       "      <td>1.355</td>\n",
       "      <td>Sleet</td>\n",
       "      <td>sl</td>\n",
       "      <td>6.271227</td>\n",
       "      <td>54.331796</td>\n",
       "      <td>1017.0</td>\n",
       "      <td>96</td>\n",
       "      <td>...</td>\n",
       "      <td>4.0</td>\n",
       "      <td>0.0</td>\n",
       "      <td>2.0</td>\n",
       "      <td>4.0</td>\n",
       "      <td>3.0</td>\n",
       "      <td>1.0</td>\n",
       "      <td>0.0</td>\n",
       "      <td>1.0</td>\n",
       "      <td>2.0</td>\n",
       "      <td>33.0</td>\n",
       "    </tr>\n",
       "    <tr>\n",
       "      <th>4</th>\n",
       "      <td>2021-01-05</td>\n",
       "      <td>-0.030</td>\n",
       "      <td>2.730</td>\n",
       "      <td>1.270</td>\n",
       "      <td>Light Rain</td>\n",
       "      <td>lr</td>\n",
       "      <td>6.009528</td>\n",
       "      <td>26.500356</td>\n",
       "      <td>1017.0</td>\n",
       "      <td>94</td>\n",
       "      <td>...</td>\n",
       "      <td>5.0</td>\n",
       "      <td>2.0</td>\n",
       "      <td>1.0</td>\n",
       "      <td>5.0</td>\n",
       "      <td>0.0</td>\n",
       "      <td>4.0</td>\n",
       "      <td>0.0</td>\n",
       "      <td>0.0</td>\n",
       "      <td>1.0</td>\n",
       "      <td>29.0</td>\n",
       "    </tr>\n",
       "  </tbody>\n",
       "</table>\n",
       "<p>5 rows × 28 columns</p>\n",
       "</div>"
      ],
      "text/plain": [
       "         date  min_temp  max_temp  the_temp weather_state_name  \\\n",
       "0  2021-01-01     0.005     2.395     2.070              Sleet   \n",
       "1  2021-01-02    -1.135     3.045     2.465        Heavy Cloud   \n",
       "2  2021-01-03    -1.315     1.955     0.985               Snow   \n",
       "3  2021-01-04     0.030     1.780     1.355              Sleet   \n",
       "4  2021-01-05    -0.030     2.730     1.270         Light Rain   \n",
       "\n",
       "  weather_state_abbr  wind_speed  wind_direction  air_pressure  humidity  ...  \\\n",
       "0                 sl    3.020726      227.616640        1007.0        93  ...   \n",
       "1                 hc    2.666541      193.699868        1015.0        89  ...   \n",
       "2                 sn    9.161659       55.677273        1015.0        96  ...   \n",
       "3                 sl    6.271227       54.331796        1017.0        96  ...   \n",
       "4                 lr    6.009528       26.500356        1017.0        94  ...   \n",
       "\n",
       "     4    5    6    7    8    9   10   11   12  total  \n",
       "0  4.0  1.0  0.0  0.0  1.0  1.0  2.0  1.0  0.0   16.0  \n",
       "1  3.0  0.0  1.0  1.0  2.0  2.0  0.0  1.0  1.0   16.0  \n",
       "2  2.0  0.0  2.0  3.0  0.0  2.0  3.0  0.0  0.0   17.0  \n",
       "3  4.0  0.0  2.0  4.0  3.0  1.0  0.0  1.0  2.0   33.0  \n",
       "4  5.0  2.0  1.0  5.0  0.0  4.0  0.0  0.0  1.0   29.0  \n",
       "\n",
       "[5 rows x 28 columns]"
      ]
     },
     "execution_count": 18,
     "metadata": {},
     "output_type": "execute_result"
    }
   ],
   "source": [
    "df_combined.head()"
   ]
  },
  {
   "cell_type": "markdown",
   "id": "a900db15",
   "metadata": {},
   "source": [
    "## Select relevant features"
   ]
  },
  {
   "cell_type": "code",
   "execution_count": 19,
   "id": "db105709",
   "metadata": {
    "scrolled": true
   },
   "outputs": [
    {
     "data": {
      "text/plain": [
       "Index([              'date',           'min_temp',           'max_temp',\n",
       "                 'the_temp', 'weather_state_name', 'weather_state_abbr',\n",
       "               'wind_speed',     'wind_direction',       'air_pressure',\n",
       "                 'humidity',         'visibility',     'daylight_hours',\n",
       "               'isholidays',            'weekday',            'weeknum',\n",
       "                          1,                    2,                    3,\n",
       "                          4,                    5,                    6,\n",
       "                          7,                    8,                    9,\n",
       "                         10,                   11,                   12,\n",
       "                    'total'],\n",
       "      dtype='object')"
      ]
     },
     "execution_count": 19,
     "metadata": {},
     "output_type": "execute_result"
    }
   ],
   "source": [
    "df_combined.columns"
   ]
  },
  {
   "cell_type": "markdown",
   "id": "ff175540",
   "metadata": {},
   "source": [
    "- For now we will drop the Bezirke columns, and the weather_state_name as well as weather_state_abbr\n",
    "- We will also drop min_temp and max_temp and just keep the_temp \n",
    "- We will further drop wind_direction"
   ]
  },
  {
   "cell_type": "code",
   "execution_count": 20,
   "id": "b31f8be1",
   "metadata": {},
   "outputs": [],
   "source": [
    "cols_select = [\"date\", \"the_temp\", \"wind_speed\", \"air_pressure\", \"humidity\", \"visibility\", \n",
    "              \"daylight_hours\", \"isholidays\", \"weekday\", \"weeknum\", \n",
    "              \"total\"]"
   ]
  },
  {
   "cell_type": "code",
   "execution_count": 21,
   "id": "e202bb28",
   "metadata": {},
   "outputs": [],
   "source": [
    "df_combined = df_combined[cols_select]"
   ]
  },
  {
   "cell_type": "code",
   "execution_count": 22,
   "id": "8b78648a",
   "metadata": {},
   "outputs": [
    {
     "data": {
      "text/html": [
       "<div>\n",
       "<style scoped>\n",
       "    .dataframe tbody tr th:only-of-type {\n",
       "        vertical-align: middle;\n",
       "    }\n",
       "\n",
       "    .dataframe tbody tr th {\n",
       "        vertical-align: top;\n",
       "    }\n",
       "\n",
       "    .dataframe thead th {\n",
       "        text-align: right;\n",
       "    }\n",
       "</style>\n",
       "<table border=\"1\" class=\"dataframe\">\n",
       "  <thead>\n",
       "    <tr style=\"text-align: right;\">\n",
       "      <th></th>\n",
       "      <th>date</th>\n",
       "      <th>the_temp</th>\n",
       "      <th>wind_speed</th>\n",
       "      <th>air_pressure</th>\n",
       "      <th>humidity</th>\n",
       "      <th>visibility</th>\n",
       "      <th>daylight_hours</th>\n",
       "      <th>isholidays</th>\n",
       "      <th>weekday</th>\n",
       "      <th>weeknum</th>\n",
       "      <th>total</th>\n",
       "    </tr>\n",
       "  </thead>\n",
       "  <tbody>\n",
       "    <tr>\n",
       "      <th>0</th>\n",
       "      <td>2021-01-01</td>\n",
       "      <td>2.070</td>\n",
       "      <td>3.020726</td>\n",
       "      <td>1007.0</td>\n",
       "      <td>93</td>\n",
       "      <td>6.031650</td>\n",
       "      <td>07:50:24</td>\n",
       "      <td>1</td>\n",
       "      <td>4</td>\n",
       "      <td>53</td>\n",
       "      <td>16.0</td>\n",
       "    </tr>\n",
       "    <tr>\n",
       "      <th>1</th>\n",
       "      <td>2021-01-02</td>\n",
       "      <td>2.465</td>\n",
       "      <td>2.666541</td>\n",
       "      <td>1015.0</td>\n",
       "      <td>89</td>\n",
       "      <td>12.863316</td>\n",
       "      <td>07:51:41</td>\n",
       "      <td>0</td>\n",
       "      <td>5</td>\n",
       "      <td>53</td>\n",
       "      <td>16.0</td>\n",
       "    </tr>\n",
       "    <tr>\n",
       "      <th>2</th>\n",
       "      <td>2021-01-03</td>\n",
       "      <td>0.985</td>\n",
       "      <td>9.161659</td>\n",
       "      <td>1015.0</td>\n",
       "      <td>96</td>\n",
       "      <td>2.144352</td>\n",
       "      <td>07:53:05</td>\n",
       "      <td>0</td>\n",
       "      <td>6</td>\n",
       "      <td>53</td>\n",
       "      <td>17.0</td>\n",
       "    </tr>\n",
       "    <tr>\n",
       "      <th>3</th>\n",
       "      <td>2021-01-04</td>\n",
       "      <td>1.355</td>\n",
       "      <td>6.271227</td>\n",
       "      <td>1017.0</td>\n",
       "      <td>96</td>\n",
       "      <td>2.927901</td>\n",
       "      <td>07:54:33</td>\n",
       "      <td>0</td>\n",
       "      <td>0</td>\n",
       "      <td>1</td>\n",
       "      <td>33.0</td>\n",
       "    </tr>\n",
       "    <tr>\n",
       "      <th>4</th>\n",
       "      <td>2021-01-05</td>\n",
       "      <td>1.270</td>\n",
       "      <td>6.009528</td>\n",
       "      <td>1017.0</td>\n",
       "      <td>94</td>\n",
       "      <td>7.021805</td>\n",
       "      <td>07:56:08</td>\n",
       "      <td>0</td>\n",
       "      <td>1</td>\n",
       "      <td>1</td>\n",
       "      <td>29.0</td>\n",
       "    </tr>\n",
       "  </tbody>\n",
       "</table>\n",
       "</div>"
      ],
      "text/plain": [
       "         date  the_temp  wind_speed  air_pressure  humidity  visibility  \\\n",
       "0  2021-01-01     2.070    3.020726        1007.0        93    6.031650   \n",
       "1  2021-01-02     2.465    2.666541        1015.0        89   12.863316   \n",
       "2  2021-01-03     0.985    9.161659        1015.0        96    2.144352   \n",
       "3  2021-01-04     1.355    6.271227        1017.0        96    2.927901   \n",
       "4  2021-01-05     1.270    6.009528        1017.0        94    7.021805   \n",
       "\n",
       "  daylight_hours  isholidays  weekday  weeknum  total  \n",
       "0       07:50:24           1        4       53   16.0  \n",
       "1       07:51:41           0        5       53   16.0  \n",
       "2       07:53:05           0        6       53   17.0  \n",
       "3       07:54:33           0        0        1   33.0  \n",
       "4       07:56:08           0        1        1   29.0  "
      ]
     },
     "execution_count": 22,
     "metadata": {},
     "output_type": "execute_result"
    }
   ],
   "source": [
    "df_combined.head()"
   ]
  },
  {
   "cell_type": "code",
   "execution_count": 23,
   "id": "3d3dbeab",
   "metadata": {},
   "outputs": [],
   "source": [
    "df_combined = df_combined.set_index(\"date\")"
   ]
  },
  {
   "cell_type": "code",
   "execution_count": 105,
   "id": "ba986702",
   "metadata": {},
   "outputs": [],
   "source": [
    "# Change dtype of daylight_hours from object to float\n",
    "# first calculate seconds\n",
    "df_combined[\"daylight_hours\"] = df_combined[\"daylight_hours\"].apply(lambda x: sum(int(x) * 60 ** i for i, x in enumerate(reversed(x.split(':')))))"
   ]
  },
  {
   "cell_type": "code",
   "execution_count": 109,
   "id": "11a00793",
   "metadata": {},
   "outputs": [],
   "source": [
    "# then calculate hours as float from the seconds\n",
    "df_combined[\"daylight_hours\"] = df_combined[\"daylight_hours\"]/3600"
   ]
  },
  {
   "cell_type": "code",
   "execution_count": 110,
   "id": "283c6d32",
   "metadata": {},
   "outputs": [
    {
     "data": {
      "text/plain": [
       "the_temp          float64\n",
       "wind_speed        float64\n",
       "air_pressure      float64\n",
       "humidity            int64\n",
       "visibility        float64\n",
       "daylight_hours    float64\n",
       "isholidays          int64\n",
       "weekday             int64\n",
       "weeknum             int64\n",
       "total             float64\n",
       "dtype: object"
      ]
     },
     "execution_count": 110,
     "metadata": {},
     "output_type": "execute_result"
    }
   ],
   "source": [
    "df_combined.dtypes"
   ]
  },
  {
   "cell_type": "markdown",
   "id": "09ac8014",
   "metadata": {},
   "source": [
    "# Train-test-split"
   ]
  },
  {
   "cell_type": "code",
   "execution_count": 411,
   "id": "2a374f3e",
   "metadata": {},
   "outputs": [
    {
     "data": {
      "image/png": "[encoded data removed]",
      "text/plain": [
       "<Figure size 1080x432 with 1 Axes>"
      ]
     },
     "metadata": {
      "needs_background": "light"
     },
     "output_type": "display_data"
    }
   ],
   "source": [
    "plt.figure(figsize = (15, 6))\n",
    "plt.plot(df_combined[\"total\"]);"
   ]
  },
  {
   "cell_type": "code",
   "execution_count": 451,
   "id": "358b2037",
   "metadata": {},
   "outputs": [
    {
     "data": {
      "image/png": "[encoded data removed]",
      "text/plain": [
       "<Figure size 1080x432 with 1 Axes>"
      ]
     },
     "metadata": {
      "needs_background": "light"
     },
     "output_type": "display_data"
    }
   ],
   "source": [
    "plt.figure(figsize = (15, 6))\n",
    "plt.plot(df_new[\"total\"][:-3]);"
   ]
  },
  {
   "cell_type": "code",
   "execution_count": 112,
   "id": "98ac9a0b",
   "metadata": {
    "scrolled": true
   },
   "outputs": [
    {
     "data": {
      "text/plain": [
       "51.62971698113208"
      ]
     },
     "execution_count": 112,
     "metadata": {},
     "output_type": "execute_result"
    }
   ],
   "source": [
    "df_combined[\"total\"].mean()"
   ]
  },
  {
   "cell_type": "code",
   "execution_count": 113,
   "id": "95d1b9a6",
   "metadata": {},
   "outputs": [
    {
     "data": {
      "text/plain": [
       "18.194955888318802"
      ]
     },
     "execution_count": 113,
     "metadata": {},
     "output_type": "execute_result"
    }
   ],
   "source": [
    "df_combined[\"total\"].std()"
   ]
  },
  {
   "cell_type": "code",
   "execution_count": 114,
   "id": "9dfeef9a",
   "metadata": {
    "scrolled": false
   },
   "outputs": [
    {
     "data": {
      "text/plain": [
       "339"
      ]
     },
     "execution_count": 114,
     "metadata": {},
     "output_type": "execute_result"
    }
   ],
   "source": [
    "int(len(df_combined) * 0.8)"
   ]
  },
  {
   "cell_type": "code",
   "execution_count": 115,
   "id": "5eac04b7",
   "metadata": {},
   "outputs": [],
   "source": [
    "def get_X_y(window_size, future_horizon, dataset):\n",
    "\n",
    "  X = []\n",
    "  y = []\n",
    "\n",
    "  for i in range(0, dataset.shape[0] - window_size - future_horizon):\n",
    "    X.append(dataset[i: i + window_size])\n",
    "    y.append(dataset[\"total\"][i + window_size : i + window_size  + future_horizon, ])\n",
    "\n",
    "  return np.array(X), np.array(y)"
   ]
  },
  {
   "cell_type": "code",
   "execution_count": 403,
   "id": "51d5bc52",
   "metadata": {},
   "outputs": [],
   "source": [
    "window_size = 31\n",
    "future_horizon = 1\n",
    "\n",
    "X_train, y_train = get_X_y(window_size,future_horizon, df_combined.iloc[:339, :])\n",
    "X_test, y_test = get_X_y(window_size, future_horizon, df_combined.iloc[339:, :])"
   ]
  },
  {
   "cell_type": "code",
   "execution_count": 404,
   "id": "1d3bc530",
   "metadata": {},
   "outputs": [
    {
     "data": {
      "text/plain": [
       "((307, 31, 11), (307, 1), (53, 31, 11), (53, 1))"
      ]
     },
     "execution_count": 404,
     "metadata": {},
     "output_type": "execute_result"
    }
   ],
   "source": [
    "X_train.shape, y_train.shape, X_test.shape, y_test.shape"
   ]
  },
  {
   "cell_type": "markdown",
   "id": "9557340e",
   "metadata": {},
   "source": [
    "# KFold Cross validation"
   ]
  },
  {
   "cell_type": "code",
   "execution_count": 120,
   "id": "3e825e77",
   "metadata": {},
   "outputs": [],
   "source": [
    "def model_cross_validation(model):\n",
    "    model.compile(loss = \"mse\",\n",
    "                 optimizer = \"adam\",\n",
    "                 metrics = \"mean_absolute_percentage_error\")\n",
    "    \n",
    "    es = callbacks.EarlyStopping(patience = 5, restore_best_weights=True)\n",
    "    results = []\n",
    "    kf = KFold(n_splits = 5)\n",
    "    kf.get_n_splits(X_train)\n",
    "\n",
    "    for train_index, test_index in kf.split(X_train):\n",
    "\n",
    "        # split the data into train and test set\n",
    "        X_train_cv = X_train[train_index]\n",
    "        X_test_cv = X_train[test_index]\n",
    "        y_train_cv = y_train[train_index]\n",
    "        y_test_cv = y_train[test_index]\n",
    "\n",
    "        model = model \n",
    "        \n",
    "        # Fit the model\n",
    "        model.fit(X_train_cv, \n",
    "                  y_train_cv, \n",
    "                  batch_size = 16, \n",
    "                  epochs = 300, \n",
    "                  verbose = 0, \n",
    "                  callbacks = [es], \n",
    "                  validation_split = 0.2)\n",
    "        \n",
    "        # Evaluate the model on the test data\n",
    "        results.append(model.evaluate(X_test_cv, y_test_cv))\n",
    "        \n",
    "    return results"
   ]
  },
  {
   "cell_type": "code",
   "execution_count": 137,
   "id": "d0091ea9",
   "metadata": {
    "collapsed": true
   },
   "outputs": [
    {
     "name": "stdout",
     "output_type": "stream",
     "text": [
      "[ 62  63  64  65  66  67  68  69  70  71  72  73  74  75  76  77  78  79\n",
      "  80  81  82  83  84  85  86  87  88  89  90  91  92  93  94  95  96  97\n",
      "  98  99 100 101 102 103 104 105 106 107 108 109 110 111 112 113 114 115\n",
      " 116 117 118 119 120 121 122 123 124 125 126 127 128 129 130 131 132 133\n",
      " 134 135 136 137 138 139 140 141 142 143 144 145 146 147 148 149 150 151\n",
      " 152 153 154 155 156 157 158 159 160 161 162 163 164 165 166 167 168 169\n",
      " 170 171 172 173 174 175 176 177 178 179 180 181 182 183 184 185 186 187\n",
      " 188 189 190 191 192 193 194 195 196 197 198 199 200 201 202 203 204 205\n",
      " 206 207 208 209 210 211 212 213 214 215 216 217 218 219 220 221 222 223\n",
      " 224 225 226 227 228 229 230 231 232 233 234 235 236 237 238 239 240 241\n",
      " 242 243 244 245 246 247 248 249 250 251 252 253 254 255 256 257 258 259\n",
      " 260 261 262 263 264 265 266 267 268 269 270 271 272 273 274 275 276 277\n",
      " 278 279 280 281 282 283 284 285 286 287 288 289 290 291 292 293 294 295\n",
      " 296 297 298 299 300 301 302 303 304 305 306]\n",
      "[ 0  1  2  3  4  5  6  7  8  9 10 11 12 13 14 15 16 17 18 19 20 21 22 23\n",
      " 24 25 26 27 28 29 30 31 32 33 34 35 36 37 38 39 40 41 42 43 44 45 46 47\n",
      " 48 49 50 51 52 53 54 55 56 57 58 59 60 61]\n",
      "[  0   1   2   3   4   5   6   7   8   9  10  11  12  13  14  15  16  17\n",
      "  18  19  20  21  22  23  24  25  26  27  28  29  30  31  32  33  34  35\n",
      "  36  37  38  39  40  41  42  43  44  45  46  47  48  49  50  51  52  53\n",
      "  54  55  56  57  58  59  60  61 124 125 126 127 128 129 130 131 132 133\n",
      " 134 135 136 137 138 139 140 141 142 143 144 145 146 147 148 149 150 151\n",
      " 152 153 154 155 156 157 158 159 160 161 162 163 164 165 166 167 168 169\n",
      " 170 171 172 173 174 175 176 177 178 179 180 181 182 183 184 185 186 187\n",
      " 188 189 190 191 192 193 194 195 196 197 198 199 200 201 202 203 204 205\n",
      " 206 207 208 209 210 211 212 213 214 215 216 217 218 219 220 221 222 223\n",
      " 224 225 226 227 228 229 230 231 232 233 234 235 236 237 238 239 240 241\n",
      " 242 243 244 245 246 247 248 249 250 251 252 253 254 255 256 257 258 259\n",
      " 260 261 262 263 264 265 266 267 268 269 270 271 272 273 274 275 276 277\n",
      " 278 279 280 281 282 283 284 285 286 287 288 289 290 291 292 293 294 295\n",
      " 296 297 298 299 300 301 302 303 304 305 306]\n",
      "[ 62  63  64  65  66  67  68  69  70  71  72  73  74  75  76  77  78  79\n",
      "  80  81  82  83  84  85  86  87  88  89  90  91  92  93  94  95  96  97\n",
      "  98  99 100 101 102 103 104 105 106 107 108 109 110 111 112 113 114 115\n",
      " 116 117 118 119 120 121 122 123]\n",
      "[  0   1   2   3   4   5   6   7   8   9  10  11  12  13  14  15  16  17\n",
      "  18  19  20  21  22  23  24  25  26  27  28  29  30  31  32  33  34  35\n",
      "  36  37  38  39  40  41  42  43  44  45  46  47  48  49  50  51  52  53\n",
      "  54  55  56  57  58  59  60  61  62  63  64  65  66  67  68  69  70  71\n",
      "  72  73  74  75  76  77  78  79  80  81  82  83  84  85  86  87  88  89\n",
      "  90  91  92  93  94  95  96  97  98  99 100 101 102 103 104 105 106 107\n",
      " 108 109 110 111 112 113 114 115 116 117 118 119 120 121 122 123 185 186\n",
      " 187 188 189 190 191 192 193 194 195 196 197 198 199 200 201 202 203 204\n",
      " 205 206 207 208 209 210 211 212 213 214 215 216 217 218 219 220 221 222\n",
      " 223 224 225 226 227 228 229 230 231 232 233 234 235 236 237 238 239 240\n",
      " 241 242 243 244 245 246 247 248 249 250 251 252 253 254 255 256 257 258\n",
      " 259 260 261 262 263 264 265 266 267 268 269 270 271 272 273 274 275 276\n",
      " 277 278 279 280 281 282 283 284 285 286 287 288 289 290 291 292 293 294\n",
      " 295 296 297 298 299 300 301 302 303 304 305 306]\n",
      "[124 125 126 127 128 129 130 131 132 133 134 135 136 137 138 139 140 141\n",
      " 142 143 144 145 146 147 148 149 150 151 152 153 154 155 156 157 158 159\n",
      " 160 161 162 163 164 165 166 167 168 169 170 171 172 173 174 175 176 177\n",
      " 178 179 180 181 182 183 184]\n",
      "[  0   1   2   3   4   5   6   7   8   9  10  11  12  13  14  15  16  17\n",
      "  18  19  20  21  22  23  24  25  26  27  28  29  30  31  32  33  34  35\n",
      "  36  37  38  39  40  41  42  43  44  45  46  47  48  49  50  51  52  53\n",
      "  54  55  56  57  58  59  60  61  62  63  64  65  66  67  68  69  70  71\n",
      "  72  73  74  75  76  77  78  79  80  81  82  83  84  85  86  87  88  89\n",
      "  90  91  92  93  94  95  96  97  98  99 100 101 102 103 104 105 106 107\n",
      " 108 109 110 111 112 113 114 115 116 117 118 119 120 121 122 123 124 125\n",
      " 126 127 128 129 130 131 132 133 134 135 136 137 138 139 140 141 142 143\n",
      " 144 145 146 147 148 149 150 151 152 153 154 155 156 157 158 159 160 161\n",
      " 162 163 164 165 166 167 168 169 170 171 172 173 174 175 176 177 178 179\n",
      " 180 181 182 183 184 246 247 248 249 250 251 252 253 254 255 256 257 258\n",
      " 259 260 261 262 263 264 265 266 267 268 269 270 271 272 273 274 275 276\n",
      " 277 278 279 280 281 282 283 284 285 286 287 288 289 290 291 292 293 294\n",
      " 295 296 297 298 299 300 301 302 303 304 305 306]\n",
      "[185 186 187 188 189 190 191 192 193 194 195 196 197 198 199 200 201 202\n",
      " 203 204 205 206 207 208 209 210 211 212 213 214 215 216 217 218 219 220\n",
      " 221 222 223 224 225 226 227 228 229 230 231 232 233 234 235 236 237 238\n",
      " 239 240 241 242 243 244 245]\n",
      "[  0   1   2   3   4   5   6   7   8   9  10  11  12  13  14  15  16  17\n",
      "  18  19  20  21  22  23  24  25  26  27  28  29  30  31  32  33  34  35\n",
      "  36  37  38  39  40  41  42  43  44  45  46  47  48  49  50  51  52  53\n",
      "  54  55  56  57  58  59  60  61  62  63  64  65  66  67  68  69  70  71\n",
      "  72  73  74  75  76  77  78  79  80  81  82  83  84  85  86  87  88  89\n",
      "  90  91  92  93  94  95  96  97  98  99 100 101 102 103 104 105 106 107\n",
      " 108 109 110 111 112 113 114 115 116 117 118 119 120 121 122 123 124 125\n",
      " 126 127 128 129 130 131 132 133 134 135 136 137 138 139 140 141 142 143\n",
      " 144 145 146 147 148 149 150 151 152 153 154 155 156 157 158 159 160 161\n",
      " 162 163 164 165 166 167 168 169 170 171 172 173 174 175 176 177 178 179\n",
      " 180 181 182 183 184 185 186 187 188 189 190 191 192 193 194 195 196 197\n",
      " 198 199 200 201 202 203 204 205 206 207 208 209 210 211 212 213 214 215\n",
      " 216 217 218 219 220 221 222 223 224 225 226 227 228 229 230 231 232 233\n",
      " 234 235 236 237 238 239 240 241 242 243 244 245]\n",
      "[246 247 248 249 250 251 252 253 254 255 256 257 258 259 260 261 262 263\n",
      " 264 265 266 267 268 269 270 271 272 273 274 275 276 277 278 279 280 281\n",
      " 282 283 284 285 286 287 288 289 290 291 292 293 294 295 296 297 298 299\n",
      " 300 301 302 303 304 305 306]\n"
     ]
    }
   ],
   "source": [
    "    kf = KFold(n_splits = 5)\n",
    "    kf.get_n_splits(X_train)\n",
    "\n",
    "    for train_index, test_index in kf.split(X_train):\n",
    "        print(train_index)\n",
    "        print(test_index)"
   ]
  },
  {
   "cell_type": "markdown",
   "id": "8afb6363",
   "metadata": {},
   "source": [
    "# Modelling"
   ]
  },
  {
   "cell_type": "markdown",
   "id": "265a04af",
   "metadata": {},
   "source": [
    "## One-dense-layer model"
   ]
  },
  {
   "cell_type": "code",
   "execution_count": 121,
   "id": "fe197037",
   "metadata": {
    "scrolled": false
   },
   "outputs": [
    {
     "name": "stdout",
     "output_type": "stream",
     "text": [
      "2/2 [==============================] - 0s 2ms/step - loss: 611.1186 - mean_absolute_percentage_error: 56.9411\n",
      "2/2 [==============================] - 0s 2ms/step - loss: 286.7477 - mean_absolute_percentage_error: 26.8400\n",
      "2/2 [==============================] - 0s 2ms/step - loss: 373.0054 - mean_absolute_percentage_error: 24.8654\n",
      "2/2 [==============================] - 0s 2ms/step - loss: 190.5585 - mean_absolute_percentage_error: 16.0513\n",
      "2/2 [==============================] - 0s 3ms/step - loss: 549.9778 - mean_absolute_percentage_error: 36.6763\n"
     ]
    }
   ],
   "source": [
    "base_model = Sequential([\n",
    "    Flatten(input_shape=X_train.shape[1:]),\n",
    "    Dense(1)\n",
    "])\n",
    "base_model_cv_results = model_cross_validation(base_model)"
   ]
  },
  {
   "cell_type": "code",
   "execution_count": 128,
   "id": "6a8b2fdc",
   "metadata": {},
   "outputs": [
    {
     "data": {
      "text/plain": [
       "array([402.2815918 ,  32.27479858])"
      ]
     },
     "execution_count": 128,
     "metadata": {},
     "output_type": "execute_result"
    }
   ],
   "source": [
    "np.mean(base_model_cv_results, axis = 0)"
   ]
  },
  {
   "cell_type": "code",
   "execution_count": 123,
   "id": "af9b671b",
   "metadata": {
    "collapsed": true
   },
   "outputs": [
    {
     "name": "stdout",
     "output_type": "stream",
     "text": [
      "Epoch 1/300\n",
      "16/16 [==============================] - 0s 7ms/step - loss: 17694.8848 - mean_absolute_percentage_error: 237.1806 - val_loss: 12991.4131 - val_mean_absolute_percentage_error: 181.8492\n",
      "Epoch 2/300\n",
      "16/16 [==============================] - 0s 3ms/step - loss: 2632.5046 - mean_absolute_percentage_error: 86.0132 - val_loss: 510.7687 - val_mean_absolute_percentage_error: 34.4657\n",
      "Epoch 3/300\n",
      "16/16 [==============================] - 0s 3ms/step - loss: 836.1059 - mean_absolute_percentage_error: 55.5280 - val_loss: 1577.8795 - val_mean_absolute_percentage_error: 56.7494\n",
      "Epoch 4/300\n",
      "16/16 [==============================] - 0s 3ms/step - loss: 481.2575 - mean_absolute_percentage_error: 42.1006 - val_loss: 430.5345 - val_mean_absolute_percentage_error: 25.0543\n",
      "Epoch 5/300\n",
      "16/16 [==============================] - 0s 3ms/step - loss: 372.7883 - mean_absolute_percentage_error: 36.8090 - val_loss: 655.8307 - val_mean_absolute_percentage_error: 31.9724\n",
      "Epoch 6/300\n",
      "16/16 [==============================] - 0s 3ms/step - loss: 368.4146 - mean_absolute_percentage_error: 35.8176 - val_loss: 393.6305 - val_mean_absolute_percentage_error: 23.9400\n",
      "Epoch 7/300\n",
      "16/16 [==============================] - 0s 3ms/step - loss: 341.3859 - mean_absolute_percentage_error: 34.6473 - val_loss: 460.9695 - val_mean_absolute_percentage_error: 25.9396\n",
      "Epoch 8/300\n",
      "16/16 [==============================] - 0s 3ms/step - loss: 318.1866 - mean_absolute_percentage_error: 33.7604 - val_loss: 435.4566 - val_mean_absolute_percentage_error: 25.1022\n",
      "Epoch 9/300\n",
      "16/16 [==============================] - 0s 3ms/step - loss: 304.0488 - mean_absolute_percentage_error: 33.3228 - val_loss: 490.5892 - val_mean_absolute_percentage_error: 26.8678\n",
      "Epoch 10/300\n",
      "16/16 [==============================] - 0s 3ms/step - loss: 295.3219 - mean_absolute_percentage_error: 31.3918 - val_loss: 307.2656 - val_mean_absolute_percentage_error: 21.6266\n",
      "Epoch 11/300\n",
      "16/16 [==============================] - 0s 3ms/step - loss: 285.1578 - mean_absolute_percentage_error: 32.1463 - val_loss: 509.0181 - val_mean_absolute_percentage_error: 27.4953\n",
      "Epoch 12/300\n",
      "16/16 [==============================] - 0s 3ms/step - loss: 297.8585 - mean_absolute_percentage_error: 32.1732 - val_loss: 497.0866 - val_mean_absolute_percentage_error: 27.1058\n",
      "Epoch 13/300\n",
      "16/16 [==============================] - 0s 3ms/step - loss: 284.4518 - mean_absolute_percentage_error: 30.1845 - val_loss: 245.4134 - val_mean_absolute_percentage_error: 20.3421\n",
      "Epoch 14/300\n",
      "16/16 [==============================] - 0s 3ms/step - loss: 271.7401 - mean_absolute_percentage_error: 29.9029 - val_loss: 266.1785 - val_mean_absolute_percentage_error: 20.6689\n",
      "Epoch 15/300\n",
      "16/16 [==============================] - 0s 3ms/step - loss: 264.7392 - mean_absolute_percentage_error: 30.1371 - val_loss: 448.3677 - val_mean_absolute_percentage_error: 25.5409\n",
      "Epoch 16/300\n",
      "16/16 [==============================] - 0s 3ms/step - loss: 264.3925 - mean_absolute_percentage_error: 29.5533 - val_loss: 238.4357 - val_mean_absolute_percentage_error: 20.1723\n",
      "Epoch 17/300\n",
      "16/16 [==============================] - 0s 3ms/step - loss: 259.7479 - mean_absolute_percentage_error: 29.3958 - val_loss: 430.5844 - val_mean_absolute_percentage_error: 24.9658\n",
      "Epoch 18/300\n",
      "16/16 [==============================] - 0s 3ms/step - loss: 273.6710 - mean_absolute_percentage_error: 30.6874 - val_loss: 481.3357 - val_mean_absolute_percentage_error: 26.6186\n",
      "Epoch 19/300\n",
      "16/16 [==============================] - 0s 3ms/step - loss: 290.5302 - mean_absolute_percentage_error: 30.6376 - val_loss: 265.4405 - val_mean_absolute_percentage_error: 20.6023\n",
      "Epoch 20/300\n",
      "16/16 [==============================] - 0s 3ms/step - loss: 256.0219 - mean_absolute_percentage_error: 28.7893 - val_loss: 293.8756 - val_mean_absolute_percentage_error: 21.1936\n",
      "Epoch 21/300\n",
      "16/16 [==============================] - 0s 3ms/step - loss: 253.7828 - mean_absolute_percentage_error: 28.5047 - val_loss: 226.2779 - val_mean_absolute_percentage_error: 19.9152\n",
      "Epoch 22/300\n",
      "16/16 [==============================] - 0s 3ms/step - loss: 250.6391 - mean_absolute_percentage_error: 28.5132 - val_loss: 217.7481 - val_mean_absolute_percentage_error: 19.8291\n",
      "Epoch 23/300\n",
      "16/16 [==============================] - 0s 3ms/step - loss: 252.4497 - mean_absolute_percentage_error: 29.0342 - val_loss: 285.7373 - val_mean_absolute_percentage_error: 21.0325\n",
      "Epoch 24/300\n",
      "16/16 [==============================] - 0s 3ms/step - loss: 259.3916 - mean_absolute_percentage_error: 29.1620 - val_loss: 230.1546 - val_mean_absolute_percentage_error: 19.9692\n",
      "Epoch 25/300\n",
      "16/16 [==============================] - 0s 3ms/step - loss: 247.1878 - mean_absolute_percentage_error: 28.5921 - val_loss: 226.8039 - val_mean_absolute_percentage_error: 19.9060\n",
      "Epoch 26/300\n",
      "16/16 [==============================] - 0s 3ms/step - loss: 247.9270 - mean_absolute_percentage_error: 28.6720 - val_loss: 281.6121 - val_mean_absolute_percentage_error: 20.9572\n",
      "Epoch 27/300\n",
      "16/16 [==============================] - 0s 3ms/step - loss: 252.4059 - mean_absolute_percentage_error: 28.1338 - val_loss: 231.4495 - val_mean_absolute_percentage_error: 19.9554\n"
     ]
    },
    {
     "data": {
      "text/plain": [
       "<keras.callbacks.History at 0x7f3478a75430>"
      ]
     },
     "execution_count": 123,
     "metadata": {},
     "output_type": "execute_result"
    }
   ],
   "source": [
    "base_model = Sequential([\n",
    "    Flatten(input_shape=X_train.shape[1:]),\n",
    "    Dense(1)\n",
    "])\n",
    "\n",
    "base_model.compile(loss = \"mse\",\n",
    "                 optimizer = \"adam\",\n",
    "                 metrics = \"mean_absolute_percentage_error\")\n",
    "\n",
    "\n",
    "base_model.fit(X_train, \n",
    "                  y_train, \n",
    "                  batch_size = 16, \n",
    "                  epochs = 300, \n",
    "                  verbose = 1, \n",
    "                  callbacks = [es], \n",
    "                  validation_split = 0.2)"
   ]
  },
  {
   "cell_type": "code",
   "execution_count": 141,
   "id": "9865781f",
   "metadata": {},
   "outputs": [
    {
     "name": "stdout",
     "output_type": "stream",
     "text": [
      "2/2 [==============================] - 0s 2ms/step - loss: 218.0842 - mean_absolute_percentage_error: 30.7187\n"
     ]
    },
    {
     "data": {
      "text/plain": [
       "[218.08419799804688, 30.718679428100586]"
      ]
     },
     "execution_count": 141,
     "metadata": {},
     "output_type": "execute_result"
    }
   ],
   "source": [
    "base_model.evaluate(X_test, y_test)"
   ]
  },
  {
   "cell_type": "markdown",
   "id": "357fcad8",
   "metadata": {},
   "source": [
    "## Finetuned model"
   ]
  },
  {
   "cell_type": "code",
   "execution_count": 138,
   "id": "52018680",
   "metadata": {},
   "outputs": [],
   "source": [
    "opt_model = Sequential()\n",
    "# first LSTM layer\n",
    "opt_model.add(LSTM(units = 70, activation = \"tanh\", return_sequences = True))\n",
    "opt_model.add(Dropout(0.2))\n",
    "# second LSTM layer\n",
    "opt_model.add(LSTM(units= 30, activation= \"tanh\", return_sequences= False))\n",
    "opt_model.add(Dropout(0.2))\n",
    "\n",
    "# output layer to predict one value\n",
    "opt_model.add(Dense(1, activation= \"linear\"))\n"
   ]
  },
  {
   "cell_type": "code",
   "execution_count": 133,
   "id": "6967e279",
   "metadata": {},
   "outputs": [
    {
     "name": "stdout",
     "output_type": "stream",
     "text": [
      "2/2 [==============================] - 0s 10ms/step - loss: 810.5895 - mean_absolute_percentage_error: 102.8552\n",
      "2/2 [==============================] - 0s 10ms/step - loss: 195.4231 - mean_absolute_percentage_error: 26.4541\n",
      "2/2 [==============================] - 0s 10ms/step - loss: 149.9083 - mean_absolute_percentage_error: 17.0183\n",
      "2/2 [==============================] - 0s 12ms/step - loss: 270.3255 - mean_absolute_percentage_error: 18.6385\n",
      "2/2 [==============================] - 0s 9ms/step - loss: 175.1973 - mean_absolute_percentage_error: 17.9930\n"
     ]
    }
   ],
   "source": [
    "opt_model_cv_results = model_cross_validation(opt_model)"
   ]
  },
  {
   "cell_type": "code",
   "execution_count": 134,
   "id": "e9be0629",
   "metadata": {},
   "outputs": [
    {
     "data": {
      "text/plain": [
       "array([320.28873901,  36.5918354 ])"
      ]
     },
     "execution_count": 134,
     "metadata": {},
     "output_type": "execute_result"
    }
   ],
   "source": [
    "np.mean(opt_model_cv_results, axis = 0)"
   ]
  },
  {
   "cell_type": "code",
   "execution_count": null,
   "id": "37d5ef9c",
   "metadata": {},
   "outputs": [],
   "source": []
  },
  {
   "cell_type": "code",
   "execution_count": 139,
   "id": "b4dd2449",
   "metadata": {
    "collapsed": true
   },
   "outputs": [
    {
     "name": "stdout",
     "output_type": "stream",
     "text": [
      "Epoch 1/300\n",
      "31/31 [==============================] - 4s 40ms/step - loss: 3065.7107 - mean_absolute_percentage_error: 94.6154 - val_loss: 3640.8950 - val_mean_absolute_percentage_error: 92.1738\n",
      "Epoch 2/300\n",
      "31/31 [==============================] - 1s 23ms/step - loss: 2701.2507 - mean_absolute_percentage_error: 86.9787 - val_loss: 3314.6418 - val_mean_absolute_percentage_error: 87.5099\n",
      "Epoch 3/300\n",
      "31/31 [==============================] - 1s 22ms/step - loss: 2465.7129 - mean_absolute_percentage_error: 81.5947 - val_loss: 3081.4788 - val_mean_absolute_percentage_error: 84.0261\n",
      "Epoch 4/300\n",
      "31/31 [==============================] - 1s 22ms/step - loss: 2310.3787 - mean_absolute_percentage_error: 78.1028 - val_loss: 2938.0081 - val_mean_absolute_percentage_error: 81.8128\n",
      "Epoch 5/300\n",
      "31/31 [==============================] - 1s 25ms/step - loss: 2192.5305 - mean_absolute_percentage_error: 75.2558 - val_loss: 2821.8494 - val_mean_absolute_percentage_error: 79.9786\n",
      "Epoch 6/300\n",
      "31/31 [==============================] - 1s 24ms/step - loss: 2122.0974 - mean_absolute_percentage_error: 73.7565 - val_loss: 2716.1931 - val_mean_absolute_percentage_error: 78.2751\n",
      "Epoch 7/300\n",
      "31/31 [==============================] - 1s 30ms/step - loss: 2035.1136 - mean_absolute_percentage_error: 71.6714 - val_loss: 2615.8015 - val_mean_absolute_percentage_error: 76.6236\n",
      "Epoch 8/300\n",
      "31/31 [==============================] - 1s 23ms/step - loss: 1949.2164 - mean_absolute_percentage_error: 69.5091 - val_loss: 2522.7410 - val_mean_absolute_percentage_error: 75.0622\n",
      "Epoch 9/300\n",
      "31/31 [==============================] - 1s 24ms/step - loss: 1860.2213 - mean_absolute_percentage_error: 67.4854 - val_loss: 2432.1509 - val_mean_absolute_percentage_error: 73.5123\n",
      "Epoch 10/300\n",
      "31/31 [==============================] - 1s 23ms/step - loss: 1785.2009 - mean_absolute_percentage_error: 65.8459 - val_loss: 2345.6753 - val_mean_absolute_percentage_error: 72.0037\n",
      "Epoch 11/300\n",
      "31/31 [==============================] - 1s 22ms/step - loss: 1747.6808 - mean_absolute_percentage_error: 64.8780 - val_loss: 2261.0376 - val_mean_absolute_percentage_error: 70.4980\n",
      "Epoch 12/300\n",
      "31/31 [==============================] - 1s 22ms/step - loss: 1663.8422 - mean_absolute_percentage_error: 62.8871 - val_loss: 2182.3259 - val_mean_absolute_percentage_error: 69.0702\n",
      "Epoch 13/300\n",
      "31/31 [==============================] - 1s 22ms/step - loss: 1606.2280 - mean_absolute_percentage_error: 61.1202 - val_loss: 2106.0613 - val_mean_absolute_percentage_error: 67.6599\n",
      "Epoch 14/300\n",
      "31/31 [==============================] - 1s 23ms/step - loss: 1537.4270 - mean_absolute_percentage_error: 60.0612 - val_loss: 2031.2427 - val_mean_absolute_percentage_error: 66.2493\n",
      "Epoch 15/300\n",
      "31/31 [==============================] - 1s 22ms/step - loss: 1483.0020 - mean_absolute_percentage_error: 58.6138 - val_loss: 1959.9458 - val_mean_absolute_percentage_error: 64.8785\n",
      "Epoch 16/300\n",
      "31/31 [==============================] - 1s 23ms/step - loss: 1427.9637 - mean_absolute_percentage_error: 57.1158 - val_loss: 1891.3839 - val_mean_absolute_percentage_error: 63.5344\n",
      "Epoch 17/300\n",
      "31/31 [==============================] - 1s 25ms/step - loss: 1356.0924 - mean_absolute_percentage_error: 55.6073 - val_loss: 1823.9430 - val_mean_absolute_percentage_error: 62.1860\n",
      "Epoch 18/300\n",
      "31/31 [==============================] - 1s 22ms/step - loss: 1308.5416 - mean_absolute_percentage_error: 54.1448 - val_loss: 1759.0018 - val_mean_absolute_percentage_error: 60.8614\n",
      "Epoch 19/300\n",
      "31/31 [==============================] - 1s 24ms/step - loss: 1251.5634 - mean_absolute_percentage_error: 53.1728 - val_loss: 1696.2639 - val_mean_absolute_percentage_error: 59.5560\n",
      "Epoch 20/300\n",
      "31/31 [==============================] - 1s 22ms/step - loss: 1226.0590 - mean_absolute_percentage_error: 52.3048 - val_loss: 1638.0187 - val_mean_absolute_percentage_error: 58.3198\n",
      "Epoch 21/300\n",
      "31/31 [==============================] - 1s 22ms/step - loss: 1169.2290 - mean_absolute_percentage_error: 51.4221 - val_loss: 1579.8544 - val_mean_absolute_percentage_error: 57.0608\n",
      "Epoch 22/300\n",
      "31/31 [==============================] - 1s 22ms/step - loss: 1157.6091 - mean_absolute_percentage_error: 50.7199 - val_loss: 1523.3896 - val_mean_absolute_percentage_error: 55.8136\n",
      "Epoch 23/300\n",
      "31/31 [==============================] - 1s 23ms/step - loss: 1110.3032 - mean_absolute_percentage_error: 49.6724 - val_loss: 1468.8906 - val_mean_absolute_percentage_error: 54.5851\n",
      "Epoch 24/300\n",
      "31/31 [==============================] - 1s 25ms/step - loss: 1062.1721 - mean_absolute_percentage_error: 48.0309 - val_loss: 1416.9331 - val_mean_absolute_percentage_error: 53.3897\n",
      "Epoch 25/300\n",
      "31/31 [==============================] - 1s 29ms/step - loss: 1030.4481 - mean_absolute_percentage_error: 47.2499 - val_loss: 1366.7816 - val_mean_absolute_percentage_error: 52.2121\n",
      "Epoch 26/300\n",
      "31/31 [==============================] - 1s 29ms/step - loss: 984.8709 - mean_absolute_percentage_error: 46.3759 - val_loss: 1317.9999 - val_mean_absolute_percentage_error: 51.0430\n",
      "Epoch 27/300\n",
      "31/31 [==============================] - 1s 28ms/step - loss: 948.1739 - mean_absolute_percentage_error: 45.0958 - val_loss: 1271.1353 - val_mean_absolute_percentage_error: 49.8962\n",
      "Epoch 28/300\n",
      "31/31 [==============================] - 1s 23ms/step - loss: 913.6850 - mean_absolute_percentage_error: 43.7502 - val_loss: 1226.9836 - val_mean_absolute_percentage_error: 48.7935\n",
      "Epoch 29/300\n",
      "31/31 [==============================] - 1s 22ms/step - loss: 883.8495 - mean_absolute_percentage_error: 44.0637 - val_loss: 1184.9536 - val_mean_absolute_percentage_error: 47.7223\n",
      "Epoch 30/300\n",
      "31/31 [==============================] - 1s 22ms/step - loss: 843.5345 - mean_absolute_percentage_error: 43.5848 - val_loss: 1142.2166 - val_mean_absolute_percentage_error: 46.6102\n",
      "Epoch 31/300\n",
      "31/31 [==============================] - 1s 23ms/step - loss: 797.8047 - mean_absolute_percentage_error: 42.2249 - val_loss: 1102.5728 - val_mean_absolute_percentage_error: 45.5567\n",
      "Epoch 32/300\n",
      "31/31 [==============================] - 1s 21ms/step - loss: 772.3108 - mean_absolute_percentage_error: 41.0224 - val_loss: 1063.9213 - val_mean_absolute_percentage_error: 44.5079\n",
      "Epoch 33/300\n",
      "31/31 [==============================] - 1s 21ms/step - loss: 751.8707 - mean_absolute_percentage_error: 40.6706 - val_loss: 1025.8088 - val_mean_absolute_percentage_error: 43.4515\n",
      "Epoch 34/300\n",
      "31/31 [==============================] - 1s 21ms/step - loss: 737.1799 - mean_absolute_percentage_error: 40.1129 - val_loss: 990.8015 - val_mean_absolute_percentage_error: 42.4604\n",
      "Epoch 35/300\n",
      "31/31 [==============================] - 1s 24ms/step - loss: 695.0103 - mean_absolute_percentage_error: 38.7784 - val_loss: 956.9322 - val_mean_absolute_percentage_error: 41.5323\n",
      "Epoch 36/300\n",
      "31/31 [==============================] - 1s 30ms/step - loss: 707.7462 - mean_absolute_percentage_error: 39.1215 - val_loss: 923.1939 - val_mean_absolute_percentage_error: 40.5918\n",
      "Epoch 37/300\n",
      "31/31 [==============================] - 1s 29ms/step - loss: 655.9389 - mean_absolute_percentage_error: 37.9991 - val_loss: 892.4400 - val_mean_absolute_percentage_error: 39.7162\n",
      "Epoch 38/300\n",
      "31/31 [==============================] - 1s 27ms/step - loss: 663.0416 - mean_absolute_percentage_error: 39.0618 - val_loss: 862.9438 - val_mean_absolute_percentage_error: 38.8588\n",
      "Epoch 39/300\n",
      "31/31 [==============================] - 1s 26ms/step - loss: 622.9291 - mean_absolute_percentage_error: 37.8158 - val_loss: 833.2930 - val_mean_absolute_percentage_error: 37.9786\n",
      "Epoch 40/300\n",
      "31/31 [==============================] - 1s 23ms/step - loss: 604.2799 - mean_absolute_percentage_error: 36.8602 - val_loss: 804.8968 - val_mean_absolute_percentage_error: 37.1841\n",
      "Epoch 41/300\n",
      "31/31 [==============================] - 1s 22ms/step - loss: 598.2894 - mean_absolute_percentage_error: 37.3654 - val_loss: 776.9714 - val_mean_absolute_percentage_error: 36.4127\n",
      "Epoch 42/300\n",
      "31/31 [==============================] - 1s 23ms/step - loss: 579.9431 - mean_absolute_percentage_error: 36.9882 - val_loss: 751.8104 - val_mean_absolute_percentage_error: 35.7411\n",
      "Epoch 43/300\n"
     ]
    },
    {
     "name": "stdout",
     "output_type": "stream",
     "text": [
      "31/31 [==============================] - 1s 23ms/step - loss: 557.8990 - mean_absolute_percentage_error: 36.7739 - val_loss: 726.7139 - val_mean_absolute_percentage_error: 35.0606\n",
      "Epoch 44/300\n",
      "31/31 [==============================] - 1s 23ms/step - loss: 544.5682 - mean_absolute_percentage_error: 35.9751 - val_loss: 702.9022 - val_mean_absolute_percentage_error: 34.4009\n",
      "Epoch 45/300\n",
      "31/31 [==============================] - 1s 24ms/step - loss: 524.4957 - mean_absolute_percentage_error: 35.0499 - val_loss: 680.3679 - val_mean_absolute_percentage_error: 33.7631\n",
      "Epoch 46/300\n",
      "31/31 [==============================] - 1s 22ms/step - loss: 534.4619 - mean_absolute_percentage_error: 36.0498 - val_loss: 658.4539 - val_mean_absolute_percentage_error: 33.1664\n",
      "Epoch 47/300\n",
      "31/31 [==============================] - 1s 25ms/step - loss: 511.7388 - mean_absolute_percentage_error: 35.8525 - val_loss: 638.0563 - val_mean_absolute_percentage_error: 32.6002\n",
      "Epoch 48/300\n",
      "31/31 [==============================] - 1s 24ms/step - loss: 510.9607 - mean_absolute_percentage_error: 35.9546 - val_loss: 617.9459 - val_mean_absolute_percentage_error: 32.0608\n",
      "Epoch 49/300\n",
      "31/31 [==============================] - 1s 22ms/step - loss: 478.1697 - mean_absolute_percentage_error: 34.9425 - val_loss: 598.7098 - val_mean_absolute_percentage_error: 31.5384\n",
      "Epoch 50/300\n",
      "31/31 [==============================] - 1s 23ms/step - loss: 470.1191 - mean_absolute_percentage_error: 35.3880 - val_loss: 580.6715 - val_mean_absolute_percentage_error: 31.0600\n",
      "Epoch 51/300\n",
      "31/31 [==============================] - 1s 24ms/step - loss: 466.8714 - mean_absolute_percentage_error: 35.1959 - val_loss: 563.3009 - val_mean_absolute_percentage_error: 30.6000\n",
      "Epoch 52/300\n",
      "31/31 [==============================] - 1s 27ms/step - loss: 451.0638 - mean_absolute_percentage_error: 34.0477 - val_loss: 545.4165 - val_mean_absolute_percentage_error: 30.1158\n",
      "Epoch 53/300\n",
      "31/31 [==============================] - 1s 30ms/step - loss: 450.2093 - mean_absolute_percentage_error: 34.9540 - val_loss: 530.9324 - val_mean_absolute_percentage_error: 29.7153\n",
      "Epoch 54/300\n",
      "31/31 [==============================] - 1s 26ms/step - loss: 434.9876 - mean_absolute_percentage_error: 33.9601 - val_loss: 515.0125 - val_mean_absolute_percentage_error: 29.2659\n",
      "Epoch 55/300\n",
      "31/31 [==============================] - 1s 24ms/step - loss: 449.4197 - mean_absolute_percentage_error: 35.1704 - val_loss: 501.4334 - val_mean_absolute_percentage_error: 28.8745\n",
      "Epoch 56/300\n",
      "31/31 [==============================] - 1s 26ms/step - loss: 416.7699 - mean_absolute_percentage_error: 34.6198 - val_loss: 486.8059 - val_mean_absolute_percentage_error: 28.4439\n",
      "Epoch 57/300\n",
      "31/31 [==============================] - 1s 24ms/step - loss: 438.8926 - mean_absolute_percentage_error: 35.3473 - val_loss: 474.7409 - val_mean_absolute_percentage_error: 28.0814\n",
      "Epoch 58/300\n",
      "31/31 [==============================] - 1s 21ms/step - loss: 414.8237 - mean_absolute_percentage_error: 35.2502 - val_loss: 462.1840 - val_mean_absolute_percentage_error: 27.6966\n",
      "Epoch 59/300\n",
      "31/31 [==============================] - 1s 21ms/step - loss: 389.4133 - mean_absolute_percentage_error: 33.1514 - val_loss: 449.4211 - val_mean_absolute_percentage_error: 27.2971\n",
      "Epoch 60/300\n",
      "31/31 [==============================] - 1s 20ms/step - loss: 401.5481 - mean_absolute_percentage_error: 35.0070 - val_loss: 437.6875 - val_mean_absolute_percentage_error: 26.9327\n",
      "Epoch 61/300\n",
      "31/31 [==============================] - 1s 20ms/step - loss: 399.4727 - mean_absolute_percentage_error: 34.9976 - val_loss: 426.9797 - val_mean_absolute_percentage_error: 26.6057\n",
      "Epoch 62/300\n",
      "31/31 [==============================] - 1s 21ms/step - loss: 395.7325 - mean_absolute_percentage_error: 34.8001 - val_loss: 416.2655 - val_mean_absolute_percentage_error: 26.2717\n",
      "Epoch 63/300\n",
      "31/31 [==============================] - 1s 20ms/step - loss: 369.5016 - mean_absolute_percentage_error: 34.1176 - val_loss: 406.4589 - val_mean_absolute_percentage_error: 25.9772\n",
      "Epoch 64/300\n",
      "31/31 [==============================] - 1s 25ms/step - loss: 378.3188 - mean_absolute_percentage_error: 34.9923 - val_loss: 397.6273 - val_mean_absolute_percentage_error: 25.7292\n",
      "Epoch 65/300\n",
      "31/31 [==============================] - 1s 23ms/step - loss: 380.7807 - mean_absolute_percentage_error: 34.9667 - val_loss: 389.5755 - val_mean_absolute_percentage_error: 25.4990\n",
      "Epoch 66/300\n",
      "31/31 [==============================] - 1s 24ms/step - loss: 374.8794 - mean_absolute_percentage_error: 34.4642 - val_loss: 381.3519 - val_mean_absolute_percentage_error: 25.2597\n",
      "Epoch 67/300\n",
      "31/31 [==============================] - 1s 23ms/step - loss: 387.5957 - mean_absolute_percentage_error: 35.5717 - val_loss: 374.5175 - val_mean_absolute_percentage_error: 25.0573\n",
      "Epoch 68/300\n",
      "31/31 [==============================] - 1s 21ms/step - loss: 389.1142 - mean_absolute_percentage_error: 35.1010 - val_loss: 366.1147 - val_mean_absolute_percentage_error: 24.8039\n",
      "Epoch 69/300\n",
      "31/31 [==============================] - 1s 20ms/step - loss: 375.0049 - mean_absolute_percentage_error: 35.1575 - val_loss: 360.2961 - val_mean_absolute_percentage_error: 24.6254\n",
      "Epoch 70/300\n",
      "31/31 [==============================] - 1s 20ms/step - loss: 357.6352 - mean_absolute_percentage_error: 34.5306 - val_loss: 353.0949 - val_mean_absolute_percentage_error: 24.4008\n",
      "Epoch 71/300\n",
      "31/31 [==============================] - 1s 20ms/step - loss: 353.8851 - mean_absolute_percentage_error: 34.4886 - val_loss: 346.3947 - val_mean_absolute_percentage_error: 24.1879\n",
      "Epoch 72/300\n",
      "31/31 [==============================] - 1s 20ms/step - loss: 358.5497 - mean_absolute_percentage_error: 35.0658 - val_loss: 340.3742 - val_mean_absolute_percentage_error: 23.9933\n",
      "Epoch 73/300\n",
      "31/31 [==============================] - 1s 22ms/step - loss: 352.5553 - mean_absolute_percentage_error: 35.0858 - val_loss: 335.0947 - val_mean_absolute_percentage_error: 23.8199\n",
      "Epoch 74/300\n",
      "31/31 [==============================] - 1s 21ms/step - loss: 354.8095 - mean_absolute_percentage_error: 35.0714 - val_loss: 329.1685 - val_mean_absolute_percentage_error: 23.6220\n",
      "Epoch 75/300\n",
      "31/31 [==============================] - 1s 20ms/step - loss: 355.3679 - mean_absolute_percentage_error: 35.0502 - val_loss: 324.3546 - val_mean_absolute_percentage_error: 23.4628\n",
      "Epoch 76/300\n",
      "31/31 [==============================] - 1s 20ms/step - loss: 373.0285 - mean_absolute_percentage_error: 35.7829 - val_loss: 320.5757 - val_mean_absolute_percentage_error: 23.3518\n",
      "Epoch 77/300\n",
      "31/31 [==============================] - 1s 20ms/step - loss: 362.3450 - mean_absolute_percentage_error: 36.4113 - val_loss: 315.6534 - val_mean_absolute_percentage_error: 23.2052\n",
      "Epoch 78/300\n",
      "31/31 [==============================] - 1s 22ms/step - loss: 363.5535 - mean_absolute_percentage_error: 36.7479 - val_loss: 311.3184 - val_mean_absolute_percentage_error: 23.0741\n",
      "Epoch 79/300\n",
      "31/31 [==============================] - 1s 22ms/step - loss: 336.4648 - mean_absolute_percentage_error: 35.3236 - val_loss: 306.7028 - val_mean_absolute_percentage_error: 22.9324\n",
      "Epoch 80/300\n",
      "31/31 [==============================] - 1s 21ms/step - loss: 359.5771 - mean_absolute_percentage_error: 36.4582 - val_loss: 303.7897 - val_mean_absolute_percentage_error: 22.8418\n",
      "Epoch 81/300\n",
      "31/31 [==============================] - 1s 20ms/step - loss: 325.4121 - mean_absolute_percentage_error: 34.5286 - val_loss: 300.8781 - val_mean_absolute_percentage_error: 22.7503\n",
      "Epoch 82/300\n",
      "31/31 [==============================] - 1s 20ms/step - loss: 352.9558 - mean_absolute_percentage_error: 35.9053 - val_loss: 298.0883 - val_mean_absolute_percentage_error: 22.6618\n",
      "Epoch 83/300\n",
      "31/31 [==============================] - 1s 20ms/step - loss: 353.1402 - mean_absolute_percentage_error: 36.7845 - val_loss: 294.8778 - val_mean_absolute_percentage_error: 22.5587\n",
      "Epoch 84/300\n",
      "31/31 [==============================] - 1s 20ms/step - loss: 351.7528 - mean_absolute_percentage_error: 35.8932 - val_loss: 290.9397 - val_mean_absolute_percentage_error: 22.4305\n",
      "Epoch 85/300\n"
     ]
    },
    {
     "name": "stdout",
     "output_type": "stream",
     "text": [
      "31/31 [==============================] - 1s 21ms/step - loss: 369.0239 - mean_absolute_percentage_error: 36.6694 - val_loss: 287.8649 - val_mean_absolute_percentage_error: 22.3291\n",
      "Epoch 86/300\n",
      "31/31 [==============================] - 1s 20ms/step - loss: 348.3009 - mean_absolute_percentage_error: 36.2017 - val_loss: 284.8858 - val_mean_absolute_percentage_error: 22.2296\n",
      "Epoch 87/300\n",
      "31/31 [==============================] - 1s 20ms/step - loss: 335.5416 - mean_absolute_percentage_error: 35.4489 - val_loss: 280.7621 - val_mean_absolute_percentage_error: 22.0898\n",
      "Epoch 88/300\n",
      "31/31 [==============================] - 1s 20ms/step - loss: 337.6131 - mean_absolute_percentage_error: 36.2291 - val_loss: 279.8931 - val_mean_absolute_percentage_error: 22.0600\n",
      "Epoch 89/300\n",
      "31/31 [==============================] - 1s 20ms/step - loss: 339.0126 - mean_absolute_percentage_error: 35.5871 - val_loss: 276.8725 - val_mean_absolute_percentage_error: 21.9597\n",
      "Epoch 90/300\n",
      "31/31 [==============================] - 1s 20ms/step - loss: 360.8075 - mean_absolute_percentage_error: 36.4391 - val_loss: 274.5853 - val_mean_absolute_percentage_error: 21.8863\n",
      "Epoch 91/300\n",
      "31/31 [==============================] - 1s 20ms/step - loss: 357.3927 - mean_absolute_percentage_error: 37.1015 - val_loss: 272.8828 - val_mean_absolute_percentage_error: 21.8312\n",
      "Epoch 92/300\n",
      "31/31 [==============================] - 1s 20ms/step - loss: 331.8834 - mean_absolute_percentage_error: 35.2757 - val_loss: 270.0195 - val_mean_absolute_percentage_error: 21.7376\n",
      "Epoch 93/300\n",
      "31/31 [==============================] - 1s 20ms/step - loss: 351.6556 - mean_absolute_percentage_error: 37.0038 - val_loss: 268.6981 - val_mean_absolute_percentage_error: 21.6940\n",
      "Epoch 94/300\n",
      "31/31 [==============================] - 1s 22ms/step - loss: 341.3367 - mean_absolute_percentage_error: 36.4518 - val_loss: 267.2763 - val_mean_absolute_percentage_error: 21.6467\n",
      "Epoch 95/300\n",
      "31/31 [==============================] - 1s 20ms/step - loss: 347.6225 - mean_absolute_percentage_error: 37.0160 - val_loss: 264.9660 - val_mean_absolute_percentage_error: 21.5692\n",
      "Epoch 96/300\n",
      "31/31 [==============================] - 1s 20ms/step - loss: 350.7110 - mean_absolute_percentage_error: 36.8575 - val_loss: 264.7592 - val_mean_absolute_percentage_error: 21.5622\n",
      "Epoch 97/300\n",
      "31/31 [==============================] - 1s 20ms/step - loss: 341.8709 - mean_absolute_percentage_error: 36.9129 - val_loss: 264.0178 - val_mean_absolute_percentage_error: 21.5372\n",
      "Epoch 98/300\n",
      "31/31 [==============================] - 1s 20ms/step - loss: 322.1874 - mean_absolute_percentage_error: 35.2536 - val_loss: 262.2435 - val_mean_absolute_percentage_error: 21.4768\n",
      "Epoch 99/300\n",
      "31/31 [==============================] - 1s 21ms/step - loss: 335.0468 - mean_absolute_percentage_error: 35.8237 - val_loss: 261.8092 - val_mean_absolute_percentage_error: 21.4619\n",
      "Epoch 100/300\n",
      "31/31 [==============================] - 1s 24ms/step - loss: 341.5637 - mean_absolute_percentage_error: 35.9513 - val_loss: 260.1727 - val_mean_absolute_percentage_error: 21.4056\n",
      "Epoch 101/300\n",
      "31/31 [==============================] - 1s 22ms/step - loss: 317.8709 - mean_absolute_percentage_error: 35.1587 - val_loss: 258.8163 - val_mean_absolute_percentage_error: 21.3586\n",
      "Epoch 102/300\n",
      "31/31 [==============================] - 1s 20ms/step - loss: 344.6270 - mean_absolute_percentage_error: 37.1354 - val_loss: 259.6171 - val_mean_absolute_percentage_error: 21.3864\n",
      "Epoch 103/300\n",
      "31/31 [==============================] - 1s 25ms/step - loss: 333.9436 - mean_absolute_percentage_error: 36.6844 - val_loss: 257.4262 - val_mean_absolute_percentage_error: 21.3112\n",
      "Epoch 104/300\n",
      "31/31 [==============================] - 1s 24ms/step - loss: 359.6995 - mean_absolute_percentage_error: 37.3136 - val_loss: 257.8305 - val_mean_absolute_percentage_error: 21.3242\n",
      "Epoch 105/300\n",
      "31/31 [==============================] - 1s 24ms/step - loss: 339.6904 - mean_absolute_percentage_error: 36.5718 - val_loss: 255.9058 - val_mean_absolute_percentage_error: 21.2624\n",
      "Epoch 106/300\n",
      "31/31 [==============================] - 1s 23ms/step - loss: 355.2921 - mean_absolute_percentage_error: 37.1041 - val_loss: 255.7216 - val_mean_absolute_percentage_error: 21.2565\n",
      "Epoch 107/300\n",
      "31/31 [==============================] - 1s 24ms/step - loss: 326.4876 - mean_absolute_percentage_error: 36.0290 - val_loss: 255.2140 - val_mean_absolute_percentage_error: 21.2401\n",
      "Epoch 108/300\n",
      "31/31 [==============================] - 1s 26ms/step - loss: 340.6961 - mean_absolute_percentage_error: 36.9191 - val_loss: 255.6929 - val_mean_absolute_percentage_error: 21.2556\n",
      "Epoch 109/300\n",
      "31/31 [==============================] - 1s 23ms/step - loss: 339.7482 - mean_absolute_percentage_error: 36.8043 - val_loss: 253.3201 - val_mean_absolute_percentage_error: 21.1785\n",
      "Epoch 110/300\n",
      "31/31 [==============================] - 1s 27ms/step - loss: 329.0446 - mean_absolute_percentage_error: 35.8731 - val_loss: 253.1405 - val_mean_absolute_percentage_error: 21.1726\n",
      "Epoch 111/300\n",
      "31/31 [==============================] - 1s 29ms/step - loss: 354.6567 - mean_absolute_percentage_error: 37.5207 - val_loss: 252.8243 - val_mean_absolute_percentage_error: 21.1623\n",
      "Epoch 112/300\n",
      "31/31 [==============================] - 1s 31ms/step - loss: 358.5567 - mean_absolute_percentage_error: 37.2688 - val_loss: 252.2951 - val_mean_absolute_percentage_error: 21.1449\n",
      "Epoch 113/300\n",
      "31/31 [==============================] - 1s 27ms/step - loss: 328.3287 - mean_absolute_percentage_error: 36.1126 - val_loss: 251.6289 - val_mean_absolute_percentage_error: 21.1229\n",
      "Epoch 114/300\n",
      "31/31 [==============================] - 1s 25ms/step - loss: 331.4374 - mean_absolute_percentage_error: 35.9225 - val_loss: 250.8493 - val_mean_absolute_percentage_error: 21.0971\n",
      "Epoch 115/300\n",
      "31/31 [==============================] - 1s 24ms/step - loss: 346.6248 - mean_absolute_percentage_error: 37.1451 - val_loss: 251.3160 - val_mean_absolute_percentage_error: 21.1126\n",
      "Epoch 116/300\n",
      "31/31 [==============================] - 1s 24ms/step - loss: 319.5263 - mean_absolute_percentage_error: 34.7818 - val_loss: 249.4156 - val_mean_absolute_percentage_error: 21.0494\n",
      "Epoch 117/300\n",
      "31/31 [==============================] - 1s 23ms/step - loss: 339.1214 - mean_absolute_percentage_error: 36.7749 - val_loss: 249.5090 - val_mean_absolute_percentage_error: 21.0525\n",
      "Epoch 118/300\n",
      "31/31 [==============================] - 1s 23ms/step - loss: 341.8185 - mean_absolute_percentage_error: 37.0477 - val_loss: 248.7223 - val_mean_absolute_percentage_error: 21.0262\n",
      "Epoch 119/300\n",
      "31/31 [==============================] - 1s 23ms/step - loss: 351.8774 - mean_absolute_percentage_error: 37.3236 - val_loss: 249.0103 - val_mean_absolute_percentage_error: 21.0359\n",
      "Epoch 120/300\n",
      "31/31 [==============================] - 1s 23ms/step - loss: 348.3321 - mean_absolute_percentage_error: 37.4039 - val_loss: 250.2576 - val_mean_absolute_percentage_error: 21.0775\n",
      "Epoch 121/300\n",
      "31/31 [==============================] - 1s 24ms/step - loss: 328.2344 - mean_absolute_percentage_error: 36.1357 - val_loss: 250.0377 - val_mean_absolute_percentage_error: 21.0702\n",
      "Epoch 122/300\n",
      "31/31 [==============================] - 1s 24ms/step - loss: 343.9259 - mean_absolute_percentage_error: 36.9422 - val_loss: 248.9740 - val_mean_absolute_percentage_error: 21.0346\n",
      "Epoch 123/300\n",
      "31/31 [==============================] - 1s 26ms/step - loss: 340.7323 - mean_absolute_percentage_error: 36.8769 - val_loss: 248.6303 - val_mean_absolute_percentage_error: 21.0231\n",
      "Epoch 124/300\n",
      "31/31 [==============================] - 1s 30ms/step - loss: 317.6599 - mean_absolute_percentage_error: 35.1708 - val_loss: 249.7119 - val_mean_absolute_percentage_error: 21.0593\n",
      "Epoch 125/300\n",
      "31/31 [==============================] - 1s 27ms/step - loss: 306.8258 - mean_absolute_percentage_error: 34.6813 - val_loss: 248.4605 - val_mean_absolute_percentage_error: 21.0174\n",
      "Epoch 126/300\n",
      "31/31 [==============================] - 1s 25ms/step - loss: 341.9863 - mean_absolute_percentage_error: 36.5801 - val_loss: 248.6039 - val_mean_absolute_percentage_error: 21.0222\n",
      "Epoch 127/300\n"
     ]
    },
    {
     "name": "stdout",
     "output_type": "stream",
     "text": [
      "31/31 [==============================] - 1s 25ms/step - loss: 336.4341 - mean_absolute_percentage_error: 36.8806 - val_loss: 247.1028 - val_mean_absolute_percentage_error: 20.9716\n",
      "Epoch 128/300\n",
      "31/31 [==============================] - 1s 24ms/step - loss: 369.8593 - mean_absolute_percentage_error: 38.4581 - val_loss: 247.8633 - val_mean_absolute_percentage_error: 20.9973\n",
      "Epoch 129/300\n",
      "31/31 [==============================] - 1s 23ms/step - loss: 353.1997 - mean_absolute_percentage_error: 37.2214 - val_loss: 247.8466 - val_mean_absolute_percentage_error: 20.9967\n",
      "Epoch 130/300\n",
      "31/31 [==============================] - 1s 24ms/step - loss: 324.9397 - mean_absolute_percentage_error: 36.4681 - val_loss: 248.2017 - val_mean_absolute_percentage_error: 21.0087\n",
      "Epoch 131/300\n",
      "31/31 [==============================] - 1s 23ms/step - loss: 338.7750 - mean_absolute_percentage_error: 36.7851 - val_loss: 248.1608 - val_mean_absolute_percentage_error: 21.0073\n",
      "Epoch 132/300\n",
      "31/31 [==============================] - 1s 26ms/step - loss: 324.3892 - mean_absolute_percentage_error: 35.6390 - val_loss: 247.4509 - val_mean_absolute_percentage_error: 20.9834\n"
     ]
    },
    {
     "data": {
      "text/plain": [
       "<keras.callbacks.History at 0x7f342037fe50>"
      ]
     },
     "execution_count": 139,
     "metadata": {},
     "output_type": "execute_result"
    }
   ],
   "source": [
    "opt_model.compile(optimizer= \"adam\", loss= \"mse\", metrics = \"mean_absolute_percentage_error\")\n",
    "opt_model.fit(X_train, \n",
    "                  y_train, \n",
    "                  batch_size = 8, \n",
    "                  epochs = 300, \n",
    "                  verbose = 1, \n",
    "                  callbacks = [es], \n",
    "                  validation_split = 0.2)"
   ]
  },
  {
   "cell_type": "code",
   "execution_count": 140,
   "id": "ba47e4cd",
   "metadata": {},
   "outputs": [
    {
     "name": "stdout",
     "output_type": "stream",
     "text": [
      "2/2 [==============================] - 0s 11ms/step - loss: 272.6223 - mean_absolute_percentage_error: 42.0692\n"
     ]
    },
    {
     "data": {
      "text/plain": [
       "[272.6222839355469, 42.06920623779297]"
      ]
     },
     "execution_count": 140,
     "metadata": {},
     "output_type": "execute_result"
    }
   ],
   "source": [
    "opt_model.evaluate(X_test, y_test)"
   ]
  },
  {
   "cell_type": "markdown",
   "id": "ec49561e",
   "metadata": {},
   "source": [
    "# Rolling average"
   ]
  },
  {
   "cell_type": "markdown",
   "id": "4a2785bc",
   "metadata": {},
   "source": [
    "## Calculate rolling average"
   ]
  },
  {
   "cell_type": "code",
   "execution_count": 279,
   "id": "7fe076c9",
   "metadata": {
    "scrolled": true
   },
   "outputs": [
    {
     "data": {
      "text/plain": [
       "21.0"
      ]
     },
     "execution_count": 279,
     "metadata": {},
     "output_type": "execute_result"
    }
   ],
   "source": [
    "window_size = 3\n",
    "# Moving average without center option: \n",
    "    #calculate fill value for the beginning of the time series\n",
    "    #fill_value = df_combined[\"total\"][window_size:window_size*2].mean()\n",
    "# moving average with center option: \n",
    "# calculate fill value: mean of the last seven observations: \n",
    "fill_value = df_combined[\"total\"][-window_size].mean()\n",
    "fill_value"
   ]
  },
  {
   "cell_type": "code",
   "execution_count": 280,
   "id": "6ba2d548",
   "metadata": {
    "scrolled": true
   },
   "outputs": [],
   "source": [
    "df_combined[\"total_moving_average\"] = df_combined[\"total\"].rolling(window=window_size, center = True).mean().fillna(fill_value)"
   ]
  },
  {
   "cell_type": "code",
   "execution_count": 281,
   "id": "b72dd908",
   "metadata": {},
   "outputs": [
    {
     "data": {
      "text/html": [
       "<div>\n",
       "<style scoped>\n",
       "    .dataframe tbody tr th:only-of-type {\n",
       "        vertical-align: middle;\n",
       "    }\n",
       "\n",
       "    .dataframe tbody tr th {\n",
       "        vertical-align: top;\n",
       "    }\n",
       "\n",
       "    .dataframe thead th {\n",
       "        text-align: right;\n",
       "    }\n",
       "</style>\n",
       "<table border=\"1\" class=\"dataframe\">\n",
       "  <thead>\n",
       "    <tr style=\"text-align: right;\">\n",
       "      <th></th>\n",
       "      <th>the_temp</th>\n",
       "      <th>wind_speed</th>\n",
       "      <th>air_pressure</th>\n",
       "      <th>humidity</th>\n",
       "      <th>visibility</th>\n",
       "      <th>daylight_hours</th>\n",
       "      <th>isholidays</th>\n",
       "      <th>weekday</th>\n",
       "      <th>weeknum</th>\n",
       "      <th>total</th>\n",
       "      <th>total_moving_average</th>\n",
       "    </tr>\n",
       "    <tr>\n",
       "      <th>date</th>\n",
       "      <th></th>\n",
       "      <th></th>\n",
       "      <th></th>\n",
       "      <th></th>\n",
       "      <th></th>\n",
       "      <th></th>\n",
       "      <th></th>\n",
       "      <th></th>\n",
       "      <th></th>\n",
       "      <th></th>\n",
       "      <th></th>\n",
       "    </tr>\n",
       "  </thead>\n",
       "  <tbody>\n",
       "    <tr>\n",
       "      <th>2021-01-01</th>\n",
       "      <td>2.070</td>\n",
       "      <td>3.020726</td>\n",
       "      <td>1007.0</td>\n",
       "      <td>93</td>\n",
       "      <td>6.031650</td>\n",
       "      <td>7.840000</td>\n",
       "      <td>1</td>\n",
       "      <td>4</td>\n",
       "      <td>53</td>\n",
       "      <td>16.0</td>\n",
       "      <td>21.000000</td>\n",
       "    </tr>\n",
       "    <tr>\n",
       "      <th>2021-01-02</th>\n",
       "      <td>2.465</td>\n",
       "      <td>2.666541</td>\n",
       "      <td>1015.0</td>\n",
       "      <td>89</td>\n",
       "      <td>12.863316</td>\n",
       "      <td>7.861389</td>\n",
       "      <td>0</td>\n",
       "      <td>5</td>\n",
       "      <td>53</td>\n",
       "      <td>16.0</td>\n",
       "      <td>16.333333</td>\n",
       "    </tr>\n",
       "    <tr>\n",
       "      <th>2021-01-03</th>\n",
       "      <td>0.985</td>\n",
       "      <td>9.161659</td>\n",
       "      <td>1015.0</td>\n",
       "      <td>96</td>\n",
       "      <td>2.144352</td>\n",
       "      <td>7.884722</td>\n",
       "      <td>0</td>\n",
       "      <td>6</td>\n",
       "      <td>53</td>\n",
       "      <td>17.0</td>\n",
       "      <td>22.000000</td>\n",
       "    </tr>\n",
       "    <tr>\n",
       "      <th>2021-01-04</th>\n",
       "      <td>1.355</td>\n",
       "      <td>6.271227</td>\n",
       "      <td>1017.0</td>\n",
       "      <td>96</td>\n",
       "      <td>2.927901</td>\n",
       "      <td>7.909167</td>\n",
       "      <td>0</td>\n",
       "      <td>0</td>\n",
       "      <td>1</td>\n",
       "      <td>33.0</td>\n",
       "      <td>26.333333</td>\n",
       "    </tr>\n",
       "    <tr>\n",
       "      <th>2021-01-05</th>\n",
       "      <td>1.270</td>\n",
       "      <td>6.009528</td>\n",
       "      <td>1017.0</td>\n",
       "      <td>94</td>\n",
       "      <td>7.021805</td>\n",
       "      <td>7.935556</td>\n",
       "      <td>0</td>\n",
       "      <td>1</td>\n",
       "      <td>1</td>\n",
       "      <td>29.0</td>\n",
       "      <td>33.000000</td>\n",
       "    </tr>\n",
       "    <tr>\n",
       "      <th>2021-01-06</th>\n",
       "      <td>1.875</td>\n",
       "      <td>3.757435</td>\n",
       "      <td>1010.5</td>\n",
       "      <td>96</td>\n",
       "      <td>6.549874</td>\n",
       "      <td>7.963611</td>\n",
       "      <td>1</td>\n",
       "      <td>2</td>\n",
       "      <td>1</td>\n",
       "      <td>37.0</td>\n",
       "      <td>31.000000</td>\n",
       "    </tr>\n",
       "    <tr>\n",
       "      <th>2021-01-07</th>\n",
       "      <td>1.110</td>\n",
       "      <td>6.503004</td>\n",
       "      <td>1009.5</td>\n",
       "      <td>93</td>\n",
       "      <td>4.482572</td>\n",
       "      <td>7.993333</td>\n",
       "      <td>0</td>\n",
       "      <td>3</td>\n",
       "      <td>1</td>\n",
       "      <td>27.0</td>\n",
       "      <td>32.666667</td>\n",
       "    </tr>\n",
       "    <tr>\n",
       "      <th>2021-01-08</th>\n",
       "      <td>1.150</td>\n",
       "      <td>3.506091</td>\n",
       "      <td>1012.0</td>\n",
       "      <td>93</td>\n",
       "      <td>4.352084</td>\n",
       "      <td>8.024444</td>\n",
       "      <td>0</td>\n",
       "      <td>4</td>\n",
       "      <td>1</td>\n",
       "      <td>34.0</td>\n",
       "      <td>29.666667</td>\n",
       "    </tr>\n",
       "    <tr>\n",
       "      <th>2021-01-09</th>\n",
       "      <td>1.630</td>\n",
       "      <td>3.135630</td>\n",
       "      <td>1020.0</td>\n",
       "      <td>96</td>\n",
       "      <td>5.672498</td>\n",
       "      <td>8.057222</td>\n",
       "      <td>0</td>\n",
       "      <td>5</td>\n",
       "      <td>1</td>\n",
       "      <td>28.0</td>\n",
       "      <td>31.000000</td>\n",
       "    </tr>\n",
       "    <tr>\n",
       "      <th>2021-01-10</th>\n",
       "      <td>1.295</td>\n",
       "      <td>4.769273</td>\n",
       "      <td>1024.0</td>\n",
       "      <td>87</td>\n",
       "      <td>11.186546</td>\n",
       "      <td>8.091389</td>\n",
       "      <td>0</td>\n",
       "      <td>6</td>\n",
       "      <td>1</td>\n",
       "      <td>31.0</td>\n",
       "      <td>28.000000</td>\n",
       "    </tr>\n",
       "  </tbody>\n",
       "</table>\n",
       "</div>"
      ],
      "text/plain": [
       "            the_temp  wind_speed  air_pressure  humidity  visibility  \\\n",
       "date                                                                   \n",
       "2021-01-01     2.070    3.020726        1007.0        93    6.031650   \n",
       "2021-01-02     2.465    2.666541        1015.0        89   12.863316   \n",
       "2021-01-03     0.985    9.161659        1015.0        96    2.144352   \n",
       "2021-01-04     1.355    6.271227        1017.0        96    2.927901   \n",
       "2021-01-05     1.270    6.009528        1017.0        94    7.021805   \n",
       "2021-01-06     1.875    3.757435        1010.5        96    6.549874   \n",
       "2021-01-07     1.110    6.503004        1009.5        93    4.482572   \n",
       "2021-01-08     1.150    3.506091        1012.0        93    4.352084   \n",
       "2021-01-09     1.630    3.135630        1020.0        96    5.672498   \n",
       "2021-01-10     1.295    4.769273        1024.0        87   11.186546   \n",
       "\n",
       "            daylight_hours  isholidays  weekday  weeknum  total  \\\n",
       "date                                                              \n",
       "2021-01-01        7.840000           1        4       53   16.0   \n",
       "2021-01-02        7.861389           0        5       53   16.0   \n",
       "2021-01-03        7.884722           0        6       53   17.0   \n",
       "2021-01-04        7.909167           0        0        1   33.0   \n",
       "2021-01-05        7.935556           0        1        1   29.0   \n",
       "2021-01-06        7.963611           1        2        1   37.0   \n",
       "2021-01-07        7.993333           0        3        1   27.0   \n",
       "2021-01-08        8.024444           0        4        1   34.0   \n",
       "2021-01-09        8.057222           0        5        1   28.0   \n",
       "2021-01-10        8.091389           0        6        1   31.0   \n",
       "\n",
       "            total_moving_average  \n",
       "date                              \n",
       "2021-01-01             21.000000  \n",
       "2021-01-02             16.333333  \n",
       "2021-01-03             22.000000  \n",
       "2021-01-04             26.333333  \n",
       "2021-01-05             33.000000  \n",
       "2021-01-06             31.000000  \n",
       "2021-01-07             32.666667  \n",
       "2021-01-08             29.666667  \n",
       "2021-01-09             31.000000  \n",
       "2021-01-10             28.000000  "
      ]
     },
     "execution_count": 281,
     "metadata": {},
     "output_type": "execute_result"
    }
   ],
   "source": [
    "df_combined.head(10)"
   ]
  },
  {
   "cell_type": "markdown",
   "id": "84985f4c",
   "metadata": {},
   "source": [
    "## Feed into model"
   ]
  },
  {
   "cell_type": "code",
   "execution_count": 282,
   "id": "2be8cb11",
   "metadata": {},
   "outputs": [],
   "source": [
    "# For now we only take the total and total_moving_average into account\n",
    "df_ma = df_combined[[\"total\", \"total_moving_average\"]]"
   ]
  },
  {
   "cell_type": "code",
   "execution_count": 283,
   "id": "9674fda9",
   "metadata": {},
   "outputs": [
    {
     "data": {
      "text/plain": [
       "total                   float64\n",
       "total_moving_average    float64\n",
       "dtype: object"
      ]
     },
     "execution_count": 283,
     "metadata": {},
     "output_type": "execute_result"
    }
   ],
   "source": [
    "df_ma.dtypes"
   ]
  },
  {
   "cell_type": "code",
   "execution_count": 284,
   "id": "854d0354",
   "metadata": {},
   "outputs": [
    {
     "data": {
      "text/plain": [
       "339"
      ]
     },
     "execution_count": 284,
     "metadata": {},
     "output_type": "execute_result"
    }
   ],
   "source": [
    "# Train-test-split\n",
    "int(len(df_ma)* 0.8)"
   ]
  },
  {
   "cell_type": "code",
   "execution_count": 285,
   "id": "24333f22",
   "metadata": {},
   "outputs": [],
   "source": [
    "window_size = 31\n",
    "future_horizon = 1\n",
    "\n",
    "X_train, y_train = get_X_y(window_size,future_horizon, df_ma.iloc[:339, :])\n",
    "X_test, y_test = get_X_y(window_size, future_horizon, df_ma.iloc[339:, :])"
   ]
  },
  {
   "cell_type": "code",
   "execution_count": 286,
   "id": "217db820",
   "metadata": {},
   "outputs": [
    {
     "data": {
      "text/plain": [
       "((307, 31, 2), (307, 1), (53, 31, 2), (53, 1))"
      ]
     },
     "execution_count": 286,
     "metadata": {},
     "output_type": "execute_result"
    }
   ],
   "source": [
    "X_train.shape, y_train.shape, X_test.shape, y_test.shape"
   ]
  },
  {
   "cell_type": "code",
   "execution_count": 287,
   "id": "c962c444",
   "metadata": {},
   "outputs": [],
   "source": [
    "opt_model = Sequential()\n",
    "# first LSTM layer\n",
    "opt_model.add(LSTM(units = 70, activation = \"tanh\", return_sequences = True))\n",
    "opt_model.add(Dropout(0.2))\n",
    "# second LSTM layer\n",
    "opt_model.add(LSTM(units= 30, activation= \"tanh\", return_sequences= False))\n",
    "opt_model.add(Dropout(0.2))\n",
    "\n",
    "# output layer to predict one value\n",
    "opt_model.add(Dense(1, activation= \"linear\"))"
   ]
  },
  {
   "cell_type": "code",
   "execution_count": 288,
   "id": "ffef5f04",
   "metadata": {},
   "outputs": [
    {
     "name": "stdout",
     "output_type": "stream",
     "text": [
      "2/2 [==============================] - 0s 9ms/step - loss: 140.2023 - mean_absolute_percentage_error: 41.1625\n",
      "2/2 [==============================] - 0s 9ms/step - loss: 9.0869 - mean_absolute_percentage_error: 4.9338\n",
      "2/2 [==============================] - 0s 8ms/step - loss: 27.5162 - mean_absolute_percentage_error: 4.7283\n",
      "2/2 [==============================] - 0s 8ms/step - loss: 85.9710 - mean_absolute_percentage_error: 8.6451\n",
      "2/2 [==============================] - 0s 8ms/step - loss: 28.8265 - mean_absolute_percentage_error: 5.1244\n"
     ]
    }
   ],
   "source": [
    "opt_model_cv_results = model_cross_validation(opt_model)"
   ]
  },
  {
   "cell_type": "code",
   "execution_count": 289,
   "id": "b190b43d",
   "metadata": {},
   "outputs": [
    {
     "data": {
      "text/plain": [
       "12.918809032440185"
      ]
     },
     "execution_count": 289,
     "metadata": {},
     "output_type": "execute_result"
    }
   ],
   "source": [
    "np.mean(opt_model_cv_results, axis = 0)[1]"
   ]
  },
  {
   "cell_type": "code",
   "execution_count": 295,
   "id": "c8764afa",
   "metadata": {},
   "outputs": [
    {
     "data": {
      "text/plain": [
       "(307, 31, 2)"
      ]
     },
     "execution_count": 295,
     "metadata": {},
     "output_type": "execute_result"
    }
   ],
   "source": [
    "X_train.shape"
   ]
  },
  {
   "cell_type": "code",
   "execution_count": 290,
   "id": "cf25a889",
   "metadata": {},
   "outputs": [],
   "source": [
    "opt_model = Sequential()\n",
    "# first LSTM layer\n",
    "opt_model.add(LSTM(units = 70, activation = \"tanh\", return_sequences = True))\n",
    "opt_model.add(Dropout(0.2))\n",
    "# second LSTM layer\n",
    "opt_model.add(LSTM(units= 30, activation= \"tanh\", return_sequences= False))\n",
    "opt_model.add(Dropout(0.2))\n",
    "\n",
    "# output layer to predict one value\n",
    "opt_model.add(Dense(1, activation= \"linear\"))"
   ]
  },
  {
   "cell_type": "code",
   "execution_count": 291,
   "id": "eeffb361",
   "metadata": {
    "collapsed": true
   },
   "outputs": [
    {
     "name": "stdout",
     "output_type": "stream",
     "text": [
      "Epoch 1/300\n",
      "31/31 [==============================] - 4s 47ms/step - loss: 3097.0156 - mean_absolute_percentage_error: 95.2734 - val_loss: 3701.9829 - val_mean_absolute_percentage_error: 93.0206\n",
      "Epoch 2/300\n",
      "31/31 [==============================] - 1s 25ms/step - loss: 2740.8184 - mean_absolute_percentage_error: 87.5547 - val_loss: 3344.0103 - val_mean_absolute_percentage_error: 87.9367\n",
      "Epoch 3/300\n",
      "31/31 [==============================] - 1s 23ms/step - loss: 2503.8357 - mean_absolute_percentage_error: 82.6000 - val_loss: 3148.4622 - val_mean_absolute_percentage_error: 85.0406\n",
      "Epoch 4/300\n",
      "31/31 [==============================] - 1s 22ms/step - loss: 2388.0579 - mean_absolute_percentage_error: 79.8307 - val_loss: 3022.1685 - val_mean_absolute_percentage_error: 83.1177\n",
      "Epoch 5/300\n",
      "31/31 [==============================] - 1s 23ms/step - loss: 2289.2441 - mean_absolute_percentage_error: 77.6246 - val_loss: 2911.6206 - val_mean_absolute_percentage_error: 81.3996\n",
      "Epoch 6/300\n",
      "31/31 [==============================] - 1s 23ms/step - loss: 2183.8691 - mean_absolute_percentage_error: 75.1958 - val_loss: 2805.9309 - val_mean_absolute_percentage_error: 79.7242\n",
      "Epoch 7/300\n",
      "31/31 [==============================] - 1s 22ms/step - loss: 2098.9207 - mean_absolute_percentage_error: 73.2702 - val_loss: 2706.2559 - val_mean_absolute_percentage_error: 78.1129\n",
      "Epoch 8/300\n",
      "31/31 [==============================] - 1s 22ms/step - loss: 2018.4027 - mean_absolute_percentage_error: 71.0602 - val_loss: 2612.1458 - val_mean_absolute_percentage_error: 76.5628\n",
      "Epoch 9/300\n",
      "31/31 [==============================] - 1s 24ms/step - loss: 1947.5250 - mean_absolute_percentage_error: 69.4908 - val_loss: 2520.8782 - val_mean_absolute_percentage_error: 75.0306\n",
      "Epoch 10/300\n",
      "31/31 [==============================] - 1s 24ms/step - loss: 1867.7268 - mean_absolute_percentage_error: 67.5035 - val_loss: 2432.8884 - val_mean_absolute_percentage_error: 73.5251\n",
      "Epoch 11/300\n",
      "31/31 [==============================] - 1s 25ms/step - loss: 1802.8804 - mean_absolute_percentage_error: 66.0992 - val_loss: 2348.9502 - val_mean_absolute_percentage_error: 72.0614\n",
      "Epoch 12/300\n",
      "31/31 [==============================] - 1s 24ms/step - loss: 1732.4147 - mean_absolute_percentage_error: 64.4801 - val_loss: 2268.9233 - val_mean_absolute_percentage_error: 70.6395\n",
      "Epoch 13/300\n",
      "31/31 [==============================] - 1s 22ms/step - loss: 1659.0972 - mean_absolute_percentage_error: 62.8776 - val_loss: 2190.8113 - val_mean_absolute_percentage_error: 69.2254\n",
      "Epoch 14/300\n",
      "31/31 [==============================] - 1s 22ms/step - loss: 1618.2001 - mean_absolute_percentage_error: 61.8901 - val_loss: 2115.8013 - val_mean_absolute_percentage_error: 67.8415\n",
      "Epoch 15/300\n",
      "31/31 [==============================] - 1s 23ms/step - loss: 1549.6368 - mean_absolute_percentage_error: 59.9093 - val_loss: 2042.7469 - val_mean_absolute_percentage_error: 66.4680\n",
      "Epoch 16/300\n",
      "31/31 [==============================] - 1s 22ms/step - loss: 1497.8451 - mean_absolute_percentage_error: 58.5645 - val_loss: 1972.8461 - val_mean_absolute_percentage_error: 65.1285\n",
      "Epoch 17/300\n",
      "31/31 [==============================] - 1s 22ms/step - loss: 1437.9146 - mean_absolute_percentage_error: 57.6792 - val_loss: 1904.2883 - val_mean_absolute_percentage_error: 63.7893\n",
      "Epoch 18/300\n",
      "31/31 [==============================] - 1s 26ms/step - loss: 1380.0166 - mean_absolute_percentage_error: 56.0693 - val_loss: 1837.2878 - val_mean_absolute_percentage_error: 62.4549\n",
      "Epoch 19/300\n",
      "31/31 [==============================] - 1s 22ms/step - loss: 1343.8370 - mean_absolute_percentage_error: 55.0317 - val_loss: 1773.7411 - val_mean_absolute_percentage_error: 61.1644\n",
      "Epoch 20/300\n",
      "31/31 [==============================] - 1s 22ms/step - loss: 1280.9772 - mean_absolute_percentage_error: 53.7108 - val_loss: 1713.4462 - val_mean_absolute_percentage_error: 59.9161\n",
      "Epoch 21/300\n",
      "31/31 [==============================] - 1s 22ms/step - loss: 1248.0576 - mean_absolute_percentage_error: 52.6972 - val_loss: 1654.0929 - val_mean_absolute_percentage_error: 58.6634\n",
      "Epoch 22/300\n",
      "31/31 [==============================] - 1s 23ms/step - loss: 1195.0150 - mean_absolute_percentage_error: 51.1927 - val_loss: 1596.7994 - val_mean_absolute_percentage_error: 57.4302\n",
      "Epoch 23/300\n",
      "31/31 [==============================] - 1s 25ms/step - loss: 1142.4796 - mean_absolute_percentage_error: 50.0048 - val_loss: 1540.3783 - val_mean_absolute_percentage_error: 56.1916\n",
      "Epoch 24/300\n",
      "31/31 [==============================] - 1s 22ms/step - loss: 1107.5121 - mean_absolute_percentage_error: 49.5538 - val_loss: 1487.4482 - val_mean_absolute_percentage_error: 55.0063\n",
      "Epoch 25/300\n",
      "31/31 [==============================] - 1s 22ms/step - loss: 1051.1725 - mean_absolute_percentage_error: 47.9748 - val_loss: 1434.4750 - val_mean_absolute_percentage_error: 53.7960\n",
      "Epoch 26/300\n",
      "31/31 [==============================] - 1s 22ms/step - loss: 1033.2858 - mean_absolute_percentage_error: 47.7185 - val_loss: 1386.2308 - val_mean_absolute_percentage_error: 52.6717\n",
      "Epoch 27/300\n",
      "31/31 [==============================] - 1s 21ms/step - loss: 981.5726 - mean_absolute_percentage_error: 46.4031 - val_loss: 1338.5153 - val_mean_absolute_percentage_error: 51.5376\n",
      "Epoch 28/300\n",
      "31/31 [==============================] - 1s 22ms/step - loss: 947.8125 - mean_absolute_percentage_error: 45.5672 - val_loss: 1291.3300 - val_mean_absolute_percentage_error: 50.3933\n",
      "Epoch 29/300\n",
      "31/31 [==============================] - 1s 22ms/step - loss: 937.1359 - mean_absolute_percentage_error: 45.1692 - val_loss: 1246.4623 - val_mean_absolute_percentage_error: 49.2828\n",
      "Epoch 30/300\n",
      "31/31 [==============================] - 1s 22ms/step - loss: 897.9006 - mean_absolute_percentage_error: 43.9054 - val_loss: 1202.1974 - val_mean_absolute_percentage_error: 48.1644\n",
      "Epoch 31/300\n",
      "31/31 [==============================] - 1s 22ms/step - loss: 870.1976 - mean_absolute_percentage_error: 43.7585 - val_loss: 1160.7594 - val_mean_absolute_percentage_error: 47.0956\n",
      "Epoch 32/300\n",
      "31/31 [==============================] - 1s 22ms/step - loss: 826.1195 - mean_absolute_percentage_error: 41.6503 - val_loss: 1119.9003 - val_mean_absolute_percentage_error: 46.0198\n",
      "Epoch 33/300\n",
      "31/31 [==============================] - 1s 22ms/step - loss: 804.6426 - mean_absolute_percentage_error: 41.6318 - val_loss: 1081.5199 - val_mean_absolute_percentage_error: 44.9882\n",
      "Epoch 34/300\n",
      "31/31 [==============================] - 1s 22ms/step - loss: 801.2151 - mean_absolute_percentage_error: 41.6876 - val_loss: 1042.8120 - val_mean_absolute_percentage_error: 43.9256\n",
      "Epoch 35/300\n",
      "31/31 [==============================] - 1s 27ms/step - loss: 753.1512 - mean_absolute_percentage_error: 40.7732 - val_loss: 1008.2926 - val_mean_absolute_percentage_error: 42.9581\n",
      "Epoch 36/300\n",
      "31/31 [==============================] - 1s 25ms/step - loss: 742.3807 - mean_absolute_percentage_error: 40.2060 - val_loss: 973.2089 - val_mean_absolute_percentage_error: 41.9789\n",
      "Epoch 37/300\n",
      "31/31 [==============================] - 1s 23ms/step - loss: 706.1224 - mean_absolute_percentage_error: 39.8178 - val_loss: 940.1229 - val_mean_absolute_percentage_error: 41.0663\n",
      "Epoch 38/300\n",
      "31/31 [==============================] - 1s 23ms/step - loss: 686.7989 - mean_absolute_percentage_error: 38.8778 - val_loss: 908.4365 - val_mean_absolute_percentage_error: 40.1739\n",
      "Epoch 39/300\n",
      "31/31 [==============================] - 1s 22ms/step - loss: 643.5197 - mean_absolute_percentage_error: 38.4236 - val_loss: 877.1700 - val_mean_absolute_percentage_error: 39.2745\n",
      "Epoch 40/300\n",
      "31/31 [==============================] - 1s 22ms/step - loss: 638.5489 - mean_absolute_percentage_error: 38.3774 - val_loss: 848.5139 - val_mean_absolute_percentage_error: 38.4328\n",
      "Epoch 41/300\n",
      "31/31 [==============================] - 1s 22ms/step - loss: 629.7668 - mean_absolute_percentage_error: 37.9622 - val_loss: 818.9175 - val_mean_absolute_percentage_error: 37.5651\n",
      "Epoch 42/300\n",
      "31/31 [==============================] - 1s 22ms/step - loss: 637.7975 - mean_absolute_percentage_error: 38.2794 - val_loss: 792.7098 - val_mean_absolute_percentage_error: 36.8496\n",
      "Epoch 43/300\n"
     ]
    },
    {
     "name": "stdout",
     "output_type": "stream",
     "text": [
      "31/31 [==============================] - 1s 22ms/step - loss: 572.4432 - mean_absolute_percentage_error: 36.3111 - val_loss: 766.0738 - val_mean_absolute_percentage_error: 36.1213\n",
      "Epoch 44/300\n",
      "31/31 [==============================] - 1s 22ms/step - loss: 585.4072 - mean_absolute_percentage_error: 36.9778 - val_loss: 740.9496 - val_mean_absolute_percentage_error: 35.4484\n",
      "Epoch 45/300\n",
      "31/31 [==============================] - 1s 22ms/step - loss: 560.1224 - mean_absolute_percentage_error: 36.8804 - val_loss: 716.3233 - val_mean_absolute_percentage_error: 34.7745\n",
      "Epoch 46/300\n",
      "31/31 [==============================] - 1s 22ms/step - loss: 533.5952 - mean_absolute_percentage_error: 36.2224 - val_loss: 692.7908 - val_mean_absolute_percentage_error: 34.1164\n",
      "Epoch 47/300\n",
      "31/31 [==============================] - 1s 22ms/step - loss: 549.1896 - mean_absolute_percentage_error: 36.8775 - val_loss: 671.7682 - val_mean_absolute_percentage_error: 33.5298\n",
      "Epoch 48/300\n",
      "31/31 [==============================] - 1s 22ms/step - loss: 496.3419 - mean_absolute_percentage_error: 35.5329 - val_loss: 650.4509 - val_mean_absolute_percentage_error: 32.9457\n",
      "Epoch 49/300\n",
      "31/31 [==============================] - 1s 22ms/step - loss: 508.9314 - mean_absolute_percentage_error: 35.5264 - val_loss: 629.2478 - val_mean_absolute_percentage_error: 32.3626\n",
      "Epoch 50/300\n",
      "31/31 [==============================] - 1s 22ms/step - loss: 485.6065 - mean_absolute_percentage_error: 35.8371 - val_loss: 609.9894 - val_mean_absolute_percentage_error: 31.8461\n",
      "Epoch 51/300\n",
      "31/31 [==============================] - 1s 22ms/step - loss: 470.2548 - mean_absolute_percentage_error: 34.7854 - val_loss: 591.4310 - val_mean_absolute_percentage_error: 31.3402\n",
      "Epoch 52/300\n",
      "31/31 [==============================] - 1s 21ms/step - loss: 482.9766 - mean_absolute_percentage_error: 35.5590 - val_loss: 573.5688 - val_mean_absolute_percentage_error: 30.8731\n",
      "Epoch 53/300\n",
      "31/31 [==============================] - 1s 22ms/step - loss: 443.2829 - mean_absolute_percentage_error: 34.0105 - val_loss: 555.8487 - val_mean_absolute_percentage_error: 30.3996\n",
      "Epoch 54/300\n",
      "31/31 [==============================] - 1s 22ms/step - loss: 425.7336 - mean_absolute_percentage_error: 33.6906 - val_loss: 540.3258 - val_mean_absolute_percentage_error: 29.9759\n",
      "Epoch 55/300\n",
      "31/31 [==============================] - 1s 24ms/step - loss: 440.4040 - mean_absolute_percentage_error: 35.1092 - val_loss: 524.5094 - val_mean_absolute_percentage_error: 29.5352\n",
      "Epoch 56/300\n",
      "31/31 [==============================] - 1s 24ms/step - loss: 446.3982 - mean_absolute_percentage_error: 34.2751 - val_loss: 512.2792 - val_mean_absolute_percentage_error: 29.0802\n",
      "Epoch 57/300\n",
      "31/31 [==============================] - 1s 24ms/step - loss: 453.9912 - mean_absolute_percentage_error: 35.8454 - val_loss: 495.7518 - val_mean_absolute_percentage_error: 28.7085\n",
      "Epoch 58/300\n",
      "31/31 [==============================] - 1s 28ms/step - loss: 416.5567 - mean_absolute_percentage_error: 34.0567 - val_loss: 481.5911 - val_mean_absolute_percentage_error: 28.2881\n",
      "Epoch 59/300\n",
      "31/31 [==============================] - 1s 26ms/step - loss: 394.6371 - mean_absolute_percentage_error: 33.8857 - val_loss: 468.9768 - val_mean_absolute_percentage_error: 27.9056\n",
      "Epoch 60/300\n",
      "31/31 [==============================] - 1s 26ms/step - loss: 385.1899 - mean_absolute_percentage_error: 32.8632 - val_loss: 456.7852 - val_mean_absolute_percentage_error: 27.5286\n",
      "Epoch 61/300\n",
      "31/31 [==============================] - 1s 27ms/step - loss: 393.2246 - mean_absolute_percentage_error: 32.5279 - val_loss: 442.8483 - val_mean_absolute_percentage_error: 27.1259\n",
      "Epoch 62/300\n",
      "31/31 [==============================] - 1s 25ms/step - loss: 402.0563 - mean_absolute_percentage_error: 32.4723 - val_loss: 430.0912 - val_mean_absolute_percentage_error: 26.7016\n",
      "Epoch 63/300\n",
      "31/31 [==============================] - 1s 25ms/step - loss: 371.8455 - mean_absolute_percentage_error: 31.6716 - val_loss: 418.9244 - val_mean_absolute_percentage_error: 26.3576\n",
      "Epoch 64/300\n",
      "31/31 [==============================] - 1s 25ms/step - loss: 351.3666 - mean_absolute_percentage_error: 30.8409 - val_loss: 405.9622 - val_mean_absolute_percentage_error: 25.9625\n",
      "Epoch 65/300\n",
      "31/31 [==============================] - 1s 25ms/step - loss: 351.4749 - mean_absolute_percentage_error: 30.2970 - val_loss: 393.6039 - val_mean_absolute_percentage_error: 25.6006\n",
      "Epoch 66/300\n",
      "31/31 [==============================] - 1s 24ms/step - loss: 349.1042 - mean_absolute_percentage_error: 30.3551 - val_loss: 382.2928 - val_mean_absolute_percentage_error: 25.2874\n",
      "Epoch 67/300\n",
      "31/31 [==============================] - 1s 23ms/step - loss: 333.0075 - mean_absolute_percentage_error: 30.8346 - val_loss: 372.6617 - val_mean_absolute_percentage_error: 25.0020\n",
      "Epoch 68/300\n",
      "31/31 [==============================] - 1s 22ms/step - loss: 326.6695 - mean_absolute_percentage_error: 29.6406 - val_loss: 362.3947 - val_mean_absolute_percentage_error: 24.6903\n",
      "Epoch 69/300\n",
      "31/31 [==============================] - 1s 22ms/step - loss: 334.3241 - mean_absolute_percentage_error: 30.1417 - val_loss: 352.2612 - val_mean_absolute_percentage_error: 24.3747\n",
      "Epoch 70/300\n",
      "31/31 [==============================] - 1s 22ms/step - loss: 296.6965 - mean_absolute_percentage_error: 29.1928 - val_loss: 343.1898 - val_mean_absolute_percentage_error: 24.0849\n",
      "Epoch 71/300\n",
      "31/31 [==============================] - 1s 22ms/step - loss: 321.0445 - mean_absolute_percentage_error: 30.1212 - val_loss: 333.5580 - val_mean_absolute_percentage_error: 23.7691\n",
      "Epoch 72/300\n",
      "31/31 [==============================] - 1s 22ms/step - loss: 311.7409 - mean_absolute_percentage_error: 30.0402 - val_loss: 325.2911 - val_mean_absolute_percentage_error: 23.4908\n",
      "Epoch 73/300\n",
      "31/31 [==============================] - 1s 23ms/step - loss: 299.2693 - mean_absolute_percentage_error: 30.3127 - val_loss: 317.5645 - val_mean_absolute_percentage_error: 23.2626\n",
      "Epoch 74/300\n",
      "31/31 [==============================] - 1s 23ms/step - loss: 294.1849 - mean_absolute_percentage_error: 28.6304 - val_loss: 312.5806 - val_mean_absolute_percentage_error: 23.0653\n",
      "Epoch 75/300\n",
      "31/31 [==============================] - 1s 23ms/step - loss: 286.1669 - mean_absolute_percentage_error: 27.2883 - val_loss: 301.5649 - val_mean_absolute_percentage_error: 22.7712\n",
      "Epoch 76/300\n",
      "31/31 [==============================] - 1s 23ms/step - loss: 293.6395 - mean_absolute_percentage_error: 26.6987 - val_loss: 293.5158 - val_mean_absolute_percentage_error: 22.5145\n",
      "Epoch 77/300\n",
      "31/31 [==============================] - 1s 23ms/step - loss: 257.8521 - mean_absolute_percentage_error: 26.5808 - val_loss: 286.3662 - val_mean_absolute_percentage_error: 22.2785\n",
      "Epoch 78/300\n",
      "31/31 [==============================] - 1s 23ms/step - loss: 242.8967 - mean_absolute_percentage_error: 24.0026 - val_loss: 278.1944 - val_mean_absolute_percentage_error: 22.0008\n",
      "Epoch 79/300\n",
      "31/31 [==============================] - 1s 25ms/step - loss: 241.5211 - mean_absolute_percentage_error: 23.7480 - val_loss: 271.5924 - val_mean_absolute_percentage_error: 21.7876\n",
      "Epoch 80/300\n",
      "31/31 [==============================] - 1s 24ms/step - loss: 254.4907 - mean_absolute_percentage_error: 24.8609 - val_loss: 264.1697 - val_mean_absolute_percentage_error: 21.5405\n",
      "Epoch 81/300\n",
      "31/31 [==============================] - 1s 22ms/step - loss: 231.9556 - mean_absolute_percentage_error: 22.7135 - val_loss: 256.6008 - val_mean_absolute_percentage_error: 21.2847\n",
      "Epoch 82/300\n",
      "31/31 [==============================] - 1s 22ms/step - loss: 231.9858 - mean_absolute_percentage_error: 23.1842 - val_loss: 250.5552 - val_mean_absolute_percentage_error: 21.0869\n",
      "Epoch 83/300\n",
      "31/31 [==============================] - 1s 23ms/step - loss: 228.3495 - mean_absolute_percentage_error: 22.6663 - val_loss: 244.6077 - val_mean_absolute_percentage_error: 20.8849\n",
      "Epoch 84/300\n",
      "31/31 [==============================] - 1s 22ms/step - loss: 219.5393 - mean_absolute_percentage_error: 21.8043 - val_loss: 238.7109 - val_mean_absolute_percentage_error: 20.6787\n",
      "Epoch 85/300\n"
     ]
    },
    {
     "name": "stdout",
     "output_type": "stream",
     "text": [
      "31/31 [==============================] - 1s 22ms/step - loss: 226.8230 - mean_absolute_percentage_error: 22.1093 - val_loss: 233.1892 - val_mean_absolute_percentage_error: 20.4786\n",
      "Epoch 86/300\n",
      "31/31 [==============================] - 1s 22ms/step - loss: 190.5007 - mean_absolute_percentage_error: 21.4556 - val_loss: 228.3828 - val_mean_absolute_percentage_error: 20.2956\n",
      "Epoch 87/300\n",
      "31/31 [==============================] - 1s 22ms/step - loss: 199.1673 - mean_absolute_percentage_error: 20.6510 - val_loss: 223.0696 - val_mean_absolute_percentage_error: 20.0868\n",
      "Epoch 88/300\n",
      "31/31 [==============================] - 1s 22ms/step - loss: 210.5127 - mean_absolute_percentage_error: 21.6086 - val_loss: 217.9015 - val_mean_absolute_percentage_error: 19.8750\n",
      "Epoch 89/300\n",
      "31/31 [==============================] - 1s 21ms/step - loss: 207.8508 - mean_absolute_percentage_error: 21.0230 - val_loss: 213.0337 - val_mean_absolute_percentage_error: 19.6671\n",
      "Epoch 90/300\n",
      "31/31 [==============================] - 1s 21ms/step - loss: 200.8478 - mean_absolute_percentage_error: 20.7758 - val_loss: 209.2922 - val_mean_absolute_percentage_error: 19.4983\n",
      "Epoch 91/300\n",
      "31/31 [==============================] - 1s 21ms/step - loss: 182.0049 - mean_absolute_percentage_error: 19.2272 - val_loss: 205.0131 - val_mean_absolute_percentage_error: 19.3267\n",
      "Epoch 92/300\n",
      "31/31 [==============================] - 1s 22ms/step - loss: 187.4282 - mean_absolute_percentage_error: 20.7467 - val_loss: 201.7210 - val_mean_absolute_percentage_error: 19.1931\n",
      "Epoch 93/300\n",
      "31/31 [==============================] - 1s 22ms/step - loss: 192.9326 - mean_absolute_percentage_error: 20.8178 - val_loss: 199.1485 - val_mean_absolute_percentage_error: 19.0773\n",
      "Epoch 94/300\n",
      "31/31 [==============================] - 1s 22ms/step - loss: 201.1974 - mean_absolute_percentage_error: 21.1795 - val_loss: 195.9175 - val_mean_absolute_percentage_error: 18.9128\n",
      "Epoch 95/300\n",
      "31/31 [==============================] - 1s 22ms/step - loss: 196.1546 - mean_absolute_percentage_error: 20.2546 - val_loss: 192.7572 - val_mean_absolute_percentage_error: 18.7970\n",
      "Epoch 96/300\n",
      "31/31 [==============================] - 1s 22ms/step - loss: 174.5914 - mean_absolute_percentage_error: 19.2070 - val_loss: 189.6247 - val_mean_absolute_percentage_error: 18.6321\n",
      "Epoch 97/300\n",
      "31/31 [==============================] - 1s 22ms/step - loss: 176.7050 - mean_absolute_percentage_error: 19.5625 - val_loss: 187.6047 - val_mean_absolute_percentage_error: 18.5492\n",
      "Epoch 98/300\n",
      "31/31 [==============================] - 1s 22ms/step - loss: 190.1235 - mean_absolute_percentage_error: 20.2206 - val_loss: 185.1495 - val_mean_absolute_percentage_error: 18.4101\n",
      "Epoch 99/300\n",
      "31/31 [==============================] - 1s 22ms/step - loss: 170.4544 - mean_absolute_percentage_error: 19.3347 - val_loss: 183.0773 - val_mean_absolute_percentage_error: 18.3273\n",
      "Epoch 100/300\n",
      "31/31 [==============================] - 1s 22ms/step - loss: 187.7597 - mean_absolute_percentage_error: 20.7761 - val_loss: 181.1092 - val_mean_absolute_percentage_error: 18.2421\n",
      "Epoch 101/300\n",
      "31/31 [==============================] - 1s 22ms/step - loss: 167.4444 - mean_absolute_percentage_error: 20.5555 - val_loss: 177.3147 - val_mean_absolute_percentage_error: 17.9654\n",
      "Epoch 102/300\n",
      "31/31 [==============================] - 1s 22ms/step - loss: 171.6101 - mean_absolute_percentage_error: 20.1483 - val_loss: 172.5570 - val_mean_absolute_percentage_error: 17.6823\n",
      "Epoch 103/300\n",
      "31/31 [==============================] - 1s 22ms/step - loss: 173.2716 - mean_absolute_percentage_error: 20.1201 - val_loss: 159.6336 - val_mean_absolute_percentage_error: 16.5338\n",
      "Epoch 104/300\n",
      "31/31 [==============================] - 1s 22ms/step - loss: 159.5965 - mean_absolute_percentage_error: 18.8528 - val_loss: 170.6718 - val_mean_absolute_percentage_error: 17.6765\n",
      "Epoch 105/300\n",
      "31/31 [==============================] - 1s 22ms/step - loss: 150.1167 - mean_absolute_percentage_error: 18.2977 - val_loss: 164.1830 - val_mean_absolute_percentage_error: 17.1988\n",
      "Epoch 106/300\n",
      "31/31 [==============================] - 1s 23ms/step - loss: 148.4149 - mean_absolute_percentage_error: 18.4632 - val_loss: 168.8334 - val_mean_absolute_percentage_error: 17.6641\n",
      "Epoch 107/300\n",
      "31/31 [==============================] - 1s 22ms/step - loss: 158.2474 - mean_absolute_percentage_error: 18.8635 - val_loss: 156.7560 - val_mean_absolute_percentage_error: 16.7179\n",
      "Epoch 108/300\n",
      "31/31 [==============================] - 1s 22ms/step - loss: 155.8890 - mean_absolute_percentage_error: 19.1748 - val_loss: 152.4597 - val_mean_absolute_percentage_error: 16.4631\n",
      "Epoch 109/300\n",
      "31/31 [==============================] - 1s 22ms/step - loss: 153.7137 - mean_absolute_percentage_error: 17.9426 - val_loss: 152.3392 - val_mean_absolute_percentage_error: 16.5281\n",
      "Epoch 110/300\n",
      "31/31 [==============================] - 1s 22ms/step - loss: 137.9677 - mean_absolute_percentage_error: 17.7509 - val_loss: 146.6415 - val_mean_absolute_percentage_error: 16.1025\n",
      "Epoch 111/300\n",
      "31/31 [==============================] - 1s 22ms/step - loss: 133.5168 - mean_absolute_percentage_error: 16.6429 - val_loss: 139.4863 - val_mean_absolute_percentage_error: 15.5001\n",
      "Epoch 112/300\n",
      "31/31 [==============================] - 1s 22ms/step - loss: 143.4290 - mean_absolute_percentage_error: 17.1033 - val_loss: 138.0380 - val_mean_absolute_percentage_error: 15.5172\n",
      "Epoch 113/300\n",
      "31/31 [==============================] - 1s 22ms/step - loss: 137.4430 - mean_absolute_percentage_error: 17.4627 - val_loss: 128.8993 - val_mean_absolute_percentage_error: 14.5317\n",
      "Epoch 114/300\n",
      "31/31 [==============================] - 1s 23ms/step - loss: 129.6413 - mean_absolute_percentage_error: 16.2993 - val_loss: 137.8600 - val_mean_absolute_percentage_error: 15.7175\n",
      "Epoch 115/300\n",
      "31/31 [==============================] - 1s 22ms/step - loss: 129.3884 - mean_absolute_percentage_error: 16.3793 - val_loss: 126.0089 - val_mean_absolute_percentage_error: 14.6133\n",
      "Epoch 116/300\n",
      "31/31 [==============================] - 1s 22ms/step - loss: 114.2306 - mean_absolute_percentage_error: 16.1641 - val_loss: 118.3387 - val_mean_absolute_percentage_error: 13.8574\n",
      "Epoch 117/300\n",
      "31/31 [==============================] - 1s 22ms/step - loss: 121.2105 - mean_absolute_percentage_error: 15.2201 - val_loss: 111.0825 - val_mean_absolute_percentage_error: 13.0660\n",
      "Epoch 118/300\n",
      "31/31 [==============================] - 1s 21ms/step - loss: 129.4846 - mean_absolute_percentage_error: 15.8502 - val_loss: 108.4872 - val_mean_absolute_percentage_error: 13.0841\n",
      "Epoch 119/300\n",
      "31/31 [==============================] - 1s 22ms/step - loss: 129.2952 - mean_absolute_percentage_error: 16.5820 - val_loss: 109.2451 - val_mean_absolute_percentage_error: 13.4310\n",
      "Epoch 120/300\n",
      "31/31 [==============================] - 1s 21ms/step - loss: 110.6119 - mean_absolute_percentage_error: 14.5889 - val_loss: 108.9685 - val_mean_absolute_percentage_error: 13.6546\n",
      "Epoch 121/300\n",
      "31/31 [==============================] - 1s 21ms/step - loss: 121.4594 - mean_absolute_percentage_error: 16.3865 - val_loss: 111.1121 - val_mean_absolute_percentage_error: 13.6618\n",
      "Epoch 122/300\n",
      "31/31 [==============================] - 1s 24ms/step - loss: 120.5312 - mean_absolute_percentage_error: 15.7188 - val_loss: 101.7077 - val_mean_absolute_percentage_error: 12.9787\n",
      "Epoch 123/300\n",
      "31/31 [==============================] - 1s 22ms/step - loss: 116.1418 - mean_absolute_percentage_error: 15.3914 - val_loss: 95.7858 - val_mean_absolute_percentage_error: 12.1975\n",
      "Epoch 124/300\n",
      "31/31 [==============================] - 1s 23ms/step - loss: 102.0959 - mean_absolute_percentage_error: 14.3574 - val_loss: 85.7079 - val_mean_absolute_percentage_error: 11.0036\n",
      "Epoch 125/300\n",
      "31/31 [==============================] - 1s 22ms/step - loss: 109.5581 - mean_absolute_percentage_error: 14.1720 - val_loss: 82.9305 - val_mean_absolute_percentage_error: 10.6687\n",
      "Epoch 126/300\n",
      "31/31 [==============================] - 1s 22ms/step - loss: 107.1396 - mean_absolute_percentage_error: 13.0029 - val_loss: 83.8895 - val_mean_absolute_percentage_error: 11.3493\n",
      "Epoch 127/300\n"
     ]
    },
    {
     "name": "stdout",
     "output_type": "stream",
     "text": [
      "31/31 [==============================] - 1s 21ms/step - loss: 85.4276 - mean_absolute_percentage_error: 13.5367 - val_loss: 75.1758 - val_mean_absolute_percentage_error: 10.0698\n",
      "Epoch 128/300\n",
      "31/31 [==============================] - 1s 22ms/step - loss: 95.3152 - mean_absolute_percentage_error: 13.6250 - val_loss: 75.4897 - val_mean_absolute_percentage_error: 10.8543\n",
      "Epoch 129/300\n",
      "31/31 [==============================] - 1s 22ms/step - loss: 91.6424 - mean_absolute_percentage_error: 13.2645 - val_loss: 84.0587 - val_mean_absolute_percentage_error: 12.2144\n",
      "Epoch 130/300\n",
      "31/31 [==============================] - 1s 21ms/step - loss: 96.5618 - mean_absolute_percentage_error: 13.5495 - val_loss: 82.2424 - val_mean_absolute_percentage_error: 10.0948\n",
      "Epoch 131/300\n",
      "31/31 [==============================] - 1s 22ms/step - loss: 88.7745 - mean_absolute_percentage_error: 13.0571 - val_loss: 65.0032 - val_mean_absolute_percentage_error: 9.1051\n",
      "Epoch 132/300\n",
      "31/31 [==============================] - 1s 22ms/step - loss: 98.6995 - mean_absolute_percentage_error: 13.0485 - val_loss: 61.4079 - val_mean_absolute_percentage_error: 8.8745\n",
      "Epoch 133/300\n",
      "31/31 [==============================] - 1s 22ms/step - loss: 87.1454 - mean_absolute_percentage_error: 13.3444 - val_loss: 59.1399 - val_mean_absolute_percentage_error: 7.6434\n",
      "Epoch 134/300\n",
      "31/31 [==============================] - 1s 21ms/step - loss: 93.1967 - mean_absolute_percentage_error: 12.5930 - val_loss: 63.0398 - val_mean_absolute_percentage_error: 9.7857\n",
      "Epoch 135/300\n",
      "31/31 [==============================] - 1s 22ms/step - loss: 82.4372 - mean_absolute_percentage_error: 12.9264 - val_loss: 56.2673 - val_mean_absolute_percentage_error: 7.8408\n",
      "Epoch 136/300\n",
      "31/31 [==============================] - 1s 22ms/step - loss: 87.5702 - mean_absolute_percentage_error: 11.8792 - val_loss: 56.1733 - val_mean_absolute_percentage_error: 8.8575\n",
      "Epoch 137/300\n",
      "31/31 [==============================] - 1s 22ms/step - loss: 80.2404 - mean_absolute_percentage_error: 11.5981 - val_loss: 54.5117 - val_mean_absolute_percentage_error: 8.8888\n",
      "Epoch 138/300\n",
      "31/31 [==============================] - 1s 22ms/step - loss: 85.9028 - mean_absolute_percentage_error: 12.6286 - val_loss: 54.9753 - val_mean_absolute_percentage_error: 9.1656\n",
      "Epoch 139/300\n",
      "31/31 [==============================] - 1s 22ms/step - loss: 86.1634 - mean_absolute_percentage_error: 12.4279 - val_loss: 49.8999 - val_mean_absolute_percentage_error: 8.0010\n",
      "Epoch 140/300\n",
      "31/31 [==============================] - 1s 23ms/step - loss: 79.6293 - mean_absolute_percentage_error: 13.0161 - val_loss: 48.9298 - val_mean_absolute_percentage_error: 7.6208\n",
      "Epoch 141/300\n",
      "31/31 [==============================] - 1s 23ms/step - loss: 79.1754 - mean_absolute_percentage_error: 12.7414 - val_loss: 49.0716 - val_mean_absolute_percentage_error: 8.3904\n",
      "Epoch 142/300\n",
      "31/31 [==============================] - 1s 24ms/step - loss: 79.6120 - mean_absolute_percentage_error: 12.3385 - val_loss: 46.9925 - val_mean_absolute_percentage_error: 8.0116\n",
      "Epoch 143/300\n",
      "31/31 [==============================] - 1s 30ms/step - loss: 81.1524 - mean_absolute_percentage_error: 12.1084 - val_loss: 43.0487 - val_mean_absolute_percentage_error: 6.5830\n",
      "Epoch 144/300\n",
      "31/31 [==============================] - 1s 27ms/step - loss: 76.0730 - mean_absolute_percentage_error: 12.1471 - val_loss: 43.2773 - val_mean_absolute_percentage_error: 7.5803\n",
      "Epoch 145/300\n",
      "31/31 [==============================] - 1s 22ms/step - loss: 68.0738 - mean_absolute_percentage_error: 12.2688 - val_loss: 40.7167 - val_mean_absolute_percentage_error: 6.7456\n",
      "Epoch 146/300\n",
      "31/31 [==============================] - 1s 22ms/step - loss: 67.4299 - mean_absolute_percentage_error: 11.7490 - val_loss: 41.4252 - val_mean_absolute_percentage_error: 6.8081\n",
      "Epoch 147/300\n",
      "31/31 [==============================] - 1s 21ms/step - loss: 65.4856 - mean_absolute_percentage_error: 11.1175 - val_loss: 37.1404 - val_mean_absolute_percentage_error: 6.3789\n",
      "Epoch 148/300\n",
      "31/31 [==============================] - 1s 22ms/step - loss: 64.4175 - mean_absolute_percentage_error: 11.6068 - val_loss: 37.0311 - val_mean_absolute_percentage_error: 5.9690\n",
      "Epoch 149/300\n",
      "31/31 [==============================] - 1s 21ms/step - loss: 67.6142 - mean_absolute_percentage_error: 11.1996 - val_loss: 37.7724 - val_mean_absolute_percentage_error: 6.0097\n",
      "Epoch 150/300\n",
      "31/31 [==============================] - 1s 22ms/step - loss: 70.1288 - mean_absolute_percentage_error: 11.8955 - val_loss: 37.9663 - val_mean_absolute_percentage_error: 7.3347\n",
      "Epoch 151/300\n",
      "31/31 [==============================] - 1s 22ms/step - loss: 57.3317 - mean_absolute_percentage_error: 10.8958 - val_loss: 39.7631 - val_mean_absolute_percentage_error: 7.8724\n",
      "Epoch 152/300\n",
      "31/31 [==============================] - 1s 22ms/step - loss: 79.7327 - mean_absolute_percentage_error: 12.8258 - val_loss: 45.7656 - val_mean_absolute_percentage_error: 8.9764\n",
      "Epoch 153/300\n",
      "31/31 [==============================] - 1s 22ms/step - loss: 69.4711 - mean_absolute_percentage_error: 10.9361 - val_loss: 32.2617 - val_mean_absolute_percentage_error: 6.1829\n",
      "Epoch 154/300\n",
      "31/31 [==============================] - 1s 23ms/step - loss: 70.6264 - mean_absolute_percentage_error: 11.8303 - val_loss: 31.9501 - val_mean_absolute_percentage_error: 6.4506\n",
      "Epoch 155/300\n",
      "31/31 [==============================] - 1s 22ms/step - loss: 69.1697 - mean_absolute_percentage_error: 12.5183 - val_loss: 28.3112 - val_mean_absolute_percentage_error: 5.1512\n",
      "Epoch 156/300\n",
      "31/31 [==============================] - 1s 22ms/step - loss: 72.6175 - mean_absolute_percentage_error: 12.0002 - val_loss: 36.6017 - val_mean_absolute_percentage_error: 7.9703\n",
      "Epoch 157/300\n",
      "31/31 [==============================] - 1s 23ms/step - loss: 69.5499 - mean_absolute_percentage_error: 12.3257 - val_loss: 28.8076 - val_mean_absolute_percentage_error: 5.9186\n",
      "Epoch 158/300\n",
      "31/31 [==============================] - 1s 22ms/step - loss: 64.9232 - mean_absolute_percentage_error: 11.1439 - val_loss: 28.9664 - val_mean_absolute_percentage_error: 5.1957\n",
      "Epoch 159/300\n",
      "31/31 [==============================] - 1s 23ms/step - loss: 64.6329 - mean_absolute_percentage_error: 10.9374 - val_loss: 26.0131 - val_mean_absolute_percentage_error: 5.2328\n",
      "Epoch 160/300\n",
      "31/31 [==============================] - 1s 23ms/step - loss: 56.0474 - mean_absolute_percentage_error: 10.8326 - val_loss: 25.2151 - val_mean_absolute_percentage_error: 4.9005\n",
      "Epoch 161/300\n",
      "31/31 [==============================] - 1s 22ms/step - loss: 54.3443 - mean_absolute_percentage_error: 10.9016 - val_loss: 26.8236 - val_mean_absolute_percentage_error: 6.0641\n",
      "Epoch 162/300\n",
      "31/31 [==============================] - 1s 25ms/step - loss: 58.7180 - mean_absolute_percentage_error: 10.5176 - val_loss: 25.0555 - val_mean_absolute_percentage_error: 5.1562\n",
      "Epoch 163/300\n",
      "31/31 [==============================] - 1s 23ms/step - loss: 62.5877 - mean_absolute_percentage_error: 11.2891 - val_loss: 28.5039 - val_mean_absolute_percentage_error: 6.7029\n",
      "Epoch 164/300\n",
      "31/31 [==============================] - 1s 24ms/step - loss: 63.9202 - mean_absolute_percentage_error: 11.8656 - val_loss: 23.7991 - val_mean_absolute_percentage_error: 5.0181\n",
      "Epoch 165/300\n",
      "31/31 [==============================] - 1s 25ms/step - loss: 58.9779 - mean_absolute_percentage_error: 11.1744 - val_loss: 27.6625 - val_mean_absolute_percentage_error: 6.5712\n",
      "Epoch 166/300\n",
      "31/31 [==============================] - 1s 24ms/step - loss: 59.5215 - mean_absolute_percentage_error: 10.2262 - val_loss: 27.8416 - val_mean_absolute_percentage_error: 6.9819\n",
      "Epoch 167/300\n",
      "31/31 [==============================] - 1s 22ms/step - loss: 58.7299 - mean_absolute_percentage_error: 11.0878 - val_loss: 22.0196 - val_mean_absolute_percentage_error: 5.3932\n",
      "Epoch 168/300\n",
      "31/31 [==============================] - 1s 23ms/step - loss: 54.1269 - mean_absolute_percentage_error: 10.3341 - val_loss: 21.0217 - val_mean_absolute_percentage_error: 5.0215\n",
      "Epoch 169/300\n",
      "31/31 [==============================] - 1s 22ms/step - loss: 46.7236 - mean_absolute_percentage_error: 9.4687 - val_loss: 19.5287 - val_mean_absolute_percentage_error: 4.3869\n"
     ]
    },
    {
     "name": "stdout",
     "output_type": "stream",
     "text": [
      "Epoch 170/300\n",
      "31/31 [==============================] - 1s 22ms/step - loss: 59.2240 - mean_absolute_percentage_error: 11.3173 - val_loss: 28.5287 - val_mean_absolute_percentage_error: 7.4628\n",
      "Epoch 171/300\n",
      "31/31 [==============================] - 1s 22ms/step - loss: 60.4283 - mean_absolute_percentage_error: 11.2460 - val_loss: 28.0458 - val_mean_absolute_percentage_error: 6.0271\n",
      "Epoch 172/300\n",
      "31/31 [==============================] - 1s 21ms/step - loss: 51.2750 - mean_absolute_percentage_error: 10.2535 - val_loss: 24.8255 - val_mean_absolute_percentage_error: 6.4668\n",
      "Epoch 173/300\n",
      "31/31 [==============================] - 1s 21ms/step - loss: 47.5146 - mean_absolute_percentage_error: 9.6998 - val_loss: 18.7181 - val_mean_absolute_percentage_error: 4.3631\n",
      "Epoch 174/300\n",
      "31/31 [==============================] - 1s 21ms/step - loss: 52.4939 - mean_absolute_percentage_error: 9.8518 - val_loss: 19.3827 - val_mean_absolute_percentage_error: 4.4210\n",
      "Epoch 175/300\n",
      "31/31 [==============================] - 1s 22ms/step - loss: 57.9273 - mean_absolute_percentage_error: 11.3068 - val_loss: 17.6284 - val_mean_absolute_percentage_error: 4.3187\n",
      "Epoch 176/300\n",
      "31/31 [==============================] - 1s 21ms/step - loss: 61.5975 - mean_absolute_percentage_error: 10.6231 - val_loss: 18.2164 - val_mean_absolute_percentage_error: 4.8681\n",
      "Epoch 177/300\n",
      "31/31 [==============================] - 1s 21ms/step - loss: 55.4974 - mean_absolute_percentage_error: 10.5768 - val_loss: 26.8315 - val_mean_absolute_percentage_error: 7.2272\n",
      "Epoch 178/300\n",
      "31/31 [==============================] - 1s 25ms/step - loss: 46.5972 - mean_absolute_percentage_error: 10.2419 - val_loss: 17.3455 - val_mean_absolute_percentage_error: 4.5528\n",
      "Epoch 179/300\n",
      "31/31 [==============================] - 1s 24ms/step - loss: 50.8915 - mean_absolute_percentage_error: 10.3717 - val_loss: 17.0201 - val_mean_absolute_percentage_error: 4.8620\n",
      "Epoch 180/300\n",
      "31/31 [==============================] - 1s 22ms/step - loss: 59.9329 - mean_absolute_percentage_error: 10.6269 - val_loss: 22.2681 - val_mean_absolute_percentage_error: 6.3685\n",
      "Epoch 181/300\n",
      "31/31 [==============================] - 1s 24ms/step - loss: 51.4296 - mean_absolute_percentage_error: 10.4800 - val_loss: 17.5870 - val_mean_absolute_percentage_error: 5.0335\n",
      "Epoch 182/300\n",
      "31/31 [==============================] - 1s 24ms/step - loss: 50.6144 - mean_absolute_percentage_error: 10.1033 - val_loss: 14.7258 - val_mean_absolute_percentage_error: 3.5535\n",
      "Epoch 183/300\n",
      "31/31 [==============================] - 1s 21ms/step - loss: 44.6144 - mean_absolute_percentage_error: 9.7186 - val_loss: 20.7572 - val_mean_absolute_percentage_error: 5.7540\n",
      "Epoch 184/300\n",
      "31/31 [==============================] - 1s 21ms/step - loss: 50.5431 - mean_absolute_percentage_error: 10.3673 - val_loss: 16.5385 - val_mean_absolute_percentage_error: 4.3716\n",
      "Epoch 185/300\n",
      "31/31 [==============================] - 1s 21ms/step - loss: 57.3857 - mean_absolute_percentage_error: 10.2874 - val_loss: 24.4535 - val_mean_absolute_percentage_error: 6.7893\n",
      "Epoch 186/300\n",
      "31/31 [==============================] - 1s 21ms/step - loss: 58.2234 - mean_absolute_percentage_error: 11.3708 - val_loss: 14.1369 - val_mean_absolute_percentage_error: 4.2505\n",
      "Epoch 187/300\n",
      "31/31 [==============================] - 1s 21ms/step - loss: 59.0786 - mean_absolute_percentage_error: 11.0146 - val_loss: 18.0940 - val_mean_absolute_percentage_error: 5.6419\n",
      "Epoch 188/300\n",
      "31/31 [==============================] - 1s 21ms/step - loss: 56.2306 - mean_absolute_percentage_error: 10.6892 - val_loss: 24.0007 - val_mean_absolute_percentage_error: 6.9133\n",
      "Epoch 189/300\n",
      "31/31 [==============================] - 1s 21ms/step - loss: 44.9462 - mean_absolute_percentage_error: 9.9330 - val_loss: 17.8191 - val_mean_absolute_percentage_error: 5.6837\n",
      "Epoch 190/300\n",
      "31/31 [==============================] - 1s 24ms/step - loss: 51.8652 - mean_absolute_percentage_error: 10.9684 - val_loss: 13.2052 - val_mean_absolute_percentage_error: 4.2284\n",
      "Epoch 191/300\n",
      "31/31 [==============================] - 1s 23ms/step - loss: 44.6862 - mean_absolute_percentage_error: 9.5672 - val_loss: 13.7773 - val_mean_absolute_percentage_error: 4.0272\n",
      "Epoch 192/300\n",
      "31/31 [==============================] - 1s 21ms/step - loss: 42.9068 - mean_absolute_percentage_error: 9.1542 - val_loss: 11.8410 - val_mean_absolute_percentage_error: 3.9707\n",
      "Epoch 193/300\n",
      "31/31 [==============================] - 1s 21ms/step - loss: 51.3859 - mean_absolute_percentage_error: 10.1016 - val_loss: 22.5454 - val_mean_absolute_percentage_error: 7.1380\n",
      "Epoch 194/300\n",
      "31/31 [==============================] - 1s 21ms/step - loss: 53.3425 - mean_absolute_percentage_error: 10.4869 - val_loss: 11.8115 - val_mean_absolute_percentage_error: 3.6915\n",
      "Epoch 195/300\n",
      "31/31 [==============================] - 1s 21ms/step - loss: 51.2449 - mean_absolute_percentage_error: 10.5305 - val_loss: 10.6448 - val_mean_absolute_percentage_error: 3.4811\n",
      "Epoch 196/300\n",
      "31/31 [==============================] - 1s 21ms/step - loss: 42.8234 - mean_absolute_percentage_error: 9.7652 - val_loss: 26.5792 - val_mean_absolute_percentage_error: 7.8316\n",
      "Epoch 197/300\n",
      "31/31 [==============================] - 1s 21ms/step - loss: 43.1024 - mean_absolute_percentage_error: 9.1676 - val_loss: 10.8468 - val_mean_absolute_percentage_error: 3.4762\n",
      "Epoch 198/300\n",
      "31/31 [==============================] - 1s 21ms/step - loss: 43.7633 - mean_absolute_percentage_error: 9.5811 - val_loss: 11.6118 - val_mean_absolute_percentage_error: 4.3183\n",
      "Epoch 199/300\n",
      "31/31 [==============================] - 1s 21ms/step - loss: 43.7127 - mean_absolute_percentage_error: 9.5132 - val_loss: 10.0613 - val_mean_absolute_percentage_error: 3.8824\n",
      "Epoch 200/300\n",
      "31/31 [==============================] - 1s 21ms/step - loss: 50.3072 - mean_absolute_percentage_error: 10.2669 - val_loss: 8.9455 - val_mean_absolute_percentage_error: 3.3949\n",
      "Epoch 201/300\n",
      "31/31 [==============================] - 1s 21ms/step - loss: 44.2438 - mean_absolute_percentage_error: 9.0382 - val_loss: 14.9443 - val_mean_absolute_percentage_error: 5.3812\n",
      "Epoch 202/300\n",
      "31/31 [==============================] - 1s 21ms/step - loss: 50.2273 - mean_absolute_percentage_error: 9.8334 - val_loss: 9.3055 - val_mean_absolute_percentage_error: 3.1467\n",
      "Epoch 203/300\n",
      "31/31 [==============================] - 1s 21ms/step - loss: 53.6259 - mean_absolute_percentage_error: 10.7435 - val_loss: 9.4506 - val_mean_absolute_percentage_error: 3.3270\n",
      "Epoch 204/300\n",
      "31/31 [==============================] - 1s 21ms/step - loss: 38.1519 - mean_absolute_percentage_error: 9.0616 - val_loss: 9.6569 - val_mean_absolute_percentage_error: 3.3032\n",
      "Epoch 205/300\n",
      "31/31 [==============================] - 1s 21ms/step - loss: 45.5831 - mean_absolute_percentage_error: 10.1389 - val_loss: 11.0274 - val_mean_absolute_percentage_error: 4.3935\n"
     ]
    },
    {
     "data": {
      "text/plain": [
       "<keras.callbacks.History at 0x7f34764c8af0>"
      ]
     },
     "execution_count": 291,
     "metadata": {},
     "output_type": "execute_result"
    }
   ],
   "source": [
    "opt_model.compile(optimizer= \"adam\", loss= \"mse\", metrics = \"mean_absolute_percentage_error\")\n",
    "opt_model.fit(X_train, \n",
    "                  y_train, \n",
    "                  batch_size = 8, \n",
    "                  epochs = 300, \n",
    "                  verbose = 1, \n",
    "                  callbacks = [es], \n",
    "                  validation_split = 0.2)"
   ]
  },
  {
   "cell_type": "code",
   "execution_count": 292,
   "id": "158b80a9",
   "metadata": {},
   "outputs": [
    {
     "name": "stdout",
     "output_type": "stream",
     "text": [
      "2/2 [==============================] - 0s 11ms/step - loss: 2.7993 - mean_absolute_percentage_error: 3.5753\n"
     ]
    },
    {
     "data": {
      "text/plain": [
       "[2.7993147373199463, 3.575289487838745]"
      ]
     },
     "execution_count": 292,
     "metadata": {},
     "output_type": "execute_result"
    }
   ],
   "source": [
    "opt_model.evaluate(X_test, y_test)"
   ]
  },
  {
   "cell_type": "code",
   "execution_count": 293,
   "id": "b59e362d",
   "metadata": {},
   "outputs": [],
   "source": [
    "# Moving average window size = 7\n",
    "# Result for not-centered moving average: Evaluation on the test set: mean_absolute_percentage_error: 24.9789\n",
    "#  filled NAs with mean of days 7-14\n",
    "# Result for centered moving average: Evaluation on the test set: mean_absolute_percentage_error: 17.9939\n",
    "#  filled NAs with mean of last seven observations of whole dataset\n",
    "\n",
    "# Moving average window size = 5\n",
    "# Result for centered moving average: Evaluation on the test set: mean_absolute_percentage_error: 9.5739\n",
    "# filled NAs with mean of last five observations\n",
    "\n",
    "# Moving average window size = 3\n",
    "# Result for centered moving average: Evaluation on the test set: mean_absolute_percentage_error: 4.4171\n",
    "# filled NAs with mean of last three observations\n",
    "\n",
    "# Moving average window size = 1\n",
    "# Result for centered moving average: Evaluation on the test set: mean_absolute_percentage_error: 26.0934\n",
    "# filled NAs with mean of last observation"
   ]
  },
  {
   "cell_type": "code",
   "execution_count": 217,
   "id": "1c2ab25a",
   "metadata": {},
   "outputs": [
    {
     "data": {
      "text/html": [
       "<div>\n",
       "<style scoped>\n",
       "    .dataframe tbody tr th:only-of-type {\n",
       "        vertical-align: middle;\n",
       "    }\n",
       "\n",
       "    .dataframe tbody tr th {\n",
       "        vertical-align: top;\n",
       "    }\n",
       "\n",
       "    .dataframe thead th {\n",
       "        text-align: right;\n",
       "    }\n",
       "</style>\n",
       "<table border=\"1\" class=\"dataframe\">\n",
       "  <thead>\n",
       "    <tr style=\"text-align: right;\">\n",
       "      <th></th>\n",
       "      <th>the_temp</th>\n",
       "      <th>wind_speed</th>\n",
       "      <th>air_pressure</th>\n",
       "      <th>humidity</th>\n",
       "      <th>visibility</th>\n",
       "      <th>daylight_hours</th>\n",
       "      <th>isholidays</th>\n",
       "      <th>weekday</th>\n",
       "      <th>weeknum</th>\n",
       "      <th>total</th>\n",
       "      <th>total_moving_average</th>\n",
       "    </tr>\n",
       "    <tr>\n",
       "      <th>date</th>\n",
       "      <th></th>\n",
       "      <th></th>\n",
       "      <th></th>\n",
       "      <th></th>\n",
       "      <th></th>\n",
       "      <th></th>\n",
       "      <th></th>\n",
       "      <th></th>\n",
       "      <th></th>\n",
       "      <th></th>\n",
       "      <th></th>\n",
       "    </tr>\n",
       "  </thead>\n",
       "  <tbody>\n",
       "    <tr>\n",
       "      <th>2022-02-24</th>\n",
       "      <td>9.210</td>\n",
       "      <td>9.855780</td>\n",
       "      <td>1011.5</td>\n",
       "      <td>67</td>\n",
       "      <td>14.118175</td>\n",
       "      <td>10.592222</td>\n",
       "      <td>0</td>\n",
       "      <td>3</td>\n",
       "      <td>8</td>\n",
       "      <td>52.0</td>\n",
       "      <td>37.714286</td>\n",
       "    </tr>\n",
       "    <tr>\n",
       "      <th>2022-02-25</th>\n",
       "      <td>6.305</td>\n",
       "      <td>11.460817</td>\n",
       "      <td>1016.0</td>\n",
       "      <td>64</td>\n",
       "      <td>10.139846</td>\n",
       "      <td>10.659444</td>\n",
       "      <td>0</td>\n",
       "      <td>4</td>\n",
       "      <td>8</td>\n",
       "      <td>42.0</td>\n",
       "      <td>32.428571</td>\n",
       "    </tr>\n",
       "    <tr>\n",
       "      <th>2022-02-26</th>\n",
       "      <td>5.950</td>\n",
       "      <td>6.208894</td>\n",
       "      <td>1032.0</td>\n",
       "      <td>77</td>\n",
       "      <td>11.720303</td>\n",
       "      <td>10.726389</td>\n",
       "      <td>0</td>\n",
       "      <td>5</td>\n",
       "      <td>8</td>\n",
       "      <td>21.0</td>\n",
       "      <td>51.000000</td>\n",
       "    </tr>\n",
       "    <tr>\n",
       "      <th>2022-02-27</th>\n",
       "      <td>6.175</td>\n",
       "      <td>3.942383</td>\n",
       "      <td>1037.5</td>\n",
       "      <td>72</td>\n",
       "      <td>12.481172</td>\n",
       "      <td>10.793889</td>\n",
       "      <td>0</td>\n",
       "      <td>6</td>\n",
       "      <td>8</td>\n",
       "      <td>17.0</td>\n",
       "      <td>51.000000</td>\n",
       "    </tr>\n",
       "    <tr>\n",
       "      <th>2022-02-28</th>\n",
       "      <td>4.985</td>\n",
       "      <td>5.008762</td>\n",
       "      <td>1036.0</td>\n",
       "      <td>57</td>\n",
       "      <td>14.556242</td>\n",
       "      <td>10.861389</td>\n",
       "      <td>0</td>\n",
       "      <td>0</td>\n",
       "      <td>9</td>\n",
       "      <td>7.0</td>\n",
       "      <td>51.000000</td>\n",
       "    </tr>\n",
       "  </tbody>\n",
       "</table>\n",
       "</div>"
      ],
      "text/plain": [
       "            the_temp  wind_speed  air_pressure  humidity  visibility  \\\n",
       "date                                                                   \n",
       "2022-02-24     9.210    9.855780        1011.5        67   14.118175   \n",
       "2022-02-25     6.305   11.460817        1016.0        64   10.139846   \n",
       "2022-02-26     5.950    6.208894        1032.0        77   11.720303   \n",
       "2022-02-27     6.175    3.942383        1037.5        72   12.481172   \n",
       "2022-02-28     4.985    5.008762        1036.0        57   14.556242   \n",
       "\n",
       "            daylight_hours  isholidays  weekday  weeknum  total  \\\n",
       "date                                                              \n",
       "2022-02-24       10.592222           0        3        8   52.0   \n",
       "2022-02-25       10.659444           0        4        8   42.0   \n",
       "2022-02-26       10.726389           0        5        8   21.0   \n",
       "2022-02-27       10.793889           0        6        8   17.0   \n",
       "2022-02-28       10.861389           0        0        9    7.0   \n",
       "\n",
       "            total_moving_average  \n",
       "date                              \n",
       "2022-02-24             37.714286  \n",
       "2022-02-25             32.428571  \n",
       "2022-02-26             51.000000  \n",
       "2022-02-27             51.000000  \n",
       "2022-02-28             51.000000  "
      ]
     },
     "execution_count": 217,
     "metadata": {},
     "output_type": "execute_result"
    }
   ],
   "source": [
    "df_combined.tail()"
   ]
  },
  {
   "cell_type": "code",
   "execution_count": 448,
   "id": "79170dae",
   "metadata": {},
   "outputs": [
    {
     "data": {
      "text/html": [
       "<div>\n",
       "<style scoped>\n",
       "    .dataframe tbody tr th:only-of-type {\n",
       "        vertical-align: middle;\n",
       "    }\n",
       "\n",
       "    .dataframe tbody tr th {\n",
       "        vertical-align: top;\n",
       "    }\n",
       "\n",
       "    .dataframe thead th {\n",
       "        text-align: right;\n",
       "    }\n",
       "</style>\n",
       "<table border=\"1\" class=\"dataframe\">\n",
       "  <thead>\n",
       "    <tr style=\"text-align: right;\">\n",
       "      <th></th>\n",
       "      <th>total</th>\n",
       "      <th>total_moving_average</th>\n",
       "    </tr>\n",
       "    <tr>\n",
       "      <th>date</th>\n",
       "      <th></th>\n",
       "      <th></th>\n",
       "    </tr>\n",
       "  </thead>\n",
       "  <tbody>\n",
       "    <tr>\n",
       "      <th>2022-02-24</th>\n",
       "      <td>52.0</td>\n",
       "      <td>43.666667</td>\n",
       "    </tr>\n",
       "    <tr>\n",
       "      <th>2022-02-25</th>\n",
       "      <td>42.0</td>\n",
       "      <td>38.333333</td>\n",
       "    </tr>\n",
       "    <tr>\n",
       "      <th>2022-02-26</th>\n",
       "      <td>21.0</td>\n",
       "      <td>26.666667</td>\n",
       "    </tr>\n",
       "    <tr>\n",
       "      <th>2022-02-27</th>\n",
       "      <td>17.0</td>\n",
       "      <td>15.000000</td>\n",
       "    </tr>\n",
       "    <tr>\n",
       "      <th>2022-02-28</th>\n",
       "      <td>7.0</td>\n",
       "      <td>21.000000</td>\n",
       "    </tr>\n",
       "  </tbody>\n",
       "</table>\n",
       "</div>"
      ],
      "text/plain": [
       "            total  total_moving_average\n",
       "date                                   \n",
       "2022-02-24   52.0             43.666667\n",
       "2022-02-25   42.0             38.333333\n",
       "2022-02-26   21.0             26.666667\n",
       "2022-02-27   17.0             15.000000\n",
       "2022-02-28    7.0             21.000000"
      ]
     },
     "execution_count": 448,
     "metadata": {},
     "output_type": "execute_result"
    }
   ],
   "source": [
    "df_ma.tail()"
   ]
  },
  {
   "cell_type": "code",
   "execution_count": 399,
   "id": "c5d36396",
   "metadata": {
    "scrolled": true
   },
   "outputs": [
    {
     "data": {
      "image/png": "[encoded data removed]",
      "text/plain": [
       "<Figure size 1080x288 with 1 Axes>"
      ]
     },
     "metadata": {
      "needs_background": "light"
     },
     "output_type": "display_data"
    }
   ],
   "source": [
    "plt.figure(figsize= (15, 4))\n",
    "plt.plot(opt_model.predict(X_test), label = \"prediction\")\n",
    "plt.plot(y_test, label = \"actual\")\n",
    "plt.legend();"
   ]
  },
  {
   "cell_type": "code",
   "execution_count": null,
   "id": "1f51d2e1",
   "metadata": {},
   "outputs": [],
   "source": []
  },
  {
   "cell_type": "code",
   "execution_count": null,
   "id": "f1e0c795",
   "metadata": {},
   "outputs": [],
   "source": []
  },
  {
   "cell_type": "markdown",
   "id": "15e912ba",
   "metadata": {},
   "source": [
    "# Predict on new data"
   ]
  },
  {
   "cell_type": "code",
   "execution_count": 311,
   "id": "53ea8a5d",
   "metadata": {},
   "outputs": [],
   "source": [
    "pred_array = np.array(df_combined[[ \"total\", \"total_moving_average\"]][-31:])"
   ]
  },
  {
   "cell_type": "code",
   "execution_count": 313,
   "id": "96330b6f",
   "metadata": {},
   "outputs": [
    {
     "data": {
      "text/plain": [
       "(31, 2)"
      ]
     },
     "execution_count": 313,
     "metadata": {},
     "output_type": "execute_result"
    }
   ],
   "source": [
    "pred_array.shape"
   ]
  },
  {
   "cell_type": "code",
   "execution_count": 316,
   "id": "ccf5d736",
   "metadata": {},
   "outputs": [],
   "source": [
    "pred_array = np.expand_dims(pred_array, 0)"
   ]
  },
  {
   "cell_type": "code",
   "execution_count": 317,
   "id": "f8aebd22",
   "metadata": {},
   "outputs": [
    {
     "data": {
      "text/plain": [
       "(1, 31, 2)"
      ]
     },
     "execution_count": 317,
     "metadata": {},
     "output_type": "execute_result"
    }
   ],
   "source": [
    "pred_array.shape"
   ]
  },
  {
   "cell_type": "code",
   "execution_count": 445,
   "id": "451f4181",
   "metadata": {
    "scrolled": true
   },
   "outputs": [
    {
     "data": {
      "text/plain": [
       "array([[38.20686]], dtype=float32)"
      ]
     },
     "execution_count": 445,
     "metadata": {},
     "output_type": "execute_result"
    }
   ],
   "source": [
    "opt_model.predict(pred_array)"
   ]
  },
  {
   "cell_type": "markdown",
   "id": "74c8477b",
   "metadata": {},
   "source": [
    "## Read in most recent dataset"
   ]
  },
  {
   "cell_type": "code",
   "execution_count": 378,
   "id": "0d20ace6",
   "metadata": {},
   "outputs": [],
   "source": [
    "url = \"https://www.internetwache-polizei-berlin.de/vdb/Fahrraddiebstahl.csv\"\n",
    "download = requests.get(url)\n",
    "decoded_content = download.content.decode('ISO-8859-1')\n",
    "file = decoded_content.splitlines()\n",
    "\n",
    "# cr = csv.reader(file, delimiter=',')\n",
    "cr = csv.DictReader(file, delimiter=',')\n",
    "my_list = list(cr)\n",
    "df_new = pd.DataFrame(my_list)"
   ]
  },
  {
   "cell_type": "code",
   "execution_count": 379,
   "id": "dfd75fad",
   "metadata": {},
   "outputs": [
    {
     "data": {
      "text/html": [
       "<div>\n",
       "<style scoped>\n",
       "    .dataframe tbody tr th:only-of-type {\n",
       "        vertical-align: middle;\n",
       "    }\n",
       "\n",
       "    .dataframe tbody tr th {\n",
       "        vertical-align: top;\n",
       "    }\n",
       "\n",
       "    .dataframe thead th {\n",
       "        text-align: right;\n",
       "    }\n",
       "</style>\n",
       "<table border=\"1\" class=\"dataframe\">\n",
       "  <thead>\n",
       "    <tr style=\"text-align: right;\">\n",
       "      <th></th>\n",
       "      <th>ANGELEGT_AM</th>\n",
       "      <th>TATZEIT_ANFANG_DATUM</th>\n",
       "      <th>TATZEIT_ANFANG_STUNDE</th>\n",
       "      <th>TATZEIT_ENDE_DATUM</th>\n",
       "      <th>TATZEIT_ENDE_STUNDE</th>\n",
       "      <th>LOR</th>\n",
       "      <th>SCHADENSHOEHE</th>\n",
       "      <th>VERSUCH</th>\n",
       "      <th>ART_DES_FAHRRADS</th>\n",
       "      <th>DELIKT</th>\n",
       "      <th>ERFASSUNGSGRUND</th>\n",
       "    </tr>\n",
       "  </thead>\n",
       "  <tbody>\n",
       "    <tr>\n",
       "      <th>0</th>\n",
       "      <td>03.03.2022</td>\n",
       "      <td>02.03.2022</td>\n",
       "      <td>18</td>\n",
       "      <td>02.03.2022</td>\n",
       "      <td>18</td>\n",
       "      <td>04300621</td>\n",
       "      <td>50</td>\n",
       "      <td>Nein</td>\n",
       "      <td>Herrenfahrrad</td>\n",
       "      <td>Keller- und Bodeneinbruch</td>\n",
       "      <td>Sonstiger schwerer Diebstahl in/aus Keller/Bod...</td>\n",
       "    </tr>\n",
       "    <tr>\n",
       "      <th>1</th>\n",
       "      <td>03.03.2022</td>\n",
       "      <td>03.03.2022</td>\n",
       "      <td>16</td>\n",
       "      <td>03.03.2022</td>\n",
       "      <td>16</td>\n",
       "      <td>08100314</td>\n",
       "      <td>0</td>\n",
       "      <td>Nein</td>\n",
       "      <td>Mountainbike</td>\n",
       "      <td>Fahrraddiebstahl</td>\n",
       "      <td>Einfacher Diebstahl von Fahrrädern</td>\n",
       "    </tr>\n",
       "    <tr>\n",
       "      <th>2</th>\n",
       "      <td>03.03.2022</td>\n",
       "      <td>03.03.2022</td>\n",
       "      <td>02</td>\n",
       "      <td>03.03.2022</td>\n",
       "      <td>02</td>\n",
       "      <td>09200613</td>\n",
       "      <td>0</td>\n",
       "      <td>Nein</td>\n",
       "      <td>Damenfahrrad</td>\n",
       "      <td>Fahrraddiebstahl</td>\n",
       "      <td>Einfacher Diebstahl von Fahrrädern</td>\n",
       "    </tr>\n",
       "    <tr>\n",
       "      <th>3</th>\n",
       "      <td>03.03.2022</td>\n",
       "      <td>25.02.2022</td>\n",
       "      <td>08</td>\n",
       "      <td>25.02.2022</td>\n",
       "      <td>17</td>\n",
       "      <td>06300633</td>\n",
       "      <td>950</td>\n",
       "      <td>Nein</td>\n",
       "      <td>Herrenfahrrad</td>\n",
       "      <td>Fahrraddiebstahl</td>\n",
       "      <td>Sonstiger schwerer Diebstahl von Fahrrädern</td>\n",
       "    </tr>\n",
       "    <tr>\n",
       "      <th>4</th>\n",
       "      <td>03.03.2022</td>\n",
       "      <td>01.03.2022</td>\n",
       "      <td>06</td>\n",
       "      <td>03.03.2022</td>\n",
       "      <td>16</td>\n",
       "      <td>08100208</td>\n",
       "      <td>710</td>\n",
       "      <td>Nein</td>\n",
       "      <td>Damenfahrrad</td>\n",
       "      <td>Fahrraddiebstahl</td>\n",
       "      <td>Sonstiger schwerer Diebstahl von Fahrrädern</td>\n",
       "    </tr>\n",
       "  </tbody>\n",
       "</table>\n",
       "</div>"
      ],
      "text/plain": [
       "  ANGELEGT_AM TATZEIT_ANFANG_DATUM TATZEIT_ANFANG_STUNDE TATZEIT_ENDE_DATUM  \\\n",
       "0  03.03.2022           02.03.2022                    18         02.03.2022   \n",
       "1  03.03.2022           03.03.2022                    16         03.03.2022   \n",
       "2  03.03.2022           03.03.2022                    02         03.03.2022   \n",
       "3  03.03.2022           25.02.2022                    08         25.02.2022   \n",
       "4  03.03.2022           01.03.2022                    06         03.03.2022   \n",
       "\n",
       "  TATZEIT_ENDE_STUNDE       LOR SCHADENSHOEHE VERSUCH ART_DES_FAHRRADS  \\\n",
       "0                  18  04300621            50    Nein    Herrenfahrrad   \n",
       "1                  16  08100314             0    Nein     Mountainbike   \n",
       "2                  02  09200613             0    Nein     Damenfahrrad   \n",
       "3                  17  06300633           950    Nein    Herrenfahrrad   \n",
       "4                  16  08100208           710    Nein     Damenfahrrad   \n",
       "\n",
       "                      DELIKT  \\\n",
       "0  Keller- und Bodeneinbruch   \n",
       "1           Fahrraddiebstahl   \n",
       "2           Fahrraddiebstahl   \n",
       "3           Fahrraddiebstahl   \n",
       "4           Fahrraddiebstahl   \n",
       "\n",
       "                                     ERFASSUNGSGRUND  \n",
       "0  Sonstiger schwerer Diebstahl in/aus Keller/Bod...  \n",
       "1                 Einfacher Diebstahl von Fahrrädern  \n",
       "2                 Einfacher Diebstahl von Fahrrädern  \n",
       "3        Sonstiger schwerer Diebstahl von Fahrrädern  \n",
       "4        Sonstiger schwerer Diebstahl von Fahrrädern  "
      ]
     },
     "execution_count": 379,
     "metadata": {},
     "output_type": "execute_result"
    }
   ],
   "source": [
    "df_new.head()"
   ]
  },
  {
   "cell_type": "code",
   "execution_count": 380,
   "id": "74b66b5c",
   "metadata": {},
   "outputs": [],
   "source": [
    "eng_col_names = [\n",
    "    \"date_reported\",\n",
    "    \"date_theft_start\",\n",
    "    \"hour_theft_start\",\n",
    "    \"date_theft_end\",\n",
    "    \"hour_theft_end\",\n",
    "    \"LOR\",\n",
    "    \"estimated_value\",\n",
    "    \"attempt\",\n",
    "    \"type_bike\", \n",
    "    \"theft_type\",\n",
    "    \"theft_type_detail\"    \n",
    "]\n",
    "df_new.columns = eng_col_names"
   ]
  },
  {
   "cell_type": "code",
   "execution_count": 381,
   "id": "a6cb6447",
   "metadata": {
    "collapsed": true
   },
   "outputs": [
    {
     "data": {
      "text/plain": [
       "date_reported        object\n",
       "date_theft_start     object\n",
       "hour_theft_start     object\n",
       "date_theft_end       object\n",
       "hour_theft_end       object\n",
       "LOR                  object\n",
       "estimated_value      object\n",
       "attempt              object\n",
       "type_bike            object\n",
       "theft_type           object\n",
       "theft_type_detail    object\n",
       "dtype: object"
      ]
     },
     "execution_count": 381,
     "metadata": {},
     "output_type": "execute_result"
    }
   ],
   "source": [
    "df_new.dtypes"
   ]
  },
  {
   "cell_type": "code",
   "execution_count": 382,
   "id": "89a2c830",
   "metadata": {},
   "outputs": [],
   "source": [
    "df_new[\"date_theft_start\"] =  pd.to_datetime(df_new[\"date_theft_start\"], format='%d.%m.%Y')"
   ]
  },
  {
   "cell_type": "code",
   "execution_count": 383,
   "id": "3ba9e278",
   "metadata": {
    "collapsed": true
   },
   "outputs": [
    {
     "data": {
      "text/plain": [
       "date_reported                object\n",
       "date_theft_start     datetime64[ns]\n",
       "hour_theft_start             object\n",
       "date_theft_end               object\n",
       "hour_theft_end               object\n",
       "LOR                          object\n",
       "estimated_value              object\n",
       "attempt                      object\n",
       "type_bike                    object\n",
       "theft_type                   object\n",
       "theft_type_detail            object\n",
       "dtype: object"
      ]
     },
     "execution_count": 383,
     "metadata": {},
     "output_type": "execute_result"
    }
   ],
   "source": [
    "df_new.dtypes"
   ]
  },
  {
   "cell_type": "code",
   "execution_count": 384,
   "id": "82fb4d21",
   "metadata": {},
   "outputs": [],
   "source": [
    "# Group dataframe by date and LOR\n",
    "df_new = df_new.pivot_table(index = \"date_theft_start\", values = \"type_bike\", aggfunc= \"count\")\n",
    "\n",
    "df_new.fillna(value = 0, inplace=True)"
   ]
  },
  {
   "cell_type": "code",
   "execution_count": 385,
   "id": "4f0e634d",
   "metadata": {
    "scrolled": true
   },
   "outputs": [],
   "source": [
    "df_new = df_new.rename(columns={\"type_bike\": \"total\"})"
   ]
  },
  {
   "cell_type": "code",
   "execution_count": 386,
   "id": "5b60f5e0",
   "metadata": {},
   "outputs": [],
   "source": [
    "df_new = df_new.reset_index()"
   ]
  },
  {
   "cell_type": "code",
   "execution_count": 387,
   "id": "0ef1372f",
   "metadata": {},
   "outputs": [
    {
     "data": {
      "text/plain": [
       "Index(['date_theft_start', 'total'], dtype='object')"
      ]
     },
     "execution_count": 387,
     "metadata": {},
     "output_type": "execute_result"
    }
   ],
   "source": [
    "df_new.columns"
   ]
  },
  {
   "cell_type": "code",
   "execution_count": 447,
   "id": "30d928a8",
   "metadata": {
    "scrolled": false
   },
   "outputs": [
    {
     "data": {
      "text/html": [
       "<div>\n",
       "<style scoped>\n",
       "    .dataframe tbody tr th:only-of-type {\n",
       "        vertical-align: middle;\n",
       "    }\n",
       "\n",
       "    .dataframe tbody tr th {\n",
       "        vertical-align: top;\n",
       "    }\n",
       "\n",
       "    .dataframe thead th {\n",
       "        text-align: right;\n",
       "    }\n",
       "</style>\n",
       "<table border=\"1\" class=\"dataframe\">\n",
       "  <thead>\n",
       "    <tr style=\"text-align: right;\">\n",
       "      <th></th>\n",
       "      <th>date_theft_start</th>\n",
       "      <th>total</th>\n",
       "    </tr>\n",
       "  </thead>\n",
       "  <tbody>\n",
       "    <tr>\n",
       "      <th>424</th>\n",
       "      <td>2022-03-01</td>\n",
       "      <td>35</td>\n",
       "    </tr>\n",
       "  </tbody>\n",
       "</table>\n",
       "</div>"
      ],
      "text/plain": [
       "    date_theft_start  total\n",
       "424       2022-03-01     35"
      ]
     },
     "execution_count": 447,
     "metadata": {},
     "output_type": "execute_result"
    }
   ],
   "source": [
    "df_new[df_new.date_theft_start == \"2022-03-01\"]"
   ]
  },
  {
   "cell_type": "code",
   "execution_count": 444,
   "id": "6133409e",
   "metadata": {},
   "outputs": [
    {
     "data": {
      "text/plain": [
       "date\n",
       "2022-02-19    37.0\n",
       "2022-02-20    31.0\n",
       "2022-02-21    44.0\n",
       "2022-02-22    51.0\n",
       "2022-02-23    37.0\n",
       "2022-02-24    52.0\n",
       "2022-02-25    42.0\n",
       "2022-02-26    21.0\n",
       "2022-02-27    17.0\n",
       "2022-02-28     7.0\n",
       "Name: total, dtype: float64"
      ]
     },
     "execution_count": 444,
     "metadata": {},
     "output_type": "execute_result"
    }
   ],
   "source": [
    "df_ma[\"total\"].tail(10)"
   ]
  },
  {
   "cell_type": "code",
   "execution_count": 443,
   "id": "598a751c",
   "metadata": {
    "scrolled": true
   },
   "outputs": [
    {
     "data": {
      "text/html": [
       "<div>\n",
       "<style scoped>\n",
       "    .dataframe tbody tr th:only-of-type {\n",
       "        vertical-align: middle;\n",
       "    }\n",
       "\n",
       "    .dataframe tbody tr th {\n",
       "        vertical-align: top;\n",
       "    }\n",
       "\n",
       "    .dataframe thead th {\n",
       "        text-align: right;\n",
       "    }\n",
       "</style>\n",
       "<table border=\"1\" class=\"dataframe\">\n",
       "  <thead>\n",
       "    <tr style=\"text-align: right;\">\n",
       "      <th></th>\n",
       "      <th>date_theft_start</th>\n",
       "      <th>total</th>\n",
       "    </tr>\n",
       "  </thead>\n",
       "  <tbody>\n",
       "    <tr>\n",
       "      <th>414</th>\n",
       "      <td>2022-02-19</td>\n",
       "      <td>37</td>\n",
       "    </tr>\n",
       "    <tr>\n",
       "      <th>415</th>\n",
       "      <td>2022-02-20</td>\n",
       "      <td>31</td>\n",
       "    </tr>\n",
       "    <tr>\n",
       "      <th>416</th>\n",
       "      <td>2022-02-21</td>\n",
       "      <td>45</td>\n",
       "    </tr>\n",
       "    <tr>\n",
       "      <th>417</th>\n",
       "      <td>2022-02-22</td>\n",
       "      <td>52</td>\n",
       "    </tr>\n",
       "    <tr>\n",
       "      <th>418</th>\n",
       "      <td>2022-02-23</td>\n",
       "      <td>44</td>\n",
       "    </tr>\n",
       "    <tr>\n",
       "      <th>419</th>\n",
       "      <td>2022-02-24</td>\n",
       "      <td>58</td>\n",
       "    </tr>\n",
       "    <tr>\n",
       "      <th>420</th>\n",
       "      <td>2022-02-25</td>\n",
       "      <td>56</td>\n",
       "    </tr>\n",
       "    <tr>\n",
       "      <th>421</th>\n",
       "      <td>2022-02-26</td>\n",
       "      <td>26</td>\n",
       "    </tr>\n",
       "    <tr>\n",
       "      <th>422</th>\n",
       "      <td>2022-02-27</td>\n",
       "      <td>25</td>\n",
       "    </tr>\n",
       "    <tr>\n",
       "      <th>423</th>\n",
       "      <td>2022-02-28</td>\n",
       "      <td>29</td>\n",
       "    </tr>\n",
       "  </tbody>\n",
       "</table>\n",
       "</div>"
      ],
      "text/plain": [
       "    date_theft_start  total\n",
       "414       2022-02-19     37\n",
       "415       2022-02-20     31\n",
       "416       2022-02-21     45\n",
       "417       2022-02-22     52\n",
       "418       2022-02-23     44\n",
       "419       2022-02-24     58\n",
       "420       2022-02-25     56\n",
       "421       2022-02-26     26\n",
       "422       2022-02-27     25\n",
       "423       2022-02-28     29"
      ]
     },
     "execution_count": 443,
     "metadata": {},
     "output_type": "execute_result"
    }
   ],
   "source": [
    "df_new[:-3].tail(10)"
   ]
  },
  {
   "cell_type": "code",
   "execution_count": 360,
   "id": "2efd28f5",
   "metadata": {},
   "outputs": [
    {
     "data": {
      "text/plain": [
       "(424, 11)"
      ]
     },
     "execution_count": 360,
     "metadata": {},
     "output_type": "execute_result"
    }
   ],
   "source": [
    "df_combined.shape"
   ]
  },
  {
   "cell_type": "markdown",
   "id": "84a42769",
   "metadata": {},
   "source": [
    "__---------------------------------------------------------------------------------------------------------------------------__\n",
    "\n",
    "__---------------------------------------------------------------------------------------------------------------------------__\n"
   ]
  },
  {
   "cell_type": "markdown",
   "id": "b935c998",
   "metadata": {},
   "source": [
    "# Cutoff the last 3 days for the prediction"
   ]
  },
  {
   "cell_type": "markdown",
   "id": "9fe65309",
   "metadata": {},
   "source": [
    "## Create test and train arrays"
   ]
  },
  {
   "cell_type": "code",
   "execution_count": 427,
   "id": "30e3002d",
   "metadata": {},
   "outputs": [],
   "source": [
    "def get_X_y_cutoff(window_size, future_horizon, n_cutoff, dataset):\n",
    "\n",
    "  X = []\n",
    "  y = []\n",
    "\n",
    "  for i in range(0, dataset.shape[0] - window_size - future_horizon):\n",
    "    X.append(dataset[i: i + window_size])\n",
    "    y.append(dataset[\"total\"][i + window_size + n_cutoff : i + window_size + n_cutoff + future_horizon, ])\n",
    "\n",
    "  return np.array(X), np.array(y)"
   ]
  },
  {
   "cell_type": "code",
   "execution_count": 432,
   "id": "59d59efc",
   "metadata": {},
   "outputs": [
    {
     "data": {
      "text/plain": [
       "336"
      ]
     },
     "execution_count": 432,
     "metadata": {},
     "output_type": "execute_result"
    }
   ],
   "source": [
    "int((len(df_ma) - 3) * 0.8)"
   ]
  },
  {
   "cell_type": "code",
   "execution_count": 463,
   "id": "9825f8b3",
   "metadata": {},
   "outputs": [],
   "source": [
    "df_ma = df_ma.reset_index(drop = True)"
   ]
  },
  {
   "cell_type": "code",
   "execution_count": null,
   "id": "9efa3692",
   "metadata": {},
   "outputs": [],
   "source": [
    "type(df_)"
   ]
  },
  {
   "cell_type": "code",
   "execution_count": 464,
   "id": "c62e5754",
   "metadata": {},
   "outputs": [
    {
     "name": "stderr",
     "output_type": "stream",
     "text": [
      "/tmp/ipykernel_1374/3114406080.py:10: VisibleDeprecationWarning: Creating an ndarray from ragged nested sequences (which is a list-or-tuple of lists-or-tuples-or ndarrays with different lengths or shapes) is deprecated. If you meant to do this, you must specify 'dtype=object' when creating the ndarray.\n",
      "  return np.array(X), np.array(y)\n"
     ]
    }
   ],
   "source": [
    "window_size = 31\n",
    "future_horizon = 1\n",
    "n_cutoff = 3\n",
    "\n",
    "X_train_cut, y_train_cut = get_X_y_cutoff(window_size,future_horizon, n_cutoff, df_ma.iloc[:336, :])\n",
    "X_test_cut, y_test_cut = get_X_y_cutoff(window_size, future_horizon, n_cutoff, df_ma.iloc[336:, :])"
   ]
  },
  {
   "cell_type": "code",
   "execution_count": 465,
   "id": "13975de3",
   "metadata": {
    "scrolled": true
   },
   "outputs": [
    {
     "data": {
      "text/plain": [
       "((304, 31, 2), (304,), (56, 31, 2), (56,))"
      ]
     },
     "execution_count": 465,
     "metadata": {},
     "output_type": "execute_result"
    }
   ],
   "source": [
    "X_train_cut.shape, y_train_cut.shape, X_test_cut.shape, y_test_cut.shape"
   ]
  },
  {
   "cell_type": "markdown",
   "id": "c17be071",
   "metadata": {},
   "source": [
    "## Re-Run model on cutoff data"
   ]
  },
  {
   "cell_type": "code",
   "execution_count": 466,
   "id": "81371f46",
   "metadata": {},
   "outputs": [],
   "source": [
    "opt_model = Sequential()\n",
    "# first LSTM layer\n",
    "opt_model.add(LSTM(units = 70, activation = \"tanh\", return_sequences = True))\n",
    "opt_model.add(Dropout(0.2))\n",
    "# second LSTM layer\n",
    "opt_model.add(LSTM(units= 30, activation= \"tanh\", return_sequences= False))\n",
    "opt_model.add(Dropout(0.2))\n",
    "\n",
    "# output layer to predict one value\n",
    "opt_model.add(Dense(1, activation= \"linear\"))"
   ]
  },
  {
   "cell_type": "code",
   "execution_count": 467,
   "id": "1776f5ab",
   "metadata": {},
   "outputs": [
    {
     "data": {
      "text/plain": [
       "34    27.0\n",
       "Name: total, dtype: float64"
      ]
     },
     "execution_count": 467,
     "metadata": {},
     "output_type": "execute_result"
    }
   ],
   "source": [
    "y_train_cut[0]"
   ]
  },
  {
   "cell_type": "code",
   "execution_count": 480,
   "id": "2eb98192",
   "metadata": {},
   "outputs": [
    {
     "data": {
      "text/plain": [
       "numpy.float64"
      ]
     },
     "execution_count": 480,
     "metadata": {},
     "output_type": "execute_result"
    }
   ],
   "source": [
    "type(X_train_cut[0][0][0])"
   ]
  },
  {
   "cell_type": "code",
   "execution_count": 475,
   "id": "f17ded02",
   "metadata": {},
   "outputs": [
    {
     "data": {
      "text/plain": [
       "numpy.float64"
      ]
     },
     "execution_count": 475,
     "metadata": {},
     "output_type": "execute_result"
    }
   ],
   "source": [
    "type(X_train_cut[0][0][1])"
   ]
  },
  {
   "cell_type": "code",
   "execution_count": 468,
   "id": "d0ae7d3d",
   "metadata": {},
   "outputs": [
    {
     "ename": "ValueError",
     "evalue": "Failed to convert a NumPy array to a Tensor (Unsupported object type Series).",
     "output_type": "error",
     "traceback": [
      "\u001b[0;31m---------------------------------------------------------------------------\u001b[0m",
      "\u001b[0;31mValueError\u001b[0m                                Traceback (most recent call last)",
      "Input \u001b[0;32mIn [468]\u001b[0m, in \u001b[0;36m<cell line: 2>\u001b[0;34m()\u001b[0m\n\u001b[1;32m      1\u001b[0m opt_model\u001b[38;5;241m.\u001b[39mcompile(optimizer\u001b[38;5;241m=\u001b[39m \u001b[38;5;124m\"\u001b[39m\u001b[38;5;124madam\u001b[39m\u001b[38;5;124m\"\u001b[39m, loss\u001b[38;5;241m=\u001b[39m \u001b[38;5;124m\"\u001b[39m\u001b[38;5;124mmse\u001b[39m\u001b[38;5;124m\"\u001b[39m, metrics \u001b[38;5;241m=\u001b[39m \u001b[38;5;124m\"\u001b[39m\u001b[38;5;124mmean_absolute_percentage_error\u001b[39m\u001b[38;5;124m\"\u001b[39m)\n\u001b[0;32m----> 2\u001b[0m \u001b[43mopt_model\u001b[49m\u001b[38;5;241;43m.\u001b[39;49m\u001b[43mfit\u001b[49m\u001b[43m(\u001b[49m\u001b[43mX_train_cut\u001b[49m\u001b[43m,\u001b[49m\u001b[43m \u001b[49m\n\u001b[1;32m      3\u001b[0m \u001b[43m                  \u001b[49m\u001b[43my_train_cut\u001b[49m\u001b[43m,\u001b[49m\u001b[43m \u001b[49m\n\u001b[1;32m      4\u001b[0m \u001b[43m                  \u001b[49m\u001b[43mbatch_size\u001b[49m\u001b[43m \u001b[49m\u001b[38;5;241;43m=\u001b[39;49m\u001b[43m \u001b[49m\u001b[38;5;241;43m8\u001b[39;49m\u001b[43m,\u001b[49m\u001b[43m \u001b[49m\n\u001b[1;32m      5\u001b[0m \u001b[43m                  \u001b[49m\u001b[43mepochs\u001b[49m\u001b[43m \u001b[49m\u001b[38;5;241;43m=\u001b[39;49m\u001b[43m \u001b[49m\u001b[38;5;241;43m300\u001b[39;49m\u001b[43m,\u001b[49m\u001b[43m \u001b[49m\n\u001b[1;32m      6\u001b[0m \u001b[43m                  \u001b[49m\u001b[43mverbose\u001b[49m\u001b[43m \u001b[49m\u001b[38;5;241;43m=\u001b[39;49m\u001b[43m \u001b[49m\u001b[38;5;241;43m1\u001b[39;49m\u001b[43m,\u001b[49m\u001b[43m \u001b[49m\n\u001b[1;32m      7\u001b[0m \u001b[43m                  \u001b[49m\u001b[43mcallbacks\u001b[49m\u001b[43m \u001b[49m\u001b[38;5;241;43m=\u001b[39;49m\u001b[43m \u001b[49m\u001b[43m[\u001b[49m\u001b[43mes\u001b[49m\u001b[43m]\u001b[49m\u001b[43m,\u001b[49m\u001b[43m \u001b[49m\n\u001b[1;32m      8\u001b[0m \u001b[43m                  \u001b[49m\u001b[43mvalidation_split\u001b[49m\u001b[43m \u001b[49m\u001b[38;5;241;43m=\u001b[39;49m\u001b[43m \u001b[49m\u001b[38;5;241;43m0.2\u001b[39;49m\u001b[43m)\u001b[49m\n",
      "File \u001b[0;32m~/.pyenv/versions/3.8.12/envs/berlin-bike-theft-forecasting/lib/python3.8/site-packages/keras/utils/traceback_utils.py:67\u001b[0m, in \u001b[0;36mfilter_traceback.<locals>.error_handler\u001b[0;34m(*args, **kwargs)\u001b[0m\n\u001b[1;32m     65\u001b[0m \u001b[38;5;28;01mexcept\u001b[39;00m \u001b[38;5;167;01mException\u001b[39;00m \u001b[38;5;28;01mas\u001b[39;00m e:  \u001b[38;5;66;03m# pylint: disable=broad-except\u001b[39;00m\n\u001b[1;32m     66\u001b[0m   filtered_tb \u001b[38;5;241m=\u001b[39m _process_traceback_frames(e\u001b[38;5;241m.\u001b[39m__traceback__)\n\u001b[0;32m---> 67\u001b[0m   \u001b[38;5;28;01mraise\u001b[39;00m e\u001b[38;5;241m.\u001b[39mwith_traceback(filtered_tb) \u001b[38;5;28;01mfrom\u001b[39;00m \u001b[38;5;28mNone\u001b[39m\n\u001b[1;32m     68\u001b[0m \u001b[38;5;28;01mfinally\u001b[39;00m:\n\u001b[1;32m     69\u001b[0m   \u001b[38;5;28;01mdel\u001b[39;00m filtered_tb\n",
      "File \u001b[0;32m~/.pyenv/versions/3.8.12/envs/berlin-bike-theft-forecasting/lib/python3.8/site-packages/tensorflow/python/framework/constant_op.py:102\u001b[0m, in \u001b[0;36mconvert_to_eager_tensor\u001b[0;34m(value, ctx, dtype)\u001b[0m\n\u001b[1;32m    100\u001b[0m     dtype \u001b[38;5;241m=\u001b[39m dtypes\u001b[38;5;241m.\u001b[39mas_dtype(dtype)\u001b[38;5;241m.\u001b[39mas_datatype_enum\n\u001b[1;32m    101\u001b[0m ctx\u001b[38;5;241m.\u001b[39mensure_initialized()\n\u001b[0;32m--> 102\u001b[0m \u001b[38;5;28;01mreturn\u001b[39;00m \u001b[43mops\u001b[49m\u001b[38;5;241;43m.\u001b[39;49m\u001b[43mEagerTensor\u001b[49m\u001b[43m(\u001b[49m\u001b[43mvalue\u001b[49m\u001b[43m,\u001b[49m\u001b[43m \u001b[49m\u001b[43mctx\u001b[49m\u001b[38;5;241;43m.\u001b[39;49m\u001b[43mdevice_name\u001b[49m\u001b[43m,\u001b[49m\u001b[43m \u001b[49m\u001b[43mdtype\u001b[49m\u001b[43m)\u001b[49m\n",
      "\u001b[0;31mValueError\u001b[0m: Failed to convert a NumPy array to a Tensor (Unsupported object type Series)."
     ]
    }
   ],
   "source": [
    "opt_model.compile(optimizer= \"adam\", loss= \"mse\", metrics = \"mean_absolute_percentage_error\")\n",
    "opt_model.fit(X_train_cut, \n",
    "                  y_train_cut, \n",
    "                  batch_size = 8, \n",
    "                  epochs = 300, \n",
    "                  verbose = 1, \n",
    "                  callbacks = [es], \n",
    "                  validation_split = 0.2)"
   ]
  },
  {
   "cell_type": "code",
   "execution_count": null,
   "id": "b9d754c5",
   "metadata": {},
   "outputs": [],
   "source": []
  }
 ],
 "metadata": {
  "kernelspec": {
   "display_name": "Python 3 (ipykernel)",
   "language": "python",
   "name": "python3"
  },
  "language_info": {
   "codemirror_mode": {
    "name": "ipython",
    "version": 3
   },
   "file_extension": ".py",
   "mimetype": "text/x-python",
   "name": "python",
   "nbconvert_exporter": "python",
   "pygments_lexer": "ipython3",
   "version": "3.8.12"
  },
  "toc": {
   "base_numbering": 1,
   "nav_menu": {},
   "number_sections": true,
   "sideBar": true,
   "skip_h1_title": false,
   "title_cell": "Table of Contents",
   "title_sidebar": "Contents",
   "toc_cell": false,
   "toc_position": {
    "height": "calc(100% - 180px)",
    "left": "10px",
    "top": "150px",
    "width": "384px"
   },
   "toc_section_display": true,
   "toc_window_display": true
  }
 },
 "nbformat": 4,
 "nbformat_minor": 5
}
