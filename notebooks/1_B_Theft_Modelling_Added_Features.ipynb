{
 "cells": [
  {
   "cell_type": "code",
   "execution_count": 40,
   "id": "aaa24f90",
   "metadata": {},
   "outputs": [],
   "source": [
    "import pandas as pd\n",
    "import numpy as np\n",
    "import matplotlib.pyplot as plt\n",
    "import seaborn as sns\n",
    "\n",
    "# metrics\n",
    "from sklearn.metrics import mean_squared_error\n",
    "from sklearn.metrics import mean_absolute_percentage_error\n",
    "\n",
    "# model building\n",
    "from tensorflow.keras import Sequential\n",
    "from tensorflow.keras import layers\n",
    "from tensorflow.keras.layers import Masking\n",
    "from tensorflow.keras.metrics import RootMeanSquaredError\n",
    "from keras.models import Sequential\n",
    "from keras.layers import Dense, SimpleRNN, Flatten\n",
    "from tensorflow.keras.layers import SimpleRNN, LSTM, GRU, Dropout\n",
    "from keras import layers\n",
    "from tensorflow.keras import callbacks\n",
    "from sklearn.preprocessing import MinMaxScaler\n",
    "from sklearn.model_selection import KFold\n",
    "\n",
    "# URL Download\n",
    "import csv\n",
    "import io\n",
    "import urllib.request\n",
    "import requests"
   ]
  },
  {
   "cell_type": "markdown",
   "id": "c783adfe",
   "metadata": {},
   "source": [
    "# Read in data"
   ]
  },
  {
   "cell_type": "code",
   "execution_count": 2,
   "id": "950a28af",
   "metadata": {},
   "outputs": [
    {
     "name": "stdout",
     "output_type": "stream",
     "text": [
      "/home/jakob/code/hmichinaka/berlin-bike-theft-forecasting/notebooks\r\n"
     ]
    }
   ],
   "source": [
    "!pwd"
   ]
  },
  {
   "cell_type": "code",
   "execution_count": 3,
   "id": "d1a11c3f",
   "metadata": {},
   "outputs": [],
   "source": [
    "df_feat = pd.read_csv(\"../raw_data/daily_features_theft.csv\")"
   ]
  },
  {
   "cell_type": "code",
   "execution_count": 4,
   "id": "e39db876",
   "metadata": {},
   "outputs": [
    {
     "data": {
      "text/plain": [
       "Index(['Unnamed: 0', 'date', 'min_temp', 'max_temp', 'the_temp',\n",
       "       'weather_state_name', 'weather_state_abbr', 'wind_speed',\n",
       "       'wind_direction', 'air_pressure', 'humidity', 'visibility',\n",
       "       'daylight_hours', 'isholidays', 'weekday', 'weeknum'],\n",
       "      dtype='object')"
      ]
     },
     "execution_count": 4,
     "metadata": {},
     "output_type": "execute_result"
    }
   ],
   "source": [
    "df_feat.columns"
   ]
  },
  {
   "cell_type": "code",
   "execution_count": 5,
   "id": "4d1d1e97",
   "metadata": {},
   "outputs": [],
   "source": [
    "df_feat.drop(columns = 'Unnamed: 0', inplace=True )"
   ]
  },
  {
   "cell_type": "code",
   "execution_count": 6,
   "id": "cf34c051",
   "metadata": {},
   "outputs": [
    {
     "data": {
      "text/html": [
       "<div>\n",
       "<style scoped>\n",
       "    .dataframe tbody tr th:only-of-type {\n",
       "        vertical-align: middle;\n",
       "    }\n",
       "\n",
       "    .dataframe tbody tr th {\n",
       "        vertical-align: top;\n",
       "    }\n",
       "\n",
       "    .dataframe thead th {\n",
       "        text-align: right;\n",
       "    }\n",
       "</style>\n",
       "<table border=\"1\" class=\"dataframe\">\n",
       "  <thead>\n",
       "    <tr style=\"text-align: right;\">\n",
       "      <th></th>\n",
       "      <th>date</th>\n",
       "      <th>min_temp</th>\n",
       "      <th>max_temp</th>\n",
       "      <th>the_temp</th>\n",
       "      <th>weather_state_name</th>\n",
       "      <th>weather_state_abbr</th>\n",
       "      <th>wind_speed</th>\n",
       "      <th>wind_direction</th>\n",
       "      <th>air_pressure</th>\n",
       "      <th>humidity</th>\n",
       "      <th>visibility</th>\n",
       "      <th>daylight_hours</th>\n",
       "      <th>isholidays</th>\n",
       "      <th>weekday</th>\n",
       "      <th>weeknum</th>\n",
       "    </tr>\n",
       "  </thead>\n",
       "  <tbody>\n",
       "    <tr>\n",
       "      <th>0</th>\n",
       "      <td>2021-01-01</td>\n",
       "      <td>0.005</td>\n",
       "      <td>2.395</td>\n",
       "      <td>2.070</td>\n",
       "      <td>Sleet</td>\n",
       "      <td>sl</td>\n",
       "      <td>3.020726</td>\n",
       "      <td>227.616640</td>\n",
       "      <td>1007.0</td>\n",
       "      <td>93</td>\n",
       "      <td>6.031650</td>\n",
       "      <td>07:50:24</td>\n",
       "      <td>1</td>\n",
       "      <td>4</td>\n",
       "      <td>53</td>\n",
       "    </tr>\n",
       "    <tr>\n",
       "      <th>1</th>\n",
       "      <td>2021-01-02</td>\n",
       "      <td>-1.135</td>\n",
       "      <td>3.045</td>\n",
       "      <td>2.465</td>\n",
       "      <td>Heavy Cloud</td>\n",
       "      <td>hc</td>\n",
       "      <td>2.666541</td>\n",
       "      <td>193.699868</td>\n",
       "      <td>1015.0</td>\n",
       "      <td>89</td>\n",
       "      <td>12.863316</td>\n",
       "      <td>07:51:41</td>\n",
       "      <td>0</td>\n",
       "      <td>5</td>\n",
       "      <td>53</td>\n",
       "    </tr>\n",
       "    <tr>\n",
       "      <th>2</th>\n",
       "      <td>2021-01-03</td>\n",
       "      <td>-1.315</td>\n",
       "      <td>1.955</td>\n",
       "      <td>0.985</td>\n",
       "      <td>Snow</td>\n",
       "      <td>sn</td>\n",
       "      <td>9.161659</td>\n",
       "      <td>55.677273</td>\n",
       "      <td>1015.0</td>\n",
       "      <td>96</td>\n",
       "      <td>2.144352</td>\n",
       "      <td>07:53:05</td>\n",
       "      <td>0</td>\n",
       "      <td>6</td>\n",
       "      <td>53</td>\n",
       "    </tr>\n",
       "    <tr>\n",
       "      <th>3</th>\n",
       "      <td>2021-01-04</td>\n",
       "      <td>0.030</td>\n",
       "      <td>1.780</td>\n",
       "      <td>1.355</td>\n",
       "      <td>Sleet</td>\n",
       "      <td>sl</td>\n",
       "      <td>6.271227</td>\n",
       "      <td>54.331796</td>\n",
       "      <td>1017.0</td>\n",
       "      <td>96</td>\n",
       "      <td>2.927901</td>\n",
       "      <td>07:54:33</td>\n",
       "      <td>0</td>\n",
       "      <td>0</td>\n",
       "      <td>1</td>\n",
       "    </tr>\n",
       "    <tr>\n",
       "      <th>4</th>\n",
       "      <td>2021-01-05</td>\n",
       "      <td>-0.030</td>\n",
       "      <td>2.730</td>\n",
       "      <td>1.270</td>\n",
       "      <td>Light Rain</td>\n",
       "      <td>lr</td>\n",
       "      <td>6.009528</td>\n",
       "      <td>26.500356</td>\n",
       "      <td>1017.0</td>\n",
       "      <td>94</td>\n",
       "      <td>7.021805</td>\n",
       "      <td>07:56:08</td>\n",
       "      <td>0</td>\n",
       "      <td>1</td>\n",
       "      <td>1</td>\n",
       "    </tr>\n",
       "  </tbody>\n",
       "</table>\n",
       "</div>"
      ],
      "text/plain": [
       "         date  min_temp  max_temp  the_temp weather_state_name  \\\n",
       "0  2021-01-01     0.005     2.395     2.070              Sleet   \n",
       "1  2021-01-02    -1.135     3.045     2.465        Heavy Cloud   \n",
       "2  2021-01-03    -1.315     1.955     0.985               Snow   \n",
       "3  2021-01-04     0.030     1.780     1.355              Sleet   \n",
       "4  2021-01-05    -0.030     2.730     1.270         Light Rain   \n",
       "\n",
       "  weather_state_abbr  wind_speed  wind_direction  air_pressure  humidity  \\\n",
       "0                 sl    3.020726      227.616640        1007.0        93   \n",
       "1                 hc    2.666541      193.699868        1015.0        89   \n",
       "2                 sn    9.161659       55.677273        1015.0        96   \n",
       "3                 sl    6.271227       54.331796        1017.0        96   \n",
       "4                 lr    6.009528       26.500356        1017.0        94   \n",
       "\n",
       "   visibility daylight_hours  isholidays  weekday  weeknum  \n",
       "0    6.031650       07:50:24           1        4       53  \n",
       "1   12.863316       07:51:41           0        5       53  \n",
       "2    2.144352       07:53:05           0        6       53  \n",
       "3    2.927901       07:54:33           0        0        1  \n",
       "4    7.021805       07:56:08           0        1        1  "
      ]
     },
     "execution_count": 6,
     "metadata": {},
     "output_type": "execute_result"
    }
   ],
   "source": [
    "df_feat.head()"
   ]
  },
  {
   "cell_type": "code",
   "execution_count": 7,
   "id": "44eb87bc",
   "metadata": {},
   "outputs": [],
   "source": [
    "df_theft = pd.read_csv(\"../raw_data/bike_theft_cleaned.csv\")"
   ]
  },
  {
   "cell_type": "code",
   "execution_count": 8,
   "id": "3fd1fcf8",
   "metadata": {},
   "outputs": [
    {
     "data": {
      "text/html": [
       "<div>\n",
       "<style scoped>\n",
       "    .dataframe tbody tr th:only-of-type {\n",
       "        vertical-align: middle;\n",
       "    }\n",
       "\n",
       "    .dataframe tbody tr th {\n",
       "        vertical-align: top;\n",
       "    }\n",
       "\n",
       "    .dataframe thead th {\n",
       "        text-align: right;\n",
       "    }\n",
       "</style>\n",
       "<table border=\"1\" class=\"dataframe\">\n",
       "  <thead>\n",
       "    <tr style=\"text-align: right;\">\n",
       "      <th></th>\n",
       "      <th>Unnamed: 0</th>\n",
       "      <th>date_reported</th>\n",
       "      <th>date_theft_start</th>\n",
       "      <th>hour_theft_start</th>\n",
       "      <th>date_theft_end</th>\n",
       "      <th>hour_theft_end</th>\n",
       "      <th>LOR</th>\n",
       "      <th>estimated_value</th>\n",
       "      <th>attempt</th>\n",
       "      <th>type_bike</th>\n",
       "      <th>theft_type</th>\n",
       "      <th>theft_type_detail</th>\n",
       "      <th>datetime_theft_start</th>\n",
       "      <th>datetime_theft_end</th>\n",
       "      <th>Timedelta_theft_end_start</th>\n",
       "      <th>datetime_theft_mean</th>\n",
       "      <th>BZR</th>\n",
       "      <th>PGR</th>\n",
       "      <th>Bezirk</th>\n",
       "    </tr>\n",
       "  </thead>\n",
       "  <tbody>\n",
       "    <tr>\n",
       "      <th>0</th>\n",
       "      <td>0</td>\n",
       "      <td>2022-02-28</td>\n",
       "      <td>2022-02-26</td>\n",
       "      <td>14:00:00</td>\n",
       "      <td>2022-02-26</td>\n",
       "      <td>14:00:00</td>\n",
       "      <td>7100103</td>\n",
       "      <td>580.0</td>\n",
       "      <td>No</td>\n",
       "      <td>bike</td>\n",
       "      <td>Fahrraddiebstahl</td>\n",
       "      <td>Sonstiger schwerer Diebstahl von Fahrrädern</td>\n",
       "      <td>2022-02-26 14:00:00</td>\n",
       "      <td>2022-02-26 14:00:00</td>\n",
       "      <td>0.0</td>\n",
       "      <td>2022-02-26 14:00:00</td>\n",
       "      <td>71001</td>\n",
       "      <td>710</td>\n",
       "      <td>7</td>\n",
       "    </tr>\n",
       "    <tr>\n",
       "      <th>1</th>\n",
       "      <td>1</td>\n",
       "      <td>2022-02-28</td>\n",
       "      <td>2022-02-28</td>\n",
       "      <td>16:00:00</td>\n",
       "      <td>2022-02-28</td>\n",
       "      <td>16:00:00</td>\n",
       "      <td>2100106</td>\n",
       "      <td>0.0</td>\n",
       "      <td>No</td>\n",
       "      <td>man's bike</td>\n",
       "      <td>Fahrraddiebstahl</td>\n",
       "      <td>Sonstiger schwerer Diebstahl von Fahrrädern</td>\n",
       "      <td>2022-02-28 16:00:00</td>\n",
       "      <td>2022-02-28 16:00:00</td>\n",
       "      <td>0.0</td>\n",
       "      <td>2022-02-28 16:00:00</td>\n",
       "      <td>21001</td>\n",
       "      <td>210</td>\n",
       "      <td>2</td>\n",
       "    </tr>\n",
       "    <tr>\n",
       "      <th>2</th>\n",
       "      <td>2</td>\n",
       "      <td>2022-02-28</td>\n",
       "      <td>2022-02-28</td>\n",
       "      <td>20:00:00</td>\n",
       "      <td>2022-02-28</td>\n",
       "      <td>20:00:00</td>\n",
       "      <td>8300935</td>\n",
       "      <td>0.0</td>\n",
       "      <td>No</td>\n",
       "      <td>other bike</td>\n",
       "      <td>Fahrraddiebstahl</td>\n",
       "      <td>Einfacher Diebstahl von Fahrrädern</td>\n",
       "      <td>2022-02-28 20:00:00</td>\n",
       "      <td>2022-02-28 20:00:00</td>\n",
       "      <td>0.0</td>\n",
       "      <td>2022-02-28 20:00:00</td>\n",
       "      <td>83009</td>\n",
       "      <td>830</td>\n",
       "      <td>8</td>\n",
       "    </tr>\n",
       "    <tr>\n",
       "      <th>3</th>\n",
       "      <td>3</td>\n",
       "      <td>2022-02-28</td>\n",
       "      <td>2022-02-28</td>\n",
       "      <td>8:00:00</td>\n",
       "      <td>2022-02-28</td>\n",
       "      <td>8:00:00</td>\n",
       "      <td>4400727</td>\n",
       "      <td>1000.0</td>\n",
       "      <td>No</td>\n",
       "      <td>other bike</td>\n",
       "      <td>Fahrraddiebstahl</td>\n",
       "      <td>Sonstiger schwerer Diebstahl von Fahrrädern</td>\n",
       "      <td>2022-02-28 08:00:00</td>\n",
       "      <td>2022-02-28 08:00:00</td>\n",
       "      <td>0.0</td>\n",
       "      <td>2022-02-28 08:00:00</td>\n",
       "      <td>44007</td>\n",
       "      <td>440</td>\n",
       "      <td>4</td>\n",
       "    </tr>\n",
       "    <tr>\n",
       "      <th>4</th>\n",
       "      <td>4</td>\n",
       "      <td>2022-02-28</td>\n",
       "      <td>2022-02-25</td>\n",
       "      <td>5:00:00</td>\n",
       "      <td>2022-02-25</td>\n",
       "      <td>17:00:00</td>\n",
       "      <td>9100305</td>\n",
       "      <td>499.0</td>\n",
       "      <td>No</td>\n",
       "      <td>man's bike</td>\n",
       "      <td>Fahrraddiebstahl</td>\n",
       "      <td>Sonstiger schwerer Diebstahl von Fahrrädern</td>\n",
       "      <td>2022-02-25 05:00:00</td>\n",
       "      <td>2022-02-25 17:00:00</td>\n",
       "      <td>12.0</td>\n",
       "      <td>2022-02-25 11:00:00</td>\n",
       "      <td>91003</td>\n",
       "      <td>910</td>\n",
       "      <td>9</td>\n",
       "    </tr>\n",
       "  </tbody>\n",
       "</table>\n",
       "</div>"
      ],
      "text/plain": [
       "   Unnamed: 0 date_reported date_theft_start hour_theft_start date_theft_end  \\\n",
       "0           0    2022-02-28       2022-02-26         14:00:00     2022-02-26   \n",
       "1           1    2022-02-28       2022-02-28         16:00:00     2022-02-28   \n",
       "2           2    2022-02-28       2022-02-28         20:00:00     2022-02-28   \n",
       "3           3    2022-02-28       2022-02-28          8:00:00     2022-02-28   \n",
       "4           4    2022-02-28       2022-02-25          5:00:00     2022-02-25   \n",
       "\n",
       "  hour_theft_end      LOR  estimated_value attempt   type_bike  \\\n",
       "0       14:00:00  7100103            580.0      No        bike   \n",
       "1       16:00:00  2100106              0.0      No  man's bike   \n",
       "2       20:00:00  8300935              0.0      No  other bike   \n",
       "3        8:00:00  4400727           1000.0      No  other bike   \n",
       "4       17:00:00  9100305            499.0      No  man's bike   \n",
       "\n",
       "         theft_type                            theft_type_detail  \\\n",
       "0  Fahrraddiebstahl  Sonstiger schwerer Diebstahl von Fahrrädern   \n",
       "1  Fahrraddiebstahl  Sonstiger schwerer Diebstahl von Fahrrädern   \n",
       "2  Fahrraddiebstahl           Einfacher Diebstahl von Fahrrädern   \n",
       "3  Fahrraddiebstahl  Sonstiger schwerer Diebstahl von Fahrrädern   \n",
       "4  Fahrraddiebstahl  Sonstiger schwerer Diebstahl von Fahrrädern   \n",
       "\n",
       "  datetime_theft_start   datetime_theft_end  Timedelta_theft_end_start  \\\n",
       "0  2022-02-26 14:00:00  2022-02-26 14:00:00                        0.0   \n",
       "1  2022-02-28 16:00:00  2022-02-28 16:00:00                        0.0   \n",
       "2  2022-02-28 20:00:00  2022-02-28 20:00:00                        0.0   \n",
       "3  2022-02-28 08:00:00  2022-02-28 08:00:00                        0.0   \n",
       "4  2022-02-25 05:00:00  2022-02-25 17:00:00                       12.0   \n",
       "\n",
       "   datetime_theft_mean    BZR  PGR  Bezirk  \n",
       "0  2022-02-26 14:00:00  71001  710       7  \n",
       "1  2022-02-28 16:00:00  21001  210       2  \n",
       "2  2022-02-28 20:00:00  83009  830       8  \n",
       "3  2022-02-28 08:00:00  44007  440       4  \n",
       "4  2022-02-25 11:00:00  91003  910       9  "
      ]
     },
     "execution_count": 8,
     "metadata": {},
     "output_type": "execute_result"
    }
   ],
   "source": [
    "df_theft.head()"
   ]
  },
  {
   "cell_type": "markdown",
   "id": "df04242b",
   "metadata": {},
   "source": [
    "# Combine datasets"
   ]
  },
  {
   "cell_type": "markdown",
   "id": "59bc9433",
   "metadata": {},
   "source": [
    "## Group theft data by Bezirk and date"
   ]
  },
  {
   "cell_type": "code",
   "execution_count": 9,
   "id": "a6cbe254",
   "metadata": {},
   "outputs": [],
   "source": [
    "# Group dataframe by date and LOR\n",
    "df_theft = df_theft.pivot_table(index = \"date_theft_start\", columns = \"Bezirk\", values = \"type_bike\", aggfunc= \"count\")\n",
    "\n",
    "df_theft.fillna(value = 0, inplace=True)"
   ]
  },
  {
   "cell_type": "code",
   "execution_count": 10,
   "id": "6f7c7239",
   "metadata": {},
   "outputs": [
    {
     "data": {
      "text/plain": [
       "(424, 13)"
      ]
     },
     "execution_count": 10,
     "metadata": {},
     "output_type": "execute_result"
    }
   ],
   "source": [
    "# create \"total\" column which sums up data for each day\n",
    "df_theft[\"total\"] = df_theft.sum(axis=1)\n",
    "\n",
    "\n",
    "df_theft.shape"
   ]
  },
  {
   "cell_type": "code",
   "execution_count": 11,
   "id": "d1684cc3",
   "metadata": {},
   "outputs": [
    {
     "data": {
      "text/plain": [
       "Index(['date', 'min_temp', 'max_temp', 'the_temp', 'weather_state_name',\n",
       "       'weather_state_abbr', 'wind_speed', 'wind_direction', 'air_pressure',\n",
       "       'humidity', 'visibility', 'daylight_hours', 'isholidays', 'weekday',\n",
       "       'weeknum'],\n",
       "      dtype='object')"
      ]
     },
     "execution_count": 11,
     "metadata": {},
     "output_type": "execute_result"
    }
   ],
   "source": [
    "df_feat.columns"
   ]
  },
  {
   "cell_type": "code",
   "execution_count": 12,
   "id": "99752011",
   "metadata": {},
   "outputs": [
    {
     "data": {
      "text/plain": [
       "Index([1, 2, 3, 4, 5, 6, 7, 8, 9, 10, 11, 12, 'total'], dtype='object', name='Bezirk')"
      ]
     },
     "execution_count": 12,
     "metadata": {},
     "output_type": "execute_result"
    }
   ],
   "source": [
    "df_theft.columns"
   ]
  },
  {
   "cell_type": "markdown",
   "id": "24be8487",
   "metadata": {},
   "source": [
    "## Merge datasets"
   ]
  },
  {
   "cell_type": "markdown",
   "id": "858831f0",
   "metadata": {},
   "source": [
    "We merge the \"total\" column from the theft dataset with the features from the features dataset"
   ]
  },
  {
   "cell_type": "code",
   "execution_count": 13,
   "id": "27ead7bf",
   "metadata": {},
   "outputs": [],
   "source": [
    "# First we have to reset the index in the df_theft to create a column to merge on \n",
    "\n",
    "df_theft.reset_index( inplace=True)"
   ]
  },
  {
   "cell_type": "code",
   "execution_count": 14,
   "id": "4877f421",
   "metadata": {},
   "outputs": [],
   "source": [
    "# as the last step we rename the date column to match the name in df_feat\n",
    "df_theft = df_theft.rename(columns={\"date_theft_start\": \"date\"})"
   ]
  },
  {
   "cell_type": "code",
   "execution_count": 15,
   "id": "eec1996b",
   "metadata": {},
   "outputs": [
    {
     "data": {
      "text/plain": [
       "Index(['date', 'min_temp', 'max_temp', 'the_temp', 'weather_state_name',\n",
       "       'weather_state_abbr', 'wind_speed', 'wind_direction', 'air_pressure',\n",
       "       'humidity', 'visibility', 'daylight_hours', 'isholidays', 'weekday',\n",
       "       'weeknum'],\n",
       "      dtype='object')"
      ]
     },
     "execution_count": 15,
     "metadata": {},
     "output_type": "execute_result"
    }
   ],
   "source": [
    "df_feat.columns"
   ]
  },
  {
   "cell_type": "code",
   "execution_count": 16,
   "id": "c829219a",
   "metadata": {},
   "outputs": [
    {
     "data": {
      "text/plain": [
       "Index(['date', 1, 2, 3, 4, 5, 6, 7, 8, 9, 10, 11, 12, 'total'], dtype='object', name='Bezirk')"
      ]
     },
     "execution_count": 16,
     "metadata": {},
     "output_type": "execute_result"
    }
   ],
   "source": [
    "df_theft.columns"
   ]
  },
  {
   "cell_type": "code",
   "execution_count": null,
   "id": "af9c3a0a",
   "metadata": {},
   "outputs": [],
   "source": []
  },
  {
   "cell_type": "code",
   "execution_count": 17,
   "id": "bbc63093",
   "metadata": {
    "scrolled": true
   },
   "outputs": [
    {
     "name": "stdout",
     "output_type": "stream",
     "text": [
      "/home/jakob/code/hmichinaka/berlin-bike-theft-forecasting/notebooks\r\n"
     ]
    }
   ],
   "source": [
    "!pwd"
   ]
  },
  {
   "cell_type": "code",
   "execution_count": 18,
   "id": "af8527de",
   "metadata": {
    "scrolled": true
   },
   "outputs": [],
   "source": [
    "df_theft[[\"date\", \"total\"]].to_csv(\"../bike_theft_total_daily.csv\")"
   ]
  },
  {
   "cell_type": "code",
   "execution_count": 19,
   "id": "8f2dabe8",
   "metadata": {
    "scrolled": true
   },
   "outputs": [],
   "source": [
    "# combine the datasets\n",
    "df_combined = pd.merge(df_feat, df_theft, on = \"date\")"
   ]
  },
  {
   "cell_type": "code",
   "execution_count": 20,
   "id": "52d811be",
   "metadata": {},
   "outputs": [
    {
     "data": {
      "text/html": [
       "<div>\n",
       "<style scoped>\n",
       "    .dataframe tbody tr th:only-of-type {\n",
       "        vertical-align: middle;\n",
       "    }\n",
       "\n",
       "    .dataframe tbody tr th {\n",
       "        vertical-align: top;\n",
       "    }\n",
       "\n",
       "    .dataframe thead th {\n",
       "        text-align: right;\n",
       "    }\n",
       "</style>\n",
       "<table border=\"1\" class=\"dataframe\">\n",
       "  <thead>\n",
       "    <tr style=\"text-align: right;\">\n",
       "      <th></th>\n",
       "      <th>date</th>\n",
       "      <th>min_temp</th>\n",
       "      <th>max_temp</th>\n",
       "      <th>the_temp</th>\n",
       "      <th>weather_state_name</th>\n",
       "      <th>weather_state_abbr</th>\n",
       "      <th>wind_speed</th>\n",
       "      <th>wind_direction</th>\n",
       "      <th>air_pressure</th>\n",
       "      <th>humidity</th>\n",
       "      <th>...</th>\n",
       "      <th>4</th>\n",
       "      <th>5</th>\n",
       "      <th>6</th>\n",
       "      <th>7</th>\n",
       "      <th>8</th>\n",
       "      <th>9</th>\n",
       "      <th>10</th>\n",
       "      <th>11</th>\n",
       "      <th>12</th>\n",
       "      <th>total</th>\n",
       "    </tr>\n",
       "  </thead>\n",
       "  <tbody>\n",
       "    <tr>\n",
       "      <th>0</th>\n",
       "      <td>2021-01-01</td>\n",
       "      <td>0.005</td>\n",
       "      <td>2.395</td>\n",
       "      <td>2.070</td>\n",
       "      <td>Sleet</td>\n",
       "      <td>sl</td>\n",
       "      <td>3.020726</td>\n",
       "      <td>227.616640</td>\n",
       "      <td>1007.0</td>\n",
       "      <td>93</td>\n",
       "      <td>...</td>\n",
       "      <td>4.0</td>\n",
       "      <td>1.0</td>\n",
       "      <td>0.0</td>\n",
       "      <td>0.0</td>\n",
       "      <td>1.0</td>\n",
       "      <td>1.0</td>\n",
       "      <td>2.0</td>\n",
       "      <td>1.0</td>\n",
       "      <td>0.0</td>\n",
       "      <td>16.0</td>\n",
       "    </tr>\n",
       "    <tr>\n",
       "      <th>1</th>\n",
       "      <td>2021-01-02</td>\n",
       "      <td>-1.135</td>\n",
       "      <td>3.045</td>\n",
       "      <td>2.465</td>\n",
       "      <td>Heavy Cloud</td>\n",
       "      <td>hc</td>\n",
       "      <td>2.666541</td>\n",
       "      <td>193.699868</td>\n",
       "      <td>1015.0</td>\n",
       "      <td>89</td>\n",
       "      <td>...</td>\n",
       "      <td>3.0</td>\n",
       "      <td>0.0</td>\n",
       "      <td>1.0</td>\n",
       "      <td>1.0</td>\n",
       "      <td>2.0</td>\n",
       "      <td>2.0</td>\n",
       "      <td>0.0</td>\n",
       "      <td>1.0</td>\n",
       "      <td>1.0</td>\n",
       "      <td>16.0</td>\n",
       "    </tr>\n",
       "    <tr>\n",
       "      <th>2</th>\n",
       "      <td>2021-01-03</td>\n",
       "      <td>-1.315</td>\n",
       "      <td>1.955</td>\n",
       "      <td>0.985</td>\n",
       "      <td>Snow</td>\n",
       "      <td>sn</td>\n",
       "      <td>9.161659</td>\n",
       "      <td>55.677273</td>\n",
       "      <td>1015.0</td>\n",
       "      <td>96</td>\n",
       "      <td>...</td>\n",
       "      <td>2.0</td>\n",
       "      <td>0.0</td>\n",
       "      <td>2.0</td>\n",
       "      <td>3.0</td>\n",
       "      <td>0.0</td>\n",
       "      <td>2.0</td>\n",
       "      <td>3.0</td>\n",
       "      <td>0.0</td>\n",
       "      <td>0.0</td>\n",
       "      <td>17.0</td>\n",
       "    </tr>\n",
       "    <tr>\n",
       "      <th>3</th>\n",
       "      <td>2021-01-04</td>\n",
       "      <td>0.030</td>\n",
       "      <td>1.780</td>\n",
       "      <td>1.355</td>\n",
       "      <td>Sleet</td>\n",
       "      <td>sl</td>\n",
       "      <td>6.271227</td>\n",
       "      <td>54.331796</td>\n",
       "      <td>1017.0</td>\n",
       "      <td>96</td>\n",
       "      <td>...</td>\n",
       "      <td>4.0</td>\n",
       "      <td>0.0</td>\n",
       "      <td>2.0</td>\n",
       "      <td>4.0</td>\n",
       "      <td>3.0</td>\n",
       "      <td>1.0</td>\n",
       "      <td>0.0</td>\n",
       "      <td>1.0</td>\n",
       "      <td>2.0</td>\n",
       "      <td>33.0</td>\n",
       "    </tr>\n",
       "    <tr>\n",
       "      <th>4</th>\n",
       "      <td>2021-01-05</td>\n",
       "      <td>-0.030</td>\n",
       "      <td>2.730</td>\n",
       "      <td>1.270</td>\n",
       "      <td>Light Rain</td>\n",
       "      <td>lr</td>\n",
       "      <td>6.009528</td>\n",
       "      <td>26.500356</td>\n",
       "      <td>1017.0</td>\n",
       "      <td>94</td>\n",
       "      <td>...</td>\n",
       "      <td>5.0</td>\n",
       "      <td>2.0</td>\n",
       "      <td>1.0</td>\n",
       "      <td>5.0</td>\n",
       "      <td>0.0</td>\n",
       "      <td>4.0</td>\n",
       "      <td>0.0</td>\n",
       "      <td>0.0</td>\n",
       "      <td>1.0</td>\n",
       "      <td>29.0</td>\n",
       "    </tr>\n",
       "  </tbody>\n",
       "</table>\n",
       "<p>5 rows × 28 columns</p>\n",
       "</div>"
      ],
      "text/plain": [
       "         date  min_temp  max_temp  the_temp weather_state_name  \\\n",
       "0  2021-01-01     0.005     2.395     2.070              Sleet   \n",
       "1  2021-01-02    -1.135     3.045     2.465        Heavy Cloud   \n",
       "2  2021-01-03    -1.315     1.955     0.985               Snow   \n",
       "3  2021-01-04     0.030     1.780     1.355              Sleet   \n",
       "4  2021-01-05    -0.030     2.730     1.270         Light Rain   \n",
       "\n",
       "  weather_state_abbr  wind_speed  wind_direction  air_pressure  humidity  ...  \\\n",
       "0                 sl    3.020726      227.616640        1007.0        93  ...   \n",
       "1                 hc    2.666541      193.699868        1015.0        89  ...   \n",
       "2                 sn    9.161659       55.677273        1015.0        96  ...   \n",
       "3                 sl    6.271227       54.331796        1017.0        96  ...   \n",
       "4                 lr    6.009528       26.500356        1017.0        94  ...   \n",
       "\n",
       "     4    5    6    7    8    9   10   11   12  total  \n",
       "0  4.0  1.0  0.0  0.0  1.0  1.0  2.0  1.0  0.0   16.0  \n",
       "1  3.0  0.0  1.0  1.0  2.0  2.0  0.0  1.0  1.0   16.0  \n",
       "2  2.0  0.0  2.0  3.0  0.0  2.0  3.0  0.0  0.0   17.0  \n",
       "3  4.0  0.0  2.0  4.0  3.0  1.0  0.0  1.0  2.0   33.0  \n",
       "4  5.0  2.0  1.0  5.0  0.0  4.0  0.0  0.0  1.0   29.0  \n",
       "\n",
       "[5 rows x 28 columns]"
      ]
     },
     "execution_count": 20,
     "metadata": {},
     "output_type": "execute_result"
    }
   ],
   "source": [
    "df_combined.head()"
   ]
  },
  {
   "cell_type": "markdown",
   "id": "a900db15",
   "metadata": {},
   "source": [
    "## Select relevant features"
   ]
  },
  {
   "cell_type": "code",
   "execution_count": 21,
   "id": "db105709",
   "metadata": {
    "scrolled": true
   },
   "outputs": [
    {
     "data": {
      "text/plain": [
       "Index([              'date',           'min_temp',           'max_temp',\n",
       "                 'the_temp', 'weather_state_name', 'weather_state_abbr',\n",
       "               'wind_speed',     'wind_direction',       'air_pressure',\n",
       "                 'humidity',         'visibility',     'daylight_hours',\n",
       "               'isholidays',            'weekday',            'weeknum',\n",
       "                          1,                    2,                    3,\n",
       "                          4,                    5,                    6,\n",
       "                          7,                    8,                    9,\n",
       "                         10,                   11,                   12,\n",
       "                    'total'],\n",
       "      dtype='object')"
      ]
     },
     "execution_count": 21,
     "metadata": {},
     "output_type": "execute_result"
    }
   ],
   "source": [
    "df_combined.columns"
   ]
  },
  {
   "cell_type": "markdown",
   "id": "ff175540",
   "metadata": {},
   "source": [
    "- For now we will drop the Bezirke columns, and the weather_state_name as well as weather_state_abbr\n",
    "- We will also drop min_temp and max_temp and just keep the_temp \n",
    "- We will further drop wind_direction"
   ]
  },
  {
   "cell_type": "code",
   "execution_count": 22,
   "id": "b31f8be1",
   "metadata": {},
   "outputs": [],
   "source": [
    "cols_select = [\"date\", \"the_temp\", \"wind_speed\", \"air_pressure\", \"humidity\", \"visibility\", \n",
    "              \"daylight_hours\", \"isholidays\", \"weekday\", \"weeknum\", \n",
    "              \"total\"]"
   ]
  },
  {
   "cell_type": "code",
   "execution_count": 23,
   "id": "e202bb28",
   "metadata": {},
   "outputs": [],
   "source": [
    "df_combined = df_combined[cols_select]"
   ]
  },
  {
   "cell_type": "code",
   "execution_count": 24,
   "id": "8b78648a",
   "metadata": {},
   "outputs": [
    {
     "data": {
      "text/html": [
       "<div>\n",
       "<style scoped>\n",
       "    .dataframe tbody tr th:only-of-type {\n",
       "        vertical-align: middle;\n",
       "    }\n",
       "\n",
       "    .dataframe tbody tr th {\n",
       "        vertical-align: top;\n",
       "    }\n",
       "\n",
       "    .dataframe thead th {\n",
       "        text-align: right;\n",
       "    }\n",
       "</style>\n",
       "<table border=\"1\" class=\"dataframe\">\n",
       "  <thead>\n",
       "    <tr style=\"text-align: right;\">\n",
       "      <th></th>\n",
       "      <th>date</th>\n",
       "      <th>the_temp</th>\n",
       "      <th>wind_speed</th>\n",
       "      <th>air_pressure</th>\n",
       "      <th>humidity</th>\n",
       "      <th>visibility</th>\n",
       "      <th>daylight_hours</th>\n",
       "      <th>isholidays</th>\n",
       "      <th>weekday</th>\n",
       "      <th>weeknum</th>\n",
       "      <th>total</th>\n",
       "    </tr>\n",
       "  </thead>\n",
       "  <tbody>\n",
       "    <tr>\n",
       "      <th>0</th>\n",
       "      <td>2021-01-01</td>\n",
       "      <td>2.070</td>\n",
       "      <td>3.020726</td>\n",
       "      <td>1007.0</td>\n",
       "      <td>93</td>\n",
       "      <td>6.031650</td>\n",
       "      <td>07:50:24</td>\n",
       "      <td>1</td>\n",
       "      <td>4</td>\n",
       "      <td>53</td>\n",
       "      <td>16.0</td>\n",
       "    </tr>\n",
       "    <tr>\n",
       "      <th>1</th>\n",
       "      <td>2021-01-02</td>\n",
       "      <td>2.465</td>\n",
       "      <td>2.666541</td>\n",
       "      <td>1015.0</td>\n",
       "      <td>89</td>\n",
       "      <td>12.863316</td>\n",
       "      <td>07:51:41</td>\n",
       "      <td>0</td>\n",
       "      <td>5</td>\n",
       "      <td>53</td>\n",
       "      <td>16.0</td>\n",
       "    </tr>\n",
       "    <tr>\n",
       "      <th>2</th>\n",
       "      <td>2021-01-03</td>\n",
       "      <td>0.985</td>\n",
       "      <td>9.161659</td>\n",
       "      <td>1015.0</td>\n",
       "      <td>96</td>\n",
       "      <td>2.144352</td>\n",
       "      <td>07:53:05</td>\n",
       "      <td>0</td>\n",
       "      <td>6</td>\n",
       "      <td>53</td>\n",
       "      <td>17.0</td>\n",
       "    </tr>\n",
       "    <tr>\n",
       "      <th>3</th>\n",
       "      <td>2021-01-04</td>\n",
       "      <td>1.355</td>\n",
       "      <td>6.271227</td>\n",
       "      <td>1017.0</td>\n",
       "      <td>96</td>\n",
       "      <td>2.927901</td>\n",
       "      <td>07:54:33</td>\n",
       "      <td>0</td>\n",
       "      <td>0</td>\n",
       "      <td>1</td>\n",
       "      <td>33.0</td>\n",
       "    </tr>\n",
       "    <tr>\n",
       "      <th>4</th>\n",
       "      <td>2021-01-05</td>\n",
       "      <td>1.270</td>\n",
       "      <td>6.009528</td>\n",
       "      <td>1017.0</td>\n",
       "      <td>94</td>\n",
       "      <td>7.021805</td>\n",
       "      <td>07:56:08</td>\n",
       "      <td>0</td>\n",
       "      <td>1</td>\n",
       "      <td>1</td>\n",
       "      <td>29.0</td>\n",
       "    </tr>\n",
       "  </tbody>\n",
       "</table>\n",
       "</div>"
      ],
      "text/plain": [
       "         date  the_temp  wind_speed  air_pressure  humidity  visibility  \\\n",
       "0  2021-01-01     2.070    3.020726        1007.0        93    6.031650   \n",
       "1  2021-01-02     2.465    2.666541        1015.0        89   12.863316   \n",
       "2  2021-01-03     0.985    9.161659        1015.0        96    2.144352   \n",
       "3  2021-01-04     1.355    6.271227        1017.0        96    2.927901   \n",
       "4  2021-01-05     1.270    6.009528        1017.0        94    7.021805   \n",
       "\n",
       "  daylight_hours  isholidays  weekday  weeknum  total  \n",
       "0       07:50:24           1        4       53   16.0  \n",
       "1       07:51:41           0        5       53   16.0  \n",
       "2       07:53:05           0        6       53   17.0  \n",
       "3       07:54:33           0        0        1   33.0  \n",
       "4       07:56:08           0        1        1   29.0  "
      ]
     },
     "execution_count": 24,
     "metadata": {},
     "output_type": "execute_result"
    }
   ],
   "source": [
    "df_combined.head()"
   ]
  },
  {
   "cell_type": "code",
   "execution_count": 25,
   "id": "3d3dbeab",
   "metadata": {},
   "outputs": [],
   "source": [
    "df_combined = df_combined.set_index(\"date\")"
   ]
  },
  {
   "cell_type": "code",
   "execution_count": 26,
   "id": "626a2e16",
   "metadata": {},
   "outputs": [],
   "source": [
    "# Change dtype of daylight_hours from object to float\n",
    "# first calculate seconds\n",
    "df_combined[\"daylight_hours\"] = df_combined[\"daylight_hours\"].apply(lambda x: sum(int(x) * 60 ** i for i, x in enumerate(reversed(x.split(':')))))"
   ]
  },
  {
   "cell_type": "code",
   "execution_count": 27,
   "id": "1b333440",
   "metadata": {},
   "outputs": [],
   "source": [
    "# then calculate hours as float from the seconds\n",
    "df_combined[\"daylight_hours\"] = df_combined[\"daylight_hours\"]/3600"
   ]
  },
  {
   "cell_type": "code",
   "execution_count": 28,
   "id": "a20fd469",
   "metadata": {},
   "outputs": [
    {
     "data": {
      "text/plain": [
       "the_temp          float64\n",
       "wind_speed        float64\n",
       "air_pressure      float64\n",
       "humidity            int64\n",
       "visibility        float64\n",
       "daylight_hours    float64\n",
       "isholidays          int64\n",
       "weekday             int64\n",
       "weeknum             int64\n",
       "total             float64\n",
       "dtype: object"
      ]
     },
     "execution_count": 28,
     "metadata": {},
     "output_type": "execute_result"
    }
   ],
   "source": [
    "df_combined.dtypes"
   ]
  },
  {
   "cell_type": "markdown",
   "id": "09ac8014",
   "metadata": {},
   "source": [
    "# Train-test-split"
   ]
  },
  {
   "cell_type": "code",
   "execution_count": 29,
   "id": "df7dbd6e",
   "metadata": {},
   "outputs": [
    {
     "data": {
      "image/png": "[encoded data removed]",
      "text/plain": [
       "<Figure size 1080x432 with 1 Axes>"
      ]
     },
     "metadata": {
      "needs_background": "light"
     },
     "output_type": "display_data"
    }
   ],
   "source": [
    "plt.figure(figsize = (15, 6))\n",
    "plt.plot(df_combined[\"total\"]);"
   ]
  },
  {
   "cell_type": "code",
   "execution_count": 31,
   "id": "51c8f18c",
   "metadata": {
    "scrolled": true
   },
   "outputs": [
    {
     "data": {
      "text/plain": [
       "51.62971698113208"
      ]
     },
     "execution_count": 31,
     "metadata": {},
     "output_type": "execute_result"
    }
   ],
   "source": [
    "df_combined[\"total\"].mean()"
   ]
  },
  {
   "cell_type": "code",
   "execution_count": 32,
   "id": "9ddbe902",
   "metadata": {},
   "outputs": [
    {
     "data": {
      "text/plain": [
       "18.194955888318802"
      ]
     },
     "execution_count": 32,
     "metadata": {},
     "output_type": "execute_result"
    }
   ],
   "source": [
    "df_combined[\"total\"].std()"
   ]
  },
  {
   "cell_type": "code",
   "execution_count": 33,
   "id": "9dfeef9a",
   "metadata": {
    "scrolled": false
   },
   "outputs": [
    {
     "data": {
      "text/plain": [
       "339"
      ]
     },
     "execution_count": 33,
     "metadata": {},
     "output_type": "execute_result"
    }
   ],
   "source": [
    "int(len(df_combined) * 0.8)"
   ]
  },
  {
   "cell_type": "code",
   "execution_count": 34,
   "id": "5eac04b7",
   "metadata": {},
   "outputs": [],
   "source": [
    "def get_X_y(window_size, future_horizon, dataset):\n",
    "\n",
    "  X = []\n",
    "  y = []\n",
    "\n",
    "  for i in range(0, dataset.shape[0] - window_size - future_horizon):\n",
    "    X.append(dataset[i: i + window_size])\n",
    "    y.append(dataset[\"total\"][i + window_size : i + window_size  + future_horizon, ])\n",
    "\n",
    "  return np.array(X), np.array(y)"
   ]
  },
  {
   "cell_type": "code",
   "execution_count": 35,
   "id": "51d5bc52",
   "metadata": {},
   "outputs": [],
   "source": [
    "window_size = 31\n",
    "future_horizon = 1\n",
    "\n",
    "X_train, y_train = get_X_y(window_size,future_horizon, df_combined.iloc[:339, :])\n",
    "X_test, y_test = get_X_y(window_size, future_horizon, df_combined.iloc[339:, :])"
   ]
  },
  {
   "cell_type": "code",
   "execution_count": 36,
   "id": "1d3bc530",
   "metadata": {},
   "outputs": [
    {
     "data": {
      "text/plain": [
       "((307, 31, 10), (307, 1), (53, 31, 10), (53, 1))"
      ]
     },
     "execution_count": 36,
     "metadata": {},
     "output_type": "execute_result"
    }
   ],
   "source": [
    "X_train.shape, y_train.shape, X_test.shape, y_test.shape"
   ]
  },
  {
   "cell_type": "code",
   "execution_count": 37,
   "id": "849e7dfa",
   "metadata": {},
   "outputs": [
    {
     "data": {
      "text/plain": [
       "array([2.07000000e+00, 3.02072617e+00, 1.00700000e+03, 9.30000000e+01,\n",
       "       6.03165016e+00, 7.84000000e+00, 1.00000000e+00, 4.00000000e+00,\n",
       "       5.30000000e+01, 1.60000000e+01])"
      ]
     },
     "execution_count": 37,
     "metadata": {},
     "output_type": "execute_result"
    }
   ],
   "source": [
    "X_train[0][0]"
   ]
  },
  {
   "cell_type": "markdown",
   "id": "74eb5303",
   "metadata": {},
   "source": [
    "# KFold Cross validation"
   ]
  },
  {
   "cell_type": "code",
   "execution_count": 38,
   "id": "46fccc2e",
   "metadata": {},
   "outputs": [],
   "source": [
    "def model_cross_validation(model):\n",
    "    model.compile(loss = \"mse\",\n",
    "                 optimizer = \"adam\",\n",
    "                 metrics = \"mean_absolute_percentage_error\")\n",
    "    \n",
    "    es = callbacks.EarlyStopping(patience = 5, restore_best_weights=True)\n",
    "    results = []\n",
    "    kf = KFold(n_splits = 5)\n",
    "    kf.get_n_splits(X_train)\n",
    "\n",
    "    for train_index, test_index in kf.split(X_train):\n",
    "\n",
    "        # split the data into train and test set\n",
    "        X_train_cv = X_train[train_index]\n",
    "        X_test_cv = X_train[test_index]\n",
    "        y_train_cv = y_train[train_index]\n",
    "        y_test_cv = y_train[test_index]\n",
    "\n",
    "        model = model \n",
    "        \n",
    "        # Fit the model\n",
    "        model.fit(X_train_cv, \n",
    "                  y_train_cv, \n",
    "                  batch_size = 16, \n",
    "                  epochs = 300, \n",
    "                  verbose = 0, \n",
    "                  callbacks = [es], \n",
    "                  validation_split = 0.2)\n",
    "        \n",
    "        # Evaluate the model on the test data\n",
    "        results.append(model.evaluate(X_test_cv, y_test_cv))\n",
    "        \n",
    "    return results"
   ]
  },
  {
   "cell_type": "markdown",
   "id": "cabfa0c1",
   "metadata": {},
   "source": [
    "# Modelling"
   ]
  },
  {
   "cell_type": "markdown",
   "id": "b752d982",
   "metadata": {},
   "source": [
    "## One-dense-layer model"
   ]
  },
  {
   "cell_type": "code",
   "execution_count": 42,
   "id": "b167d666",
   "metadata": {
    "scrolled": false
   },
   "outputs": [
    {
     "name": "stderr",
     "output_type": "stream",
     "text": [
      "2022-03-04 18:21:47.183246: W tensorflow/stream_executor/platform/default/dso_loader.cc:64] Could not load dynamic library 'libcuda.so.1'; dlerror: libcuda.so.1: cannot open shared object file: No such file or directory\n",
      "2022-03-04 18:21:47.183354: W tensorflow/stream_executor/cuda/cuda_driver.cc:269] failed call to cuInit: UNKNOWN ERROR (303)\n",
      "2022-03-04 18:21:47.183381: I tensorflow/stream_executor/cuda/cuda_diagnostics.cc:156] kernel driver does not appear to be running on this host (LAPTOP-C0GM00LC): /proc/driver/nvidia/version does not exist\n",
      "2022-03-04 18:21:47.184357: I tensorflow/core/platform/cpu_feature_guard.cc:151] This TensorFlow binary is optimized with oneAPI Deep Neural Network Library (oneDNN) to use the following CPU instructions in performance-critical operations:  AVX2 AVX512F FMA\n",
      "To enable them in other operations, rebuild TensorFlow with the appropriate compiler flags.\n"
     ]
    },
    {
     "name": "stdout",
     "output_type": "stream",
     "text": [
      "2/2 [==============================] - 0s 2ms/step - loss: 288.4503 - mean_absolute_percentage_error: 37.7725\n",
      "2/2 [==============================] - 0s 2ms/step - loss: 266.5517 - mean_absolute_percentage_error: 25.0270\n",
      "2/2 [==============================] - 0s 2ms/step - loss: 211.0061 - mean_absolute_percentage_error: 20.4194\n",
      "2/2 [==============================] - 0s 2ms/step - loss: 210.6597 - mean_absolute_percentage_error: 16.5573\n",
      "2/2 [==============================] - 0s 2ms/step - loss: 263.9324 - mean_absolute_percentage_error: 24.4945\n"
     ]
    }
   ],
   "source": [
    "base_model = Sequential([\n",
    "    Flatten(input_shape=X_train.shape[1:]),\n",
    "    Dense(1)\n",
    "])\n",
    "base_model_cv_results = model_cross_validation(base_model)"
   ]
  },
  {
   "cell_type": "code",
   "execution_count": 43,
   "id": "fb7f1c9d",
   "metadata": {},
   "outputs": [
    {
     "data": {
      "text/plain": [
       "array([248.12004395,  24.85413361])"
      ]
     },
     "execution_count": 43,
     "metadata": {},
     "output_type": "execute_result"
    }
   ],
   "source": [
    "np.mean(base_model_cv_results, axis = 0)"
   ]
  },
  {
   "cell_type": "code",
   "execution_count": 45,
   "id": "2fe6f27f",
   "metadata": {},
   "outputs": [],
   "source": [
    "es = callbacks.EarlyStopping(patience = 5, restore_best_weights=True)"
   ]
  },
  {
   "cell_type": "code",
   "execution_count": 48,
   "id": "52d89342",
   "metadata": {},
   "outputs": [
    {
     "data": {
      "text/plain": [
       "<keras.callbacks.History at 0x7fec605bb4c0>"
      ]
     },
     "execution_count": 48,
     "metadata": {},
     "output_type": "execute_result"
    }
   ],
   "source": [
    "base_model = Sequential([\n",
    "    Flatten(input_shape=X_train.shape[1:]),\n",
    "    Dense(1)\n",
    "])\n",
    "\n",
    "base_model.compile(loss = \"mse\",\n",
    "                 optimizer = \"adam\",\n",
    "                 metrics = \"mean_absolute_percentage_error\")\n",
    "\n",
    "\n",
    "base_model.fit(X_train, \n",
    "                  y_train, \n",
    "                  batch_size = 16, \n",
    "                  epochs = 300, \n",
    "                  verbose = 0, \n",
    "                  callbacks = [es], \n",
    "                  validation_split = 0.2)"
   ]
  },
  {
   "cell_type": "code",
   "execution_count": 49,
   "id": "eb43e765",
   "metadata": {},
   "outputs": [
    {
     "name": "stdout",
     "output_type": "stream",
     "text": [
      "2/2 [==============================] - 0s 2ms/step - loss: 262.6593 - mean_absolute_percentage_error: 36.7870\n"
     ]
    },
    {
     "data": {
      "text/plain": [
       "[262.6593017578125, 36.786991119384766]"
      ]
     },
     "execution_count": 49,
     "metadata": {},
     "output_type": "execute_result"
    }
   ],
   "source": [
    "base_model.evaluate(X_test, y_test)"
   ]
  },
  {
   "cell_type": "markdown",
   "id": "1ca81dd3",
   "metadata": {},
   "source": [
    "## Finetuned model"
   ]
  },
  {
   "cell_type": "code",
   "execution_count": 56,
   "id": "a068d6ee",
   "metadata": {},
   "outputs": [],
   "source": [
    "def create_opt_model(): \n",
    "    model = Sequential()\n",
    "    # first LSTM layer\n",
    "    model.add(LSTM(units = 70, activation = \"tanh\", return_sequences = True))\n",
    "    model.add(Dropout(0.2))\n",
    "    # second LSTM layer\n",
    "    model.add(LSTM(units= 30, activation= \"tanh\", return_sequences= False))\n",
    "    model.add(Dropout(0.2))\n",
    "\n",
    "    # output layer to predict one value\n",
    "    model.add(Dense(1, activation= \"linear\"))\n",
    "    return model"
   ]
  },
  {
   "cell_type": "code",
   "execution_count": 58,
   "id": "076a2143",
   "metadata": {},
   "outputs": [
    {
     "name": "stdout",
     "output_type": "stream",
     "text": [
      "2/2 [==============================] - 0s 10ms/step - loss: 823.1144 - mean_absolute_percentage_error: 103.6360\n",
      "2/2 [==============================] - 0s 9ms/step - loss: 199.9776 - mean_absolute_percentage_error: 26.8475\n",
      "2/2 [==============================] - 0s 9ms/step - loss: 149.5509 - mean_absolute_percentage_error: 17.1031\n",
      "2/2 [==============================] - 0s 9ms/step - loss: 261.3968 - mean_absolute_percentage_error: 18.3343\n",
      "2/2 [==============================] - 0s 10ms/step - loss: 172.2122 - mean_absolute_percentage_error: 17.8839\n"
     ]
    }
   ],
   "source": [
    "opt_model_cv_results = model_cross_validation(create_opt_model())"
   ]
  },
  {
   "cell_type": "code",
   "execution_count": 59,
   "id": "d82b87b5",
   "metadata": {},
   "outputs": [
    {
     "data": {
      "text/plain": [
       "array([321.25039673,  36.76093025])"
      ]
     },
     "execution_count": 59,
     "metadata": {},
     "output_type": "execute_result"
    }
   ],
   "source": [
    "np.mean(opt_model_cv_results, axis = 0)"
   ]
  },
  {
   "cell_type": "code",
   "execution_count": 60,
   "id": "5201043f",
   "metadata": {},
   "outputs": [
    {
     "data": {
      "text/plain": [
       "<keras.callbacks.History at 0x7fec1c60ed30>"
      ]
     },
     "execution_count": 60,
     "metadata": {},
     "output_type": "execute_result"
    }
   ],
   "source": [
    "opt_model = create_opt_model()\n",
    "opt_model.compile(optimizer= \"adam\", loss= \"mse\", metrics = \"mean_absolute_percentage_error\")\n",
    "opt_model.fit(X_train, \n",
    "                  y_train, \n",
    "                  batch_size = 8, \n",
    "                  epochs = 300, \n",
    "                  verbose = 0, \n",
    "                  callbacks = [es], \n",
    "                  validation_split = 0.2)"
   ]
  },
  {
   "cell_type": "code",
   "execution_count": 61,
   "id": "35f0ceda",
   "metadata": {},
   "outputs": [
    {
     "name": "stdout",
     "output_type": "stream",
     "text": [
      "2/2 [==============================] - 0s 9ms/step - loss: 274.4831 - mean_absolute_percentage_error: 42.2086\n"
     ]
    },
    {
     "data": {
      "text/plain": [
       "[274.48309326171875, 42.208560943603516]"
      ]
     },
     "execution_count": 61,
     "metadata": {},
     "output_type": "execute_result"
    }
   ],
   "source": [
    "opt_model.evaluate(X_test, y_test)"
   ]
  },
  {
   "cell_type": "markdown",
   "id": "4502242e",
   "metadata": {},
   "source": [
    "# Rolling average"
   ]
  },
  {
   "cell_type": "markdown",
   "id": "ea0cd698",
   "metadata": {},
   "source": [
    "## Calculate rolling average"
   ]
  },
  {
   "cell_type": "code",
   "execution_count": 62,
   "id": "4c89e2c0",
   "metadata": {
    "scrolled": true
   },
   "outputs": [
    {
     "data": {
      "text/plain": [
       "21.0"
      ]
     },
     "execution_count": 62,
     "metadata": {},
     "output_type": "execute_result"
    }
   ],
   "source": [
    "window_size = 3\n",
    "# Moving average without center option: \n",
    "    #calculate fill value for the beginning of the time series\n",
    "    #fill_value = df_combined[\"total\"][window_size:window_size*2].mean()\n",
    "# moving average with center option: \n",
    "# calculate fill value: mean of the last seven observations: \n",
    "fill_value = df_combined[\"total\"][-window_size].mean()\n",
    "fill_value"
   ]
  },
  {
   "cell_type": "code",
   "execution_count": 63,
   "id": "c6eaa62c",
   "metadata": {
    "scrolled": true
   },
   "outputs": [],
   "source": [
    "df_combined[\"total_moving_average\"] = df_combined[\"total\"].rolling(window=window_size, center = True).mean().fillna(fill_value)"
   ]
  },
  {
   "cell_type": "markdown",
   "id": "8b3f4fb0",
   "metadata": {},
   "source": [
    "## Feed into model"
   ]
  },
  {
   "cell_type": "code",
   "execution_count": 133,
   "id": "49d9d8f2",
   "metadata": {},
   "outputs": [],
   "source": [
    "# For now we only take the total and total_moving_average into account\n",
    "df_ma = df_combined[[\"total\", \"total_moving_average\"]]"
   ]
  },
  {
   "cell_type": "code",
   "execution_count": 134,
   "id": "cb670f9d",
   "metadata": {},
   "outputs": [
    {
     "data": {
      "text/plain": [
       "total                   float64\n",
       "total_moving_average    float64\n",
       "dtype: object"
      ]
     },
     "execution_count": 134,
     "metadata": {},
     "output_type": "execute_result"
    }
   ],
   "source": [
    "df_ma.dtypes"
   ]
  },
  {
   "cell_type": "code",
   "execution_count": 135,
   "id": "5e074bfe",
   "metadata": {},
   "outputs": [
    {
     "data": {
      "text/plain": [
       "339"
      ]
     },
     "execution_count": 135,
     "metadata": {},
     "output_type": "execute_result"
    }
   ],
   "source": [
    "# Train-test-split\n",
    "int(len(df_ma)* 0.8)"
   ]
  },
  {
   "cell_type": "code",
   "execution_count": 136,
   "id": "56235b36",
   "metadata": {},
   "outputs": [],
   "source": [
    "window_size = 31\n",
    "future_horizon = 1\n",
    "\n",
    "X_train, y_train = get_X_y(window_size,future_horizon, df_ma.iloc[:339, :])\n",
    "X_test, y_test = get_X_y(window_size, future_horizon, df_ma.iloc[339:, :])"
   ]
  },
  {
   "cell_type": "code",
   "execution_count": 137,
   "id": "5e08a791",
   "metadata": {},
   "outputs": [
    {
     "data": {
      "text/plain": [
       "((307, 31, 2), (307, 1), (53, 31, 2), (53, 1))"
      ]
     },
     "execution_count": 137,
     "metadata": {},
     "output_type": "execute_result"
    }
   ],
   "source": [
    "X_train.shape, y_train.shape, X_test.shape, y_test.shape"
   ]
  },
  {
   "cell_type": "code",
   "execution_count": 138,
   "id": "cdd82335",
   "metadata": {},
   "outputs": [
    {
     "name": "stdout",
     "output_type": "stream",
     "text": [
      "2/2 [==============================] - 0s 9ms/step - loss: 297.9157 - mean_absolute_percentage_error: 61.2410\n",
      "2/2 [==============================] - 0s 10ms/step - loss: 134.6490 - mean_absolute_percentage_error: 21.2017\n",
      "2/2 [==============================] - 0s 9ms/step - loss: 229.5226 - mean_absolute_percentage_error: 19.6619\n",
      "2/2 [==============================] - 0s 11ms/step - loss: 246.7602 - mean_absolute_percentage_error: 17.8384\n",
      "2/2 [==============================] - 0s 9ms/step - loss: 166.6505 - mean_absolute_percentage_error: 17.6848\n"
     ]
    }
   ],
   "source": [
    "opt_model_cv_results = model_cross_validation(create_opt_model())"
   ]
  },
  {
   "cell_type": "code",
   "execution_count": 139,
   "id": "9cafa9d1",
   "metadata": {},
   "outputs": [
    {
     "data": {
      "text/plain": [
       "27.525563430786132"
      ]
     },
     "execution_count": 139,
     "metadata": {},
     "output_type": "execute_result"
    }
   ],
   "source": [
    "np.mean(opt_model_cv_results, axis = 0)[1]"
   ]
  },
  {
   "cell_type": "code",
   "execution_count": 140,
   "id": "6c1b5257",
   "metadata": {},
   "outputs": [
    {
     "data": {
      "text/plain": [
       "(307, 31, 2)"
      ]
     },
     "execution_count": 140,
     "metadata": {},
     "output_type": "execute_result"
    }
   ],
   "source": [
    "X_train.shape"
   ]
  },
  {
   "cell_type": "code",
   "execution_count": 141,
   "id": "9dfe48a8",
   "metadata": {},
   "outputs": [
    {
     "data": {
      "text/plain": [
       "<keras.callbacks.History at 0x7febce57a160>"
      ]
     },
     "execution_count": 141,
     "metadata": {},
     "output_type": "execute_result"
    }
   ],
   "source": [
    "opt_model = create_opt_model()\n",
    "opt_model.compile(optimizer= \"adam\", loss= \"mse\", metrics = \"mean_absolute_percentage_error\")\n",
    "opt_model.fit(X_train, \n",
    "                  y_train, \n",
    "                  batch_size = 8, \n",
    "                  epochs = 300, \n",
    "                  verbose = 0, \n",
    "                  callbacks = [es], \n",
    "                  validation_split = 0.2)"
   ]
  },
  {
   "cell_type": "code",
   "execution_count": 142,
   "id": "f7b1ed17",
   "metadata": {},
   "outputs": [
    {
     "name": "stdout",
     "output_type": "stream",
     "text": [
      "2/2 [==============================] - 0s 10ms/step - loss: 3.0707 - mean_absolute_percentage_error: 4.0852\n"
     ]
    },
    {
     "data": {
      "text/plain": [
       "[3.0706546306610107, 4.085248947143555]"
      ]
     },
     "execution_count": 142,
     "metadata": {},
     "output_type": "execute_result"
    }
   ],
   "source": [
    "opt_model.evaluate(X_test, y_test)"
   ]
  },
  {
   "cell_type": "code",
   "execution_count": 143,
   "id": "9a637ab6",
   "metadata": {},
   "outputs": [],
   "source": [
    "# Moving average window size = 7\n",
    "# Result for not-centered moving average: Evaluation on the test set: mean_absolute_percentage_error: 24.9789\n",
    "#  filled NAs with mean of days 7-14\n",
    "# Result for centered moving average: Evaluation on the test set: mean_absolute_percentage_error: 17.9939\n",
    "#  filled NAs with mean of last seven observations of whole dataset\n",
    "\n",
    "# Moving average window size = 5\n",
    "# Result for centered moving average: Evaluation on the test set: mean_absolute_percentage_error: 9.5739\n",
    "# filled NAs with mean of last five observations\n",
    "\n",
    "# Moving average window size = 3\n",
    "# Result for centered moving average: Evaluation on the test set: mean_absolute_percentage_error: 4.4171\n",
    "# filled NAs with mean of last three observations\n",
    "\n",
    "# Moving average window size = 1\n",
    "# Result for centered moving average: Evaluation on the test set: mean_absolute_percentage_error: 26.0934\n",
    "# filled NAs with mean of last observation"
   ]
  },
  {
   "cell_type": "code",
   "execution_count": 144,
   "id": "342ab60d",
   "metadata": {},
   "outputs": [
    {
     "data": {
      "text/html": [
       "<div>\n",
       "<style scoped>\n",
       "    .dataframe tbody tr th:only-of-type {\n",
       "        vertical-align: middle;\n",
       "    }\n",
       "\n",
       "    .dataframe tbody tr th {\n",
       "        vertical-align: top;\n",
       "    }\n",
       "\n",
       "    .dataframe thead th {\n",
       "        text-align: right;\n",
       "    }\n",
       "</style>\n",
       "<table border=\"1\" class=\"dataframe\">\n",
       "  <thead>\n",
       "    <tr style=\"text-align: right;\">\n",
       "      <th></th>\n",
       "      <th>the_temp</th>\n",
       "      <th>wind_speed</th>\n",
       "      <th>air_pressure</th>\n",
       "      <th>humidity</th>\n",
       "      <th>visibility</th>\n",
       "      <th>daylight_hours</th>\n",
       "      <th>isholidays</th>\n",
       "      <th>weekday</th>\n",
       "      <th>weeknum</th>\n",
       "      <th>total</th>\n",
       "      <th>total_moving_average</th>\n",
       "    </tr>\n",
       "    <tr>\n",
       "      <th>date</th>\n",
       "      <th></th>\n",
       "      <th></th>\n",
       "      <th></th>\n",
       "      <th></th>\n",
       "      <th></th>\n",
       "      <th></th>\n",
       "      <th></th>\n",
       "      <th></th>\n",
       "      <th></th>\n",
       "      <th></th>\n",
       "      <th></th>\n",
       "    </tr>\n",
       "  </thead>\n",
       "  <tbody>\n",
       "    <tr>\n",
       "      <th>2022-02-24</th>\n",
       "      <td>9.210</td>\n",
       "      <td>9.855780</td>\n",
       "      <td>1011.5</td>\n",
       "      <td>67</td>\n",
       "      <td>14.118175</td>\n",
       "      <td>10.592222</td>\n",
       "      <td>0</td>\n",
       "      <td>3</td>\n",
       "      <td>8</td>\n",
       "      <td>52.0</td>\n",
       "      <td>43.666667</td>\n",
       "    </tr>\n",
       "    <tr>\n",
       "      <th>2022-02-25</th>\n",
       "      <td>6.305</td>\n",
       "      <td>11.460817</td>\n",
       "      <td>1016.0</td>\n",
       "      <td>64</td>\n",
       "      <td>10.139846</td>\n",
       "      <td>10.659444</td>\n",
       "      <td>0</td>\n",
       "      <td>4</td>\n",
       "      <td>8</td>\n",
       "      <td>42.0</td>\n",
       "      <td>38.333333</td>\n",
       "    </tr>\n",
       "    <tr>\n",
       "      <th>2022-02-26</th>\n",
       "      <td>5.950</td>\n",
       "      <td>6.208894</td>\n",
       "      <td>1032.0</td>\n",
       "      <td>77</td>\n",
       "      <td>11.720303</td>\n",
       "      <td>10.726389</td>\n",
       "      <td>0</td>\n",
       "      <td>5</td>\n",
       "      <td>8</td>\n",
       "      <td>21.0</td>\n",
       "      <td>26.666667</td>\n",
       "    </tr>\n",
       "    <tr>\n",
       "      <th>2022-02-27</th>\n",
       "      <td>6.175</td>\n",
       "      <td>3.942383</td>\n",
       "      <td>1037.5</td>\n",
       "      <td>72</td>\n",
       "      <td>12.481172</td>\n",
       "      <td>10.793889</td>\n",
       "      <td>0</td>\n",
       "      <td>6</td>\n",
       "      <td>8</td>\n",
       "      <td>17.0</td>\n",
       "      <td>15.000000</td>\n",
       "    </tr>\n",
       "    <tr>\n",
       "      <th>2022-02-28</th>\n",
       "      <td>4.985</td>\n",
       "      <td>5.008762</td>\n",
       "      <td>1036.0</td>\n",
       "      <td>57</td>\n",
       "      <td>14.556242</td>\n",
       "      <td>10.861389</td>\n",
       "      <td>0</td>\n",
       "      <td>0</td>\n",
       "      <td>9</td>\n",
       "      <td>7.0</td>\n",
       "      <td>21.000000</td>\n",
       "    </tr>\n",
       "  </tbody>\n",
       "</table>\n",
       "</div>"
      ],
      "text/plain": [
       "            the_temp  wind_speed  air_pressure  humidity  visibility  \\\n",
       "date                                                                   \n",
       "2022-02-24     9.210    9.855780        1011.5        67   14.118175   \n",
       "2022-02-25     6.305   11.460817        1016.0        64   10.139846   \n",
       "2022-02-26     5.950    6.208894        1032.0        77   11.720303   \n",
       "2022-02-27     6.175    3.942383        1037.5        72   12.481172   \n",
       "2022-02-28     4.985    5.008762        1036.0        57   14.556242   \n",
       "\n",
       "            daylight_hours  isholidays  weekday  weeknum  total  \\\n",
       "date                                                              \n",
       "2022-02-24       10.592222           0        3        8   52.0   \n",
       "2022-02-25       10.659444           0        4        8   42.0   \n",
       "2022-02-26       10.726389           0        5        8   21.0   \n",
       "2022-02-27       10.793889           0        6        8   17.0   \n",
       "2022-02-28       10.861389           0        0        9    7.0   \n",
       "\n",
       "            total_moving_average  \n",
       "date                              \n",
       "2022-02-24             43.666667  \n",
       "2022-02-25             38.333333  \n",
       "2022-02-26             26.666667  \n",
       "2022-02-27             15.000000  \n",
       "2022-02-28             21.000000  "
      ]
     },
     "execution_count": 144,
     "metadata": {},
     "output_type": "execute_result"
    }
   ],
   "source": [
    "df_combined.tail()"
   ]
  },
  {
   "cell_type": "code",
   "execution_count": 145,
   "id": "db845456",
   "metadata": {},
   "outputs": [
    {
     "data": {
      "text/html": [
       "<div>\n",
       "<style scoped>\n",
       "    .dataframe tbody tr th:only-of-type {\n",
       "        vertical-align: middle;\n",
       "    }\n",
       "\n",
       "    .dataframe tbody tr th {\n",
       "        vertical-align: top;\n",
       "    }\n",
       "\n",
       "    .dataframe thead th {\n",
       "        text-align: right;\n",
       "    }\n",
       "</style>\n",
       "<table border=\"1\" class=\"dataframe\">\n",
       "  <thead>\n",
       "    <tr style=\"text-align: right;\">\n",
       "      <th></th>\n",
       "      <th>total</th>\n",
       "      <th>total_moving_average</th>\n",
       "    </tr>\n",
       "    <tr>\n",
       "      <th>date</th>\n",
       "      <th></th>\n",
       "      <th></th>\n",
       "    </tr>\n",
       "  </thead>\n",
       "  <tbody>\n",
       "    <tr>\n",
       "      <th>2022-02-24</th>\n",
       "      <td>52.0</td>\n",
       "      <td>43.666667</td>\n",
       "    </tr>\n",
       "    <tr>\n",
       "      <th>2022-02-25</th>\n",
       "      <td>42.0</td>\n",
       "      <td>38.333333</td>\n",
       "    </tr>\n",
       "    <tr>\n",
       "      <th>2022-02-26</th>\n",
       "      <td>21.0</td>\n",
       "      <td>26.666667</td>\n",
       "    </tr>\n",
       "    <tr>\n",
       "      <th>2022-02-27</th>\n",
       "      <td>17.0</td>\n",
       "      <td>15.000000</td>\n",
       "    </tr>\n",
       "    <tr>\n",
       "      <th>2022-02-28</th>\n",
       "      <td>7.0</td>\n",
       "      <td>21.000000</td>\n",
       "    </tr>\n",
       "  </tbody>\n",
       "</table>\n",
       "</div>"
      ],
      "text/plain": [
       "            total  total_moving_average\n",
       "date                                   \n",
       "2022-02-24   52.0             43.666667\n",
       "2022-02-25   42.0             38.333333\n",
       "2022-02-26   21.0             26.666667\n",
       "2022-02-27   17.0             15.000000\n",
       "2022-02-28    7.0             21.000000"
      ]
     },
     "execution_count": 145,
     "metadata": {},
     "output_type": "execute_result"
    }
   ],
   "source": [
    "df_ma.tail()"
   ]
  },
  {
   "cell_type": "code",
   "execution_count": 146,
   "id": "12a588d0",
   "metadata": {
    "scrolled": true
   },
   "outputs": [
    {
     "data": {
      "image/png": "[encoded data removed]",
      "text/plain": [
       "<Figure size 1080x288 with 1 Axes>"
      ]
     },
     "metadata": {
      "needs_background": "light"
     },
     "output_type": "display_data"
    }
   ],
   "source": [
    "plt.figure(figsize= (15, 4))\n",
    "plt.plot(opt_model.predict(X_test), label = \"prediction\")\n",
    "plt.plot(y_test, label = \"actual\")\n",
    "plt.legend();"
   ]
  },
  {
   "cell_type": "markdown",
   "id": "5479e55a",
   "metadata": {},
   "source": [
    "# Predict on new data"
   ]
  },
  {
   "cell_type": "code",
   "execution_count": 80,
   "id": "f39e4ee3",
   "metadata": {},
   "outputs": [],
   "source": [
    "pred_array = np.array(df_combined[[ \"total\", \"total_moving_average\"]][-31:])"
   ]
  },
  {
   "cell_type": "code",
   "execution_count": 81,
   "id": "63aeb0d4",
   "metadata": {},
   "outputs": [
    {
     "data": {
      "text/plain": [
       "(31, 2)"
      ]
     },
     "execution_count": 81,
     "metadata": {},
     "output_type": "execute_result"
    }
   ],
   "source": [
    "pred_array.shape"
   ]
  },
  {
   "cell_type": "code",
   "execution_count": 82,
   "id": "95aa5484",
   "metadata": {},
   "outputs": [],
   "source": [
    "pred_array = np.expand_dims(pred_array, 0)"
   ]
  },
  {
   "cell_type": "code",
   "execution_count": 83,
   "id": "75abeebb",
   "metadata": {},
   "outputs": [
    {
     "data": {
      "text/plain": [
       "(1, 31, 2)"
      ]
     },
     "execution_count": 83,
     "metadata": {},
     "output_type": "execute_result"
    }
   ],
   "source": [
    "pred_array.shape"
   ]
  },
  {
   "cell_type": "code",
   "execution_count": 84,
   "id": "d8fbf479",
   "metadata": {
    "scrolled": true
   },
   "outputs": [
    {
     "data": {
      "text/plain": [
       "array([[30.660246]], dtype=float32)"
      ]
     },
     "execution_count": 84,
     "metadata": {},
     "output_type": "execute_result"
    }
   ],
   "source": [
    "opt_model.predict(pred_array)"
   ]
  },
  {
   "cell_type": "markdown",
   "id": "cafe746c",
   "metadata": {},
   "source": [
    "## Read in most recent dataset"
   ]
  },
  {
   "cell_type": "code",
   "execution_count": 85,
   "id": "7a3e04ad",
   "metadata": {},
   "outputs": [],
   "source": [
    "url = \"https://www.internetwache-polizei-berlin.de/vdb/Fahrraddiebstahl.csv\"\n",
    "download = requests.get(url)\n",
    "decoded_content = download.content.decode('ISO-8859-1')\n",
    "file = decoded_content.splitlines()\n",
    "\n",
    "# cr = csv.reader(file, delimiter=',')\n",
    "cr = csv.DictReader(file, delimiter=',')\n",
    "my_list = list(cr)\n",
    "df_new = pd.DataFrame(my_list)"
   ]
  },
  {
   "cell_type": "code",
   "execution_count": 86,
   "id": "9f76b9ad",
   "metadata": {},
   "outputs": [
    {
     "data": {
      "text/html": [
       "<div>\n",
       "<style scoped>\n",
       "    .dataframe tbody tr th:only-of-type {\n",
       "        vertical-align: middle;\n",
       "    }\n",
       "\n",
       "    .dataframe tbody tr th {\n",
       "        vertical-align: top;\n",
       "    }\n",
       "\n",
       "    .dataframe thead th {\n",
       "        text-align: right;\n",
       "    }\n",
       "</style>\n",
       "<table border=\"1\" class=\"dataframe\">\n",
       "  <thead>\n",
       "    <tr style=\"text-align: right;\">\n",
       "      <th></th>\n",
       "      <th>ANGELEGT_AM</th>\n",
       "      <th>TATZEIT_ANFANG_DATUM</th>\n",
       "      <th>TATZEIT_ANFANG_STUNDE</th>\n",
       "      <th>TATZEIT_ENDE_DATUM</th>\n",
       "      <th>TATZEIT_ENDE_STUNDE</th>\n",
       "      <th>LOR</th>\n",
       "      <th>SCHADENSHOEHE</th>\n",
       "      <th>VERSUCH</th>\n",
       "      <th>ART_DES_FAHRRADS</th>\n",
       "      <th>DELIKT</th>\n",
       "      <th>ERFASSUNGSGRUND</th>\n",
       "    </tr>\n",
       "  </thead>\n",
       "  <tbody>\n",
       "    <tr>\n",
       "      <th>0</th>\n",
       "      <td>03.03.2022</td>\n",
       "      <td>02.03.2022</td>\n",
       "      <td>18</td>\n",
       "      <td>02.03.2022</td>\n",
       "      <td>18</td>\n",
       "      <td>04300621</td>\n",
       "      <td>50</td>\n",
       "      <td>Nein</td>\n",
       "      <td>Herrenfahrrad</td>\n",
       "      <td>Keller- und Bodeneinbruch</td>\n",
       "      <td>Sonstiger schwerer Diebstahl in/aus Keller/Bod...</td>\n",
       "    </tr>\n",
       "    <tr>\n",
       "      <th>1</th>\n",
       "      <td>03.03.2022</td>\n",
       "      <td>03.03.2022</td>\n",
       "      <td>16</td>\n",
       "      <td>03.03.2022</td>\n",
       "      <td>16</td>\n",
       "      <td>08100314</td>\n",
       "      <td>0</td>\n",
       "      <td>Nein</td>\n",
       "      <td>Mountainbike</td>\n",
       "      <td>Fahrraddiebstahl</td>\n",
       "      <td>Einfacher Diebstahl von Fahrrädern</td>\n",
       "    </tr>\n",
       "    <tr>\n",
       "      <th>2</th>\n",
       "      <td>03.03.2022</td>\n",
       "      <td>03.03.2022</td>\n",
       "      <td>02</td>\n",
       "      <td>03.03.2022</td>\n",
       "      <td>02</td>\n",
       "      <td>09200613</td>\n",
       "      <td>0</td>\n",
       "      <td>Nein</td>\n",
       "      <td>Damenfahrrad</td>\n",
       "      <td>Fahrraddiebstahl</td>\n",
       "      <td>Einfacher Diebstahl von Fahrrädern</td>\n",
       "    </tr>\n",
       "    <tr>\n",
       "      <th>3</th>\n",
       "      <td>03.03.2022</td>\n",
       "      <td>25.02.2022</td>\n",
       "      <td>08</td>\n",
       "      <td>25.02.2022</td>\n",
       "      <td>17</td>\n",
       "      <td>06300633</td>\n",
       "      <td>950</td>\n",
       "      <td>Nein</td>\n",
       "      <td>Herrenfahrrad</td>\n",
       "      <td>Fahrraddiebstahl</td>\n",
       "      <td>Sonstiger schwerer Diebstahl von Fahrrädern</td>\n",
       "    </tr>\n",
       "    <tr>\n",
       "      <th>4</th>\n",
       "      <td>03.03.2022</td>\n",
       "      <td>01.03.2022</td>\n",
       "      <td>06</td>\n",
       "      <td>03.03.2022</td>\n",
       "      <td>16</td>\n",
       "      <td>08100208</td>\n",
       "      <td>710</td>\n",
       "      <td>Nein</td>\n",
       "      <td>Damenfahrrad</td>\n",
       "      <td>Fahrraddiebstahl</td>\n",
       "      <td>Sonstiger schwerer Diebstahl von Fahrrädern</td>\n",
       "    </tr>\n",
       "  </tbody>\n",
       "</table>\n",
       "</div>"
      ],
      "text/plain": [
       "  ANGELEGT_AM TATZEIT_ANFANG_DATUM TATZEIT_ANFANG_STUNDE TATZEIT_ENDE_DATUM  \\\n",
       "0  03.03.2022           02.03.2022                    18         02.03.2022   \n",
       "1  03.03.2022           03.03.2022                    16         03.03.2022   \n",
       "2  03.03.2022           03.03.2022                    02         03.03.2022   \n",
       "3  03.03.2022           25.02.2022                    08         25.02.2022   \n",
       "4  03.03.2022           01.03.2022                    06         03.03.2022   \n",
       "\n",
       "  TATZEIT_ENDE_STUNDE       LOR SCHADENSHOEHE VERSUCH ART_DES_FAHRRADS  \\\n",
       "0                  18  04300621            50    Nein    Herrenfahrrad   \n",
       "1                  16  08100314             0    Nein     Mountainbike   \n",
       "2                  02  09200613             0    Nein     Damenfahrrad   \n",
       "3                  17  06300633           950    Nein    Herrenfahrrad   \n",
       "4                  16  08100208           710    Nein     Damenfahrrad   \n",
       "\n",
       "                      DELIKT  \\\n",
       "0  Keller- und Bodeneinbruch   \n",
       "1           Fahrraddiebstahl   \n",
       "2           Fahrraddiebstahl   \n",
       "3           Fahrraddiebstahl   \n",
       "4           Fahrraddiebstahl   \n",
       "\n",
       "                                     ERFASSUNGSGRUND  \n",
       "0  Sonstiger schwerer Diebstahl in/aus Keller/Bod...  \n",
       "1                 Einfacher Diebstahl von Fahrrädern  \n",
       "2                 Einfacher Diebstahl von Fahrrädern  \n",
       "3        Sonstiger schwerer Diebstahl von Fahrrädern  \n",
       "4        Sonstiger schwerer Diebstahl von Fahrrädern  "
      ]
     },
     "execution_count": 86,
     "metadata": {},
     "output_type": "execute_result"
    }
   ],
   "source": [
    "df_new.head()"
   ]
  },
  {
   "cell_type": "code",
   "execution_count": 87,
   "id": "80c78391",
   "metadata": {},
   "outputs": [],
   "source": [
    "eng_col_names = [\n",
    "    \"date_reported\",\n",
    "    \"date_theft_start\",\n",
    "    \"hour_theft_start\",\n",
    "    \"date_theft_end\",\n",
    "    \"hour_theft_end\",\n",
    "    \"LOR\",\n",
    "    \"estimated_value\",\n",
    "    \"attempt\",\n",
    "    \"type_bike\", \n",
    "    \"theft_type\",\n",
    "    \"theft_type_detail\"    \n",
    "]\n",
    "df_new.columns = eng_col_names"
   ]
  },
  {
   "cell_type": "code",
   "execution_count": 88,
   "id": "a7895aed",
   "metadata": {},
   "outputs": [
    {
     "data": {
      "text/plain": [
       "date_reported        object\n",
       "date_theft_start     object\n",
       "hour_theft_start     object\n",
       "date_theft_end       object\n",
       "hour_theft_end       object\n",
       "LOR                  object\n",
       "estimated_value      object\n",
       "attempt              object\n",
       "type_bike            object\n",
       "theft_type           object\n",
       "theft_type_detail    object\n",
       "dtype: object"
      ]
     },
     "execution_count": 88,
     "metadata": {},
     "output_type": "execute_result"
    }
   ],
   "source": [
    "df_new.dtypes"
   ]
  },
  {
   "cell_type": "code",
   "execution_count": 89,
   "id": "30752d34",
   "metadata": {},
   "outputs": [],
   "source": [
    "df_new[\"date_theft_start\"] =  pd.to_datetime(df_new[\"date_theft_start\"], format='%d.%m.%Y')"
   ]
  },
  {
   "cell_type": "code",
   "execution_count": 90,
   "id": "114a912c",
   "metadata": {},
   "outputs": [
    {
     "data": {
      "text/plain": [
       "date_reported                object\n",
       "date_theft_start     datetime64[ns]\n",
       "hour_theft_start             object\n",
       "date_theft_end               object\n",
       "hour_theft_end               object\n",
       "LOR                          object\n",
       "estimated_value              object\n",
       "attempt                      object\n",
       "type_bike                    object\n",
       "theft_type                   object\n",
       "theft_type_detail            object\n",
       "dtype: object"
      ]
     },
     "execution_count": 90,
     "metadata": {},
     "output_type": "execute_result"
    }
   ],
   "source": [
    "df_new.dtypes"
   ]
  },
  {
   "cell_type": "code",
   "execution_count": 91,
   "id": "43f0e07a",
   "metadata": {},
   "outputs": [],
   "source": [
    "# Group dataframe by date and LOR\n",
    "df_new = df_new.pivot_table(index = \"date_theft_start\", values = \"type_bike\", aggfunc= \"count\")\n",
    "\n",
    "df_new.fillna(value = 0, inplace=True)"
   ]
  },
  {
   "cell_type": "code",
   "execution_count": 92,
   "id": "65615b99",
   "metadata": {
    "scrolled": true
   },
   "outputs": [],
   "source": [
    "df_new = df_new.rename(columns={\"type_bike\": \"total\"})"
   ]
  },
  {
   "cell_type": "code",
   "execution_count": 93,
   "id": "afa5209c",
   "metadata": {},
   "outputs": [],
   "source": [
    "df_new = df_new.reset_index()"
   ]
  },
  {
   "cell_type": "code",
   "execution_count": 94,
   "id": "ea7c19a1",
   "metadata": {},
   "outputs": [
    {
     "data": {
      "text/plain": [
       "Index(['date_theft_start', 'total'], dtype='object')"
      ]
     },
     "execution_count": 94,
     "metadata": {},
     "output_type": "execute_result"
    }
   ],
   "source": [
    "df_new.columns"
   ]
  },
  {
   "cell_type": "code",
   "execution_count": 95,
   "id": "585812fb",
   "metadata": {
    "scrolled": false
   },
   "outputs": [
    {
     "data": {
      "text/html": [
       "<div>\n",
       "<style scoped>\n",
       "    .dataframe tbody tr th:only-of-type {\n",
       "        vertical-align: middle;\n",
       "    }\n",
       "\n",
       "    .dataframe tbody tr th {\n",
       "        vertical-align: top;\n",
       "    }\n",
       "\n",
       "    .dataframe thead th {\n",
       "        text-align: right;\n",
       "    }\n",
       "</style>\n",
       "<table border=\"1\" class=\"dataframe\">\n",
       "  <thead>\n",
       "    <tr style=\"text-align: right;\">\n",
       "      <th></th>\n",
       "      <th>date_theft_start</th>\n",
       "      <th>total</th>\n",
       "    </tr>\n",
       "  </thead>\n",
       "  <tbody>\n",
       "    <tr>\n",
       "      <th>424</th>\n",
       "      <td>2022-03-01</td>\n",
       "      <td>35</td>\n",
       "    </tr>\n",
       "  </tbody>\n",
       "</table>\n",
       "</div>"
      ],
      "text/plain": [
       "    date_theft_start  total\n",
       "424       2022-03-01     35"
      ]
     },
     "execution_count": 95,
     "metadata": {},
     "output_type": "execute_result"
    }
   ],
   "source": [
    "df_new[df_new.date_theft_start == \"2022-03-01\"]"
   ]
  },
  {
   "cell_type": "code",
   "execution_count": 96,
   "id": "58a5fce4",
   "metadata": {},
   "outputs": [
    {
     "data": {
      "text/plain": [
       "date\n",
       "2022-02-19    37.0\n",
       "2022-02-20    31.0\n",
       "2022-02-21    44.0\n",
       "2022-02-22    51.0\n",
       "2022-02-23    37.0\n",
       "2022-02-24    52.0\n",
       "2022-02-25    42.0\n",
       "2022-02-26    21.0\n",
       "2022-02-27    17.0\n",
       "2022-02-28     7.0\n",
       "Name: total, dtype: float64"
      ]
     },
     "execution_count": 96,
     "metadata": {},
     "output_type": "execute_result"
    }
   ],
   "source": [
    "df_ma[\"total\"].tail(10)"
   ]
  },
  {
   "cell_type": "code",
   "execution_count": 97,
   "id": "a9cdc032",
   "metadata": {
    "scrolled": false
   },
   "outputs": [
    {
     "data": {
      "text/html": [
       "<div>\n",
       "<style scoped>\n",
       "    .dataframe tbody tr th:only-of-type {\n",
       "        vertical-align: middle;\n",
       "    }\n",
       "\n",
       "    .dataframe tbody tr th {\n",
       "        vertical-align: top;\n",
       "    }\n",
       "\n",
       "    .dataframe thead th {\n",
       "        text-align: right;\n",
       "    }\n",
       "</style>\n",
       "<table border=\"1\" class=\"dataframe\">\n",
       "  <thead>\n",
       "    <tr style=\"text-align: right;\">\n",
       "      <th></th>\n",
       "      <th>date_theft_start</th>\n",
       "      <th>total</th>\n",
       "    </tr>\n",
       "  </thead>\n",
       "  <tbody>\n",
       "    <tr>\n",
       "      <th>414</th>\n",
       "      <td>2022-02-19</td>\n",
       "      <td>37</td>\n",
       "    </tr>\n",
       "    <tr>\n",
       "      <th>415</th>\n",
       "      <td>2022-02-20</td>\n",
       "      <td>31</td>\n",
       "    </tr>\n",
       "    <tr>\n",
       "      <th>416</th>\n",
       "      <td>2022-02-21</td>\n",
       "      <td>45</td>\n",
       "    </tr>\n",
       "    <tr>\n",
       "      <th>417</th>\n",
       "      <td>2022-02-22</td>\n",
       "      <td>52</td>\n",
       "    </tr>\n",
       "    <tr>\n",
       "      <th>418</th>\n",
       "      <td>2022-02-23</td>\n",
       "      <td>44</td>\n",
       "    </tr>\n",
       "    <tr>\n",
       "      <th>419</th>\n",
       "      <td>2022-02-24</td>\n",
       "      <td>58</td>\n",
       "    </tr>\n",
       "    <tr>\n",
       "      <th>420</th>\n",
       "      <td>2022-02-25</td>\n",
       "      <td>56</td>\n",
       "    </tr>\n",
       "    <tr>\n",
       "      <th>421</th>\n",
       "      <td>2022-02-26</td>\n",
       "      <td>26</td>\n",
       "    </tr>\n",
       "    <tr>\n",
       "      <th>422</th>\n",
       "      <td>2022-02-27</td>\n",
       "      <td>25</td>\n",
       "    </tr>\n",
       "    <tr>\n",
       "      <th>423</th>\n",
       "      <td>2022-02-28</td>\n",
       "      <td>29</td>\n",
       "    </tr>\n",
       "  </tbody>\n",
       "</table>\n",
       "</div>"
      ],
      "text/plain": [
       "    date_theft_start  total\n",
       "414       2022-02-19     37\n",
       "415       2022-02-20     31\n",
       "416       2022-02-21     45\n",
       "417       2022-02-22     52\n",
       "418       2022-02-23     44\n",
       "419       2022-02-24     58\n",
       "420       2022-02-25     56\n",
       "421       2022-02-26     26\n",
       "422       2022-02-27     25\n",
       "423       2022-02-28     29"
      ]
     },
     "execution_count": 97,
     "metadata": {},
     "output_type": "execute_result"
    }
   ],
   "source": [
    "df_new[:-3].tail(10)"
   ]
  },
  {
   "cell_type": "code",
   "execution_count": 98,
   "id": "e4e949ea",
   "metadata": {},
   "outputs": [
    {
     "data": {
      "text/plain": [
       "(424, 11)"
      ]
     },
     "execution_count": 98,
     "metadata": {},
     "output_type": "execute_result"
    }
   ],
   "source": [
    "df_combined.shape"
   ]
  },
  {
   "cell_type": "markdown",
   "id": "c2a91cde",
   "metadata": {},
   "source": [
    "__---------------------------------------------------------------------------------------------------------------------------__\n",
    "\n",
    "__---------------------------------------------------------------------------------------------------------------------------__\n"
   ]
  },
  {
   "cell_type": "markdown",
   "id": "da340093",
   "metadata": {},
   "source": [
    "# Cutoff the last 3 days for the prediction"
   ]
  },
  {
   "cell_type": "markdown",
   "id": "30450949",
   "metadata": {},
   "source": [
    "## Create test and train arrays"
   ]
  },
  {
   "cell_type": "code",
   "execution_count": 147,
   "id": "549819c2",
   "metadata": {},
   "outputs": [],
   "source": [
    "def get_X_y_cutoff(window_size, future_horizon, n_cutoff, dataset):\n",
    "\n",
    "  X = []\n",
    "  y = []\n",
    "\n",
    "  for i in range(0, dataset.shape[0] - window_size - future_horizon):\n",
    "    X.append(dataset[i: i + window_size])\n",
    "    y.append(dataset[\"total\"][i + window_size + n_cutoff : i + window_size + n_cutoff + future_horizon, ])\n",
    "\n",
    "  return np.array(X), np.array(y)"
   ]
  },
  {
   "cell_type": "code",
   "execution_count": 148,
   "id": "37176f2c",
   "metadata": {},
   "outputs": [
    {
     "data": {
      "text/plain": [
       "336"
      ]
     },
     "execution_count": 148,
     "metadata": {},
     "output_type": "execute_result"
    }
   ],
   "source": [
    "int((len(df_ma) - 3) * 0.8)"
   ]
  },
  {
   "cell_type": "code",
   "execution_count": 149,
   "id": "23bc64e9",
   "metadata": {},
   "outputs": [],
   "source": [
    "#df_ma = df_ma.reset_index(drop = True)"
   ]
  },
  {
   "cell_type": "code",
   "execution_count": 150,
   "id": "ed2da94a",
   "metadata": {},
   "outputs": [
    {
     "data": {
      "text/plain": [
       "pandas.core.frame.DataFrame"
      ]
     },
     "execution_count": 150,
     "metadata": {},
     "output_type": "execute_result"
    }
   ],
   "source": [
    "type(df_ma)"
   ]
  },
  {
   "cell_type": "code",
   "execution_count": 151,
   "id": "97d80433",
   "metadata": {},
   "outputs": [
    {
     "name": "stderr",
     "output_type": "stream",
     "text": [
      "/tmp/ipykernel_26819/3114406080.py:10: VisibleDeprecationWarning: Creating an ndarray from ragged nested sequences (which is a list-or-tuple of lists-or-tuples-or ndarrays with different lengths or shapes) is deprecated. If you meant to do this, you must specify 'dtype=object' when creating the ndarray.\n",
      "  return np.array(X), np.array(y)\n"
     ]
    }
   ],
   "source": [
    "window_size = 31\n",
    "future_horizon = 1\n",
    "n_cutoff = 3\n",
    "\n",
    "X_train_cut, y_train_cut = get_X_y_cutoff(window_size,future_horizon, n_cutoff, df_ma.iloc[:336, :])\n",
    "X_test_cut, y_test_cut = get_X_y_cutoff(window_size, future_horizon, n_cutoff, df_ma.iloc[336:, :])"
   ]
  },
  {
   "cell_type": "code",
   "execution_count": 152,
   "id": "62752c57",
   "metadata": {
    "scrolled": true
   },
   "outputs": [
    {
     "data": {
      "text/plain": [
       "((304, 31, 2), (304,), (56, 31, 2), (56,))"
      ]
     },
     "execution_count": 152,
     "metadata": {},
     "output_type": "execute_result"
    }
   ],
   "source": [
    "X_train_cut.shape, y_train_cut.shape, X_test_cut.shape, y_test_cut.shape"
   ]
  },
  {
   "cell_type": "code",
   "execution_count": 153,
   "id": "549304cb",
   "metadata": {},
   "outputs": [
    {
     "data": {
      "text/plain": [
       "numpy.ndarray"
      ]
     },
     "execution_count": 153,
     "metadata": {},
     "output_type": "execute_result"
    }
   ],
   "source": [
    "type(X_train_cut[0])"
   ]
  },
  {
   "cell_type": "code",
   "execution_count": null,
   "id": "aa14cd68",
   "metadata": {},
   "outputs": [],
   "source": []
  },
  {
   "cell_type": "markdown",
   "id": "d8a40794",
   "metadata": {},
   "source": [
    "## Re-Run model on cutoff data"
   ]
  },
  {
   "cell_type": "code",
   "execution_count": 154,
   "id": "2d84a194",
   "metadata": {},
   "outputs": [],
   "source": [
    "opt_model = create_opt_model()"
   ]
  },
  {
   "cell_type": "code",
   "execution_count": 155,
   "id": "bd0c2e95",
   "metadata": {},
   "outputs": [
    {
     "ename": "ValueError",
     "evalue": "Failed to convert a NumPy array to a Tensor (Unsupported object type Series).",
     "output_type": "error",
     "traceback": [
      "\u001b[0;31m---------------------------------------------------------------------------\u001b[0m",
      "\u001b[0;31mValueError\u001b[0m                                Traceback (most recent call last)",
      "Input \u001b[0;32mIn [155]\u001b[0m, in \u001b[0;36m<cell line: 2>\u001b[0;34m()\u001b[0m\n\u001b[1;32m      1\u001b[0m opt_model\u001b[38;5;241m.\u001b[39mcompile(optimizer\u001b[38;5;241m=\u001b[39m \u001b[38;5;124m\"\u001b[39m\u001b[38;5;124madam\u001b[39m\u001b[38;5;124m\"\u001b[39m, loss\u001b[38;5;241m=\u001b[39m \u001b[38;5;124m\"\u001b[39m\u001b[38;5;124mmse\u001b[39m\u001b[38;5;124m\"\u001b[39m, metrics \u001b[38;5;241m=\u001b[39m \u001b[38;5;124m\"\u001b[39m\u001b[38;5;124mmean_absolute_percentage_error\u001b[39m\u001b[38;5;124m\"\u001b[39m)\n\u001b[0;32m----> 2\u001b[0m \u001b[43mopt_model\u001b[49m\u001b[38;5;241;43m.\u001b[39;49m\u001b[43mfit\u001b[49m\u001b[43m(\u001b[49m\u001b[43mX_train_cut\u001b[49m\u001b[43m,\u001b[49m\u001b[43m \u001b[49m\n\u001b[1;32m      3\u001b[0m \u001b[43m                  \u001b[49m\u001b[43my_train_cut\u001b[49m\u001b[43m,\u001b[49m\u001b[43m \u001b[49m\n\u001b[1;32m      4\u001b[0m \u001b[43m                  \u001b[49m\u001b[43mbatch_size\u001b[49m\u001b[43m \u001b[49m\u001b[38;5;241;43m=\u001b[39;49m\u001b[43m \u001b[49m\u001b[38;5;241;43m8\u001b[39;49m\u001b[43m,\u001b[49m\u001b[43m \u001b[49m\n\u001b[1;32m      5\u001b[0m \u001b[43m                  \u001b[49m\u001b[43mepochs\u001b[49m\u001b[43m \u001b[49m\u001b[38;5;241;43m=\u001b[39;49m\u001b[43m \u001b[49m\u001b[38;5;241;43m300\u001b[39;49m\u001b[43m,\u001b[49m\u001b[43m \u001b[49m\n\u001b[1;32m      6\u001b[0m \u001b[43m                  \u001b[49m\u001b[43mverbose\u001b[49m\u001b[43m \u001b[49m\u001b[38;5;241;43m=\u001b[39;49m\u001b[43m \u001b[49m\u001b[38;5;241;43m1\u001b[39;49m\u001b[43m,\u001b[49m\u001b[43m \u001b[49m\n\u001b[1;32m      7\u001b[0m \u001b[43m                  \u001b[49m\u001b[43mcallbacks\u001b[49m\u001b[43m \u001b[49m\u001b[38;5;241;43m=\u001b[39;49m\u001b[43m \u001b[49m\u001b[43m[\u001b[49m\u001b[43mes\u001b[49m\u001b[43m]\u001b[49m\u001b[43m,\u001b[49m\u001b[43m \u001b[49m\n\u001b[1;32m      8\u001b[0m \u001b[43m                  \u001b[49m\u001b[43mvalidation_split\u001b[49m\u001b[43m \u001b[49m\u001b[38;5;241;43m=\u001b[39;49m\u001b[43m \u001b[49m\u001b[38;5;241;43m0.2\u001b[39;49m\u001b[43m)\u001b[49m\n",
      "File \u001b[0;32m~/.pyenv/versions/3.8.12/envs/berlin-bike-theft-forecasting/lib/python3.8/site-packages/keras/utils/traceback_utils.py:67\u001b[0m, in \u001b[0;36mfilter_traceback.<locals>.error_handler\u001b[0;34m(*args, **kwargs)\u001b[0m\n\u001b[1;32m     65\u001b[0m \u001b[38;5;28;01mexcept\u001b[39;00m \u001b[38;5;167;01mException\u001b[39;00m \u001b[38;5;28;01mas\u001b[39;00m e:  \u001b[38;5;66;03m# pylint: disable=broad-except\u001b[39;00m\n\u001b[1;32m     66\u001b[0m   filtered_tb \u001b[38;5;241m=\u001b[39m _process_traceback_frames(e\u001b[38;5;241m.\u001b[39m__traceback__)\n\u001b[0;32m---> 67\u001b[0m   \u001b[38;5;28;01mraise\u001b[39;00m e\u001b[38;5;241m.\u001b[39mwith_traceback(filtered_tb) \u001b[38;5;28;01mfrom\u001b[39;00m \u001b[38;5;28mNone\u001b[39m\n\u001b[1;32m     68\u001b[0m \u001b[38;5;28;01mfinally\u001b[39;00m:\n\u001b[1;32m     69\u001b[0m   \u001b[38;5;28;01mdel\u001b[39;00m filtered_tb\n",
      "File \u001b[0;32m~/.pyenv/versions/3.8.12/envs/berlin-bike-theft-forecasting/lib/python3.8/site-packages/tensorflow/python/framework/constant_op.py:102\u001b[0m, in \u001b[0;36mconvert_to_eager_tensor\u001b[0;34m(value, ctx, dtype)\u001b[0m\n\u001b[1;32m    100\u001b[0m     dtype \u001b[38;5;241m=\u001b[39m dtypes\u001b[38;5;241m.\u001b[39mas_dtype(dtype)\u001b[38;5;241m.\u001b[39mas_datatype_enum\n\u001b[1;32m    101\u001b[0m ctx\u001b[38;5;241m.\u001b[39mensure_initialized()\n\u001b[0;32m--> 102\u001b[0m \u001b[38;5;28;01mreturn\u001b[39;00m \u001b[43mops\u001b[49m\u001b[38;5;241;43m.\u001b[39;49m\u001b[43mEagerTensor\u001b[49m\u001b[43m(\u001b[49m\u001b[43mvalue\u001b[49m\u001b[43m,\u001b[49m\u001b[43m \u001b[49m\u001b[43mctx\u001b[49m\u001b[38;5;241;43m.\u001b[39;49m\u001b[43mdevice_name\u001b[49m\u001b[43m,\u001b[49m\u001b[43m \u001b[49m\u001b[43mdtype\u001b[49m\u001b[43m)\u001b[49m\n",
      "\u001b[0;31mValueError\u001b[0m: Failed to convert a NumPy array to a Tensor (Unsupported object type Series)."
     ]
    }
   ],
   "source": [
    "opt_model.compile(optimizer= \"adam\", loss= \"mse\", metrics = \"mean_absolute_percentage_error\")\n",
    "opt_model.fit(X_train_cut, \n",
    "                  y_train_cut, \n",
    "                  batch_size = 8, \n",
    "                  epochs = 300, \n",
    "                  verbose = 1, \n",
    "                  callbacks = [es], \n",
    "                  validation_split = 0.2)"
   ]
  },
  {
   "cell_type": "code",
   "execution_count": null,
   "id": "26b57681",
   "metadata": {},
   "outputs": [],
   "source": [
    "df_ma"
   ]
  },
  {
   "cell_type": "code",
   "execution_count": null,
   "id": "6dcf2a71",
   "metadata": {
    "scrolled": true
   },
   "outputs": [],
   "source": [
    "y_train_cut[0]"
   ]
  },
  {
   "cell_type": "code",
   "execution_count": null,
   "id": "2ec2b6ac",
   "metadata": {},
   "outputs": [],
   "source": [
    "X_train[0][0][0]"
   ]
  },
  {
   "cell_type": "code",
   "execution_count": null,
   "id": "a73789e6",
   "metadata": {},
   "outputs": [],
   "source": [
    "X_train_cut[0][0][0]"
   ]
  },
  {
   "cell_type": "code",
   "execution_count": null,
   "id": "67e1a387",
   "metadata": {},
   "outputs": [],
   "source": [
    "type(X_train_cut[0][0][1])"
   ]
  },
  {
   "cell_type": "code",
   "execution_count": null,
   "id": "90364e75",
   "metadata": {},
   "outputs": [],
   "source": [
    "type(y_train_cut)"
   ]
  },
  {
   "cell_type": "code",
   "execution_count": null,
   "id": "f1dec8eb",
   "metadata": {},
   "outputs": [],
   "source": [
    "y_train_cut.tolist()[0]"
   ]
  },
  {
   "cell_type": "code",
   "execution_count": null,
   "id": "0af3b93d",
   "metadata": {},
   "outputs": [],
   "source": [
    "y_train_cut.astype(np.float64)"
   ]
  },
  {
   "cell_type": "code",
   "execution_count": null,
   "id": "15e95831",
   "metadata": {},
   "outputs": [],
   "source": [
    "y_train"
   ]
  },
  {
   "cell_type": "code",
   "execution_count": null,
   "id": "c62636ce",
   "metadata": {
    "scrolled": false
   },
   "outputs": [],
   "source": [
    "y_train_cut"
   ]
  },
  {
   "cell_type": "code",
   "execution_count": null,
   "id": "e84756d1",
   "metadata": {},
   "outputs": [],
   "source": []
  }
 ],
 "metadata": {
  "kernelspec": {
   "display_name": "Python 3 (ipykernel)",
   "language": "python",
   "name": "python3"
  },
  "language_info": {
   "codemirror_mode": {
    "name": "ipython",
    "version": 3
   },
   "file_extension": ".py",
   "mimetype": "text/x-python",
   "name": "python",
   "nbconvert_exporter": "python",
   "pygments_lexer": "ipython3",
   "version": "3.8.12"
  },
  "toc": {
   "base_numbering": 1,
   "nav_menu": {},
   "number_sections": true,
   "sideBar": true,
   "skip_h1_title": false,
   "title_cell": "Table of Contents",
   "title_sidebar": "Contents",
   "toc_cell": false,
   "toc_position": {
    "height": "calc(100% - 180px)",
    "left": "10px",
    "top": "150px",
    "width": "384px"
   },
   "toc_section_display": true,
   "toc_window_display": true
  }
 },
 "nbformat": 4,
 "nbformat_minor": 5
}
