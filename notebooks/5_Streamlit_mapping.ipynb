{
 "cells": [
  {
   "cell_type": "markdown",
   "id": "897c4946",
   "metadata": {},
   "source": [
    "# Importing libraries"
   ]
  },
  {
   "cell_type": "code",
   "execution_count": null,
   "id": "af10064c",
   "metadata": {},
   "outputs": [],
   "source": [
    "import pandas as pd\n",
    "import numpy as np\n",
    "import geopandas as gpd\n",
    "from pyproj import Proj, transform\n",
    "from shapely.geometry import Point, Polygon\n",
    "import plotly.express as px\n",
    "import pickle"
   ]
  },
  {
   "cell_type": "markdown",
   "id": "bd653ee0",
   "metadata": {},
   "source": [
    "# Read data"
   ]
  },
  {
   "cell_type": "code",
   "execution_count": null,
   "id": "cdfae3c8",
   "metadata": {},
   "outputs": [],
   "source": [
    "def clean_plr(df):\n",
    "#After reading csv file, cleaning PLR_ID into correct str format\n",
    "    df['PLR_ID'] = df['PLR_ID'].apply(int)\n",
    "    df['PLR_ID'] = df['PLR_ID'].apply(lambda x: \"0\" + str(x) if len(str(x))== 7 else x)\n",
    "    return df"
   ]
  },
  {
   "cell_type": "code",
   "execution_count": null,
   "id": "b869e3a2",
   "metadata": {},
   "outputs": [],
   "source": [
    "def read_data(path):\n",
    "    #Read csv and clean PLR_ID\n",
    "    df = pd.read_csv(path)\n",
    "    df = clean_plr(df)\n",
    "        \n",
    "    #Merge it to LOR DataFrame\n",
    "    _df = gdf_plr.merge(df, how='left', on=\"PLR_ID\")\n",
    "    df = _df\n",
    "    df.fillna(0, inplace=True)\n",
    "    return df"
   ]
  },
  {
   "cell_type": "markdown",
   "id": "d73b1635",
   "metadata": {},
   "source": [
    "LOR file"
   ]
  },
  {
   "cell_type": "code",
   "execution_count": null,
   "id": "f1ac3953",
   "metadata": {},
   "outputs": [],
   "source": [
    "def read_lor():\n",
    "    #PLR (smallest 542 sub-districts)\n",
    "    path_to_data_plr = \"../raw_data/LOR_shpfiles/lor_plr.shp\"\n",
    "    gdf_plr = gpd.read_file(path_to_data_plr)\n",
    "    gdf_plr = clean_plr(gdf_plr)\n",
    "    return gdf_plr"
   ]
  },
  {
   "cell_type": "code",
   "execution_count": null,
   "id": "f5a548d4",
   "metadata": {},
   "outputs": [],
   "source": [
    "gdf_plr = read_lor()"
   ]
  },
  {
   "cell_type": "markdown",
   "id": "e0ccb427",
   "metadata": {},
   "source": [
    "CSV file"
   ]
  },
  {
   "cell_type": "code",
   "execution_count": null,
   "id": "2f027c5c",
   "metadata": {},
   "outputs": [],
   "source": [
    "def round_up(df, num):\n",
    "#Round up numerical columns on DataFrame with num digit\n",
    "    numerical = df.select_dtypes(include=float).columns.tolist()\n",
    "    df[numerical] = df[numerical].applymap(lambda x: round(x, num))\n",
    "    return df"
   ]
  },
  {
   "cell_type": "code",
   "execution_count": null,
   "id": "1b28c76d",
   "metadata": {},
   "outputs": [],
   "source": [
    "def round_int(df):\n",
    "#Make numerical columns on DataFrame into integer\n",
    "    numerical = df.select_dtypes(include=float).columns.tolist()\n",
    "    df[numerical] = df[numerical].applymap(lambda x: int(x))\n",
    "    return df"
   ]
  },
  {
   "cell_type": "code",
   "execution_count": null,
   "id": "0609c7a4",
   "metadata": {},
   "outputs": [],
   "source": [
    "def read_all():\n",
    "    df_accident = read_data('../data/accident_counts.csv')\n",
    "    df_accident_year = read_data('../data/accident_counts_animation.csv')\n",
    "    df_accident_hour = read_data('../data/accident_animation_min.csv')\n",
    "    df_theft = read_data('../data/theft_counts.csv')\n",
    "    df_location = read_data('../data/nextbike_location_change_mean.csv')\n",
    "    df_hour_mean = read_data('../data/nextbike_location_animation_mean.csv')\n",
    "    \n",
    "    \n",
    "    #Round up on Location data\n",
    "    df_accident = round_int(df_accident)\n",
    "    df_accident_year = round_int(df_accident_year)\n",
    "    df_accident_hour = round_up(df_accident_hour, 3)\n",
    "    df_accident_hour['hour'] = df_accident_hour['hour'].astype('int16')\n",
    "    df_theft = round_int(df_theft)\n",
    "    df_location = round_up(df_location, 3)\n",
    "    df_hour_mean = round_up(df_hour_mean, 3)\n",
    "    return df_accident, df_accident_year, df_accident_hour, df_theft, df_location, df_hour_mean"
   ]
  },
  {
   "cell_type": "code",
   "execution_count": null,
   "id": "36a023a7",
   "metadata": {},
   "outputs": [],
   "source": [
    "df_accident, df_accident_year, df_accident_hour, df_theft, df_location, df_hour_mean = read_all()"
   ]
  },
  {
   "cell_type": "markdown",
   "id": "3164eb27",
   "metadata": {},
   "source": [
    "UTM to WGS84 conversion in order to make GeoJSON"
   ]
  },
  {
   "cell_type": "code",
   "execution_count": null,
   "id": "966b6dec",
   "metadata": {},
   "outputs": [],
   "source": [
    "def convert_polygon(df):\n",
    "    '''\n",
    "    Take a DataFrame with POLYGON in UTM coordinates, convert them into WGS84 and\n",
    "    save it as GeoJSON file\n",
    "    '''\n",
    "    p = Proj(proj='utm', zone=33, ellps='WGS84', preserve_units=False)   \n",
    "    \n",
    "    for i in range(len(df)):\n",
    "        #Strip UTM coordinate from POLYGON data\n",
    "        poly = str(df.iloc[i, 2]).replace('((', '').replace('))','').replace(',','').split()\n",
    "        poly.remove('POLYGON')\n",
    "        l = [float(st) for st in poly]\n",
    "        utm_len = int(len(l)/2)\n",
    "        l_utm = np.array(l).reshape((utm_len, 2))\n",
    "        \n",
    "        #Convert UTM to WGS84 for a row\n",
    "        l_wgs = []\n",
    "        for j in range(utm_len):\n",
    "            lon, lat = p(l_utm[j, 0], l_utm[j, 1], inverse=True)\n",
    "            l_wgs.append([lon, lat])\n",
    "        df.iloc[i, 2] = Polygon(l_wgs)\n",
    "            \n",
    "    df.to_file('../data/plr.geojson', driver='GeoJSON')"
   ]
  },
  {
   "cell_type": "code",
   "execution_count": null,
   "id": "35a2c395",
   "metadata": {
    "scrolled": true
   },
   "outputs": [],
   "source": [
    "#Run once to get GeoJSON file\n",
    "#convert_polygon(gdf_plr)"
   ]
  },
  {
   "cell_type": "code",
   "execution_count": null,
   "id": "87cb720d",
   "metadata": {},
   "outputs": [],
   "source": [
    "def read_geojson():\n",
    "    #Read GeoJSON\n",
    "    f = open('../data/plr.geojson')\n",
    "    geojson = json.load(f)\n",
    "    return geojson"
   ]
  },
  {
   "cell_type": "code",
   "execution_count": null,
   "id": "f99f5c0d",
   "metadata": {},
   "outputs": [],
   "source": [
    "def get_geojson(area):\n",
    "    #0: Limited area for bike sharing locaiton, 1: Full area for others\n",
    "    geojson = read_geojson()\n",
    "    #Inject id for mapping (somehow we need to do it after loading the geojson)\n",
    "    \n",
    "    if area == 1:\n",
    "        for k in range(len(geojson['features'])):\n",
    "            geojson['features'][k]['PLR_ID'] = gdf_plr.iloc[k, 0]\n",
    "        \n",
    "    elif area == 0:\n",
    "        for k in range(len(geojson['features'])):\n",
    "            n = str(gdf_plr.iloc[k, 0])[:3]\n",
    "            if  n != '032' and n != '033' and n != '034' and n != '035' and n != '042'and \\\n",
    "                n != '051' and n != '052' and n != '053' and n != '054' and n != '062' and \\\n",
    "                n != '063' and n != '064' and n != '075' and n != '076' and n != '082' and \\\n",
    "                n != '083' and n != '084' and n != '092' and n != '093' and \\\n",
    "                n != '094' and n != '095' and n != '115' and n != '101' and n != '102' and \\\n",
    "                n != '103' and n != '111' and n != '112' and n != '113' and n != '114' and \\\n",
    "                n != '104' and n != '121' and n != '122' and n != '124' and n != '125' and n != '126':\n",
    "                geojson['features'][k]['PLR_ID'] = gdf_plr.iloc[k, 0]                \n",
    "                \n",
    "    else:\n",
    "        return print('Failed. Please enter 0 or 1')   \n",
    "    return geojson"
   ]
  },
  {
   "cell_type": "markdown",
   "id": "c2e7b53b",
   "metadata": {},
   "source": [
    "## Exploring Bezirke GeoJSON"
   ]
  },
  {
   "cell_type": "code",
   "execution_count": null,
   "id": "5707d2cb",
   "metadata": {},
   "outputs": [],
   "source": [
    "f = open('../raw_data/bezirksgrenzen.geojson')\n",
    "geojson_berlin = json.load(f)\n",
    "#.replace('0','')\n",
    "\n",
    "#geojson_berlin['features'][1]\n",
    "\n",
    "for k in range(len(geojson_berlin['features'])):\n",
    "    geojson_berlin['features'][k]['Bezirk'] = str(geojson_berlin['features'][k]['properties']['Gemeinde_schluessel'])        \n",
    "\n",
    "    \n",
    "    \n",
    "#['Gemeinde_schluessel']\n",
    "#['Gemeinde_schluessel']"
   ]
  },
  {
   "cell_type": "markdown",
   "id": "f213c195",
   "metadata": {},
   "source": [
    "# Mapping"
   ]
  },
  {
   "cell_type": "markdown",
   "id": "f3e98ac0",
   "metadata": {},
   "source": [
    "## Bike Sharing Location Distribution"
   ]
  },
  {
   "cell_type": "markdown",
   "id": "46d3736f",
   "metadata": {},
   "source": [
    "### Hourly Distribution"
   ]
  },
  {
   "cell_type": "code",
   "execution_count": null,
   "id": "ef618047",
   "metadata": {},
   "outputs": [],
   "source": [
    "labels = {'value': 'Relative % (avg. = 0)', 'avg':'% of bikes', 'theft_count':'count', 'hourly_accident':'Relative % (min. = 0)'}"
   ]
  },
  {
   "cell_type": "code",
   "execution_count": null,
   "id": "588d076c",
   "metadata": {},
   "outputs": [],
   "source": [
    "def map_hourly_location(df):\n",
    "    fig = px.choropleth_mapbox(df, geojson=get_geojson(0), \n",
    "                               featureidkey='PLR_ID', locations='PLR_ID', \n",
    "                               color='value', \n",
    "                               range_color = [-0.5, 0.5],\n",
    "                               animation_frame=\"hour\",\n",
    "                               color_continuous_midpoint = 0,\n",
    "                               hover_name='PLR_NAME',\n",
    "                               color_continuous_scale=\"RdBu_r\",                           \n",
    "                               mapbox_style=\"open-street-map\",\n",
    "                               zoom=10, opacity=0.8,\n",
    "                               center={'lat': 52.52, 'lon': 13.405},\n",
    "                               labels=labels,\n",
    "                              )\n",
    "    fig.layout.updatemenus[0].buttons[0].args[1][\"frame\"][\"duration\"] = 1500\n",
    "    fig.update_layout(margin={\"r\":0,\"t\":0,\"l\":0,\"b\":0})\n",
    "#    fig.update_layout(title='NextBike Location Hourly Distribution')\n",
    "    #Save as pickle\n",
    "    file = open('../pickle/map_hourly_location.pkl', 'wb')\n",
    "    pickle.dump(fig, file)\n",
    "    return fig.show()"
   ]
  },
  {
   "cell_type": "code",
   "execution_count": null,
   "id": "0ff81c8e",
   "metadata": {},
   "outputs": [],
   "source": [
    "map_hourly_location(df_hour_mean)"
   ]
  },
  {
   "cell_type": "code",
   "execution_count": null,
   "id": "1edb4ee6",
   "metadata": {},
   "outputs": [],
   "source": [
    "#Pickle loading test\n",
    "#file = open('../pickle/map_hourly_location.pkl', 'rb')\n",
    "#object_file = pickle.load(file)\n",
    "#file.close()\n",
    "#object_file.show()"
   ]
  },
  {
   "cell_type": "markdown",
   "id": "e250f022",
   "metadata": {},
   "source": [
    "### Average Distribution"
   ]
  },
  {
   "cell_type": "code",
   "execution_count": null,
   "id": "74d74c60",
   "metadata": {},
   "outputs": [],
   "source": [
    "def map_location_average(df):\n",
    "    fig = px.choropleth_mapbox(df, geojson=get_geojson(1), \n",
    "                               featureidkey='PLR_ID', locations='PLR_ID', \n",
    "                               color='avg', \n",
    "                               range_color = [0, df['avg'].max()],\n",
    "                               color_continuous_midpoint = 0,\n",
    "                               hover_name='PLR_NAME',\n",
    "                               color_continuous_scale=\"OrRd\",                           \n",
    "                               mapbox_style=\"open-street-map\",\n",
    "                               zoom=9, opacity=0.6,\n",
    "                               center={'lat': 52.52, 'lon': 13.405},\n",
    "                               labels=labels,\n",
    "                              )\n",
    "    fig.update_layout(margin={\"r\":0,\"t\":0,\"l\":0,\"b\":0})\n",
    "#    fig.update_layout(title='NextBike Average Distribution')\n",
    "    file = open('../pickle/map_avg_location.pkl', 'wb')\n",
    "    pickle.dump(fig, file)\n",
    "    return fig.show()"
   ]
  },
  {
   "cell_type": "code",
   "execution_count": null,
   "id": "07e8a84c",
   "metadata": {},
   "outputs": [],
   "source": [
    "map_location_average(df_location)"
   ]
  },
  {
   "cell_type": "markdown",
   "id": "ee491e8d",
   "metadata": {},
   "source": [
    "## Bike Accident Animation"
   ]
  },
  {
   "cell_type": "markdown",
   "id": "413d74f7",
   "metadata": {},
   "source": [
    "### Hourly Distribution"
   ]
  },
  {
   "cell_type": "code",
   "execution_count": null,
   "id": "b050dcca",
   "metadata": {},
   "outputs": [],
   "source": [
    "def map_hourly_accident(df):\n",
    "    fig = px.choropleth_mapbox(df, geojson=get_geojson(1), \n",
    "                               featureidkey='PLR_ID', locations='PLR_ID', \n",
    "                               color='hourly_accident', \n",
    "                               range_color = [0, 500],\n",
    "                               animation_frame=\"hour\",\n",
    "                               color_continuous_midpoint = 0,\n",
    "                               hover_name='PLR_NAME',\n",
    "                               color_continuous_scale=\"OrRd\",                                                          \n",
    "                               mapbox_style=\"open-street-map\",\n",
    "                               zoom=9, opacity=0.8,\n",
    "                               center={'lat': 52.52, 'lon': 13.405},\n",
    "                               labels=labels,\n",
    "                              )\n",
    "    fig.layout.updatemenus[0].buttons[0].args[1][\"frame\"][\"duration\"] = 1500\n",
    "    fig.update_layout(margin={\"r\":0,\"t\":0,\"l\":0,\"b\":0})\n",
    "#    fig.update_layout(title='Bike Accident Hourly Distribution')\n",
    "    #Save pickle file\n",
    "    file = open('../pickle/map_hourly_accident.pkl', 'wb')\n",
    "    pickle.dump(fig, file)\n",
    "    return fig.show()"
   ]
  },
  {
   "cell_type": "code",
   "execution_count": null,
   "id": "00ae2312",
   "metadata": {},
   "outputs": [],
   "source": [
    "#import matplotlib.pyplot as plt\n",
    "#df_accident_hour[df_accident_hour['PLR_ID']=='01100206'].value\n",
    "#plt.hist(df_accident_hour.value)"
   ]
  },
  {
   "cell_type": "code",
   "execution_count": null,
   "id": "e8c1d29a",
   "metadata": {},
   "outputs": [],
   "source": [
    "map_hourly_accident(df_accident_hour)"
   ]
  },
  {
   "cell_type": "markdown",
   "id": "94e78ed7",
   "metadata": {},
   "source": [
    "### Average Distribution"
   ]
  },
  {
   "cell_type": "code",
   "execution_count": null,
   "id": "aa0af76d",
   "metadata": {},
   "outputs": [],
   "source": [
    "def map_yearly_accident(df):\n",
    "    fig = px.choropleth_mapbox(df, geojson=get_geojson(1), \n",
    "                               featureidkey='PLR_ID', locations='PLR_ID', \n",
    "                               color='count', \n",
    "                               range_color = [0, 100],\n",
    "                               animation_frame=\"year\",\n",
    "                               hover_name='PLR_NAME',\n",
    "                               color_continuous_scale=\"OrRd\",                           \n",
    "                               mapbox_style=\"open-street-map\",\n",
    "                               zoom=9, opacity=0.6,\n",
    "                               center={'lat': 52.52, 'lon': 13.405},\n",
    "                               labels=labels,\n",
    "                              )\n",
    "    fig.layout.updatemenus[0].buttons[0].args[1][\"frame\"][\"duration\"] = 2000\n",
    "    fig.update_layout(margin={\"r\":0,\"t\":0,\"l\":0,\"b\":0})\n",
    "#    fig.update_layout(title='Bike Accident Counts')\n",
    "    #Save pickfile\n",
    "    file = open('../pickle/map_yearly_accident.pkl', 'wb')\n",
    "    pickle.dump(fig, file)\n",
    "    return fig.show()"
   ]
  },
  {
   "cell_type": "code",
   "execution_count": null,
   "id": "bbc0c2c8",
   "metadata": {},
   "outputs": [],
   "source": [
    "map_yearly_accident(df_accident_year)"
   ]
  },
  {
   "cell_type": "markdown",
   "id": "235002ae",
   "metadata": {},
   "source": [
    "## Bike Theft"
   ]
  },
  {
   "cell_type": "markdown",
   "id": "9143581c",
   "metadata": {},
   "source": [
    "### Total Theft"
   ]
  },
  {
   "cell_type": "code",
   "execution_count": null,
   "id": "c60f83c0",
   "metadata": {},
   "outputs": [],
   "source": [
    "def map_theft(df):\n",
    "    fig = px.choropleth_mapbox(df, geojson=get_geojson(1), \n",
    "                               featureidkey='PLR_ID', locations='PLR_ID', \n",
    "                               color='theft_count', \n",
    "                               range_color = [0, 200],\n",
    "                               color_continuous_midpoint = 0,\n",
    "                               hover_name='PLR_NAME',\n",
    "                               color_continuous_scale=\"OrRd\",                           \n",
    "                               mapbox_style=\"open-street-map\",\n",
    "                               zoom=9, opacity=0.6,\n",
    "                               center={'lat': 52.52, 'lon': 13.405},\n",
    "                               labels=labels,\n",
    "                              )\n",
    "    fig.update_layout(margin={\"r\":0,\"t\":0,\"l\":0,\"b\":0})\n",
    "#    fig.update_layout(title='Bike Theft Total Counts')\n",
    "    file = open('../pickle/map_total_theft.pkl', 'wb')\n",
    "    pickle.dump(fig, file)\n",
    "    return fig.show()"
   ]
  },
  {
   "cell_type": "code",
   "execution_count": null,
   "id": "f1dd8d62",
   "metadata": {},
   "outputs": [],
   "source": [
    "map_theft(df_theft)"
   ]
  },
  {
   "cell_type": "code",
   "execution_count": null,
   "id": "5a30912d",
   "metadata": {},
   "outputs": [],
   "source": []
  }
 ],
 "metadata": {
  "kernelspec": {
   "display_name": "Python 3 (ipykernel)",
   "language": "python",
   "name": "python3"
  },
  "language_info": {
   "codemirror_mode": {
    "name": "ipython",
    "version": 3
   },
   "file_extension": ".py",
   "mimetype": "text/x-python",
   "name": "python",
   "nbconvert_exporter": "python",
   "pygments_lexer": "ipython3",
   "version": "3.8.12"
  },
  "toc": {
   "base_numbering": 1,
   "nav_menu": {},
   "number_sections": true,
   "sideBar": true,
   "skip_h1_title": false,
   "title_cell": "Table of Contents",
   "title_sidebar": "Contents",
   "toc_cell": false,
   "toc_position": {},
   "toc_section_display": true,
   "toc_window_display": false
  }
 },
 "nbformat": 4,
 "nbformat_minor": 5
}
