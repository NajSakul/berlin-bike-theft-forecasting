{
 "cells": [
  {
   "cell_type": "code",
   "execution_count": 113,
   "id": "78854e09",
   "metadata": {},
   "outputs": [],
   "source": [
    "import pandas as pd\n",
    "import numpy as np\n",
    "import matplotlib.pyplot as plt\n",
    "import seaborn as sns\n",
    "\n",
    "# metrics\n",
    "from sklearn.metrics import mean_squared_error\n",
    "from sklearn.metrics import mean_absolute_percentage_error\n",
    "\n",
    "# model building\n",
    "from tensorflow.keras import Sequential\n",
    "from tensorflow.keras import layers\n",
    "from tensorflow.keras.layers import Masking\n",
    "from tensorflow.keras.metrics import RootMeanSquaredError\n",
    "from keras.models import Sequential\n",
    "from keras.layers import Dense, SimpleRNN, Flatten\n",
    "from tensorflow.keras.layers import SimpleRNN, LSTM, GRU, Dropout\n",
    "from keras import layers\n",
    "from tensorflow.keras import callbacks\n"
   ]
  },
  {
   "cell_type": "markdown",
   "id": "a99497ae",
   "metadata": {},
   "source": [
    "# Read in cleaned data"
   ]
  },
  {
   "cell_type": "code",
   "execution_count": 114,
   "id": "22560fa6",
   "metadata": {},
   "outputs": [
    {
     "name": "stdout",
     "output_type": "stream",
     "text": [
      "/home/jakob/code/hmichinaka/berlin-bike-theft-forecasting/notebooks\r\n"
     ]
    }
   ],
   "source": [
    "!pwd"
   ]
  },
  {
   "cell_type": "code",
   "execution_count": 115,
   "id": "f75322ac",
   "metadata": {
    "scrolled": true
   },
   "outputs": [],
   "source": [
    "df = pd.read_csv(\"../raw_data/bike_theft_cleaned.csv\")"
   ]
  },
  {
   "cell_type": "markdown",
   "id": "7f1d82f6",
   "metadata": {},
   "source": [
    "- No need for padding/masking here, as the sequences are of equal length "
   ]
  },
  {
   "cell_type": "markdown",
   "id": "f0b2cc08",
   "metadata": {},
   "source": [
    "# Group Dataframe by date and LOR"
   ]
  },
  {
   "cell_type": "code",
   "execution_count": 116,
   "id": "54665a1f",
   "metadata": {},
   "outputs": [],
   "source": [
    "# Group dataframe by date and LOR\n",
    "df_theft_model = df.pivot_table(index = \"date_theft_start\", columns = \"Bezirk\", values = \"type_bike\", aggfunc= \"count\")\n",
    "\n",
    "df_theft_model.fillna(value = 0, inplace=True)"
   ]
  },
  {
   "cell_type": "code",
   "execution_count": 119,
   "id": "6786aef3",
   "metadata": {},
   "outputs": [
    {
     "data": {
      "text/plain": [
       "(424, 13)"
      ]
     },
     "execution_count": 119,
     "metadata": {},
     "output_type": "execute_result"
    }
   ],
   "source": [
    "# create \"total\" column which sums up data for each day\n",
    "df_theft_model[\"total\"] = df_theft_model.sum(axis=1)\n",
    "\n",
    "df_theft_model.shape"
   ]
  },
  {
   "cell_type": "code",
   "execution_count": 120,
   "id": "1deb561e",
   "metadata": {
    "scrolled": false
   },
   "outputs": [
    {
     "data": {
      "text/html": [
       "<div>\n",
       "<style scoped>\n",
       "    .dataframe tbody tr th:only-of-type {\n",
       "        vertical-align: middle;\n",
       "    }\n",
       "\n",
       "    .dataframe tbody tr th {\n",
       "        vertical-align: top;\n",
       "    }\n",
       "\n",
       "    .dataframe thead th {\n",
       "        text-align: right;\n",
       "    }\n",
       "</style>\n",
       "<table border=\"1\" class=\"dataframe\">\n",
       "  <thead>\n",
       "    <tr style=\"text-align: right;\">\n",
       "      <th>Bezirk</th>\n",
       "      <th>1</th>\n",
       "      <th>2</th>\n",
       "      <th>3</th>\n",
       "      <th>4</th>\n",
       "      <th>5</th>\n",
       "      <th>6</th>\n",
       "      <th>7</th>\n",
       "      <th>8</th>\n",
       "      <th>9</th>\n",
       "      <th>10</th>\n",
       "      <th>11</th>\n",
       "      <th>12</th>\n",
       "      <th>total</th>\n",
       "    </tr>\n",
       "    <tr>\n",
       "      <th>date_theft_start</th>\n",
       "      <th></th>\n",
       "      <th></th>\n",
       "      <th></th>\n",
       "      <th></th>\n",
       "      <th></th>\n",
       "      <th></th>\n",
       "      <th></th>\n",
       "      <th></th>\n",
       "      <th></th>\n",
       "      <th></th>\n",
       "      <th></th>\n",
       "      <th></th>\n",
       "      <th></th>\n",
       "    </tr>\n",
       "  </thead>\n",
       "  <tbody>\n",
       "    <tr>\n",
       "      <th>2021-01-01</th>\n",
       "      <td>1.0</td>\n",
       "      <td>4.0</td>\n",
       "      <td>1.0</td>\n",
       "      <td>4.0</td>\n",
       "      <td>1.0</td>\n",
       "      <td>0.0</td>\n",
       "      <td>0.0</td>\n",
       "      <td>1.0</td>\n",
       "      <td>1.0</td>\n",
       "      <td>2.0</td>\n",
       "      <td>1.0</td>\n",
       "      <td>0.0</td>\n",
       "      <td>16.0</td>\n",
       "    </tr>\n",
       "    <tr>\n",
       "      <th>2021-01-02</th>\n",
       "      <td>0.0</td>\n",
       "      <td>0.0</td>\n",
       "      <td>5.0</td>\n",
       "      <td>3.0</td>\n",
       "      <td>0.0</td>\n",
       "      <td>1.0</td>\n",
       "      <td>1.0</td>\n",
       "      <td>2.0</td>\n",
       "      <td>2.0</td>\n",
       "      <td>0.0</td>\n",
       "      <td>1.0</td>\n",
       "      <td>1.0</td>\n",
       "      <td>16.0</td>\n",
       "    </tr>\n",
       "    <tr>\n",
       "      <th>2021-01-03</th>\n",
       "      <td>1.0</td>\n",
       "      <td>1.0</td>\n",
       "      <td>3.0</td>\n",
       "      <td>2.0</td>\n",
       "      <td>0.0</td>\n",
       "      <td>2.0</td>\n",
       "      <td>3.0</td>\n",
       "      <td>0.0</td>\n",
       "      <td>2.0</td>\n",
       "      <td>3.0</td>\n",
       "      <td>0.0</td>\n",
       "      <td>0.0</td>\n",
       "      <td>17.0</td>\n",
       "    </tr>\n",
       "    <tr>\n",
       "      <th>2021-01-04</th>\n",
       "      <td>6.0</td>\n",
       "      <td>7.0</td>\n",
       "      <td>3.0</td>\n",
       "      <td>4.0</td>\n",
       "      <td>0.0</td>\n",
       "      <td>2.0</td>\n",
       "      <td>4.0</td>\n",
       "      <td>3.0</td>\n",
       "      <td>1.0</td>\n",
       "      <td>0.0</td>\n",
       "      <td>1.0</td>\n",
       "      <td>2.0</td>\n",
       "      <td>33.0</td>\n",
       "    </tr>\n",
       "    <tr>\n",
       "      <th>2021-01-05</th>\n",
       "      <td>7.0</td>\n",
       "      <td>2.0</td>\n",
       "      <td>2.0</td>\n",
       "      <td>5.0</td>\n",
       "      <td>2.0</td>\n",
       "      <td>1.0</td>\n",
       "      <td>5.0</td>\n",
       "      <td>0.0</td>\n",
       "      <td>4.0</td>\n",
       "      <td>0.0</td>\n",
       "      <td>0.0</td>\n",
       "      <td>1.0</td>\n",
       "      <td>29.0</td>\n",
       "    </tr>\n",
       "  </tbody>\n",
       "</table>\n",
       "</div>"
      ],
      "text/plain": [
       "Bezirk              1    2    3    4    5    6    7    8    9   10   11   12  \\\n",
       "date_theft_start                                                               \n",
       "2021-01-01        1.0  4.0  1.0  4.0  1.0  0.0  0.0  1.0  1.0  2.0  1.0  0.0   \n",
       "2021-01-02        0.0  0.0  5.0  3.0  0.0  1.0  1.0  2.0  2.0  0.0  1.0  1.0   \n",
       "2021-01-03        1.0  1.0  3.0  2.0  0.0  2.0  3.0  0.0  2.0  3.0  0.0  0.0   \n",
       "2021-01-04        6.0  7.0  3.0  4.0  0.0  2.0  4.0  3.0  1.0  0.0  1.0  2.0   \n",
       "2021-01-05        7.0  2.0  2.0  5.0  2.0  1.0  5.0  0.0  4.0  0.0  0.0  1.0   \n",
       "\n",
       "Bezirk            total  \n",
       "date_theft_start         \n",
       "2021-01-01         16.0  \n",
       "2021-01-02         16.0  \n",
       "2021-01-03         17.0  \n",
       "2021-01-04         33.0  \n",
       "2021-01-05         29.0  "
      ]
     },
     "execution_count": 120,
     "metadata": {},
     "output_type": "execute_result"
    }
   ],
   "source": [
    "df_theft_model.head()"
   ]
  },
  {
   "cell_type": "code",
   "execution_count": 121,
   "id": "281c5064",
   "metadata": {},
   "outputs": [
    {
     "data": {
      "text/plain": [
       "DatetimeIndex([], dtype='datetime64[ns]', freq=None)"
      ]
     },
     "execution_count": 121,
     "metadata": {},
     "output_type": "execute_result"
    }
   ],
   "source": [
    "pd.date_range(start = df[\"date_theft_start\"].min(), end = df[\"date_theft_start\"].max()).difference(df_theft_model.index)"
   ]
  },
  {
   "cell_type": "markdown",
   "id": "ec07ccf2",
   "metadata": {},
   "source": [
    "# Build a baseline model predicting total of stolen bikes"
   ]
  },
  {
   "cell_type": "code",
   "execution_count": 122,
   "id": "52a54fbd",
   "metadata": {
    "scrolled": true
   },
   "outputs": [
    {
     "name": "stderr",
     "output_type": "stream",
     "text": [
      "INFO:matplotlib.category:Using categorical units to plot a list of strings that are all parsable as floats or dates. If these strings should be plotted as numbers, cast to the appropriate data type before plotting.\n",
      "INFO:matplotlib.category:Using categorical units to plot a list of strings that are all parsable as floats or dates. If these strings should be plotted as numbers, cast to the appropriate data type before plotting.\n"
     ]
    },
    {
     "data": {
      "image/png": "[encoded data removed]",
      "text/plain": [
       "<Figure size 1080x432 with 1 Axes>"
      ]
     },
     "metadata": {
      "needs_background": "light"
     },
     "output_type": "display_data"
    }
   ],
   "source": [
    "plt.figure(figsize=(15, 6))\n",
    "plt.plot(df_theft_model[\"total\"]);"
   ]
  },
  {
   "cell_type": "markdown",
   "id": "e4ba77bd",
   "metadata": {},
   "source": [
    "## Create Train and Test Dataset"
   ]
  },
  {
   "cell_type": "code",
   "execution_count": 124,
   "id": "3dc1ba87",
   "metadata": {},
   "outputs": [
    {
     "data": {
      "text/plain": [
       "424"
      ]
     },
     "execution_count": 124,
     "metadata": {},
     "output_type": "execute_result"
    }
   ],
   "source": [
    "len(df_theft_model)"
   ]
  },
  {
   "cell_type": "code",
   "execution_count": 125,
   "id": "d9102db9",
   "metadata": {},
   "outputs": [
    {
     "data": {
      "text/plain": [
       "339"
      ]
     },
     "execution_count": 125,
     "metadata": {},
     "output_type": "execute_result"
    }
   ],
   "source": [
    "len_ = int(len(df_theft_model)*0.8)\n",
    "len_"
   ]
  },
  {
   "cell_type": "code",
   "execution_count": 126,
   "id": "ecccc583",
   "metadata": {},
   "outputs": [],
   "source": [
    "df_train = df_theft_model[\"total\"][:len_]"
   ]
  },
  {
   "cell_type": "code",
   "execution_count": 127,
   "id": "de6cc975",
   "metadata": {},
   "outputs": [],
   "source": [
    "df_test = df_theft_model[\"total\"][len_:]"
   ]
  },
  {
   "cell_type": "code",
   "execution_count": 145,
   "id": "3e46fb0b",
   "metadata": {},
   "outputs": [
    {
     "data": {
      "text/plain": [
       "(85,)"
      ]
     },
     "execution_count": 145,
     "metadata": {},
     "output_type": "execute_result"
    }
   ],
   "source": [
    "df_test.shape"
   ]
  },
  {
   "cell_type": "markdown",
   "id": "642e9001",
   "metadata": {},
   "source": [
    "## Create Training and Test Arrays"
   ]
  },
  {
   "cell_type": "code",
   "execution_count": 128,
   "id": "03280392",
   "metadata": {},
   "outputs": [],
   "source": [
    "def get_X_y(window_size, future_horizon, dataset):\n",
    "\n",
    "  X = []\n",
    "  y = []\n",
    "\n",
    "  for i in range(0, dataset.shape[0] - window_size - future_horizon):\n",
    "    X.append(dataset[i: i + window_size])\n",
    "    y.append(dataset[i + window_size: i + window_size + future_horizon])\n",
    "\n",
    "  return np.array(X), np.array(y)"
   ]
  },
  {
   "cell_type": "code",
   "execution_count": 188,
   "id": "a759be36",
   "metadata": {},
   "outputs": [],
   "source": [
    "window_size = 31\n",
    "future_horizon = 1\n",
    "\n",
    "X_train, y_train = get_X_y(window_size,future_horizon, df_train)\n",
    "X_test, y_test = get_X_y(window_size, future_horizon, df_test)"
   ]
  },
  {
   "cell_type": "code",
   "execution_count": 189,
   "id": "37f6e603",
   "metadata": {
    "scrolled": true
   },
   "outputs": [
    {
     "data": {
      "text/plain": [
       "(307, 31)"
      ]
     },
     "execution_count": 189,
     "metadata": {},
     "output_type": "execute_result"
    }
   ],
   "source": [
    "X_train.shape"
   ]
  },
  {
   "cell_type": "code",
   "execution_count": 190,
   "id": "1475cb67",
   "metadata": {},
   "outputs": [
    {
     "data": {
      "text/plain": [
       "(53, 31)"
      ]
     },
     "execution_count": 190,
     "metadata": {},
     "output_type": "execute_result"
    }
   ],
   "source": [
    "X_test.shape"
   ]
  },
  {
   "cell_type": "code",
   "execution_count": 191,
   "id": "87b9a1eb",
   "metadata": {},
   "outputs": [],
   "source": [
    "X_test = np.expand_dims(X_test, 2)\n",
    "X_train = np.expand_dims(X_train, 2)"
   ]
  },
  {
   "cell_type": "code",
   "execution_count": 192,
   "id": "b98f0ed3",
   "metadata": {},
   "outputs": [
    {
     "data": {
      "text/plain": [
       "(307, 31, 1)"
      ]
     },
     "execution_count": 192,
     "metadata": {},
     "output_type": "execute_result"
    }
   ],
   "source": [
    "X_train.shape"
   ]
  },
  {
   "cell_type": "code",
   "execution_count": 193,
   "id": "9cc37b9e",
   "metadata": {
    "scrolled": true
   },
   "outputs": [
    {
     "data": {
      "text/plain": [
       "(53, 31, 1)"
      ]
     },
     "execution_count": 193,
     "metadata": {},
     "output_type": "execute_result"
    }
   ],
   "source": [
    "X_test.shape"
   ]
  },
  {
   "cell_type": "markdown",
   "id": "6879643e",
   "metadata": {},
   "source": [
    "## Baseline model"
   ]
  },
  {
   "cell_type": "markdown",
   "id": "8eca5ea1",
   "metadata": {},
   "source": [
    "As a baseline model we just predict the mean of the train set. "
   ]
  },
  {
   "cell_type": "code",
   "execution_count": 232,
   "id": "6109745b",
   "metadata": {},
   "outputs": [],
   "source": [
    "y_pred_base = [X_train.mean()] * len(y_test)"
   ]
  },
  {
   "cell_type": "code",
   "execution_count": 233,
   "id": "2b6a87a2",
   "metadata": {},
   "outputs": [
    {
     "data": {
      "text/plain": [
       "53"
      ]
     },
     "execution_count": 233,
     "metadata": {},
     "output_type": "execute_result"
    }
   ],
   "source": [
    "len(y_pred_base)"
   ]
  },
  {
   "cell_type": "code",
   "execution_count": 234,
   "id": "18123fa3",
   "metadata": {},
   "outputs": [
    {
     "data": {
      "text/plain": [
       "(53, 1)"
      ]
     },
     "execution_count": 234,
     "metadata": {},
     "output_type": "execute_result"
    }
   ],
   "source": [
    "y_test.shape"
   ]
  },
  {
   "cell_type": "code",
   "execution_count": 235,
   "id": "2f204c34",
   "metadata": {},
   "outputs": [
    {
     "data": {
      "text/plain": [
       "55.680046233056636"
      ]
     },
     "execution_count": 235,
     "metadata": {},
     "output_type": "execute_result"
    }
   ],
   "source": [
    "y_pred_base[0]"
   ]
  },
  {
   "cell_type": "code",
   "execution_count": 236,
   "id": "79d0ce0b",
   "metadata": {
    "collapsed": true
   },
   "outputs": [
    {
     "ename": "ValueError",
     "evalue": "Found input variables with inconsistent numbers of samples: [85, 53]",
     "output_type": "error",
     "traceback": [
      "\u001b[0;31m---------------------------------------------------------------------------\u001b[0m",
      "\u001b[0;31mValueError\u001b[0m                                Traceback (most recent call last)",
      "Input \u001b[0;32mIn [236]\u001b[0m, in \u001b[0;36m<cell line: 1>\u001b[0;34m()\u001b[0m\n\u001b[0;32m----> 1\u001b[0m \u001b[43mmean_squared_error\u001b[49m\u001b[43m(\u001b[49m\u001b[43mdf_test\u001b[49m\u001b[43m,\u001b[49m\u001b[43m \u001b[49m\u001b[43my_pred_base\u001b[49m\u001b[43m,\u001b[49m\u001b[43m \u001b[49m\u001b[43msquared\u001b[49m\u001b[43m \u001b[49m\u001b[38;5;241;43m=\u001b[39;49m\u001b[43m \u001b[49m\u001b[38;5;28;43;01mFalse\u001b[39;49;00m\u001b[43m)\u001b[49m\n",
      "File \u001b[0;32m~/.pyenv/versions/3.8.12/envs/berlin-bike-theft-forecasting/lib/python3.8/site-packages/sklearn/metrics/_regression.py:438\u001b[0m, in \u001b[0;36mmean_squared_error\u001b[0;34m(y_true, y_pred, sample_weight, multioutput, squared)\u001b[0m\n\u001b[1;32m    378\u001b[0m \u001b[38;5;28;01mdef\u001b[39;00m \u001b[38;5;21mmean_squared_error\u001b[39m(\n\u001b[1;32m    379\u001b[0m     y_true, y_pred, \u001b[38;5;241m*\u001b[39m, sample_weight\u001b[38;5;241m=\u001b[39m\u001b[38;5;28;01mNone\u001b[39;00m, multioutput\u001b[38;5;241m=\u001b[39m\u001b[38;5;124m\"\u001b[39m\u001b[38;5;124muniform_average\u001b[39m\u001b[38;5;124m\"\u001b[39m, squared\u001b[38;5;241m=\u001b[39m\u001b[38;5;28;01mTrue\u001b[39;00m\n\u001b[1;32m    380\u001b[0m ):\n\u001b[1;32m    381\u001b[0m     \u001b[38;5;124;03m\"\"\"Mean squared error regression loss.\u001b[39;00m\n\u001b[1;32m    382\u001b[0m \n\u001b[1;32m    383\u001b[0m \u001b[38;5;124;03m    Read more in the :ref:`User Guide <mean_squared_error>`.\u001b[39;00m\n\u001b[0;32m   (...)\u001b[0m\n\u001b[1;32m    436\u001b[0m \u001b[38;5;124;03m    0.825...\u001b[39;00m\n\u001b[1;32m    437\u001b[0m \u001b[38;5;124;03m    \"\"\"\u001b[39;00m\n\u001b[0;32m--> 438\u001b[0m     y_type, y_true, y_pred, multioutput \u001b[38;5;241m=\u001b[39m \u001b[43m_check_reg_targets\u001b[49m\u001b[43m(\u001b[49m\n\u001b[1;32m    439\u001b[0m \u001b[43m        \u001b[49m\u001b[43my_true\u001b[49m\u001b[43m,\u001b[49m\u001b[43m \u001b[49m\u001b[43my_pred\u001b[49m\u001b[43m,\u001b[49m\u001b[43m \u001b[49m\u001b[43mmultioutput\u001b[49m\n\u001b[1;32m    440\u001b[0m \u001b[43m    \u001b[49m\u001b[43m)\u001b[49m\n\u001b[1;32m    441\u001b[0m     check_consistent_length(y_true, y_pred, sample_weight)\n\u001b[1;32m    442\u001b[0m     output_errors \u001b[38;5;241m=\u001b[39m np\u001b[38;5;241m.\u001b[39maverage((y_true \u001b[38;5;241m-\u001b[39m y_pred) \u001b[38;5;241m*\u001b[39m\u001b[38;5;241m*\u001b[39m \u001b[38;5;241m2\u001b[39m, axis\u001b[38;5;241m=\u001b[39m\u001b[38;5;241m0\u001b[39m, weights\u001b[38;5;241m=\u001b[39msample_weight)\n",
      "File \u001b[0;32m~/.pyenv/versions/3.8.12/envs/berlin-bike-theft-forecasting/lib/python3.8/site-packages/sklearn/metrics/_regression.py:94\u001b[0m, in \u001b[0;36m_check_reg_targets\u001b[0;34m(y_true, y_pred, multioutput, dtype)\u001b[0m\n\u001b[1;32m     60\u001b[0m \u001b[38;5;28;01mdef\u001b[39;00m \u001b[38;5;21m_check_reg_targets\u001b[39m(y_true, y_pred, multioutput, dtype\u001b[38;5;241m=\u001b[39m\u001b[38;5;124m\"\u001b[39m\u001b[38;5;124mnumeric\u001b[39m\u001b[38;5;124m\"\u001b[39m):\n\u001b[1;32m     61\u001b[0m     \u001b[38;5;124;03m\"\"\"Check that y_true and y_pred belong to the same regression task.\u001b[39;00m\n\u001b[1;32m     62\u001b[0m \n\u001b[1;32m     63\u001b[0m \u001b[38;5;124;03m    Parameters\u001b[39;00m\n\u001b[0;32m   (...)\u001b[0m\n\u001b[1;32m     92\u001b[0m \u001b[38;5;124;03m        the dtype argument passed to check_array.\u001b[39;00m\n\u001b[1;32m     93\u001b[0m \u001b[38;5;124;03m    \"\"\"\u001b[39;00m\n\u001b[0;32m---> 94\u001b[0m     \u001b[43mcheck_consistent_length\u001b[49m\u001b[43m(\u001b[49m\u001b[43my_true\u001b[49m\u001b[43m,\u001b[49m\u001b[43m \u001b[49m\u001b[43my_pred\u001b[49m\u001b[43m)\u001b[49m\n\u001b[1;32m     95\u001b[0m     y_true \u001b[38;5;241m=\u001b[39m check_array(y_true, ensure_2d\u001b[38;5;241m=\u001b[39m\u001b[38;5;28;01mFalse\u001b[39;00m, dtype\u001b[38;5;241m=\u001b[39mdtype)\n\u001b[1;32m     96\u001b[0m     y_pred \u001b[38;5;241m=\u001b[39m check_array(y_pred, ensure_2d\u001b[38;5;241m=\u001b[39m\u001b[38;5;28;01mFalse\u001b[39;00m, dtype\u001b[38;5;241m=\u001b[39mdtype)\n",
      "File \u001b[0;32m~/.pyenv/versions/3.8.12/envs/berlin-bike-theft-forecasting/lib/python3.8/site-packages/sklearn/utils/validation.py:332\u001b[0m, in \u001b[0;36mcheck_consistent_length\u001b[0;34m(*arrays)\u001b[0m\n\u001b[1;32m    330\u001b[0m uniques \u001b[38;5;241m=\u001b[39m np\u001b[38;5;241m.\u001b[39munique(lengths)\n\u001b[1;32m    331\u001b[0m \u001b[38;5;28;01mif\u001b[39;00m \u001b[38;5;28mlen\u001b[39m(uniques) \u001b[38;5;241m>\u001b[39m \u001b[38;5;241m1\u001b[39m:\n\u001b[0;32m--> 332\u001b[0m     \u001b[38;5;28;01mraise\u001b[39;00m \u001b[38;5;167;01mValueError\u001b[39;00m(\n\u001b[1;32m    333\u001b[0m         \u001b[38;5;124m\"\u001b[39m\u001b[38;5;124mFound input variables with inconsistent numbers of samples: \u001b[39m\u001b[38;5;132;01m%r\u001b[39;00m\u001b[38;5;124m\"\u001b[39m\n\u001b[1;32m    334\u001b[0m         \u001b[38;5;241m%\u001b[39m [\u001b[38;5;28mint\u001b[39m(l) \u001b[38;5;28;01mfor\u001b[39;00m l \u001b[38;5;129;01min\u001b[39;00m lengths]\n\u001b[1;32m    335\u001b[0m     )\n",
      "\u001b[0;31mValueError\u001b[0m: Found input variables with inconsistent numbers of samples: [85, 53]"
     ]
    }
   ],
   "source": [
    "mean_squared_error(df_test, y_pred_base, squared = False)"
   ]
  },
  {
   "cell_type": "code",
   "execution_count": 237,
   "id": "ae78ce34",
   "metadata": {},
   "outputs": [
    {
     "data": {
      "text/plain": [
       "0.4421247216309894"
      ]
     },
     "execution_count": 237,
     "metadata": {},
     "output_type": "execute_result"
    }
   ],
   "source": [
    "mean_absolute_percentage_error(y_test, y_pred_base)"
   ]
  },
  {
   "cell_type": "markdown",
   "id": "c970e6d2",
   "metadata": {},
   "source": [
    "## KFold Cross-Validation"
   ]
  },
  {
   "cell_type": "code",
   "execution_count": 225,
   "id": "c7d3171a",
   "metadata": {},
   "outputs": [],
   "source": [
    "from sklearn.model_selection import KFold\n",
    "\n",
    "def model_cross_validation(model):\n",
    "    results = []\n",
    "    kf = KFold(n_splits = 5)\n",
    "    kf.get_n_splits(X_train)\n",
    "\n",
    "    for train_index, test_index in kf.split(X_train):\n",
    "\n",
    "        # split the data into train and test set\n",
    "        X_train_cv = X_train[train_index]\n",
    "        X_test_cv = X_train[test_index]\n",
    "        y_train_cv = y_train[train_index]\n",
    "        y_test_cv = y_train[test_index]\n",
    "\n",
    "        model = model \n",
    "        \n",
    "        # Fit the model\n",
    "        model.fit(X_train_cv, y_train_cv, batch_size = 16, epochs = 300, verbose = 0)\n",
    "        \n",
    "        # Evaluate the model on the test data\n",
    "        results.append(model.evaluate(X_test_cv, y_test_cv))\n",
    "        \n",
    "    return results"
   ]
  },
  {
   "cell_type": "markdown",
   "id": "422696ec",
   "metadata": {},
   "source": [
    "## Simple RNN model"
   ]
  },
  {
   "cell_type": "code",
   "execution_count": 167,
   "id": "ab5b202d",
   "metadata": {},
   "outputs": [],
   "source": [
    "es = callbacks.EarlyStopping(patience=5, restore_best_weights=True)"
   ]
  },
  {
   "cell_type": "code",
   "execution_count": 226,
   "id": "9d1581f7",
   "metadata": {},
   "outputs": [],
   "source": [
    "rnn_model = Sequential()\n",
    "rnn_model.add(SimpleRNN(units = 10, activation = \"tanh\", input_shape = X_train.shape[1:]))\n",
    "rnn_model.add(Dense(1, activation = \"linear\"))\n",
    "\n",
    "rnn_model.compile(loss = \"mse\",\n",
    "                 optimizer = \"adam\",\n",
    "                 metrics = \"mean_absolute_percentage_error\")"
   ]
  },
  {
   "cell_type": "code",
   "execution_count": 227,
   "id": "654fecc0",
   "metadata": {
    "scrolled": true
   },
   "outputs": [
    {
     "name": "stdout",
     "output_type": "stream",
     "text": [
      "2/2 [==============================] - 0s 6ms/step - loss: 132.4054 - mean_absolute_percentage_error: 39.1192\n",
      "2/2 [==============================] - 0s 6ms/step - loss: 91.6743 - mean_absolute_percentage_error: 15.1793\n",
      "2/2 [==============================] - 0s 5ms/step - loss: 165.0480 - mean_absolute_percentage_error: 18.1868\n",
      "2/2 [==============================] - 0s 5ms/step - loss: 181.7836 - mean_absolute_percentage_error: 15.3375\n",
      "2/2 [==============================] - 0s 4ms/step - loss: 138.6030 - mean_absolute_percentage_error: 16.2228\n"
     ]
    }
   ],
   "source": [
    "rnn_model_cv_results = model_cross_validation(rnn_model)"
   ]
  },
  {
   "cell_type": "code",
   "execution_count": 246,
   "id": "c9d37bd5",
   "metadata": {},
   "outputs": [
    {
     "data": {
      "text/plain": [
       "array([141.9028595 ,  20.80914249])"
      ]
     },
     "execution_count": 246,
     "metadata": {},
     "output_type": "execute_result"
    }
   ],
   "source": [
    "np.mean(rnn_model_cv_results, axis=0)"
   ]
  },
  {
   "cell_type": "markdown",
   "id": "8d575256",
   "metadata": {},
   "source": [
    "## Simple LSTM Model"
   ]
  },
  {
   "cell_type": "code",
   "execution_count": null,
   "id": "52ae2862",
   "metadata": {
    "scrolled": true
   },
   "outputs": [],
   "source": [
    "lstm_model = Sequential()\n",
    "lstm_model.add(LSTM(units=10, activation='tanh', input_shape = X_train.shape[1:]))\n",
    "lstm_model.add(Dense(1, activation=\"linear\"))\n",
    "\n",
    "lstm_model.compile(loss = \"mse\", \n",
    "                 optimizer = \"adam\", \n",
    "                 metrics = \"mean_absolute_percentage_error\")"
   ]
  },
  {
   "cell_type": "code",
   "execution_count": null,
   "id": "3a92403b",
   "metadata": {},
   "outputs": [
    {
     "name": "stdout",
     "output_type": "stream",
     "text": [
      "2/2 [==============================] - 0s 6ms/step - loss: 125.4260 - root_mean_squared_error: 11.1994\n",
      "2/2 [==============================] - 0s 6ms/step - loss: 79.1103 - root_mean_squared_error: 8.8944\n",
      "2/2 [==============================] - 0s 6ms/step - loss: 169.5703 - root_mean_squared_error: 13.0219\n"
     ]
    }
   ],
   "source": [
    "lstm_model_cv_results = model_cross_validation(lstm_model)"
   ]
  },
  {
   "cell_type": "code",
   "execution_count": null,
   "id": "04a1d7aa",
   "metadata": {},
   "outputs": [],
   "source": [
    "lstm_model_cv_results"
   ]
  },
  {
   "cell_type": "code",
   "execution_count": null,
   "id": "7225bf02",
   "metadata": {},
   "outputs": [],
   "source": [
    "np.mean(lstm_model_cv_results, axis=0)"
   ]
  },
  {
   "cell_type": "markdown",
   "id": "d5f61bef",
   "metadata": {},
   "source": [
    "## GRU Model"
   ]
  },
  {
   "cell_type": "code",
   "execution_count": null,
   "id": "1404aa6d",
   "metadata": {},
   "outputs": [],
   "source": [
    "gru_model = Sequential()\n",
    "gru_model.add(GRU(units=10, activation='tanh', input_shape = X_train.shape[1:]))\n",
    "gru_model.add(Dense(1, activation=\"linear\"))\n",
    "gru_model.compile(loss = \"mse\", \n",
    "                 optimizer = \"adam\", \n",
    "                 metrics = RootMeanSquaredError())"
   ]
  },
  {
   "cell_type": "code",
   "execution_count": null,
   "id": "f7e04d65",
   "metadata": {},
   "outputs": [],
   "source": [
    "gru_model_cv_results = model_cross_validation(gru_model)"
   ]
  },
  {
   "cell_type": "code",
   "execution_count": null,
   "id": "3e8cff59",
   "metadata": {},
   "outputs": [],
   "source": [
    "gru_model_cv_results "
   ]
  },
  {
   "cell_type": "code",
   "execution_count": null,
   "id": "8b897076",
   "metadata": {},
   "outputs": [],
   "source": []
  },
  {
   "cell_type": "code",
   "execution_count": null,
   "id": "dfb60a1e",
   "metadata": {},
   "outputs": [],
   "source": []
  },
  {
   "cell_type": "markdown",
   "id": "80a71321",
   "metadata": {},
   "source": [
    "# Fit selected model"
   ]
  },
  {
   "cell_type": "code",
   "execution_count": 215,
   "id": "3e93d055",
   "metadata": {},
   "outputs": [],
   "source": [
    "rnn_model_cv_results"
   ]
  },
  {
   "cell_type": "code",
   "execution_count": 218,
   "id": "f4ffcbc5",
   "metadata": {},
   "outputs": [],
   "source": [
    "history = rnn_model.fit(X_train, \n",
    "             y_train,\n",
    "             batch_size = 16, \n",
    "             epochs=400, \n",
    "             validation_split=0.2,\n",
    "             callbacks=[es],\n",
    "             verbose = 1)"
   ]
  },
  {
   "cell_type": "code",
   "execution_count": 219,
   "id": "3d83df5c",
   "metadata": {},
   "outputs": [
    {
     "data": {
      "text/plain": [
       "{'loss': [3578.006103515625,\n",
       "  3557.828369140625,\n",
       "  3537.951904296875,\n",
       "  3518.141357421875,\n",
       "  3498.4140625,\n",
       "  3478.814697265625,\n",
       "  3459.22216796875,\n",
       "  3439.643798828125,\n",
       "  3420.443603515625,\n",
       "  3401.154052734375,\n",
       "  3381.88232421875,\n",
       "  3362.756103515625,\n",
       "  3343.724853515625,\n",
       "  3324.6396484375,\n",
       "  3305.892578125,\n",
       "  3287.08203125,\n",
       "  3268.3740234375,\n",
       "  3249.662353515625,\n",
       "  3231.103271484375,\n",
       "  3212.42431640625,\n",
       "  3194.109130859375,\n",
       "  3175.646728515625,\n",
       "  3157.14892578125,\n",
       "  3136.507568359375,\n",
       "  3090.16455078125,\n",
       "  3053.010986328125,\n",
       "  3035.75341796875,\n",
       "  3018.4453125,\n",
       "  3000.884033203125,\n",
       "  2983.485595703125,\n",
       "  2966.342529296875,\n",
       "  2949.11865234375,\n",
       "  2929.32373046875,\n",
       "  2894.180908203125,\n",
       "  2875.72802734375,\n",
       "  2859.19091796875,\n",
       "  2842.418701171875,\n",
       "  2825.9765625,\n",
       "  2809.37109375,\n",
       "  2792.96435546875,\n",
       "  2776.4833984375,\n",
       "  2760.283203125,\n",
       "  2743.941650390625,\n",
       "  2727.850830078125,\n",
       "  2711.925537109375,\n",
       "  2695.88330078125,\n",
       "  2679.859375,\n",
       "  2664.09130859375,\n",
       "  2648.09912109375,\n",
       "  2632.415771484375,\n",
       "  2616.822998046875,\n",
       "  2601.477783203125,\n",
       "  2585.89990234375,\n",
       "  2570.488037109375,\n",
       "  2555.036376953125,\n",
       "  2539.83154296875,\n",
       "  2524.56640625,\n",
       "  2509.5,\n",
       "  2494.540283203125,\n",
       "  2479.75341796875,\n",
       "  2464.5439453125,\n",
       "  2449.794189453125,\n",
       "  2435.1943359375,\n",
       "  2420.16357421875,\n",
       "  2405.658935546875,\n",
       "  2391.129150390625,\n",
       "  2376.587646484375,\n",
       "  2362.317138671875,\n",
       "  2347.910400390625,\n",
       "  2333.762939453125,\n",
       "  2319.50927734375,\n",
       "  2305.47705078125,\n",
       "  2291.507568359375,\n",
       "  2277.51025390625,\n",
       "  2263.779541015625,\n",
       "  2249.791015625,\n",
       "  2236.2060546875,\n",
       "  2222.208740234375,\n",
       "  2208.765869140625,\n",
       "  2195.10986328125,\n",
       "  2181.5244140625,\n",
       "  2168.1748046875,\n",
       "  2154.7705078125,\n",
       "  2141.581787109375,\n",
       "  2128.1796875,\n",
       "  2115.094970703125,\n",
       "  2101.79150390625,\n",
       "  2088.708251953125,\n",
       "  2075.81396484375,\n",
       "  2062.708251953125,\n",
       "  2049.845458984375,\n",
       "  2037.005859375,\n",
       "  2024.352783203125,\n",
       "  2011.7342529296875,\n",
       "  1998.7652587890625,\n",
       "  1986.353271484375,\n",
       "  1973.772216796875,\n",
       "  1961.2686767578125,\n",
       "  1949.1112060546875,\n",
       "  1936.6904296875,\n",
       "  1924.6514892578125,\n",
       "  1912.488525390625,\n",
       "  1900.28662109375,\n",
       "  1888.3262939453125,\n",
       "  1876.4635009765625,\n",
       "  1864.5167236328125,\n",
       "  1852.5794677734375,\n",
       "  1840.7686767578125,\n",
       "  1829.03955078125,\n",
       "  1817.3834228515625,\n",
       "  1805.8453369140625,\n",
       "  1794.1617431640625,\n",
       "  1782.5855712890625,\n",
       "  1771.137939453125,\n",
       "  1759.9443359375,\n",
       "  1748.542236328125,\n",
       "  1737.3062744140625,\n",
       "  1725.9881591796875,\n",
       "  1714.8192138671875,\n",
       "  1703.74755859375,\n",
       "  1692.8837890625,\n",
       "  1681.8505859375,\n",
       "  1670.6988525390625,\n",
       "  1659.9461669921875,\n",
       "  1649.1795654296875,\n",
       "  1638.3870849609375,\n",
       "  1627.7486572265625,\n",
       "  1616.990478515625,\n",
       "  1606.55126953125,\n",
       "  1596.0380859375,\n",
       "  1585.6168212890625,\n",
       "  1575.17431640625,\n",
       "  1564.707763671875,\n",
       "  1554.6474609375,\n",
       "  1544.4715576171875,\n",
       "  1534.2615966796875,\n",
       "  1524.3216552734375,\n",
       "  1514.188720703125,\n",
       "  1504.2236328125,\n",
       "  1494.367431640625,\n",
       "  1484.5821533203125,\n",
       "  1474.5260009765625,\n",
       "  1464.803466796875,\n",
       "  1455.185546875,\n",
       "  1445.5374755859375,\n",
       "  1435.8740234375,\n",
       "  1426.2989501953125,\n",
       "  1416.7681884765625,\n",
       "  1407.20166015625,\n",
       "  1397.9490966796875,\n",
       "  1388.5986328125,\n",
       "  1379.406494140625,\n",
       "  1370.06494140625,\n",
       "  1360.865966796875,\n",
       "  1351.685546875,\n",
       "  1342.5987548828125,\n",
       "  1333.5594482421875,\n",
       "  1324.5101318359375,\n",
       "  1315.3441162109375,\n",
       "  1306.5699462890625,\n",
       "  1297.6019287109375,\n",
       "  1288.883056640625,\n",
       "  1280.268798828125,\n",
       "  1271.67431640625,\n",
       "  1263.0755615234375,\n",
       "  1254.419189453125,\n",
       "  1245.7998046875,\n",
       "  1237.3499755859375,\n",
       "  1229.010986328125,\n",
       "  1220.6197509765625,\n",
       "  1212.3529052734375,\n",
       "  1203.9317626953125,\n",
       "  1195.675537109375,\n",
       "  1187.3927001953125,\n",
       "  1179.4224853515625,\n",
       "  1171.177001953125,\n",
       "  1163.0540771484375,\n",
       "  1154.9327392578125,\n",
       "  1146.9288330078125,\n",
       "  1139.0535888671875,\n",
       "  1131.207763671875,\n",
       "  1123.2353515625,\n",
       "  1115.5023193359375,\n",
       "  1107.459228515625,\n",
       "  1099.9908447265625,\n",
       "  1092.230224609375,\n",
       "  1084.5836181640625,\n",
       "  1077.0125732421875,\n",
       "  1069.616943359375,\n",
       "  1062.0689697265625,\n",
       "  1054.6593017578125,\n",
       "  1047.3023681640625,\n",
       "  1039.9776611328125,\n",
       "  1032.5601806640625,\n",
       "  1025.3497314453125,\n",
       "  1018.00830078125,\n",
       "  1010.821044921875,\n",
       "  1003.6845703125,\n",
       "  996.554931640625,\n",
       "  989.4916381835938,\n",
       "  982.4379272460938,\n",
       "  975.4916381835938,\n",
       "  968.540283203125,\n",
       "  961.6460571289062,\n",
       "  954.8158569335938,\n",
       "  948.0730590820312,\n",
       "  941.4100341796875,\n",
       "  934.6746215820312,\n",
       "  927.820068359375,\n",
       "  921.2489013671875,\n",
       "  914.6324462890625,\n",
       "  908.2116088867188,\n",
       "  901.6502685546875,\n",
       "  895.168212890625,\n",
       "  888.7672729492188,\n",
       "  882.4306030273438,\n",
       "  876.1922607421875,\n",
       "  870.0219116210938,\n",
       "  863.7779541015625,\n",
       "  857.4207763671875,\n",
       "  851.2463989257812,\n",
       "  845.0074462890625,\n",
       "  839.1002197265625,\n",
       "  832.9002685546875,\n",
       "  826.802490234375,\n",
       "  820.7871704101562,\n",
       "  814.513427734375,\n",
       "  808.4714965820312,\n",
       "  802.472412109375,\n",
       "  796.4280395507812,\n",
       "  790.3709106445312,\n",
       "  784.5078735351562,\n",
       "  778.8560180664062,\n",
       "  772.923828125,\n",
       "  767.2852172851562,\n",
       "  761.6808471679688,\n",
       "  756.0121459960938,\n",
       "  750.468505859375,\n",
       "  744.9776611328125,\n",
       "  739.4534912109375,\n",
       "  734.1903076171875,\n",
       "  728.707275390625,\n",
       "  723.4091186523438,\n",
       "  718.1150512695312,\n",
       "  712.9779052734375,\n",
       "  707.7417602539062,\n",
       "  702.5742797851562,\n",
       "  697.5499877929688,\n",
       "  692.42529296875,\n",
       "  687.3795776367188,\n",
       "  682.4044189453125,\n",
       "  677.4085083007812,\n",
       "  672.4564819335938,\n",
       "  667.5851440429688,\n",
       "  662.7256469726562,\n",
       "  657.832763671875,\n",
       "  653.0521850585938,\n",
       "  648.2203979492188,\n",
       "  643.535400390625,\n",
       "  638.9889526367188,\n",
       "  634.2342529296875,\n",
       "  629.646240234375,\n",
       "  625.029296875,\n",
       "  620.5902709960938,\n",
       "  616.0036010742188,\n",
       "  611.6693725585938,\n",
       "  606.8282470703125,\n",
       "  602.4370727539062,\n",
       "  597.7949829101562,\n",
       "  593.4059448242188,\n",
       "  589.074951171875,\n",
       "  584.7490234375,\n",
       "  580.4149169921875,\n",
       "  576.127685546875,\n",
       "  571.970947265625,\n",
       "  567.629150390625,\n",
       "  563.532958984375,\n",
       "  559.2760620117188,\n",
       "  555.0377807617188,\n",
       "  550.9173583984375,\n",
       "  546.9620971679688,\n",
       "  543.1996459960938,\n",
       "  539.0780029296875,\n",
       "  534.8223266601562,\n",
       "  530.8942260742188,\n",
       "  526.88134765625,\n",
       "  522.9742431640625,\n",
       "  519.3143310546875,\n",
       "  515.3135375976562,\n",
       "  511.6148376464844,\n",
       "  508.3793029785156,\n",
       "  504.2367248535156,\n",
       "  500.36627197265625,\n",
       "  496.5429992675781,\n",
       "  492.9036560058594,\n",
       "  489.31103515625,\n",
       "  485.6794738769531,\n",
       "  482.30157470703125,\n",
       "  478.8128356933594,\n",
       "  475.2758483886719],\n",
       " 'mean_absolute_percentage_error': [104.43741607666016,\n",
       "  104.05545043945312,\n",
       "  103.68131256103516,\n",
       "  103.30866241455078,\n",
       "  102.93885803222656,\n",
       "  102.5677719116211,\n",
       "  102.19688415527344,\n",
       "  101.83355712890625,\n",
       "  101.46283721923828,\n",
       "  101.0925064086914,\n",
       "  100.72763061523438,\n",
       "  100.3588638305664,\n",
       "  99.99418640136719,\n",
       "  99.62935638427734,\n",
       "  99.25975036621094,\n",
       "  98.8906478881836,\n",
       "  98.5274429321289,\n",
       "  98.16470336914062,\n",
       "  97.7867431640625,\n",
       "  97.42366027832031,\n",
       "  97.04518127441406,\n",
       "  96.66700744628906,\n",
       "  96.26567077636719,\n",
       "  95.74446868896484,\n",
       "  94.85240173339844,\n",
       "  94.23822021484375,\n",
       "  93.8893051147461,\n",
       "  93.52266693115234,\n",
       "  93.16973876953125,\n",
       "  92.81449890136719,\n",
       "  92.45852661132812,\n",
       "  92.0899429321289,\n",
       "  91.6253890991211,\n",
       "  90.95751953125,\n",
       "  90.59354400634766,\n",
       "  90.2403793334961,\n",
       "  89.88864135742188,\n",
       "  89.5306167602539,\n",
       "  89.17739868164062,\n",
       "  88.83112335205078,\n",
       "  88.4869384765625,\n",
       "  88.12467193603516,\n",
       "  87.77674102783203,\n",
       "  87.4323959350586,\n",
       "  87.07613372802734,\n",
       "  86.7305679321289,\n",
       "  86.39720916748047,\n",
       "  86.041259765625,\n",
       "  85.69831848144531,\n",
       "  85.35008239746094,\n",
       "  85.00672149658203,\n",
       "  84.65706634521484,\n",
       "  84.32067108154297,\n",
       "  83.9678726196289,\n",
       "  83.6240005493164,\n",
       "  83.27703857421875,\n",
       "  82.94711303710938,\n",
       "  82.59992218017578,\n",
       "  82.2581787109375,\n",
       "  81.90916442871094,\n",
       "  81.57473754882812,\n",
       "  81.23988342285156,\n",
       "  80.88695526123047,\n",
       "  80.57534790039062,\n",
       "  80.24566650390625,\n",
       "  79.91693115234375,\n",
       "  79.59732818603516,\n",
       "  79.27216339111328,\n",
       "  78.95238494873047,\n",
       "  78.63056945800781,\n",
       "  78.31237030029297,\n",
       "  77.9811019897461,\n",
       "  77.66461944580078,\n",
       "  77.34982299804688,\n",
       "  77.0298080444336,\n",
       "  76.70925903320312,\n",
       "  76.3862533569336,\n",
       "  76.08385467529297,\n",
       "  75.75801086425781,\n",
       "  75.43878936767578,\n",
       "  75.11531066894531,\n",
       "  74.80998992919922,\n",
       "  74.4940185546875,\n",
       "  74.19149017333984,\n",
       "  73.88435363769531,\n",
       "  73.57901000976562,\n",
       "  73.2774658203125,\n",
       "  72.97602081298828,\n",
       "  72.66223907470703,\n",
       "  72.35918426513672,\n",
       "  72.06391143798828,\n",
       "  71.75918579101562,\n",
       "  71.45540618896484,\n",
       "  71.13717651367188,\n",
       "  70.85174560546875,\n",
       "  70.54660034179688,\n",
       "  70.24092102050781,\n",
       "  69.94515991210938,\n",
       "  69.63602447509766,\n",
       "  69.34264373779297,\n",
       "  69.04619598388672,\n",
       "  68.762451171875,\n",
       "  68.46153259277344,\n",
       "  68.18177795410156,\n",
       "  67.88021850585938,\n",
       "  67.59661865234375,\n",
       "  67.30925750732422,\n",
       "  67.01948547363281,\n",
       "  66.75096893310547,\n",
       "  66.4784164428711,\n",
       "  66.19654846191406,\n",
       "  65.92790222167969,\n",
       "  65.65595245361328,\n",
       "  65.38776397705078,\n",
       "  65.11832427978516,\n",
       "  64.86251068115234,\n",
       "  64.57874298095703,\n",
       "  64.31362915039062,\n",
       "  64.03783416748047,\n",
       "  63.775001525878906,\n",
       "  63.51030731201172,\n",
       "  63.22887420654297,\n",
       "  62.96883773803711,\n",
       "  62.71752166748047,\n",
       "  62.45657730102539,\n",
       "  62.204227447509766,\n",
       "  61.92508316040039,\n",
       "  61.67515563964844,\n",
       "  61.4249267578125,\n",
       "  61.187068939208984,\n",
       "  60.93198013305664,\n",
       "  60.689334869384766,\n",
       "  60.44333267211914,\n",
       "  60.19560623168945,\n",
       "  59.95961380004883,\n",
       "  59.71611785888672,\n",
       "  59.481590270996094,\n",
       "  59.23294448852539,\n",
       "  58.99266815185547,\n",
       "  58.745811462402344,\n",
       "  58.512088775634766,\n",
       "  58.266815185546875,\n",
       "  58.03220748901367,\n",
       "  57.80229949951172,\n",
       "  57.57190704345703,\n",
       "  57.34876251220703,\n",
       "  57.117984771728516,\n",
       "  56.88365173339844,\n",
       "  56.649314880371094,\n",
       "  56.44023132324219,\n",
       "  56.22008514404297,\n",
       "  55.993892669677734,\n",
       "  55.76459884643555,\n",
       "  55.54180908203125,\n",
       "  55.321617126464844,\n",
       "  55.11076354980469,\n",
       "  54.890811920166016,\n",
       "  54.67585372924805,\n",
       "  54.444244384765625,\n",
       "  54.239009857177734,\n",
       "  54.0200309753418,\n",
       "  53.80909729003906,\n",
       "  53.592559814453125,\n",
       "  53.38762664794922,\n",
       "  53.1761360168457,\n",
       "  52.963890075683594,\n",
       "  52.757022857666016,\n",
       "  52.54855728149414,\n",
       "  52.32801818847656,\n",
       "  52.10578155517578,\n",
       "  51.86685562133789,\n",
       "  51.63914108276367,\n",
       "  51.35798645019531,\n",
       "  51.01390075683594,\n",
       "  50.76921844482422,\n",
       "  50.5526123046875,\n",
       "  50.35666275024414,\n",
       "  50.12858581542969,\n",
       "  49.901973724365234,\n",
       "  49.679893493652344,\n",
       "  49.4310188293457,\n",
       "  49.21589279174805,\n",
       "  49.003334045410156,\n",
       "  48.7375373840332,\n",
       "  48.521095275878906,\n",
       "  48.30363082885742,\n",
       "  48.123661041259766,\n",
       "  47.92543029785156,\n",
       "  47.710113525390625,\n",
       "  47.50563049316406,\n",
       "  47.30845260620117,\n",
       "  47.102378845214844,\n",
       "  46.91714096069336,\n",
       "  46.703102111816406,\n",
       "  46.494468688964844,\n",
       "  46.31764602661133,\n",
       "  46.154579162597656,\n",
       "  45.952056884765625,\n",
       "  45.75356674194336,\n",
       "  45.55247116088867,\n",
       "  45.358280181884766,\n",
       "  45.186134338378906,\n",
       "  44.99431228637695,\n",
       "  44.7902717590332,\n",
       "  44.61839294433594,\n",
       "  44.41667556762695,\n",
       "  44.22307205200195,\n",
       "  44.040000915527344,\n",
       "  43.85306167602539,\n",
       "  43.68632888793945,\n",
       "  43.4947509765625,\n",
       "  43.33267593383789,\n",
       "  43.149967193603516,\n",
       "  42.98016357421875,\n",
       "  42.78343200683594,\n",
       "  42.61013412475586,\n",
       "  42.419673919677734,\n",
       "  42.241336822509766,\n",
       "  42.06043243408203,\n",
       "  41.873043060302734,\n",
       "  41.71144104003906,\n",
       "  41.507083892822266,\n",
       "  41.31735610961914,\n",
       "  41.12189483642578,\n",
       "  40.85886764526367,\n",
       "  40.61581802368164,\n",
       "  40.456172943115234,\n",
       "  40.230064392089844,\n",
       "  39.95188522338867,\n",
       "  39.67461013793945,\n",
       "  39.48097229003906,\n",
       "  39.17058181762695,\n",
       "  39.014503479003906,\n",
       "  38.763614654541016,\n",
       "  38.557456970214844,\n",
       "  38.34454345703125,\n",
       "  38.1695442199707,\n",
       "  38.01556396484375,\n",
       "  37.811466217041016,\n",
       "  37.64529800415039,\n",
       "  37.52204895019531,\n",
       "  37.30250549316406,\n",
       "  37.099239349365234,\n",
       "  36.95966720581055,\n",
       "  36.773799896240234,\n",
       "  36.589351654052734,\n",
       "  36.415496826171875,\n",
       "  36.31925964355469,\n",
       "  36.12538528442383,\n",
       "  35.95268249511719,\n",
       "  35.84748077392578,\n",
       "  35.7159423828125,\n",
       "  35.50342559814453,\n",
       "  35.327945709228516,\n",
       "  35.25782775878906,\n",
       "  35.00212478637695,\n",
       "  34.889259338378906,\n",
       "  34.69231414794922,\n",
       "  34.55732727050781,\n",
       "  34.548828125,\n",
       "  34.33579635620117,\n",
       "  34.156795501708984,\n",
       "  34.01826477050781,\n",
       "  33.90446472167969,\n",
       "  33.78961944580078,\n",
       "  33.75429916381836,\n",
       "  33.48853302001953,\n",
       "  33.32354736328125,\n",
       "  33.196075439453125,\n",
       "  33.06230926513672,\n",
       "  32.94111251831055,\n",
       "  32.77909469604492,\n",
       "  32.648651123046875,\n",
       "  32.52810287475586,\n",
       "  32.37113571166992,\n",
       "  32.20405578613281,\n",
       "  32.13029479980469,\n",
       "  32.00065994262695,\n",
       "  31.8261775970459,\n",
       "  31.69119644165039,\n",
       "  31.55643081665039,\n",
       "  31.489227294921875,\n",
       "  31.369661331176758,\n",
       "  31.21353530883789,\n",
       "  31.07805061340332,\n",
       "  30.896074295043945,\n",
       "  30.74725341796875,\n",
       "  30.71156120300293,\n",
       "  30.538007736206055,\n",
       "  30.404048919677734,\n",
       "  30.50010871887207,\n",
       "  30.230567932128906,\n",
       "  30.0861873626709,\n",
       "  29.97526741027832,\n",
       "  29.815404891967773,\n",
       "  29.768327713012695,\n",
       "  29.618135452270508,\n",
       "  29.54739761352539,\n",
       "  29.44636344909668,\n",
       "  29.356868743896484],\n",
       " 'val_loss': [4481.05419921875,\n",
       "  4458.05908203125,\n",
       "  4435.18505859375,\n",
       "  4412.37060546875,\n",
       "  4389.73583984375,\n",
       "  4367.03369140625,\n",
       "  4344.58642578125,\n",
       "  4322.271484375,\n",
       "  4299.84130859375,\n",
       "  4277.595703125,\n",
       "  4255.4951171875,\n",
       "  4233.38037109375,\n",
       "  4211.3916015625,\n",
       "  4189.564453125,\n",
       "  4167.6025390625,\n",
       "  4145.84375,\n",
       "  4124.3564453125,\n",
       "  4102.708984375,\n",
       "  4080.963134765625,\n",
       "  4059.6474609375,\n",
       "  4038.2109375,\n",
       "  4017.092041015625,\n",
       "  3995.988037109375,\n",
       "  3968.963623046875,\n",
       "  3894.932373046875,\n",
       "  3874.67431640625,\n",
       "  3854.457275390625,\n",
       "  3833.891357421875,\n",
       "  3813.644775390625,\n",
       "  3793.553466796875,\n",
       "  3773.581787109375,\n",
       "  3753.65478515625,\n",
       "  3721.828857421875,\n",
       "  3687.19873046875,\n",
       "  3668.027099609375,\n",
       "  3648.227783203125,\n",
       "  3628.841552734375,\n",
       "  3609.1591796875,\n",
       "  3589.826171875,\n",
       "  3570.652099609375,\n",
       "  3551.523681640625,\n",
       "  3532.12548828125,\n",
       "  3513.21630859375,\n",
       "  3494.406494140625,\n",
       "  3475.365966796875,\n",
       "  3456.5751953125,\n",
       "  3438.032958984375,\n",
       "  3419.155517578125,\n",
       "  3400.652099609375,\n",
       "  3382.05322265625,\n",
       "  3363.837158203125,\n",
       "  3345.507568359375,\n",
       "  3327.21630859375,\n",
       "  3308.847900390625,\n",
       "  3290.743408203125,\n",
       "  3272.7314453125,\n",
       "  3254.92529296875,\n",
       "  3237.011962890625,\n",
       "  3219.311279296875,\n",
       "  3201.3564453125,\n",
       "  3183.80126953125,\n",
       "  3166.27490234375,\n",
       "  3148.51611328125,\n",
       "  3131.412109375,\n",
       "  3113.94091796875,\n",
       "  3096.495361328125,\n",
       "  3079.454345703125,\n",
       "  3062.293212890625,\n",
       "  3045.27392578125,\n",
       "  3028.1455078125,\n",
       "  3011.37451171875,\n",
       "  2994.650634765625,\n",
       "  2977.89501953125,\n",
       "  2961.389404296875,\n",
       "  2944.794921875,\n",
       "  2928.3544921875,\n",
       "  2911.71875,\n",
       "  2895.61474609375,\n",
       "  2879.044921875,\n",
       "  2862.660888671875,\n",
       "  2846.658935546875,\n",
       "  2830.49755859375,\n",
       "  2814.51025390625,\n",
       "  2798.423095703125,\n",
       "  2782.57763671875,\n",
       "  2766.611083984375,\n",
       "  2750.86083984375,\n",
       "  2735.087158203125,\n",
       "  2719.305908203125,\n",
       "  2703.69091796875,\n",
       "  2688.24267578125,\n",
       "  2672.9345703125,\n",
       "  2657.4892578125,\n",
       "  2641.708740234375,\n",
       "  2626.8740234375,\n",
       "  2611.540283203125,\n",
       "  2596.2646484375,\n",
       "  2581.249267578125,\n",
       "  2566.091552734375,\n",
       "  2551.5625,\n",
       "  2536.75634765625,\n",
       "  2521.898681640625,\n",
       "  2507.369384765625,\n",
       "  2492.725830078125,\n",
       "  2478.069580078125,\n",
       "  2463.615234375,\n",
       "  2449.106201171875,\n",
       "  2434.706298828125,\n",
       "  2420.324951171875,\n",
       "  2406.312255859375,\n",
       "  2391.98388671875,\n",
       "  2377.573974609375,\n",
       "  2363.53173828125,\n",
       "  2349.640625,\n",
       "  2335.689208984375,\n",
       "  2321.955078125,\n",
       "  2307.919677734375,\n",
       "  2294.103271484375,\n",
       "  2280.47314453125,\n",
       "  2267.104736328125,\n",
       "  2253.238525390625,\n",
       "  2239.399169921875,\n",
       "  2226.249267578125,\n",
       "  2212.949951171875,\n",
       "  2199.51513671875,\n",
       "  2186.26904296875,\n",
       "  2172.969970703125,\n",
       "  2159.98876953125,\n",
       "  2146.835693359375,\n",
       "  2133.811767578125,\n",
       "  2120.780517578125,\n",
       "  2107.89794921875,\n",
       "  2095.20751953125,\n",
       "  2082.341552734375,\n",
       "  2069.646484375,\n",
       "  2057.146240234375,\n",
       "  2044.488037109375,\n",
       "  2032.071044921875,\n",
       "  2019.65234375,\n",
       "  2007.3651123046875,\n",
       "  1994.7713623046875,\n",
       "  1982.562744140625,\n",
       "  1970.432861328125,\n",
       "  1958.1590576171875,\n",
       "  1946.0191650390625,\n",
       "  1933.8768310546875,\n",
       "  1921.779541015625,\n",
       "  1909.69287109375,\n",
       "  1898.0452880859375,\n",
       "  1886.30419921875,\n",
       "  1874.635498046875,\n",
       "  1862.61572265625,\n",
       "  1851.1307373046875,\n",
       "  1839.3446044921875,\n",
       "  1827.89990234375,\n",
       "  1816.403076171875,\n",
       "  1804.5654296875,\n",
       "  1792.8636474609375,\n",
       "  1781.693603515625,\n",
       "  1770.2783203125,\n",
       "  1759.0147705078125,\n",
       "  1747.9615478515625,\n",
       "  1736.934326171875,\n",
       "  1725.981201171875,\n",
       "  1714.8704833984375,\n",
       "  1703.8182373046875,\n",
       "  1692.931884765625,\n",
       "  1682.2152099609375,\n",
       "  1671.36181640625,\n",
       "  1660.6688232421875,\n",
       "  1649.8970947265625,\n",
       "  1639.46923828125,\n",
       "  1628.969970703125,\n",
       "  1618.5986328125,\n",
       "  1608.2490234375,\n",
       "  1597.68115234375,\n",
       "  1587.1092529296875,\n",
       "  1576.645751953125,\n",
       "  1566.452392578125,\n",
       "  1556.292724609375,\n",
       "  1545.97705078125,\n",
       "  1535.879150390625,\n",
       "  1525.477294921875,\n",
       "  1515.6756591796875,\n",
       "  1505.6153564453125,\n",
       "  1495.5941162109375,\n",
       "  1485.9090576171875,\n",
       "  1476.138427734375,\n",
       "  1466.2191162109375,\n",
       "  1456.4920654296875,\n",
       "  1447.0228271484375,\n",
       "  1437.411865234375,\n",
       "  1427.7344970703125,\n",
       "  1418.02001953125,\n",
       "  1408.41015625,\n",
       "  1399.005126953125,\n",
       "  1389.57666015625,\n",
       "  1380.215087890625,\n",
       "  1370.935791015625,\n",
       "  1361.69384765625,\n",
       "  1352.321533203125,\n",
       "  1343.0538330078125,\n",
       "  1333.7490234375,\n",
       "  1324.6968994140625,\n",
       "  1315.8021240234375,\n",
       "  1307.0423583984375,\n",
       "  1297.8671875,\n",
       "  1288.8358154296875,\n",
       "  1280.0885009765625,\n",
       "  1271.31298828125,\n",
       "  1262.6409912109375,\n",
       "  1253.73291015625,\n",
       "  1245.108154296875,\n",
       "  1236.6134033203125,\n",
       "  1228.10693359375,\n",
       "  1219.609375,\n",
       "  1211.2781982421875,\n",
       "  1202.9166259765625,\n",
       "  1194.4473876953125,\n",
       "  1186.21044921875,\n",
       "  1177.8033447265625,\n",
       "  1169.6875,\n",
       "  1161.579833984375,\n",
       "  1153.7950439453125,\n",
       "  1145.72607421875,\n",
       "  1137.2684326171875,\n",
       "  1129.1424560546875,\n",
       "  1121.3531494140625,\n",
       "  1113.342529296875,\n",
       "  1105.309326171875,\n",
       "  1097.5,\n",
       "  1089.6549072265625,\n",
       "  1081.83544921875,\n",
       "  1074.3958740234375,\n",
       "  1066.8731689453125,\n",
       "  1059.18896484375,\n",
       "  1051.50439453125,\n",
       "  1044.0789794921875,\n",
       "  1036.6285400390625,\n",
       "  1029.159912109375,\n",
       "  1021.5731811523438,\n",
       "  1014.4588012695312,\n",
       "  1007.210693359375,\n",
       "  1000.1550903320312,\n",
       "  992.8447875976562,\n",
       "  985.716796875,\n",
       "  978.8934326171875,\n",
       "  971.6714477539062,\n",
       "  964.9017944335938,\n",
       "  957.818359375,\n",
       "  950.7889404296875,\n",
       "  944.0206909179688,\n",
       "  937.0994262695312,\n",
       "  930.2979125976562,\n",
       "  923.42431640625,\n",
       "  916.85302734375,\n",
       "  909.87158203125,\n",
       "  903.6263427734375,\n",
       "  896.9868774414062,\n",
       "  890.2979736328125,\n",
       "  883.7576904296875,\n",
       "  877.6543579101562,\n",
       "  871.2374267578125,\n",
       "  864.9429931640625,\n",
       "  858.2962646484375,\n",
       "  851.7479248046875,\n",
       "  845.5796508789062,\n",
       "  839.3055419921875,\n",
       "  832.9569702148438,\n",
       "  826.7269897460938,\n",
       "  820.5366821289062,\n",
       "  814.3945922851562,\n",
       "  808.2548217773438,\n",
       "  802.1805419921875,\n",
       "  796.4959716796875,\n",
       "  790.2996826171875,\n",
       "  784.2615966796875,\n",
       "  778.326904296875,\n",
       "  772.4359741210938,\n",
       "  766.87060546875,\n",
       "  760.9926147460938,\n",
       "  755.3836669921875,\n",
       "  749.4065551757812,\n",
       "  743.792236328125,\n",
       "  738.17724609375,\n",
       "  732.8529052734375,\n",
       "  727.1492919921875,\n",
       "  721.5643920898438,\n",
       "  716.2103271484375,\n",
       "  710.7200927734375,\n",
       "  705.0108642578125,\n",
       "  700.0155029296875,\n",
       "  694.4537353515625,\n",
       "  689.1266479492188,\n",
       "  683.7266845703125,\n",
       "  678.5135498046875,\n",
       "  673.3458251953125,\n",
       "  668.3971557617188,\n",
       "  663.2077026367188,\n",
       "  658.090087890625],\n",
       " 'val_mean_absolute_percentage_error': [103.2662582397461,\n",
       "  102.97779083251953,\n",
       "  102.69013214111328,\n",
       "  102.40247344970703,\n",
       "  102.11631774902344,\n",
       "  101.82855224609375,\n",
       "  101.5432357788086,\n",
       "  101.25885009765625,\n",
       "  100.97222900390625,\n",
       "  100.68720245361328,\n",
       "  100.40325927734375,\n",
       "  100.11837005615234,\n",
       "  99.83434295654297,\n",
       "  99.5516128540039,\n",
       "  99.26639556884766,\n",
       "  98.98301696777344,\n",
       "  98.70243072509766,\n",
       "  98.41899108886719,\n",
       "  98.13346099853516,\n",
       "  97.8528060913086,\n",
       "  97.5698013305664,\n",
       "  97.29021453857422,\n",
       "  97.00997161865234,\n",
       "  96.63189697265625,\n",
       "  95.65692901611328,\n",
       "  95.38443756103516,\n",
       "  95.11094665527344,\n",
       "  94.83198547363281,\n",
       "  94.55657958984375,\n",
       "  94.28253936767578,\n",
       "  94.0093765258789,\n",
       "  93.73596954345703,\n",
       "  93.28021240234375,\n",
       "  92.81909942626953,\n",
       "  92.55297088623047,\n",
       "  92.27732849121094,\n",
       "  92.0066909790039,\n",
       "  91.73114776611328,\n",
       "  91.45973205566406,\n",
       "  91.18978118896484,\n",
       "  90.91971588134766,\n",
       "  90.64507293701172,\n",
       "  90.37657165527344,\n",
       "  90.1087417602539,\n",
       "  89.83686828613281,\n",
       "  89.5677719116211,\n",
       "  89.3014907836914,\n",
       "  89.02960968017578,\n",
       "  88.76236724853516,\n",
       "  88.49295806884766,\n",
       "  88.22834777832031,\n",
       "  87.9613265991211,\n",
       "  87.69408416748047,\n",
       "  87.4249496459961,\n",
       "  87.1589126586914,\n",
       "  86.89346313476562,\n",
       "  86.63030242919922,\n",
       "  86.36478424072266,\n",
       "  86.10165405273438,\n",
       "  85.83396911621094,\n",
       "  85.57147216796875,\n",
       "  85.30864715576172,\n",
       "  85.04154968261719,\n",
       "  84.7835464477539,\n",
       "  84.51925659179688,\n",
       "  84.25455474853516,\n",
       "  83.99522399902344,\n",
       "  83.73330688476562,\n",
       "  83.4728012084961,\n",
       "  83.2098159790039,\n",
       "  82.95158386230469,\n",
       "  82.69331359863281,\n",
       "  82.43377685546875,\n",
       "  82.17735290527344,\n",
       "  81.9188003540039,\n",
       "  81.6618881225586,\n",
       "  81.40113067626953,\n",
       "  81.14796447753906,\n",
       "  80.88668823242188,\n",
       "  80.62755584716797,\n",
       "  80.37372589111328,\n",
       "  80.11656951904297,\n",
       "  79.8614273071289,\n",
       "  79.60391235351562,\n",
       "  79.34950256347656,\n",
       "  79.09236145019531,\n",
       "  78.83793640136719,\n",
       "  78.58234405517578,\n",
       "  78.32585906982422,\n",
       "  78.0712890625,\n",
       "  77.81867218017578,\n",
       "  77.56758117675781,\n",
       "  77.3134536743164,\n",
       "  77.0530014038086,\n",
       "  76.80740356445312,\n",
       "  76.55276489257812,\n",
       "  76.29830169677734,\n",
       "  76.0473861694336,\n",
       "  75.79329681396484,\n",
       "  75.54900360107422,\n",
       "  75.29928588867188,\n",
       "  75.04790496826172,\n",
       "  74.80132293701172,\n",
       "  74.5520248413086,\n",
       "  74.30171966552734,\n",
       "  74.05409240722656,\n",
       "  73.80474090576172,\n",
       "  73.55648040771484,\n",
       "  73.3077621459961,\n",
       "  73.06464385986328,\n",
       "  72.81526184082031,\n",
       "  72.56365966796875,\n",
       "  72.31767272949219,\n",
       "  72.07357788085938,\n",
       "  71.82763671875,\n",
       "  71.58474731445312,\n",
       "  71.33573150634766,\n",
       "  71.0898208618164,\n",
       "  70.84642791748047,\n",
       "  70.60693359375,\n",
       "  70.35773468017578,\n",
       "  70.10819244384766,\n",
       "  69.87030792236328,\n",
       "  69.62894439697266,\n",
       "  69.38433074951172,\n",
       "  69.1423568725586,\n",
       "  68.89862823486328,\n",
       "  68.65992736816406,\n",
       "  68.41728973388672,\n",
       "  68.17623901367188,\n",
       "  67.93424987792969,\n",
       "  67.69422912597656,\n",
       "  67.45700073242188,\n",
       "  67.21571350097656,\n",
       "  66.97681427001953,\n",
       "  66.74081420898438,\n",
       "  66.50103759765625,\n",
       "  66.26506042480469,\n",
       "  66.02825164794922,\n",
       "  65.79315948486328,\n",
       "  65.55139923095703,\n",
       "  65.31623077392578,\n",
       "  65.08180236816406,\n",
       "  64.84378814697266,\n",
       "  64.6075668334961,\n",
       "  64.37049865722656,\n",
       "  64.13349914550781,\n",
       "  63.89588165283203,\n",
       "  63.6661262512207,\n",
       "  63.43373489379883,\n",
       "  63.20200729370117,\n",
       "  62.96247100830078,\n",
       "  62.7327995300293,\n",
       "  62.49629211425781,\n",
       "  62.26583480834961,\n",
       "  62.03353500366211,\n",
       "  61.79349899291992,\n",
       "  61.55537414550781,\n",
       "  61.32725524902344,\n",
       "  61.093326568603516,\n",
       "  60.8616828918457,\n",
       "  60.633575439453125,\n",
       "  60.405208587646484,\n",
       "  60.177581787109375,\n",
       "  59.94586944580078,\n",
       "  59.71455383300781,\n",
       "  59.48588180541992,\n",
       "  59.25999450683594,\n",
       "  59.0303955078125,\n",
       "  58.80339431762695,\n",
       "  58.573890686035156,\n",
       "  58.35093307495117,\n",
       "  58.12564468383789,\n",
       "  57.902320861816406,\n",
       "  57.67866134643555,\n",
       "  57.449432373046875,\n",
       "  57.21928405761719,\n",
       "  56.990657806396484,\n",
       "  56.767120361328125,\n",
       "  56.54351043701172,\n",
       "  56.31563949584961,\n",
       "  56.09175109863281,\n",
       "  55.86024475097656,\n",
       "  55.64131164550781,\n",
       "  55.41575622558594,\n",
       "  55.19023132324219,\n",
       "  54.97146987915039,\n",
       "  54.749969482421875,\n",
       "  54.52425003051758,\n",
       "  54.30207061767578,\n",
       "  54.0849723815918,\n",
       "  53.863807678222656,\n",
       "  53.640262603759766,\n",
       "  53.41500473022461,\n",
       "  53.19131088256836,\n",
       "  52.971553802490234,\n",
       "  52.75038528442383,\n",
       "  52.52997970581055,\n",
       "  52.3106575012207,\n",
       "  52.09138870239258,\n",
       "  51.868141174316406,\n",
       "  51.646522521972656,\n",
       "  51.42314910888672,\n",
       "  51.204994201660156,\n",
       "  50.98978042602539,\n",
       "  50.777061462402344,\n",
       "  50.5533447265625,\n",
       "  50.33226013183594,\n",
       "  50.11725997924805,\n",
       "  49.90074157714844,\n",
       "  49.6859245300293,\n",
       "  49.46437072753906,\n",
       "  49.2490119934082,\n",
       "  49.036067962646484,\n",
       "  48.82200241088867,\n",
       "  48.60726547241211,\n",
       "  48.39599609375,\n",
       "  48.182987213134766,\n",
       "  47.96647644042969,\n",
       "  47.75502395629883,\n",
       "  47.5381965637207,\n",
       "  47.32820510864258,\n",
       "  47.11760330200195,\n",
       "  46.91437530517578,\n",
       "  46.703102111816406,\n",
       "  46.48059844970703,\n",
       "  46.26571273803711,\n",
       "  46.05921173095703,\n",
       "  45.84575653076172,\n",
       "  45.63069152832031,\n",
       "  45.42112350463867,\n",
       "  45.20962905883789,\n",
       "  44.99823760986328,\n",
       "  44.79582595825195,\n",
       "  44.59085464477539,\n",
       "  44.38057327270508,\n",
       "  44.1683349609375,\n",
       "  43.9627799987793,\n",
       "  43.75615692138672,\n",
       "  43.54738998413086,\n",
       "  43.33455276489258,\n",
       "  43.13511276245117,\n",
       "  42.92995834350586,\n",
       "  42.72941589355469,\n",
       "  42.520999908447266,\n",
       "  42.3215446472168,\n",
       "  42.1370735168457,\n",
       "  41.939205169677734,\n",
       "  41.75483322143555,\n",
       "  41.559688568115234,\n",
       "  41.36488723754883,\n",
       "  41.177162170410156,\n",
       "  40.985069274902344,\n",
       "  40.79513931274414,\n",
       "  40.600826263427734,\n",
       "  40.41626739501953,\n",
       "  40.21760177612305,\n",
       "  40.041748046875,\n",
       "  39.8509407043457,\n",
       "  39.65735626220703,\n",
       "  39.468875885009766,\n",
       "  39.29365539550781,\n",
       "  39.10646438598633,\n",
       "  38.923118591308594,\n",
       "  38.726226806640625,\n",
       "  38.532344818115234,\n",
       "  38.350128173828125,\n",
       "  38.1655158996582,\n",
       "  37.974090576171875,\n",
       "  37.786399841308594,\n",
       "  37.61587905883789,\n",
       "  37.4512825012207,\n",
       "  37.28432083129883,\n",
       "  37.11806106567383,\n",
       "  36.965370178222656,\n",
       "  36.790245056152344,\n",
       "  36.62431335449219,\n",
       "  36.460453033447266,\n",
       "  36.2972297668457,\n",
       "  36.146297454833984,\n",
       "  35.98997497558594,\n",
       "  35.840476989746094,\n",
       "  35.68006134033203,\n",
       "  35.528663635253906,\n",
       "  35.377723693847656,\n",
       "  35.23418045043945,\n",
       "  35.077030181884766,\n",
       "  34.9234619140625,\n",
       "  34.7769775390625,\n",
       "  34.624305725097656,\n",
       "  34.46394729614258,\n",
       "  34.326324462890625,\n",
       "  34.16893768310547,\n",
       "  34.01868438720703,\n",
       "  33.8647575378418,\n",
       "  33.71527862548828,\n",
       "  33.57146072387695,\n",
       "  33.43718338012695,\n",
       "  33.29572677612305,\n",
       "  33.155372619628906]}"
      ]
     },
     "execution_count": 219,
     "metadata": {},
     "output_type": "execute_result"
    }
   ],
   "source": [
    "history.history"
   ]
  },
  {
   "cell_type": "code",
   "execution_count": 169,
   "id": "9471a3a5",
   "metadata": {},
   "outputs": [
    {
     "data": {
      "text/plain": [
       "10.758578103591264"
      ]
     },
     "execution_count": 169,
     "metadata": {},
     "output_type": "execute_result"
    }
   ],
   "source": [
    "mean_squared_error(y_test, rnn_model.predict(X_test), squared = False)"
   ]
  },
  {
   "cell_type": "code",
   "execution_count": 56,
   "id": "b993bbd7",
   "metadata": {},
   "outputs": [],
   "source": [
    "y_pred = rnn_model(X_test)"
   ]
  },
  {
   "cell_type": "code",
   "execution_count": 60,
   "id": "ced68d7f",
   "metadata": {},
   "outputs": [
    {
     "data": {
      "text/plain": [
       "[<matplotlib.lines.Line2D at 0x7f10e65cf670>]"
      ]
     },
     "execution_count": 60,
     "metadata": {},
     "output_type": "execute_result"
    },
    {
     "data": {
      "image/png": "[encoded data removed]",
      "text/plain": [
       "<Figure size 1080x432 with 1 Axes>"
      ]
     },
     "metadata": {
      "needs_background": "light"
     },
     "output_type": "display_data"
    }
   ],
   "source": [
    "plt.figure(figsize=(15, 6))\n",
    "plt.plot(y_test)\n",
    "plt.plot(y_pred)"
   ]
  },
  {
   "cell_type": "code",
   "execution_count": null,
   "id": "aef6c746",
   "metadata": {},
   "outputs": [],
   "source": [
    "11.623870687608381"
   ]
  },
  {
   "cell_type": "markdown",
   "id": "5966d329",
   "metadata": {},
   "source": [
    "## Simple LSTM model"
   ]
  },
  {
   "cell_type": "code",
   "execution_count": 40,
   "id": "04713803",
   "metadata": {},
   "outputs": [
    {
     "data": {
      "text/plain": [
       "11.662904317901123"
      ]
     },
     "execution_count": 40,
     "metadata": {},
     "output_type": "execute_result"
    }
   ],
   "source": [
    "mean_squared_error(y_test, lstm_model.predict(X_test), squared = False)"
   ]
  },
  {
   "cell_type": "code",
   "execution_count": null,
   "id": "f7e9963a",
   "metadata": {},
   "outputs": [],
   "source": []
  },
  {
   "cell_type": "code",
   "execution_count": null,
   "id": "c2c09a77",
   "metadata": {},
   "outputs": [],
   "source": []
  },
  {
   "cell_type": "markdown",
   "id": "c97d3c38",
   "metadata": {},
   "source": [
    "## Second (more complex) RNN model"
   ]
  },
  {
   "cell_type": "code",
   "execution_count": 47,
   "id": "1fea8793",
   "metadata": {
    "collapsed": true
   },
   "outputs": [
    {
     "name": "stdout",
     "output_type": "stream",
     "text": [
      "Epoch 1/300\n",
      "33/33 [==============================] - 3s 28ms/step - loss: 3025.6809 - root_mean_squared_error: 55.0062 - val_loss: 4062.6362 - val_root_mean_squared_error: 63.7388\n",
      "Epoch 2/300\n",
      "33/33 [==============================] - 0s 5ms/step - loss: 2913.5740 - root_mean_squared_error: 53.9775 - val_loss: 3902.1865 - val_root_mean_squared_error: 62.4675\n",
      "Epoch 3/300\n",
      "33/33 [==============================] - 0s 6ms/step - loss: 2783.0842 - root_mean_squared_error: 52.7549 - val_loss: 3753.7979 - val_root_mean_squared_error: 61.2682\n",
      "Epoch 4/300\n",
      "33/33 [==============================] - 0s 5ms/step - loss: 2681.7178 - root_mean_squared_error: 51.7853 - val_loss: 3653.1035 - val_root_mean_squared_error: 60.4409\n",
      "Epoch 5/300\n",
      "33/33 [==============================] - 0s 5ms/step - loss: 2613.8020 - root_mean_squared_error: 51.1254 - val_loss: 3580.3037 - val_root_mean_squared_error: 59.8356\n",
      "Epoch 6/300\n",
      "33/33 [==============================] - 0s 5ms/step - loss: 2561.7454 - root_mean_squared_error: 50.6137 - val_loss: 3523.8987 - val_root_mean_squared_error: 59.3624\n",
      "Epoch 7/300\n",
      "33/33 [==============================] - 0s 5ms/step - loss: 2518.8574 - root_mean_squared_error: 50.1882 - val_loss: 3473.5925 - val_root_mean_squared_error: 58.9372\n",
      "Epoch 8/300\n",
      "33/33 [==============================] - 0s 5ms/step - loss: 2479.3394 - root_mean_squared_error: 49.7930 - val_loss: 3425.5525 - val_root_mean_squared_error: 58.5282\n",
      "Epoch 9/300\n",
      "33/33 [==============================] - 0s 5ms/step - loss: 2441.3621 - root_mean_squared_error: 49.4101 - val_loss: 3379.1294 - val_root_mean_squared_error: 58.1303\n",
      "Epoch 10/300\n",
      "33/33 [==============================] - 0s 5ms/step - loss: 2404.5579 - root_mean_squared_error: 49.0363 - val_loss: 3334.1135 - val_root_mean_squared_error: 57.7418\n",
      "Epoch 11/300\n",
      "33/33 [==============================] - 0s 5ms/step - loss: 2369.1597 - root_mean_squared_error: 48.6740 - val_loss: 3290.8035 - val_root_mean_squared_error: 57.3655\n",
      "Epoch 12/300\n",
      "33/33 [==============================] - 0s 5ms/step - loss: 2334.8525 - root_mean_squared_error: 48.3203 - val_loss: 3248.3926 - val_root_mean_squared_error: 56.9947\n",
      "Epoch 13/300\n",
      "33/33 [==============================] - 0s 5ms/step - loss: 2301.1042 - root_mean_squared_error: 47.9698 - val_loss: 3207.5588 - val_root_mean_squared_error: 56.6353\n",
      "Epoch 14/300\n",
      "33/33 [==============================] - 0s 5ms/step - loss: 2268.4290 - root_mean_squared_error: 47.6280 - val_loss: 3166.6362 - val_root_mean_squared_error: 56.2729\n",
      "Epoch 15/300\n",
      "33/33 [==============================] - 0s 6ms/step - loss: 2236.2781 - root_mean_squared_error: 47.2893 - val_loss: 3126.2065 - val_root_mean_squared_error: 55.9125\n",
      "Epoch 16/300\n",
      "33/33 [==============================] - 0s 5ms/step - loss: 2204.4478 - root_mean_squared_error: 46.9515 - val_loss: 3087.2144 - val_root_mean_squared_error: 55.5627\n",
      "Epoch 17/300\n",
      "33/33 [==============================] - 0s 5ms/step - loss: 2173.5090 - root_mean_squared_error: 46.6209 - val_loss: 3048.2227 - val_root_mean_squared_error: 55.2107\n",
      "Epoch 18/300\n",
      "33/33 [==============================] - 0s 5ms/step - loss: 2142.8953 - root_mean_squared_error: 46.2914 - val_loss: 3010.0154 - val_root_mean_squared_error: 54.8636\n",
      "Epoch 19/300\n",
      "33/33 [==============================] - 0s 5ms/step - loss: 2112.7588 - root_mean_squared_error: 45.9648 - val_loss: 2972.5403 - val_root_mean_squared_error: 54.5210\n",
      "Epoch 20/300\n",
      "33/33 [==============================] - 0s 5ms/step - loss: 2083.2231 - root_mean_squared_error: 45.6423 - val_loss: 2935.2375 - val_root_mean_squared_error: 54.1778\n",
      "Epoch 21/300\n",
      "33/33 [==============================] - 0s 5ms/step - loss: 2053.9258 - root_mean_squared_error: 45.3203 - val_loss: 2898.9746 - val_root_mean_squared_error: 53.8421\n",
      "Epoch 22/300\n",
      "33/33 [==============================] - 0s 5ms/step - loss: 2025.4325 - root_mean_squared_error: 45.0048 - val_loss: 2862.2065 - val_root_mean_squared_error: 53.4996\n",
      "Epoch 23/300\n",
      "33/33 [==============================] - 0s 5ms/step - loss: 1996.8970 - root_mean_squared_error: 44.6867 - val_loss: 2826.8042 - val_root_mean_squared_error: 53.1677\n",
      "Epoch 24/300\n",
      "33/33 [==============================] - 0s 5ms/step - loss: 1969.1396 - root_mean_squared_error: 44.3750 - val_loss: 2791.2542 - val_root_mean_squared_error: 52.8323\n",
      "Epoch 25/300\n",
      "33/33 [==============================] - 0s 5ms/step - loss: 1941.5197 - root_mean_squared_error: 44.0627 - val_loss: 2756.6145 - val_root_mean_squared_error: 52.5035\n",
      "Epoch 26/300\n",
      "33/33 [==============================] - 0s 5ms/step - loss: 1914.4506 - root_mean_squared_error: 43.7544 - val_loss: 2722.1528 - val_root_mean_squared_error: 52.1743\n",
      "Epoch 27/300\n",
      "33/33 [==============================] - 0s 5ms/step - loss: 1887.7584 - root_mean_squared_error: 43.4483 - val_loss: 2687.9045 - val_root_mean_squared_error: 51.8450\n",
      "Epoch 28/300\n",
      "33/33 [==============================] - 0s 5ms/step - loss: 1861.3335 - root_mean_squared_error: 43.1432 - val_loss: 2654.2559 - val_root_mean_squared_error: 51.5195\n",
      "Epoch 29/300\n",
      "33/33 [==============================] - 0s 5ms/step - loss: 1835.1240 - root_mean_squared_error: 42.8383 - val_loss: 2621.7129 - val_root_mean_squared_error: 51.2027\n",
      "Epoch 30/300\n",
      "33/33 [==============================] - 0s 5ms/step - loss: 1809.8811 - root_mean_squared_error: 42.5427 - val_loss: 2587.7612 - val_root_mean_squared_error: 50.8700\n",
      "Epoch 31/300\n",
      "33/33 [==============================] - 0s 5ms/step - loss: 1784.1853 - root_mean_squared_error: 42.2396 - val_loss: 2555.7339 - val_root_mean_squared_error: 50.5543\n",
      "Epoch 32/300\n",
      "33/33 [==============================] - 0s 5ms/step - loss: 1759.2236 - root_mean_squared_error: 41.9431 - val_loss: 2523.9912 - val_root_mean_squared_error: 50.2393\n",
      "Epoch 33/300\n",
      "33/33 [==============================] - 0s 5ms/step - loss: 1734.5975 - root_mean_squared_error: 41.6485 - val_loss: 2492.3643 - val_root_mean_squared_error: 49.9236\n",
      "Epoch 34/300\n",
      "33/33 [==============================] - 0s 5ms/step - loss: 1710.3539 - root_mean_squared_error: 41.3564 - val_loss: 2460.5938 - val_root_mean_squared_error: 49.6044\n",
      "Epoch 35/300\n",
      "33/33 [==============================] - 0s 5ms/step - loss: 1686.2045 - root_mean_squared_error: 41.0634 - val_loss: 2429.6985 - val_root_mean_squared_error: 49.2920\n",
      "Epoch 36/300\n",
      "33/33 [==============================] - 0s 5ms/step - loss: 1662.6011 - root_mean_squared_error: 40.7750 - val_loss: 2398.7358 - val_root_mean_squared_error: 48.9769\n",
      "Epoch 37/300\n",
      "33/33 [==============================] - 0s 5ms/step - loss: 1639.1918 - root_mean_squared_error: 40.4869 - val_loss: 2368.1614 - val_root_mean_squared_error: 48.6638\n",
      "Epoch 38/300\n",
      "33/33 [==============================] - 0s 5ms/step - loss: 1615.9816 - root_mean_squared_error: 40.1993 - val_loss: 2338.4033 - val_root_mean_squared_error: 48.3570\n",
      "Epoch 39/300\n",
      "33/33 [==============================] - 0s 5ms/step - loss: 1593.2740 - root_mean_squared_error: 39.9158 - val_loss: 2308.6597 - val_root_mean_squared_error: 48.0485\n",
      "Epoch 40/300\n",
      "33/33 [==============================] - 0s 5ms/step - loss: 1570.7090 - root_mean_squared_error: 39.6322 - val_loss: 2279.5659 - val_root_mean_squared_error: 47.7448\n",
      "Epoch 41/300\n",
      "33/33 [==============================] - 0s 5ms/step - loss: 1548.6077 - root_mean_squared_error: 39.3524 - val_loss: 2250.3679 - val_root_mean_squared_error: 47.4380\n",
      "Epoch 42/300\n",
      "33/33 [==============================] - 0s 5ms/step - loss: 1526.6687 - root_mean_squared_error: 39.0726 - val_loss: 2221.6704 - val_root_mean_squared_error: 47.1346\n",
      "Epoch 43/300\n",
      "33/33 [==============================] - 0s 5ms/step - loss: 1505.1471 - root_mean_squared_error: 38.7962 - val_loss: 2192.9526 - val_root_mean_squared_error: 46.8290\n",
      "Epoch 44/300\n",
      "33/33 [==============================] - 0s 5ms/step - loss: 1483.7839 - root_mean_squared_error: 38.5199 - val_loss: 2164.7427 - val_root_mean_squared_error: 46.5268\n",
      "Epoch 45/300\n",
      "33/33 [==============================] - 0s 5ms/step - loss: 1462.6006 - root_mean_squared_error: 38.2440 - val_loss: 2137.4436 - val_root_mean_squared_error: 46.2325\n",
      "Epoch 46/300\n",
      "33/33 [==============================] - 0s 5ms/step - loss: 1442.0026 - root_mean_squared_error: 37.9737 - val_loss: 2109.6914 - val_root_mean_squared_error: 45.9314\n",
      "Epoch 47/300\n",
      "33/33 [==============================] - 0s 5ms/step - loss: 1421.3667 - root_mean_squared_error: 37.7010 - val_loss: 2082.8560 - val_root_mean_squared_error: 45.6383\n",
      "Epoch 48/300\n",
      "33/33 [==============================] - 0s 5ms/step - loss: 1401.1949 - root_mean_squared_error: 37.4325 - val_loss: 2056.0479 - val_root_mean_squared_error: 45.3437\n",
      "Epoch 49/300\n",
      "33/33 [==============================] - 0s 5ms/step - loss: 1381.3904 - root_mean_squared_error: 37.1671 - val_loss: 2028.9232 - val_root_mean_squared_error: 45.0436\n",
      "Epoch 50/300\n",
      "33/33 [==============================] - 0s 5ms/step - loss: 1361.5129 - root_mean_squared_error: 36.8987 - val_loss: 2002.9606 - val_root_mean_squared_error: 44.7544\n",
      "Epoch 51/300\n",
      "33/33 [==============================] - 0s 6ms/step - loss: 1342.2194 - root_mean_squared_error: 36.6363 - val_loss: 1976.7031 - val_root_mean_squared_error: 44.4601\n",
      "Epoch 52/300\n",
      "33/33 [==============================] - 0s 5ms/step - loss: 1323.0062 - root_mean_squared_error: 36.3732 - val_loss: 1950.9747 - val_root_mean_squared_error: 44.1698\n",
      "Epoch 53/300\n",
      "33/33 [==============================] - 0s 5ms/step - loss: 1304.0231 - root_mean_squared_error: 36.1113 - val_loss: 1925.8776 - val_root_mean_squared_error: 43.8848\n",
      "Epoch 54/300\n",
      "33/33 [==============================] - 0s 5ms/step - loss: 1285.6139 - root_mean_squared_error: 35.8555 - val_loss: 1900.0322 - val_root_mean_squared_error: 43.5894\n",
      "Epoch 55/300\n",
      "33/33 [==============================] - 0s 5ms/step - loss: 1266.9843 - root_mean_squared_error: 35.5947 - val_loss: 1875.5106 - val_root_mean_squared_error: 43.3072\n",
      "Epoch 56/300\n",
      "33/33 [==============================] - 0s 5ms/step - loss: 1248.9479 - root_mean_squared_error: 35.3405 - val_loss: 1850.7982 - val_root_mean_squared_error: 43.0209\n",
      "Epoch 57/300\n",
      "33/33 [==============================] - 0s 5ms/step - loss: 1230.9670 - root_mean_squared_error: 35.0851 - val_loss: 1826.7279 - val_root_mean_squared_error: 42.7402\n",
      "Epoch 58/300\n",
      "33/33 [==============================] - 0s 5ms/step - loss: 1213.4335 - root_mean_squared_error: 34.8344 - val_loss: 1802.3774 - val_root_mean_squared_error: 42.4544\n",
      "Epoch 59/300\n",
      "33/33 [==============================] - 0s 5ms/step - loss: 1195.9244 - root_mean_squared_error: 34.5821 - val_loss: 1778.7542 - val_root_mean_squared_error: 42.1753\n",
      "Epoch 60/300\n",
      "33/33 [==============================] - 0s 5ms/step - loss: 1178.8594 - root_mean_squared_error: 34.3345 - val_loss: 1754.9760 - val_root_mean_squared_error: 41.8924\n",
      "Epoch 61/300\n",
      "33/33 [==============================] - 0s 5ms/step - loss: 1161.8059 - root_mean_squared_error: 34.0853 - val_loss: 1732.0217 - val_root_mean_squared_error: 41.6176\n",
      "Epoch 62/300\n",
      "33/33 [==============================] - 0s 5ms/step - loss: 1145.1749 - root_mean_squared_error: 33.8404 - val_loss: 1709.0503 - val_root_mean_squared_error: 41.3407\n",
      "Epoch 63/300\n",
      "33/33 [==============================] - 0s 5ms/step - loss: 1128.7943 - root_mean_squared_error: 33.5975 - val_loss: 1686.0326 - val_root_mean_squared_error: 41.0613\n",
      "Epoch 64/300\n",
      "33/33 [==============================] - 0s 5ms/step - loss: 1112.5759 - root_mean_squared_error: 33.3553 - val_loss: 1663.2993 - val_root_mean_squared_error: 40.7836\n",
      "Epoch 65/300\n",
      "33/33 [==============================] - 0s 5ms/step - loss: 1096.4254 - root_mean_squared_error: 33.1123 - val_loss: 1641.6018 - val_root_mean_squared_error: 40.5167\n",
      "Epoch 66/300\n",
      "33/33 [==============================] - 0s 5ms/step - loss: 1080.7759 - root_mean_squared_error: 32.8752 - val_loss: 1619.5253 - val_root_mean_squared_error: 40.2433\n",
      "Epoch 67/300\n",
      "33/33 [==============================] - 0s 5ms/step - loss: 1065.1581 - root_mean_squared_error: 32.6368 - val_loss: 1598.0348 - val_root_mean_squared_error: 39.9754\n",
      "Epoch 68/300\n",
      "33/33 [==============================] - 0s 5ms/step - loss: 1049.9037 - root_mean_squared_error: 32.4022 - val_loss: 1576.4666 - val_root_mean_squared_error: 39.7047\n",
      "Epoch 69/300\n",
      "33/33 [==============================] - 0s 5ms/step - loss: 1034.8519 - root_mean_squared_error: 32.1691 - val_loss: 1554.9683 - val_root_mean_squared_error: 39.4331\n",
      "Epoch 70/300\n",
      "33/33 [==============================] - 0s 5ms/step - loss: 1019.9377 - root_mean_squared_error: 31.9365 - val_loss: 1533.9297 - val_root_mean_squared_error: 39.1654\n",
      "Epoch 71/300\n",
      "33/33 [==============================] - 0s 5ms/step - loss: 1005.2370 - root_mean_squared_error: 31.7055 - val_loss: 1513.3552 - val_root_mean_squared_error: 38.9019\n",
      "Epoch 72/300\n",
      "33/33 [==============================] - 0s 5ms/step - loss: 990.9364 - root_mean_squared_error: 31.4791 - val_loss: 1492.4124 - val_root_mean_squared_error: 38.6318\n",
      "Epoch 73/300\n",
      "33/33 [==============================] - 0s 5ms/step - loss: 976.5615 - root_mean_squared_error: 31.2500 - val_loss: 1472.4642 - val_root_mean_squared_error: 38.3727\n",
      "Epoch 74/300\n",
      "33/33 [==============================] - 0s 5ms/step - loss: 962.6130 - root_mean_squared_error: 31.0260 - val_loss: 1452.4980 - val_root_mean_squared_error: 38.1117\n",
      "Epoch 75/300\n",
      "33/33 [==============================] - 0s 6ms/step - loss: 948.9645 - root_mean_squared_error: 30.8053 - val_loss: 1432.2006 - val_root_mean_squared_error: 37.8444\n",
      "Epoch 76/300\n",
      "33/33 [==============================] - 0s 5ms/step - loss: 935.1669 - root_mean_squared_error: 30.5805 - val_loss: 1413.1915 - val_root_mean_squared_error: 37.5924\n",
      "Epoch 77/300\n",
      "33/33 [==============================] - 0s 5ms/step - loss: 922.0666 - root_mean_squared_error: 30.3655 - val_loss: 1393.2518 - val_root_mean_squared_error: 37.3263\n",
      "Epoch 78/300\n",
      "33/33 [==============================] - 0s 5ms/step - loss: 908.7065 - root_mean_squared_error: 30.1448 - val_loss: 1374.4773 - val_root_mean_squared_error: 37.0739\n",
      "Epoch 79/300\n",
      "33/33 [==============================] - 0s 5ms/step - loss: 895.8047 - root_mean_squared_error: 29.9300 - val_loss: 1355.6061 - val_root_mean_squared_error: 36.8186\n",
      "Epoch 80/300\n",
      "33/33 [==============================] - 0s 5ms/step - loss: 883.1297 - root_mean_squared_error: 29.7175 - val_loss: 1336.6383 - val_root_mean_squared_error: 36.5601\n",
      "Epoch 81/300\n",
      "33/33 [==============================] - 0s 5ms/step - loss: 870.3680 - root_mean_squared_error: 29.5020 - val_loss: 1318.9102 - val_root_mean_squared_error: 36.3168\n",
      "Epoch 82/300\n",
      "33/33 [==============================] - 0s 5ms/step - loss: 858.1322 - root_mean_squared_error: 29.2939 - val_loss: 1300.7240 - val_root_mean_squared_error: 36.0656\n",
      "Epoch 83/300\n",
      "33/33 [==============================] - 0s 5ms/step - loss: 846.0488 - root_mean_squared_error: 29.0869 - val_loss: 1282.3964 - val_root_mean_squared_error: 35.8106\n",
      "Epoch 84/300\n",
      "33/33 [==============================] - 0s 5ms/step - loss: 833.9214 - root_mean_squared_error: 28.8777 - val_loss: 1265.0741 - val_root_mean_squared_error: 35.5679\n",
      "Epoch 85/300\n",
      "33/33 [==============================] - 0s 5ms/step - loss: 822.2339 - root_mean_squared_error: 28.6746 - val_loss: 1247.4524 - val_root_mean_squared_error: 35.3193\n",
      "Epoch 86/300\n",
      "33/33 [==============================] - 0s 5ms/step - loss: 810.6866 - root_mean_squared_error: 28.4726 - val_loss: 1229.8613 - val_root_mean_squared_error: 35.0694\n",
      "Epoch 87/300\n",
      "33/33 [==============================] - 0s 5ms/step - loss: 799.2411 - root_mean_squared_error: 28.2709 - val_loss: 1212.7377 - val_root_mean_squared_error: 34.8244\n",
      "Epoch 88/300\n",
      "33/33 [==============================] - 0s 5ms/step - loss: 788.0075 - root_mean_squared_error: 28.0715 - val_loss: 1195.9517 - val_root_mean_squared_error: 34.5825\n",
      "Epoch 89/300\n",
      "33/33 [==============================] - 0s 5ms/step - loss: 777.0123 - root_mean_squared_error: 27.8749 - val_loss: 1179.2300 - val_root_mean_squared_error: 34.3399\n",
      "Epoch 90/300\n",
      "33/33 [==============================] - 0s 5ms/step - loss: 766.1196 - root_mean_squared_error: 27.6789 - val_loss: 1163.0140 - val_root_mean_squared_error: 34.1030\n",
      "Epoch 91/300\n",
      "33/33 [==============================] - 0s 5ms/step - loss: 755.5110 - root_mean_squared_error: 27.4866 - val_loss: 1146.7048 - val_root_mean_squared_error: 33.8630\n"
     ]
    },
    {
     "name": "stdout",
     "output_type": "stream",
     "text": [
      "Epoch 92/300\n",
      "33/33 [==============================] - 0s 5ms/step - loss: 745.0327 - root_mean_squared_error: 27.2953 - val_loss: 1130.6196 - val_root_mean_squared_error: 33.6247\n",
      "Epoch 93/300\n",
      "33/33 [==============================] - 0s 5ms/step - loss: 734.7825 - root_mean_squared_error: 27.1069 - val_loss: 1114.5200 - val_root_mean_squared_error: 33.3844\n",
      "Epoch 94/300\n",
      "33/33 [==============================] - 0s 5ms/step - loss: 724.6380 - root_mean_squared_error: 26.9191 - val_loss: 1098.7994 - val_root_mean_squared_error: 33.1481\n",
      "Epoch 95/300\n",
      "33/33 [==============================] - 0s 5ms/step - loss: 714.7237 - root_mean_squared_error: 26.7343 - val_loss: 1083.2502 - val_root_mean_squared_error: 32.9128\n",
      "Epoch 96/300\n",
      "33/33 [==============================] - 0s 5ms/step - loss: 704.8903 - root_mean_squared_error: 26.5498 - val_loss: 1068.2570 - val_root_mean_squared_error: 32.6842\n",
      "Epoch 97/300\n",
      "33/33 [==============================] - 0s 5ms/step - loss: 695.3660 - root_mean_squared_error: 26.3698 - val_loss: 1053.1407 - val_root_mean_squared_error: 32.4521\n",
      "Epoch 98/300\n",
      "33/33 [==============================] - 0s 5ms/step - loss: 685.9912 - root_mean_squared_error: 26.1914 - val_loss: 1038.0978 - val_root_mean_squared_error: 32.2195\n",
      "Epoch 99/300\n",
      "33/33 [==============================] - 0s 6ms/step - loss: 676.7050 - root_mean_squared_error: 26.0136 - val_loss: 1023.5289 - val_root_mean_squared_error: 31.9926\n",
      "Epoch 100/300\n",
      "33/33 [==============================] - 0s 5ms/step - loss: 667.6146 - root_mean_squared_error: 25.8382 - val_loss: 1009.2610 - val_root_mean_squared_error: 31.7689\n",
      "Epoch 101/300\n",
      "33/33 [==============================] - 0s 5ms/step - loss: 658.7753 - root_mean_squared_error: 25.6666 - val_loss: 994.9056 - val_root_mean_squared_error: 31.5421\n",
      "Epoch 102/300\n",
      "33/33 [==============================] - 0s 5ms/step - loss: 649.9829 - root_mean_squared_error: 25.4948 - val_loss: 981.0480 - val_root_mean_squared_error: 31.3217\n",
      "Epoch 103/300\n",
      "33/33 [==============================] - 0s 5ms/step - loss: 641.4896 - root_mean_squared_error: 25.3276 - val_loss: 966.9396 - val_root_mean_squared_error: 31.0957\n",
      "Epoch 104/300\n",
      "33/33 [==============================] - 0s 5ms/step - loss: 633.0264 - root_mean_squared_error: 25.1600 - val_loss: 953.3462 - val_root_mean_squared_error: 30.8763\n",
      "Epoch 105/300\n",
      "33/33 [==============================] - 0s 5ms/step - loss: 624.7231 - root_mean_squared_error: 24.9945 - val_loss: 940.1947 - val_root_mean_squared_error: 30.6626\n",
      "Epoch 106/300\n",
      "33/33 [==============================] - 0s 5ms/step - loss: 616.7293 - root_mean_squared_error: 24.8340 - val_loss: 926.6809 - val_root_mean_squared_error: 30.4414\n",
      "Epoch 107/300\n",
      "33/33 [==============================] - 0s 5ms/step - loss: 608.7766 - root_mean_squared_error: 24.6734 - val_loss: 913.5014 - val_root_mean_squared_error: 30.2242\n",
      "Epoch 108/300\n",
      "33/33 [==============================] - 0s 5ms/step - loss: 601.0208 - root_mean_squared_error: 24.5157 - val_loss: 900.4405 - val_root_mean_squared_error: 30.0073\n",
      "Epoch 109/300\n",
      "33/33 [==============================] - 0s 5ms/step - loss: 593.2990 - root_mean_squared_error: 24.3577 - val_loss: 888.1627 - val_root_mean_squared_error: 29.8021\n",
      "Epoch 110/300\n",
      "33/33 [==============================] - 0s 6ms/step - loss: 586.0137 - root_mean_squared_error: 24.2077 - val_loss: 875.0839 - val_root_mean_squared_error: 29.5818\n",
      "Epoch 111/300\n",
      "33/33 [==============================] - 0s 5ms/step - loss: 578.5167 - root_mean_squared_error: 24.0524 - val_loss: 863.2290 - val_root_mean_squared_error: 29.3808\n",
      "Epoch 112/300\n",
      "33/33 [==============================] - 0s 5ms/step - loss: 571.5051 - root_mean_squared_error: 23.9062 - val_loss: 850.6591 - val_root_mean_squared_error: 29.1661\n",
      "Epoch 113/300\n",
      "33/33 [==============================] - 0s 5ms/step - loss: 564.4420 - root_mean_squared_error: 23.7580 - val_loss: 838.5913 - val_root_mean_squared_error: 28.9584\n",
      "Epoch 114/300\n",
      "33/33 [==============================] - 0s 6ms/step - loss: 557.5823 - root_mean_squared_error: 23.6132 - val_loss: 826.6894 - val_root_mean_squared_error: 28.7522\n",
      "Epoch 115/300\n",
      "33/33 [==============================] - 0s 6ms/step - loss: 550.8033 - root_mean_squared_error: 23.4692 - val_loss: 815.3226 - val_root_mean_squared_error: 28.5539\n",
      "Epoch 116/300\n",
      "33/33 [==============================] - 0s 5ms/step - loss: 544.3136 - root_mean_squared_error: 23.3305 - val_loss: 803.7325 - val_root_mean_squared_error: 28.3502\n",
      "Epoch 117/300\n",
      "33/33 [==============================] - 0s 5ms/step - loss: 537.8987 - root_mean_squared_error: 23.1926 - val_loss: 792.2143 - val_root_mean_squared_error: 28.1463\n",
      "Epoch 118/300\n",
      "33/33 [==============================] - 0s 5ms/step - loss: 531.5689 - root_mean_squared_error: 23.0558 - val_loss: 781.0763 - val_root_mean_squared_error: 27.9477\n",
      "Epoch 119/300\n",
      "33/33 [==============================] - 0s 6ms/step - loss: 525.3784 - root_mean_squared_error: 22.9211 - val_loss: 770.2712 - val_root_mean_squared_error: 27.7538\n",
      "Epoch 120/300\n",
      "33/33 [==============================] - 0s 6ms/step - loss: 519.3271 - root_mean_squared_error: 22.7887 - val_loss: 759.8816 - val_root_mean_squared_error: 27.5660\n",
      "Epoch 121/300\n",
      "33/33 [==============================] - 0s 5ms/step - loss: 513.5619 - root_mean_squared_error: 22.6619 - val_loss: 748.8829 - val_root_mean_squared_error: 27.3657\n",
      "Epoch 122/300\n",
      "33/33 [==============================] - 0s 6ms/step - loss: 507.7831 - root_mean_squared_error: 22.5340 - val_loss: 738.2598 - val_root_mean_squared_error: 27.1709\n",
      "Epoch 123/300\n",
      "33/33 [==============================] - 0s 5ms/step - loss: 502.1642 - root_mean_squared_error: 22.4090 - val_loss: 727.9822 - val_root_mean_squared_error: 26.9811\n",
      "Epoch 124/300\n",
      "33/33 [==============================] - 0s 7ms/step - loss: 496.5739 - root_mean_squared_error: 22.2839 - val_loss: 718.6656 - val_root_mean_squared_error: 26.8079\n",
      "Epoch 125/300\n",
      "33/33 [==============================] - 0s 6ms/step - loss: 491.4171 - root_mean_squared_error: 22.1679 - val_loss: 707.9546 - val_root_mean_squared_error: 26.6074\n",
      "Epoch 126/300\n",
      "33/33 [==============================] - 0s 5ms/step - loss: 486.0441 - root_mean_squared_error: 22.0464 - val_loss: 698.3622 - val_root_mean_squared_error: 26.4265\n",
      "Epoch 127/300\n",
      "33/33 [==============================] - 0s 5ms/step - loss: 480.9097 - root_mean_squared_error: 21.9297 - val_loss: 689.0809 - val_root_mean_squared_error: 26.2504\n",
      "Epoch 128/300\n",
      "33/33 [==============================] - 0s 5ms/step - loss: 476.0283 - root_mean_squared_error: 21.8181 - val_loss: 679.2593 - val_root_mean_squared_error: 26.0626\n",
      "Epoch 129/300\n",
      "33/33 [==============================] - 0s 5ms/step - loss: 471.1368 - root_mean_squared_error: 21.7057 - val_loss: 669.8312 - val_root_mean_squared_error: 25.8811\n",
      "Epoch 130/300\n",
      "33/33 [==============================] - 0s 5ms/step - loss: 466.4287 - root_mean_squared_error: 21.5970 - val_loss: 660.5723 - val_root_mean_squared_error: 25.7016\n",
      "Epoch 131/300\n",
      "33/33 [==============================] - 0s 5ms/step - loss: 461.7609 - root_mean_squared_error: 21.4886 - val_loss: 651.7314 - val_root_mean_squared_error: 25.5290\n",
      "Epoch 132/300\n",
      "33/33 [==============================] - 0s 5ms/step - loss: 457.2937 - root_mean_squared_error: 21.3844 - val_loss: 642.8660 - val_root_mean_squared_error: 25.3548\n",
      "Epoch 133/300\n",
      "33/33 [==============================] - 0s 5ms/step - loss: 452.9599 - root_mean_squared_error: 21.2829 - val_loss: 633.8887 - val_root_mean_squared_error: 25.1771\n",
      "Epoch 134/300\n",
      "33/33 [==============================] - 0s 5ms/step - loss: 448.6996 - root_mean_squared_error: 21.1825 - val_loss: 625.1260 - val_root_mean_squared_error: 25.0025\n",
      "Epoch 135/300\n",
      "33/33 [==============================] - 0s 5ms/step - loss: 444.4165 - root_mean_squared_error: 21.0812 - val_loss: 617.3635 - val_root_mean_squared_error: 24.8468\n",
      "Epoch 136/300\n",
      "33/33 [==============================] - 0s 5ms/step - loss: 440.6291 - root_mean_squared_error: 20.9912 - val_loss: 608.3007 - val_root_mean_squared_error: 24.6638\n",
      "Epoch 137/300\n",
      "33/33 [==============================] - 0s 6ms/step - loss: 436.4568 - root_mean_squared_error: 20.8916 - val_loss: 600.7936 - val_root_mean_squared_error: 24.5111\n"
     ]
    },
    {
     "name": "stdout",
     "output_type": "stream",
     "text": [
      "Epoch 138/300\n",
      "33/33 [==============================] - 0s 5ms/step - loss: 432.7436 - root_mean_squared_error: 20.8025 - val_loss: 592.6555 - val_root_mean_squared_error: 24.3445\n",
      "Epoch 139/300\n",
      "33/33 [==============================] - 0s 5ms/step - loss: 428.9249 - root_mean_squared_error: 20.7105 - val_loss: 585.3265 - val_root_mean_squared_error: 24.1935\n",
      "Epoch 140/300\n",
      "33/33 [==============================] - 0s 5ms/step - loss: 425.4618 - root_mean_squared_error: 20.6267 - val_loss: 576.9622 - val_root_mean_squared_error: 24.0200\n",
      "Epoch 141/300\n",
      "33/33 [==============================] - 0s 5ms/step - loss: 421.6375 - root_mean_squared_error: 20.5338 - val_loss: 569.8096 - val_root_mean_squared_error: 23.8707\n",
      "Epoch 142/300\n",
      "33/33 [==============================] - 0s 5ms/step - loss: 406.5883 - root_mean_squared_error: 20.1640 - val_loss: 564.1920 - val_root_mean_squared_error: 23.7527\n",
      "Epoch 143/300\n",
      "33/33 [==============================] - 0s 5ms/step - loss: 398.7446 - root_mean_squared_error: 19.9686 - val_loss: 554.3830 - val_root_mean_squared_error: 23.5453\n",
      "Epoch 144/300\n",
      "33/33 [==============================] - 0s 6ms/step - loss: 382.6650 - root_mean_squared_error: 19.5618 - val_loss: 546.9037 - val_root_mean_squared_error: 23.3860\n",
      "Epoch 145/300\n",
      "33/33 [==============================] - 0s 5ms/step - loss: 369.0234 - root_mean_squared_error: 19.2100 - val_loss: 536.7773 - val_root_mean_squared_error: 23.1685\n",
      "Epoch 146/300\n",
      "33/33 [==============================] - 0s 5ms/step - loss: 363.1955 - root_mean_squared_error: 19.0577 - val_loss: 528.1688 - val_root_mean_squared_error: 22.9819\n",
      "Epoch 147/300\n",
      "33/33 [==============================] - 0s 5ms/step - loss: 356.2976 - root_mean_squared_error: 18.8758 - val_loss: 518.4963 - val_root_mean_squared_error: 22.7705\n",
      "Epoch 148/300\n",
      "33/33 [==============================] - 0s 5ms/step - loss: 351.7802 - root_mean_squared_error: 18.7558 - val_loss: 510.7168 - val_root_mean_squared_error: 22.5990\n",
      "Epoch 149/300\n",
      "33/33 [==============================] - 0s 5ms/step - loss: 344.7981 - root_mean_squared_error: 18.5687 - val_loss: 501.4251 - val_root_mean_squared_error: 22.3925\n",
      "Epoch 150/300\n",
      "33/33 [==============================] - 0s 5ms/step - loss: 340.0609 - root_mean_squared_error: 18.4407 - val_loss: 493.7380 - val_root_mean_squared_error: 22.2202\n",
      "Epoch 151/300\n",
      "33/33 [==============================] - 0s 5ms/step - loss: 334.8307 - root_mean_squared_error: 18.2984 - val_loss: 484.4587 - val_root_mean_squared_error: 22.0104\n",
      "Epoch 152/300\n",
      "33/33 [==============================] - 0s 5ms/step - loss: 329.4512 - root_mean_squared_error: 18.1508 - val_loss: 476.2226 - val_root_mean_squared_error: 21.8225\n",
      "Epoch 153/300\n",
      "33/33 [==============================] - 0s 5ms/step - loss: 324.9534 - root_mean_squared_error: 18.0265 - val_loss: 468.6848 - val_root_mean_squared_error: 21.6491\n",
      "Epoch 154/300\n",
      "33/33 [==============================] - 0s 5ms/step - loss: 320.7078 - root_mean_squared_error: 17.9083 - val_loss: 460.2757 - val_root_mean_squared_error: 21.4540\n",
      "Epoch 155/300\n",
      "33/33 [==============================] - 0s 5ms/step - loss: 315.8192 - root_mean_squared_error: 17.7713 - val_loss: 452.2054 - val_root_mean_squared_error: 21.2651\n",
      "Epoch 156/300\n",
      "33/33 [==============================] - 0s 5ms/step - loss: 310.0569 - root_mean_squared_error: 17.6084 - val_loss: 444.7273 - val_root_mean_squared_error: 21.0886\n",
      "Epoch 157/300\n",
      "33/33 [==============================] - 0s 6ms/step - loss: 306.9835 - root_mean_squared_error: 17.5209 - val_loss: 438.7486 - val_root_mean_squared_error: 20.9463\n",
      "Epoch 158/300\n",
      "33/33 [==============================] - 0s 6ms/step - loss: 301.8725 - root_mean_squared_error: 17.3745 - val_loss: 429.9763 - val_root_mean_squared_error: 20.7359\n",
      "Epoch 159/300\n",
      "33/33 [==============================] - 0s 5ms/step - loss: 296.8378 - root_mean_squared_error: 17.2290 - val_loss: 422.6568 - val_root_mean_squared_error: 20.5586\n",
      "Epoch 160/300\n",
      "33/33 [==============================] - 0s 5ms/step - loss: 294.7296 - root_mean_squared_error: 17.1677 - val_loss: 415.8882 - val_root_mean_squared_error: 20.3933\n",
      "Epoch 161/300\n",
      "33/33 [==============================] - 0s 5ms/step - loss: 289.0116 - root_mean_squared_error: 17.0003 - val_loss: 408.9849 - val_root_mean_squared_error: 20.2234\n",
      "Epoch 162/300\n",
      "33/33 [==============================] - 0s 5ms/step - loss: 286.1738 - root_mean_squared_error: 16.9167 - val_loss: 401.6409 - val_root_mean_squared_error: 20.0410\n",
      "Epoch 163/300\n",
      "33/33 [==============================] - 0s 5ms/step - loss: 280.4044 - root_mean_squared_error: 16.7453 - val_loss: 395.0990 - val_root_mean_squared_error: 19.8771\n",
      "Epoch 164/300\n",
      "33/33 [==============================] - 0s 5ms/step - loss: 276.4487 - root_mean_squared_error: 16.6267 - val_loss: 388.6676 - val_root_mean_squared_error: 19.7147\n",
      "Epoch 165/300\n",
      "33/33 [==============================] - 0s 5ms/step - loss: 272.9116 - root_mean_squared_error: 16.5200 - val_loss: 382.3452 - val_root_mean_squared_error: 19.5536\n",
      "Epoch 166/300\n",
      "33/33 [==============================] - 0s 6ms/step - loss: 269.5215 - root_mean_squared_error: 16.4171 - val_loss: 376.0735 - val_root_mean_squared_error: 19.3926\n",
      "Epoch 167/300\n",
      "33/33 [==============================] - 0s 5ms/step - loss: 266.0441 - root_mean_squared_error: 16.3109 - val_loss: 369.8075 - val_root_mean_squared_error: 19.2304\n",
      "Epoch 168/300\n",
      "33/33 [==============================] - 0s 5ms/step - loss: 261.7103 - root_mean_squared_error: 16.1775 - val_loss: 363.4170 - val_root_mean_squared_error: 19.0635\n",
      "Epoch 169/300\n",
      "33/33 [==============================] - 0s 6ms/step - loss: 261.2766 - root_mean_squared_error: 16.1641 - val_loss: 357.5784 - val_root_mean_squared_error: 18.9097\n",
      "Epoch 170/300\n",
      "33/33 [==============================] - 0s 5ms/step - loss: 254.6421 - root_mean_squared_error: 15.9575 - val_loss: 351.7359 - val_root_mean_squared_error: 18.7546\n",
      "Epoch 171/300\n",
      "33/33 [==============================] - 0s 5ms/step - loss: 252.5725 - root_mean_squared_error: 15.8925 - val_loss: 346.2837 - val_root_mean_squared_error: 18.6087\n",
      "Epoch 172/300\n",
      "33/33 [==============================] - 0s 5ms/step - loss: 251.0752 - root_mean_squared_error: 15.8454 - val_loss: 340.5021 - val_root_mean_squared_error: 18.4527\n",
      "Epoch 173/300\n",
      "33/33 [==============================] - 0s 6ms/step - loss: 245.7049 - root_mean_squared_error: 15.6750 - val_loss: 335.0536 - val_root_mean_squared_error: 18.3045\n",
      "Epoch 174/300\n",
      "33/33 [==============================] - 0s 5ms/step - loss: 241.4640 - root_mean_squared_error: 15.5391 - val_loss: 329.7685 - val_root_mean_squared_error: 18.1595\n",
      "Epoch 175/300\n",
      "33/33 [==============================] - 0s 5ms/step - loss: 238.0726 - root_mean_squared_error: 15.4296 - val_loss: 324.3842 - val_root_mean_squared_error: 18.0107\n",
      "Epoch 176/300\n",
      "33/33 [==============================] - 0s 5ms/step - loss: 236.9221 - root_mean_squared_error: 15.3923 - val_loss: 319.3152 - val_root_mean_squared_error: 17.8694\n",
      "Epoch 177/300\n",
      "33/33 [==============================] - 0s 5ms/step - loss: 233.5425 - root_mean_squared_error: 15.2821 - val_loss: 314.6624 - val_root_mean_squared_error: 17.7387\n",
      "Epoch 178/300\n",
      "33/33 [==============================] - 0s 5ms/step - loss: 230.6113 - root_mean_squared_error: 15.1859 - val_loss: 309.5473 - val_root_mean_squared_error: 17.5940\n",
      "Epoch 179/300\n",
      "33/33 [==============================] - 0s 5ms/step - loss: 229.8648 - root_mean_squared_error: 15.1613 - val_loss: 304.4644 - val_root_mean_squared_error: 17.4489\n",
      "Epoch 180/300\n",
      "33/33 [==============================] - 0s 5ms/step - loss: 225.1206 - root_mean_squared_error: 15.0040 - val_loss: 299.5120 - val_root_mean_squared_error: 17.3064\n",
      "Epoch 181/300\n",
      "33/33 [==============================] - 0s 5ms/step - loss: 221.0279 - root_mean_squared_error: 14.8670 - val_loss: 294.9987 - val_root_mean_squared_error: 17.1755\n",
      "Epoch 182/300\n",
      "33/33 [==============================] - 0s 5ms/step - loss: 219.7668 - root_mean_squared_error: 14.8245 - val_loss: 290.3665 - val_root_mean_squared_error: 17.0401\n",
      "Epoch 183/300\n",
      "33/33 [==============================] - 0s 5ms/step - loss: 216.0518 - root_mean_squared_error: 14.6987 - val_loss: 286.1769 - val_root_mean_squared_error: 16.9168\n"
     ]
    },
    {
     "name": "stdout",
     "output_type": "stream",
     "text": [
      "Epoch 184/300\n",
      "33/33 [==============================] - 0s 5ms/step - loss: 217.0768 - root_mean_squared_error: 14.7335 - val_loss: 282.2113 - val_root_mean_squared_error: 16.7991\n",
      "Epoch 185/300\n",
      "33/33 [==============================] - 0s 5ms/step - loss: 212.8738 - root_mean_squared_error: 14.5902 - val_loss: 277.3229 - val_root_mean_squared_error: 16.6530\n",
      "Epoch 186/300\n",
      "33/33 [==============================] - 0s 5ms/step - loss: 209.8314 - root_mean_squared_error: 14.4856 - val_loss: 273.3396 - val_root_mean_squared_error: 16.5330\n",
      "Epoch 187/300\n",
      "33/33 [==============================] - 0s 5ms/step - loss: 207.8821 - root_mean_squared_error: 14.4181 - val_loss: 269.2683 - val_root_mean_squared_error: 16.4094\n",
      "Epoch 188/300\n",
      "33/33 [==============================] - 0s 5ms/step - loss: 203.8273 - root_mean_squared_error: 14.2768 - val_loss: 266.2232 - val_root_mean_squared_error: 16.3163\n",
      "Epoch 189/300\n",
      "33/33 [==============================] - 0s 5ms/step - loss: 202.0359 - root_mean_squared_error: 14.2139 - val_loss: 261.2838 - val_root_mean_squared_error: 16.1643\n",
      "Epoch 190/300\n",
      "33/33 [==============================] - 0s 5ms/step - loss: 199.5544 - root_mean_squared_error: 14.1264 - val_loss: 258.6461 - val_root_mean_squared_error: 16.0825\n",
      "Epoch 191/300\n",
      "33/33 [==============================] - 0s 5ms/step - loss: 197.1035 - root_mean_squared_error: 14.0394 - val_loss: 254.0282 - val_root_mean_squared_error: 15.9383\n",
      "Epoch 192/300\n",
      "33/33 [==============================] - 0s 5ms/step - loss: 196.2934 - root_mean_squared_error: 14.0105 - val_loss: 249.9410 - val_root_mean_squared_error: 15.8095\n",
      "Epoch 193/300\n",
      "33/33 [==============================] - 0s 5ms/step - loss: 195.4096 - root_mean_squared_error: 13.9789 - val_loss: 246.8019 - val_root_mean_squared_error: 15.7099\n",
      "Epoch 194/300\n",
      "33/33 [==============================] - 0s 5ms/step - loss: 191.8922 - root_mean_squared_error: 13.8525 - val_loss: 243.1340 - val_root_mean_squared_error: 15.5928\n",
      "Epoch 195/300\n",
      "33/33 [==============================] - 0s 5ms/step - loss: 191.1825 - root_mean_squared_error: 13.8269 - val_loss: 239.5631 - val_root_mean_squared_error: 15.4778\n",
      "Epoch 196/300\n",
      "33/33 [==============================] - 0s 5ms/step - loss: 190.3662 - root_mean_squared_error: 13.7973 - val_loss: 236.2642 - val_root_mean_squared_error: 15.3709\n",
      "Epoch 197/300\n",
      "33/33 [==============================] - 0s 5ms/step - loss: 185.7220 - root_mean_squared_error: 13.6280 - val_loss: 233.9377 - val_root_mean_squared_error: 15.2950\n",
      "Epoch 198/300\n",
      "33/33 [==============================] - 0s 5ms/step - loss: 184.0387 - root_mean_squared_error: 13.5661 - val_loss: 230.3289 - val_root_mean_squared_error: 15.1766\n",
      "Epoch 199/300\n",
      "33/33 [==============================] - 0s 5ms/step - loss: 182.0028 - root_mean_squared_error: 13.4908 - val_loss: 226.9257 - val_root_mean_squared_error: 15.0641\n",
      "Epoch 200/300\n",
      "33/33 [==============================] - 0s 5ms/step - loss: 180.7085 - root_mean_squared_error: 13.4428 - val_loss: 223.8510 - val_root_mean_squared_error: 14.9617\n",
      "Epoch 201/300\n",
      "33/33 [==============================] - 0s 5ms/step - loss: 180.3644 - root_mean_squared_error: 13.4300 - val_loss: 222.4149 - val_root_mean_squared_error: 14.9136\n",
      "Epoch 202/300\n",
      "33/33 [==============================] - 0s 5ms/step - loss: 176.9257 - root_mean_squared_error: 13.3013 - val_loss: 218.9858 - val_root_mean_squared_error: 14.7982\n",
      "Epoch 203/300\n",
      "33/33 [==============================] - 0s 5ms/step - loss: 176.7530 - root_mean_squared_error: 13.2949 - val_loss: 215.0769 - val_root_mean_squared_error: 14.6655\n",
      "Epoch 204/300\n",
      "33/33 [==============================] - 0s 5ms/step - loss: 172.7528 - root_mean_squared_error: 13.1435 - val_loss: 212.2428 - val_root_mean_squared_error: 14.5686\n",
      "Epoch 205/300\n",
      "33/33 [==============================] - 0s 5ms/step - loss: 174.5659 - root_mean_squared_error: 13.2123 - val_loss: 210.6295 - val_root_mean_squared_error: 14.5131\n",
      "Epoch 206/300\n",
      "33/33 [==============================] - 0s 5ms/step - loss: 174.7531 - root_mean_squared_error: 13.2194 - val_loss: 206.8366 - val_root_mean_squared_error: 14.3818\n",
      "Epoch 207/300\n",
      "33/33 [==============================] - 0s 5ms/step - loss: 170.4909 - root_mean_squared_error: 13.0572 - val_loss: 204.3222 - val_root_mean_squared_error: 14.2941\n",
      "Epoch 208/300\n",
      "33/33 [==============================] - 0s 5ms/step - loss: 168.5643 - root_mean_squared_error: 12.9832 - val_loss: 201.7184 - val_root_mean_squared_error: 14.2028\n",
      "Epoch 209/300\n",
      "33/33 [==============================] - 0s 5ms/step - loss: 167.9309 - root_mean_squared_error: 12.9588 - val_loss: 199.6972 - val_root_mean_squared_error: 14.1314\n",
      "Epoch 210/300\n",
      "33/33 [==============================] - 0s 5ms/step - loss: 163.5265 - root_mean_squared_error: 12.7877 - val_loss: 197.2197 - val_root_mean_squared_error: 14.0435\n",
      "Epoch 211/300\n",
      "33/33 [==============================] - 0s 5ms/step - loss: 161.1727 - root_mean_squared_error: 12.6954 - val_loss: 194.7964 - val_root_mean_squared_error: 13.9570\n",
      "Epoch 212/300\n",
      "33/33 [==============================] - 0s 5ms/step - loss: 159.8622 - root_mean_squared_error: 12.6437 - val_loss: 192.4201 - val_root_mean_squared_error: 13.8716\n",
      "Epoch 213/300\n",
      "33/33 [==============================] - 0s 5ms/step - loss: 158.1768 - root_mean_squared_error: 12.5768 - val_loss: 192.8531 - val_root_mean_squared_error: 13.8872\n",
      "Epoch 214/300\n",
      "33/33 [==============================] - 0s 5ms/step - loss: 157.4927 - root_mean_squared_error: 12.5496 - val_loss: 187.6603 - val_root_mean_squared_error: 13.6989\n",
      "Epoch 215/300\n",
      "33/33 [==============================] - 0s 5ms/step - loss: 155.4723 - root_mean_squared_error: 12.4689 - val_loss: 186.2633 - val_root_mean_squared_error: 13.6478\n",
      "Epoch 216/300\n",
      "33/33 [==============================] - 0s 5ms/step - loss: 154.5653 - root_mean_squared_error: 12.4324 - val_loss: 183.8080 - val_root_mean_squared_error: 13.5576\n",
      "Epoch 217/300\n",
      "33/33 [==============================] - 0s 5ms/step - loss: 152.0789 - root_mean_squared_error: 12.3320 - val_loss: 183.4275 - val_root_mean_squared_error: 13.5435\n",
      "Epoch 218/300\n",
      "33/33 [==============================] - 0s 5ms/step - loss: 155.2802 - root_mean_squared_error: 12.4611 - val_loss: 180.1294 - val_root_mean_squared_error: 13.4212\n",
      "Epoch 219/300\n",
      "33/33 [==============================] - 0s 5ms/step - loss: 151.4004 - root_mean_squared_error: 12.3045 - val_loss: 178.8370 - val_root_mean_squared_error: 13.3730\n",
      "Epoch 220/300\n",
      "33/33 [==============================] - 0s 5ms/step - loss: 150.0449 - root_mean_squared_error: 12.2493 - val_loss: 176.3766 - val_root_mean_squared_error: 13.2807\n",
      "Epoch 221/300\n",
      "33/33 [==============================] - 0s 5ms/step - loss: 149.7710 - root_mean_squared_error: 12.2381 - val_loss: 174.1543 - val_root_mean_squared_error: 13.1968\n",
      "Epoch 222/300\n",
      "33/33 [==============================] - 0s 5ms/step - loss: 147.8213 - root_mean_squared_error: 12.1582 - val_loss: 172.6383 - val_root_mean_squared_error: 13.1392\n",
      "Epoch 223/300\n",
      "33/33 [==============================] - 0s 5ms/step - loss: 147.4485 - root_mean_squared_error: 12.1428 - val_loss: 173.4980 - val_root_mean_squared_error: 13.1719\n",
      "Epoch 224/300\n",
      "33/33 [==============================] - 0s 5ms/step - loss: 145.1744 - root_mean_squared_error: 12.0488 - val_loss: 169.6002 - val_root_mean_squared_error: 13.0231\n",
      "Epoch 225/300\n",
      "33/33 [==============================] - 0s 5ms/step - loss: 143.1377 - root_mean_squared_error: 11.9640 - val_loss: 168.3103 - val_root_mean_squared_error: 12.9734\n",
      "Epoch 226/300\n",
      "33/33 [==============================] - 0s 5ms/step - loss: 142.8523 - root_mean_squared_error: 11.9521 - val_loss: 166.8756 - val_root_mean_squared_error: 12.9180\n",
      "Epoch 227/300\n",
      "33/33 [==============================] - 0s 5ms/step - loss: 141.8632 - root_mean_squared_error: 11.9106 - val_loss: 164.7428 - val_root_mean_squared_error: 12.8352\n",
      "Epoch 228/300\n",
      "33/33 [==============================] - 0s 5ms/step - loss: 139.7249 - root_mean_squared_error: 11.8205 - val_loss: 163.1315 - val_root_mean_squared_error: 12.7723\n",
      "Epoch 229/300\n",
      "33/33 [==============================] - 0s 5ms/step - loss: 140.0118 - root_mean_squared_error: 11.8327 - val_loss: 162.3783 - val_root_mean_squared_error: 12.7428\n"
     ]
    },
    {
     "name": "stdout",
     "output_type": "stream",
     "text": [
      "Epoch 230/300\n",
      "33/33 [==============================] - 0s 5ms/step - loss: 138.5916 - root_mean_squared_error: 11.7725 - val_loss: 161.5397 - val_root_mean_squared_error: 12.7098\n",
      "Epoch 231/300\n",
      "33/33 [==============================] - 0s 5ms/step - loss: 137.1660 - root_mean_squared_error: 11.7118 - val_loss: 159.4019 - val_root_mean_squared_error: 12.6254\n",
      "Epoch 232/300\n",
      "33/33 [==============================] - 0s 5ms/step - loss: 136.8724 - root_mean_squared_error: 11.6992 - val_loss: 159.8694 - val_root_mean_squared_error: 12.6439\n",
      "Epoch 233/300\n",
      "33/33 [==============================] - 0s 5ms/step - loss: 138.6349 - root_mean_squared_error: 11.7743 - val_loss: 158.5690 - val_root_mean_squared_error: 12.5924\n",
      "Epoch 234/300\n",
      "33/33 [==============================] - 0s 5ms/step - loss: 137.0865 - root_mean_squared_error: 11.7084 - val_loss: 158.6007 - val_root_mean_squared_error: 12.5937\n",
      "Epoch 235/300\n",
      "33/33 [==============================] - 0s 5ms/step - loss: 131.0111 - root_mean_squared_error: 11.4460 - val_loss: 159.4997 - val_root_mean_squared_error: 12.6293\n",
      "Epoch 236/300\n",
      "33/33 [==============================] - 0s 5ms/step - loss: 133.7634 - root_mean_squared_error: 11.5656 - val_loss: 154.1108 - val_root_mean_squared_error: 12.4141\n",
      "Epoch 237/300\n",
      "33/33 [==============================] - 0s 6ms/step - loss: 132.4577 - root_mean_squared_error: 11.5090 - val_loss: 153.8680 - val_root_mean_squared_error: 12.4044\n",
      "Epoch 238/300\n",
      "33/33 [==============================] - 0s 5ms/step - loss: 134.7744 - root_mean_squared_error: 11.6092 - val_loss: 154.3492 - val_root_mean_squared_error: 12.4237\n",
      "Epoch 239/300\n",
      "33/33 [==============================] - 0s 5ms/step - loss: 131.6227 - root_mean_squared_error: 11.4727 - val_loss: 152.4437 - val_root_mean_squared_error: 12.3468\n",
      "Epoch 240/300\n",
      "33/33 [==============================] - 0s 5ms/step - loss: 130.8692 - root_mean_squared_error: 11.4398 - val_loss: 151.2101 - val_root_mean_squared_error: 12.2968\n",
      "Epoch 241/300\n",
      "33/33 [==============================] - 0s 5ms/step - loss: 129.8815 - root_mean_squared_error: 11.3966 - val_loss: 148.9640 - val_root_mean_squared_error: 12.2051\n",
      "Epoch 242/300\n",
      "33/33 [==============================] - 0s 5ms/step - loss: 128.8527 - root_mean_squared_error: 11.3513 - val_loss: 148.8813 - val_root_mean_squared_error: 12.2017\n",
      "Epoch 243/300\n",
      "33/33 [==============================] - 0s 5ms/step - loss: 128.6195 - root_mean_squared_error: 11.3411 - val_loss: 151.2623 - val_root_mean_squared_error: 12.2989\n",
      "Epoch 244/300\n",
      "33/33 [==============================] - 0s 5ms/step - loss: 129.6658 - root_mean_squared_error: 11.3871 - val_loss: 149.0275 - val_root_mean_squared_error: 12.2077\n",
      "Epoch 245/300\n",
      "33/33 [==============================] - 0s 5ms/step - loss: 127.6396 - root_mean_squared_error: 11.2978 - val_loss: 146.9165 - val_root_mean_squared_error: 12.1209\n",
      "Epoch 246/300\n",
      "33/33 [==============================] - 0s 5ms/step - loss: 125.3699 - root_mean_squared_error: 11.1969 - val_loss: 145.5289 - val_root_mean_squared_error: 12.0635\n",
      "Epoch 247/300\n",
      "33/33 [==============================] - 0s 5ms/step - loss: 126.3129 - root_mean_squared_error: 11.2389 - val_loss: 147.8116 - val_root_mean_squared_error: 12.1578\n",
      "Epoch 248/300\n",
      "33/33 [==============================] - 0s 5ms/step - loss: 127.0244 - root_mean_squared_error: 11.2705 - val_loss: 146.7777 - val_root_mean_squared_error: 12.1152\n",
      "Epoch 249/300\n",
      "33/33 [==============================] - 0s 5ms/step - loss: 124.3606 - root_mean_squared_error: 11.1517 - val_loss: 142.5938 - val_root_mean_squared_error: 11.9413\n",
      "Epoch 250/300\n",
      "33/33 [==============================] - 0s 5ms/step - loss: 123.0498 - root_mean_squared_error: 11.0928 - val_loss: 143.3350 - val_root_mean_squared_error: 11.9723\n",
      "Epoch 251/300\n",
      "33/33 [==============================] - 0s 5ms/step - loss: 122.7379 - root_mean_squared_error: 11.0787 - val_loss: 143.3944 - val_root_mean_squared_error: 11.9747\n",
      "Epoch 252/300\n",
      "33/33 [==============================] - 0s 5ms/step - loss: 122.7017 - root_mean_squared_error: 11.0771 - val_loss: 143.3670 - val_root_mean_squared_error: 11.9736\n",
      "Epoch 253/300\n",
      "33/33 [==============================] - 0s 5ms/step - loss: 119.6075 - root_mean_squared_error: 10.9365 - val_loss: 140.1810 - val_root_mean_squared_error: 11.8398\n",
      "Epoch 254/300\n",
      "33/33 [==============================] - 0s 5ms/step - loss: 119.6585 - root_mean_squared_error: 10.9389 - val_loss: 139.7917 - val_root_mean_squared_error: 11.8234\n",
      "Epoch 255/300\n",
      "33/33 [==============================] - 0s 5ms/step - loss: 119.9044 - root_mean_squared_error: 10.9501 - val_loss: 139.4932 - val_root_mean_squared_error: 11.8107\n",
      "Epoch 256/300\n",
      "33/33 [==============================] - 0s 5ms/step - loss: 118.8516 - root_mean_squared_error: 10.9019 - val_loss: 139.2658 - val_root_mean_squared_error: 11.8011\n",
      "Epoch 257/300\n",
      "33/33 [==============================] - 0s 5ms/step - loss: 117.5184 - root_mean_squared_error: 10.8406 - val_loss: 139.0562 - val_root_mean_squared_error: 11.7922\n",
      "Epoch 258/300\n",
      "33/33 [==============================] - 0s 5ms/step - loss: 119.9353 - root_mean_squared_error: 10.9515 - val_loss: 138.4410 - val_root_mean_squared_error: 11.7661\n",
      "Epoch 259/300\n",
      "33/33 [==============================] - 0s 5ms/step - loss: 117.2540 - root_mean_squared_error: 10.8284 - val_loss: 136.8663 - val_root_mean_squared_error: 11.6990\n",
      "Epoch 260/300\n",
      "33/33 [==============================] - 0s 5ms/step - loss: 115.5093 - root_mean_squared_error: 10.7475 - val_loss: 137.1140 - val_root_mean_squared_error: 11.7096\n",
      "Epoch 261/300\n",
      "33/33 [==============================] - 0s 5ms/step - loss: 115.1889 - root_mean_squared_error: 10.7326 - val_loss: 137.2668 - val_root_mean_squared_error: 11.7161\n",
      "Epoch 262/300\n",
      "33/33 [==============================] - 0s 6ms/step - loss: 117.3964 - root_mean_squared_error: 10.8350 - val_loss: 136.8444 - val_root_mean_squared_error: 11.6981\n",
      "Epoch 263/300\n",
      "33/33 [==============================] - 0s 5ms/step - loss: 116.9125 - root_mean_squared_error: 10.8126 - val_loss: 136.2548 - val_root_mean_squared_error: 11.6728\n",
      "Epoch 264/300\n",
      "33/33 [==============================] - 0s 5ms/step - loss: 117.2119 - root_mean_squared_error: 10.8264 - val_loss: 138.7811 - val_root_mean_squared_error: 11.7805\n",
      "Epoch 265/300\n",
      "33/33 [==============================] - 0s 5ms/step - loss: 117.8182 - root_mean_squared_error: 10.8544 - val_loss: 136.6744 - val_root_mean_squared_error: 11.6908\n",
      "Epoch 266/300\n",
      "33/33 [==============================] - 0s 5ms/step - loss: 115.2169 - root_mean_squared_error: 10.7339 - val_loss: 137.8416 - val_root_mean_squared_error: 11.7406\n",
      "Epoch 267/300\n",
      "33/33 [==============================] - 0s 5ms/step - loss: 113.7444 - root_mean_squared_error: 10.6651 - val_loss: 135.7349 - val_root_mean_squared_error: 11.6505\n",
      "Epoch 268/300\n",
      "33/33 [==============================] - 0s 5ms/step - loss: 113.4430 - root_mean_squared_error: 10.6510 - val_loss: 134.5985 - val_root_mean_squared_error: 11.6017\n",
      "Epoch 269/300\n",
      "33/33 [==============================] - 0s 5ms/step - loss: 114.2449 - root_mean_squared_error: 10.6885 - val_loss: 134.5340 - val_root_mean_squared_error: 11.5989\n",
      "Epoch 270/300\n",
      "33/33 [==============================] - 0s 5ms/step - loss: 113.3227 - root_mean_squared_error: 10.6453 - val_loss: 135.7465 - val_root_mean_squared_error: 11.6510\n",
      "Epoch 271/300\n",
      "33/33 [==============================] - 0s 5ms/step - loss: 111.8173 - root_mean_squared_error: 10.5744 - val_loss: 134.3471 - val_root_mean_squared_error: 11.5908\n",
      "Epoch 272/300\n",
      "33/33 [==============================] - 0s 5ms/step - loss: 110.6105 - root_mean_squared_error: 10.5172 - val_loss: 136.1550 - val_root_mean_squared_error: 11.6685\n",
      "Epoch 273/300\n",
      "33/33 [==============================] - 0s 5ms/step - loss: 114.0842 - root_mean_squared_error: 10.6810 - val_loss: 136.4289 - val_root_mean_squared_error: 11.6803\n",
      "Epoch 274/300\n",
      "33/33 [==============================] - 0s 5ms/step - loss: 110.7518 - root_mean_squared_error: 10.5239 - val_loss: 134.1243 - val_root_mean_squared_error: 11.5812\n",
      "Epoch 275/300\n",
      "33/33 [==============================] - 0s 5ms/step - loss: 112.6153 - root_mean_squared_error: 10.6120 - val_loss: 134.4790 - val_root_mean_squared_error: 11.5965\n"
     ]
    },
    {
     "name": "stdout",
     "output_type": "stream",
     "text": [
      "Epoch 276/300\n",
      "33/33 [==============================] - 0s 5ms/step - loss: 115.5940 - root_mean_squared_error: 10.7515 - val_loss: 145.1785 - val_root_mean_squared_error: 12.0490\n",
      "Epoch 277/300\n",
      "33/33 [==============================] - 0s 5ms/step - loss: 110.1779 - root_mean_squared_error: 10.4966 - val_loss: 135.3779 - val_root_mean_squared_error: 11.6352\n",
      "Epoch 278/300\n",
      "33/33 [==============================] - 0s 5ms/step - loss: 109.9932 - root_mean_squared_error: 10.4878 - val_loss: 133.9727 - val_root_mean_squared_error: 11.5747\n",
      "Epoch 279/300\n",
      "33/33 [==============================] - 0s 5ms/step - loss: 110.2181 - root_mean_squared_error: 10.4985 - val_loss: 139.6182 - val_root_mean_squared_error: 11.8160\n",
      "Epoch 280/300\n",
      "33/33 [==============================] - 0s 5ms/step - loss: 110.4857 - root_mean_squared_error: 10.5112 - val_loss: 134.0904 - val_root_mean_squared_error: 11.5797\n",
      "Epoch 281/300\n",
      "33/33 [==============================] - 0s 5ms/step - loss: 111.4266 - root_mean_squared_error: 10.5559 - val_loss: 137.5239 - val_root_mean_squared_error: 11.7271\n",
      "Epoch 282/300\n",
      "33/33 [==============================] - 0s 5ms/step - loss: 109.0747 - root_mean_squared_error: 10.4439 - val_loss: 132.9562 - val_root_mean_squared_error: 11.5307\n",
      "Epoch 283/300\n",
      "33/33 [==============================] - 0s 5ms/step - loss: 108.2987 - root_mean_squared_error: 10.4067 - val_loss: 133.2804 - val_root_mean_squared_error: 11.5447\n",
      "Epoch 284/300\n",
      "33/33 [==============================] - 0s 5ms/step - loss: 108.4746 - root_mean_squared_error: 10.4151 - val_loss: 139.1707 - val_root_mean_squared_error: 11.7971\n",
      "Epoch 285/300\n",
      "33/33 [==============================] - 0s 5ms/step - loss: 109.2637 - root_mean_squared_error: 10.4529 - val_loss: 136.2895 - val_root_mean_squared_error: 11.6743\n",
      "Epoch 286/300\n",
      "33/33 [==============================] - 0s 5ms/step - loss: 110.3051 - root_mean_squared_error: 10.5026 - val_loss: 133.6333 - val_root_mean_squared_error: 11.5600\n",
      "Epoch 287/300\n",
      "33/33 [==============================] - 0s 5ms/step - loss: 106.6243 - root_mean_squared_error: 10.3259 - val_loss: 135.7385 - val_root_mean_squared_error: 11.6507\n"
     ]
    }
   ],
   "source": [
    "rnn_model_2 = Sequential()\n",
    "# first LSTM layer\n",
    "rnn_model_2.add(LSTM(units = 20, activation = \"tanh\", return_sequences = True))\n",
    "#rnn_model_2.add(Dropout(0.2))\n",
    "# second LSTM layer\n",
    "# rnn_model_2.add(LSTM(units = 50, activation = \"tanh\", return_sequences = True))\n",
    "rnn_model_2.add(LSTM(units= 10, activation= \"tanh\", return_sequences= False))\n",
    "#rnn_model_2.add(Dropout(0.2))\n",
    "\n",
    "# output layer to predict one value\n",
    "rnn_model_2.add(Dense(1, activation= \"linear\"))\n",
    "\n",
    "rnn_model_2.compile(optimizer= \"adam\", loss= \"mse\", metrics = RootMeanSquaredError())\n",
    "\n",
    "history = rnn_model_2.fit(X_train, \n",
    "                        y_train,\n",
    "          batch_size=8, \n",
    "          epochs=300,\n",
    "          validation_split=0.2,\n",
    "          callbacks=[es], verbose = 1)"
   ]
  },
  {
   "cell_type": "code",
   "execution_count": 48,
   "id": "48773375",
   "metadata": {},
   "outputs": [
    {
     "name": "stdout",
     "output_type": "stream",
     "text": [
      "WARNING:tensorflow:5 out of the last 13 calls to <function Model.make_predict_function.<locals>.predict_function at 0x7f1156e4adc0> triggered tf.function retracing. Tracing is expensive and the excessive number of tracings could be due to (1) creating @tf.function repeatedly in a loop, (2) passing tensors with different shapes, (3) passing Python objects instead of tensors. For (1), please define your @tf.function outside of the loop. For (2), @tf.function has experimental_relax_shapes=True option that relaxes argument shapes that can avoid unnecessary retracing. For (3), please refer to https://www.tensorflow.org/guide/function#controlling_retracing and https://www.tensorflow.org/api_docs/python/tf/function for  more details.\n"
     ]
    },
    {
     "data": {
      "text/plain": [
       "11.716411403351922"
      ]
     },
     "execution_count": 48,
     "metadata": {},
     "output_type": "execute_result"
    }
   ],
   "source": [
    "mean_squared_error(y_test, rnn_model_2.predict(X_test), squared = False)"
   ]
  },
  {
   "cell_type": "markdown",
   "id": "163672f0",
   "metadata": {},
   "source": [
    "## GRU model"
   ]
  },
  {
   "cell_type": "code",
   "execution_count": 125,
   "id": "6fb7b662",
   "metadata": {},
   "outputs": [],
   "source": [
    "gru_model = Sequential()\n",
    "gru_model.add(GRU(units=10, activation='tanh', input_shape = X_train.shape[1:]))\n",
    "gru_model.add(Dense(1, activation=\"linear\"))\n",
    "gru_model.compile(loss = \"mse\", \n",
    "                 optimizer = \"adam\", \n",
    "                 metrics = RootMeanSquaredError())\n",
    "\n",
    "es = callbacks.EarlyStopping(patience=3, restore_best_weights=True)\n",
    "\n",
    "history = gru_model.fit(X_train, \n",
    "                        y_train,\n",
    "          batch_size=16, \n",
    "          epochs=300,\n",
    "          validation_split=0.2,\n",
    "          callbacks=[es], verbose = 0)"
   ]
  },
  {
   "cell_type": "code",
   "execution_count": 126,
   "id": "e845bc77",
   "metadata": {},
   "outputs": [
    {
     "data": {
      "text/plain": [
       "11.648536777248058"
      ]
     },
     "execution_count": 126,
     "metadata": {},
     "output_type": "execute_result"
    }
   ],
   "source": [
    "mean_squared_error(y_test, gru_model.predict(X_test), squared = False)"
   ]
  },
  {
   "cell_type": "code",
   "execution_count": null,
   "id": "37434dbd",
   "metadata": {},
   "outputs": [],
   "source": []
  },
  {
   "cell_type": "code",
   "execution_count": null,
   "id": "6e031744",
   "metadata": {},
   "outputs": [],
   "source": []
  },
  {
   "cell_type": "code",
   "execution_count": null,
   "id": "9e196ce8",
   "metadata": {},
   "outputs": [],
   "source": []
  },
  {
   "cell_type": "code",
   "execution_count": null,
   "id": "178549de",
   "metadata": {},
   "outputs": [],
   "source": []
  },
  {
   "cell_type": "code",
   "execution_count": null,
   "id": "34e75152",
   "metadata": {},
   "outputs": [],
   "source": []
  },
  {
   "cell_type": "code",
   "execution_count": 139,
   "id": "4507354a",
   "metadata": {},
   "outputs": [
    {
     "data": {
      "text/plain": [
       "[<matplotlib.lines.Line2D at 0x7fe532f0cac0>]"
      ]
     },
     "execution_count": 139,
     "metadata": {},
     "output_type": "execute_result"
    },
    {
     "data": {
      "image/png": "[encoded data removed]",
      "text/plain": [
       "<Figure size 432x288 with 1 Axes>"
      ]
     },
     "metadata": {
      "needs_background": "light"
     },
     "output_type": "display_data"
    }
   ],
   "source": [
    "plt.plot(gru_model.predict(X_test))\n",
    "plt.plot(y_test)"
   ]
  },
  {
   "cell_type": "code",
   "execution_count": null,
   "id": "38aea74e",
   "metadata": {},
   "outputs": [],
   "source": []
  },
  {
   "cell_type": "code",
   "execution_count": 62,
   "id": "2bc7ab18",
   "metadata": {},
   "outputs": [
    {
     "data": {
      "text/plain": [
       "dtype('float64')"
      ]
     },
     "execution_count": 62,
     "metadata": {},
     "output_type": "execute_result"
    }
   ],
   "source": [
    "df_theft_model[\"total\"].dtypes"
   ]
  },
  {
   "cell_type": "code",
   "execution_count": null,
   "id": "a3f8b74f",
   "metadata": {},
   "outputs": [],
   "source": []
  },
  {
   "cell_type": "code",
   "execution_count": null,
   "id": "169f0d2e",
   "metadata": {},
   "outputs": [],
   "source": []
  },
  {
   "cell_type": "code",
   "execution_count": 63,
   "id": "9e08952c",
   "metadata": {},
   "outputs": [],
   "source": [
    "import pandas as pd\n",
    "import numpy as np\n",
    "import matplotlib.pyplot as plt\n",
    "\n",
    "from darts import TimeSeries\n",
    "from darts.datasets import AirPassengersDataset"
   ]
  },
  {
   "cell_type": "code",
   "execution_count": 64,
   "id": "0d63adbc",
   "metadata": {},
   "outputs": [],
   "source": [
    "df_darts = df_theft_model[\"total\"].reset_index()"
   ]
  },
  {
   "cell_type": "code",
   "execution_count": 66,
   "id": "b9ee892a",
   "metadata": {},
   "outputs": [],
   "source": [
    "df_darts[\"date_theft_start\"] = pd.to_datetime(df_darts[\"date_theft_start\"])"
   ]
  },
  {
   "cell_type": "code",
   "execution_count": 72,
   "id": "be7da100",
   "metadata": {},
   "outputs": [
    {
     "data": {
      "text/plain": [
       "424"
      ]
     },
     "execution_count": 72,
     "metadata": {},
     "output_type": "execute_result"
    }
   ],
   "source": [
    "len(df_darts)"
   ]
  },
  {
   "cell_type": "code",
   "execution_count": 73,
   "id": "4d577053",
   "metadata": {},
   "outputs": [],
   "source": [
    "darts_ts = TimeSeries.from_dataframe(df_darts, time_col=\"date_theft_start\", value_cols=\"total\")"
   ]
  },
  {
   "cell_type": "code",
   "execution_count": 76,
   "id": "d0c4f1df",
   "metadata": {},
   "outputs": [
    {
     "data": {
      "image/png": "[encoded data removed]",
      "text/plain": [
       "<Figure size 432x288 with 1 Axes>"
      ]
     },
     "metadata": {
      "needs_background": "light"
     },
     "output_type": "display_data"
    }
   ],
   "source": [
    "train, val = darts_ts.split_before(pd.Timestamp(\"20211231\"))\n",
    "train.plot(label=\"training\")\n",
    "val.plot(label=\"validation\")"
   ]
  },
  {
   "cell_type": "code",
   "execution_count": 79,
   "id": "282d4b89",
   "metadata": {},
   "outputs": [
    {
     "name": "stderr",
     "output_type": "stream",
     "text": [
      "/home/jakob/.pyenv/versions/3.8.12/envs/berlin-bike-theft-forecasting/lib/python3.8/site-packages/tqdm/auto.py:22: TqdmWarning: IProgress not found. Please update jupyter and ipywidgets. See https://ipywidgets.readthedocs.io/en/stable/user_install.html\n",
      "  from .autonotebook import tqdm as notebook_tqdm\n"
     ]
    },
    {
     "data": {
      "image/png": "[encoded data removed]",
      "text/plain": [
       "<Figure size 432x288 with 1 Axes>"
      ]
     },
     "metadata": {
      "needs_background": "light"
     },
     "output_type": "display_data"
    }
   ],
   "source": [
    "from darts.models import NaiveSeasonal\n",
    "\n",
    "naive_model = NaiveSeasonal(K=1)\n",
    "naive_model.fit(train)\n",
    "naive_forecast = naive_model.predict(36)\n",
    "\n",
    "darts_ts.plot(label=\"actual\")\n",
    "naive_forecast.plot(label=\"naive forecast (K=1)\")"
   ]
  },
  {
   "cell_type": "code",
   "execution_count": 83,
   "id": "5bce263b",
   "metadata": {},
   "outputs": [
    {
     "data": {
      "image/png": "[encoded data removed]",
      "text/plain": [
       "<Figure size 720x360 with 1 Axes>"
      ]
     },
     "metadata": {
      "needs_background": "light"
     },
     "output_type": "display_data"
    }
   ],
   "source": [
    "from darts.utils.statistics import plot_acf, check_seasonality\n",
    "\n",
    "plot_acf(train, m=3, alpha=0.05)"
   ]
  },
  {
   "cell_type": "code",
   "execution_count": 84,
   "id": "d6df296a",
   "metadata": {},
   "outputs": [
    {
     "name": "stdout",
     "output_type": "stream",
     "text": [
      "There is seasonality of order 7.\n",
      "There is seasonality of order 11.\n",
      "There is seasonality of order 14.\n",
      "There is seasonality of order 17.\n",
      "There is seasonality of order 21.\n"
     ]
    }
   ],
   "source": [
    "for m in range(2, 25):\n",
    "    is_seasonal, period = check_seasonality(train, m=m, alpha=0.05)\n",
    "    if is_seasonal:\n",
    "        print(\"There is seasonality of order {}.\".format(period))"
   ]
  },
  {
   "cell_type": "code",
   "execution_count": 89,
   "id": "08c81095",
   "metadata": {},
   "outputs": [
    {
     "data": {
      "image/png": "[encoded data removed]",
      "text/plain": [
       "<Figure size 1080x432 with 1 Axes>"
      ]
     },
     "metadata": {
      "needs_background": "light"
     },
     "output_type": "display_data"
    }
   ],
   "source": [
    "seasonal_model = NaiveSeasonal(K=6)\n",
    "seasonal_model.fit(train)\n",
    "seasonal_forecast = seasonal_model.predict(36)\n",
    "\n",
    "plt.figure(figsize=(15, 6))\n",
    "darts_ts.plot(label=\"actual\")\n",
    "seasonal_forecast.plot(label=\"naive forecast (K=12)\")"
   ]
  },
  {
   "cell_type": "code",
   "execution_count": 91,
   "id": "3837952f",
   "metadata": {},
   "outputs": [
    {
     "data": {
      "image/png": "[encoded data removed]",
      "text/plain": [
       "<Figure size 1080x432 with 1 Axes>"
      ]
     },
     "metadata": {
      "needs_background": "light"
     },
     "output_type": "display_data"
    }
   ],
   "source": [
    "from darts.models import NaiveDrift\n",
    "\n",
    "drift_model = NaiveDrift()\n",
    "drift_model.fit(train)\n",
    "drift_forecast = drift_model.predict(36)\n",
    "\n",
    "combined_forecast = drift_forecast + seasonal_forecast - train.last_value()\n",
    "\n",
    "plt.figure(figsize=(15, 6))\n",
    "\n",
    "darts_ts.plot()\n",
    "combined_forecast.plot(label=\"combined\")\n",
    "drift_forecast.plot(label=\"drift\")"
   ]
  },
  {
   "cell_type": "code",
   "execution_count": 92,
   "id": "1cca706f",
   "metadata": {},
   "outputs": [
    {
     "name": "stdout",
     "output_type": "stream",
     "text": [
      "Mean absolute percentage error for the combined naive drift + seasonal: 27.49%.\n"
     ]
    }
   ],
   "source": [
    "from darts.metrics import mape\n",
    "\n",
    "print(\n",
    "    \"Mean absolute percentage error for the combined naive drift + seasonal: {:.2f}%.\".format(\n",
    "        mape(darts_ts, combined_forecast)\n",
    "    )\n",
    ")"
   ]
  },
  {
   "cell_type": "code",
   "execution_count": 103,
   "id": "48fee51c",
   "metadata": {},
   "outputs": [
    {
     "name": "stdout",
     "output_type": "stream",
     "text": [
      "model ARIMA(12, 1, 0) obtains MAPE: 33.64%\n"
     ]
    },
    {
     "name": "stderr",
     "output_type": "stream",
     "text": [
      "INFO:prophet:Disabling yearly seasonality. Run prophet with yearly_seasonality=True to override this.\n",
      "INFO:prophet:Disabling daily seasonality. Run prophet with daily_seasonality=True to override this.\n"
     ]
    },
    {
     "name": "stdout",
     "output_type": "stream",
     "text": [
      "model Auto-ARIMA obtains MAPE: 31.91%\n",
      "model Theta(2) obtains MAPE: 33.02%\n",
      "model 4Theta(theta:2, curve:TrendMode.LINEAR, model:ModelMode.ADDITIVE, seasonality:SeasonalityMode.MULTIPLICATIVE) obtains MAPE: 33.02%\n"
     ]
    },
    {
     "name": "stderr",
     "output_type": "stream",
     "text": [
      "/home/jakob/.pyenv/versions/3.8.12/envs/berlin-bike-theft-forecasting/lib/python3.8/site-packages/prophet/forecaster.py:896: FutureWarning: The frame.append method is deprecated and will be removed from pandas in a future version. Use pandas.concat instead.\n",
      "  components = components.append(new_comp)\n",
      "/home/jakob/.pyenv/versions/3.8.12/envs/berlin-bike-theft-forecasting/lib/python3.8/site-packages/prophet/forecaster.py:896: FutureWarning: The frame.append method is deprecated and will be removed from pandas in a future version. Use pandas.concat instead.\n",
      "  components = components.append(new_comp)\n",
      "/home/jakob/.pyenv/versions/3.8.12/envs/berlin-bike-theft-forecasting/lib/python3.8/site-packages/prophet/forecaster.py:896: FutureWarning: The frame.append method is deprecated and will be removed from pandas in a future version. Use pandas.concat instead.\n",
      "  components = components.append(new_comp)\n"
     ]
    },
    {
     "name": "stdout",
     "output_type": "stream",
     "text": [
      "model Prophet obtains MAPE: 35.45%\n",
      "model FFT(nr_freqs_to_keep=10, trend=None) obtains MAPE: 33.89%\n",
      "model Kalman Filter Forecaster (dim_x=1) obtains MAPE: 33.83%\n",
      "model LinearRegression(n_jobs=-1) obtains MAPE: 52.23%\n"
     ]
    },
    {
     "name": "stderr",
     "output_type": "stream",
     "text": [
      "/home/jakob/.pyenv/versions/3.8.12/envs/berlin-bike-theft-forecasting/lib/python3.8/site-packages/darts/timeseries.py:3283: FutureWarning: pandas.Int64Index is deprecated and will be removed from pandas in a future version. Use pandas.Index with the appropriate dtype instead.\n",
      "  if isinstance(time_idx, pd.Int64Index) and not isinstance(\n",
      "/home/jakob/.pyenv/versions/3.8.12/envs/berlin-bike-theft-forecasting/lib/python3.8/site-packages/darts/timeseries.py:3283: FutureWarning: pandas.Int64Index is deprecated and will be removed from pandas in a future version. Use pandas.Index with the appropriate dtype instead.\n",
      "  if isinstance(time_idx, pd.Int64Index) and not isinstance(\n",
      "[2022-03-02 15:49:45,581] INFO | darts.models.forecasting.torch_forecasting_model | Train dataset contains 340 samples.\n",
      "[2022-03-02 15:49:45,581] INFO | darts.models.forecasting.torch_forecasting_model | Train dataset contains 340 samples.\n",
      "INFO:darts.models.forecasting.torch_forecasting_model:Train dataset contains 340 samples.\n",
      "[2022-03-02 15:49:45,585] INFO | darts.models.forecasting.torch_forecasting_model | Time series values are 64-bits; casting model to float64.\n",
      "[2022-03-02 15:49:45,585] INFO | darts.models.forecasting.torch_forecasting_model | Time series values are 64-bits; casting model to float64.\n",
      "INFO:darts.models.forecasting.torch_forecasting_model:Time series values are 64-bits; casting model to float64.\n",
      "GPU available: False, used: False\n",
      "TPU available: False, using: 0 TPU cores\n",
      "IPU available: False, using: 0 IPUs\n",
      "\n",
      "  | Name      | Type    | Params\n",
      "--------------------------------------\n",
      "0 | criterion | MSELoss | 0     \n",
      "1 | rnn       | RNN     | 700   \n",
      "2 | V         | Linear  | 26    \n",
      "--------------------------------------\n",
      "726       Trainable params\n",
      "0         Non-trainable params\n",
      "726       Total params\n",
      "0.006     Total estimated model params size (MB)\n"
     ]
    },
    {
     "name": "stdout",
     "output_type": "stream",
     "text": [
      "model RandomForest(lags={'target': [-1]}, n_estimators=100, max_depth=None) obtains MAPE: 59.47%\n",
      "Epoch 99: 100%|██████████████████████████████████████████████████████████| 11/11 [00:00<00:00, 77.22it/s, loss=1.17e+03]\n",
      "Predicting: 11it [00:00, ?it/s]\n",
      "model <darts.models.forecasting.rnn_model.RNNModel object at 0x7f102b19a580> obtains MAPE: 39.35%\n"
     ]
    },
    {
     "name": "stderr",
     "output_type": "stream",
     "text": [
      "[2022-03-02 15:49:59,457] INFO | darts.models.forecasting.torch_forecasting_model | Train dataset contains 268 samples.\n",
      "[2022-03-02 15:49:59,457] INFO | darts.models.forecasting.torch_forecasting_model | Train dataset contains 268 samples.\n",
      "INFO:darts.models.forecasting.torch_forecasting_model:Train dataset contains 268 samples.\n",
      "[2022-03-02 15:49:59,514] INFO | darts.models.forecasting.torch_forecasting_model | Time series values are 64-bits; casting model to float64.\n",
      "[2022-03-02 15:49:59,514] INFO | darts.models.forecasting.torch_forecasting_model | Time series values are 64-bits; casting model to float64.\n",
      "INFO:darts.models.forecasting.torch_forecasting_model:Time series values are 64-bits; casting model to float64.\n",
      "GPU available: False, used: False\n",
      "TPU available: False, using: 0 TPU cores\n",
      "IPU available: False, using: 0 IPUs\n",
      "\n",
      "  | Name      | Type       | Params\n",
      "-----------------------------------------\n",
      "0 | criterion | MSELoss    | 0     \n",
      "1 | stacks    | ModuleList | 6.7 M \n",
      "-----------------------------------------\n",
      "6.7 M     Trainable params\n",
      "1.8 K     Non-trainable params\n",
      "6.7 M     Total params\n",
      "53.718    Total estimated model params size (MB)\n"
     ]
    },
    {
     "name": "stdout",
     "output_type": "stream",
     "text": [
      "Epoch 99: 100%|███████████████████████████████████████████████████████████████| 9/9 [00:00<00:00,  9.41it/s, loss=0.475]\n",
      "Predicting: 9it [00:00, ?it/s]\n",
      "model <darts.models.forecasting.nbeats.NBEATSModel object at 0x7f102b175580> obtains MAPE: 51.27%\n"
     ]
    },
    {
     "ename": "TypeError",
     "evalue": "__init__() missing 2 required positional arguments: 'input_chunk_length' and 'output_chunk_length'",
     "output_type": "error",
     "traceback": [
      "\u001b[0;31m---------------------------------------------------------------------------\u001b[0m",
      "\u001b[0;31mTypeError\u001b[0m                                 Traceback (most recent call last)",
      "Input \u001b[0;32mIn [103]\u001b[0m, in \u001b[0;36m<cell line: 23>\u001b[0;34m()\u001b[0m\n\u001b[1;32m     21\u001b[0m eval_model(RNNModel(input_chunk_length\u001b[38;5;241m=\u001b[39m\u001b[38;5;241m90\u001b[39m))\n\u001b[1;32m     22\u001b[0m eval_model(NBEATSModel(input_chunk_length\u001b[38;5;241m=\u001b[39m\u001b[38;5;241m90\u001b[39m, output_chunk_length\u001b[38;5;241m=\u001b[39m\u001b[38;5;241m7\u001b[39m))\n\u001b[0;32m---> 23\u001b[0m eval_model(\u001b[43mBlockRNNModel\u001b[49m\u001b[43m(\u001b[49m\u001b[43m)\u001b[49m)\n\u001b[1;32m     24\u001b[0m eval_model(TransformerModel())\n\u001b[1;32m     25\u001b[0m eval_model(TFTModel())\n",
      "File \u001b[0;32m~/.pyenv/versions/3.8.12/envs/berlin-bike-theft-forecasting/lib/python3.8/site-packages/darts/models/forecasting/forecasting_model.py:92\u001b[0m, in \u001b[0;36mModelMeta.__call__\u001b[0;34m(cls, *args, **kwargs)\u001b[0m\n\u001b[1;32m     89\u001b[0m \u001b[38;5;28mcls\u001b[39m\u001b[38;5;241m.\u001b[39m_model_call \u001b[38;5;241m=\u001b[39m all_params\n\u001b[1;32m     91\u001b[0m \u001b[38;5;66;03m# 6) call model\u001b[39;00m\n\u001b[0;32m---> 92\u001b[0m \u001b[38;5;28;01mreturn\u001b[39;00m \u001b[38;5;28;43msuper\u001b[39;49m\u001b[43m(\u001b[49m\u001b[43m)\u001b[49m\u001b[38;5;241;43m.\u001b[39;49m\u001b[38;5;21;43m__call__\u001b[39;49m\u001b[43m(\u001b[49m\u001b[38;5;241;43m*\u001b[39;49m\u001b[38;5;241;43m*\u001b[39;49m\u001b[43mall_params\u001b[49m\u001b[43m)\u001b[49m\n",
      "\u001b[0;31mTypeError\u001b[0m: __init__() missing 2 required positional arguments: 'input_chunk_length' and 'output_chunk_length'"
     ]
    }
   ],
   "source": [
    "from darts.models import ExponentialSmoothing, Prophet, AutoARIMA, Theta, ARIMA, VARIMA, FourTheta, FFT, KalmanForecaster, \\\n",
    "                        RegressionModel, RandomForest, RNNModel, NBEATSModel, BlockRNNModel, TransformerModel, TFTModel\n",
    "\n",
    "\n",
    "def eval_model(model):\n",
    "    model.fit(train)\n",
    "    forecast = model.predict(len(val))\n",
    "    print(\"model {} obtains MAPE: {:.2f}%\".format(model, mape(val, forecast)))\n",
    "\n",
    "\n",
    "eval_model(ARIMA())\n",
    "#eval_model(VARIMA())\n",
    "eval_model(AutoARIMA())\n",
    "eval_model(Theta())\n",
    "eval_model(FourTheta())\n",
    "eval_model(Prophet())\n",
    "eval_model(FFT())\n",
    "eval_model(KalmanForecaster())\n",
    "eval_model(RegressionModel(lags=1))\n",
    "eval_model(RandomForest(lags=1))\n",
    "eval_model(RNNModel(input_chunk_length=90))\n",
    "eval_model(NBEATSModel(input_chunk_length=90, output_chunk_length=7))\n"
   ]
  },
  {
   "cell_type": "code",
   "execution_count": 105,
   "id": "1485b40b",
   "metadata": {},
   "outputs": [
    {
     "name": "stderr",
     "output_type": "stream",
     "text": [
      "[2022-03-02 15:52:59,606] INFO | darts.models.forecasting.torch_forecasting_model | Train dataset contains 268 samples.\n",
      "[2022-03-02 15:52:59,606] INFO | darts.models.forecasting.torch_forecasting_model | Train dataset contains 268 samples.\n",
      "INFO:darts.models.forecasting.torch_forecasting_model:Train dataset contains 268 samples.\n",
      "[2022-03-02 15:52:59,611] INFO | darts.models.forecasting.torch_forecasting_model | Time series values are 64-bits; casting model to float64.\n",
      "[2022-03-02 15:52:59,611] INFO | darts.models.forecasting.torch_forecasting_model | Time series values are 64-bits; casting model to float64.\n",
      "INFO:darts.models.forecasting.torch_forecasting_model:Time series values are 64-bits; casting model to float64.\n",
      "GPU available: False, used: False\n",
      "TPU available: False, using: 0 TPU cores\n",
      "IPU available: False, using: 0 IPUs\n",
      "\n",
      "  | Name      | Type       | Params\n",
      "-----------------------------------------\n",
      "0 | criterion | MSELoss    | 0     \n",
      "1 | rnn       | RNN        | 700   \n",
      "2 | fc        | Sequential | 182   \n",
      "-----------------------------------------\n",
      "882       Trainable params\n",
      "0         Non-trainable params\n",
      "882       Total params\n",
      "0.007     Total estimated model params size (MB)\n"
     ]
    },
    {
     "name": "stdout",
     "output_type": "stream",
     "text": [
      "Epoch 99: 100%|████████████████████████████████████████████████████████████| 9/9 [00:00<00:00, 66.10it/s, loss=1.74e+03]\n",
      "Predicting: 9it [00:00, ?it/s]\n",
      "model <darts.models.forecasting.block_rnn_model.BlockRNNModel object at 0x7f102dbcf1f0> obtains MAPE: 47.33%\n"
     ]
    },
    {
     "name": "stderr",
     "output_type": "stream",
     "text": [
      "[2022-03-02 15:53:12,911] INFO | darts.models.forecasting.torch_forecasting_model | Train dataset contains 268 samples.\n",
      "[2022-03-02 15:53:12,911] INFO | darts.models.forecasting.torch_forecasting_model | Train dataset contains 268 samples.\n",
      "INFO:darts.models.forecasting.torch_forecasting_model:Train dataset contains 268 samples.\n",
      "[2022-03-02 15:53:12,927] INFO | darts.models.forecasting.torch_forecasting_model | Time series values are 64-bits; casting model to float64.\n",
      "[2022-03-02 15:53:12,927] INFO | darts.models.forecasting.torch_forecasting_model | Time series values are 64-bits; casting model to float64.\n",
      "INFO:darts.models.forecasting.torch_forecasting_model:Time series values are 64-bits; casting model to float64.\n",
      "GPU available: False, used: False\n",
      "TPU available: False, using: 0 TPU cores\n",
      "IPU available: False, using: 0 IPUs\n",
      "\n",
      "  | Name                | Type                | Params\n",
      "------------------------------------------------------------\n",
      "0 | criterion           | MSELoss             | 0     \n",
      "1 | encoder             | Linear              | 128   \n",
      "2 | positional_encoding | _PositionalEncoding | 0     \n",
      "3 | transformer         | Transformer         | 548 K \n",
      "4 | decoder             | Linear              | 455   \n",
      "------------------------------------------------------------\n",
      "549 K     Trainable params\n",
      "0         Non-trainable params\n",
      "549 K     Total params\n",
      "4.394     Total estimated model params size (MB)\n"
     ]
    },
    {
     "name": "stdout",
     "output_type": "stream",
     "text": [
      "Epoch 99: 100%|█████████████████████████████████████████████████████████████████| 9/9 [00:01<00:00,  7.11it/s, loss=242]\n",
      "Predicting: 9it [00:00, ?it/s]"
     ]
    },
    {
     "name": "stderr",
     "output_type": "stream",
     "text": [
      "[2022-03-02 15:55:22,439] ERROR | darts.models.forecasting.tft_model | ValueError: TFTModel requires future covariates. The model applies multi-head attention queries on future inputs. Consider specifying a future encoder with `add_encoders` or setting `add_relative_index` to `True` at model creation (read TFT model docs for more information). These will automatically generate `future_covariates` from indexes.\n",
      "[2022-03-02 15:55:22,439] ERROR | darts.models.forecasting.tft_model | ValueError: TFTModel requires future covariates. The model applies multi-head attention queries on future inputs. Consider specifying a future encoder with `add_encoders` or setting `add_relative_index` to `True` at model creation (read TFT model docs for more information). These will automatically generate `future_covariates` from indexes.\n",
      "ERROR:darts.models.forecasting.tft_model:ValueError: TFTModel requires future covariates. The model applies multi-head attention queries on future inputs. Consider specifying a future encoder with `add_encoders` or setting `add_relative_index` to `True` at model creation (read TFT model docs for more information). These will automatically generate `future_covariates` from indexes.\n"
     ]
    },
    {
     "name": "stdout",
     "output_type": "stream",
     "text": [
      "\n",
      "model <darts.models.forecasting.transformer_model.TransformerModel object at 0x7f102dbcfe20> obtains MAPE: 74.34%\n"
     ]
    },
    {
     "ename": "ValueError",
     "evalue": "TFTModel requires future covariates. The model applies multi-head attention queries on future inputs. Consider specifying a future encoder with `add_encoders` or setting `add_relative_index` to `True` at model creation (read TFT model docs for more information). These will automatically generate `future_covariates` from indexes.",
     "output_type": "error",
     "traceback": [
      "\u001b[0;31m---------------------------------------------------------------------------\u001b[0m",
      "\u001b[0;31mValueError\u001b[0m                                Traceback (most recent call last)",
      "Input \u001b[0;32mIn [105]\u001b[0m, in \u001b[0;36m<cell line: 3>\u001b[0;34m()\u001b[0m\n\u001b[1;32m      1\u001b[0m eval_model(BlockRNNModel(input_chunk_length\u001b[38;5;241m=\u001b[39m\u001b[38;5;241m90\u001b[39m, output_chunk_length\u001b[38;5;241m=\u001b[39m\u001b[38;5;241m7\u001b[39m))\n\u001b[1;32m      2\u001b[0m eval_model(TransformerModel(input_chunk_length\u001b[38;5;241m=\u001b[39m\u001b[38;5;241m90\u001b[39m, output_chunk_length\u001b[38;5;241m=\u001b[39m\u001b[38;5;241m7\u001b[39m))\n\u001b[0;32m----> 3\u001b[0m \u001b[43meval_model\u001b[49m\u001b[43m(\u001b[49m\u001b[43mTFTModel\u001b[49m\u001b[43m(\u001b[49m\u001b[43minput_chunk_length\u001b[49m\u001b[38;5;241;43m=\u001b[39;49m\u001b[38;5;241;43m90\u001b[39;49m\u001b[43m,\u001b[49m\u001b[43m \u001b[49m\u001b[43moutput_chunk_length\u001b[49m\u001b[38;5;241;43m=\u001b[39;49m\u001b[38;5;241;43m7\u001b[39;49m\u001b[43m)\u001b[49m\u001b[43m)\u001b[49m\n",
      "Input \u001b[0;32mIn [103]\u001b[0m, in \u001b[0;36meval_model\u001b[0;34m(model)\u001b[0m\n\u001b[1;32m      5\u001b[0m \u001b[38;5;28;01mdef\u001b[39;00m \u001b[38;5;21meval_model\u001b[39m(model):\n\u001b[0;32m----> 6\u001b[0m     \u001b[43mmodel\u001b[49m\u001b[38;5;241;43m.\u001b[39;49m\u001b[43mfit\u001b[49m\u001b[43m(\u001b[49m\u001b[43mtrain\u001b[49m\u001b[43m)\u001b[49m\n\u001b[1;32m      7\u001b[0m     forecast \u001b[38;5;241m=\u001b[39m model\u001b[38;5;241m.\u001b[39mpredict(\u001b[38;5;28mlen\u001b[39m(val))\n\u001b[1;32m      8\u001b[0m     \u001b[38;5;28mprint\u001b[39m(\u001b[38;5;124m\"\u001b[39m\u001b[38;5;124mmodel \u001b[39m\u001b[38;5;132;01m{}\u001b[39;00m\u001b[38;5;124m obtains MAPE: \u001b[39m\u001b[38;5;132;01m{:.2f}\u001b[39;00m\u001b[38;5;124m%\u001b[39m\u001b[38;5;124m\"\u001b[39m\u001b[38;5;241m.\u001b[39mformat(model, mape(val, forecast)))\n",
      "File \u001b[0;32m~/.pyenv/versions/3.8.12/envs/berlin-bike-theft-forecasting/lib/python3.8/site-packages/darts/utils/torch.py:70\u001b[0m, in \u001b[0;36mrandom_method.<locals>.decorator\u001b[0;34m(self, *args, **kwargs)\u001b[0m\n\u001b[1;32m     68\u001b[0m \u001b[38;5;28;01mwith\u001b[39;00m fork_rng():\n\u001b[1;32m     69\u001b[0m     manual_seed(\u001b[38;5;28mself\u001b[39m\u001b[38;5;241m.\u001b[39m_random_instance\u001b[38;5;241m.\u001b[39mrandint(\u001b[38;5;241m0\u001b[39m, high\u001b[38;5;241m=\u001b[39mMAX_TORCH_SEED_VALUE))\n\u001b[0;32m---> 70\u001b[0m     \u001b[38;5;28;01mreturn\u001b[39;00m \u001b[43mdecorated\u001b[49m\u001b[43m(\u001b[49m\u001b[38;5;28;43mself\u001b[39;49m\u001b[43m,\u001b[49m\u001b[43m \u001b[49m\u001b[38;5;241;43m*\u001b[39;49m\u001b[43margs\u001b[49m\u001b[43m,\u001b[49m\u001b[43m \u001b[49m\u001b[38;5;241;43m*\u001b[39;49m\u001b[38;5;241;43m*\u001b[39;49m\u001b[43mkwargs\u001b[49m\u001b[43m)\u001b[49m\n",
      "File \u001b[0;32m~/.pyenv/versions/3.8.12/envs/berlin-bike-theft-forecasting/lib/python3.8/site-packages/darts/models/forecasting/torch_forecasting_model.py:744\u001b[0m, in \u001b[0;36mTorchForecastingModel.fit\u001b[0;34m(self, series, past_covariates, future_covariates, val_series, val_past_covariates, val_future_covariates, trainer, verbose, epochs, max_samples_per_ts, num_loader_workers)\u001b[0m\n\u001b[1;32m    738\u001b[0m \u001b[38;5;28;01mif\u001b[39;00m \u001b[38;5;28mself\u001b[39m\u001b[38;5;241m.\u001b[39mencoders\u001b[38;5;241m.\u001b[39mencoding_available:\n\u001b[1;32m    739\u001b[0m     past_covariates, future_covariates \u001b[38;5;241m=\u001b[39m \u001b[38;5;28mself\u001b[39m\u001b[38;5;241m.\u001b[39mencoders\u001b[38;5;241m.\u001b[39mencode_train(\n\u001b[1;32m    740\u001b[0m         target\u001b[38;5;241m=\u001b[39mseries,\n\u001b[1;32m    741\u001b[0m         past_covariate\u001b[38;5;241m=\u001b[39mpast_covariates,\n\u001b[1;32m    742\u001b[0m         future_covariate\u001b[38;5;241m=\u001b[39mfuture_covariates,\n\u001b[1;32m    743\u001b[0m     )\n\u001b[0;32m--> 744\u001b[0m train_dataset \u001b[38;5;241m=\u001b[39m \u001b[38;5;28;43mself\u001b[39;49m\u001b[38;5;241;43m.\u001b[39;49m\u001b[43m_build_train_dataset\u001b[49m\u001b[43m(\u001b[49m\n\u001b[1;32m    745\u001b[0m \u001b[43m    \u001b[49m\u001b[43mtarget\u001b[49m\u001b[38;5;241;43m=\u001b[39;49m\u001b[43mseries\u001b[49m\u001b[43m,\u001b[49m\n\u001b[1;32m    746\u001b[0m \u001b[43m    \u001b[49m\u001b[43mpast_covariates\u001b[49m\u001b[38;5;241;43m=\u001b[39;49m\u001b[43mpast_covariates\u001b[49m\u001b[43m,\u001b[49m\n\u001b[1;32m    747\u001b[0m \u001b[43m    \u001b[49m\u001b[43mfuture_covariates\u001b[49m\u001b[38;5;241;43m=\u001b[39;49m\u001b[43mfuture_covariates\u001b[49m\u001b[43m,\u001b[49m\n\u001b[1;32m    748\u001b[0m \u001b[43m    \u001b[49m\u001b[43mmax_samples_per_ts\u001b[49m\u001b[38;5;241;43m=\u001b[39;49m\u001b[43mmax_samples_per_ts\u001b[49m\u001b[43m,\u001b[49m\n\u001b[1;32m    749\u001b[0m \u001b[43m\u001b[49m\u001b[43m)\u001b[49m\n\u001b[1;32m    751\u001b[0m \u001b[38;5;28;01mif\u001b[39;00m val_series \u001b[38;5;129;01mis\u001b[39;00m \u001b[38;5;129;01mnot\u001b[39;00m \u001b[38;5;28;01mNone\u001b[39;00m:\n\u001b[1;32m    752\u001b[0m     \u001b[38;5;28;01mif\u001b[39;00m \u001b[38;5;28mself\u001b[39m\u001b[38;5;241m.\u001b[39mencoders\u001b[38;5;241m.\u001b[39mencoding_available:\n",
      "File \u001b[0;32m~/.pyenv/versions/3.8.12/envs/berlin-bike-theft-forecasting/lib/python3.8/site-packages/darts/models/forecasting/tft_model.py:897\u001b[0m, in \u001b[0;36mTFTModel._build_train_dataset\u001b[0;34m(self, target, past_covariates, future_covariates, max_samples_per_ts)\u001b[0m\n\u001b[1;32m    889\u001b[0m \u001b[38;5;28;01mdef\u001b[39;00m \u001b[38;5;21m_build_train_dataset\u001b[39m(\n\u001b[1;32m    890\u001b[0m     \u001b[38;5;28mself\u001b[39m,\n\u001b[1;32m    891\u001b[0m     target: Sequence[TimeSeries],\n\u001b[0;32m   (...)\u001b[0m\n\u001b[1;32m    894\u001b[0m     max_samples_per_ts: Optional[\u001b[38;5;28mint\u001b[39m],\n\u001b[1;32m    895\u001b[0m ) \u001b[38;5;241m-\u001b[39m\u001b[38;5;241m>\u001b[39m MixedCovariatesSequentialDataset:\n\u001b[0;32m--> 897\u001b[0m     \u001b[43mraise_if\u001b[49m\u001b[43m(\u001b[49m\n\u001b[1;32m    898\u001b[0m \u001b[43m        \u001b[49m\u001b[43mfuture_covariates\u001b[49m\u001b[43m \u001b[49m\u001b[38;5;129;43;01mis\u001b[39;49;00m\u001b[43m \u001b[49m\u001b[38;5;28;43;01mNone\u001b[39;49;00m\u001b[43m \u001b[49m\u001b[38;5;129;43;01mand\u001b[39;49;00m\u001b[43m \u001b[49m\u001b[38;5;129;43;01mnot\u001b[39;49;00m\u001b[43m \u001b[49m\u001b[38;5;28;43mself\u001b[39;49m\u001b[38;5;241;43m.\u001b[39;49m\u001b[43madd_relative_index\u001b[49m\u001b[43m,\u001b[49m\n\u001b[1;32m    899\u001b[0m \u001b[43m        \u001b[49m\u001b[38;5;124;43m\"\u001b[39;49m\u001b[38;5;124;43mTFTModel requires future covariates. The model applies multi-head attention queries on future \u001b[39;49m\u001b[38;5;124;43m\"\u001b[39;49m\n\u001b[1;32m    900\u001b[0m \u001b[43m        \u001b[49m\u001b[38;5;124;43m\"\u001b[39;49m\u001b[38;5;124;43minputs. Consider specifying a future encoder with `add_encoders` or setting `add_relative_index` \u001b[39;49m\u001b[38;5;124;43m\"\u001b[39;49m\n\u001b[1;32m    901\u001b[0m \u001b[43m        \u001b[49m\u001b[38;5;124;43m\"\u001b[39;49m\u001b[38;5;124;43mto `True` at model creation (read TFT model docs for more information). \u001b[39;49m\u001b[38;5;124;43m\"\u001b[39;49m\n\u001b[1;32m    902\u001b[0m \u001b[43m        \u001b[49m\u001b[38;5;124;43m\"\u001b[39;49m\u001b[38;5;124;43mThese will automatically generate `future_covariates` from indexes.\u001b[39;49m\u001b[38;5;124;43m\"\u001b[39;49m\u001b[43m,\u001b[49m\n\u001b[1;32m    903\u001b[0m \u001b[43m        \u001b[49m\u001b[43mlogger\u001b[49m\u001b[43m,\u001b[49m\n\u001b[1;32m    904\u001b[0m \u001b[43m    \u001b[49m\u001b[43m)\u001b[49m\n\u001b[1;32m    906\u001b[0m     \u001b[38;5;28;01mreturn\u001b[39;00m MixedCovariatesSequentialDataset(\n\u001b[1;32m    907\u001b[0m         target_series\u001b[38;5;241m=\u001b[39mtarget,\n\u001b[1;32m    908\u001b[0m         past_covariates\u001b[38;5;241m=\u001b[39mpast_covariates,\n\u001b[0;32m   (...)\u001b[0m\n\u001b[1;32m    912\u001b[0m         max_samples_per_ts\u001b[38;5;241m=\u001b[39mmax_samples_per_ts,\n\u001b[1;32m    913\u001b[0m     )\n",
      "File \u001b[0;32m~/.pyenv/versions/3.8.12/envs/berlin-bike-theft-forecasting/lib/python3.8/site-packages/darts/logging.py:110\u001b[0m, in \u001b[0;36mraise_if\u001b[0;34m(condition, message, logger)\u001b[0m\n\u001b[1;32m     87\u001b[0m \u001b[38;5;28;01mdef\u001b[39;00m \u001b[38;5;21mraise_if\u001b[39m(\n\u001b[1;32m     88\u001b[0m     condition: \u001b[38;5;28mbool\u001b[39m,\n\u001b[1;32m     89\u001b[0m     message: \u001b[38;5;28mstr\u001b[39m \u001b[38;5;241m=\u001b[39m \u001b[38;5;124m\"\u001b[39m\u001b[38;5;124m\"\u001b[39m,\n\u001b[1;32m     90\u001b[0m     logger: logging\u001b[38;5;241m.\u001b[39mLogger \u001b[38;5;241m=\u001b[39m get_logger(\u001b[38;5;124m\"\u001b[39m\u001b[38;5;124mmain_logger\u001b[39m\u001b[38;5;124m\"\u001b[39m),\n\u001b[1;32m     91\u001b[0m ):\n\u001b[1;32m     92\u001b[0m     \u001b[38;5;124;03m\"\"\"\u001b[39;00m\n\u001b[1;32m     93\u001b[0m \u001b[38;5;124;03m    Checks provided boolean condition and raises a ValueError if it evaluates to True.\u001b[39;00m\n\u001b[1;32m     94\u001b[0m \u001b[38;5;124;03m    It logs the error to the provided logger before raising it.\u001b[39;00m\n\u001b[0;32m   (...)\u001b[0m\n\u001b[1;32m    108\u001b[0m \u001b[38;5;124;03m        if `condition` is satisfied\u001b[39;00m\n\u001b[1;32m    109\u001b[0m \u001b[38;5;124;03m    \"\"\"\u001b[39;00m\n\u001b[0;32m--> 110\u001b[0m     \u001b[43mraise_if_not\u001b[49m\u001b[43m(\u001b[49m\u001b[38;5;129;43;01mnot\u001b[39;49;00m\u001b[43m \u001b[49m\u001b[43mcondition\u001b[49m\u001b[43m,\u001b[49m\u001b[43m \u001b[49m\u001b[43mmessage\u001b[49m\u001b[43m,\u001b[49m\u001b[43m \u001b[49m\u001b[43mlogger\u001b[49m\u001b[43m)\u001b[49m\n",
      "File \u001b[0;32m~/.pyenv/versions/3.8.12/envs/berlin-bike-theft-forecasting/lib/python3.8/site-packages/darts/logging.py:84\u001b[0m, in \u001b[0;36mraise_if_not\u001b[0;34m(condition, message, logger)\u001b[0m\n\u001b[1;32m     82\u001b[0m \u001b[38;5;28;01mif\u001b[39;00m \u001b[38;5;129;01mnot\u001b[39;00m condition:\n\u001b[1;32m     83\u001b[0m     logger\u001b[38;5;241m.\u001b[39merror(\u001b[38;5;124m\"\u001b[39m\u001b[38;5;124mValueError: \u001b[39m\u001b[38;5;124m\"\u001b[39m \u001b[38;5;241m+\u001b[39m message)\n\u001b[0;32m---> 84\u001b[0m     \u001b[38;5;28;01mraise\u001b[39;00m \u001b[38;5;167;01mValueError\u001b[39;00m(message)\n",
      "\u001b[0;31mValueError\u001b[0m: TFTModel requires future covariates. The model applies multi-head attention queries on future inputs. Consider specifying a future encoder with `add_encoders` or setting `add_relative_index` to `True` at model creation (read TFT model docs for more information). These will automatically generate `future_covariates` from indexes."
     ]
    }
   ],
   "source": [
    "eval_model(BlockRNNModel(input_chunk_length=90, output_chunk_length=7))\n",
    "eval_model(TransformerModel(input_chunk_length=90, output_chunk_length=7))\n",
    "\n"
   ]
  },
  {
   "cell_type": "code",
   "execution_count": 111,
   "id": "a7f8a88c",
   "metadata": {},
   "outputs": [
    {
     "name": "stderr",
     "output_type": "stream",
     "text": [
      "[2022-03-02 16:01:55,045] INFO | darts.models.forecasting.torch_forecasting_model | Train dataset contains 340 samples.\n",
      "[2022-03-02 16:01:55,045] INFO | darts.models.forecasting.torch_forecasting_model | Train dataset contains 340 samples.\n",
      "INFO:darts.models.forecasting.torch_forecasting_model:Train dataset contains 340 samples.\n",
      "[2022-03-02 16:01:55,050] INFO | darts.models.forecasting.torch_forecasting_model | Time series values are 64-bits; casting model to float64.\n",
      "[2022-03-02 16:01:55,050] INFO | darts.models.forecasting.torch_forecasting_model | Time series values are 64-bits; casting model to float64.\n",
      "INFO:darts.models.forecasting.torch_forecasting_model:Time series values are 64-bits; casting model to float64.\n",
      "GPU available: False, used: False\n",
      "TPU available: False, using: 0 TPU cores\n",
      "IPU available: False, using: 0 IPUs\n",
      "\n",
      "  | Name      | Type    | Params\n",
      "--------------------------------------\n",
      "0 | criterion | MSELoss | 0     \n",
      "1 | rnn       | LSTM    | 2.8 K \n",
      "2 | V         | Linear  | 26    \n",
      "--------------------------------------\n",
      "2.8 K     Trainable params\n",
      "0         Non-trainable params\n",
      "2.8 K     Total params\n",
      "0.023     Total estimated model params size (MB)\n"
     ]
    },
    {
     "name": "stdout",
     "output_type": "stream",
     "text": [
      "Epoch 99: 100%|███████████████████████████████████████████████████████████████| 11/11 [00:00<00:00, 57.58it/s, loss=992]\n",
      "Predicting: 11it [00:00, ?it/s]\n",
      "model <darts.models.forecasting.rnn_model.RNNModel object at 0x7f102b1b6520> obtains MAPE: 34.82%\n"
     ]
    }
   ],
   "source": [
    "eval_model(RNNModel(model = \"LSTM\", input_chunk_length=90))\n"
   ]
  },
  {
   "cell_type": "code",
   "execution_count": null,
   "id": "02ad29e3",
   "metadata": {},
   "outputs": [],
   "source": []
  },
  {
   "cell_type": "code",
   "execution_count": null,
   "id": "f8b89b0f",
   "metadata": {},
   "outputs": [],
   "source": []
  }
 ],
 "metadata": {
  "kernelspec": {
   "display_name": "Python 3 (ipykernel)",
   "language": "python",
   "name": "python3"
  },
  "language_info": {
   "codemirror_mode": {
    "name": "ipython",
    "version": 3
   },
   "file_extension": ".py",
   "mimetype": "text/x-python",
   "name": "python",
   "nbconvert_exporter": "python",
   "pygments_lexer": "ipython3",
   "version": "3.8.12"
  },
  "toc": {
   "base_numbering": 1,
   "nav_menu": {},
   "number_sections": true,
   "sideBar": true,
   "skip_h1_title": false,
   "title_cell": "Table of Contents",
   "title_sidebar": "Contents",
   "toc_cell": false,
   "toc_position": {},
   "toc_section_display": true,
   "toc_window_display": true
  }
 },
 "nbformat": 4,
 "nbformat_minor": 5
}
