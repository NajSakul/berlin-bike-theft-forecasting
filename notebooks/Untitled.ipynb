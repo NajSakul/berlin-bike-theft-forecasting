{
 "cells": [
  {
   "cell_type": "code",
   "execution_count": 1,
   "id": "c1c6ca61",
   "metadata": {},
   "outputs": [
    {
     "data": {
      "image/png": "[encoded data removed]",
      "text/plain": [
       "<Figure size 432x288 with 1 Axes>"
      ]
     },
     "metadata": {
      "needs_background": "light"
     },
     "output_type": "display_data"
    }
   ],
   "source": [
    "# Import libraries\n",
    "\n",
    "import matplotlib.pyplot as plt\n",
    "import pandas as pd\n",
    "\n",
    "# Define Data\n",
    "\n",
    "df = pd.DataFrame({\n",
    "    'Maths': [12, 15, 10, 3, 1, 5],\n",
    "    'Science': [15, 10, 5, 4, 3, 6],\n",
    "    'Computers':[20, 12, 5, 3, 5, 2]\n",
    "})\n",
    "\n",
    "labels = ['A','B','C','D','E','Fail']\n",
    "\n",
    "# Plot bar chart\n",
    "\n",
    "ax = df.plot(stacked=True, kind='bar')\n",
    "   \n",
    "# Set Tick labels\n",
    "\n",
    "ax.set_xticklabels(labels,rotation='horizontal')\n",
    "\n",
    "ax.legend(title='SUBJECT',title_fontsize=30,loc='center left', bbox_to_anchor=(1, 0.5))\n",
    "\n",
    "# Display chart\n",
    "\n",
    "\n",
    "plt.show()"
   ]
  },
  {
   "cell_type": "code",
   "execution_count": null,
   "id": "776f625e",
   "metadata": {},
   "outputs": [],
   "source": []
  }
 ],
 "metadata": {
  "kernelspec": {
   "display_name": "Python 3 (ipykernel)",
   "language": "python",
   "name": "python3"
  },
  "language_info": {
   "codemirror_mode": {
    "name": "ipython",
    "version": 3
   },
   "file_extension": ".py",
   "mimetype": "text/x-python",
   "name": "python",
   "nbconvert_exporter": "python",
   "pygments_lexer": "ipython3",
   "version": "3.8.12"
  },
  "toc": {
   "base_numbering": 1,
   "nav_menu": {},
   "number_sections": true,
   "sideBar": true,
   "skip_h1_title": false,
   "title_cell": "Table of Contents",
   "title_sidebar": "Contents",
   "toc_cell": false,
   "toc_position": {},
   "toc_section_display": true,
   "toc_window_display": false
  }
 },
 "nbformat": 4,
 "nbformat_minor": 5
}
