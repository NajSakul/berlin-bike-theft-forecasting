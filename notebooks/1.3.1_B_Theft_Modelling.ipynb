{
 "cells": [
  {
   "cell_type": "code",
   "execution_count": 2,
   "id": "78854e09",
   "metadata": {},
   "outputs": [
    {
     "name": "stderr",
     "output_type": "stream",
     "text": [
      "2022-03-08 16:18:57.160185: W tensorflow/stream_executor/platform/default/dso_loader.cc:64] Could not load dynamic library 'libcudart.so.11.0'; dlerror: libcudart.so.11.0: cannot open shared object file: No such file or directory\n",
      "2022-03-08 16:18:57.160315: I tensorflow/stream_executor/cuda/cudart_stub.cc:29] Ignore above cudart dlerror if you do not have a GPU set up on your machine.\n"
     ]
    }
   ],
   "source": [
    "import pandas as pd\n",
    "import numpy as np\n",
    "import matplotlib.pyplot as plt\n",
    "import seaborn as sns\n",
    "\n",
    "# metrics\n",
    "from sklearn.metrics import mean_squared_error\n",
    "from sklearn.metrics import mean_absolute_percentage_error\n",
    "\n",
    "# model building\n",
    "from tensorflow.keras import Sequential\n",
    "from tensorflow.keras import layers\n",
    "from tensorflow.keras.metrics import RootMeanSquaredError\n",
    "from keras.models import Sequential\n",
    "from keras.layers import Dense, SimpleRNN, Flatten\n",
    "from tensorflow.keras.layers import SimpleRNN, LSTM, GRU, Dropout\n",
    "from keras import layers\n",
    "from tensorflow.keras import callbacks\n",
    "\n",
    "# time series methods\n",
    "from statsmodels.tsa.statespace.tools import diff"
   ]
  },
  {
   "cell_type": "markdown",
   "id": "a99497ae",
   "metadata": {},
   "source": [
    "# Read in cleaned data"
   ]
  },
  {
   "cell_type": "code",
   "execution_count": 3,
   "id": "22560fa6",
   "metadata": {},
   "outputs": [
    {
     "name": "stdout",
     "output_type": "stream",
     "text": [
      "/home/jakob/code/hmichinaka/berlin-bike-theft-forecasting/notebooks\r\n"
     ]
    }
   ],
   "source": [
    "!pwd"
   ]
  },
  {
   "cell_type": "code",
   "execution_count": 4,
   "id": "f75322ac",
   "metadata": {
    "scrolled": true
   },
   "outputs": [],
   "source": [
    "df = pd.read_csv(\"../raw_data/bike_theft_cleaned.csv\")"
   ]
  },
  {
   "cell_type": "markdown",
   "id": "7f1d82f6",
   "metadata": {},
   "source": [
    "- No need for padding/masking here, as the sequences are of equal length "
   ]
  },
  {
   "cell_type": "markdown",
   "id": "f0b2cc08",
   "metadata": {},
   "source": [
    "# Group Dataframe by date and LOR"
   ]
  },
  {
   "cell_type": "code",
   "execution_count": 5,
   "id": "54665a1f",
   "metadata": {},
   "outputs": [],
   "source": [
    "# Group dataframe by date and LOR\n",
    "df_theft_model = df.pivot_table(index = \"date_reported\", columns = \"Bezirk\", values = \"type_bike\", aggfunc= \"count\")\n",
    "\n",
    "df_theft_model.fillna(value = 0, inplace=True)"
   ]
  },
  {
   "cell_type": "code",
   "execution_count": 6,
   "id": "6786aef3",
   "metadata": {},
   "outputs": [
    {
     "data": {
      "text/plain": [
       "(424, 13)"
      ]
     },
     "execution_count": 6,
     "metadata": {},
     "output_type": "execute_result"
    }
   ],
   "source": [
    "# create \"total\" column which sums up data for each day\n",
    "df_theft_model[\"total\"] = df_theft_model.sum(axis=1)\n",
    "\n",
    "df_theft_model.shape"
   ]
  },
  {
   "cell_type": "code",
   "execution_count": 7,
   "id": "1deb561e",
   "metadata": {
    "scrolled": false
   },
   "outputs": [
    {
     "data": {
      "text/html": [
       "<div>\n",
       "<style scoped>\n",
       "    .dataframe tbody tr th:only-of-type {\n",
       "        vertical-align: middle;\n",
       "    }\n",
       "\n",
       "    .dataframe tbody tr th {\n",
       "        vertical-align: top;\n",
       "    }\n",
       "\n",
       "    .dataframe thead th {\n",
       "        text-align: right;\n",
       "    }\n",
       "</style>\n",
       "<table border=\"1\" class=\"dataframe\">\n",
       "  <thead>\n",
       "    <tr style=\"text-align: right;\">\n",
       "      <th>Bezirk</th>\n",
       "      <th>1</th>\n",
       "      <th>2</th>\n",
       "      <th>3</th>\n",
       "      <th>4</th>\n",
       "      <th>5</th>\n",
       "      <th>6</th>\n",
       "      <th>7</th>\n",
       "      <th>8</th>\n",
       "      <th>9</th>\n",
       "      <th>10</th>\n",
       "      <th>11</th>\n",
       "      <th>12</th>\n",
       "      <th>total</th>\n",
       "    </tr>\n",
       "    <tr>\n",
       "      <th>date_reported</th>\n",
       "      <th></th>\n",
       "      <th></th>\n",
       "      <th></th>\n",
       "      <th></th>\n",
       "      <th></th>\n",
       "      <th></th>\n",
       "      <th></th>\n",
       "      <th></th>\n",
       "      <th></th>\n",
       "      <th></th>\n",
       "      <th></th>\n",
       "      <th></th>\n",
       "      <th></th>\n",
       "    </tr>\n",
       "  </thead>\n",
       "  <tbody>\n",
       "    <tr>\n",
       "      <th>2021-01-01</th>\n",
       "      <td>0.0</td>\n",
       "      <td>1.0</td>\n",
       "      <td>0.0</td>\n",
       "      <td>1.0</td>\n",
       "      <td>0.0</td>\n",
       "      <td>0.0</td>\n",
       "      <td>0.0</td>\n",
       "      <td>1.0</td>\n",
       "      <td>0.0</td>\n",
       "      <td>1.0</td>\n",
       "      <td>0.0</td>\n",
       "      <td>0.0</td>\n",
       "      <td>4.0</td>\n",
       "    </tr>\n",
       "    <tr>\n",
       "      <th>2021-01-02</th>\n",
       "      <td>1.0</td>\n",
       "      <td>1.0</td>\n",
       "      <td>0.0</td>\n",
       "      <td>2.0</td>\n",
       "      <td>0.0</td>\n",
       "      <td>0.0</td>\n",
       "      <td>0.0</td>\n",
       "      <td>1.0</td>\n",
       "      <td>0.0</td>\n",
       "      <td>0.0</td>\n",
       "      <td>1.0</td>\n",
       "      <td>1.0</td>\n",
       "      <td>7.0</td>\n",
       "    </tr>\n",
       "    <tr>\n",
       "      <th>2021-01-03</th>\n",
       "      <td>0.0</td>\n",
       "      <td>1.0</td>\n",
       "      <td>1.0</td>\n",
       "      <td>0.0</td>\n",
       "      <td>0.0</td>\n",
       "      <td>0.0</td>\n",
       "      <td>0.0</td>\n",
       "      <td>0.0</td>\n",
       "      <td>1.0</td>\n",
       "      <td>0.0</td>\n",
       "      <td>0.0</td>\n",
       "      <td>0.0</td>\n",
       "      <td>3.0</td>\n",
       "    </tr>\n",
       "    <tr>\n",
       "      <th>2021-01-04</th>\n",
       "      <td>2.0</td>\n",
       "      <td>1.0</td>\n",
       "      <td>4.0</td>\n",
       "      <td>4.0</td>\n",
       "      <td>0.0</td>\n",
       "      <td>3.0</td>\n",
       "      <td>2.0</td>\n",
       "      <td>0.0</td>\n",
       "      <td>1.0</td>\n",
       "      <td>1.0</td>\n",
       "      <td>1.0</td>\n",
       "      <td>2.0</td>\n",
       "      <td>21.0</td>\n",
       "    </tr>\n",
       "    <tr>\n",
       "      <th>2021-01-05</th>\n",
       "      <td>6.0</td>\n",
       "      <td>4.0</td>\n",
       "      <td>5.0</td>\n",
       "      <td>7.0</td>\n",
       "      <td>0.0</td>\n",
       "      <td>0.0</td>\n",
       "      <td>5.0</td>\n",
       "      <td>1.0</td>\n",
       "      <td>1.0</td>\n",
       "      <td>0.0</td>\n",
       "      <td>1.0</td>\n",
       "      <td>1.0</td>\n",
       "      <td>31.0</td>\n",
       "    </tr>\n",
       "  </tbody>\n",
       "</table>\n",
       "</div>"
      ],
      "text/plain": [
       "Bezirk           1    2    3    4    5    6    7    8    9   10   11   12  \\\n",
       "date_reported                                                               \n",
       "2021-01-01     0.0  1.0  0.0  1.0  0.0  0.0  0.0  1.0  0.0  1.0  0.0  0.0   \n",
       "2021-01-02     1.0  1.0  0.0  2.0  0.0  0.0  0.0  1.0  0.0  0.0  1.0  1.0   \n",
       "2021-01-03     0.0  1.0  1.0  0.0  0.0  0.0  0.0  0.0  1.0  0.0  0.0  0.0   \n",
       "2021-01-04     2.0  1.0  4.0  4.0  0.0  3.0  2.0  0.0  1.0  1.0  1.0  2.0   \n",
       "2021-01-05     6.0  4.0  5.0  7.0  0.0  0.0  5.0  1.0  1.0  0.0  1.0  1.0   \n",
       "\n",
       "Bezirk         total  \n",
       "date_reported         \n",
       "2021-01-01       4.0  \n",
       "2021-01-02       7.0  \n",
       "2021-01-03       3.0  \n",
       "2021-01-04      21.0  \n",
       "2021-01-05      31.0  "
      ]
     },
     "execution_count": 7,
     "metadata": {},
     "output_type": "execute_result"
    }
   ],
   "source": [
    "df_theft_model.head()"
   ]
  },
  {
   "cell_type": "markdown",
   "id": "ec07ccf2",
   "metadata": {},
   "source": [
    "# Build a baseline model predicting total of stolen bikes"
   ]
  },
  {
   "cell_type": "code",
   "execution_count": 9,
   "id": "52a54fbd",
   "metadata": {
    "scrolled": true
   },
   "outputs": [
    {
     "data": {
      "image/png": "[encoded data removed]",
      "text/plain": [
       "<Figure size 1080x432 with 1 Axes>"
      ]
     },
     "metadata": {
      "needs_background": "light"
     },
     "output_type": "display_data"
    }
   ],
   "source": [
    "plt.figure(figsize=(15, 6))\n",
    "plt.plot(df_theft_model[\"total\"]);"
   ]
  },
  {
   "cell_type": "markdown",
   "id": "e4ba77bd",
   "metadata": {},
   "source": [
    "## Create Train and Test Dataset"
   ]
  },
  {
   "cell_type": "code",
   "execution_count": 10,
   "id": "3dc1ba87",
   "metadata": {},
   "outputs": [
    {
     "data": {
      "text/plain": [
       "424"
      ]
     },
     "execution_count": 10,
     "metadata": {},
     "output_type": "execute_result"
    }
   ],
   "source": [
    "len(df_theft_model)"
   ]
  },
  {
   "cell_type": "code",
   "execution_count": 11,
   "id": "d9102db9",
   "metadata": {},
   "outputs": [
    {
     "data": {
      "text/plain": [
       "339"
      ]
     },
     "execution_count": 11,
     "metadata": {},
     "output_type": "execute_result"
    }
   ],
   "source": [
    "len_ = int(len(df_theft_model)*0.8)\n",
    "len_"
   ]
  },
  {
   "cell_type": "code",
   "execution_count": 12,
   "id": "ecccc583",
   "metadata": {},
   "outputs": [],
   "source": [
    "df_train = df_theft_model[\"total\"][:len_]"
   ]
  },
  {
   "cell_type": "code",
   "execution_count": 13,
   "id": "de6cc975",
   "metadata": {},
   "outputs": [],
   "source": [
    "df_test = df_theft_model[\"total\"][len_:]"
   ]
  },
  {
   "cell_type": "code",
   "execution_count": 14,
   "id": "3e46fb0b",
   "metadata": {},
   "outputs": [
    {
     "data": {
      "text/plain": [
       "(85,)"
      ]
     },
     "execution_count": 14,
     "metadata": {},
     "output_type": "execute_result"
    }
   ],
   "source": [
    "df_test.shape"
   ]
  },
  {
   "cell_type": "markdown",
   "id": "642e9001",
   "metadata": {},
   "source": [
    "## Create Training and Test Arrays"
   ]
  },
  {
   "cell_type": "code",
   "execution_count": 16,
   "id": "03280392",
   "metadata": {},
   "outputs": [],
   "source": [
    "def get_X_y(window_size, future_horizon, dataset):\n",
    "\n",
    "  X = []\n",
    "  y = []\n",
    "\n",
    "  for i in range(0, dataset.shape[0] - window_size - future_horizon):\n",
    "    X.append(dataset[i: i + window_size])\n",
    "    y.append(dataset[i + window_size: i + window_size + future_horizon])\n",
    "\n",
    "  return np.array(X), np.array(y)"
   ]
  },
  {
   "cell_type": "code",
   "execution_count": 17,
   "id": "a759be36",
   "metadata": {},
   "outputs": [],
   "source": [
    "window_size = 31\n",
    "future_horizon = 1\n",
    "\n",
    "X_train, y_train = get_X_y(window_size,future_horizon, df_train)\n",
    "X_test, y_test = get_X_y(window_size, future_horizon, df_test)"
   ]
  },
  {
   "cell_type": "code",
   "execution_count": 18,
   "id": "37f6e603",
   "metadata": {
    "scrolled": true
   },
   "outputs": [
    {
     "data": {
      "text/plain": [
       "(307, 31)"
      ]
     },
     "execution_count": 18,
     "metadata": {},
     "output_type": "execute_result"
    }
   ],
   "source": [
    "X_train.shape"
   ]
  },
  {
   "cell_type": "code",
   "execution_count": 19,
   "id": "1475cb67",
   "metadata": {},
   "outputs": [
    {
     "data": {
      "text/plain": [
       "(53, 31)"
      ]
     },
     "execution_count": 19,
     "metadata": {},
     "output_type": "execute_result"
    }
   ],
   "source": [
    "X_test.shape"
   ]
  },
  {
   "cell_type": "code",
   "execution_count": 20,
   "id": "87b9a1eb",
   "metadata": {},
   "outputs": [],
   "source": [
    "X_test = np.expand_dims(X_test, 2)\n",
    "X_train = np.expand_dims(X_train, 2)"
   ]
  },
  {
   "cell_type": "code",
   "execution_count": 21,
   "id": "b98f0ed3",
   "metadata": {},
   "outputs": [
    {
     "data": {
      "text/plain": [
       "(307, 31, 1)"
      ]
     },
     "execution_count": 21,
     "metadata": {},
     "output_type": "execute_result"
    }
   ],
   "source": [
    "X_train.shape"
   ]
  },
  {
   "cell_type": "code",
   "execution_count": 22,
   "id": "9cc37b9e",
   "metadata": {
    "scrolled": true
   },
   "outputs": [
    {
     "data": {
      "text/plain": [
       "(53, 31, 1)"
      ]
     },
     "execution_count": 22,
     "metadata": {},
     "output_type": "execute_result"
    }
   ],
   "source": [
    "X_test.shape"
   ]
  },
  {
   "cell_type": "markdown",
   "id": "6879643e",
   "metadata": {},
   "source": [
    "## Baseline model"
   ]
  },
  {
   "cell_type": "code",
   "execution_count": 84,
   "id": "430948bd",
   "metadata": {},
   "outputs": [],
   "source": [
    "# create empty dictionary to save the model results\n",
    "models_dict = dict()"
   ]
  },
  {
   "cell_type": "markdown",
   "id": "785a7fee",
   "metadata": {},
   "source": [
    "Baseline model: last observation"
   ]
  },
  {
   "cell_type": "code",
   "execution_count": 23,
   "id": "683eca2c",
   "metadata": {},
   "outputs": [
    {
     "data": {
      "text/plain": [
       "(53, 1)"
      ]
     },
     "execution_count": 23,
     "metadata": {},
     "output_type": "execute_result"
    }
   ],
   "source": [
    "y_pred_base = X_test[:,-1]\n",
    "y_pred_base.shape"
   ]
  },
  {
   "cell_type": "code",
   "execution_count": 24,
   "id": "241472ad",
   "metadata": {
    "scrolled": true
   },
   "outputs": [
    {
     "data": {
      "text/plain": [
       "numpy.ndarray"
      ]
     },
     "execution_count": 24,
     "metadata": {},
     "output_type": "execute_result"
    }
   ],
   "source": [
    "type(y_pred_base)"
   ]
  },
  {
   "cell_type": "code",
   "execution_count": 25,
   "id": "981fd41e",
   "metadata": {},
   "outputs": [
    {
     "data": {
      "text/plain": [
       "numpy.ndarray"
      ]
     },
     "execution_count": 25,
     "metadata": {},
     "output_type": "execute_result"
    }
   ],
   "source": [
    "type(y_test)"
   ]
  },
  {
   "cell_type": "code",
   "execution_count": 26,
   "id": "c3784714",
   "metadata": {},
   "outputs": [
    {
     "data": {
      "text/plain": [
       "21.743157887296032"
      ]
     },
     "execution_count": 26,
     "metadata": {},
     "output_type": "execute_result"
    }
   ],
   "source": [
    "mean_absolute_percentage_error(y_test, y_pred_base)*100"
   ]
  },
  {
   "cell_type": "code",
   "execution_count": 27,
   "id": "7b90663e",
   "metadata": {
    "scrolled": false
   },
   "outputs": [
    {
     "data": {
      "image/png": "[encoded data removed]",
      "text/plain": [
       "<Figure size 1080x432 with 1 Axes>"
      ]
     },
     "metadata": {
      "needs_background": "light"
     },
     "output_type": "display_data"
    }
   ],
   "source": [
    "plt.figure(figsize = (15,6))\n",
    "plt.plot(y_pred_base, label = \"prediction\")\n",
    "plt.plot(y_test, label = \"true\")\n",
    "plt.legend();"
   ]
  },
  {
   "cell_type": "code",
   "execution_count": 86,
   "id": "f6d34b1d",
   "metadata": {},
   "outputs": [],
   "source": [
    "models_dict[\"baseline_model\"] = {\"model_description\": \"Baseline model, last observation\", \n",
    "                                \"MAPE\": mean_absolute_percentage_error(y_test, y_pred_base)*100}"
   ]
  },
  {
   "cell_type": "markdown",
   "id": "c970e6d2",
   "metadata": {},
   "source": [
    "## KFold Cross-Validation"
   ]
  },
  {
   "cell_type": "code",
   "execution_count": 109,
   "id": "c7d3171a",
   "metadata": {},
   "outputs": [],
   "source": [
    "from sklearn.model_selection import KFold\n",
    "\n",
    "def model_cross_validation(model):\n",
    "    model.compile(loss = \"mse\",\n",
    "                 optimizer = \"adam\",\n",
    "                 metrics = \"mean_absolute_percentage_error\")\n",
    "    \n",
    "    results = []\n",
    "    kf = KFold(n_splits = 5)\n",
    "    kf.get_n_splits(X_train)\n",
    "\n",
    "    for train_index, test_index in kf.split(X_train):\n",
    "\n",
    "        # split the data into train and test set\n",
    "        X_train_cv = X_train[train_index]\n",
    "        X_test_cv = X_train[test_index]\n",
    "        y_train_cv = y_train[train_index]\n",
    "        y_test_cv = y_train[test_index]\n",
    "\n",
    "        model = model \n",
    "        \n",
    "        # Fit the model\n",
    "        model.fit(X_train_cv, y_train_cv, batch_size = 16, epochs = 300, verbose = 0)\n",
    "        \n",
    "        # Evaluate the model on the test data\n",
    "        results.append(model.evaluate(X_test_cv, y_test_cv))\n",
    "        \n",
    "    return results"
   ]
  },
  {
   "cell_type": "markdown",
   "id": "c76398bb",
   "metadata": {},
   "source": [
    "## Base model with just one dense layer"
   ]
  },
  {
   "cell_type": "code",
   "execution_count": 266,
   "id": "c5882834",
   "metadata": {},
   "outputs": [
    {
     "data": {
      "text/plain": [
       "(307, 31, 1)"
      ]
     },
     "execution_count": 266,
     "metadata": {},
     "output_type": "execute_result"
    }
   ],
   "source": [
    "X_train.shape"
   ]
  },
  {
   "cell_type": "code",
   "execution_count": 52,
   "id": "b1f7f940",
   "metadata": {},
   "outputs": [],
   "source": [
    "base_model = Sequential([\n",
    "    Flatten(input_shape=X_train.shape[1:]),\n",
    "    Dense(1)\n",
    "])"
   ]
  },
  {
   "cell_type": "code",
   "execution_count": 54,
   "id": "170077e7",
   "metadata": {},
   "outputs": [
    {
     "name": "stdout",
     "output_type": "stream",
     "text": [
      "2/2 [==============================] - 0s 2ms/step - loss: 87.3690 - mean_absolute_percentage_error: 26.9954\n",
      "2/2 [==============================] - 0s 2ms/step - loss: 78.5257 - mean_absolute_percentage_error: 13.8470\n",
      "2/2 [==============================] - 0s 2ms/step - loss: 151.2811 - mean_absolute_percentage_error: 17.3498\n",
      "2/2 [==============================] - 0s 2ms/step - loss: 114.9378 - mean_absolute_percentage_error: 12.3631\n",
      "2/2 [==============================] - 0s 3ms/step - loss: 124.3003 - mean_absolute_percentage_error: 16.2282\n"
     ]
    }
   ],
   "source": [
    "base_model_cv_results = model_cross_validation(base_model)"
   ]
  },
  {
   "cell_type": "code",
   "execution_count": 87,
   "id": "2999f273",
   "metadata": {},
   "outputs": [
    {
     "data": {
      "text/plain": [
       "17.356696701049806"
      ]
     },
     "execution_count": 87,
     "metadata": {},
     "output_type": "execute_result"
    }
   ],
   "source": [
    "np.mean(base_model_cv_results, axis = 0)[1]"
   ]
  },
  {
   "cell_type": "code",
   "execution_count": 62,
   "id": "16a34d48",
   "metadata": {},
   "outputs": [
    {
     "name": "stdout",
     "output_type": "stream",
     "text": [
      "Model: \"sequential_1\"\n",
      "_________________________________________________________________\n",
      " Layer (type)                Output Shape              Param #   \n",
      "=================================================================\n",
      " flatten_1 (Flatten)         (None, 31)                0         \n",
      "                                                                 \n",
      " dense_1 (Dense)             (None, 1)                 32        \n",
      "                                                                 \n",
      "=================================================================\n",
      "Total params: 32\n",
      "Trainable params: 32\n",
      "Non-trainable params: 0\n",
      "_________________________________________________________________\n"
     ]
    }
   ],
   "source": [
    "base_model.summary()"
   ]
  },
  {
   "cell_type": "code",
   "execution_count": 88,
   "id": "72622e7e",
   "metadata": {},
   "outputs": [],
   "source": [
    "models_dict[\"base_model\"] ={\"model_description\": \"just one dense layer\",\n",
    "                            \"model_summary\": base_model, \n",
    "                            \"MAPE\" : np.mean(base_model_cv_results, axis = 0)[1]}"
   ]
  },
  {
   "cell_type": "code",
   "execution_count": 89,
   "id": "842a5859",
   "metadata": {},
   "outputs": [
    {
     "data": {
      "text/plain": [
       "{'baseline_model': {'model_description': 'Baseline model, last observation',\n",
       "  'MAPE': 27.97436259331299},\n",
       " 'base_model': {'model_description': 'just one dense layer',\n",
       "  'model_summary': <keras.engine.sequential.Sequential at 0x7fe734f0eb20>,\n",
       "  'MAPE': 17.356696701049806}}"
      ]
     },
     "execution_count": 89,
     "metadata": {},
     "output_type": "execute_result"
    }
   ],
   "source": [
    "models_dict"
   ]
  },
  {
   "cell_type": "code",
   "execution_count": 90,
   "id": "7d378c7c",
   "metadata": {},
   "outputs": [
    {
     "data": {
      "text/html": [
       "<div>\n",
       "<style scoped>\n",
       "    .dataframe tbody tr th:only-of-type {\n",
       "        vertical-align: middle;\n",
       "    }\n",
       "\n",
       "    .dataframe tbody tr th {\n",
       "        vertical-align: top;\n",
       "    }\n",
       "\n",
       "    .dataframe thead th {\n",
       "        text-align: right;\n",
       "    }\n",
       "</style>\n",
       "<table border=\"1\" class=\"dataframe\">\n",
       "  <thead>\n",
       "    <tr style=\"text-align: right;\">\n",
       "      <th></th>\n",
       "      <th>baseline_model</th>\n",
       "      <th>base_model</th>\n",
       "    </tr>\n",
       "  </thead>\n",
       "  <tbody>\n",
       "    <tr>\n",
       "      <th>model_description</th>\n",
       "      <td>Baseline model, last observation</td>\n",
       "      <td>just one dense layer</td>\n",
       "    </tr>\n",
       "    <tr>\n",
       "      <th>MAPE</th>\n",
       "      <td>27.974363</td>\n",
       "      <td>17.356697</td>\n",
       "    </tr>\n",
       "    <tr>\n",
       "      <th>model_summary</th>\n",
       "      <td>NaN</td>\n",
       "      <td>&lt;keras.engine.sequential.Sequential object at ...</td>\n",
       "    </tr>\n",
       "  </tbody>\n",
       "</table>\n",
       "</div>"
      ],
      "text/plain": [
       "                                     baseline_model  \\\n",
       "model_description  Baseline model, last observation   \n",
       "MAPE                                      27.974363   \n",
       "model_summary                                   NaN   \n",
       "\n",
       "                                                          base_model  \n",
       "model_description                               just one dense layer  \n",
       "MAPE                                                       17.356697  \n",
       "model_summary      <keras.engine.sequential.Sequential object at ...  "
      ]
     },
     "execution_count": 90,
     "metadata": {},
     "output_type": "execute_result"
    }
   ],
   "source": [
    "pd.DataFrame.from_dict(models_dict)"
   ]
  },
  {
   "cell_type": "code",
   "execution_count": 203,
   "id": "7086edde",
   "metadata": {},
   "outputs": [
    {
     "data": {
      "text/plain": [
       "<keras.engine.sequential.Sequential at 0x7fe6d4ec90d0>"
      ]
     },
     "execution_count": 203,
     "metadata": {},
     "output_type": "execute_result"
    }
   ],
   "source": [
    "base_model."
   ]
  },
  {
   "cell_type": "code",
   "execution_count": 202,
   "id": "ff865385",
   "metadata": {},
   "outputs": [
    {
     "data": {
      "image/png": "[encoded data removed]",
      "text/plain": [
       "<Figure size 1080x432 with 1 Axes>"
      ]
     },
     "metadata": {
      "needs_background": "light"
     },
     "output_type": "display_data"
    }
   ],
   "source": [
    "plt.figure(figsize = (15,6))\n",
    "plt.plot(base_model.predict(X_test), label = \"prediction\")\n",
    "plt.plot(y_test, label = \"true\")\n",
    "plt.legend();"
   ]
  },
  {
   "cell_type": "code",
   "execution_count": null,
   "id": "c1fd731f",
   "metadata": {},
   "outputs": [],
   "source": []
  },
  {
   "cell_type": "code",
   "execution_count": null,
   "id": "2daa51b3",
   "metadata": {},
   "outputs": [],
   "source": []
  },
  {
   "cell_type": "markdown",
   "id": "422696ec",
   "metadata": {},
   "source": [
    "## Simple RNN model"
   ]
  },
  {
   "cell_type": "code",
   "execution_count": 91,
   "id": "ab5b202d",
   "metadata": {},
   "outputs": [],
   "source": [
    "es = callbacks.EarlyStopping(patience=5, restore_best_weights=True)"
   ]
  },
  {
   "cell_type": "code",
   "execution_count": 104,
   "id": "9d1581f7",
   "metadata": {},
   "outputs": [],
   "source": [
    "rnn_model = Sequential()\n",
    "rnn_model.add(SimpleRNN(units = 10, activation = \"tanh\", input_shape = X_train.shape[1:]))\n",
    "rnn_model.add(Dense(1, activation = \"linear\"))"
   ]
  },
  {
   "cell_type": "code",
   "execution_count": 105,
   "id": "654fecc0",
   "metadata": {
    "scrolled": true
   },
   "outputs": [
    {
     "name": "stdout",
     "output_type": "stream",
     "text": [
      "2/2 [==============================] - 0s 6ms/step - loss: 156.3317 - mean_absolute_percentage_error: 42.3237\n",
      "2/2 [==============================] - 0s 5ms/step - loss: 80.9163 - mean_absolute_percentage_error: 15.2010\n",
      "2/2 [==============================] - 0s 4ms/step - loss: 167.6869 - mean_absolute_percentage_error: 18.9569\n",
      "2/2 [==============================] - 0s 5ms/step - loss: 185.5433 - mean_absolute_percentage_error: 15.4242\n",
      "2/2 [==============================] - 0s 4ms/step - loss: 160.3777 - mean_absolute_percentage_error: 18.6283\n"
     ]
    }
   ],
   "source": [
    "rnn_model_cv_results = model_cross_validation(rnn_model)"
   ]
  },
  {
   "cell_type": "code",
   "execution_count": 106,
   "id": "c9d37bd5",
   "metadata": {},
   "outputs": [
    {
     "data": {
      "text/plain": [
       "array([150.17118073,  22.10684052])"
      ]
     },
     "execution_count": 106,
     "metadata": {},
     "output_type": "execute_result"
    }
   ],
   "source": [
    "np.mean(rnn_model_cv_results, axis=0)"
   ]
  },
  {
   "cell_type": "code",
   "execution_count": 107,
   "id": "d4e272b5",
   "metadata": {},
   "outputs": [],
   "source": [
    "models_dict[\"one level RNN\"] = {\"model_description\": \"one simple RNN Layer with 10 units, one dense output layer\",\n",
    "                               \"model_summary\": rnn_model, \n",
    "                               \"MAPE\": np.mean(rnn_model_cv_results, axis=0)[1]}"
   ]
  },
  {
   "cell_type": "code",
   "execution_count": 108,
   "id": "55d80b43",
   "metadata": {},
   "outputs": [
    {
     "data": {
      "text/html": [
       "<div>\n",
       "<style scoped>\n",
       "    .dataframe tbody tr th:only-of-type {\n",
       "        vertical-align: middle;\n",
       "    }\n",
       "\n",
       "    .dataframe tbody tr th {\n",
       "        vertical-align: top;\n",
       "    }\n",
       "\n",
       "    .dataframe thead th {\n",
       "        text-align: right;\n",
       "    }\n",
       "</style>\n",
       "<table border=\"1\" class=\"dataframe\">\n",
       "  <thead>\n",
       "    <tr style=\"text-align: right;\">\n",
       "      <th></th>\n",
       "      <th>baseline_model</th>\n",
       "      <th>base_model</th>\n",
       "      <th>one level RNN</th>\n",
       "    </tr>\n",
       "  </thead>\n",
       "  <tbody>\n",
       "    <tr>\n",
       "      <th>model_description</th>\n",
       "      <td>Baseline model, last observation</td>\n",
       "      <td>just one dense layer</td>\n",
       "      <td>one simple RNN Layer with 10 units, one dense ...</td>\n",
       "    </tr>\n",
       "    <tr>\n",
       "      <th>MAPE</th>\n",
       "      <td>27.974363</td>\n",
       "      <td>17.356697</td>\n",
       "      <td>22.106841</td>\n",
       "    </tr>\n",
       "    <tr>\n",
       "      <th>model_summary</th>\n",
       "      <td>NaN</td>\n",
       "      <td>&lt;keras.engine.sequential.Sequential object at ...</td>\n",
       "      <td>&lt;keras.engine.sequential.Sequential object at ...</td>\n",
       "    </tr>\n",
       "  </tbody>\n",
       "</table>\n",
       "</div>"
      ],
      "text/plain": [
       "                                     baseline_model  \\\n",
       "model_description  Baseline model, last observation   \n",
       "MAPE                                      27.974363   \n",
       "model_summary                                   NaN   \n",
       "\n",
       "                                                          base_model  \\\n",
       "model_description                               just one dense layer   \n",
       "MAPE                                                       17.356697   \n",
       "model_summary      <keras.engine.sequential.Sequential object at ...   \n",
       "\n",
       "                                                       one level RNN  \n",
       "model_description  one simple RNN Layer with 10 units, one dense ...  \n",
       "MAPE                                                       22.106841  \n",
       "model_summary      <keras.engine.sequential.Sequential object at ...  "
      ]
     },
     "execution_count": 108,
     "metadata": {},
     "output_type": "execute_result"
    }
   ],
   "source": [
    "pd.DataFrame.from_dict(models_dict)"
   ]
  },
  {
   "cell_type": "markdown",
   "id": "5dd210cd",
   "metadata": {},
   "source": [
    "## Deep RNN"
   ]
  },
  {
   "cell_type": "code",
   "execution_count": 114,
   "id": "9888ae0b",
   "metadata": {},
   "outputs": [],
   "source": [
    "deep_rnn = Sequential([\n",
    "    SimpleRNN(20, activation = \"tanh\", return_sequences = True, input_shape = X_train.shape[1:]),\n",
    "    SimpleRNN(20, activation = \"tanh\", return_sequences = False),\n",
    "    Dense(1, activation = \"linear\")\n",
    "])"
   ]
  },
  {
   "cell_type": "code",
   "execution_count": 115,
   "id": "b7a3208d",
   "metadata": {},
   "outputs": [
    {
     "name": "stdout",
     "output_type": "stream",
     "text": [
      "2/2 [==============================] - 0s 7ms/step - loss: 149.4294 - mean_absolute_percentage_error: 38.1358\n",
      "2/2 [==============================] - 0s 6ms/step - loss: 104.4946 - mean_absolute_percentage_error: 16.3582\n",
      "2/2 [==============================] - 0s 5ms/step - loss: 143.4991 - mean_absolute_percentage_error: 17.3405\n",
      "2/2 [==============================] - 0s 5ms/step - loss: 183.3725 - mean_absolute_percentage_error: 15.5226\n",
      "2/2 [==============================] - 0s 5ms/step - loss: 137.4257 - mean_absolute_percentage_error: 16.5881\n"
     ]
    }
   ],
   "source": [
    "deep_rnn_cv_results = model_cross_validation(deep_rnn)"
   ]
  },
  {
   "cell_type": "code",
   "execution_count": 116,
   "id": "ef3a3923",
   "metadata": {},
   "outputs": [
    {
     "name": "stdout",
     "output_type": "stream",
     "text": [
      "Model: \"sequential_10\"\n",
      "_________________________________________________________________\n",
      " Layer (type)                Output Shape              Param #   \n",
      "=================================================================\n",
      " simple_rnn_10 (SimpleRNN)   (None, 31, 20)            440       \n",
      "                                                                 \n",
      " simple_rnn_11 (SimpleRNN)   (None, 20)                820       \n",
      "                                                                 \n",
      " dense_6 (Dense)             (None, 1)                 21        \n",
      "                                                                 \n",
      "=================================================================\n",
      "Total params: 1,281\n",
      "Trainable params: 1,281\n",
      "Non-trainable params: 0\n",
      "_________________________________________________________________\n"
     ]
    }
   ],
   "source": [
    "deep_rnn.summary()"
   ]
  },
  {
   "cell_type": "code",
   "execution_count": 117,
   "id": "f4fcc529",
   "metadata": {},
   "outputs": [
    {
     "data": {
      "text/plain": [
       "array([143.64427032,  20.78903675])"
      ]
     },
     "execution_count": 117,
     "metadata": {},
     "output_type": "execute_result"
    }
   ],
   "source": [
    "np.mean(deep_rnn_cv_results, axis=0)"
   ]
  },
  {
   "cell_type": "code",
   "execution_count": 118,
   "id": "88f36b9b",
   "metadata": {},
   "outputs": [],
   "source": [
    "models_dict[\"deep RNN\"] = {\"model_description\": \"two simple RNN layers with 20 units each\",\n",
    "                               \"model_summary\": deep_rnn, \n",
    "                               \"MAPE\": np.mean(deep_rnn_cv_results, axis=0)[1]}"
   ]
  },
  {
   "cell_type": "code",
   "execution_count": 119,
   "id": "ea2debf8",
   "metadata": {},
   "outputs": [
    {
     "data": {
      "text/html": [
       "<div>\n",
       "<style scoped>\n",
       "    .dataframe tbody tr th:only-of-type {\n",
       "        vertical-align: middle;\n",
       "    }\n",
       "\n",
       "    .dataframe tbody tr th {\n",
       "        vertical-align: top;\n",
       "    }\n",
       "\n",
       "    .dataframe thead th {\n",
       "        text-align: right;\n",
       "    }\n",
       "</style>\n",
       "<table border=\"1\" class=\"dataframe\">\n",
       "  <thead>\n",
       "    <tr style=\"text-align: right;\">\n",
       "      <th></th>\n",
       "      <th>baseline_model</th>\n",
       "      <th>base_model</th>\n",
       "      <th>one level RNN</th>\n",
       "      <th>deep RNN</th>\n",
       "    </tr>\n",
       "  </thead>\n",
       "  <tbody>\n",
       "    <tr>\n",
       "      <th>model_description</th>\n",
       "      <td>Baseline model, last observation</td>\n",
       "      <td>just one dense layer</td>\n",
       "      <td>one simple RNN Layer with 10 units, one dense ...</td>\n",
       "      <td>two simple RNN layers with 20 units each</td>\n",
       "    </tr>\n",
       "    <tr>\n",
       "      <th>MAPE</th>\n",
       "      <td>27.974363</td>\n",
       "      <td>17.356697</td>\n",
       "      <td>22.106841</td>\n",
       "      <td>20.789037</td>\n",
       "    </tr>\n",
       "    <tr>\n",
       "      <th>model_summary</th>\n",
       "      <td>NaN</td>\n",
       "      <td>&lt;keras.engine.sequential.Sequential object at ...</td>\n",
       "      <td>&lt;keras.engine.sequential.Sequential object at ...</td>\n",
       "      <td>&lt;keras.engine.sequential.Sequential object at ...</td>\n",
       "    </tr>\n",
       "  </tbody>\n",
       "</table>\n",
       "</div>"
      ],
      "text/plain": [
       "                                     baseline_model  \\\n",
       "model_description  Baseline model, last observation   \n",
       "MAPE                                      27.974363   \n",
       "model_summary                                   NaN   \n",
       "\n",
       "                                                          base_model  \\\n",
       "model_description                               just one dense layer   \n",
       "MAPE                                                       17.356697   \n",
       "model_summary      <keras.engine.sequential.Sequential object at ...   \n",
       "\n",
       "                                                       one level RNN  \\\n",
       "model_description  one simple RNN Layer with 10 units, one dense ...   \n",
       "MAPE                                                       22.106841   \n",
       "model_summary      <keras.engine.sequential.Sequential object at ...   \n",
       "\n",
       "                                                            deep RNN  \n",
       "model_description           two simple RNN layers with 20 units each  \n",
       "MAPE                                                       20.789037  \n",
       "model_summary      <keras.engine.sequential.Sequential object at ...  "
      ]
     },
     "execution_count": 119,
     "metadata": {},
     "output_type": "execute_result"
    }
   ],
   "source": [
    "pd.DataFrame.from_dict(models_dict)"
   ]
  },
  {
   "cell_type": "markdown",
   "id": "8d575256",
   "metadata": {},
   "source": [
    "## Simple LSTM Model"
   ]
  },
  {
   "cell_type": "code",
   "execution_count": 120,
   "id": "52ae2862",
   "metadata": {
    "scrolled": true
   },
   "outputs": [],
   "source": [
    "lstm_model = Sequential()\n",
    "lstm_model.add(LSTM(units=10, activation='tanh', input_shape = X_train.shape[1:]))\n",
    "lstm_model.add(Dense(1, activation=\"linear\"))"
   ]
  },
  {
   "cell_type": "code",
   "execution_count": 121,
   "id": "3a92403b",
   "metadata": {},
   "outputs": [
    {
     "name": "stdout",
     "output_type": "stream",
     "text": [
      "2/2 [==============================] - 0s 5ms/step - loss: 185.6770 - mean_absolute_percentage_error: 47.4983\n",
      "2/2 [==============================] - 0s 6ms/step - loss: 120.2565 - mean_absolute_percentage_error: 18.8408\n",
      "2/2 [==============================] - 0s 4ms/step - loss: 146.8461 - mean_absolute_percentage_error: 17.1848\n",
      "2/2 [==============================] - 0s 4ms/step - loss: 162.1664 - mean_absolute_percentage_error: 14.4376\n",
      "2/2 [==============================] - 0s 4ms/step - loss: 140.6490 - mean_absolute_percentage_error: 17.2392\n"
     ]
    }
   ],
   "source": [
    "lstm_model_cv_results = model_cross_validation(lstm_model)"
   ]
  },
  {
   "cell_type": "code",
   "execution_count": 122,
   "id": "3894cdf5",
   "metadata": {},
   "outputs": [
    {
     "name": "stdout",
     "output_type": "stream",
     "text": [
      "Model: \"sequential_11\"\n",
      "_________________________________________________________________\n",
      " Layer (type)                Output Shape              Param #   \n",
      "=================================================================\n",
      " lstm (LSTM)                 (None, 10)                480       \n",
      "                                                                 \n",
      " dense_7 (Dense)             (None, 1)                 11        \n",
      "                                                                 \n",
      "=================================================================\n",
      "Total params: 491\n",
      "Trainable params: 491\n",
      "Non-trainable params: 0\n",
      "_________________________________________________________________\n"
     ]
    }
   ],
   "source": [
    "lstm_model.summary()"
   ]
  },
  {
   "cell_type": "code",
   "execution_count": 123,
   "id": "04a1d7aa",
   "metadata": {},
   "outputs": [
    {
     "data": {
      "text/plain": [
       "array([151.11899872,  23.04013958])"
      ]
     },
     "execution_count": 123,
     "metadata": {},
     "output_type": "execute_result"
    }
   ],
   "source": [
    "np.mean(lstm_model_cv_results, axis=0)"
   ]
  },
  {
   "cell_type": "code",
   "execution_count": 124,
   "id": "7225bf02",
   "metadata": {},
   "outputs": [],
   "source": [
    "models_dict[\"simple LSTM\"] = {\"model_description\": \"one LSTM layer with 10 units\",\n",
    "                               \"model_summary\": lstm_model, \n",
    "                               \"MAPE\": np.mean(lstm_model_cv_results, axis=0)[1]}"
   ]
  },
  {
   "cell_type": "code",
   "execution_count": 125,
   "id": "afed3396",
   "metadata": {},
   "outputs": [
    {
     "data": {
      "text/html": [
       "<div>\n",
       "<style scoped>\n",
       "    .dataframe tbody tr th:only-of-type {\n",
       "        vertical-align: middle;\n",
       "    }\n",
       "\n",
       "    .dataframe tbody tr th {\n",
       "        vertical-align: top;\n",
       "    }\n",
       "\n",
       "    .dataframe thead th {\n",
       "        text-align: right;\n",
       "    }\n",
       "</style>\n",
       "<table border=\"1\" class=\"dataframe\">\n",
       "  <thead>\n",
       "    <tr style=\"text-align: right;\">\n",
       "      <th></th>\n",
       "      <th>baseline_model</th>\n",
       "      <th>base_model</th>\n",
       "      <th>one level RNN</th>\n",
       "      <th>deep RNN</th>\n",
       "      <th>simple LSTM</th>\n",
       "    </tr>\n",
       "  </thead>\n",
       "  <tbody>\n",
       "    <tr>\n",
       "      <th>model_description</th>\n",
       "      <td>Baseline model, last observation</td>\n",
       "      <td>just one dense layer</td>\n",
       "      <td>one simple RNN Layer with 10 units, one dense ...</td>\n",
       "      <td>two simple RNN layers with 20 units each</td>\n",
       "      <td>one LSTM layer with 10 units</td>\n",
       "    </tr>\n",
       "    <tr>\n",
       "      <th>MAPE</th>\n",
       "      <td>27.974363</td>\n",
       "      <td>17.356697</td>\n",
       "      <td>22.106841</td>\n",
       "      <td>20.789037</td>\n",
       "      <td>23.04014</td>\n",
       "    </tr>\n",
       "    <tr>\n",
       "      <th>model_summary</th>\n",
       "      <td>NaN</td>\n",
       "      <td>&lt;keras.engine.sequential.Sequential object at ...</td>\n",
       "      <td>&lt;keras.engine.sequential.Sequential object at ...</td>\n",
       "      <td>&lt;keras.engine.sequential.Sequential object at ...</td>\n",
       "      <td>&lt;keras.engine.sequential.Sequential object at ...</td>\n",
       "    </tr>\n",
       "  </tbody>\n",
       "</table>\n",
       "</div>"
      ],
      "text/plain": [
       "                                     baseline_model  \\\n",
       "model_description  Baseline model, last observation   \n",
       "MAPE                                      27.974363   \n",
       "model_summary                                   NaN   \n",
       "\n",
       "                                                          base_model  \\\n",
       "model_description                               just one dense layer   \n",
       "MAPE                                                       17.356697   \n",
       "model_summary      <keras.engine.sequential.Sequential object at ...   \n",
       "\n",
       "                                                       one level RNN  \\\n",
       "model_description  one simple RNN Layer with 10 units, one dense ...   \n",
       "MAPE                                                       22.106841   \n",
       "model_summary      <keras.engine.sequential.Sequential object at ...   \n",
       "\n",
       "                                                            deep RNN  \\\n",
       "model_description           two simple RNN layers with 20 units each   \n",
       "MAPE                                                       20.789037   \n",
       "model_summary      <keras.engine.sequential.Sequential object at ...   \n",
       "\n",
       "                                                         simple LSTM  \n",
       "model_description                       one LSTM layer with 10 units  \n",
       "MAPE                                                        23.04014  \n",
       "model_summary      <keras.engine.sequential.Sequential object at ...  "
      ]
     },
     "execution_count": 125,
     "metadata": {},
     "output_type": "execute_result"
    }
   ],
   "source": [
    "pd.DataFrame.from_dict(models_dict)"
   ]
  },
  {
   "cell_type": "markdown",
   "id": "d5f61bef",
   "metadata": {},
   "source": [
    "## GRU Model"
   ]
  },
  {
   "cell_type": "code",
   "execution_count": 126,
   "id": "1404aa6d",
   "metadata": {},
   "outputs": [],
   "source": [
    "gru_model = Sequential()\n",
    "gru_model.add(GRU(units=10, activation='tanh', input_shape = X_train.shape[1:]))\n",
    "gru_model.add(Dense(1, activation=\"linear\"))"
   ]
  },
  {
   "cell_type": "code",
   "execution_count": 127,
   "id": "f7e04d65",
   "metadata": {},
   "outputs": [
    {
     "name": "stdout",
     "output_type": "stream",
     "text": [
      "2/2 [==============================] - 0s 5ms/step - loss: 155.3525 - mean_absolute_percentage_error: 42.8801\n",
      "2/2 [==============================] - 0s 4ms/step - loss: 91.6939 - mean_absolute_percentage_error: 16.6887\n",
      "2/2 [==============================] - 0s 4ms/step - loss: 156.5422 - mean_absolute_percentage_error: 17.6851\n",
      "2/2 [==============================] - 0s 4ms/step - loss: 174.0810 - mean_absolute_percentage_error: 15.0263\n",
      "2/2 [==============================] - 0s 4ms/step - loss: 147.7572 - mean_absolute_percentage_error: 17.1797\n"
     ]
    }
   ],
   "source": [
    "gru_model_cv_results = model_cross_validation(gru_model)"
   ]
  },
  {
   "cell_type": "code",
   "execution_count": 128,
   "id": "3e8cff59",
   "metadata": {},
   "outputs": [
    {
     "name": "stdout",
     "output_type": "stream",
     "text": [
      "Model: \"sequential_12\"\n",
      "_________________________________________________________________\n",
      " Layer (type)                Output Shape              Param #   \n",
      "=================================================================\n",
      " gru (GRU)                   (None, 10)                390       \n",
      "                                                                 \n",
      " dense_8 (Dense)             (None, 1)                 11        \n",
      "                                                                 \n",
      "=================================================================\n",
      "Total params: 401\n",
      "Trainable params: 401\n",
      "Non-trainable params: 0\n",
      "_________________________________________________________________\n"
     ]
    }
   ],
   "source": [
    "gru_model.summary()"
   ]
  },
  {
   "cell_type": "code",
   "execution_count": 129,
   "id": "8b897076",
   "metadata": {},
   "outputs": [
    {
     "data": {
      "text/plain": [
       "array([145.08535309,  21.89199314])"
      ]
     },
     "execution_count": 129,
     "metadata": {},
     "output_type": "execute_result"
    }
   ],
   "source": [
    "np.mean(gru_model_cv_results, axis=0)"
   ]
  },
  {
   "cell_type": "code",
   "execution_count": 130,
   "id": "dfb60a1e",
   "metadata": {},
   "outputs": [],
   "source": [
    "models_dict[\"simple GRU\"] = {\"model_description\": \"one GRU layer with 10 units\",\n",
    "                               \"model_summary\": gru_model, \n",
    "                               \"MAPE\": np.mean(gru_model_cv_results, axis=0)[1]}"
   ]
  },
  {
   "cell_type": "code",
   "execution_count": 131,
   "id": "e3153fcb",
   "metadata": {},
   "outputs": [
    {
     "data": {
      "text/html": [
       "<div>\n",
       "<style scoped>\n",
       "    .dataframe tbody tr th:only-of-type {\n",
       "        vertical-align: middle;\n",
       "    }\n",
       "\n",
       "    .dataframe tbody tr th {\n",
       "        vertical-align: top;\n",
       "    }\n",
       "\n",
       "    .dataframe thead th {\n",
       "        text-align: right;\n",
       "    }\n",
       "</style>\n",
       "<table border=\"1\" class=\"dataframe\">\n",
       "  <thead>\n",
       "    <tr style=\"text-align: right;\">\n",
       "      <th></th>\n",
       "      <th>baseline_model</th>\n",
       "      <th>base_model</th>\n",
       "      <th>one level RNN</th>\n",
       "      <th>deep RNN</th>\n",
       "      <th>simple LSTM</th>\n",
       "      <th>simple GRU</th>\n",
       "    </tr>\n",
       "  </thead>\n",
       "  <tbody>\n",
       "    <tr>\n",
       "      <th>model_description</th>\n",
       "      <td>Baseline model, last observation</td>\n",
       "      <td>just one dense layer</td>\n",
       "      <td>one simple RNN Layer with 10 units, one dense ...</td>\n",
       "      <td>two simple RNN layers with 20 units each</td>\n",
       "      <td>one LSTM layer with 10 units</td>\n",
       "      <td>one GRU layer with 10 units</td>\n",
       "    </tr>\n",
       "    <tr>\n",
       "      <th>MAPE</th>\n",
       "      <td>27.974363</td>\n",
       "      <td>17.356697</td>\n",
       "      <td>22.106841</td>\n",
       "      <td>20.789037</td>\n",
       "      <td>23.04014</td>\n",
       "      <td>21.891993</td>\n",
       "    </tr>\n",
       "    <tr>\n",
       "      <th>model_summary</th>\n",
       "      <td>NaN</td>\n",
       "      <td>&lt;keras.engine.sequential.Sequential object at ...</td>\n",
       "      <td>&lt;keras.engine.sequential.Sequential object at ...</td>\n",
       "      <td>&lt;keras.engine.sequential.Sequential object at ...</td>\n",
       "      <td>&lt;keras.engine.sequential.Sequential object at ...</td>\n",
       "      <td>&lt;keras.engine.sequential.Sequential object at ...</td>\n",
       "    </tr>\n",
       "  </tbody>\n",
       "</table>\n",
       "</div>"
      ],
      "text/plain": [
       "                                     baseline_model  \\\n",
       "model_description  Baseline model, last observation   \n",
       "MAPE                                      27.974363   \n",
       "model_summary                                   NaN   \n",
       "\n",
       "                                                          base_model  \\\n",
       "model_description                               just one dense layer   \n",
       "MAPE                                                       17.356697   \n",
       "model_summary      <keras.engine.sequential.Sequential object at ...   \n",
       "\n",
       "                                                       one level RNN  \\\n",
       "model_description  one simple RNN Layer with 10 units, one dense ...   \n",
       "MAPE                                                       22.106841   \n",
       "model_summary      <keras.engine.sequential.Sequential object at ...   \n",
       "\n",
       "                                                            deep RNN  \\\n",
       "model_description           two simple RNN layers with 20 units each   \n",
       "MAPE                                                       20.789037   \n",
       "model_summary      <keras.engine.sequential.Sequential object at ...   \n",
       "\n",
       "                                                         simple LSTM  \\\n",
       "model_description                       one LSTM layer with 10 units   \n",
       "MAPE                                                        23.04014   \n",
       "model_summary      <keras.engine.sequential.Sequential object at ...   \n",
       "\n",
       "                                                          simple GRU  \n",
       "model_description                        one GRU layer with 10 units  \n",
       "MAPE                                                       21.891993  \n",
       "model_summary      <keras.engine.sequential.Sequential object at ...  "
      ]
     },
     "execution_count": 131,
     "metadata": {},
     "output_type": "execute_result"
    }
   ],
   "source": [
    "pd.DataFrame.from_dict(models_dict)"
   ]
  },
  {
   "cell_type": "markdown",
   "id": "bda6f69b",
   "metadata": {},
   "source": [
    "## Conclusion of cross validation"
   ]
  },
  {
   "cell_type": "code",
   "execution_count": 301,
   "id": "24ed0cc3",
   "metadata": {},
   "outputs": [
    {
     "name": "stdout",
     "output_type": "stream",
     "text": [
      "/home/jakob/code/hmichinaka/berlin-bike-theft-forecasting/notebooks\r\n"
     ]
    }
   ],
   "source": [
    "!pwd"
   ]
  },
  {
   "cell_type": "code",
   "execution_count": 305,
   "id": "39abafcf",
   "metadata": {},
   "outputs": [
    {
     "data": {
      "text/html": [
       "<div>\n",
       "<style scoped>\n",
       "    .dataframe tbody tr th:only-of-type {\n",
       "        vertical-align: middle;\n",
       "    }\n",
       "\n",
       "    .dataframe tbody tr th {\n",
       "        vertical-align: top;\n",
       "    }\n",
       "\n",
       "    .dataframe thead th {\n",
       "        text-align: right;\n",
       "    }\n",
       "</style>\n",
       "<table border=\"1\" class=\"dataframe\">\n",
       "  <thead>\n",
       "    <tr style=\"text-align: right;\">\n",
       "      <th></th>\n",
       "      <th>baseline_model</th>\n",
       "      <th>base_model</th>\n",
       "      <th>one level RNN</th>\n",
       "      <th>deep RNN</th>\n",
       "      <th>simple LSTM</th>\n",
       "      <th>simple GRU</th>\n",
       "    </tr>\n",
       "  </thead>\n",
       "  <tbody>\n",
       "    <tr>\n",
       "      <th>model_description</th>\n",
       "      <td>Baseline model, last observation</td>\n",
       "      <td>just one dense layer</td>\n",
       "      <td>one simple RNN Layer with 10 units, one dense ...</td>\n",
       "      <td>two simple RNN layers with 20 units each</td>\n",
       "      <td>one LSTM layer with 10 units</td>\n",
       "      <td>one GRU layer with 10 units</td>\n",
       "    </tr>\n",
       "    <tr>\n",
       "      <th>MAPE</th>\n",
       "      <td>27.974363</td>\n",
       "      <td>17.356697</td>\n",
       "      <td>22.106841</td>\n",
       "      <td>20.789037</td>\n",
       "      <td>23.04014</td>\n",
       "      <td>21.891993</td>\n",
       "    </tr>\n",
       "    <tr>\n",
       "      <th>model_summary</th>\n",
       "      <td>NaN</td>\n",
       "      <td>&lt;keras.engine.sequential.Sequential object at ...</td>\n",
       "      <td>&lt;keras.engine.sequential.Sequential object at ...</td>\n",
       "      <td>&lt;keras.engine.sequential.Sequential object at ...</td>\n",
       "      <td>&lt;keras.engine.sequential.Sequential object at ...</td>\n",
       "      <td>&lt;keras.engine.sequential.Sequential object at ...</td>\n",
       "    </tr>\n",
       "  </tbody>\n",
       "</table>\n",
       "</div>"
      ],
      "text/plain": [
       "                                     baseline_model  \\\n",
       "model_description  Baseline model, last observation   \n",
       "MAPE                                      27.974363   \n",
       "model_summary                                   NaN   \n",
       "\n",
       "                                                          base_model  \\\n",
       "model_description                               just one dense layer   \n",
       "MAPE                                                       17.356697   \n",
       "model_summary      <keras.engine.sequential.Sequential object at ...   \n",
       "\n",
       "                                                       one level RNN  \\\n",
       "model_description  one simple RNN Layer with 10 units, one dense ...   \n",
       "MAPE                                                       22.106841   \n",
       "model_summary      <keras.engine.sequential.Sequential object at ...   \n",
       "\n",
       "                                                            deep RNN  \\\n",
       "model_description           two simple RNN layers with 20 units each   \n",
       "MAPE                                                       20.789037   \n",
       "model_summary      <keras.engine.sequential.Sequential object at ...   \n",
       "\n",
       "                                                         simple LSTM  \\\n",
       "model_description                       one LSTM layer with 10 units   \n",
       "MAPE                                                        23.04014   \n",
       "model_summary      <keras.engine.sequential.Sequential object at ...   \n",
       "\n",
       "                                                          simple GRU  \n",
       "model_description                        one GRU layer with 10 units  \n",
       "MAPE                                                       21.891993  \n",
       "model_summary      <keras.engine.sequential.Sequential object at ...  "
      ]
     },
     "execution_count": 305,
     "metadata": {},
     "output_type": "execute_result"
    }
   ],
   "source": [
    "pd.DataFrame.from_dict(models_dict)"
   ]
  },
  {
   "cell_type": "code",
   "execution_count": null,
   "id": "6e8230d2",
   "metadata": {},
   "outputs": [],
   "source": []
  },
  {
   "cell_type": "markdown",
   "id": "01609170",
   "metadata": {},
   "source": [
    "Out of the different model archictectures we looked at, the deep RNN with tow RNN layers seem to work fine.\n",
    "The next step is to finetune that archictecture by adding dropout layers or changing the number of units in each layer. "
   ]
  },
  {
   "cell_type": "markdown",
   "id": "bf9af363",
   "metadata": {},
   "source": [
    "The MAPE varies widely during the cross-validation. This might indicate that the dataset is too small for a proper cross-validation. We will thus in the next step train the models on the whole dataset. "
   ]
  },
  {
   "cell_type": "markdown",
   "id": "80a71321",
   "metadata": {},
   "source": [
    "# Fit models on whole dataset"
   ]
  },
  {
   "cell_type": "code",
   "execution_count": 141,
   "id": "a6892305",
   "metadata": {
    "collapsed": true
   },
   "outputs": [
    {
     "name": "stdout",
     "output_type": "stream",
     "text": [
      "Epoch 1/300\n",
      "16/16 [==============================] - 0s 6ms/step - loss: 1057.6799 - mean_absolute_percentage_error: 49.2560 - val_loss: 598.0759 - val_mean_absolute_percentage_error: 30.6212\n",
      "Epoch 2/300\n",
      "16/16 [==============================] - 0s 2ms/step - loss: 375.9853 - mean_absolute_percentage_error: 30.9294 - val_loss: 576.9699 - val_mean_absolute_percentage_error: 33.7741\n",
      "Epoch 3/300\n",
      "16/16 [==============================] - 0s 2ms/step - loss: 360.6513 - mean_absolute_percentage_error: 31.1845 - val_loss: 590.3259 - val_mean_absolute_percentage_error: 34.1411\n",
      "Epoch 4/300\n",
      "16/16 [==============================] - 0s 2ms/step - loss: 349.6883 - mean_absolute_percentage_error: 30.7423 - val_loss: 532.7872 - val_mean_absolute_percentage_error: 32.6385\n",
      "Epoch 5/300\n",
      "16/16 [==============================] - 0s 2ms/step - loss: 343.8350 - mean_absolute_percentage_error: 30.3829 - val_loss: 520.0998 - val_mean_absolute_percentage_error: 32.2729\n",
      "Epoch 6/300\n",
      "16/16 [==============================] - 0s 2ms/step - loss: 342.0012 - mean_absolute_percentage_error: 30.2783 - val_loss: 529.3041 - val_mean_absolute_percentage_error: 32.5379\n",
      "Epoch 7/300\n",
      "16/16 [==============================] - 0s 2ms/step - loss: 339.9475 - mean_absolute_percentage_error: 30.2396 - val_loss: 531.0915 - val_mean_absolute_percentage_error: 32.5872\n",
      "Epoch 8/300\n",
      "16/16 [==============================] - 0s 2ms/step - loss: 338.4731 - mean_absolute_percentage_error: 30.1537 - val_loss: 514.9059 - val_mean_absolute_percentage_error: 32.1192\n",
      "Epoch 9/300\n",
      "16/16 [==============================] - 0s 2ms/step - loss: 335.1330 - mean_absolute_percentage_error: 29.9571 - val_loss: 531.3138 - val_mean_absolute_percentage_error: 32.5917\n",
      "Epoch 10/300\n",
      "16/16 [==============================] - 0s 2ms/step - loss: 336.5022 - mean_absolute_percentage_error: 30.0936 - val_loss: 530.8053 - val_mean_absolute_percentage_error: 32.5741\n",
      "Epoch 11/300\n",
      "16/16 [==============================] - 0s 2ms/step - loss: 341.5730 - mean_absolute_percentage_error: 30.1736 - val_loss: 505.0480 - val_mean_absolute_percentage_error: 31.8079\n",
      "Epoch 12/300\n",
      "16/16 [==============================] - 0s 2ms/step - loss: 334.0668 - mean_absolute_percentage_error: 29.7854 - val_loss: 550.7499 - val_mean_absolute_percentage_error: 33.0895\n",
      "Epoch 13/300\n",
      "16/16 [==============================] - 0s 2ms/step - loss: 333.9478 - mean_absolute_percentage_error: 29.7998 - val_loss: 511.1610 - val_mean_absolute_percentage_error: 32.0067\n",
      "Epoch 14/300\n",
      "16/16 [==============================] - 0s 2ms/step - loss: 324.2928 - mean_absolute_percentage_error: 29.4608 - val_loss: 523.6631 - val_mean_absolute_percentage_error: 32.3635\n",
      "Epoch 15/300\n",
      "16/16 [==============================] - 0s 2ms/step - loss: 321.7624 - mean_absolute_percentage_error: 29.3865 - val_loss: 511.3497 - val_mean_absolute_percentage_error: 32.0065\n",
      "Epoch 16/300\n",
      "16/16 [==============================] - 0s 2ms/step - loss: 318.8700 - mean_absolute_percentage_error: 29.1915 - val_loss: 504.3483 - val_mean_absolute_percentage_error: 31.7988\n",
      "Epoch 17/300\n",
      "16/16 [==============================] - 0s 2ms/step - loss: 318.9307 - mean_absolute_percentage_error: 29.0860 - val_loss: 507.0206 - val_mean_absolute_percentage_error: 31.8774\n",
      "Epoch 18/300\n",
      "16/16 [==============================] - 0s 2ms/step - loss: 317.7964 - mean_absolute_percentage_error: 29.1735 - val_loss: 515.9340 - val_mean_absolute_percentage_error: 32.1280\n",
      "Epoch 19/300\n",
      "16/16 [==============================] - 0s 2ms/step - loss: 313.0645 - mean_absolute_percentage_error: 28.8539 - val_loss: 494.0542 - val_mean_absolute_percentage_error: 31.4863\n",
      "Epoch 20/300\n",
      "16/16 [==============================] - 0s 2ms/step - loss: 313.2451 - mean_absolute_percentage_error: 28.9040 - val_loss: 511.1360 - val_mean_absolute_percentage_error: 31.9833\n",
      "Epoch 21/300\n",
      "16/16 [==============================] - 0s 2ms/step - loss: 317.7892 - mean_absolute_percentage_error: 28.9111 - val_loss: 482.3581 - val_mean_absolute_percentage_error: 31.1047\n",
      "Epoch 22/300\n",
      "16/16 [==============================] - 0s 2ms/step - loss: 308.7259 - mean_absolute_percentage_error: 28.6830 - val_loss: 510.7899 - val_mean_absolute_percentage_error: 31.9701\n",
      "Epoch 23/300\n",
      "16/16 [==============================] - 0s 2ms/step - loss: 305.5543 - mean_absolute_percentage_error: 28.4783 - val_loss: 483.3924 - val_mean_absolute_percentage_error: 31.1504\n",
      "Epoch 24/300\n",
      "16/16 [==============================] - 0s 2ms/step - loss: 299.0634 - mean_absolute_percentage_error: 28.1881 - val_loss: 496.3168 - val_mean_absolute_percentage_error: 31.5441\n",
      "Epoch 25/300\n",
      "16/16 [==============================] - 0s 2ms/step - loss: 296.9739 - mean_absolute_percentage_error: 28.1325 - val_loss: 497.4695 - val_mean_absolute_percentage_error: 31.5796\n",
      "Epoch 26/300\n",
      "16/16 [==============================] - 0s 2ms/step - loss: 299.5964 - mean_absolute_percentage_error: 28.1588 - val_loss: 490.2841 - val_mean_absolute_percentage_error: 31.3587\n"
     ]
    },
    {
     "data": {
      "text/plain": [
       "<keras.callbacks.History at 0x7fe6d4ee43a0>"
      ]
     },
     "execution_count": 141,
     "metadata": {},
     "output_type": "execute_result"
    }
   ],
   "source": [
    "base_model = Sequential([\n",
    "    Flatten(input_shape=X_train.shape[1:]),\n",
    "    Dense(1)\n",
    "])\n",
    "\n",
    "base_model.compile(loss = \"mse\",\n",
    "                 optimizer = \"adam\",\n",
    "                 metrics = \"mean_absolute_percentage_error\")\n",
    "\n",
    "base_model.fit(X_train, \n",
    "          y_train,\n",
    "        epochs= 300,\n",
    "         batch_size = 16, \n",
    "         validation_split=0.2,\n"
   ]
  },
  {
   "cell_type": "code",
   "execution_count": 142,
   "id": "c1a1bcfa",
   "metadata": {},
   "outputs": [
    {
     "name": "stdout",
     "output_type": "stream",
     "text": [
      "2/2 [==============================] - 0s 2ms/step - loss: 346.4644 - mean_absolute_percentage_error: 39.8687\n"
     ]
    },
    {
     "data": {
      "text/plain": [
       "[346.4644470214844, 39.86869812011719]"
      ]
     },
     "execution_count": 142,
     "metadata": {},
     "output_type": "execute_result"
    }
   ],
   "source": [
    "base_model.evaluate(X_test, y_test)"
   ]
  },
  {
   "cell_type": "code",
   "execution_count": 136,
   "id": "88753a88",
   "metadata": {
    "collapsed": true
   },
   "outputs": [
    {
     "name": "stdout",
     "output_type": "stream",
     "text": [
      "Epoch 1/300\n",
      "16/16 [==============================] - 1s 20ms/step - loss: 3108.1042 - mean_absolute_percentage_error: 95.2695 - val_loss: 3838.1194 - val_mean_absolute_percentage_error: 94.8858\n",
      "Epoch 2/300\n",
      "16/16 [==============================] - 0s 11ms/step - loss: 2951.8936 - mean_absolute_percentage_error: 92.1013 - val_loss: 3666.2837 - val_mean_absolute_percentage_error: 92.5270\n",
      "Epoch 3/300\n",
      "16/16 [==============================] - 0s 11ms/step - loss: 2802.7520 - mean_absolute_percentage_error: 89.0152 - val_loss: 3526.8069 - val_mean_absolute_percentage_error: 90.5676\n",
      "Epoch 4/300\n",
      "16/16 [==============================] - 0s 11ms/step - loss: 2719.2297 - mean_absolute_percentage_error: 87.2893 - val_loss: 3458.6338 - val_mean_absolute_percentage_error: 89.5978\n",
      "Epoch 5/300\n",
      "16/16 [==============================] - 0s 10ms/step - loss: 2667.2720 - mean_absolute_percentage_error: 86.1386 - val_loss: 3403.5315 - val_mean_absolute_percentage_error: 88.8044\n",
      "Epoch 6/300\n",
      "16/16 [==============================] - 0s 11ms/step - loss: 2622.6323 - mean_absolute_percentage_error: 85.1662 - val_loss: 3354.2874 - val_mean_absolute_percentage_error: 88.0896\n",
      "Epoch 7/300\n",
      "16/16 [==============================] - 0s 11ms/step - loss: 2583.0547 - mean_absolute_percentage_error: 84.2566 - val_loss: 3309.2622 - val_mean_absolute_percentage_error: 87.4311\n",
      "Epoch 8/300\n",
      "16/16 [==============================] - 0s 11ms/step - loss: 2546.0488 - mean_absolute_percentage_error: 83.4298 - val_loss: 3267.1270 - val_mean_absolute_percentage_error: 86.8107\n",
      "Epoch 9/300\n",
      "16/16 [==============================] - 0s 10ms/step - loss: 2511.1770 - mean_absolute_percentage_error: 82.6387 - val_loss: 3226.5540 - val_mean_absolute_percentage_error: 86.2094\n",
      "Epoch 10/300\n",
      "16/16 [==============================] - 0s 11ms/step - loss: 2477.4790 - mean_absolute_percentage_error: 81.8774 - val_loss: 3187.1636 - val_mean_absolute_percentage_error: 85.6219\n",
      "Epoch 11/300\n",
      "16/16 [==============================] - 0s 11ms/step - loss: 2444.6956 - mean_absolute_percentage_error: 81.1392 - val_loss: 3149.1724 - val_mean_absolute_percentage_error: 85.0515\n",
      "Epoch 12/300\n",
      "16/16 [==============================] - 0s 11ms/step - loss: 2413.1177 - mean_absolute_percentage_error: 80.4205 - val_loss: 3111.4585 - val_mean_absolute_percentage_error: 84.4817\n",
      "Epoch 13/300\n",
      "16/16 [==============================] - 0s 11ms/step - loss: 2381.6467 - mean_absolute_percentage_error: 79.7245 - val_loss: 3074.7466 - val_mean_absolute_percentage_error: 83.9235\n",
      "Epoch 14/300\n",
      "16/16 [==============================] - 0s 11ms/step - loss: 2351.0034 - mean_absolute_percentage_error: 79.0106 - val_loss: 3037.9963 - val_mean_absolute_percentage_error: 83.3612\n",
      "Epoch 15/300\n",
      "16/16 [==============================] - 0s 11ms/step - loss: 2320.3042 - mean_absolute_percentage_error: 78.3461 - val_loss: 3002.3220 - val_mean_absolute_percentage_error: 82.8119\n",
      "Epoch 16/300\n",
      "16/16 [==============================] - 0s 11ms/step - loss: 2290.5583 - mean_absolute_percentage_error: 77.6642 - val_loss: 2966.8987 - val_mean_absolute_percentage_error: 82.2631\n",
      "Epoch 17/300\n",
      "16/16 [==============================] - 0s 11ms/step - loss: 2261.2966 - mean_absolute_percentage_error: 76.9800 - val_loss: 2931.4402 - val_mean_absolute_percentage_error: 81.7102\n",
      "Epoch 18/300\n",
      "16/16 [==============================] - 0s 11ms/step - loss: 2231.9060 - mean_absolute_percentage_error: 76.3131 - val_loss: 2897.6313 - val_mean_absolute_percentage_error: 81.1797\n",
      "Epoch 19/300\n",
      "16/16 [==============================] - 0s 11ms/step - loss: 2203.7178 - mean_absolute_percentage_error: 75.6393 - val_loss: 2863.1750 - val_mean_absolute_percentage_error: 80.6357\n",
      "Epoch 20/300\n",
      "16/16 [==============================] - 0s 11ms/step - loss: 2175.2610 - mean_absolute_percentage_error: 74.9704 - val_loss: 2829.1555 - val_mean_absolute_percentage_error: 80.0952\n",
      "Epoch 21/300\n",
      "16/16 [==============================] - 0s 11ms/step - loss: 2147.3545 - mean_absolute_percentage_error: 74.3254 - val_loss: 2795.8142 - val_mean_absolute_percentage_error: 79.5621\n",
      "Epoch 22/300\n",
      "16/16 [==============================] - 0s 12ms/step - loss: 2119.8923 - mean_absolute_percentage_error: 73.6979 - val_loss: 2763.1060 - val_mean_absolute_percentage_error: 79.0359\n",
      "Epoch 23/300\n",
      "16/16 [==============================] - 0s 12ms/step - loss: 2092.7559 - mean_absolute_percentage_error: 73.0615 - val_loss: 2730.6724 - val_mean_absolute_percentage_error: 78.5107\n",
      "Epoch 24/300\n",
      "16/16 [==============================] - 0s 11ms/step - loss: 2065.9316 - mean_absolute_percentage_error: 72.4400 - val_loss: 2698.3987 - val_mean_absolute_percentage_error: 77.9849\n",
      "Epoch 25/300\n",
      "16/16 [==============================] - 0s 11ms/step - loss: 2039.5566 - mean_absolute_percentage_error: 71.8093 - val_loss: 2666.9248 - val_mean_absolute_percentage_error: 77.4688\n",
      "Epoch 26/300\n",
      "16/16 [==============================] - 0s 11ms/step - loss: 2013.5291 - mean_absolute_percentage_error: 71.1873 - val_loss: 2635.6465 - val_mean_absolute_percentage_error: 76.9528\n",
      "Epoch 27/300\n",
      "16/16 [==============================] - 0s 11ms/step - loss: 1988.0876 - mean_absolute_percentage_error: 70.5646 - val_loss: 2604.3494 - val_mean_absolute_percentage_error: 76.4331\n",
      "Epoch 28/300\n",
      "16/16 [==============================] - 0s 11ms/step - loss: 1962.2273 - mean_absolute_percentage_error: 69.9590 - val_loss: 2573.8557 - val_mean_absolute_percentage_error: 75.9236\n",
      "Epoch 29/300\n",
      "16/16 [==============================] - 0s 12ms/step - loss: 1937.2947 - mean_absolute_percentage_error: 69.3415 - val_loss: 2542.9666 - val_mean_absolute_percentage_error: 75.4041\n",
      "Epoch 30/300\n",
      "16/16 [==============================] - 0s 11ms/step - loss: 1912.1827 - mean_absolute_percentage_error: 68.7466 - val_loss: 2513.2271 - val_mean_absolute_percentage_error: 74.9008\n",
      "Epoch 31/300\n",
      "16/16 [==============================] - 0s 11ms/step - loss: 1887.9232 - mean_absolute_percentage_error: 68.1332 - val_loss: 2483.4194 - val_mean_absolute_percentage_error: 74.3932\n",
      "Epoch 32/300\n",
      "16/16 [==============================] - 0s 11ms/step - loss: 1863.1993 - mean_absolute_percentage_error: 67.5649 - val_loss: 2453.9592 - val_mean_absolute_percentage_error: 73.8882\n",
      "Epoch 33/300\n",
      "16/16 [==============================] - 0s 11ms/step - loss: 1839.1660 - mean_absolute_percentage_error: 66.9876 - val_loss: 2424.6377 - val_mean_absolute_percentage_error: 73.3824\n",
      "Epoch 34/300\n",
      "16/16 [==============================] - 0s 11ms/step - loss: 1815.5070 - mean_absolute_percentage_error: 66.4398 - val_loss: 2395.5371 - val_mean_absolute_percentage_error: 72.8772\n",
      "Epoch 35/300\n",
      "16/16 [==============================] - 0s 12ms/step - loss: 1792.1295 - mean_absolute_percentage_error: 65.8842 - val_loss: 2367.1270 - val_mean_absolute_percentage_error: 72.3808\n",
      "Epoch 36/300\n",
      "16/16 [==============================] - 0s 11ms/step - loss: 1769.0437 - mean_absolute_percentage_error: 65.3439 - val_loss: 2339.2258 - val_mean_absolute_percentage_error: 71.8901\n",
      "Epoch 37/300\n",
      "16/16 [==============================] - 0s 11ms/step - loss: 1746.4001 - mean_absolute_percentage_error: 64.7923 - val_loss: 2311.8438 - val_mean_absolute_percentage_error: 71.4055\n",
      "Epoch 38/300\n",
      "16/16 [==============================] - 0s 11ms/step - loss: 1723.9860 - mean_absolute_percentage_error: 64.2569 - val_loss: 2284.5769 - val_mean_absolute_percentage_error: 70.9198\n",
      "Epoch 39/300\n",
      "16/16 [==============================] - 0s 11ms/step - loss: 1701.9230 - mean_absolute_percentage_error: 63.7073 - val_loss: 2256.9255 - val_mean_absolute_percentage_error: 70.4241\n",
      "Epoch 40/300\n",
      "16/16 [==============================] - 0s 11ms/step - loss: 1679.6732 - mean_absolute_percentage_error: 63.1870 - val_loss: 2230.2844 - val_mean_absolute_percentage_error: 69.9434\n",
      "Epoch 41/300\n",
      "16/16 [==============================] - 0s 12ms/step - loss: 1658.4030 - mean_absolute_percentage_error: 62.6958 - val_loss: 2203.6675 - val_mean_absolute_percentage_error: 69.4600\n",
      "Epoch 42/300\n",
      "16/16 [==============================] - 0s 11ms/step - loss: 1636.9438 - mean_absolute_percentage_error: 62.1587 - val_loss: 2177.3113 - val_mean_absolute_percentage_error: 68.9783\n",
      "Epoch 43/300\n"
     ]
    },
    {
     "name": "stdout",
     "output_type": "stream",
     "text": [
      "16/16 [==============================] - 0s 11ms/step - loss: 1615.8599 - mean_absolute_percentage_error: 61.6441 - val_loss: 2151.0198 - val_mean_absolute_percentage_error: 68.4946\n",
      "Epoch 44/300\n",
      "16/16 [==============================] - 0s 11ms/step - loss: 1594.7595 - mean_absolute_percentage_error: 61.1729 - val_loss: 2125.3538 - val_mean_absolute_percentage_error: 68.0193\n",
      "Epoch 45/300\n",
      "16/16 [==============================] - 0s 11ms/step - loss: 1573.9003 - mean_absolute_percentage_error: 60.6768 - val_loss: 2099.9126 - val_mean_absolute_percentage_error: 67.5451\n",
      "Epoch 46/300\n",
      "16/16 [==============================] - 0s 11ms/step - loss: 1553.7562 - mean_absolute_percentage_error: 60.1621 - val_loss: 2073.9358 - val_mean_absolute_percentage_error: 67.0576\n",
      "Epoch 47/300\n",
      "16/16 [==============================] - 0s 11ms/step - loss: 1533.2670 - mean_absolute_percentage_error: 59.6864 - val_loss: 2048.4104 - val_mean_absolute_percentage_error: 66.5754\n",
      "Epoch 48/300\n",
      "16/16 [==============================] - 0s 11ms/step - loss: 1513.0082 - mean_absolute_percentage_error: 59.1957 - val_loss: 2023.8530 - val_mean_absolute_percentage_error: 66.1084\n",
      "Epoch 49/300\n",
      "16/16 [==============================] - 0s 11ms/step - loss: 1493.3655 - mean_absolute_percentage_error: 58.7362 - val_loss: 1999.5786 - val_mean_absolute_percentage_error: 65.6438\n",
      "Epoch 50/300\n",
      "16/16 [==============================] - 0s 11ms/step - loss: 1473.9711 - mean_absolute_percentage_error: 58.2461 - val_loss: 1975.3610 - val_mean_absolute_percentage_error: 65.1771\n",
      "Epoch 51/300\n",
      "16/16 [==============================] - 0s 11ms/step - loss: 1454.8190 - mean_absolute_percentage_error: 57.7981 - val_loss: 1951.5592 - val_mean_absolute_percentage_error: 64.7155\n",
      "Epoch 52/300\n",
      "16/16 [==============================] - 0s 11ms/step - loss: 1435.9485 - mean_absolute_percentage_error: 57.3470 - val_loss: 1927.8152 - val_mean_absolute_percentage_error: 64.2518\n",
      "Epoch 53/300\n",
      "16/16 [==============================] - 0s 11ms/step - loss: 1417.1290 - mean_absolute_percentage_error: 56.8983 - val_loss: 1904.2550 - val_mean_absolute_percentage_error: 63.7887\n",
      "Epoch 54/300\n",
      "16/16 [==============================] - 0s 10ms/step - loss: 1398.7881 - mean_absolute_percentage_error: 56.4713 - val_loss: 1881.0835 - val_mean_absolute_percentage_error: 63.3302\n",
      "Epoch 55/300\n",
      "16/16 [==============================] - 0s 11ms/step - loss: 1380.6429 - mean_absolute_percentage_error: 56.0280 - val_loss: 1858.0391 - val_mean_absolute_percentage_error: 62.8711\n",
      "Epoch 56/300\n",
      "16/16 [==============================] - 0s 11ms/step - loss: 1362.3599 - mean_absolute_percentage_error: 55.5829 - val_loss: 1835.2300 - val_mean_absolute_percentage_error: 62.4135\n",
      "Epoch 57/300\n",
      "16/16 [==============================] - 0s 11ms/step - loss: 1344.4500 - mean_absolute_percentage_error: 55.1648 - val_loss: 1812.7347 - val_mean_absolute_percentage_error: 61.9592\n",
      "Epoch 58/300\n",
      "16/16 [==============================] - 0s 11ms/step - loss: 1326.7588 - mean_absolute_percentage_error: 54.7273 - val_loss: 1790.3160 - val_mean_absolute_percentage_error: 61.5034\n",
      "Epoch 59/300\n",
      "16/16 [==============================] - 0s 11ms/step - loss: 1309.3069 - mean_absolute_percentage_error: 54.2991 - val_loss: 1768.1459 - val_mean_absolute_percentage_error: 61.0495\n",
      "Epoch 60/300\n",
      "16/16 [==============================] - 0s 11ms/step - loss: 1292.3079 - mean_absolute_percentage_error: 53.9066 - val_loss: 1746.4443 - val_mean_absolute_percentage_error: 60.6022\n",
      "Epoch 61/300\n",
      "16/16 [==============================] - 0s 12ms/step - loss: 1275.5007 - mean_absolute_percentage_error: 53.4903 - val_loss: 1725.5275 - val_mean_absolute_percentage_error: 60.1681\n",
      "Epoch 62/300\n",
      "16/16 [==============================] - 0s 11ms/step - loss: 1258.9141 - mean_absolute_percentage_error: 53.0812 - val_loss: 1704.6267 - val_mean_absolute_percentage_error: 59.7315\n",
      "Epoch 63/300\n",
      "16/16 [==============================] - 0s 11ms/step - loss: 1242.7733 - mean_absolute_percentage_error: 52.6782 - val_loss: 1683.1361 - val_mean_absolute_percentage_error: 59.2794\n",
      "Epoch 64/300\n",
      "16/16 [==============================] - 0s 11ms/step - loss: 1226.2001 - mean_absolute_percentage_error: 52.2723 - val_loss: 1662.2623 - val_mean_absolute_percentage_error: 58.8373\n",
      "Epoch 65/300\n",
      "16/16 [==============================] - 0s 11ms/step - loss: 1210.1982 - mean_absolute_percentage_error: 51.8940 - val_loss: 1641.3271 - val_mean_absolute_percentage_error: 58.3907\n",
      "Epoch 66/300\n",
      "16/16 [==============================] - 0s 11ms/step - loss: 1194.1206 - mean_absolute_percentage_error: 51.4642 - val_loss: 1620.9390 - val_mean_absolute_percentage_error: 57.9528\n",
      "Epoch 67/300\n",
      "16/16 [==============================] - 0s 11ms/step - loss: 1178.5592 - mean_absolute_percentage_error: 51.0996 - val_loss: 1601.0011 - val_mean_absolute_percentage_error: 57.5215\n",
      "Epoch 68/300\n",
      "16/16 [==============================] - 0s 11ms/step - loss: 1163.0267 - mean_absolute_percentage_error: 50.6727 - val_loss: 1581.3162 - val_mean_absolute_percentage_error: 57.0928\n",
      "Epoch 69/300\n",
      "16/16 [==============================] - 0s 12ms/step - loss: 1148.2468 - mean_absolute_percentage_error: 50.2837 - val_loss: 1561.3080 - val_mean_absolute_percentage_error: 56.6540\n",
      "Epoch 70/300\n",
      "16/16 [==============================] - 0s 11ms/step - loss: 1132.9420 - mean_absolute_percentage_error: 49.9041 - val_loss: 1542.4102 - val_mean_absolute_percentage_error: 56.2366\n",
      "Epoch 71/300\n",
      "16/16 [==============================] - 0s 11ms/step - loss: 1118.5472 - mean_absolute_percentage_error: 49.5283 - val_loss: 1522.7727 - val_mean_absolute_percentage_error: 55.7999\n",
      "Epoch 72/300\n",
      "16/16 [==============================] - 0s 12ms/step - loss: 1103.5826 - mean_absolute_percentage_error: 49.1295 - val_loss: 1504.2310 - val_mean_absolute_percentage_error: 55.3846\n",
      "Epoch 73/300\n",
      "16/16 [==============================] - 0s 12ms/step - loss: 1089.4683 - mean_absolute_percentage_error: 48.7813 - val_loss: 1485.7990 - val_mean_absolute_percentage_error: 54.9690\n",
      "Epoch 74/300\n",
      "16/16 [==============================] - 0s 11ms/step - loss: 1075.3557 - mean_absolute_percentage_error: 48.4098 - val_loss: 1467.1409 - val_mean_absolute_percentage_error: 54.5452\n",
      "Epoch 75/300\n",
      "16/16 [==============================] - 0s 11ms/step - loss: 1061.2360 - mean_absolute_percentage_error: 48.0435 - val_loss: 1448.6602 - val_mean_absolute_percentage_error: 54.1225\n",
      "Epoch 76/300\n",
      "16/16 [==============================] - 0s 12ms/step - loss: 1047.5164 - mean_absolute_percentage_error: 47.6837 - val_loss: 1430.3293 - val_mean_absolute_percentage_error: 53.7003\n",
      "Epoch 77/300\n",
      "16/16 [==============================] - 0s 11ms/step - loss: 1033.9182 - mean_absolute_percentage_error: 47.3429 - val_loss: 1412.7275 - val_mean_absolute_percentage_error: 53.2919\n",
      "Epoch 78/300\n",
      "16/16 [==============================] - 0s 11ms/step - loss: 1020.5576 - mean_absolute_percentage_error: 47.0150 - val_loss: 1395.2888 - val_mean_absolute_percentage_error: 52.8845\n",
      "Epoch 79/300\n",
      "16/16 [==============================] - 0s 11ms/step - loss: 1007.5947 - mean_absolute_percentage_error: 46.6839 - val_loss: 1377.5465 - val_mean_absolute_percentage_error: 52.4670\n",
      "Epoch 80/300\n",
      "16/16 [==============================] - 0s 11ms/step - loss: 994.4971 - mean_absolute_percentage_error: 46.3636 - val_loss: 1360.9224 - val_mean_absolute_percentage_error: 52.0730\n",
      "Epoch 81/300\n",
      "16/16 [==============================] - 0s 11ms/step - loss: 981.8242 - mean_absolute_percentage_error: 46.0419 - val_loss: 1344.0460 - val_mean_absolute_percentage_error: 51.6702\n",
      "Epoch 82/300\n",
      "16/16 [==============================] - 0s 11ms/step - loss: 969.3109 - mean_absolute_percentage_error: 45.7375 - val_loss: 1327.0438 - val_mean_absolute_percentage_error: 51.2616\n",
      "Epoch 83/300\n",
      "16/16 [==============================] - 0s 11ms/step - loss: 956.6542 - mean_absolute_percentage_error: 45.4062 - val_loss: 1310.7642 - val_mean_absolute_percentage_error: 50.8675\n",
      "Epoch 84/300\n",
      "16/16 [==============================] - 0s 11ms/step - loss: 944.4961 - mean_absolute_percentage_error: 45.0946 - val_loss: 1294.0416 - val_mean_absolute_percentage_error: 50.4597\n",
      "Epoch 85/300\n",
      "16/16 [==============================] - 0s 11ms/step - loss: 932.2497 - mean_absolute_percentage_error: 44.8015 - val_loss: 1277.9890 - val_mean_absolute_percentage_error: 50.0654\n",
      "Epoch 86/300\n",
      "16/16 [==============================] - 0s 11ms/step - loss: 920.4642 - mean_absolute_percentage_error: 44.4899 - val_loss: 1261.7732 - val_mean_absolute_percentage_error: 49.6643\n",
      "Epoch 87/300\n",
      "16/16 [==============================] - 0s 11ms/step - loss: 908.7146 - mean_absolute_percentage_error: 44.2057 - val_loss: 1246.0095 - val_mean_absolute_percentage_error: 49.2715\n",
      "Epoch 88/300\n",
      "16/16 [==============================] - 0s 11ms/step - loss: 897.3046 - mean_absolute_percentage_error: 43.9133 - val_loss: 1230.3090 - val_mean_absolute_percentage_error: 48.8773\n",
      "Epoch 89/300\n",
      "16/16 [==============================] - 0s 11ms/step - loss: 885.9236 - mean_absolute_percentage_error: 43.6457 - val_loss: 1215.3530 - val_mean_absolute_percentage_error: 48.4992\n",
      "Epoch 90/300\n",
      "16/16 [==============================] - 0s 11ms/step - loss: 874.6071 - mean_absolute_percentage_error: 43.3674 - val_loss: 1200.1372 - val_mean_absolute_percentage_error: 48.1118\n",
      "Epoch 91/300\n",
      "16/16 [==============================] - 0s 11ms/step - loss: 863.7838 - mean_absolute_percentage_error: 43.1094 - val_loss: 1184.5388 - val_mean_absolute_percentage_error: 47.7116\n",
      "Epoch 92/300\n",
      "16/16 [==============================] - 0s 11ms/step - loss: 852.5826 - mean_absolute_percentage_error: 42.8336 - val_loss: 1169.8793 - val_mean_absolute_percentage_error: 47.3327\n",
      "Epoch 93/300\n",
      "16/16 [==============================] - 0s 11ms/step - loss: 842.0684 - mean_absolute_percentage_error: 42.5814 - val_loss: 1155.2515 - val_mean_absolute_percentage_error: 46.9519\n",
      "Epoch 94/300\n",
      "16/16 [==============================] - 0s 11ms/step - loss: 831.4379 - mean_absolute_percentage_error: 42.3385 - val_loss: 1140.9443 - val_mean_absolute_percentage_error: 46.5767\n",
      "Epoch 95/300\n",
      "16/16 [==============================] - 0s 11ms/step - loss: 821.0894 - mean_absolute_percentage_error: 42.0971 - val_loss: 1126.7955 - val_mean_absolute_percentage_error: 46.2030\n",
      "Epoch 96/300\n",
      "16/16 [==============================] - 0s 11ms/step - loss: 810.9161 - mean_absolute_percentage_error: 41.8546 - val_loss: 1112.4503 - val_mean_absolute_percentage_error: 45.8212\n",
      "Epoch 97/300\n",
      "16/16 [==============================] - 0s 11ms/step - loss: 800.7844 - mean_absolute_percentage_error: 41.6308 - val_loss: 1098.5498 - val_mean_absolute_percentage_error: 45.4485\n",
      "Epoch 98/300\n",
      "16/16 [==============================] - 0s 11ms/step - loss: 790.6609 - mean_absolute_percentage_error: 41.3970 - val_loss: 1084.7067 - val_mean_absolute_percentage_error: 45.0746\n",
      "Epoch 99/300\n",
      "16/16 [==============================] - 0s 11ms/step - loss: 780.8510 - mean_absolute_percentage_error: 41.1678 - val_loss: 1070.5090 - val_mean_absolute_percentage_error: 44.6882\n",
      "Epoch 100/300\n",
      "16/16 [==============================] - 0s 10ms/step - loss: 770.8706 - mean_absolute_percentage_error: 40.9178 - val_loss: 1057.0980 - val_mean_absolute_percentage_error: 44.3204\n",
      "Epoch 101/300\n",
      "16/16 [==============================] - 0s 11ms/step - loss: 761.4673 - mean_absolute_percentage_error: 40.7109 - val_loss: 1043.4528 - val_mean_absolute_percentage_error: 43.9434\n",
      "Epoch 102/300\n",
      "16/16 [==============================] - 0s 11ms/step - loss: 751.9244 - mean_absolute_percentage_error: 40.4934 - val_loss: 1030.2495 - val_mean_absolute_percentage_error: 43.5758\n",
      "Epoch 103/300\n",
      "16/16 [==============================] - 0s 11ms/step - loss: 742.6851 - mean_absolute_percentage_error: 40.2634 - val_loss: 1017.2179 - val_mean_absolute_percentage_error: 43.2102\n",
      "Epoch 104/300\n",
      "16/16 [==============================] - 0s 11ms/step - loss: 733.6354 - mean_absolute_percentage_error: 40.0616 - val_loss: 1004.6534 - val_mean_absolute_percentage_error: 42.8550\n",
      "Epoch 105/300\n",
      "16/16 [==============================] - 0s 11ms/step - loss: 724.8081 - mean_absolute_percentage_error: 39.8374 - val_loss: 992.0861 - val_mean_absolute_percentage_error: 42.4971\n",
      "Epoch 106/300\n",
      "16/16 [==============================] - 0s 11ms/step - loss: 716.0289 - mean_absolute_percentage_error: 39.6319 - val_loss: 979.1927 - val_mean_absolute_percentage_error: 42.1419\n",
      "Epoch 107/300\n",
      "16/16 [==============================] - 0s 11ms/step - loss: 707.0717 - mean_absolute_percentage_error: 39.4307 - val_loss: 966.9700 - val_mean_absolute_percentage_error: 41.8082\n",
      "Epoch 108/300\n",
      "16/16 [==============================] - 0s 11ms/step - loss: 698.6127 - mean_absolute_percentage_error: 39.2256 - val_loss: 954.4750 - val_mean_absolute_percentage_error: 41.4645\n",
      "Epoch 109/300\n",
      "16/16 [==============================] - 0s 11ms/step - loss: 690.1650 - mean_absolute_percentage_error: 39.0413 - val_loss: 942.6202 - val_mean_absolute_percentage_error: 41.1358\n",
      "Epoch 110/300\n",
      "16/16 [==============================] - 0s 11ms/step - loss: 681.9872 - mean_absolute_percentage_error: 38.8305 - val_loss: 930.6579 - val_mean_absolute_percentage_error: 40.8017\n",
      "Epoch 111/300\n",
      "16/16 [==============================] - 0s 11ms/step - loss: 673.7913 - mean_absolute_percentage_error: 38.6618 - val_loss: 918.7157 - val_mean_absolute_percentage_error: 40.4655\n",
      "Epoch 112/300\n",
      "16/16 [==============================] - 0s 11ms/step - loss: 665.8063 - mean_absolute_percentage_error: 38.4902 - val_loss: 907.3204 - val_mean_absolute_percentage_error: 40.1421\n",
      "Epoch 113/300\n",
      "16/16 [==============================] - 0s 11ms/step - loss: 658.0165 - mean_absolute_percentage_error: 38.3346 - val_loss: 896.0674 - val_mean_absolute_percentage_error: 39.8204\n",
      "Epoch 114/300\n",
      "16/16 [==============================] - 0s 11ms/step - loss: 650.3849 - mean_absolute_percentage_error: 38.1536 - val_loss: 884.7648 - val_mean_absolute_percentage_error: 39.4948\n",
      "Epoch 115/300\n",
      "16/16 [==============================] - 0s 11ms/step - loss: 642.5914 - mean_absolute_percentage_error: 37.9860 - val_loss: 873.7986 - val_mean_absolute_percentage_error: 39.1764\n",
      "Epoch 116/300\n",
      "16/16 [==============================] - 0s 11ms/step - loss: 635.1977 - mean_absolute_percentage_error: 37.8312 - val_loss: 862.1541 - val_mean_absolute_percentage_error: 38.8356\n",
      "Epoch 117/300\n",
      "16/16 [==============================] - 0s 11ms/step - loss: 627.5535 - mean_absolute_percentage_error: 37.6817 - val_loss: 851.0606 - val_mean_absolute_percentage_error: 38.5083\n",
      "Epoch 118/300\n",
      "16/16 [==============================] - 0s 11ms/step - loss: 620.2337 - mean_absolute_percentage_error: 37.5285 - val_loss: 840.7028 - val_mean_absolute_percentage_error: 38.2004\n",
      "Epoch 119/300\n",
      "16/16 [==============================] - 0s 10ms/step - loss: 613.2750 - mean_absolute_percentage_error: 37.3677 - val_loss: 830.2921 - val_mean_absolute_percentage_error: 37.8884\n",
      "Epoch 120/300\n",
      "16/16 [==============================] - 0s 11ms/step - loss: 606.3353 - mean_absolute_percentage_error: 37.2194 - val_loss: 819.8055 - val_mean_absolute_percentage_error: 37.5891\n",
      "Epoch 121/300\n",
      "16/16 [==============================] - 0s 11ms/step - loss: 599.5245 - mean_absolute_percentage_error: 37.0891 - val_loss: 809.2777 - val_mean_absolute_percentage_error: 37.3037\n",
      "Epoch 122/300\n",
      "16/16 [==============================] - 0s 11ms/step - loss: 592.7178 - mean_absolute_percentage_error: 36.9387 - val_loss: 798.8006 - val_mean_absolute_percentage_error: 37.0173\n",
      "Epoch 123/300\n",
      "16/16 [==============================] - 0s 11ms/step - loss: 585.9276 - mean_absolute_percentage_error: 36.7903 - val_loss: 789.1030 - val_mean_absolute_percentage_error: 36.7502\n",
      "Epoch 124/300\n",
      "16/16 [==============================] - 0s 11ms/step - loss: 579.2512 - mean_absolute_percentage_error: 36.6164 - val_loss: 779.4145 - val_mean_absolute_percentage_error: 36.4835\n",
      "Epoch 125/300\n",
      "16/16 [==============================] - 0s 11ms/step - loss: 572.0799 - mean_absolute_percentage_error: 36.3196 - val_loss: 769.7440 - val_mean_absolute_percentage_error: 36.2191\n",
      "Epoch 126/300\n",
      "16/16 [==============================] - 0s 11ms/step - loss: 561.3150 - mean_absolute_percentage_error: 35.1870 - val_loss: 760.6048 - val_mean_absolute_percentage_error: 35.9765\n",
      "Epoch 127/300\n"
     ]
    },
    {
     "name": "stdout",
     "output_type": "stream",
     "text": [
      "16/16 [==============================] - 0s 11ms/step - loss: 550.2144 - mean_absolute_percentage_error: 33.9250 - val_loss: 750.6262 - val_mean_absolute_percentage_error: 35.7107\n",
      "Epoch 128/300\n",
      "16/16 [==============================] - 0s 10ms/step - loss: 544.4356 - mean_absolute_percentage_error: 33.0016 - val_loss: 740.5613 - val_mean_absolute_percentage_error: 35.4381\n",
      "Epoch 129/300\n",
      "16/16 [==============================] - 0s 11ms/step - loss: 530.2561 - mean_absolute_percentage_error: 32.4408 - val_loss: 730.8711 - val_mean_absolute_percentage_error: 35.1750\n",
      "Epoch 130/300\n",
      "16/16 [==============================] - 0s 10ms/step - loss: 522.2982 - mean_absolute_percentage_error: 31.8812 - val_loss: 721.1824 - val_mean_absolute_percentage_error: 34.9090\n",
      "Epoch 131/300\n",
      "16/16 [==============================] - 0s 11ms/step - loss: 515.5836 - mean_absolute_percentage_error: 31.0785 - val_loss: 711.6317 - val_mean_absolute_percentage_error: 34.6448\n",
      "Epoch 132/300\n",
      "16/16 [==============================] - 0s 11ms/step - loss: 509.1317 - mean_absolute_percentage_error: 31.3835 - val_loss: 702.4305 - val_mean_absolute_percentage_error: 34.3880\n",
      "Epoch 133/300\n",
      "16/16 [==============================] - 0s 11ms/step - loss: 501.2936 - mean_absolute_percentage_error: 30.5279 - val_loss: 693.0825 - val_mean_absolute_percentage_error: 34.1252\n",
      "Epoch 134/300\n",
      "16/16 [==============================] - 0s 11ms/step - loss: 495.0509 - mean_absolute_percentage_error: 30.3807 - val_loss: 684.1317 - val_mean_absolute_percentage_error: 33.8710\n",
      "Epoch 135/300\n",
      "16/16 [==============================] - 0s 11ms/step - loss: 488.6036 - mean_absolute_percentage_error: 29.8047 - val_loss: 674.9781 - val_mean_absolute_percentage_error: 33.6168\n",
      "Epoch 136/300\n",
      "16/16 [==============================] - 0s 11ms/step - loss: 482.4228 - mean_absolute_percentage_error: 29.9929 - val_loss: 665.8529 - val_mean_absolute_percentage_error: 33.3692\n",
      "Epoch 137/300\n",
      "16/16 [==============================] - 0s 11ms/step - loss: 476.0381 - mean_absolute_percentage_error: 29.4693 - val_loss: 656.8858 - val_mean_absolute_percentage_error: 33.1237\n",
      "Epoch 138/300\n",
      "16/16 [==============================] - 0s 11ms/step - loss: 470.0802 - mean_absolute_percentage_error: 29.4902 - val_loss: 648.3633 - val_mean_absolute_percentage_error: 32.8881\n",
      "Epoch 139/300\n",
      "16/16 [==============================] - 0s 11ms/step - loss: 463.7494 - mean_absolute_percentage_error: 29.1114 - val_loss: 639.7670 - val_mean_absolute_percentage_error: 32.6485\n",
      "Epoch 140/300\n",
      "16/16 [==============================] - 0s 11ms/step - loss: 458.0349 - mean_absolute_percentage_error: 28.8346 - val_loss: 631.2089 - val_mean_absolute_percentage_error: 32.4136\n",
      "Epoch 141/300\n",
      "16/16 [==============================] - 0s 11ms/step - loss: 452.5504 - mean_absolute_percentage_error: 28.8335 - val_loss: 622.6932 - val_mean_absolute_percentage_error: 32.1866\n",
      "Epoch 142/300\n",
      "16/16 [==============================] - 0s 11ms/step - loss: 447.0544 - mean_absolute_percentage_error: 28.5151 - val_loss: 614.6450 - val_mean_absolute_percentage_error: 31.9710\n",
      "Epoch 143/300\n",
      "16/16 [==============================] - 0s 12ms/step - loss: 441.7405 - mean_absolute_percentage_error: 28.4387 - val_loss: 606.5897 - val_mean_absolute_percentage_error: 31.7529\n",
      "Epoch 144/300\n",
      "16/16 [==============================] - 0s 11ms/step - loss: 436.2474 - mean_absolute_percentage_error: 28.4733 - val_loss: 598.7123 - val_mean_absolute_percentage_error: 31.5373\n",
      "Epoch 145/300\n",
      "16/16 [==============================] - 0s 11ms/step - loss: 431.0983 - mean_absolute_percentage_error: 28.0542 - val_loss: 590.8546 - val_mean_absolute_percentage_error: 31.3243\n",
      "Epoch 146/300\n",
      "16/16 [==============================] - 0s 11ms/step - loss: 426.3011 - mean_absolute_percentage_error: 28.0183 - val_loss: 583.5675 - val_mean_absolute_percentage_error: 31.1344\n",
      "Epoch 147/300\n",
      "16/16 [==============================] - 0s 11ms/step - loss: 420.4586 - mean_absolute_percentage_error: 27.6110 - val_loss: 576.1865 - val_mean_absolute_percentage_error: 30.9408\n",
      "Epoch 148/300\n",
      "16/16 [==============================] - 0s 11ms/step - loss: 415.6644 - mean_absolute_percentage_error: 27.8988 - val_loss: 568.4948 - val_mean_absolute_percentage_error: 30.7373\n",
      "Epoch 149/300\n",
      "16/16 [==============================] - 0s 11ms/step - loss: 410.7261 - mean_absolute_percentage_error: 27.5618 - val_loss: 560.9210 - val_mean_absolute_percentage_error: 30.5349\n",
      "Epoch 150/300\n",
      "16/16 [==============================] - 0s 11ms/step - loss: 406.1592 - mean_absolute_percentage_error: 27.2298 - val_loss: 553.7714 - val_mean_absolute_percentage_error: 30.3423\n",
      "Epoch 151/300\n",
      "16/16 [==============================] - 0s 10ms/step - loss: 401.7036 - mean_absolute_percentage_error: 27.3581 - val_loss: 546.6828 - val_mean_absolute_percentage_error: 30.1494\n",
      "Epoch 152/300\n",
      "16/16 [==============================] - 0s 11ms/step - loss: 396.5226 - mean_absolute_percentage_error: 26.9219 - val_loss: 539.6489 - val_mean_absolute_percentage_error: 29.9559\n",
      "Epoch 153/300\n",
      "16/16 [==============================] - 0s 11ms/step - loss: 391.6600 - mean_absolute_percentage_error: 27.0396 - val_loss: 532.3861 - val_mean_absolute_percentage_error: 29.7544\n",
      "Epoch 154/300\n",
      "16/16 [==============================] - 0s 10ms/step - loss: 387.2628 - mean_absolute_percentage_error: 26.8582 - val_loss: 525.3757 - val_mean_absolute_percentage_error: 29.5583\n",
      "Epoch 155/300\n",
      "16/16 [==============================] - 0s 11ms/step - loss: 382.6442 - mean_absolute_percentage_error: 26.5600 - val_loss: 518.8260 - val_mean_absolute_percentage_error: 29.3731\n",
      "Epoch 156/300\n",
      "16/16 [==============================] - 0s 11ms/step - loss: 378.8626 - mean_absolute_percentage_error: 26.6084 - val_loss: 512.1173 - val_mean_absolute_percentage_error: 29.1820\n",
      "Epoch 157/300\n",
      "16/16 [==============================] - 0s 11ms/step - loss: 373.9670 - mean_absolute_percentage_error: 26.2977 - val_loss: 505.9186 - val_mean_absolute_percentage_error: 29.0028\n",
      "Epoch 158/300\n",
      "16/16 [==============================] - 0s 11ms/step - loss: 370.6426 - mean_absolute_percentage_error: 26.6151 - val_loss: 499.4822 - val_mean_absolute_percentage_error: 28.8157\n",
      "Epoch 159/300\n",
      "16/16 [==============================] - 0s 11ms/step - loss: 368.3483 - mean_absolute_percentage_error: 26.0985 - val_loss: 493.0371 - val_mean_absolute_percentage_error: 28.6271\n",
      "Epoch 160/300\n",
      "16/16 [==============================] - 0s 11ms/step - loss: 363.2375 - mean_absolute_percentage_error: 26.6478 - val_loss: 487.0188 - val_mean_absolute_percentage_error: 28.4486\n",
      "Epoch 161/300\n",
      "16/16 [==============================] - 0s 11ms/step - loss: 358.8280 - mean_absolute_percentage_error: 25.8714 - val_loss: 481.0227 - val_mean_absolute_percentage_error: 28.2677\n",
      "Epoch 162/300\n",
      "16/16 [==============================] - 0s 11ms/step - loss: 356.0018 - mean_absolute_percentage_error: 26.6076 - val_loss: 475.2722 - val_mean_absolute_percentage_error: 28.0959\n",
      "Epoch 163/300\n",
      "16/16 [==============================] - 0s 11ms/step - loss: 351.2446 - mean_absolute_percentage_error: 25.9902 - val_loss: 469.4203 - val_mean_absolute_percentage_error: 27.9156\n",
      "Epoch 164/300\n",
      "16/16 [==============================] - 0s 11ms/step - loss: 347.1939 - mean_absolute_percentage_error: 25.7049 - val_loss: 463.6551 - val_mean_absolute_percentage_error: 27.7395\n",
      "Epoch 165/300\n",
      "16/16 [==============================] - 0s 11ms/step - loss: 343.1855 - mean_absolute_percentage_error: 25.5700 - val_loss: 458.1156 - val_mean_absolute_percentage_error: 27.5673\n",
      "Epoch 166/300\n",
      "16/16 [==============================] - 0s 11ms/step - loss: 339.8106 - mean_absolute_percentage_error: 25.3271 - val_loss: 452.4601 - val_mean_absolute_percentage_error: 27.3897\n",
      "Epoch 167/300\n",
      "16/16 [==============================] - 0s 11ms/step - loss: 336.2112 - mean_absolute_percentage_error: 25.5250 - val_loss: 446.5528 - val_mean_absolute_percentage_error: 27.2020\n",
      "Epoch 168/300\n",
      "16/16 [==============================] - 0s 11ms/step - loss: 332.9053 - mean_absolute_percentage_error: 25.0171 - val_loss: 441.2458 - val_mean_absolute_percentage_error: 27.0354\n",
      "Epoch 169/300\n",
      "16/16 [==============================] - 0s 11ms/step - loss: 328.9979 - mean_absolute_percentage_error: 24.9749 - val_loss: 436.0621 - val_mean_absolute_percentage_error: 26.8759\n",
      "Epoch 170/300\n",
      "16/16 [==============================] - 0s 11ms/step - loss: 325.5890 - mean_absolute_percentage_error: 24.8251 - val_loss: 431.0016 - val_mean_absolute_percentage_error: 26.7162\n",
      "Epoch 171/300\n",
      "16/16 [==============================] - 0s 11ms/step - loss: 322.2204 - mean_absolute_percentage_error: 24.9321 - val_loss: 426.1083 - val_mean_absolute_percentage_error: 26.5591\n",
      "Epoch 172/300\n",
      "16/16 [==============================] - 0s 11ms/step - loss: 319.1702 - mean_absolute_percentage_error: 24.7101 - val_loss: 421.4305 - val_mean_absolute_percentage_error: 26.3996\n",
      "Epoch 173/300\n",
      "16/16 [==============================] - 0s 11ms/step - loss: 315.3477 - mean_absolute_percentage_error: 24.6543 - val_loss: 416.2702 - val_mean_absolute_percentage_error: 26.2345\n",
      "Epoch 174/300\n",
      "16/16 [==============================] - 0s 11ms/step - loss: 311.5195 - mean_absolute_percentage_error: 24.3788 - val_loss: 412.4737 - val_mean_absolute_percentage_error: 26.0850\n",
      "Epoch 175/300\n",
      "16/16 [==============================] - 0s 11ms/step - loss: 308.4720 - mean_absolute_percentage_error: 24.1123 - val_loss: 408.7926 - val_mean_absolute_percentage_error: 25.9492\n",
      "Epoch 176/300\n",
      "16/16 [==============================] - 0s 11ms/step - loss: 305.2130 - mean_absolute_percentage_error: 23.9597 - val_loss: 403.5550 - val_mean_absolute_percentage_error: 25.8015\n",
      "Epoch 177/300\n",
      "16/16 [==============================] - 0s 11ms/step - loss: 302.0907 - mean_absolute_percentage_error: 23.7670 - val_loss: 399.1598 - val_mean_absolute_percentage_error: 25.6683\n",
      "Epoch 178/300\n",
      "16/16 [==============================] - 0s 11ms/step - loss: 298.6194 - mean_absolute_percentage_error: 23.7894 - val_loss: 394.1929 - val_mean_absolute_percentage_error: 25.5289\n",
      "Epoch 179/300\n",
      "16/16 [==============================] - 0s 11ms/step - loss: 295.7953 - mean_absolute_percentage_error: 23.6776 - val_loss: 389.6057 - val_mean_absolute_percentage_error: 25.3777\n",
      "Epoch 180/300\n",
      "16/16 [==============================] - 0s 11ms/step - loss: 293.4817 - mean_absolute_percentage_error: 23.9816 - val_loss: 385.2202 - val_mean_absolute_percentage_error: 25.2526\n",
      "Epoch 181/300\n",
      "16/16 [==============================] - 0s 13ms/step - loss: 289.7956 - mean_absolute_percentage_error: 23.2679 - val_loss: 381.5273 - val_mean_absolute_percentage_error: 25.1111\n",
      "Epoch 182/300\n",
      "16/16 [==============================] - 0s 11ms/step - loss: 286.3710 - mean_absolute_percentage_error: 23.4630 - val_loss: 374.9785 - val_mean_absolute_percentage_error: 24.9543\n",
      "Epoch 183/300\n",
      "16/16 [==============================] - 0s 11ms/step - loss: 283.8151 - mean_absolute_percentage_error: 23.2220 - val_loss: 372.5989 - val_mean_absolute_percentage_error: 24.8195\n",
      "Epoch 184/300\n",
      "16/16 [==============================] - 0s 11ms/step - loss: 281.0619 - mean_absolute_percentage_error: 23.0060 - val_loss: 367.0442 - val_mean_absolute_percentage_error: 24.6812\n",
      "Epoch 185/300\n",
      "16/16 [==============================] - 0s 11ms/step - loss: 278.5329 - mean_absolute_percentage_error: 23.3907 - val_loss: 365.7698 - val_mean_absolute_percentage_error: 24.5584\n",
      "Epoch 186/300\n",
      "16/16 [==============================] - 0s 11ms/step - loss: 275.2495 - mean_absolute_percentage_error: 22.8698 - val_loss: 359.0734 - val_mean_absolute_percentage_error: 24.4050\n",
      "Epoch 187/300\n",
      "16/16 [==============================] - 0s 11ms/step - loss: 272.3315 - mean_absolute_percentage_error: 23.1001 - val_loss: 356.4709 - val_mean_absolute_percentage_error: 24.2661\n",
      "Epoch 188/300\n",
      "16/16 [==============================] - 0s 11ms/step - loss: 270.4610 - mean_absolute_percentage_error: 22.5311 - val_loss: 348.3333 - val_mean_absolute_percentage_error: 24.1371\n",
      "Epoch 189/300\n",
      "16/16 [==============================] - 0s 11ms/step - loss: 268.0417 - mean_absolute_percentage_error: 22.9713 - val_loss: 343.2412 - val_mean_absolute_percentage_error: 23.9945\n",
      "Epoch 190/300\n",
      "16/16 [==============================] - 0s 11ms/step - loss: 263.6383 - mean_absolute_percentage_error: 22.4857 - val_loss: 342.4890 - val_mean_absolute_percentage_error: 23.8229\n",
      "Epoch 191/300\n",
      "16/16 [==============================] - 0s 10ms/step - loss: 263.7669 - mean_absolute_percentage_error: 22.4397 - val_loss: 335.0406 - val_mean_absolute_percentage_error: 23.7077\n",
      "Epoch 192/300\n",
      "16/16 [==============================] - 0s 11ms/step - loss: 262.1051 - mean_absolute_percentage_error: 23.1778 - val_loss: 331.2201 - val_mean_absolute_percentage_error: 23.6243\n",
      "Epoch 193/300\n",
      "16/16 [==============================] - 0s 10ms/step - loss: 256.5525 - mean_absolute_percentage_error: 22.1813 - val_loss: 332.3007 - val_mean_absolute_percentage_error: 23.4420\n",
      "Epoch 194/300\n",
      "16/16 [==============================] - 0s 11ms/step - loss: 255.3324 - mean_absolute_percentage_error: 22.5516 - val_loss: 326.0961 - val_mean_absolute_percentage_error: 23.3013\n",
      "Epoch 195/300\n",
      "16/16 [==============================] - 0s 11ms/step - loss: 252.5746 - mean_absolute_percentage_error: 22.0314 - val_loss: 321.8160 - val_mean_absolute_percentage_error: 23.2164\n",
      "Epoch 196/300\n",
      "16/16 [==============================] - 0s 11ms/step - loss: 248.2202 - mean_absolute_percentage_error: 21.8872 - val_loss: 319.7420 - val_mean_absolute_percentage_error: 23.1002\n",
      "Epoch 197/300\n",
      "16/16 [==============================] - 0s 11ms/step - loss: 245.3520 - mean_absolute_percentage_error: 21.8432 - val_loss: 314.8017 - val_mean_absolute_percentage_error: 22.9920\n",
      "Epoch 198/300\n",
      "16/16 [==============================] - 0s 11ms/step - loss: 243.4931 - mean_absolute_percentage_error: 21.7932 - val_loss: 312.5306 - val_mean_absolute_percentage_error: 22.8806\n",
      "Epoch 199/300\n",
      "16/16 [==============================] - 0s 11ms/step - loss: 240.3357 - mean_absolute_percentage_error: 21.5920 - val_loss: 307.2647 - val_mean_absolute_percentage_error: 22.7507\n",
      "Epoch 200/300\n",
      "16/16 [==============================] - 0s 11ms/step - loss: 238.7057 - mean_absolute_percentage_error: 21.6581 - val_loss: 305.3384 - val_mean_absolute_percentage_error: 22.6526\n",
      "Epoch 201/300\n",
      "16/16 [==============================] - 0s 11ms/step - loss: 236.0971 - mean_absolute_percentage_error: 21.4770 - val_loss: 300.3090 - val_mean_absolute_percentage_error: 22.5597\n",
      "Epoch 202/300\n",
      "16/16 [==============================] - 0s 11ms/step - loss: 234.4126 - mean_absolute_percentage_error: 21.6519 - val_loss: 298.8052 - val_mean_absolute_percentage_error: 22.4169\n",
      "Epoch 203/300\n",
      "16/16 [==============================] - 0s 11ms/step - loss: 231.8379 - mean_absolute_percentage_error: 21.2338 - val_loss: 294.0781 - val_mean_absolute_percentage_error: 22.3315\n",
      "Epoch 204/300\n",
      "16/16 [==============================] - 0s 11ms/step - loss: 228.4337 - mean_absolute_percentage_error: 21.2302 - val_loss: 291.9270 - val_mean_absolute_percentage_error: 22.1784\n",
      "Epoch 205/300\n",
      "16/16 [==============================] - 0s 11ms/step - loss: 226.6664 - mean_absolute_percentage_error: 21.2563 - val_loss: 288.6716 - val_mean_absolute_percentage_error: 22.0943\n",
      "Epoch 206/300\n",
      "16/16 [==============================] - 0s 11ms/step - loss: 224.2098 - mean_absolute_percentage_error: 20.7714 - val_loss: 283.4855 - val_mean_absolute_percentage_error: 22.0225\n",
      "Epoch 207/300\n",
      "16/16 [==============================] - 0s 11ms/step - loss: 222.0978 - mean_absolute_percentage_error: 20.8340 - val_loss: 281.5248 - val_mean_absolute_percentage_error: 21.8762\n",
      "Epoch 208/300\n",
      "16/16 [==============================] - 0s 11ms/step - loss: 220.0589 - mean_absolute_percentage_error: 20.8724 - val_loss: 277.7223 - val_mean_absolute_percentage_error: 21.7829\n",
      "Epoch 209/300\n",
      "16/16 [==============================] - 0s 11ms/step - loss: 218.0316 - mean_absolute_percentage_error: 20.5899 - val_loss: 275.1068 - val_mean_absolute_percentage_error: 21.6619\n",
      "Epoch 210/300\n",
      "16/16 [==============================] - 0s 11ms/step - loss: 215.7450 - mean_absolute_percentage_error: 20.7827 - val_loss: 274.5604 - val_mean_absolute_percentage_error: 21.5355\n",
      "Epoch 211/300\n"
     ]
    },
    {
     "name": "stdout",
     "output_type": "stream",
     "text": [
      "16/16 [==============================] - 0s 11ms/step - loss: 214.0849 - mean_absolute_percentage_error: 20.6259 - val_loss: 268.7118 - val_mean_absolute_percentage_error: 21.4490\n",
      "Epoch 212/300\n",
      "16/16 [==============================] - 0s 11ms/step - loss: 211.7849 - mean_absolute_percentage_error: 20.2869 - val_loss: 265.7372 - val_mean_absolute_percentage_error: 21.3668\n",
      "Epoch 213/300\n",
      "16/16 [==============================] - 0s 11ms/step - loss: 210.7761 - mean_absolute_percentage_error: 20.5843 - val_loss: 269.1149 - val_mean_absolute_percentage_error: 21.1731\n",
      "Epoch 214/300\n",
      "16/16 [==============================] - 0s 11ms/step - loss: 213.4933 - mean_absolute_percentage_error: 20.7948 - val_loss: 257.8557 - val_mean_absolute_percentage_error: 21.1868\n",
      "Epoch 215/300\n",
      "16/16 [==============================] - 0s 11ms/step - loss: 205.9973 - mean_absolute_percentage_error: 20.4271 - val_loss: 257.4234 - val_mean_absolute_percentage_error: 21.0053\n",
      "Epoch 216/300\n",
      "16/16 [==============================] - 0s 11ms/step - loss: 204.6844 - mean_absolute_percentage_error: 20.1270 - val_loss: 253.7803 - val_mean_absolute_percentage_error: 21.0066\n",
      "Epoch 217/300\n",
      "16/16 [==============================] - 0s 11ms/step - loss: 202.9026 - mean_absolute_percentage_error: 20.2598 - val_loss: 256.7530 - val_mean_absolute_percentage_error: 20.8449\n",
      "Epoch 218/300\n",
      "16/16 [==============================] - 0s 11ms/step - loss: 201.2701 - mean_absolute_percentage_error: 19.9849 - val_loss: 248.9591 - val_mean_absolute_percentage_error: 20.8122\n",
      "Epoch 219/300\n",
      "16/16 [==============================] - 0s 11ms/step - loss: 199.2642 - mean_absolute_percentage_error: 20.0989 - val_loss: 246.6176 - val_mean_absolute_percentage_error: 20.7464\n",
      "Epoch 220/300\n",
      "16/16 [==============================] - 0s 11ms/step - loss: 198.1286 - mean_absolute_percentage_error: 20.1013 - val_loss: 246.1431 - val_mean_absolute_percentage_error: 20.5733\n",
      "Epoch 221/300\n",
      "16/16 [==============================] - 0s 11ms/step - loss: 195.6965 - mean_absolute_percentage_error: 20.1074 - val_loss: 240.6159 - val_mean_absolute_percentage_error: 20.5804\n",
      "Epoch 222/300\n",
      "16/16 [==============================] - 0s 11ms/step - loss: 196.6498 - mean_absolute_percentage_error: 20.3895 - val_loss: 238.4088 - val_mean_absolute_percentage_error: 20.5027\n",
      "Epoch 223/300\n",
      "16/16 [==============================] - 0s 11ms/step - loss: 193.0875 - mean_absolute_percentage_error: 19.8237 - val_loss: 236.5059 - val_mean_absolute_percentage_error: 20.3599\n",
      "Epoch 224/300\n",
      "16/16 [==============================] - 0s 12ms/step - loss: 193.5318 - mean_absolute_percentage_error: 19.8543 - val_loss: 234.0134 - val_mean_absolute_percentage_error: 20.2503\n",
      "Epoch 225/300\n",
      "16/16 [==============================] - 0s 12ms/step - loss: 189.3377 - mean_absolute_percentage_error: 20.0165 - val_loss: 231.4676 - val_mean_absolute_percentage_error: 20.2185\n",
      "Epoch 226/300\n",
      "16/16 [==============================] - 0s 11ms/step - loss: 188.1326 - mean_absolute_percentage_error: 19.8172 - val_loss: 229.3231 - val_mean_absolute_percentage_error: 20.1290\n",
      "Epoch 227/300\n",
      "16/16 [==============================] - 0s 11ms/step - loss: 186.9355 - mean_absolute_percentage_error: 19.7593 - val_loss: 229.5167 - val_mean_absolute_percentage_error: 19.9362\n",
      "Epoch 228/300\n",
      "16/16 [==============================] - 0s 11ms/step - loss: 185.1620 - mean_absolute_percentage_error: 19.4058 - val_loss: 226.8383 - val_mean_absolute_percentage_error: 19.8989\n",
      "Epoch 229/300\n",
      "16/16 [==============================] - 0s 11ms/step - loss: 183.5337 - mean_absolute_percentage_error: 19.6451 - val_loss: 224.9727 - val_mean_absolute_percentage_error: 19.8416\n",
      "Epoch 230/300\n",
      "16/16 [==============================] - 0s 11ms/step - loss: 181.6205 - mean_absolute_percentage_error: 19.2478 - val_loss: 222.6749 - val_mean_absolute_percentage_error: 19.7542\n",
      "Epoch 231/300\n",
      "16/16 [==============================] - 0s 11ms/step - loss: 179.9503 - mean_absolute_percentage_error: 19.4253 - val_loss: 219.9019 - val_mean_absolute_percentage_error: 19.6828\n",
      "Epoch 232/300\n",
      "16/16 [==============================] - 0s 11ms/step - loss: 179.2855 - mean_absolute_percentage_error: 19.1819 - val_loss: 217.7844 - val_mean_absolute_percentage_error: 19.6062\n",
      "Epoch 233/300\n",
      "16/16 [==============================] - 0s 11ms/step - loss: 177.7440 - mean_absolute_percentage_error: 19.3451 - val_loss: 215.6977 - val_mean_absolute_percentage_error: 19.5082\n",
      "Epoch 234/300\n",
      "16/16 [==============================] - 0s 11ms/step - loss: 175.6582 - mean_absolute_percentage_error: 19.1071 - val_loss: 214.9875 - val_mean_absolute_percentage_error: 19.3932\n",
      "Epoch 235/300\n",
      "16/16 [==============================] - 0s 11ms/step - loss: 175.6732 - mean_absolute_percentage_error: 19.5342 - val_loss: 211.7707 - val_mean_absolute_percentage_error: 19.3408\n",
      "Epoch 236/300\n",
      "16/16 [==============================] - 0s 11ms/step - loss: 176.3036 - mean_absolute_percentage_error: 19.0563 - val_loss: 209.4963 - val_mean_absolute_percentage_error: 19.3132\n",
      "Epoch 237/300\n",
      "16/16 [==============================] - 0s 10ms/step - loss: 173.8144 - mean_absolute_percentage_error: 19.3650 - val_loss: 211.3120 - val_mean_absolute_percentage_error: 19.1429\n",
      "Epoch 238/300\n",
      "16/16 [==============================] - 0s 11ms/step - loss: 174.6517 - mean_absolute_percentage_error: 19.1912 - val_loss: 206.4009 - val_mean_absolute_percentage_error: 19.1694\n",
      "Epoch 239/300\n",
      "16/16 [==============================] - 0s 11ms/step - loss: 172.4227 - mean_absolute_percentage_error: 19.4180 - val_loss: 205.3486 - val_mean_absolute_percentage_error: 18.9939\n",
      "Epoch 240/300\n",
      "16/16 [==============================] - 0s 11ms/step - loss: 169.6469 - mean_absolute_percentage_error: 18.7559 - val_loss: 203.3597 - val_mean_absolute_percentage_error: 18.8731\n",
      "Epoch 241/300\n",
      "16/16 [==============================] - 0s 11ms/step - loss: 167.5776 - mean_absolute_percentage_error: 19.0001 - val_loss: 202.0880 - val_mean_absolute_percentage_error: 18.8500\n",
      "Epoch 242/300\n",
      "16/16 [==============================] - 0s 11ms/step - loss: 166.4104 - mean_absolute_percentage_error: 18.9004 - val_loss: 201.9281 - val_mean_absolute_percentage_error: 18.7647\n",
      "Epoch 243/300\n",
      "16/16 [==============================] - 0s 11ms/step - loss: 168.0017 - mean_absolute_percentage_error: 18.9965 - val_loss: 198.0685 - val_mean_absolute_percentage_error: 18.7045\n",
      "Epoch 244/300\n",
      "16/16 [==============================] - 0s 11ms/step - loss: 165.1996 - mean_absolute_percentage_error: 19.1631 - val_loss: 197.7074 - val_mean_absolute_percentage_error: 18.6348\n",
      "Epoch 245/300\n",
      "16/16 [==============================] - 0s 12ms/step - loss: 163.2377 - mean_absolute_percentage_error: 18.4182 - val_loss: 195.1635 - val_mean_absolute_percentage_error: 18.6165\n",
      "Epoch 246/300\n",
      "16/16 [==============================] - 0s 11ms/step - loss: 163.7732 - mean_absolute_percentage_error: 19.3333 - val_loss: 201.7072 - val_mean_absolute_percentage_error: 18.3815\n",
      "Epoch 247/300\n",
      "16/16 [==============================] - 0s 11ms/step - loss: 162.3828 - mean_absolute_percentage_error: 18.5993 - val_loss: 192.1171 - val_mean_absolute_percentage_error: 18.4523\n",
      "Epoch 248/300\n",
      "16/16 [==============================] - 0s 11ms/step - loss: 163.3091 - mean_absolute_percentage_error: 19.1464 - val_loss: 191.6581 - val_mean_absolute_percentage_error: 18.3560\n",
      "Epoch 249/300\n",
      "16/16 [==============================] - 0s 11ms/step - loss: 159.4130 - mean_absolute_percentage_error: 18.5447 - val_loss: 190.0806 - val_mean_absolute_percentage_error: 18.2735\n",
      "Epoch 250/300\n",
      "16/16 [==============================] - 0s 11ms/step - loss: 157.3989 - mean_absolute_percentage_error: 18.6258 - val_loss: 188.5467 - val_mean_absolute_percentage_error: 18.2108\n",
      "Epoch 251/300\n",
      "16/16 [==============================] - 0s 11ms/step - loss: 156.7378 - mean_absolute_percentage_error: 18.3631 - val_loss: 186.6682 - val_mean_absolute_percentage_error: 18.1295\n",
      "Epoch 252/300\n",
      "16/16 [==============================] - 0s 11ms/step - loss: 155.1540 - mean_absolute_percentage_error: 18.3888 - val_loss: 186.2779 - val_mean_absolute_percentage_error: 18.0440\n",
      "Epoch 253/300\n",
      "16/16 [==============================] - 0s 11ms/step - loss: 154.0128 - mean_absolute_percentage_error: 18.3169 - val_loss: 184.5650 - val_mean_absolute_percentage_error: 17.9723\n",
      "Epoch 254/300\n",
      "16/16 [==============================] - 0s 11ms/step - loss: 153.6716 - mean_absolute_percentage_error: 18.3277 - val_loss: 183.1678 - val_mean_absolute_percentage_error: 17.8963\n",
      "Epoch 255/300\n",
      "16/16 [==============================] - 0s 11ms/step - loss: 152.0081 - mean_absolute_percentage_error: 18.2374 - val_loss: 181.7162 - val_mean_absolute_percentage_error: 17.8083\n",
      "Epoch 256/300\n",
      "16/16 [==============================] - 0s 11ms/step - loss: 152.9737 - mean_absolute_percentage_error: 18.4696 - val_loss: 194.0737 - val_mean_absolute_percentage_error: 17.7996\n",
      "Epoch 257/300\n",
      "16/16 [==============================] - 0s 11ms/step - loss: 155.9514 - mean_absolute_percentage_error: 18.4426 - val_loss: 178.6463 - val_mean_absolute_percentage_error: 17.7137\n",
      "Epoch 258/300\n",
      "16/16 [==============================] - 0s 12ms/step - loss: 155.5761 - mean_absolute_percentage_error: 18.5213 - val_loss: 176.8361 - val_mean_absolute_percentage_error: 17.5996\n",
      "Epoch 259/300\n",
      "16/16 [==============================] - 0s 13ms/step - loss: 155.1724 - mean_absolute_percentage_error: 19.2699 - val_loss: 177.6528 - val_mean_absolute_percentage_error: 17.5237\n",
      "Epoch 260/300\n",
      "16/16 [==============================] - 0s 11ms/step - loss: 149.6736 - mean_absolute_percentage_error: 18.1512 - val_loss: 175.0360 - val_mean_absolute_percentage_error: 17.5337\n",
      "Epoch 261/300\n",
      "16/16 [==============================] - 0s 11ms/step - loss: 148.6118 - mean_absolute_percentage_error: 18.2236 - val_loss: 173.0585 - val_mean_absolute_percentage_error: 17.3704\n",
      "Epoch 262/300\n",
      "16/16 [==============================] - 0s 11ms/step - loss: 149.8823 - mean_absolute_percentage_error: 18.5011 - val_loss: 171.8588 - val_mean_absolute_percentage_error: 17.3473\n",
      "Epoch 263/300\n",
      "16/16 [==============================] - 0s 11ms/step - loss: 145.3370 - mean_absolute_percentage_error: 18.0297 - val_loss: 172.8206 - val_mean_absolute_percentage_error: 17.2329\n",
      "Epoch 264/300\n",
      "16/16 [==============================] - 0s 11ms/step - loss: 144.5017 - mean_absolute_percentage_error: 18.0278 - val_loss: 170.5045 - val_mean_absolute_percentage_error: 17.2220\n",
      "Epoch 265/300\n",
      "16/16 [==============================] - 0s 11ms/step - loss: 143.7337 - mean_absolute_percentage_error: 17.8488 - val_loss: 169.5234 - val_mean_absolute_percentage_error: 17.1453\n",
      "Epoch 266/300\n",
      "16/16 [==============================] - 0s 11ms/step - loss: 142.6760 - mean_absolute_percentage_error: 17.9316 - val_loss: 168.4120 - val_mean_absolute_percentage_error: 17.0653\n",
      "Epoch 267/300\n",
      "16/16 [==============================] - 0s 11ms/step - loss: 142.8042 - mean_absolute_percentage_error: 17.9594 - val_loss: 166.9430 - val_mean_absolute_percentage_error: 17.0720\n",
      "Epoch 268/300\n",
      "16/16 [==============================] - 0s 11ms/step - loss: 141.0606 - mean_absolute_percentage_error: 17.9262 - val_loss: 168.6555 - val_mean_absolute_percentage_error: 16.9864\n",
      "Epoch 269/300\n",
      "16/16 [==============================] - 0s 11ms/step - loss: 139.7307 - mean_absolute_percentage_error: 17.5842 - val_loss: 165.5498 - val_mean_absolute_percentage_error: 17.0579\n",
      "Epoch 270/300\n",
      "16/16 [==============================] - 0s 11ms/step - loss: 143.8847 - mean_absolute_percentage_error: 18.5515 - val_loss: 164.6215 - val_mean_absolute_percentage_error: 16.9419\n",
      "Epoch 271/300\n",
      "16/16 [==============================] - 0s 11ms/step - loss: 139.8181 - mean_absolute_percentage_error: 17.8858 - val_loss: 164.6840 - val_mean_absolute_percentage_error: 16.8642\n",
      "Epoch 272/300\n",
      "16/16 [==============================] - 0s 11ms/step - loss: 138.4486 - mean_absolute_percentage_error: 17.7353 - val_loss: 163.0372 - val_mean_absolute_percentage_error: 16.8304\n",
      "Epoch 273/300\n",
      "16/16 [==============================] - 0s 11ms/step - loss: 138.0328 - mean_absolute_percentage_error: 18.1010 - val_loss: 163.1972 - val_mean_absolute_percentage_error: 16.7876\n",
      "Epoch 274/300\n",
      "16/16 [==============================] - 0s 11ms/step - loss: 137.1868 - mean_absolute_percentage_error: 17.7744 - val_loss: 161.6361 - val_mean_absolute_percentage_error: 16.7386\n",
      "Epoch 275/300\n",
      "16/16 [==============================] - 0s 11ms/step - loss: 135.2056 - mean_absolute_percentage_error: 17.5323 - val_loss: 160.1387 - val_mean_absolute_percentage_error: 16.7146\n",
      "Epoch 276/300\n",
      "16/16 [==============================] - 0s 11ms/step - loss: 138.4351 - mean_absolute_percentage_error: 18.4756 - val_loss: 160.5816 - val_mean_absolute_percentage_error: 16.6481\n",
      "Epoch 277/300\n",
      "16/16 [==============================] - 0s 11ms/step - loss: 136.9599 - mean_absolute_percentage_error: 17.6478 - val_loss: 157.8102 - val_mean_absolute_percentage_error: 16.5879\n",
      "Epoch 278/300\n",
      "16/16 [==============================] - 0s 11ms/step - loss: 134.9191 - mean_absolute_percentage_error: 17.7135 - val_loss: 159.7388 - val_mean_absolute_percentage_error: 16.6162\n",
      "Epoch 279/300\n",
      "16/16 [==============================] - 0s 11ms/step - loss: 136.8329 - mean_absolute_percentage_error: 17.8476 - val_loss: 157.5370 - val_mean_absolute_percentage_error: 16.5374\n",
      "Epoch 280/300\n",
      "16/16 [==============================] - 0s 11ms/step - loss: 133.7531 - mean_absolute_percentage_error: 17.6812 - val_loss: 155.9915 - val_mean_absolute_percentage_error: 16.5492\n",
      "Epoch 281/300\n",
      "16/16 [==============================] - 0s 11ms/step - loss: 131.2968 - mean_absolute_percentage_error: 17.5277 - val_loss: 156.1485 - val_mean_absolute_percentage_error: 16.5535\n",
      "Epoch 282/300\n",
      "16/16 [==============================] - 0s 11ms/step - loss: 133.0250 - mean_absolute_percentage_error: 17.4529 - val_loss: 155.1254 - val_mean_absolute_percentage_error: 16.5158\n",
      "Epoch 283/300\n",
      "16/16 [==============================] - 0s 11ms/step - loss: 131.0740 - mean_absolute_percentage_error: 17.8351 - val_loss: 154.8037 - val_mean_absolute_percentage_error: 16.4669\n",
      "Epoch 284/300\n",
      "16/16 [==============================] - 0s 11ms/step - loss: 130.2476 - mean_absolute_percentage_error: 17.3161 - val_loss: 153.8422 - val_mean_absolute_percentage_error: 16.5020\n",
      "Epoch 285/300\n",
      "16/16 [==============================] - 0s 11ms/step - loss: 137.0196 - mean_absolute_percentage_error: 18.7348 - val_loss: 153.2770 - val_mean_absolute_percentage_error: 16.4077\n",
      "Epoch 286/300\n",
      "16/16 [==============================] - 0s 11ms/step - loss: 129.7240 - mean_absolute_percentage_error: 17.3691 - val_loss: 153.8690 - val_mean_absolute_percentage_error: 16.4214\n",
      "Epoch 287/300\n",
      "16/16 [==============================] - 0s 11ms/step - loss: 127.7372 - mean_absolute_percentage_error: 17.4821 - val_loss: 152.2519 - val_mean_absolute_percentage_error: 16.3924\n",
      "Epoch 288/300\n",
      "16/16 [==============================] - 0s 11ms/step - loss: 129.4783 - mean_absolute_percentage_error: 17.5451 - val_loss: 151.5242 - val_mean_absolute_percentage_error: 16.3387\n",
      "Epoch 289/300\n",
      "16/16 [==============================] - 0s 11ms/step - loss: 128.0271 - mean_absolute_percentage_error: 17.5660 - val_loss: 151.3685 - val_mean_absolute_percentage_error: 16.3590\n",
      "Epoch 290/300\n",
      "16/16 [==============================] - 0s 11ms/step - loss: 127.9417 - mean_absolute_percentage_error: 17.2876 - val_loss: 150.5013 - val_mean_absolute_percentage_error: 16.3829\n",
      "Epoch 291/300\n",
      "16/16 [==============================] - 0s 11ms/step - loss: 128.4230 - mean_absolute_percentage_error: 17.6043 - val_loss: 160.6878 - val_mean_absolute_percentage_error: 16.3821\n",
      "Epoch 292/300\n",
      "16/16 [==============================] - 0s 11ms/step - loss: 127.2041 - mean_absolute_percentage_error: 17.3956 - val_loss: 150.2531 - val_mean_absolute_percentage_error: 16.4336\n",
      "Epoch 293/300\n",
      "16/16 [==============================] - 0s 11ms/step - loss: 129.6480 - mean_absolute_percentage_error: 17.7143 - val_loss: 150.3289 - val_mean_absolute_percentage_error: 16.3227\n",
      "Epoch 294/300\n",
      "16/16 [==============================] - 0s 11ms/step - loss: 124.0848 - mean_absolute_percentage_error: 17.1787 - val_loss: 148.5455 - val_mean_absolute_percentage_error: 16.2935\n",
      "Epoch 295/300\n"
     ]
    },
    {
     "name": "stdout",
     "output_type": "stream",
     "text": [
      "16/16 [==============================] - 0s 11ms/step - loss: 124.6348 - mean_absolute_percentage_error: 17.3697 - val_loss: 148.4116 - val_mean_absolute_percentage_error: 16.2975\n",
      "Epoch 296/300\n",
      "16/16 [==============================] - 0s 11ms/step - loss: 123.6548 - mean_absolute_percentage_error: 17.3218 - val_loss: 148.0864 - val_mean_absolute_percentage_error: 16.3053\n",
      "Epoch 297/300\n",
      "16/16 [==============================] - 0s 11ms/step - loss: 123.1533 - mean_absolute_percentage_error: 17.1673 - val_loss: 147.6823 - val_mean_absolute_percentage_error: 16.3278\n",
      "Epoch 298/300\n",
      "16/16 [==============================] - 0s 11ms/step - loss: 123.8944 - mean_absolute_percentage_error: 17.1888 - val_loss: 147.2140 - val_mean_absolute_percentage_error: 16.3393\n",
      "Epoch 299/300\n",
      "16/16 [==============================] - 0s 11ms/step - loss: 124.0618 - mean_absolute_percentage_error: 17.4159 - val_loss: 147.3242 - val_mean_absolute_percentage_error: 16.2917\n",
      "Epoch 300/300\n",
      "16/16 [==============================] - 0s 11ms/step - loss: 122.1485 - mean_absolute_percentage_error: 17.1655 - val_loss: 146.9237 - val_mean_absolute_percentage_error: 16.3233\n",
      "2/2 [==============================] - 0s 5ms/step - loss: 134.5056 - mean_absolute_percentage_error: 26.7289\n"
     ]
    },
    {
     "data": {
      "text/plain": [
       "[134.50564575195312, 26.728870391845703]"
      ]
     },
     "execution_count": 136,
     "metadata": {},
     "output_type": "execute_result"
    }
   ],
   "source": [
    "model = Sequential([\n",
    "    SimpleRNN(20, activation = \"tanh\", return_sequences = True, input_shape = X_train.shape[1:]),\n",
    "    SimpleRNN(20, activation = \"tanh\", return_sequences = False),\n",
    "    Dense(1, activation = \"linear\")\n",
    "])\n",
    "\n",
    "model.compile(loss = \"mse\",\n",
    "                 optimizer = \"adam\",\n",
    "                 metrics = \"mean_absolute_percentage_error\")\n",
    "\n",
    "model.fit(X_train, \n",
    "          y_train,\n",
    "        epochs= 300,\n",
    "         batch_size = 16, \n",
    "         validation_split=0.2,\n",
    "         callbacks=[es])\n",
    "model.evaluate(X_test, y_test)"
   ]
  },
  {
   "cell_type": "code",
   "execution_count": 140,
   "id": "7fea766e",
   "metadata": {},
   "outputs": [
    {
     "name": "stdout",
     "output_type": "stream",
     "text": [
      "2/2 [==============================] - 0s 8ms/step - loss: 134.5056 - mean_absolute_percentage_error: 26.7289\n"
     ]
    },
    {
     "data": {
      "text/plain": [
       "[134.50564575195312, 26.728870391845703]"
      ]
     },
     "execution_count": 140,
     "metadata": {},
     "output_type": "execute_result"
    }
   ],
   "source": [
    "model.evaluate(X_test, y_test)"
   ]
  },
  {
   "cell_type": "code",
   "execution_count": 195,
   "id": "3cbeb5e4",
   "metadata": {},
   "outputs": [
    {
     "data": {
      "image/png": "[encoded data removed]",
      "text/plain": [
       "<Figure size 1080x432 with 1 Axes>"
      ]
     },
     "metadata": {
      "needs_background": "light"
     },
     "output_type": "display_data"
    }
   ],
   "source": [
    "y_pred = model.predict(X_test)\n",
    "\n",
    "plt.figure(figsize = (15,6))\n",
    "plt.plot(y_pred, label = \"prediction\")\n",
    "plt.plot(y_test, label = \"true\")\n",
    "plt.legend();"
   ]
  },
  {
   "cell_type": "markdown",
   "id": "c97d3c38",
   "metadata": {},
   "source": [
    "## Second (more complex) RNN model"
   ]
  },
  {
   "cell_type": "code",
   "execution_count": 192,
   "id": "1fea8793",
   "metadata": {},
   "outputs": [],
   "source": [
    "rnn_model_2 = Sequential()\n",
    "# first LSTM layer\n",
    "rnn_model_2.add(LSTM(units = 50, activation = \"tanh\", return_sequences = True))\n",
    "rnn_model_2.add(Dropout(0.3))\n",
    "# second LSTM layer\n",
    "#rnn_model_2.add(LSTM(units = 50, activation = \"tanh\", return_sequences = True))\n",
    "rnn_model_2.add(LSTM(units= 10, activation= \"tanh\", return_sequences= False))\n",
    "rnn_model_2.add(Dropout(0.3))\n",
    "\n",
    "# output layer to predict one value\n",
    "rnn_model_2.add(Dense(1, activation= \"linear\"))\n",
    "\n",
    "rnn_model_2.compile(optimizer= \"adam\", loss= \"mse\", metrics = \"mean_absolute_percentage_error\")\n",
    "\n",
    "history = rnn_model_2.fit(X_train, \n",
    "                        y_train,\n",
    "          batch_size=8, \n",
    "          epochs=300,\n",
    "          validation_split=0.2,\n",
    "          callbacks=[es], verbose = 0)"
   ]
  },
  {
   "cell_type": "code",
   "execution_count": 193,
   "id": "6bac3ade",
   "metadata": {},
   "outputs": [
    {
     "name": "stdout",
     "output_type": "stream",
     "text": [
      "2/2 [==============================] - 0s 6ms/step - loss: 139.1081 - mean_absolute_percentage_error: 25.7753\n"
     ]
    },
    {
     "data": {
      "text/plain": [
       "[139.10813903808594, 25.77528953552246]"
      ]
     },
     "execution_count": 193,
     "metadata": {},
     "output_type": "execute_result"
    }
   ],
   "source": [
    "rnn_model_2.evaluate(X_test, y_test)"
   ]
  },
  {
   "cell_type": "code",
   "execution_count": 185,
   "id": "03fca88e",
   "metadata": {},
   "outputs": [],
   "source": [
    "y_pred_rnn_2 = rnn_model_2.predict(X_test)"
   ]
  },
  {
   "cell_type": "code",
   "execution_count": 187,
   "id": "ef992889",
   "metadata": {},
   "outputs": [
    {
     "data": {
      "text/plain": [
       "25.462162777085005"
      ]
     },
     "execution_count": 187,
     "metadata": {},
     "output_type": "execute_result"
    }
   ],
   "source": [
    "mean_absolute_percentage_error(y_test, y_pred_rnn_2)*100"
   ]
  },
  {
   "cell_type": "markdown",
   "id": "84025796",
   "metadata": {},
   "source": [
    "# Finetuning"
   ]
  },
  {
   "cell_type": "markdown",
   "id": "08137069",
   "metadata": {},
   "source": [
    "def model_create_compile(n_units_1 = 50, n_units_2 = 10, dropout_rate = 0.2):\n",
    "    model = Sequential()\n",
    "    # first LSTM layer\n",
    "    model.add(LSTM(units = n_units_1, activation = \"tanh\", return_sequences = True))\n",
    "    model.add(Dropout(dropout_rate))\n",
    "    # second LSTM layer\n",
    "    model.add(LSTM(units= n_units_2, activation= \"tanh\", return_sequences= False))\n",
    "    model.add(Dropout(dropout_rate))\n",
    "\n",
    "    # output layer to predict one value\n",
    "    model.add(Dense(1, activation= \"linear\"))\n",
    "\n",
    "    model.compile(optimizer= \"adam\", loss= \"mse\", metrics = \"mean_absolute_percentage_error\")\n",
    "\n",
    "    return model"
   ]
  },
  {
   "cell_type": "markdown",
   "id": "e2869b1d",
   "metadata": {},
   "source": [
    "es = callbacks.EarlyStopping(patience=5, restore_best_weights=True)"
   ]
  },
  {
   "cell_type": "markdown",
   "id": "a060b136",
   "metadata": {},
   "source": [
    "model.fit(X_train, \n",
    "                y_train,\n",
    "              batch_size=8, \n",
    "              epochs=300,\n",
    "              validation_split=0.2,\n",
    "              callbacks=[es], verbose = 1)"
   ]
  },
  {
   "cell_type": "markdown",
   "id": "f611ccc9",
   "metadata": {},
   "source": [
    "n_units_1 = [10, 20, 30, 40, 50, 60, 70, 80, 90, 100]\n",
    "n_units_2 = [10, 20, 30]\n",
    "dropout_rate = [0.1, 0.2, 0.3] "
   ]
  },
  {
   "cell_type": "markdown",
   "id": "2e7cd929",
   "metadata": {},
   "source": [
    "out = []\n",
    "\n",
    "for i in n_units_1: \n",
    "    for j in n_units_2:\n",
    "            for k in dropout_rate:\n",
    "                out.append((i, j, k))"
   ]
  },
  {
   "cell_type": "markdown",
   "id": "3c2c0180",
   "metadata": {
    "collapsed": true
   },
   "source": [
    "result = []\n",
    "\n",
    "for n in out:\n",
    "    temp = []\n",
    "    n_units_1, n_units_2, dropout_rate = n\n",
    "    model = model_create_compile(n_units_1= n_units_1, n_units_2= n_units_2, dropout_rate=dropout_rate)\n",
    "    temp.append(n_units_1)\n",
    "    temp.append(n_units_2)\n",
    "    temp.append(dropout_rate)\n",
    "    \n",
    "    cv_result = model_cross_validation(model)\n",
    "    temp.append(np.mean(model_cross_validation, axis = 0)[1]))\n",
    "    \n",
    "    result.append(temp)\n",
    "\n",
    "    "
   ]
  },
  {
   "cell_type": "markdown",
   "id": "c2b2e0d0",
   "metadata": {},
   "source": [
    "# Finetuned Model"
   ]
  },
  {
   "cell_type": "markdown",
   "id": "c3dc2d55",
   "metadata": {},
   "source": [
    "The grid search gives us the following optimal model architecture:"
   ]
  },
  {
   "cell_type": "code",
   "execution_count": 28,
   "id": "162fc5b0",
   "metadata": {},
   "outputs": [
    {
     "name": "stderr",
     "output_type": "stream",
     "text": [
      "2022-03-08 16:20:57.949513: W tensorflow/stream_executor/platform/default/dso_loader.cc:64] Could not load dynamic library 'libcuda.so.1'; dlerror: libcuda.so.1: cannot open shared object file: No such file or directory\n",
      "2022-03-08 16:20:57.949613: W tensorflow/stream_executor/cuda/cuda_driver.cc:269] failed call to cuInit: UNKNOWN ERROR (303)\n",
      "2022-03-08 16:20:57.949635: I tensorflow/stream_executor/cuda/cuda_diagnostics.cc:156] kernel driver does not appear to be running on this host (LAPTOP-C0GM00LC): /proc/driver/nvidia/version does not exist\n",
      "2022-03-08 16:20:57.950115: I tensorflow/core/platform/cpu_feature_guard.cc:151] This TensorFlow binary is optimized with oneAPI Deep Neural Network Library (oneDNN) to use the following CPU instructions in performance-critical operations:  AVX2 AVX512F FMA\n",
      "To enable them in other operations, rebuild TensorFlow with the appropriate compiler flags.\n"
     ]
    }
   ],
   "source": [
    "opt_model = Sequential()\n",
    "# first LSTM layer\n",
    "opt_model.add(LSTM(units = 70, activation = \"tanh\", return_sequences = True))\n",
    "opt_model.add(Dropout(0.2))\n",
    "# second LSTM layer\n",
    "opt_model.add(LSTM(units= 30, activation= \"tanh\", return_sequences= False))\n",
    "opt_model.add(Dropout(0.2))\n",
    "\n",
    "# output layer to predict one value\n",
    "opt_model.add(Dense(1, activation= \"linear\"))\n",
    "\n",
    "opt_model.compile(optimizer= \"adam\", loss= \"mse\", metrics = \"mean_absolute_percentage_error\")"
   ]
  },
  {
   "cell_type": "code",
   "execution_count": 29,
   "id": "3866cb85",
   "metadata": {},
   "outputs": [
    {
     "name": "stdout",
     "output_type": "stream",
     "text": [
      "Epoch 1/300\n",
      "31/31 [==============================] - 3s 33ms/step - loss: 3068.7781 - mean_absolute_percentage_error: 94.0870 - val_loss: 3809.5283 - val_mean_absolute_percentage_error: 92.4663\n",
      "Epoch 2/300\n",
      "31/31 [==============================] - 1s 17ms/step - loss: 2749.8645 - mean_absolute_percentage_error: 87.0832 - val_loss: 3525.8330 - val_mean_absolute_percentage_error: 88.5274\n",
      "Epoch 3/300\n",
      "31/31 [==============================] - 1s 17ms/step - loss: 2589.6782 - mean_absolute_percentage_error: 83.4009 - val_loss: 3390.5911 - val_mean_absolute_percentage_error: 86.5903\n",
      "Epoch 4/300\n",
      "31/31 [==============================] - 1s 17ms/step - loss: 2478.1958 - mean_absolute_percentage_error: 80.8904 - val_loss: 3273.6570 - val_mean_absolute_percentage_error: 84.8798\n",
      "Epoch 5/300\n",
      "31/31 [==============================] - 1s 17ms/step - loss: 2378.2402 - mean_absolute_percentage_error: 78.6548 - val_loss: 3151.6350 - val_mean_absolute_percentage_error: 83.0596\n",
      "Epoch 6/300\n",
      "31/31 [==============================] - 1s 17ms/step - loss: 2288.1377 - mean_absolute_percentage_error: 76.4868 - val_loss: 3043.9697 - val_mean_absolute_percentage_error: 81.4219\n",
      "Epoch 7/300\n",
      "31/31 [==============================] - 1s 17ms/step - loss: 2196.4304 - mean_absolute_percentage_error: 74.4232 - val_loss: 2942.5735 - val_mean_absolute_percentage_error: 79.8508\n",
      "Epoch 8/300\n",
      "31/31 [==============================] - 1s 17ms/step - loss: 2118.9695 - mean_absolute_percentage_error: 72.6595 - val_loss: 2846.3418 - val_mean_absolute_percentage_error: 78.3324\n",
      "Epoch 9/300\n",
      "31/31 [==============================] - 1s 17ms/step - loss: 2052.6753 - mean_absolute_percentage_error: 70.9095 - val_loss: 2752.3977 - val_mean_absolute_percentage_error: 76.8232\n",
      "Epoch 10/300\n",
      "31/31 [==============================] - 1s 17ms/step - loss: 1979.8723 - mean_absolute_percentage_error: 68.9533 - val_loss: 2662.3528 - val_mean_absolute_percentage_error: 75.3501\n",
      "Epoch 11/300\n",
      "31/31 [==============================] - 1s 18ms/step - loss: 1917.3857 - mean_absolute_percentage_error: 67.1320 - val_loss: 2577.3616 - val_mean_absolute_percentage_error: 73.9346\n",
      "Epoch 12/300\n",
      "31/31 [==============================] - 1s 17ms/step - loss: 1867.7709 - mean_absolute_percentage_error: 65.8520 - val_loss: 2493.5542 - val_mean_absolute_percentage_error: 72.5137\n",
      "Epoch 13/300\n",
      "31/31 [==============================] - 1s 17ms/step - loss: 1772.4817 - mean_absolute_percentage_error: 63.9043 - val_loss: 2414.5510 - val_mean_absolute_percentage_error: 71.1501\n",
      "Epoch 14/300\n",
      "31/31 [==============================] - 1s 17ms/step - loss: 1713.2592 - mean_absolute_percentage_error: 61.9751 - val_loss: 2337.3018 - val_mean_absolute_percentage_error: 69.7929\n",
      "Epoch 15/300\n",
      "31/31 [==============================] - 1s 17ms/step - loss: 1659.5400 - mean_absolute_percentage_error: 60.9967 - val_loss: 2260.0129 - val_mean_absolute_percentage_error: 68.4101\n",
      "Epoch 16/300\n",
      "31/31 [==============================] - 1s 17ms/step - loss: 1603.7906 - mean_absolute_percentage_error: 59.7590 - val_loss: 2187.2927 - val_mean_absolute_percentage_error: 67.0850\n",
      "Epoch 17/300\n",
      "31/31 [==============================] - 1s 18ms/step - loss: 1534.9030 - mean_absolute_percentage_error: 57.6580 - val_loss: 2117.0701 - val_mean_absolute_percentage_error: 65.7819\n",
      "Epoch 18/300\n",
      "31/31 [==============================] - 1s 18ms/step - loss: 1498.4924 - mean_absolute_percentage_error: 56.5386 - val_loss: 2048.1895 - val_mean_absolute_percentage_error: 64.4802\n",
      "Epoch 19/300\n",
      "31/31 [==============================] - 1s 18ms/step - loss: 1422.8505 - mean_absolute_percentage_error: 54.7239 - val_loss: 1981.6969 - val_mean_absolute_percentage_error: 63.2002\n",
      "Epoch 20/300\n",
      "31/31 [==============================] - 1s 18ms/step - loss: 1407.7479 - mean_absolute_percentage_error: 53.6876 - val_loss: 1917.2089 - val_mean_absolute_percentage_error: 61.9356\n",
      "Epoch 21/300\n",
      "31/31 [==============================] - 1s 18ms/step - loss: 1360.5912 - mean_absolute_percentage_error: 52.7044 - val_loss: 1855.1603 - val_mean_absolute_percentage_error: 60.6960\n",
      "Epoch 22/300\n",
      "31/31 [==============================] - 1s 18ms/step - loss: 1325.9890 - mean_absolute_percentage_error: 51.5750 - val_loss: 1795.8995 - val_mean_absolute_percentage_error: 59.4900\n",
      "Epoch 23/300\n",
      "31/31 [==============================] - 1s 18ms/step - loss: 1240.4391 - mean_absolute_percentage_error: 50.0460 - val_loss: 1738.1185 - val_mean_absolute_percentage_error: 58.2922\n",
      "Epoch 24/300\n",
      "31/31 [==============================] - 1s 19ms/step - loss: 1217.2013 - mean_absolute_percentage_error: 48.6605 - val_loss: 1681.0676 - val_mean_absolute_percentage_error: 57.0870\n",
      "Epoch 25/300\n",
      "31/31 [==============================] - 1s 19ms/step - loss: 1184.9637 - mean_absolute_percentage_error: 47.6109 - val_loss: 1626.3683 - val_mean_absolute_percentage_error: 55.9093\n",
      "Epoch 26/300\n",
      "31/31 [==============================] - 1s 19ms/step - loss: 1138.0815 - mean_absolute_percentage_error: 48.0189 - val_loss: 1574.3179 - val_mean_absolute_percentage_error: 54.7672\n",
      "Epoch 27/300\n",
      "31/31 [==============================] - 1s 18ms/step - loss: 1112.9595 - mean_absolute_percentage_error: 46.4359 - val_loss: 1522.4738 - val_mean_absolute_percentage_error: 53.6077\n",
      "Epoch 28/300\n",
      "31/31 [==============================] - 1s 18ms/step - loss: 1051.4385 - mean_absolute_percentage_error: 45.1768 - val_loss: 1473.1278 - val_mean_absolute_percentage_error: 52.4825\n",
      "Epoch 29/300\n",
      "31/31 [==============================] - 1s 18ms/step - loss: 1021.1062 - mean_absolute_percentage_error: 44.4023 - val_loss: 1426.9772 - val_mean_absolute_percentage_error: 51.4101\n",
      "Epoch 30/300\n",
      "31/31 [==============================] - 1s 18ms/step - loss: 1010.9728 - mean_absolute_percentage_error: 43.5146 - val_loss: 1380.1648 - val_mean_absolute_percentage_error: 50.3012\n",
      "Epoch 31/300\n",
      "31/31 [==============================] - 1s 18ms/step - loss: 954.3520 - mean_absolute_percentage_error: 42.1837 - val_loss: 1336.0172 - val_mean_absolute_percentage_error: 49.2348\n",
      "Epoch 32/300\n",
      "31/31 [==============================] - 1s 18ms/step - loss: 912.7413 - mean_absolute_percentage_error: 41.7719 - val_loss: 1292.4143 - val_mean_absolute_percentage_error: 48.1608\n",
      "Epoch 33/300\n",
      "31/31 [==============================] - 1s 18ms/step - loss: 909.5182 - mean_absolute_percentage_error: 41.8518 - val_loss: 1252.1215 - val_mean_absolute_percentage_error: 47.1488\n",
      "Epoch 34/300\n",
      "31/31 [==============================] - 1s 18ms/step - loss: 880.7553 - mean_absolute_percentage_error: 41.3356 - val_loss: 1210.6340 - val_mean_absolute_percentage_error: 46.0861\n",
      "Epoch 35/300\n",
      "31/31 [==============================] - 1s 17ms/step - loss: 847.7205 - mean_absolute_percentage_error: 41.1477 - val_loss: 1173.1691 - val_mean_absolute_percentage_error: 45.1072\n",
      "Epoch 36/300\n",
      "31/31 [==============================] - 1s 17ms/step - loss: 829.7743 - mean_absolute_percentage_error: 39.8103 - val_loss: 1135.6556 - val_mean_absolute_percentage_error: 44.1077\n",
      "Epoch 37/300\n",
      "31/31 [==============================] - 1s 19ms/step - loss: 781.9886 - mean_absolute_percentage_error: 38.7778 - val_loss: 1100.5924 - val_mean_absolute_percentage_error: 43.1549\n",
      "Epoch 38/300\n",
      "31/31 [==============================] - 1s 18ms/step - loss: 772.7469 - mean_absolute_percentage_error: 39.1224 - val_loss: 1066.8254 - val_mean_absolute_percentage_error: 42.2193\n",
      "Epoch 39/300\n",
      "31/31 [==============================] - 1s 18ms/step - loss: 738.1252 - mean_absolute_percentage_error: 38.0273 - val_loss: 1032.9491 - val_mean_absolute_percentage_error: 41.2619\n",
      "Epoch 40/300\n",
      "31/31 [==============================] - 1s 19ms/step - loss: 739.5754 - mean_absolute_percentage_error: 38.7406 - val_loss: 1001.7403 - val_mean_absolute_percentage_error: 40.3621\n",
      "Epoch 41/300\n",
      "31/31 [==============================] - 1s 18ms/step - loss: 709.1841 - mean_absolute_percentage_error: 38.2391 - val_loss: 971.2926 - val_mean_absolute_percentage_error: 39.4720\n",
      "Epoch 42/300\n",
      "31/31 [==============================] - 1s 18ms/step - loss: 696.8836 - mean_absolute_percentage_error: 37.5206 - val_loss: 940.9270 - val_mean_absolute_percentage_error: 38.6098\n",
      "Epoch 43/300\n"
     ]
    },
    {
     "name": "stdout",
     "output_type": "stream",
     "text": [
      "31/31 [==============================] - 1s 18ms/step - loss: 689.6979 - mean_absolute_percentage_error: 37.9598 - val_loss: 913.4372 - val_mean_absolute_percentage_error: 37.8135\n",
      "Epoch 44/300\n",
      "31/31 [==============================] - 1s 18ms/step - loss: 652.7812 - mean_absolute_percentage_error: 37.1007 - val_loss: 886.6892 - val_mean_absolute_percentage_error: 37.0236\n",
      "Epoch 45/300\n",
      "31/31 [==============================] - 1s 20ms/step - loss: 628.2319 - mean_absolute_percentage_error: 36.5863 - val_loss: 860.1689 - val_mean_absolute_percentage_error: 36.2247\n",
      "Epoch 46/300\n",
      "31/31 [==============================] - 1s 18ms/step - loss: 629.0160 - mean_absolute_percentage_error: 37.3156 - val_loss: 835.5793 - val_mean_absolute_percentage_error: 35.4691\n",
      "Epoch 47/300\n",
      "31/31 [==============================] - 1s 17ms/step - loss: 623.7322 - mean_absolute_percentage_error: 36.8120 - val_loss: 810.6925 - val_mean_absolute_percentage_error: 34.6890\n",
      "Epoch 48/300\n",
      "31/31 [==============================] - 1s 18ms/step - loss: 604.5218 - mean_absolute_percentage_error: 37.3622 - val_loss: 787.0553 - val_mean_absolute_percentage_error: 33.9329\n",
      "Epoch 49/300\n",
      "31/31 [==============================] - 1s 18ms/step - loss: 578.1731 - mean_absolute_percentage_error: 36.8756 - val_loss: 764.9149 - val_mean_absolute_percentage_error: 33.2272\n",
      "Epoch 50/300\n",
      "31/31 [==============================] - 1s 18ms/step - loss: 564.8138 - mean_absolute_percentage_error: 36.1500 - val_loss: 745.2694 - val_mean_absolute_percentage_error: 32.6403\n",
      "Epoch 51/300\n",
      "31/31 [==============================] - 1s 18ms/step - loss: 557.2975 - mean_absolute_percentage_error: 36.4093 - val_loss: 724.0238 - val_mean_absolute_percentage_error: 31.9932\n",
      "Epoch 52/300\n",
      "31/31 [==============================] - 1s 18ms/step - loss: 568.3873 - mean_absolute_percentage_error: 36.7896 - val_loss: 705.0386 - val_mean_absolute_percentage_error: 31.4680\n",
      "Epoch 53/300\n",
      "31/31 [==============================] - 1s 18ms/step - loss: 548.5980 - mean_absolute_percentage_error: 36.8787 - val_loss: 686.4070 - val_mean_absolute_percentage_error: 30.9433\n",
      "Epoch 54/300\n",
      "31/31 [==============================] - 1s 18ms/step - loss: 533.0665 - mean_absolute_percentage_error: 36.2889 - val_loss: 667.6464 - val_mean_absolute_percentage_error: 30.4255\n",
      "Epoch 55/300\n",
      "31/31 [==============================] - 1s 18ms/step - loss: 530.6340 - mean_absolute_percentage_error: 37.4048 - val_loss: 650.8297 - val_mean_absolute_percentage_error: 29.9627\n",
      "Epoch 56/300\n",
      "31/31 [==============================] - 1s 18ms/step - loss: 497.3816 - mean_absolute_percentage_error: 35.9687 - val_loss: 634.7695 - val_mean_absolute_percentage_error: 29.5124\n",
      "Epoch 57/300\n",
      "31/31 [==============================] - 1s 18ms/step - loss: 499.8592 - mean_absolute_percentage_error: 36.5699 - val_loss: 618.0551 - val_mean_absolute_percentage_error: 29.0345\n",
      "Epoch 58/300\n",
      "31/31 [==============================] - 1s 18ms/step - loss: 500.7016 - mean_absolute_percentage_error: 35.9320 - val_loss: 603.6850 - val_mean_absolute_percentage_error: 28.6157\n",
      "Epoch 59/300\n",
      "31/31 [==============================] - 1s 17ms/step - loss: 499.1841 - mean_absolute_percentage_error: 36.9985 - val_loss: 590.6122 - val_mean_absolute_percentage_error: 28.2404\n",
      "Epoch 60/300\n",
      "31/31 [==============================] - 1s 18ms/step - loss: 486.7368 - mean_absolute_percentage_error: 35.8543 - val_loss: 574.2937 - val_mean_absolute_percentage_error: 27.7772\n",
      "Epoch 61/300\n",
      "31/31 [==============================] - 1s 18ms/step - loss: 482.3986 - mean_absolute_percentage_error: 35.8774 - val_loss: 563.6660 - val_mean_absolute_percentage_error: 27.4699\n",
      "Epoch 62/300\n",
      "31/31 [==============================] - 1s 17ms/step - loss: 481.1663 - mean_absolute_percentage_error: 36.0167 - val_loss: 550.4603 - val_mean_absolute_percentage_error: 27.0982\n",
      "Epoch 63/300\n",
      "31/31 [==============================] - 1s 18ms/step - loss: 466.6509 - mean_absolute_percentage_error: 36.6039 - val_loss: 539.1115 - val_mean_absolute_percentage_error: 26.7801\n",
      "Epoch 64/300\n",
      "31/31 [==============================] - 1s 18ms/step - loss: 466.5281 - mean_absolute_percentage_error: 36.4198 - val_loss: 527.1059 - val_mean_absolute_percentage_error: 26.4375\n",
      "Epoch 65/300\n",
      "31/31 [==============================] - 1s 18ms/step - loss: 473.0295 - mean_absolute_percentage_error: 37.1214 - val_loss: 516.3854 - val_mean_absolute_percentage_error: 26.1526\n",
      "Epoch 66/300\n",
      "31/31 [==============================] - 1s 18ms/step - loss: 453.6541 - mean_absolute_percentage_error: 36.5453 - val_loss: 505.5510 - val_mean_absolute_percentage_error: 25.8753\n",
      "Epoch 67/300\n",
      "31/31 [==============================] - 1s 18ms/step - loss: 467.7397 - mean_absolute_percentage_error: 37.2232 - val_loss: 495.6649 - val_mean_absolute_percentage_error: 25.6177\n",
      "Epoch 68/300\n",
      "31/31 [==============================] - 1s 18ms/step - loss: 447.9742 - mean_absolute_percentage_error: 36.8414 - val_loss: 485.2940 - val_mean_absolute_percentage_error: 25.3425\n",
      "Epoch 69/300\n",
      "31/31 [==============================] - 1s 18ms/step - loss: 447.9749 - mean_absolute_percentage_error: 36.2137 - val_loss: 476.2093 - val_mean_absolute_percentage_error: 25.0971\n",
      "Epoch 70/300\n",
      "31/31 [==============================] - 1s 18ms/step - loss: 449.0720 - mean_absolute_percentage_error: 38.3268 - val_loss: 467.7075 - val_mean_absolute_percentage_error: 24.8636\n",
      "Epoch 71/300\n",
      "31/31 [==============================] - 1s 18ms/step - loss: 427.7529 - mean_absolute_percentage_error: 36.5105 - val_loss: 460.2554 - val_mean_absolute_percentage_error: 24.6556\n",
      "Epoch 72/300\n",
      "31/31 [==============================] - 1s 20ms/step - loss: 444.6555 - mean_absolute_percentage_error: 37.6945 - val_loss: 452.1012 - val_mean_absolute_percentage_error: 24.4347\n",
      "Epoch 73/300\n",
      "31/31 [==============================] - 1s 21ms/step - loss: 436.4501 - mean_absolute_percentage_error: 38.1028 - val_loss: 444.2703 - val_mean_absolute_percentage_error: 24.2257\n",
      "Epoch 74/300\n",
      "31/31 [==============================] - 1s 18ms/step - loss: 424.2449 - mean_absolute_percentage_error: 37.5728 - val_loss: 439.0702 - val_mean_absolute_percentage_error: 24.0850\n",
      "Epoch 75/300\n",
      "31/31 [==============================] - 1s 20ms/step - loss: 430.4651 - mean_absolute_percentage_error: 37.2553 - val_loss: 433.6940 - val_mean_absolute_percentage_error: 23.9378\n",
      "Epoch 76/300\n",
      "31/31 [==============================] - 1s 19ms/step - loss: 418.1426 - mean_absolute_percentage_error: 36.1892 - val_loss: 445.4064 - val_mean_absolute_percentage_error: 24.2516\n",
      "Epoch 77/300\n",
      "31/31 [==============================] - 1s 19ms/step - loss: 403.2999 - mean_absolute_percentage_error: 34.2610 - val_loss: 418.2677 - val_mean_absolute_percentage_error: 23.5434\n",
      "Epoch 78/300\n",
      "31/31 [==============================] - 1s 18ms/step - loss: 401.2950 - mean_absolute_percentage_error: 33.6503 - val_loss: 409.5013 - val_mean_absolute_percentage_error: 23.3288\n",
      "Epoch 79/300\n",
      "31/31 [==============================] - 1s 18ms/step - loss: 357.3623 - mean_absolute_percentage_error: 31.3416 - val_loss: 404.7158 - val_mean_absolute_percentage_error: 23.0967\n",
      "Epoch 80/300\n",
      "31/31 [==============================] - 1s 18ms/step - loss: 350.9516 - mean_absolute_percentage_error: 29.5377 - val_loss: 389.7797 - val_mean_absolute_percentage_error: 22.8320\n",
      "Epoch 81/300\n",
      "31/31 [==============================] - 1s 18ms/step - loss: 354.2133 - mean_absolute_percentage_error: 29.8900 - val_loss: 379.7215 - val_mean_absolute_percentage_error: 22.5674\n",
      "Epoch 82/300\n",
      "31/31 [==============================] - 1s 18ms/step - loss: 341.6611 - mean_absolute_percentage_error: 28.8570 - val_loss: 370.2091 - val_mean_absolute_percentage_error: 22.3096\n",
      "Epoch 83/300\n",
      "31/31 [==============================] - 1s 18ms/step - loss: 338.3397 - mean_absolute_percentage_error: 29.2829 - val_loss: 361.8440 - val_mean_absolute_percentage_error: 22.0764\n",
      "Epoch 84/300\n",
      "31/31 [==============================] - 1s 19ms/step - loss: 346.3089 - mean_absolute_percentage_error: 29.8688 - val_loss: 353.7169 - val_mean_absolute_percentage_error: 21.8431\n",
      "Epoch 85/300\n"
     ]
    },
    {
     "name": "stdout",
     "output_type": "stream",
     "text": [
      "31/31 [==============================] - 1s 18ms/step - loss: 334.5177 - mean_absolute_percentage_error: 28.7182 - val_loss: 345.3424 - val_mean_absolute_percentage_error: 21.5956\n",
      "Epoch 86/300\n",
      "31/31 [==============================] - 1s 18ms/step - loss: 308.7409 - mean_absolute_percentage_error: 29.1938 - val_loss: 337.6218 - val_mean_absolute_percentage_error: 21.3530\n",
      "Epoch 87/300\n",
      "31/31 [==============================] - 1s 18ms/step - loss: 313.5582 - mean_absolute_percentage_error: 27.3896 - val_loss: 329.9021 - val_mean_absolute_percentage_error: 21.1176\n",
      "Epoch 88/300\n",
      "31/31 [==============================] - 1s 19ms/step - loss: 308.6284 - mean_absolute_percentage_error: 27.2650 - val_loss: 323.7449 - val_mean_absolute_percentage_error: 20.9251\n",
      "Epoch 89/300\n",
      "31/31 [==============================] - 1s 18ms/step - loss: 288.2228 - mean_absolute_percentage_error: 26.6234 - val_loss: 317.3487 - val_mean_absolute_percentage_error: 20.7303\n",
      "Epoch 90/300\n",
      "31/31 [==============================] - 1s 19ms/step - loss: 292.6220 - mean_absolute_percentage_error: 27.0625 - val_loss: 311.1622 - val_mean_absolute_percentage_error: 20.5368\n",
      "Epoch 91/300\n",
      "31/31 [==============================] - 1s 18ms/step - loss: 317.7960 - mean_absolute_percentage_error: 28.7150 - val_loss: 305.7254 - val_mean_absolute_percentage_error: 20.3625\n",
      "Epoch 92/300\n",
      "31/31 [==============================] - 1s 18ms/step - loss: 293.5847 - mean_absolute_percentage_error: 27.0996 - val_loss: 299.3422 - val_mean_absolute_percentage_error: 20.1467\n",
      "Epoch 93/300\n",
      "31/31 [==============================] - 1s 18ms/step - loss: 301.3277 - mean_absolute_percentage_error: 26.4550 - val_loss: 293.7776 - val_mean_absolute_percentage_error: 19.9540\n",
      "Epoch 94/300\n",
      "31/31 [==============================] - 1s 18ms/step - loss: 283.1072 - mean_absolute_percentage_error: 26.7301 - val_loss: 289.1383 - val_mean_absolute_percentage_error: 19.7883\n",
      "Epoch 95/300\n",
      "31/31 [==============================] - 1s 18ms/step - loss: 272.6647 - mean_absolute_percentage_error: 25.4964 - val_loss: 283.9646 - val_mean_absolute_percentage_error: 19.6108\n",
      "Epoch 96/300\n",
      "31/31 [==============================] - 1s 18ms/step - loss: 274.5648 - mean_absolute_percentage_error: 26.8032 - val_loss: 279.9489 - val_mean_absolute_percentage_error: 19.4712\n",
      "Epoch 97/300\n",
      "31/31 [==============================] - 1s 19ms/step - loss: 281.2386 - mean_absolute_percentage_error: 26.8630 - val_loss: 276.2259 - val_mean_absolute_percentage_error: 19.3385\n",
      "Epoch 98/300\n",
      "31/31 [==============================] - 1s 20ms/step - loss: 283.0779 - mean_absolute_percentage_error: 27.8066 - val_loss: 272.6889 - val_mean_absolute_percentage_error: 19.2089\n",
      "Epoch 99/300\n",
      "31/31 [==============================] - 1s 20ms/step - loss: 267.3251 - mean_absolute_percentage_error: 24.5833 - val_loss: 267.9383 - val_mean_absolute_percentage_error: 19.1110\n",
      "Epoch 100/300\n",
      "31/31 [==============================] - 1s 19ms/step - loss: 265.0712 - mean_absolute_percentage_error: 26.3917 - val_loss: 264.0768 - val_mean_absolute_percentage_error: 19.0480\n",
      "Epoch 101/300\n",
      "31/31 [==============================] - 1s 18ms/step - loss: 262.9308 - mean_absolute_percentage_error: 25.9117 - val_loss: 260.9303 - val_mean_absolute_percentage_error: 18.9985\n",
      "Epoch 102/300\n",
      "31/31 [==============================] - 1s 20ms/step - loss: 273.9437 - mean_absolute_percentage_error: 26.3364 - val_loss: 258.2925 - val_mean_absolute_percentage_error: 18.9519\n",
      "Epoch 103/300\n",
      "31/31 [==============================] - 1s 18ms/step - loss: 251.7913 - mean_absolute_percentage_error: 25.5994 - val_loss: 255.3718 - val_mean_absolute_percentage_error: 18.9119\n",
      "Epoch 104/300\n",
      "31/31 [==============================] - 1s 18ms/step - loss: 250.1118 - mean_absolute_percentage_error: 25.2228 - val_loss: 252.2620 - val_mean_absolute_percentage_error: 18.8670\n",
      "Epoch 105/300\n",
      "31/31 [==============================] - 1s 19ms/step - loss: 233.0639 - mean_absolute_percentage_error: 24.2593 - val_loss: 249.7334 - val_mean_absolute_percentage_error: 18.8298\n",
      "Epoch 106/300\n",
      "31/31 [==============================] - 1s 19ms/step - loss: 236.6582 - mean_absolute_percentage_error: 24.3682 - val_loss: 246.7314 - val_mean_absolute_percentage_error: 18.7904\n",
      "Epoch 107/300\n",
      "31/31 [==============================] - 1s 19ms/step - loss: 264.4730 - mean_absolute_percentage_error: 24.9861 - val_loss: 243.9713 - val_mean_absolute_percentage_error: 18.7427\n",
      "Epoch 108/300\n",
      "31/31 [==============================] - 1s 19ms/step - loss: 247.9700 - mean_absolute_percentage_error: 25.2609 - val_loss: 241.3521 - val_mean_absolute_percentage_error: 18.6872\n",
      "Epoch 109/300\n",
      "31/31 [==============================] - 1s 19ms/step - loss: 242.2834 - mean_absolute_percentage_error: 24.2399 - val_loss: 238.7296 - val_mean_absolute_percentage_error: 18.6590\n",
      "Epoch 110/300\n",
      "31/31 [==============================] - 1s 18ms/step - loss: 269.3700 - mean_absolute_percentage_error: 27.2819 - val_loss: 237.2485 - val_mean_absolute_percentage_error: 18.6334\n",
      "Epoch 111/300\n",
      "31/31 [==============================] - 1s 19ms/step - loss: 249.4357 - mean_absolute_percentage_error: 25.2604 - val_loss: 235.2582 - val_mean_absolute_percentage_error: 18.5864\n",
      "Epoch 112/300\n",
      "31/31 [==============================] - 1s 19ms/step - loss: 258.4891 - mean_absolute_percentage_error: 26.0163 - val_loss: 233.6197 - val_mean_absolute_percentage_error: 18.5587\n",
      "Epoch 113/300\n",
      "31/31 [==============================] - 1s 19ms/step - loss: 246.3721 - mean_absolute_percentage_error: 24.5974 - val_loss: 232.0655 - val_mean_absolute_percentage_error: 18.5302\n",
      "Epoch 114/300\n",
      "31/31 [==============================] - 1s 18ms/step - loss: 263.9820 - mean_absolute_percentage_error: 25.3849 - val_loss: 230.2399 - val_mean_absolute_percentage_error: 18.4907\n",
      "Epoch 115/300\n",
      "31/31 [==============================] - 1s 19ms/step - loss: 248.2040 - mean_absolute_percentage_error: 25.0840 - val_loss: 229.0351 - val_mean_absolute_percentage_error: 18.4288\n",
      "Epoch 116/300\n",
      "31/31 [==============================] - 1s 18ms/step - loss: 237.7100 - mean_absolute_percentage_error: 24.4914 - val_loss: 227.7951 - val_mean_absolute_percentage_error: 18.4156\n",
      "Epoch 117/300\n",
      "31/31 [==============================] - 1s 19ms/step - loss: 252.3229 - mean_absolute_percentage_error: 25.5233 - val_loss: 226.7351 - val_mean_absolute_percentage_error: 18.4271\n",
      "Epoch 118/300\n",
      "31/31 [==============================] - 1s 19ms/step - loss: 220.1926 - mean_absolute_percentage_error: 23.4789 - val_loss: 224.9078 - val_mean_absolute_percentage_error: 18.4200\n",
      "Epoch 119/300\n",
      "31/31 [==============================] - 1s 18ms/step - loss: 245.3312 - mean_absolute_percentage_error: 24.9968 - val_loss: 224.1763 - val_mean_absolute_percentage_error: 18.4835\n",
      "Epoch 120/300\n",
      "31/31 [==============================] - 1s 18ms/step - loss: 252.2184 - mean_absolute_percentage_error: 24.5626 - val_loss: 223.0556 - val_mean_absolute_percentage_error: 18.4970\n",
      "Epoch 121/300\n",
      "31/31 [==============================] - 1s 19ms/step - loss: 248.0512 - mean_absolute_percentage_error: 24.9859 - val_loss: 222.1782 - val_mean_absolute_percentage_error: 18.5229\n",
      "Epoch 122/300\n",
      "31/31 [==============================] - 1s 18ms/step - loss: 251.3326 - mean_absolute_percentage_error: 25.2761 - val_loss: 219.5807 - val_mean_absolute_percentage_error: 18.3698\n",
      "Epoch 123/300\n",
      "31/31 [==============================] - 1s 18ms/step - loss: 240.1982 - mean_absolute_percentage_error: 24.4220 - val_loss: 219.9167 - val_mean_absolute_percentage_error: 18.5305\n",
      "Epoch 124/300\n",
      "31/31 [==============================] - 1s 18ms/step - loss: 247.1186 - mean_absolute_percentage_error: 25.4796 - val_loss: 219.8149 - val_mean_absolute_percentage_error: 18.6251\n",
      "Epoch 125/300\n",
      "31/31 [==============================] - 1s 19ms/step - loss: 216.5102 - mean_absolute_percentage_error: 24.1275 - val_loss: 219.3135 - val_mean_absolute_percentage_error: 18.6332\n",
      "Epoch 126/300\n",
      "31/31 [==============================] - 1s 18ms/step - loss: 228.0842 - mean_absolute_percentage_error: 23.6299 - val_loss: 217.2766 - val_mean_absolute_percentage_error: 18.5122\n",
      "Epoch 127/300\n"
     ]
    },
    {
     "name": "stdout",
     "output_type": "stream",
     "text": [
      "31/31 [==============================] - 1s 18ms/step - loss: 238.7325 - mean_absolute_percentage_error: 24.8422 - val_loss: 217.4662 - val_mean_absolute_percentage_error: 18.6339\n",
      "Epoch 128/300\n",
      "31/31 [==============================] - 1s 18ms/step - loss: 221.4781 - mean_absolute_percentage_error: 23.9829 - val_loss: 216.9771 - val_mean_absolute_percentage_error: 18.6933\n",
      "Epoch 129/300\n",
      "31/31 [==============================] - 1s 18ms/step - loss: 230.5130 - mean_absolute_percentage_error: 24.7346 - val_loss: 215.7959 - val_mean_absolute_percentage_error: 18.6523\n",
      "Epoch 130/300\n",
      "31/31 [==============================] - 1s 18ms/step - loss: 233.9999 - mean_absolute_percentage_error: 24.3490 - val_loss: 216.3766 - val_mean_absolute_percentage_error: 18.7971\n",
      "Epoch 131/300\n",
      "31/31 [==============================] - 1s 17ms/step - loss: 221.2471 - mean_absolute_percentage_error: 23.1025 - val_loss: 213.6662 - val_mean_absolute_percentage_error: 18.5454\n",
      "Epoch 132/300\n",
      "31/31 [==============================] - 1s 18ms/step - loss: 209.6192 - mean_absolute_percentage_error: 22.6916 - val_loss: 215.1178 - val_mean_absolute_percentage_error: 18.8081\n",
      "Epoch 133/300\n",
      "31/31 [==============================] - 1s 19ms/step - loss: 263.9116 - mean_absolute_percentage_error: 26.7982 - val_loss: 213.4228 - val_mean_absolute_percentage_error: 18.6291\n",
      "Epoch 134/300\n",
      "31/31 [==============================] - 1s 19ms/step - loss: 201.6192 - mean_absolute_percentage_error: 22.4162 - val_loss: 213.4899 - val_mean_absolute_percentage_error: 18.7444\n",
      "Epoch 135/300\n",
      "31/31 [==============================] - 1s 19ms/step - loss: 216.8971 - mean_absolute_percentage_error: 22.8272 - val_loss: 211.9454 - val_mean_absolute_percentage_error: 18.6767\n",
      "Epoch 136/300\n",
      "31/31 [==============================] - 1s 19ms/step - loss: 223.6464 - mean_absolute_percentage_error: 23.9984 - val_loss: 213.2699 - val_mean_absolute_percentage_error: 18.8898\n",
      "Epoch 137/300\n",
      "31/31 [==============================] - 1s 18ms/step - loss: 227.7320 - mean_absolute_percentage_error: 23.4717 - val_loss: 212.2681 - val_mean_absolute_percentage_error: 18.8696\n",
      "Epoch 138/300\n",
      "31/31 [==============================] - 1s 18ms/step - loss: 218.6432 - mean_absolute_percentage_error: 23.6060 - val_loss: 211.7372 - val_mean_absolute_percentage_error: 18.9194\n",
      "Epoch 139/300\n",
      "31/31 [==============================] - 1s 19ms/step - loss: 215.3665 - mean_absolute_percentage_error: 23.4326 - val_loss: 212.2888 - val_mean_absolute_percentage_error: 19.0851\n",
      "Epoch 140/300\n",
      "31/31 [==============================] - 1s 18ms/step - loss: 232.5292 - mean_absolute_percentage_error: 25.0684 - val_loss: 211.2777 - val_mean_absolute_percentage_error: 19.0138\n",
      "Epoch 141/300\n",
      "31/31 [==============================] - 1s 18ms/step - loss: 237.3976 - mean_absolute_percentage_error: 24.2653 - val_loss: 204.1067 - val_mean_absolute_percentage_error: 18.3578\n",
      "Epoch 142/300\n",
      "31/31 [==============================] - 1s 18ms/step - loss: 219.5692 - mean_absolute_percentage_error: 23.1406 - val_loss: 209.4932 - val_mean_absolute_percentage_error: 19.0075\n",
      "Epoch 143/300\n",
      "31/31 [==============================] - 1s 18ms/step - loss: 224.1741 - mean_absolute_percentage_error: 24.8786 - val_loss: 207.0688 - val_mean_absolute_percentage_error: 18.7740\n",
      "Epoch 144/300\n",
      "31/31 [==============================] - 1s 18ms/step - loss: 215.0142 - mean_absolute_percentage_error: 22.5931 - val_loss: 205.4639 - val_mean_absolute_percentage_error: 18.5675\n",
      "Epoch 145/300\n",
      "31/31 [==============================] - 1s 19ms/step - loss: 232.2163 - mean_absolute_percentage_error: 23.3953 - val_loss: 201.7974 - val_mean_absolute_percentage_error: 18.1912\n",
      "Epoch 146/300\n",
      "31/31 [==============================] - 1s 18ms/step - loss: 233.3373 - mean_absolute_percentage_error: 24.3984 - val_loss: 204.4956 - val_mean_absolute_percentage_error: 18.6309\n",
      "Epoch 147/300\n",
      "31/31 [==============================] - 1s 18ms/step - loss: 218.9343 - mean_absolute_percentage_error: 23.7103 - val_loss: 203.1990 - val_mean_absolute_percentage_error: 18.5475\n",
      "Epoch 148/300\n",
      "31/31 [==============================] - 1s 18ms/step - loss: 204.2089 - mean_absolute_percentage_error: 22.4579 - val_loss: 205.0941 - val_mean_absolute_percentage_error: 18.8800\n",
      "Epoch 149/300\n",
      "31/31 [==============================] - 1s 18ms/step - loss: 212.1158 - mean_absolute_percentage_error: 24.2863 - val_loss: 204.7144 - val_mean_absolute_percentage_error: 18.8978\n",
      "Epoch 150/300\n",
      "31/31 [==============================] - 1s 19ms/step - loss: 202.2847 - mean_absolute_percentage_error: 22.8535 - val_loss: 204.8805 - val_mean_absolute_percentage_error: 18.9939\n"
     ]
    },
    {
     "data": {
      "text/plain": [
       "<keras.callbacks.History at 0x7fa4217bbcd0>"
      ]
     },
     "execution_count": 29,
     "metadata": {},
     "output_type": "execute_result"
    }
   ],
   "source": [
    "es = callbacks.EarlyStopping(patience=5, restore_best_weights=True)\n",
    "\n",
    "opt_model.fit(X_train, \n",
    "                y_train,\n",
    "              batch_size=8, \n",
    "              epochs=300,\n",
    "              validation_split=0.2,\n",
    "              callbacks=[es], verbose = 1)"
   ]
  },
  {
   "cell_type": "code",
   "execution_count": 30,
   "id": "5ea33dc9",
   "metadata": {},
   "outputs": [
    {
     "name": "stdout",
     "output_type": "stream",
     "text": [
      "2/2 [==============================] - 0s 9ms/step - loss: 100.3756 - mean_absolute_percentage_error: 17.6241\n"
     ]
    },
    {
     "data": {
      "text/plain": [
       "[100.3756103515625, 17.624107360839844]"
      ]
     },
     "execution_count": 30,
     "metadata": {},
     "output_type": "execute_result"
    }
   ],
   "source": [
    "opt_model.evaluate(X_test, y_test)"
   ]
  },
  {
   "cell_type": "code",
   "execution_count": 308,
   "id": "e6298366",
   "metadata": {},
   "outputs": [
    {
     "data": {
      "text/plain": [
       "44.2905055781025"
      ]
     },
     "execution_count": 308,
     "metadata": {},
     "output_type": "execute_result"
    }
   ],
   "source": [
    "mean_squared_error(opt_model.predict(X_test), y_test, squared=False)"
   ]
  },
  {
   "cell_type": "code",
   "execution_count": 31,
   "id": "b08125f5",
   "metadata": {},
   "outputs": [
    {
     "data": {
      "image/png": "[encoded data removed]",
      "text/plain": [
       "<Figure size 1080x432 with 1 Axes>"
      ]
     },
     "metadata": {
      "needs_background": "light"
     },
     "output_type": "display_data"
    }
   ],
   "source": [
    "plt.figure(figsize = (15,6))\n",
    "plt.plot(opt_model.predict(X_test), label = \"prediction finetuned model\")\n",
    "#plt.plot(base_model.predict(X_test), label = \"one dense layer model prediction\")\n",
    "plt.plot(y_test, label = \"true\")\n",
    "plt.legend();"
   ]
  },
  {
   "cell_type": "markdown",
   "id": "68fc117a",
   "metadata": {},
   "source": [
    "# Differenced Dataset"
   ]
  },
  {
   "cell_type": "code",
   "execution_count": 273,
   "id": "95394dd4",
   "metadata": {},
   "outputs": [],
   "source": [
    "y_diff = df_theft_model[\"total\"].diff(1).dropna()"
   ]
  },
  {
   "cell_type": "code",
   "execution_count": 277,
   "id": "0c8bee0d",
   "metadata": {},
   "outputs": [
    {
     "data": {
      "image/png": "[encoded data removed]",
      "text/plain": [
       "<Figure size 1080x432 with 1 Axes>"
      ]
     },
     "metadata": {
      "needs_background": "light"
     },
     "output_type": "display_data"
    }
   ],
   "source": [
    "plt.figure(figsize=(15,6))\n",
    "plt.plot(y_diff);"
   ]
  },
  {
   "cell_type": "markdown",
   "id": "6afe6b1f",
   "metadata": {},
   "source": [
    "## Create training and test arrays out of the differenced dataset"
   ]
  },
  {
   "cell_type": "code",
   "execution_count": 282,
   "id": "fe0a2823",
   "metadata": {},
   "outputs": [
    {
     "data": {
      "text/plain": [
       "338"
      ]
     },
     "execution_count": 282,
     "metadata": {},
     "output_type": "execute_result"
    }
   ],
   "source": [
    "int(len(y_diff) * 0.8)"
   ]
  },
  {
   "cell_type": "code",
   "execution_count": 283,
   "id": "0ebdca1c",
   "metadata": {},
   "outputs": [],
   "source": [
    "y_diff_train = y_diff[:338]\n",
    "y_diff_test = y_diff[338:]"
   ]
  },
  {
   "cell_type": "code",
   "execution_count": null,
   "id": "5364e2b5",
   "metadata": {},
   "outputs": [],
   "source": [
    "def get_X_y(window_size, future_horizon, dataset):\n",
    "\n",
    "  X = []\n",
    "  y = []\n",
    "\n",
    "  for i in range(0, dataset.shape[0] - window_size - future_horizon):\n",
    "    X.append(dataset[i: i + window_size])\n",
    "    y.append(dataset[i + window_size: i + window_size + future_horizon])\n",
    "\n",
    "  return np.array(X), np.array(y)"
   ]
  },
  {
   "cell_type": "code",
   "execution_count": 284,
   "id": "733302b8",
   "metadata": {},
   "outputs": [],
   "source": [
    "window_size = 31\n",
    "future_horizon = 1\n",
    "\n",
    "X_diff_train, y_diff_train = get_X_y(window_size,future_horizon, y_diff_train)\n",
    "X_diff_test, y_diff_test = get_X_y(window_size, future_horizon, y_diff_test)"
   ]
  },
  {
   "cell_type": "code",
   "execution_count": 292,
   "id": "4c5a7826",
   "metadata": {},
   "outputs": [],
   "source": [
    "X_diff_train = np.expand_dims(X_diff_train, 2)\n",
    "X_diff_test = np.expand_dims(X_diff_test, 2)"
   ]
  },
  {
   "cell_type": "code",
   "execution_count": 293,
   "id": "2c63049a",
   "metadata": {},
   "outputs": [
    {
     "data": {
      "text/plain": [
       "((306, 31, 1), (306, 1), (53, 31, 1), (53, 1))"
      ]
     },
     "execution_count": 293,
     "metadata": {},
     "output_type": "execute_result"
    }
   ],
   "source": [
    "X_diff_train.shape, y_diff_train.shape, X_diff_test.shape, y_diff_test.shape"
   ]
  },
  {
   "cell_type": "markdown",
   "id": "17a2dfe6",
   "metadata": {},
   "source": [
    "## Rerun optimal model on differenced dataset"
   ]
  },
  {
   "cell_type": "code",
   "execution_count": 297,
   "id": "03bd17bd",
   "metadata": {},
   "outputs": [],
   "source": [
    "diff_model = Sequential()\n",
    "# first LSTM layer\n",
    "diff_model.add(LSTM(units = 70, activation = \"tanh\", return_sequences = True))\n",
    "diff_model.add(Dropout(0.2))\n",
    "# second LSTM layer\n",
    "diff_model.add(LSTM(units= 30, activation= \"tanh\", return_sequences= False))\n",
    "diff_model.add(Dropout(0.2))\n",
    "\n",
    "# output layer to predict one value\n",
    "diff_model.add(Dense(1, activation= \"linear\"))\n",
    "\n",
    "diff_model.compile(optimizer= \"adam\", loss= \"mse\", metrics = \"mean_absolute_percentage_error\")"
   ]
  },
  {
   "cell_type": "code",
   "execution_count": 298,
   "id": "39be89c4",
   "metadata": {
    "collapsed": true
   },
   "outputs": [
    {
     "name": "stdout",
     "output_type": "stream",
     "text": [
      "Epoch 1/300\n",
      "31/31 [==============================] - 3s 36ms/step - loss: 172.9837 - mean_absolute_percentage_error: 5322897.5000 - val_loss: 185.1304 - val_mean_absolute_percentage_error: 8620484.0000\n",
      "Epoch 2/300\n",
      "31/31 [==============================] - 1s 19ms/step - loss: 167.7369 - mean_absolute_percentage_error: 7363249.5000 - val_loss: 178.7610 - val_mean_absolute_percentage_error: 51120060.0000\n",
      "Epoch 3/300\n",
      "31/31 [==============================] - 1s 18ms/step - loss: 157.9093 - mean_absolute_percentage_error: 17087048.0000 - val_loss: 168.8835 - val_mean_absolute_percentage_error: 80864952.0000\n",
      "Epoch 4/300\n",
      "31/31 [==============================] - 1s 18ms/step - loss: 150.0959 - mean_absolute_percentage_error: 34867732.0000 - val_loss: 163.3153 - val_mean_absolute_percentage_error: 121639832.0000\n",
      "Epoch 5/300\n",
      "31/31 [==============================] - 1s 20ms/step - loss: 145.6993 - mean_absolute_percentage_error: 46754996.0000 - val_loss: 160.2125 - val_mean_absolute_percentage_error: 143875744.0000\n",
      "Epoch 6/300\n",
      "31/31 [==============================] - 1s 19ms/step - loss: 139.2013 - mean_absolute_percentage_error: 59038268.0000 - val_loss: 157.0704 - val_mean_absolute_percentage_error: 145567984.0000\n",
      "Epoch 7/300\n",
      "31/31 [==============================] - 1s 18ms/step - loss: 136.2199 - mean_absolute_percentage_error: 48070236.0000 - val_loss: 155.5203 - val_mean_absolute_percentage_error: 191212496.0000\n",
      "Epoch 8/300\n",
      "31/31 [==============================] - 1s 19ms/step - loss: 136.1734 - mean_absolute_percentage_error: 58546404.0000 - val_loss: 157.9136 - val_mean_absolute_percentage_error: 246258112.0000\n",
      "Epoch 9/300\n",
      "31/31 [==============================] - 1s 18ms/step - loss: 134.6544 - mean_absolute_percentage_error: 66054364.0000 - val_loss: 153.7344 - val_mean_absolute_percentage_error: 221942432.0000\n",
      "Epoch 10/300\n",
      "31/31 [==============================] - 1s 19ms/step - loss: 130.9294 - mean_absolute_percentage_error: 70095880.0000 - val_loss: 153.4090 - val_mean_absolute_percentage_error: 241223168.0000\n",
      "Epoch 11/300\n",
      "31/31 [==============================] - 1s 18ms/step - loss: 128.0903 - mean_absolute_percentage_error: 79022256.0000 - val_loss: 153.5250 - val_mean_absolute_percentage_error: 248440784.0000\n",
      "Epoch 12/300\n",
      "31/31 [==============================] - 1s 19ms/step - loss: 127.4455 - mean_absolute_percentage_error: 68871560.0000 - val_loss: 153.9958 - val_mean_absolute_percentage_error: 275727808.0000\n",
      "Epoch 13/300\n",
      "31/31 [==============================] - 1s 18ms/step - loss: 127.7294 - mean_absolute_percentage_error: 101870080.0000 - val_loss: 154.3247 - val_mean_absolute_percentage_error: 279217056.0000\n",
      "Epoch 14/300\n",
      "31/31 [==============================] - 1s 18ms/step - loss: 129.2395 - mean_absolute_percentage_error: 96576200.0000 - val_loss: 156.0979 - val_mean_absolute_percentage_error: 301537312.0000\n",
      "Epoch 15/300\n",
      "31/31 [==============================] - 1s 18ms/step - loss: 125.1134 - mean_absolute_percentage_error: 92480376.0000 - val_loss: 154.3883 - val_mean_absolute_percentage_error: 279690144.0000\n"
     ]
    },
    {
     "data": {
      "text/plain": [
       "<keras.callbacks.History at 0x7fe67214c610>"
      ]
     },
     "execution_count": 298,
     "metadata": {},
     "output_type": "execute_result"
    }
   ],
   "source": [
    "es = callbacks.EarlyStopping(patience=5, restore_best_weights=True)\n",
    "\n",
    "diff_model.fit(X_diff_train, \n",
    "                y_diff_train,\n",
    "              batch_size=8, \n",
    "              epochs=300,\n",
    "              validation_split=0.2,\n",
    "              callbacks=[es], verbose = 1)"
   ]
  },
  {
   "cell_type": "code",
   "execution_count": 300,
   "id": "f53ef434",
   "metadata": {},
   "outputs": [
    {
     "data": {
      "image/png": "[encoded data removed]",
      "text/plain": [
       "<Figure size 1080x432 with 1 Axes>"
      ]
     },
     "metadata": {
      "needs_background": "light"
     },
     "output_type": "display_data"
    }
   ],
   "source": [
    "plt.figure(figsize = (15,6))\n",
    "plt.plot(diff_model.predict(X_diff_test), label = \"prediction finetuned model\")\n",
    "plt.plot(y_diff_test, label = \"true\")\n",
    "plt.legend();\n",
    "\n"
   ]
  },
  {
   "cell_type": "code",
   "execution_count": 296,
   "id": "b7ae69f5",
   "metadata": {
    "scrolled": true
   },
   "outputs": [
    {
     "name": "stdout",
     "output_type": "stream",
     "text": [
      "2/2 [==============================] - 0s 8ms/step - loss: 141.2215 - mean_absolute_percentage_error: 80556208.0000\n"
     ]
    },
    {
     "data": {
      "text/plain": [
       "[141.22149658203125, 80556208.0]"
      ]
     },
     "execution_count": 296,
     "metadata": {},
     "output_type": "execute_result"
    }
   ],
   "source": [
    "diff_model.evaluate(X_diff_test, y_diff_test)"
   ]
  },
  {
   "cell_type": "code",
   "execution_count": 307,
   "id": "3a3f1362",
   "metadata": {},
   "outputs": [
    {
     "data": {
      "text/plain": [
       "11.732560160628768"
      ]
     },
     "execution_count": 307,
     "metadata": {},
     "output_type": "execute_result"
    }
   ],
   "source": [
    "mean_squared_error(y_diff_test, diff_model.predict(X_diff_test), squared=False)"
   ]
  },
  {
   "cell_type": "markdown",
   "id": "a1fbe0be",
   "metadata": {},
   "source": [
    "# Normalized dataset"
   ]
  },
  {
   "cell_type": "code",
   "execution_count": null,
   "id": "c23c1dbc",
   "metadata": {},
   "outputs": [],
   "source": []
  }
 ],
 "metadata": {
  "kernelspec": {
   "display_name": "Python 3 (ipykernel)",
   "language": "python",
   "name": "python3"
  },
  "language_info": {
   "codemirror_mode": {
    "name": "ipython",
    "version": 3
   },
   "file_extension": ".py",
   "mimetype": "text/x-python",
   "name": "python",
   "nbconvert_exporter": "python",
   "pygments_lexer": "ipython3",
   "version": "3.8.12"
  },
  "toc": {
   "base_numbering": 1,
   "nav_menu": {},
   "number_sections": true,
   "sideBar": true,
   "skip_h1_title": false,
   "title_cell": "Table of Contents",
   "title_sidebar": "Contents",
   "toc_cell": false,
   "toc_position": {
    "height": "calc(100% - 180px)",
    "left": "10px",
    "top": "150px",
    "width": "303.825px"
   },
   "toc_section_display": true,
   "toc_window_display": true
  }
 },
 "nbformat": 4,
 "nbformat_minor": 5
}
