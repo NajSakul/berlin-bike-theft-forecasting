{
 "cells": [
  {
   "cell_type": "markdown",
   "id": "374bba91",
   "metadata": {},
   "source": [
    "# Clustering of bike accident locations"
   ]
  },
  {
   "cell_type": "code",
   "execution_count": 52,
   "id": "504095a1",
   "metadata": {},
   "outputs": [
    {
     "ename": "ModuleNotFoundError",
     "evalue": "No module named 'minisom'",
     "output_type": "error",
     "traceback": [
      "\u001b[0;31m---------------------------------------------------------------------------\u001b[0m",
      "\u001b[0;31mModuleNotFoundError\u001b[0m                       Traceback (most recent call last)",
      "Input \u001b[0;32mIn [52]\u001b[0m, in \u001b[0;36m<cell line: 18>\u001b[0;34m()\u001b[0m\n\u001b[1;32m     16\u001b[0m \u001b[38;5;28;01mfrom\u001b[39;00m \u001b[38;5;21;01msklearn\u001b[39;00m\u001b[38;5;21;01m.\u001b[39;00m\u001b[38;5;21;01mcluster\u001b[39;00m \u001b[38;5;28;01mimport\u001b[39;00m KMeans, AffinityPropagation, DBSCAN\n\u001b[1;32m     17\u001b[0m \u001b[38;5;28;01mimport\u001b[39;00m \u001b[38;5;21;01mscipy\u001b[39;00m\n\u001b[0;32m---> 18\u001b[0m \u001b[38;5;28;01mimport\u001b[39;00m \u001b[38;5;21;01mminisom\u001b[39;00m\n",
      "\u001b[0;31mModuleNotFoundError\u001b[0m: No module named 'minisom'"
     ]
    }
   ],
   "source": [
    "import pandas as pd\n",
    "import numpy as np\n",
    "import requests\n",
    "import folium\n",
    "import config\n",
    "from math import radians, cos, sin, asin, sqrt\n",
    "\n",
    "# DATA VISUALISATION\n",
    "import matplotlib.pyplot as plt\n",
    "import seaborn as sns\n",
    "\n",
    "# scaling\n",
    "from sklearn.preprocessing import StandardScaler, RobustScaler, MinMaxScaler\n",
    "\n",
    "# models\n",
    "from sklearn.cluster import KMeans, AffinityPropagation, DBSCAN, \n",
    "import scipy\n",
    "import minisom"
   ]
  },
  {
   "cell_type": "code",
   "execution_count": 2,
   "id": "3bc4309f",
   "metadata": {},
   "outputs": [],
   "source": [
    "#load preprocessed data frame with 2018-2020 data\n",
    "df = pd.read_csv('../raw_data/df_LOR_2021.csv', index_col=False)"
   ]
  },
  {
   "cell_type": "code",
   "execution_count": 3,
   "id": "fe1f4aeb",
   "metadata": {},
   "outputs": [
    {
     "data": {
      "text/html": [
       "<div>\n",
       "<style scoped>\n",
       "    .dataframe tbody tr th:only-of-type {\n",
       "        vertical-align: middle;\n",
       "    }\n",
       "\n",
       "    .dataframe tbody tr th {\n",
       "        vertical-align: top;\n",
       "    }\n",
       "\n",
       "    .dataframe thead th {\n",
       "        text-align: right;\n",
       "    }\n",
       "</style>\n",
       "<table border=\"1\" class=\"dataframe\">\n",
       "  <thead>\n",
       "    <tr style=\"text-align: right;\">\n",
       "      <th></th>\n",
       "      <th>district</th>\n",
       "      <th>LOR</th>\n",
       "      <th>street</th>\n",
       "      <th>LOR_2021</th>\n",
       "      <th>year</th>\n",
       "      <th>month</th>\n",
       "      <th>hour</th>\n",
       "      <th>weekday</th>\n",
       "      <th>category</th>\n",
       "      <th>accident_kind</th>\n",
       "      <th>...</th>\n",
       "      <th>car</th>\n",
       "      <th>pedestrian</th>\n",
       "      <th>motorcycle</th>\n",
       "      <th>goods_vehicle</th>\n",
       "      <th>others</th>\n",
       "      <th>road_condition</th>\n",
       "      <th>LINREFX</th>\n",
       "      <th>LINREFY</th>\n",
       "      <th>XGCSWGS84</th>\n",
       "      <th>YGCSWGS84</th>\n",
       "    </tr>\n",
       "  </thead>\n",
       "  <tbody>\n",
       "    <tr>\n",
       "      <th>0</th>\n",
       "      <td>3</td>\n",
       "      <td>3020209.0</td>\n",
       "      <td>Niederschönhausen</td>\n",
       "      <td>3200206.0</td>\n",
       "      <td>2018</td>\n",
       "      <td>1</td>\n",
       "      <td>15</td>\n",
       "      <td>4</td>\n",
       "      <td>3</td>\n",
       "      <td>6</td>\n",
       "      <td>...</td>\n",
       "      <td>0</td>\n",
       "      <td>1</td>\n",
       "      <td>0</td>\n",
       "      <td>0</td>\n",
       "      <td>0</td>\n",
       "      <td>1</td>\n",
       "      <td>798261.3849</td>\n",
       "      <td>5835047.260</td>\n",
       "      <td>13.403228</td>\n",
       "      <td>52.583472</td>\n",
       "    </tr>\n",
       "    <tr>\n",
       "      <th>1</th>\n",
       "      <td>3</td>\n",
       "      <td>3071639.0</td>\n",
       "      <td>Bötzowstraße</td>\n",
       "      <td>3701660.0</td>\n",
       "      <td>2018</td>\n",
       "      <td>1</td>\n",
       "      <td>11</td>\n",
       "      <td>5</td>\n",
       "      <td>3</td>\n",
       "      <td>5</td>\n",
       "      <td>...</td>\n",
       "      <td>1</td>\n",
       "      <td>0</td>\n",
       "      <td>0</td>\n",
       "      <td>0</td>\n",
       "      <td>0</td>\n",
       "      <td>1</td>\n",
       "      <td>800551.7210</td>\n",
       "      <td>5829808.492</td>\n",
       "      <td>13.432186</td>\n",
       "      <td>52.535255</td>\n",
       "    </tr>\n",
       "    <tr>\n",
       "      <th>2</th>\n",
       "      <td>2</td>\n",
       "      <td>2050602.0</td>\n",
       "      <td>Samariterviertel</td>\n",
       "      <td>2500729.0</td>\n",
       "      <td>2018</td>\n",
       "      <td>1</td>\n",
       "      <td>8</td>\n",
       "      <td>2</td>\n",
       "      <td>3</td>\n",
       "      <td>5</td>\n",
       "      <td>...</td>\n",
       "      <td>1</td>\n",
       "      <td>0</td>\n",
       "      <td>0</td>\n",
       "      <td>0</td>\n",
       "      <td>0</td>\n",
       "      <td>0</td>\n",
       "      <td>803320.7292</td>\n",
       "      <td>5827627.446</td>\n",
       "      <td>13.470897</td>\n",
       "      <td>52.514173</td>\n",
       "    </tr>\n",
       "    <tr>\n",
       "      <th>3</th>\n",
       "      <td>1</td>\n",
       "      <td>1011204.0</td>\n",
       "      <td>Leipziger Straße                              ...</td>\n",
       "      <td>1100207.0</td>\n",
       "      <td>2018</td>\n",
       "      <td>1</td>\n",
       "      <td>19</td>\n",
       "      <td>4</td>\n",
       "      <td>3</td>\n",
       "      <td>5</td>\n",
       "      <td>...</td>\n",
       "      <td>1</td>\n",
       "      <td>0</td>\n",
       "      <td>0</td>\n",
       "      <td>0</td>\n",
       "      <td>0</td>\n",
       "      <td>1</td>\n",
       "      <td>798174.6913</td>\n",
       "      <td>5826939.978</td>\n",
       "      <td>13.394673</td>\n",
       "      <td>52.510848</td>\n",
       "    </tr>\n",
       "    <tr>\n",
       "      <th>4</th>\n",
       "      <td>9</td>\n",
       "      <td>9020601.0</td>\n",
       "      <td>Schnellerstraße                               ...</td>\n",
       "      <td>9200613.0</td>\n",
       "      <td>2018</td>\n",
       "      <td>1</td>\n",
       "      <td>18</td>\n",
       "      <td>4</td>\n",
       "      <td>2</td>\n",
       "      <td>5</td>\n",
       "      <td>...</td>\n",
       "      <td>1</td>\n",
       "      <td>0</td>\n",
       "      <td>0</td>\n",
       "      <td>0</td>\n",
       "      <td>0</td>\n",
       "      <td>1</td>\n",
       "      <td>806109.6297</td>\n",
       "      <td>5821644.404</td>\n",
       "      <td>13.506372</td>\n",
       "      <td>52.458993</td>\n",
       "    </tr>\n",
       "  </tbody>\n",
       "</table>\n",
       "<p>5 rows × 22 columns</p>\n",
       "</div>"
      ],
      "text/plain": [
       "   district        LOR                                             street  \\\n",
       "0         3  3020209.0                                  Niederschönhausen   \n",
       "1         3  3071639.0                                       Bötzowstraße   \n",
       "2         2  2050602.0                                   Samariterviertel   \n",
       "3         1  1011204.0  Leipziger Straße                              ...   \n",
       "4         9  9020601.0  Schnellerstraße                               ...   \n",
       "\n",
       "    LOR_2021  year  month  hour  weekday  category  accident_kind  ...  car  \\\n",
       "0  3200206.0  2018      1    15        4         3              6  ...    0   \n",
       "1  3701660.0  2018      1    11        5         3              5  ...    1   \n",
       "2  2500729.0  2018      1     8        2         3              5  ...    1   \n",
       "3  1100207.0  2018      1    19        4         3              5  ...    1   \n",
       "4  9200613.0  2018      1    18        4         2              5  ...    1   \n",
       "\n",
       "   pedestrian  motorcycle  goods_vehicle  others  road_condition      LINREFX  \\\n",
       "0           1           0              0       0               1  798261.3849   \n",
       "1           0           0              0       0               1  800551.7210   \n",
       "2           0           0              0       0               0  803320.7292   \n",
       "3           0           0              0       0               1  798174.6913   \n",
       "4           0           0              0       0               1  806109.6297   \n",
       "\n",
       "       LINREFY  XGCSWGS84  YGCSWGS84  \n",
       "0  5835047.260  13.403228  52.583472  \n",
       "1  5829808.492  13.432186  52.535255  \n",
       "2  5827627.446  13.470897  52.514173  \n",
       "3  5826939.978  13.394673  52.510848  \n",
       "4  5821644.404  13.506372  52.458993  \n",
       "\n",
       "[5 rows x 22 columns]"
      ]
     },
     "execution_count": 3,
     "metadata": {},
     "output_type": "execute_result"
    }
   ],
   "source": [
    "df.head()"
   ]
  },
  {
   "cell_type": "code",
   "execution_count": 4,
   "id": "6137c788",
   "metadata": {},
   "outputs": [
    {
     "data": {
      "text/plain": [
       "<matplotlib.collections.PathCollection at 0x7f8576bf9f70>"
      ]
     },
     "execution_count": 4,
     "metadata": {},
     "output_type": "execute_result"
    },
    {
     "data": {
      "image/png": "[encoded data removed]",
      "text/plain": [
       "<Figure size 432x288 with 1 Axes>"
      ]
     },
     "metadata": {
      "needs_background": "light"
     },
     "output_type": "display_data"
    }
   ],
   "source": [
    "plt.scatter(x=df['XGCSWGS84'], y= df['YGCSWGS84'])"
   ]
  },
  {
   "cell_type": "code",
   "execution_count": 5,
   "id": "4c40e749",
   "metadata": {},
   "outputs": [
    {
     "data": {
      "text/plain": [
       "<AxesSubplot:xlabel='LINREFX', ylabel='Count'>"
      ]
     },
     "execution_count": 5,
     "metadata": {},
     "output_type": "execute_result"
    },
    {
     "data": {
      "image/png": "[encoded data removed]",
      "text/plain": [
       "<Figure size 432x288 with 1 Axes>"
      ]
     },
     "metadata": {
      "needs_background": "light"
     },
     "output_type": "display_data"
    }
   ],
   "source": [
    "sns.histplot(x = df['LINREFX'])"
   ]
  },
  {
   "cell_type": "code",
   "execution_count": 6,
   "id": "4f927a1c",
   "metadata": {},
   "outputs": [
    {
     "data": {
      "text/plain": [
       "<AxesSubplot:xlabel='LINREFY', ylabel='Count'>"
      ]
     },
     "execution_count": 6,
     "metadata": {},
     "output_type": "execute_result"
    },
    {
     "data": {
      "image/png": "[encoded data removed]",
      "text/plain": [
       "<Figure size 432x288 with 1 Axes>"
      ]
     },
     "metadata": {
      "needs_background": "light"
     },
     "output_type": "display_data"
    }
   ],
   "source": [
    "sns.histplot(x = df['LINREFY'])"
   ]
  },
  {
   "cell_type": "code",
   "execution_count": 8,
   "id": "3b05a830",
   "metadata": {},
   "outputs": [],
   "source": [
    "#need to scale! instantiating scaler\n",
    "scaler = StandardScaler()"
   ]
  },
  {
   "cell_type": "code",
   "execution_count": 10,
   "id": "777e9516",
   "metadata": {},
   "outputs": [
    {
     "data": {
      "text/plain": [
       "StandardScaler()"
      ]
     },
     "execution_count": 10,
     "metadata": {},
     "output_type": "execute_result"
    }
   ],
   "source": [
    "scaler.fit(df[['XGCSWGS84']])"
   ]
  },
  {
   "cell_type": "code",
   "execution_count": 11,
   "id": "92f87948",
   "metadata": {},
   "outputs": [],
   "source": [
    "df['XGCSWGS84'] = scaler.transform(df[['XGCSWGS84']])"
   ]
  },
  {
   "cell_type": "code",
   "execution_count": 12,
   "id": "e96699b0",
   "metadata": {},
   "outputs": [],
   "source": [
    "scaler2 = StandardScaler()"
   ]
  },
  {
   "cell_type": "code",
   "execution_count": 13,
   "id": "02d70bba",
   "metadata": {},
   "outputs": [
    {
     "data": {
      "text/plain": [
       "StandardScaler()"
      ]
     },
     "execution_count": 13,
     "metadata": {},
     "output_type": "execute_result"
    }
   ],
   "source": [
    "scaler2.fit(df[['YGCSWGS84']])"
   ]
  },
  {
   "cell_type": "code",
   "execution_count": 14,
   "id": "feff99de",
   "metadata": {},
   "outputs": [],
   "source": [
    "df['YGCSWGS84'] = scaler2.transform(df[['YGCSWGS84']])"
   ]
  },
  {
   "cell_type": "code",
   "execution_count": 15,
   "id": "cfb99b75",
   "metadata": {},
   "outputs": [
    {
     "data": {
      "text/plain": [
       "<matplotlib.collections.PathCollection at 0x7f8576aff1f0>"
      ]
     },
     "execution_count": 15,
     "metadata": {},
     "output_type": "execute_result"
    },
    {
     "data": {
      "image/png": "[encoded data removed]",
      "text/plain": [
       "<Figure size 432x288 with 1 Axes>"
      ]
     },
     "metadata": {
      "needs_background": "light"
     },
     "output_type": "display_data"
    }
   ],
   "source": [
    "plt.scatter(x=df['XGCSWGS84'], y= df['YGCSWGS84'])"
   ]
  },
  {
   "cell_type": "markdown",
   "id": "837db92c",
   "metadata": {},
   "source": [
    "## K-Means"
   ]
  },
  {
   "cell_type": "code",
   "execution_count": 19,
   "id": "6e24e29e",
   "metadata": {},
   "outputs": [
    {
     "data": {
      "image/png": "[encoded data removed]",
      "text/plain": [
       "<Figure size 432x288 with 1 Axes>"
      ]
     },
     "metadata": {
      "needs_background": "light"
     },
     "output_type": "display_data"
    },
    {
     "name": "stdout",
     "output_type": "stream",
     "text": [
      "CPU times: user 38min 23s, sys: 11min 50s, total: 50min 13s\n",
      "Wall time: 3min 26s\n"
     ]
    }
   ],
   "source": [
    "%%time\n",
    "# elbow method for number of clusters\n",
    "\n",
    "X = df[[\"LINREFX\",\"LINREFY\"]]\n",
    "max_k = 100\n",
    "\n",
    "## iterations\n",
    "distortions = [] \n",
    "for i in range(1, max_k+1):\n",
    "    if len(X) >= i:\n",
    "        model= KMeans(n_clusters=i, init='k-means++', max_iter=300, n_init=10, random_state=0)\n",
    "        model.fit(X)\n",
    "        distortions.append(model.inertia_)\n",
    "\n",
    "## best k: the lowest derivative\n",
    "k = [i*100 for i in np.diff(distortions,2)].index(min([i*100 for i in np.diff(distortions,2)]))\n",
    "\n",
    "## plot\n",
    "fig, ax = plt.subplots()\n",
    "ax.plot(range(1, len(distortions)+1), distortions)\n",
    "ax.axvline(k, ls='--', color=\"red\", label=\"k = \"+str(k))\n",
    "ax.set(title='Elbow Method', xlabel='Number of clusters', \n",
    "       ylabel=\"Distortion\")\n",
    "ax.legend()\n",
    "ax.grid(True)\n",
    "plt.show()"
   ]
  },
  {
   "cell_type": "code",
   "execution_count": 34,
   "id": "595d7e36",
   "metadata": {},
   "outputs": [
    {
     "name": "stderr",
     "output_type": "stream",
     "text": [
      "<timed exec>:14: SettingWithCopyWarning: \n",
      "A value is trying to be set on a copy of a slice from a DataFrame\n",
      "\n",
      "See the caveats in the documentation: https://pandas.pydata.org/pandas-docs/stable/user_guide/indexing.html#returning-a-view-versus-a-copy\n"
     ]
    },
    {
     "name": "stdout",
     "output_type": "stream",
     "text": [
      "CPU times: user 3min 11s, sys: 6min 5s, total: 9min 16s\n",
      "Wall time: 51.9 s\n"
     ]
    },
    {
     "data": {
      "text/html": [
       "<div>\n",
       "<style scoped>\n",
       "    .dataframe tbody tr th:only-of-type {\n",
       "        vertical-align: middle;\n",
       "    }\n",
       "\n",
       "    .dataframe tbody tr th {\n",
       "        vertical-align: top;\n",
       "    }\n",
       "\n",
       "    .dataframe thead th {\n",
       "        text-align: right;\n",
       "    }\n",
       "</style>\n",
       "<table border=\"1\" class=\"dataframe\">\n",
       "  <thead>\n",
       "    <tr style=\"text-align: right;\">\n",
       "      <th></th>\n",
       "      <th>district</th>\n",
       "      <th>LOR</th>\n",
       "      <th>street</th>\n",
       "      <th>LOR_2021</th>\n",
       "      <th>year</th>\n",
       "      <th>month</th>\n",
       "      <th>hour</th>\n",
       "      <th>weekday</th>\n",
       "      <th>category</th>\n",
       "      <th>accident_kind</th>\n",
       "      <th>...</th>\n",
       "      <th>motorcycle</th>\n",
       "      <th>goods_vehicle</th>\n",
       "      <th>others</th>\n",
       "      <th>road_condition</th>\n",
       "      <th>LINREFX</th>\n",
       "      <th>LINREFY</th>\n",
       "      <th>XGCSWGS84</th>\n",
       "      <th>YGCSWGS84</th>\n",
       "      <th>cluster</th>\n",
       "      <th>centroids</th>\n",
       "    </tr>\n",
       "  </thead>\n",
       "  <tbody>\n",
       "    <tr>\n",
       "      <th>14136</th>\n",
       "      <td>4</td>\n",
       "      <td>4030621.0</td>\n",
       "      <td>NaN</td>\n",
       "      <td>4300620.0</td>\n",
       "      <td>2020</td>\n",
       "      <td>9</td>\n",
       "      <td>9</td>\n",
       "      <td>2</td>\n",
       "      <td>3</td>\n",
       "      <td>5</td>\n",
       "      <td>...</td>\n",
       "      <td>0</td>\n",
       "      <td>0</td>\n",
       "      <td>0</td>\n",
       "      <td>0</td>\n",
       "      <td>794161.8034</td>\n",
       "      <td>5827014.911</td>\n",
       "      <td>-0.682955</td>\n",
       "      <td>0.147425</td>\n",
       "      <td>904</td>\n",
       "      <td>0</td>\n",
       "    </tr>\n",
       "    <tr>\n",
       "      <th>4776</th>\n",
       "      <td>8</td>\n",
       "      <td>8010301.0</td>\n",
       "      <td>Reuterkiez</td>\n",
       "      <td>8100311.0</td>\n",
       "      <td>2018</td>\n",
       "      <td>11</td>\n",
       "      <td>18</td>\n",
       "      <td>1</td>\n",
       "      <td>3</td>\n",
       "      <td>1</td>\n",
       "      <td>...</td>\n",
       "      <td>0</td>\n",
       "      <td>0</td>\n",
       "      <td>0</td>\n",
       "      <td>1</td>\n",
       "      <td>800544.5736</td>\n",
       "      <td>5824451.258</td>\n",
       "      <td>0.327587</td>\n",
       "      <td>-0.454157</td>\n",
       "      <td>1238</td>\n",
       "      <td>0</td>\n",
       "    </tr>\n",
       "    <tr>\n",
       "      <th>9062</th>\n",
       "      <td>1</td>\n",
       "      <td>1011204.0</td>\n",
       "      <td>Leipziger Straße</td>\n",
       "      <td>1100207.0</td>\n",
       "      <td>2019</td>\n",
       "      <td>9</td>\n",
       "      <td>9</td>\n",
       "      <td>4</td>\n",
       "      <td>3</td>\n",
       "      <td>5</td>\n",
       "      <td>...</td>\n",
       "      <td>0</td>\n",
       "      <td>0</td>\n",
       "      <td>0</td>\n",
       "      <td>0</td>\n",
       "      <td>798557.1436</td>\n",
       "      <td>5826814.789</td>\n",
       "      <td>0.028571</td>\n",
       "      <td>0.052407</td>\n",
       "      <td>1006</td>\n",
       "      <td>0</td>\n",
       "    </tr>\n",
       "    <tr>\n",
       "      <th>13971</th>\n",
       "      <td>7</td>\n",
       "      <td>7030301.0</td>\n",
       "      <td>NaN</td>\n",
       "      <td>7300516.0</td>\n",
       "      <td>2020</td>\n",
       "      <td>9</td>\n",
       "      <td>18</td>\n",
       "      <td>5</td>\n",
       "      <td>3</td>\n",
       "      <td>1</td>\n",
       "      <td>...</td>\n",
       "      <td>0</td>\n",
       "      <td>0</td>\n",
       "      <td>0</td>\n",
       "      <td>0</td>\n",
       "      <td>794160.6886</td>\n",
       "      <td>5821892.047</td>\n",
       "      <td>-0.733103</td>\n",
       "      <td>-0.896731</td>\n",
       "      <td>629</td>\n",
       "      <td>0</td>\n",
       "    </tr>\n",
       "    <tr>\n",
       "      <th>12062</th>\n",
       "      <td>7</td>\n",
       "      <td>7010102.0</td>\n",
       "      <td>NaN</td>\n",
       "      <td>7100102.0</td>\n",
       "      <td>2020</td>\n",
       "      <td>5</td>\n",
       "      <td>18</td>\n",
       "      <td>3</td>\n",
       "      <td>3</td>\n",
       "      <td>2</td>\n",
       "      <td>...</td>\n",
       "      <td>0</td>\n",
       "      <td>0</td>\n",
       "      <td>0</td>\n",
       "      <td>0</td>\n",
       "      <td>794998.7962</td>\n",
       "      <td>5825087.574</td>\n",
       "      <td>-0.565943</td>\n",
       "      <td>-0.255685</td>\n",
       "      <td>743</td>\n",
       "      <td>0</td>\n",
       "    </tr>\n",
       "  </tbody>\n",
       "</table>\n",
       "<p>5 rows × 24 columns</p>\n",
       "</div>"
      ],
      "text/plain": [
       "       district        LOR            street   LOR_2021  year  month  hour  \\\n",
       "14136         4  4030621.0               NaN  4300620.0  2020      9     9   \n",
       "4776          8  8010301.0        Reuterkiez  8100311.0  2018     11    18   \n",
       "9062          1  1011204.0  Leipziger Straße  1100207.0  2019      9     9   \n",
       "13971         7  7030301.0               NaN  7300516.0  2020      9    18   \n",
       "12062         7  7010102.0               NaN  7100102.0  2020      5    18   \n",
       "\n",
       "       weekday  category  accident_kind  ...  motorcycle  goods_vehicle  \\\n",
       "14136        2         3              5  ...           0              0   \n",
       "4776         1         3              1  ...           0              0   \n",
       "9062         4         3              5  ...           0              0   \n",
       "13971        5         3              1  ...           0              0   \n",
       "12062        3         3              2  ...           0              0   \n",
       "\n",
       "       others  road_condition      LINREFX      LINREFY  XGCSWGS84  YGCSWGS84  \\\n",
       "14136       0               0  794161.8034  5827014.911  -0.682955   0.147425   \n",
       "4776        0               1  800544.5736  5824451.258   0.327587  -0.454157   \n",
       "9062        0               0  798557.1436  5826814.789   0.028571   0.052407   \n",
       "13971       0               0  794160.6886  5821892.047  -0.733103  -0.896731   \n",
       "12062       0               0  794998.7962  5825087.574  -0.565943  -0.255685   \n",
       "\n",
       "       cluster  centroids  \n",
       "14136      904          0  \n",
       "4776      1238          0  \n",
       "9062      1006          0  \n",
       "13971      629          0  \n",
       "12062      743          0  \n",
       "\n",
       "[5 rows x 24 columns]"
      ]
     },
     "execution_count": 34,
     "metadata": {},
     "output_type": "execute_result"
    }
   ],
   "source": [
    "%%time\n",
    "\n",
    "k = 2000\n",
    "model = KMeans(n_clusters=k, init='k-means++')\n",
    "X = df[[\"LINREFX\",\"LINREFY\"]]\n",
    "\n",
    "## clustering\n",
    "df_X = X.copy()\n",
    "df_X[\"cluster\"] = model.fit_predict(X)\n",
    "\n",
    "## find centroids (the datapoints closest to the center)\n",
    "closest, distances = scipy.cluster.vq.vq(model.cluster_centers_, \n",
    "                     df_X.drop(\"cluster\", axis=1).values)\n",
    "df_X[\"centroids\"] = 0\n",
    "for i in closest:\n",
    "    df_X[\"centroids\"].iloc[i] = 1\n",
    "    \n",
    "## add clustering info to the original dataset\n",
    "df[[\"cluster_km\",\"centroids_km\"]] = df_X[[\"cluster\",\"centroids\"]]\n",
    "df.sample(5)"
   ]
  },
  {
   "cell_type": "code",
   "execution_count": 35,
   "id": "1e1615f5",
   "metadata": {},
   "outputs": [
    {
     "data": {
      "text/plain": [
       "<matplotlib.collections.PathCollection at 0x7f8511980130>"
      ]
     },
     "execution_count": 35,
     "metadata": {},
     "output_type": "execute_result"
    },
    {
     "data": {
      "image/png": "[encoded data removed]",
      "text/plain": [
       "<Figure size 432x288 with 1 Axes>"
      ]
     },
     "metadata": {
      "needs_background": "light"
     },
     "output_type": "display_data"
    }
   ],
   "source": [
    "## plot\n",
    "fig, ax = plt.subplots()\n",
    "sns.scatterplot(x=\"LINREFX\", y=\"LINREFY\", data=df, \n",
    "                palette=sns.color_palette(\"bright\",k),\n",
    "                hue='cluster', size=\"centroids\", size_order=[1,0],\n",
    "                legend=False, ax=ax).set_title('Clustering(k='+str(k)+')')\n",
    "                                                 \n",
    "th_centroids = model.cluster_centers_\n",
    "ax.scatter(th_centroids[:,0], th_centroids[:,1], s=50, c='black', \n",
    "           marker=\"x\")"
   ]
  },
  {
   "cell_type": "code",
   "execution_count": 37,
   "id": "96ef7059",
   "metadata": {},
   "outputs": [
    {
     "data": {
      "text/html": [
       "<div>\n",
       "<style scoped>\n",
       "    .dataframe tbody tr th:only-of-type {\n",
       "        vertical-align: middle;\n",
       "    }\n",
       "\n",
       "    .dataframe tbody tr th {\n",
       "        vertical-align: top;\n",
       "    }\n",
       "\n",
       "    .dataframe thead th {\n",
       "        text-align: right;\n",
       "    }\n",
       "</style>\n",
       "<table border=\"1\" class=\"dataframe\">\n",
       "  <thead>\n",
       "    <tr style=\"text-align: right;\">\n",
       "      <th></th>\n",
       "      <th>district</th>\n",
       "      <th>LOR</th>\n",
       "      <th>street</th>\n",
       "      <th>LOR_2021</th>\n",
       "      <th>year</th>\n",
       "      <th>month</th>\n",
       "      <th>hour</th>\n",
       "      <th>weekday</th>\n",
       "      <th>category</th>\n",
       "      <th>accident_kind</th>\n",
       "      <th>...</th>\n",
       "      <th>motorcycle</th>\n",
       "      <th>goods_vehicle</th>\n",
       "      <th>others</th>\n",
       "      <th>road_condition</th>\n",
       "      <th>LINREFX</th>\n",
       "      <th>LINREFY</th>\n",
       "      <th>XGCSWGS84</th>\n",
       "      <th>YGCSWGS84</th>\n",
       "      <th>cluster</th>\n",
       "      <th>centroids</th>\n",
       "    </tr>\n",
       "  </thead>\n",
       "  <tbody>\n",
       "    <tr>\n",
       "      <th>8</th>\n",
       "      <td>3</td>\n",
       "      <td>3061434.0</td>\n",
       "      <td>Anton-Saefkow-Park</td>\n",
       "      <td>3601451.0</td>\n",
       "      <td>2018</td>\n",
       "      <td>1</td>\n",
       "      <td>8</td>\n",
       "      <td>2</td>\n",
       "      <td>3</td>\n",
       "      <td>6</td>\n",
       "      <td>...</td>\n",
       "      <td>0</td>\n",
       "      <td>0</td>\n",
       "      <td>0</td>\n",
       "      <td>0</td>\n",
       "      <td>800637.4113</td>\n",
       "      <td>5829909.787</td>\n",
       "      <td>0.397126</td>\n",
       "      <td>0.657119</td>\n",
       "      <td>174</td>\n",
       "      <td>1</td>\n",
       "    </tr>\n",
       "    <tr>\n",
       "      <th>10</th>\n",
       "      <td>2</td>\n",
       "      <td>2040701.0</td>\n",
       "      <td>Andreasviertel</td>\n",
       "      <td>2400521.0</td>\n",
       "      <td>2018</td>\n",
       "      <td>1</td>\n",
       "      <td>8</td>\n",
       "      <td>5</td>\n",
       "      <td>2</td>\n",
       "      <td>5</td>\n",
       "      <td>...</td>\n",
       "      <td>0</td>\n",
       "      <td>0</td>\n",
       "      <td>0</td>\n",
       "      <td>1</td>\n",
       "      <td>800966.4920</td>\n",
       "      <td>5827868.971</td>\n",
       "      <td>0.430162</td>\n",
       "      <td>0.237079</td>\n",
       "      <td>414</td>\n",
       "      <td>1</td>\n",
       "    </tr>\n",
       "    <tr>\n",
       "      <th>13</th>\n",
       "      <td>7</td>\n",
       "      <td>7030303.0</td>\n",
       "      <td>Grazer Platz</td>\n",
       "      <td>7300619.0</td>\n",
       "      <td>2018</td>\n",
       "      <td>1</td>\n",
       "      <td>16</td>\n",
       "      <td>5</td>\n",
       "      <td>2</td>\n",
       "      <td>5</td>\n",
       "      <td>...</td>\n",
       "      <td>0</td>\n",
       "      <td>0</td>\n",
       "      <td>0</td>\n",
       "      <td>1</td>\n",
       "      <td>795573.4390</td>\n",
       "      <td>5823307.799</td>\n",
       "      <td>-0.490132</td>\n",
       "      <td>-0.625508</td>\n",
       "      <td>1137</td>\n",
       "      <td>1</td>\n",
       "    </tr>\n",
       "    <tr>\n",
       "      <th>14</th>\n",
       "      <td>7</td>\n",
       "      <td>7050502.0</td>\n",
       "      <td>Fritz-Werner-Straße                           ...</td>\n",
       "      <td>7501133.0</td>\n",
       "      <td>2018</td>\n",
       "      <td>1</td>\n",
       "      <td>10</td>\n",
       "      <td>4</td>\n",
       "      <td>2</td>\n",
       "      <td>5</td>\n",
       "      <td>...</td>\n",
       "      <td>0</td>\n",
       "      <td>0</td>\n",
       "      <td>0</td>\n",
       "      <td>1</td>\n",
       "      <td>797451.0135</td>\n",
       "      <td>5817860.220</td>\n",
       "      <td>-0.239183</td>\n",
       "      <td>-1.758983</td>\n",
       "      <td>1949</td>\n",
       "      <td>1</td>\n",
       "    </tr>\n",
       "    <tr>\n",
       "      <th>15</th>\n",
       "      <td>1</td>\n",
       "      <td>1011303.0</td>\n",
       "      <td>Alexanderplatzviertel</td>\n",
       "      <td>1100310.0</td>\n",
       "      <td>2018</td>\n",
       "      <td>1</td>\n",
       "      <td>6</td>\n",
       "      <td>3</td>\n",
       "      <td>3</td>\n",
       "      <td>5</td>\n",
       "      <td>...</td>\n",
       "      <td>0</td>\n",
       "      <td>0</td>\n",
       "      <td>0</td>\n",
       "      <td>0</td>\n",
       "      <td>799651.4973</td>\n",
       "      <td>5828438.163</td>\n",
       "      <td>0.222351</td>\n",
       "      <td>0.369546</td>\n",
       "      <td>1621</td>\n",
       "      <td>1</td>\n",
       "    </tr>\n",
       "  </tbody>\n",
       "</table>\n",
       "<p>5 rows × 24 columns</p>\n",
       "</div>"
      ],
      "text/plain": [
       "    district        LOR                                             street  \\\n",
       "8          3  3061434.0                                 Anton-Saefkow-Park   \n",
       "10         2  2040701.0                                     Andreasviertel   \n",
       "13         7  7030303.0                                       Grazer Platz   \n",
       "14         7  7050502.0  Fritz-Werner-Straße                           ...   \n",
       "15         1  1011303.0                              Alexanderplatzviertel   \n",
       "\n",
       "     LOR_2021  year  month  hour  weekday  category  accident_kind  ...  \\\n",
       "8   3601451.0  2018      1     8        2         3              6  ...   \n",
       "10  2400521.0  2018      1     8        5         2              5  ...   \n",
       "13  7300619.0  2018      1    16        5         2              5  ...   \n",
       "14  7501133.0  2018      1    10        4         2              5  ...   \n",
       "15  1100310.0  2018      1     6        3         3              5  ...   \n",
       "\n",
       "    motorcycle  goods_vehicle  others  road_condition      LINREFX  \\\n",
       "8            0              0       0               0  800637.4113   \n",
       "10           0              0       0               1  800966.4920   \n",
       "13           0              0       0               1  795573.4390   \n",
       "14           0              0       0               1  797451.0135   \n",
       "15           0              0       0               0  799651.4973   \n",
       "\n",
       "        LINREFY  XGCSWGS84  YGCSWGS84  cluster  centroids  \n",
       "8   5829909.787   0.397126   0.657119      174          1  \n",
       "10  5827868.971   0.430162   0.237079      414          1  \n",
       "13  5823307.799  -0.490132  -0.625508     1137          1  \n",
       "14  5817860.220  -0.239183  -1.758983     1949          1  \n",
       "15  5828438.163   0.222351   0.369546     1621          1  \n",
       "\n",
       "[5 rows x 24 columns]"
      ]
     },
     "execution_count": 37,
     "metadata": {},
     "output_type": "execute_result"
    }
   ],
   "source": [
    "# df that contains only centroids for mappinig\n",
    "\n",
    "df_kmeans_cluster = df[df['centroids'] == 1]\n",
    "\n",
    "df_kmeans_cluster.head()"
   ]
  },
  {
   "cell_type": "markdown",
   "id": "bb812f0b",
   "metadata": {},
   "source": [
    "## Affinity propagation"
   ]
  },
  {
   "cell_type": "code",
   "execution_count": 40,
   "id": "7f2d07a1",
   "metadata": {},
   "outputs": [
    {
     "name": "stdout",
     "output_type": "stream",
     "text": [
      "CPU times: user 10min 14s, sys: 30.1 s, total: 10min 44s\n",
      "Wall time: 10min 17s\n"
     ]
    },
    {
     "name": "stderr",
     "output_type": "stream",
     "text": [
      "/home/supersakul/.pyenv/versions/3.8.12/envs/berlin-bike-theft-forecasting/lib/python3.8/site-packages/sklearn/cluster/_affinity_propagation.py:250: ConvergenceWarning: Affinity propagation did not converge, this model will not have any cluster centers.\n",
      "  warnings.warn(\n"
     ]
    },
    {
     "data": {
      "text/html": [
       "<div>\n",
       "<style scoped>\n",
       "    .dataframe tbody tr th:only-of-type {\n",
       "        vertical-align: middle;\n",
       "    }\n",
       "\n",
       "    .dataframe tbody tr th {\n",
       "        vertical-align: top;\n",
       "    }\n",
       "\n",
       "    .dataframe thead th {\n",
       "        text-align: right;\n",
       "    }\n",
       "</style>\n",
       "<table border=\"1\" class=\"dataframe\">\n",
       "  <thead>\n",
       "    <tr style=\"text-align: right;\">\n",
       "      <th></th>\n",
       "      <th>district</th>\n",
       "      <th>LOR</th>\n",
       "      <th>street</th>\n",
       "      <th>LOR_2021</th>\n",
       "      <th>year</th>\n",
       "      <th>month</th>\n",
       "      <th>hour</th>\n",
       "      <th>weekday</th>\n",
       "      <th>category</th>\n",
       "      <th>accident_kind</th>\n",
       "      <th>...</th>\n",
       "      <th>motorcycle</th>\n",
       "      <th>goods_vehicle</th>\n",
       "      <th>others</th>\n",
       "      <th>road_condition</th>\n",
       "      <th>LINREFX</th>\n",
       "      <th>LINREFY</th>\n",
       "      <th>XGCSWGS84</th>\n",
       "      <th>YGCSWGS84</th>\n",
       "      <th>cluster</th>\n",
       "      <th>centroids</th>\n",
       "    </tr>\n",
       "  </thead>\n",
       "  <tbody>\n",
       "    <tr>\n",
       "      <th>10703</th>\n",
       "      <td>7</td>\n",
       "      <td>7020203.0</td>\n",
       "      <td>NaN</td>\n",
       "      <td>7200411.0</td>\n",
       "      <td>2020</td>\n",
       "      <td>2</td>\n",
       "      <td>18</td>\n",
       "      <td>1</td>\n",
       "      <td>3</td>\n",
       "      <td>0</td>\n",
       "      <td>...</td>\n",
       "      <td>0</td>\n",
       "      <td>0</td>\n",
       "      <td>0</td>\n",
       "      <td>1</td>\n",
       "      <td>795922.7651</td>\n",
       "      <td>5824392.642</td>\n",
       "      <td>-0.422826</td>\n",
       "      <td>-0.408698</td>\n",
       "      <td>-1</td>\n",
       "      <td>0</td>\n",
       "    </tr>\n",
       "    <tr>\n",
       "      <th>3794</th>\n",
       "      <td>3</td>\n",
       "      <td>3050923.0</td>\n",
       "      <td>Weißenseer Spitze</td>\n",
       "      <td>3500934.0</td>\n",
       "      <td>2018</td>\n",
       "      <td>9</td>\n",
       "      <td>14</td>\n",
       "      <td>3</td>\n",
       "      <td>2</td>\n",
       "      <td>0</td>\n",
       "      <td>...</td>\n",
       "      <td>0</td>\n",
       "      <td>0</td>\n",
       "      <td>0</td>\n",
       "      <td>0</td>\n",
       "      <td>801038.8484</td>\n",
       "      <td>5831666.100</td>\n",
       "      <td>0.479907</td>\n",
       "      <td>1.010007</td>\n",
       "      <td>-1</td>\n",
       "      <td>0</td>\n",
       "    </tr>\n",
       "    <tr>\n",
       "      <th>1840</th>\n",
       "      <td>8</td>\n",
       "      <td>8010118.0</td>\n",
       "      <td>Silbersteinstraße</td>\n",
       "      <td>8100105.0</td>\n",
       "      <td>2018</td>\n",
       "      <td>5</td>\n",
       "      <td>20</td>\n",
       "      <td>6</td>\n",
       "      <td>3</td>\n",
       "      <td>6</td>\n",
       "      <td>...</td>\n",
       "      <td>0</td>\n",
       "      <td>0</td>\n",
       "      <td>0</td>\n",
       "      <td>0</td>\n",
       "      <td>800948.6060</td>\n",
       "      <td>5822291.745</td>\n",
       "      <td>0.371600</td>\n",
       "      <td>-0.899324</td>\n",
       "      <td>-1</td>\n",
       "      <td>0</td>\n",
       "    </tr>\n",
       "    <tr>\n",
       "      <th>6859</th>\n",
       "      <td>2</td>\n",
       "      <td>2050601.0</td>\n",
       "      <td>Hausburgviertel</td>\n",
       "      <td>2500726.0</td>\n",
       "      <td>2019</td>\n",
       "      <td>5</td>\n",
       "      <td>7</td>\n",
       "      <td>5</td>\n",
       "      <td>3</td>\n",
       "      <td>5</td>\n",
       "      <td>...</td>\n",
       "      <td>0</td>\n",
       "      <td>0</td>\n",
       "      <td>1</td>\n",
       "      <td>1</td>\n",
       "      <td>801865.7288</td>\n",
       "      <td>5828983.034</td>\n",
       "      <td>0.587302</td>\n",
       "      <td>0.452806</td>\n",
       "      <td>-1</td>\n",
       "      <td>0</td>\n",
       "    </tr>\n",
       "    <tr>\n",
       "      <th>14924</th>\n",
       "      <td>1</td>\n",
       "      <td>1022204.0</td>\n",
       "      <td>NaN</td>\n",
       "      <td>1200626.0</td>\n",
       "      <td>2020</td>\n",
       "      <td>11</td>\n",
       "      <td>13</td>\n",
       "      <td>5</td>\n",
       "      <td>3</td>\n",
       "      <td>0</td>\n",
       "      <td>...</td>\n",
       "      <td>1</td>\n",
       "      <td>0</td>\n",
       "      <td>0</td>\n",
       "      <td>0</td>\n",
       "      <td>794999.4754</td>\n",
       "      <td>5828142.247</td>\n",
       "      <td>-0.535920</td>\n",
       "      <td>0.366913</td>\n",
       "      <td>-1</td>\n",
       "      <td>0</td>\n",
       "    </tr>\n",
       "  </tbody>\n",
       "</table>\n",
       "<p>5 rows × 24 columns</p>\n",
       "</div>"
      ],
      "text/plain": [
       "       district        LOR             street   LOR_2021  year  month  hour  \\\n",
       "10703         7  7020203.0                NaN  7200411.0  2020      2    18   \n",
       "3794          3  3050923.0  Weißenseer Spitze  3500934.0  2018      9    14   \n",
       "1840          8  8010118.0  Silbersteinstraße  8100105.0  2018      5    20   \n",
       "6859          2  2050601.0    Hausburgviertel  2500726.0  2019      5     7   \n",
       "14924         1  1022204.0                NaN  1200626.0  2020     11    13   \n",
       "\n",
       "       weekday  category  accident_kind  ...  motorcycle  goods_vehicle  \\\n",
       "10703        1         3              0  ...           0              0   \n",
       "3794         3         2              0  ...           0              0   \n",
       "1840         6         3              6  ...           0              0   \n",
       "6859         5         3              5  ...           0              0   \n",
       "14924        5         3              0  ...           1              0   \n",
       "\n",
       "       others  road_condition      LINREFX      LINREFY  XGCSWGS84  YGCSWGS84  \\\n",
       "10703       0               1  795922.7651  5824392.642  -0.422826  -0.408698   \n",
       "3794        0               0  801038.8484  5831666.100   0.479907   1.010007   \n",
       "1840        0               0  800948.6060  5822291.745   0.371600  -0.899324   \n",
       "6859        1               1  801865.7288  5828983.034   0.587302   0.452806   \n",
       "14924       0               0  794999.4754  5828142.247  -0.535920   0.366913   \n",
       "\n",
       "       cluster  centroids  \n",
       "10703       -1          0  \n",
       "3794        -1          0  \n",
       "1840        -1          0  \n",
       "6859        -1          0  \n",
       "14924       -1          0  \n",
       "\n",
       "[5 rows x 24 columns]"
      ]
     },
     "execution_count": 40,
     "metadata": {},
     "output_type": "execute_result"
    }
   ],
   "source": [
    "%%time\n",
    "\n",
    "model = AffinityPropagation()\n",
    "X = df[[\"LINREFX\",\"LINREFY\"]]\n",
    "\n",
    "## clustering\n",
    "df_X = X.copy()\n",
    "df_X[\"cluster\"] = model.fit_predict(X)\n",
    "\n",
    "## find real centroids\n",
    "closest, distances = scipy.cluster.vq.vq(model.cluster_centers_, \n",
    "                     df_X.drop(\"cluster\", axis=1).values)\n",
    "df_X[\"centroids\"] = 0\n",
    "for i in closest:\n",
    "    df_X[\"centroids\"].iloc[i] = 1\n",
    "    \n",
    "## add clustering info to the original dataset\n",
    "df[[\"cluster_ap\",\"centroids_ap\"]] = df_X[[\"cluster\",\"centroids\"]]\n",
    "df.sample(5)"
   ]
  },
  {
   "cell_type": "code",
   "execution_count": 43,
   "id": "51317412",
   "metadata": {},
   "outputs": [],
   "source": [
    "#model = AffinityPropagation()"
   ]
  },
  {
   "cell_type": "code",
   "execution_count": 50,
   "id": "bd601423",
   "metadata": {},
   "outputs": [],
   "source": [
    "#model, dtf_X = fit_ml_cluster(X=df[[\"XGCSWGS84\",\"YGCSWGS84\"]], model=model, figsize=(10,5))"
   ]
  },
  {
   "cell_type": "code",
   "execution_count": 49,
   "id": "d76c8fbb",
   "metadata": {},
   "outputs": [],
   "source": [
    "'''\n",
    "## plot\n",
    "fig, ax = plt.subplots()\n",
    "sns.scatterplot(x=\"LINREFX\", y=\"LINREFY\", data=df, \n",
    "                palette=sns.color_palette(\"bright\",k),\n",
    "                hue='cluster', size=\"centroids\", size_order=[1,0],\n",
    "                legend=False, ax=ax).set_title('Clustering(k='+str(k)+')')\n",
    "                                                 \n",
    "th_centroids = model.cluster_centers_\n",
    "ax.scatter(th_centroids[:,0], th_centroids[:,1], s=50, c='black', \n",
    "           marker=\"x\")\n",
    "''';"
   ]
  },
  {
   "cell_type": "markdown",
   "id": "a62462ab",
   "metadata": {},
   "source": [
    "## DBSCAN"
   ]
  },
  {
   "cell_type": "code",
   "execution_count": 53,
   "id": "0ab96bfd",
   "metadata": {},
   "outputs": [],
   "source": [
    "# find clusters using DB_SCAN (density based)\n",
    "\n",
    "\n"
   ]
  },
  {
   "cell_type": "markdown",
   "id": "2d11fe6a",
   "metadata": {},
   "source": [
    "## SOMs"
   ]
  },
  {
   "cell_type": "code",
   "execution_count": null,
   "id": "bf901ba9",
   "metadata": {},
   "outputs": [],
   "source": [
    "# find clusters using SOMs (self organizing maps)\n",
    "\n",
    "X = df[[\"XGCSWGS84\",\"YGCSWGS84\"]]\n",
    "map_shape = (4,4)\n",
    "\n",
    "\n",
    "model = minisom.MiniSom(x=map_shape[0], y=map_shape[1], \n",
    "                        input_len=X.shape[1])\n",
    "model.train_batch(X, num_iteration=100, verbose=1)\n",
    "\n",
    "## build output dataframe\n",
    "dtf_X = X.copy()\n",
    "dtf_X[\"cluster\"] = np.ravel_multi_index(np.array(\n",
    "      [model.winner(x) for x in X_preprocessed]).T, dims=map_shape)## find real centroids\n",
    "cluster_centers = np.array([vec for center in model.get_weights() \n",
    "                            for vec in center])closest, distances = scipy.cluster.vq.vq(model.cluster_centers_, \n",
    "                                         X_preprocessed)\n",
    "dtf_X[\"centroids\"] = 0\n",
    "for i in closest:\n",
    "    dtf_X[\"centroids\"].iloc[i] = 1## add clustering info to the original dataset\n",
    "dtf[[\"cluster\",\"centroids\"]] = dtf_X[[\"cluster\",\"centroids\"]]## plot\n",
    "k = dtf[\"cluster\"].nunique()fig, ax = plt.subplots()\n",
    "sns.scatterplot(x=\"Latitude\", y=\"Longitude\", data=dtf, \n",
    "                palette=sns.color_palette(\"bright\",k),\n",
    "                hue='cluster', size=\"centroids\", size_order=[1,0],\n",
    "                legend=\"brief\", ax=ax).set_title('Clustering \n",
    "                (k='+str(k)+')')th_centroids = scaler.inverse_transform(cluster_centers)\n",
    "ax.scatter(th_centroids[:,0], th_centroids[:,1], s=50, c='black', \n",
    "           marker=\"x\")"
   ]
  }
 ],
 "metadata": {
  "kernelspec": {
   "display_name": "Python 3 (ipykernel)",
   "language": "python",
   "name": "python3"
  },
  "language_info": {
   "codemirror_mode": {
    "name": "ipython",
    "version": 3
   },
   "file_extension": ".py",
   "mimetype": "text/x-python",
   "name": "python",
   "nbconvert_exporter": "python",
   "pygments_lexer": "ipython3",
   "version": "3.8.12"
  },
  "toc": {
   "base_numbering": 1,
   "nav_menu": {},
   "number_sections": true,
   "sideBar": true,
   "skip_h1_title": false,
   "title_cell": "Table of Contents",
   "title_sidebar": "Contents",
   "toc_cell": false,
   "toc_position": {},
   "toc_section_display": true,
   "toc_window_display": false
  }
 },
 "nbformat": 4,
 "nbformat_minor": 5
}
