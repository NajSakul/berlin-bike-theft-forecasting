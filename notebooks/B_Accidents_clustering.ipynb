{
 "cells": [
  {
   "cell_type": "markdown",
   "id": "374bba91",
   "metadata": {},
   "source": [
    "# Clustering of bike accident locations"
   ]
  },
  {
   "cell_type": "code",
   "execution_count": 11,
   "id": "504095a1",
   "metadata": {},
   "outputs": [],
   "source": [
    "import pandas as pd\n",
    "import numpy as np\n",
    "import requests\n",
    "import folium\n",
    "import config\n",
    "from math import radians, cos, sin, asin, sqrt\n",
    "import os.path\n",
    "from functools import partial\n",
    "import pyproj\n",
    "import math\n",
    "import csv\n",
    "\n",
    "# DATA VISUALISATION\n",
    "import matplotlib.pyplot as plt\n",
    "import seaborn as sns\n",
    "from shapely.geometry import asPolygon\n",
    "from shapely.geometry import asLineString\n",
    "from shapely.ops import transform\n",
    "from shapely.ops import cascaded_union\n",
    "from shapely.geometry import Point\n",
    "import geopandas as gpd\n",
    "\n",
    "# scaling\n",
    "from sklearn.preprocessing import StandardScaler, RobustScaler, MinMaxScaler\n",
    "\n",
    "# models\n",
    "from sklearn.cluster import KMeans, AffinityPropagation, DBSCAN\n",
    "import scipy"
   ]
  },
  {
   "cell_type": "code",
   "execution_count": 2,
   "id": "3bc4309f",
   "metadata": {},
   "outputs": [],
   "source": [
    "#load preprocessed data frame with 2018-2020 data\n",
    "df = pd.read_csv('../raw_data/df_LOR_2021.csv', index_col=False)"
   ]
  },
  {
   "cell_type": "code",
   "execution_count": 3,
   "id": "fe1f4aeb",
   "metadata": {},
   "outputs": [
    {
     "data": {
      "text/html": [
       "<div>\n",
       "<style scoped>\n",
       "    .dataframe tbody tr th:only-of-type {\n",
       "        vertical-align: middle;\n",
       "    }\n",
       "\n",
       "    .dataframe tbody tr th {\n",
       "        vertical-align: top;\n",
       "    }\n",
       "\n",
       "    .dataframe thead th {\n",
       "        text-align: right;\n",
       "    }\n",
       "</style>\n",
       "<table border=\"1\" class=\"dataframe\">\n",
       "  <thead>\n",
       "    <tr style=\"text-align: right;\">\n",
       "      <th></th>\n",
       "      <th>district</th>\n",
       "      <th>LOR</th>\n",
       "      <th>street</th>\n",
       "      <th>LOR_2021</th>\n",
       "      <th>year</th>\n",
       "      <th>month</th>\n",
       "      <th>hour</th>\n",
       "      <th>weekday</th>\n",
       "      <th>category</th>\n",
       "      <th>accident_kind</th>\n",
       "      <th>...</th>\n",
       "      <th>car</th>\n",
       "      <th>pedestrian</th>\n",
       "      <th>motorcycle</th>\n",
       "      <th>goods_vehicle</th>\n",
       "      <th>others</th>\n",
       "      <th>road_condition</th>\n",
       "      <th>LINREFX</th>\n",
       "      <th>LINREFY</th>\n",
       "      <th>XGCSWGS84</th>\n",
       "      <th>YGCSWGS84</th>\n",
       "    </tr>\n",
       "  </thead>\n",
       "  <tbody>\n",
       "    <tr>\n",
       "      <th>0</th>\n",
       "      <td>3</td>\n",
       "      <td>3020209.0</td>\n",
       "      <td>Niederschönhausen</td>\n",
       "      <td>3200206.0</td>\n",
       "      <td>2018</td>\n",
       "      <td>1</td>\n",
       "      <td>15</td>\n",
       "      <td>4</td>\n",
       "      <td>3</td>\n",
       "      <td>6</td>\n",
       "      <td>...</td>\n",
       "      <td>0</td>\n",
       "      <td>1</td>\n",
       "      <td>0</td>\n",
       "      <td>0</td>\n",
       "      <td>0</td>\n",
       "      <td>1</td>\n",
       "      <td>798261.3849</td>\n",
       "      <td>5835047.260</td>\n",
       "      <td>13.403228</td>\n",
       "      <td>52.583472</td>\n",
       "    </tr>\n",
       "    <tr>\n",
       "      <th>1</th>\n",
       "      <td>3</td>\n",
       "      <td>3071639.0</td>\n",
       "      <td>Bötzowstraße</td>\n",
       "      <td>3701660.0</td>\n",
       "      <td>2018</td>\n",
       "      <td>1</td>\n",
       "      <td>11</td>\n",
       "      <td>5</td>\n",
       "      <td>3</td>\n",
       "      <td>5</td>\n",
       "      <td>...</td>\n",
       "      <td>1</td>\n",
       "      <td>0</td>\n",
       "      <td>0</td>\n",
       "      <td>0</td>\n",
       "      <td>0</td>\n",
       "      <td>1</td>\n",
       "      <td>800551.7210</td>\n",
       "      <td>5829808.492</td>\n",
       "      <td>13.432186</td>\n",
       "      <td>52.535255</td>\n",
       "    </tr>\n",
       "    <tr>\n",
       "      <th>2</th>\n",
       "      <td>2</td>\n",
       "      <td>2050602.0</td>\n",
       "      <td>Samariterviertel</td>\n",
       "      <td>2500729.0</td>\n",
       "      <td>2018</td>\n",
       "      <td>1</td>\n",
       "      <td>8</td>\n",
       "      <td>2</td>\n",
       "      <td>3</td>\n",
       "      <td>5</td>\n",
       "      <td>...</td>\n",
       "      <td>1</td>\n",
       "      <td>0</td>\n",
       "      <td>0</td>\n",
       "      <td>0</td>\n",
       "      <td>0</td>\n",
       "      <td>0</td>\n",
       "      <td>803320.7292</td>\n",
       "      <td>5827627.446</td>\n",
       "      <td>13.470897</td>\n",
       "      <td>52.514173</td>\n",
       "    </tr>\n",
       "    <tr>\n",
       "      <th>3</th>\n",
       "      <td>1</td>\n",
       "      <td>1011204.0</td>\n",
       "      <td>Leipziger Straße                              ...</td>\n",
       "      <td>1100207.0</td>\n",
       "      <td>2018</td>\n",
       "      <td>1</td>\n",
       "      <td>19</td>\n",
       "      <td>4</td>\n",
       "      <td>3</td>\n",
       "      <td>5</td>\n",
       "      <td>...</td>\n",
       "      <td>1</td>\n",
       "      <td>0</td>\n",
       "      <td>0</td>\n",
       "      <td>0</td>\n",
       "      <td>0</td>\n",
       "      <td>1</td>\n",
       "      <td>798174.6913</td>\n",
       "      <td>5826939.978</td>\n",
       "      <td>13.394673</td>\n",
       "      <td>52.510848</td>\n",
       "    </tr>\n",
       "    <tr>\n",
       "      <th>4</th>\n",
       "      <td>9</td>\n",
       "      <td>9020601.0</td>\n",
       "      <td>Schnellerstraße                               ...</td>\n",
       "      <td>9200613.0</td>\n",
       "      <td>2018</td>\n",
       "      <td>1</td>\n",
       "      <td>18</td>\n",
       "      <td>4</td>\n",
       "      <td>2</td>\n",
       "      <td>5</td>\n",
       "      <td>...</td>\n",
       "      <td>1</td>\n",
       "      <td>0</td>\n",
       "      <td>0</td>\n",
       "      <td>0</td>\n",
       "      <td>0</td>\n",
       "      <td>1</td>\n",
       "      <td>806109.6297</td>\n",
       "      <td>5821644.404</td>\n",
       "      <td>13.506372</td>\n",
       "      <td>52.458993</td>\n",
       "    </tr>\n",
       "  </tbody>\n",
       "</table>\n",
       "<p>5 rows × 22 columns</p>\n",
       "</div>"
      ],
      "text/plain": [
       "   district        LOR                                             street  \\\n",
       "0         3  3020209.0                                  Niederschönhausen   \n",
       "1         3  3071639.0                                       Bötzowstraße   \n",
       "2         2  2050602.0                                   Samariterviertel   \n",
       "3         1  1011204.0  Leipziger Straße                              ...   \n",
       "4         9  9020601.0  Schnellerstraße                               ...   \n",
       "\n",
       "    LOR_2021  year  month  hour  weekday  category  accident_kind  ...  car  \\\n",
       "0  3200206.0  2018      1    15        4         3              6  ...    0   \n",
       "1  3701660.0  2018      1    11        5         3              5  ...    1   \n",
       "2  2500729.0  2018      1     8        2         3              5  ...    1   \n",
       "3  1100207.0  2018      1    19        4         3              5  ...    1   \n",
       "4  9200613.0  2018      1    18        4         2              5  ...    1   \n",
       "\n",
       "   pedestrian  motorcycle  goods_vehicle  others  road_condition      LINREFX  \\\n",
       "0           1           0              0       0               1  798261.3849   \n",
       "1           0           0              0       0               1  800551.7210   \n",
       "2           0           0              0       0               0  803320.7292   \n",
       "3           0           0              0       0               1  798174.6913   \n",
       "4           0           0              0       0               1  806109.6297   \n",
       "\n",
       "       LINREFY  XGCSWGS84  YGCSWGS84  \n",
       "0  5835047.260  13.403228  52.583472  \n",
       "1  5829808.492  13.432186  52.535255  \n",
       "2  5827627.446  13.470897  52.514173  \n",
       "3  5826939.978  13.394673  52.510848  \n",
       "4  5821644.404  13.506372  52.458993  \n",
       "\n",
       "[5 rows x 22 columns]"
      ]
     },
     "execution_count": 3,
     "metadata": {},
     "output_type": "execute_result"
    }
   ],
   "source": [
    "df.head()"
   ]
  },
  {
   "cell_type": "code",
   "execution_count": 4,
   "id": "6137c788",
   "metadata": {},
   "outputs": [
    {
     "data": {
      "text/plain": [
       "<matplotlib.collections.PathCollection at 0x7f5a80ebb580>"
      ]
     },
     "execution_count": 4,
     "metadata": {},
     "output_type": "execute_result"
    },
    {
     "data": {
      "image/png": "[encoded data removed]",
      "text/plain": [
       "<Figure size 432x288 with 1 Axes>"
      ]
     },
     "metadata": {
      "needs_background": "light"
     },
     "output_type": "display_data"
    }
   ],
   "source": [
    "plt.scatter(x=df['XGCSWGS84'], y= df['YGCSWGS84'])"
   ]
  },
  {
   "cell_type": "code",
   "execution_count": 5,
   "id": "4c40e749",
   "metadata": {},
   "outputs": [
    {
     "data": {
      "text/plain": [
       "<AxesSubplot:xlabel='LINREFX', ylabel='Count'>"
      ]
     },
     "execution_count": 5,
     "metadata": {},
     "output_type": "execute_result"
    },
    {
     "data": {
      "image/png": "[encoded data removed]",
      "text/plain": [
       "<Figure size 432x288 with 1 Axes>"
      ]
     },
     "metadata": {
      "needs_background": "light"
     },
     "output_type": "display_data"
    }
   ],
   "source": [
    "sns.histplot(x = df['LINREFX'])"
   ]
  },
  {
   "cell_type": "code",
   "execution_count": 6,
   "id": "4f927a1c",
   "metadata": {},
   "outputs": [
    {
     "data": {
      "text/plain": [
       "<AxesSubplot:xlabel='LINREFY', ylabel='Count'>"
      ]
     },
     "execution_count": 6,
     "metadata": {},
     "output_type": "execute_result"
    },
    {
     "data": {
      "image/png": "[encoded data removed]",
      "text/plain": [
       "<Figure size 432x288 with 1 Axes>"
      ]
     },
     "metadata": {
      "needs_background": "light"
     },
     "output_type": "display_data"
    }
   ],
   "source": [
    "sns.histplot(x = df['LINREFY'])"
   ]
  },
  {
   "cell_type": "code",
   "execution_count": null,
   "id": "3b05a830",
   "metadata": {},
   "outputs": [],
   "source": [
    "# don't need to scale! instantiating scaler\n",
    "# scaler = StandardScaler()"
   ]
  },
  {
   "cell_type": "code",
   "execution_count": null,
   "id": "777e9516",
   "metadata": {},
   "outputs": [],
   "source": [
    "#scaler.fit(df[['XGCSWGS84']])"
   ]
  },
  {
   "cell_type": "code",
   "execution_count": null,
   "id": "92f87948",
   "metadata": {},
   "outputs": [],
   "source": [
    "# df['XGCSWGS84'] = scaler.transform(df[['XGCSWGS84']])"
   ]
  },
  {
   "cell_type": "code",
   "execution_count": null,
   "id": "e96699b0",
   "metadata": {},
   "outputs": [],
   "source": [
    "#scaler2 = StandardScaler()"
   ]
  },
  {
   "cell_type": "code",
   "execution_count": null,
   "id": "02d70bba",
   "metadata": {},
   "outputs": [],
   "source": [
    "#scaler2.fit(df[['YGCSWGS84']])"
   ]
  },
  {
   "cell_type": "code",
   "execution_count": null,
   "id": "feff99de",
   "metadata": {},
   "outputs": [],
   "source": [
    "#df['YGCSWGS84'] = scaler2.transform(df[['YGCSWGS84']])"
   ]
  },
  {
   "cell_type": "code",
   "execution_count": null,
   "id": "cfb99b75",
   "metadata": {},
   "outputs": [],
   "source": [
    "#plt.scatter(x=df['XGCSWGS84'], y= df['YGCSWGS84'])"
   ]
  },
  {
   "cell_type": "markdown",
   "id": "837db92c",
   "metadata": {},
   "source": [
    "## K-Means"
   ]
  },
  {
   "cell_type": "code",
   "execution_count": null,
   "id": "6e24e29e",
   "metadata": {},
   "outputs": [],
   "source": [
    "%%time\n",
    "# elbow method for number of clusters\n",
    "\n",
    "X = df[[\"LINREFX\",\"LINREFY\"]]\n",
    "max_k = 100\n",
    "\n",
    "## iterations\n",
    "distortions = [] \n",
    "for i in range(1, max_k+1):\n",
    "    if len(X) >= i:\n",
    "        model= KMeans(n_clusters=i, init='k-means++', max_iter=300, n_init=10, random_state=0)\n",
    "        model.fit(X)\n",
    "        distortions.append(model.inertia_)\n",
    "\n",
    "## best k: the lowest derivative\n",
    "k = [i*100 for i in np.diff(distortions,2)].index(min([i*100 for i in np.diff(distortions,2)]))\n",
    "\n",
    "## plot\n",
    "fig, ax = plt.subplots()\n",
    "ax.plot(range(1, len(distortions)+1), distortions)\n",
    "ax.axvline(k, ls='--', color=\"red\", label=\"k = \"+str(k))\n",
    "ax.set(title='Elbow Method', xlabel='Number of clusters', \n",
    "       ylabel=\"Distortion\")\n",
    "ax.legend()\n",
    "ax.grid(True)\n",
    "plt.show()"
   ]
  },
  {
   "cell_type": "code",
   "execution_count": null,
   "id": "595d7e36",
   "metadata": {},
   "outputs": [],
   "source": [
    "%%time\n",
    "\n",
    "k = 2000\n",
    "model = KMeans(n_clusters=k, init='k-means++')\n",
    "X = df[[\"LINREFX\",\"LINREFY\"]]\n",
    "\n",
    "## clustering\n",
    "df_X = X.copy()\n",
    "df_X[\"cluster\"] = model.fit_predict(X)\n",
    "\n",
    "## find centroids (the datapoints closest to the center)\n",
    "closest, distances = scipy.cluster.vq.vq(model.cluster_centers_, \n",
    "                     df_X.drop(\"cluster\", axis=1).values)\n",
    "df_X[\"centroids\"] = 0\n",
    "for i in closest:\n",
    "    df_X[\"centroids\"].iloc[i] = 1\n",
    "    \n",
    "## add clustering info to the original dataset\n",
    "df[[\"cluster_km\",\"centroids_km\"]] = df_X[[\"cluster\",\"centroids\"]]\n",
    "df.sample(5)"
   ]
  },
  {
   "cell_type": "code",
   "execution_count": null,
   "id": "1e1615f5",
   "metadata": {},
   "outputs": [],
   "source": [
    "## plot\n",
    "fig, ax = plt.subplots()\n",
    "sns.scatterplot(x=\"LINREFX\", y=\"LINREFY\", data=df, \n",
    "                palette=sns.color_palette(\"bright\",k),\n",
    "                hue='cluster', size=\"centroids\", size_order=[1,0],\n",
    "                legend=False, ax=ax).set_title('Clustering(k='+str(k)+')')\n",
    "                                                 \n",
    "th_centroids = model.cluster_centers_\n",
    "ax.scatter(th_centroids[:,0], th_centroids[:,1], s=50, c='black', \n",
    "           marker=\"x\")"
   ]
  },
  {
   "cell_type": "code",
   "execution_count": null,
   "id": "96ef7059",
   "metadata": {},
   "outputs": [],
   "source": [
    "# df that contains only centroids for mappinig\n",
    "\n",
    "df_kmeans_cluster = df[df['centroids'] == 1]\n",
    "\n",
    "df_kmeans_cluster.head()"
   ]
  },
  {
   "cell_type": "markdown",
   "id": "bb812f0b",
   "metadata": {},
   "source": [
    "## Affinity propagation"
   ]
  },
  {
   "cell_type": "code",
   "execution_count": null,
   "id": "7f2d07a1",
   "metadata": {},
   "outputs": [],
   "source": [
    "%%time\n",
    "\n",
    "model = AffinityPropagation()\n",
    "X = df[[\"LINREFX\",\"LINREFY\"]]\n",
    "\n",
    "## clustering\n",
    "df_X = X.copy()\n",
    "df_X[\"cluster\"] = model.fit_predict(X)\n",
    "\n",
    "## find real centroids\n",
    "closest, distances = scipy.cluster.vq.vq(model.cluster_centers_, \n",
    "                     df_X.drop(\"cluster\", axis=1).values)\n",
    "df_X[\"centroids\"] = 0\n",
    "for i in closest:\n",
    "    df_X[\"centroids\"].iloc[i] = 1\n",
    "    \n",
    "## add clustering info to the original dataset\n",
    "df[[\"cluster_ap\",\"centroids_ap\"]] = df_X[[\"cluster\",\"centroids\"]]\n",
    "df.sample(5)"
   ]
  },
  {
   "cell_type": "code",
   "execution_count": null,
   "id": "51317412",
   "metadata": {},
   "outputs": [],
   "source": [
    "#model = AffinityPropagation()"
   ]
  },
  {
   "cell_type": "code",
   "execution_count": null,
   "id": "bd601423",
   "metadata": {},
   "outputs": [],
   "source": [
    "#model, dtf_X = fit_ml_cluster(X=df[[\"XGCSWGS84\",\"YGCSWGS84\"]], model=model, figsize=(10,5))"
   ]
  },
  {
   "cell_type": "code",
   "execution_count": null,
   "id": "d76c8fbb",
   "metadata": {},
   "outputs": [],
   "source": [
    "'''\n",
    "## plot\n",
    "fig, ax = plt.subplots()\n",
    "sns.scatterplot(x=\"LINREFX\", y=\"LINREFY\", data=df, \n",
    "                palette=sns.color_palette(\"bright\",k),\n",
    "                hue='cluster', size=\"centroids\", size_order=[1,0],\n",
    "                legend=False, ax=ax).set_title('Clustering(k='+str(k)+')')\n",
    "                                                 \n",
    "th_centroids = model.cluster_centers_\n",
    "ax.scatter(th_centroids[:,0], th_centroids[:,1], s=50, c='black', \n",
    "           marker=\"x\")\n",
    "''';"
   ]
  },
  {
   "cell_type": "markdown",
   "id": "a62462ab",
   "metadata": {},
   "source": [
    "## DBSCAN"
   ]
  },
  {
   "cell_type": "code",
   "execution_count": null,
   "id": "0ab96bfd",
   "metadata": {},
   "outputs": [],
   "source": [
    "# find clusters using DB_SCAN (density based)\n",
    "\n",
    "\n"
   ]
  },
  {
   "cell_type": "code",
   "execution_count": 7,
   "id": "bb92ae2a",
   "metadata": {},
   "outputs": [],
   "source": [
    "# create_radian_columns(df):\n",
    "\n",
    "df['rad_lng'] = np.radians(df['XGCSWGS84'].values)\n",
    "df['rad_lat'] = np.radians(df['YGCSWGS84'].values)"
   ]
  },
  {
   "cell_type": "code",
   "execution_count": 13,
   "id": "8ee3d8d8",
   "metadata": {},
   "outputs": [
    {
     "data": {
      "text/plain": [
       "array([ -1,   0,   1, ..., 491,  -1,  -1])"
      ]
     },
     "execution_count": 13,
     "metadata": {},
     "output_type": "execute_result"
    }
   ],
   "source": [
    "# find clusters with DBSCAN:\n",
    "eps_in_meters=50\n",
    "num_samples = 5\n",
    "earth_perimeter = 40070000.0  # In meters\n",
    "eps_in_radians = eps_in_meters / earth_perimeter * (2 * math.pi)\n",
    "db_scan = DBSCAN(eps=eps_in_radians, min_samples=num_samples, metric='haversine')\n",
    "db_scan.fit_predict(df[['rad_lat', 'rad_lng']])"
   ]
  },
  {
   "cell_type": "code",
   "execution_count": null,
   "id": "44b057fe",
   "metadata": {},
   "outputs": [],
   "source": [
    "def buffer_in_meters(lng, lat, radius):\n",
    "    proj_meters = pyproj.Proj(init='epsg:3857')\n",
    "    proj_latlng = pyproj.Proj(init='epsg:4326')\n",
    "\n",
    "    project_to_meters = partial(pyproj.transform, proj_latlng, proj_meters)\n",
    "    project_to_latlng = partial(pyproj.transform, proj_meters, proj_latlng)\n",
    "\n",
    "    pt_latlng = Point(lng, lat)\n",
    "    pt_meters = transform(project_to_meters, pt_latlng)\n",
    "\n",
    "    buffer_meters = pt_meters.buffer(radius)\n",
    "    buffer_latlng = transform(project_to_latlng, buffer_meters)\n",
    "    return buffer_latlng"
   ]
  },
  {
   "cell_type": "code",
   "execution_count": null,
   "id": "74b3851d",
   "metadata": {},
   "outputs": [],
   "source": [
    "def create_point(row):\n",
    "    return Point(row['Longitude'], row['Latitude'])"
   ]
  },
  {
   "cell_type": "code",
   "execution_count": null,
   "id": "c1633ce5",
   "metadata": {},
   "outputs": [],
   "source": [
    "def write_line_string(file_name, hull):\n",
    "    with open(\"data/out/{0}.csv\".format(file_name), \"w\") as file:\n",
    "        file.write('\\\"line\\\"\\n')\n",
    "        text = hull.wkt\n",
    "        file.write('\\\"' + text + '\\\"\\n')"
   ]
  },
  {
   "cell_type": "code",
   "execution_count": 14,
   "id": "1eaa35eb",
   "metadata": {},
   "outputs": [],
   "source": [
    "def generate_blob_clusters(df, eps_in_meters=50):\n",
    "    # Group the observations by cluster identifier\n",
    "    groups = df.groupby('Cluster')\n",
    "    clusters = list()\n",
    "    blobs = list()\n",
    "    counts = list()\n",
    "    \n",
    "        for cluster_id, points in groups:\n",
    "        if cluster_id >= 0:\n",
    "            buffer_radius = eps_in_meters * 0.6\n",
    "            buffers = [buffer_in_meters(lon, lat, buffer_radius)\n",
    "                       for lon, lat in zip(points['Longitude'], points['Latitude'])]\n",
    "            blob = cascaded_union(buffers)\n",
    "            blobs.append(blob)\n",
    "            clusters.append(cluster_id)\n",
    "            counts.append(len(points))\n",
    "            \n",
    "             # Create the GeoDataFrame from the cluster numbers and blobs\n",
    "    data = {'cluster': clusters, 'polygon': blobs, 'count': counts}\n",
    "\n",
    "    cluster_gdf = gpd.GeoDataFrame(pd.DataFrame(data), geometry='polygon')\n",
    "    cluster_gdf.crs = {'init': 'epsg:4326'}\n",
    "    return cluster_gdf"
   ]
  },
  {
   "cell_type": "code",
   "execution_count": null,
   "id": "4ef5d7c6",
   "metadata": {},
   "outputs": [],
   "source": [
    "def show_blob_map(data_frame):\n",
    "    gdf = generate_blob_clusters(data_frame)\n",
    "    ax = gdf.geometry.plot(linewidth=2.0, color='red', edgecolor='red', alpha=0.5)\n",
    "    mplleaflet.show(fig=ax.figure, tiles='cartodb_positron')"
   ]
  },
  {
   "cell_type": "code",
   "execution_count": null,
   "id": "cf7b3fb9",
   "metadata": {},
   "outputs": [],
   "source": [
    "def show_concave_hull_map(data_frame, buffer=20.0):\n",
    "    clusters = np.unique(data_frame['Cluster'].values)\n",
    "\n",
    "    polygons = list()\n",
    "    cluster_numbers = list()\n",
    "\n",
    "    for cluster in clusters:\n",
    "        # Filter out the cluster points\n",
    "        points_df = data_frame.loc[data_frame['Cluster'] == cluster, ['Longitude', 'Latitude']]\n",
    "\n",
    "        # Get the underlying numpy array\n",
    "        points = np.unique(points_df[['Longitude', 'Latitude']].values, axis=0)\n",
    "\n",
    "        print(\"Cluster {0}: ({1})\".format(cluster, points.shape[0]))\n",
    "\n",
    "        # Create the concave hull object\n",
    "        concave_hull = ConcaveHull(points)\n",
    "\n",
    "        # Calculate the concave hull array\n",
    "        hull_array = concave_hull.calculate()\n",
    "        if hull_array is not None:\n",
    "            hull = asPolygon(hull_array)\n",
    "            buffered_hull = concave_hull.buffer_in_meters(hull, buffer)\n",
    "\n",
    "            # write_line_string(\"simple/simple_hull_{0}\".format(cluster), hull)\n",
    "            # write_line_string(\"buffer/buffer_hull_{0}\".format(cluster), buffered_hull)\n",
    "\n",
    "            polygons.append(buffered_hull)\n",
    "            cluster_numbers.append(cluster)\n",
    "        else:\n",
    "            print(\"Failed to create concave hull for cluster {0}\".format(cluster))\n",
    "            arr = np.unique(data_frame.loc[data_frame['Cluster'] == cluster, ['Longitude', 'Latitude']].values,\n",
    "                            axis=0)\n",
    "            df = pd.DataFrame(data=arr, columns=['Longitude', 'Latitude'])\n",
    "            df['Index'] = np.arange(df['Longitude'].count())\n",
    "            df.to_csv(\"data/out/failed/failed_hull_{0}.csv\".format(cluster), index=False)\n",
    "\n",
    "    # Create a pandas data frame to store the concave hull polygons\n",
    "    polygon_df = pd.DataFrame.from_dict(data={'cluster': cluster_numbers, 'polygon': polygons})\n",
    "    # polygon_df.to_csv(\"data/out/final_clusters.csv\", index=False, quoting=csv.QUOTE_NONNUMERIC)\n",
    "\n",
    "    # Create the GeoPandas data frame to display on the map\n",
    "    polygon_gdf = gpd.GeoDataFrame(polygon_df, geometry='polygon')\n",
    "    polygon_gdf.crs = {'init': 'epsg:4326'}\n",
    "\n",
    "    ax = polygon_gdf.geometry.plot(linewidth=2.0, color='red', edgecolor='red', alpha=0.5)\n",
    "    mplleaflet.show(fig=ax.figure, tiles='cartodb_positron')\n"
   ]
  },
  {
   "cell_type": "code",
   "execution_count": null,
   "id": "ab4483b7",
   "metadata": {},
   "outputs": [],
   "source": [
    "def run():\n",
    "    if os.path.exists('data/cluster_points.csv'):\n",
    "        cluster_points = pd.read_csv('data/cluster_points.csv')\n",
    "    else:\n",
    "        uk_acc = load_data()\n",
    "        uk_acc = cleanup_dataframe(uk_acc)\n",
    "        uk_acc = create_radian_columns(uk_acc)\n",
    "        uk_acc['Cluster'] = cluster_accidents(uk_acc, eps_in_meters=25)\n",
    "\n",
    "        # Filter out the noise points and retain only the clusters\n",
    "        cluster_points = uk_acc.loc[uk_acc['Cluster'] > -1, ['Cluster', 'Latitude', 'Longitude']]\n",
    "\n",
    "        # Write the cluster points to a csv file\n",
    "        cluster_points.to_csv(\"data/cluster_points.csv\", index=False)\n",
    "\n",
    "    # Display the blob map\n",
    "    show_blob_map(cluster_points)\n",
    "\n",
    "    # Display the concave hull map\n",
    "    show_concave_hull_map(cluster_points)\n",
    "\n",
    "\n",
    "if __name__ == \"__main__\":\n",
    "    run()"
   ]
  },
  {
   "cell_type": "code",
   "execution_count": null,
   "id": "7b2306f2",
   "metadata": {},
   "outputs": [],
   "source": []
  },
  {
   "cell_type": "code",
   "execution_count": null,
   "id": "f4735aa5",
   "metadata": {},
   "outputs": [],
   "source": []
  },
  {
   "cell_type": "code",
   "execution_count": null,
   "id": "2ad801db",
   "metadata": {},
   "outputs": [],
   "source": []
  },
  {
   "cell_type": "code",
   "execution_count": null,
   "id": "f2b2145e",
   "metadata": {},
   "outputs": [],
   "source": []
  },
  {
   "cell_type": "markdown",
   "id": "2d11fe6a",
   "metadata": {},
   "source": [
    "## SOMs"
   ]
  },
  {
   "cell_type": "code",
   "execution_count": null,
   "id": "bf901ba9",
   "metadata": {},
   "outputs": [],
   "source": [
    "# find clusters using SOMs (self organizing maps)\n",
    "\n",
    "X = df[[\"XGCSWGS84\",\"YGCSWGS84\"]]\n",
    "map_shape = (4,4)\n",
    "\n",
    "\n",
    "model = minisom.MiniSom(x=map_shape[0], y=map_shape[1], \n",
    "                        input_len=X.shape[1])\n",
    "model.train_batch(X, num_iteration=100, verbose=1)\n",
    "\n",
    "## build output dataframe\n",
    "dtf_X = X.copy()\n",
    "dtf_X[\"cluster\"] = np.ravel_multi_index(np.array(\n",
    "      [model.winner(x) for x in X_preprocessed]).T, dims=map_shape)## find real centroids\n",
    "cluster_centers = np.array([vec for center in model.get_weights() \n",
    "                            for vec in center])closest, distances = scipy.cluster.vq.vq(model.cluster_centers_, \n",
    "                                         X_preprocessed)\n",
    "dtf_X[\"centroids\"] = 0\n",
    "for i in closest:\n",
    "    dtf_X[\"centroids\"].iloc[i] = 1## add clustering info to the original dataset\n",
    "dtf[[\"cluster\",\"centroids\"]] = dtf_X[[\"cluster\",\"centroids\"]]## plot\n",
    "k = dtf[\"cluster\"].nunique()fig, ax = plt.subplots()\n",
    "sns.scatterplot(x=\"Latitude\", y=\"Longitude\", data=dtf, \n",
    "                palette=sns.color_palette(\"bright\",k),\n",
    "                hue='cluster', size=\"centroids\", size_order=[1,0],\n",
    "                legend=\"brief\", ax=ax).set_title('Clustering \n",
    "                (k='+str(k)+')')th_centroids = scaler.inverse_transform(cluster_centers)\n",
    "ax.scatter(th_centroids[:,0], th_centroids[:,1], s=50, c='black', \n",
    "           marker=\"x\")"
   ]
  }
 ],
 "metadata": {
  "kernelspec": {
   "display_name": "Python 3 (ipykernel)",
   "language": "python",
   "name": "python3"
  },
  "language_info": {
   "codemirror_mode": {
    "name": "ipython",
    "version": 3
   },
   "file_extension": ".py",
   "mimetype": "text/x-python",
   "name": "python",
   "nbconvert_exporter": "python",
   "pygments_lexer": "ipython3",
   "version": "3.8.12"
  },
  "toc": {
   "base_numbering": 1,
   "nav_menu": {},
   "number_sections": true,
   "sideBar": true,
   "skip_h1_title": false,
   "title_cell": "Table of Contents",
   "title_sidebar": "Contents",
   "toc_cell": false,
   "toc_position": {},
   "toc_section_display": true,
   "toc_window_display": false
  }
 },
 "nbformat": 4,
 "nbformat_minor": 5
}
